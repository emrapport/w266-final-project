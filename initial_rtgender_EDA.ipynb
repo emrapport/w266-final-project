{
 "cells": [
  {
   "cell_type": "code",
   "execution_count": 1,
   "metadata": {},
   "outputs": [],
   "source": [
    "import pandas as pd\n",
    "import numpy as np\n",
    "import matplotlib.pyplot as plt"
   ]
  },
  {
   "cell_type": "code",
   "execution_count": 2,
   "metadata": {},
   "outputs": [],
   "source": [
    "posts = \"data//facebook_congress_posts.csv\"\n",
    "responses = \"data//facebook_congress_responses.csv\""
   ]
  },
  {
   "cell_type": "code",
   "execution_count": 3,
   "metadata": {},
   "outputs": [],
   "source": [
    "postsDf = pd.read_csv(posts)"
   ]
  },
  {
   "cell_type": "code",
   "execution_count": 4,
   "metadata": {},
   "outputs": [],
   "source": [
    "responsesDf = pd.read_csv(responses)"
   ]
  },
  {
   "cell_type": "markdown",
   "metadata": {},
   "source": [
    "## Basic value counts"
   ]
  },
  {
   "cell_type": "code",
   "execution_count": 5,
   "metadata": {},
   "outputs": [
    {
     "data": {
      "text/html": [
       "<div>\n",
       "<style scoped>\n",
       "    .dataframe tbody tr th:only-of-type {\n",
       "        vertical-align: middle;\n",
       "    }\n",
       "\n",
       "    .dataframe tbody tr th {\n",
       "        vertical-align: top;\n",
       "    }\n",
       "\n",
       "    .dataframe thead th {\n",
       "        text-align: right;\n",
       "    }\n",
       "</style>\n",
       "<table border=\"1\" class=\"dataframe\">\n",
       "  <thead>\n",
       "    <tr style=\"text-align: right;\">\n",
       "      <th></th>\n",
       "      <th>op_id</th>\n",
       "      <th>op_gender</th>\n",
       "      <th>post_id</th>\n",
       "      <th>post_text</th>\n",
       "      <th>post_type</th>\n",
       "    </tr>\n",
       "  </thead>\n",
       "  <tbody>\n",
       "    <tr>\n",
       "      <th>0</th>\n",
       "      <td>57265377</td>\n",
       "      <td>M</td>\n",
       "      <td>0</td>\n",
       "      <td>Yesterday, my colleagues and I voted to protec...</td>\n",
       "      <td>video</td>\n",
       "    </tr>\n",
       "    <tr>\n",
       "      <th>1</th>\n",
       "      <td>57265377</td>\n",
       "      <td>M</td>\n",
       "      <td>1</td>\n",
       "      <td>Roses are red...and so is Texas. Let's keep it...</td>\n",
       "      <td>video</td>\n",
       "    </tr>\n",
       "    <tr>\n",
       "      <th>2</th>\n",
       "      <td>57265377</td>\n",
       "      <td>M</td>\n",
       "      <td>2</td>\n",
       "      <td>#TBT to this classic video. #DonkeyWhisperer</td>\n",
       "      <td>video</td>\n",
       "    </tr>\n",
       "    <tr>\n",
       "      <th>3</th>\n",
       "      <td>57265377</td>\n",
       "      <td>M</td>\n",
       "      <td>3</td>\n",
       "      <td>Since President Donald J. Trump was sworn in o...</td>\n",
       "      <td>video</td>\n",
       "    </tr>\n",
       "    <tr>\n",
       "      <th>4</th>\n",
       "      <td>57265377</td>\n",
       "      <td>M</td>\n",
       "      <td>4</td>\n",
       "      <td>Remembering our 40th president today. LIKE to ...</td>\n",
       "      <td>video</td>\n",
       "    </tr>\n",
       "  </tbody>\n",
       "</table>\n",
       "</div>"
      ],
      "text/plain": [
       "      op_id op_gender  post_id  \\\n",
       "0  57265377         M        0   \n",
       "1  57265377         M        1   \n",
       "2  57265377         M        2   \n",
       "3  57265377         M        3   \n",
       "4  57265377         M        4   \n",
       "\n",
       "                                           post_text post_type  \n",
       "0  Yesterday, my colleagues and I voted to protec...     video  \n",
       "1  Roses are red...and so is Texas. Let's keep it...     video  \n",
       "2       #TBT to this classic video. #DonkeyWhisperer     video  \n",
       "3  Since President Donald J. Trump was sworn in o...     video  \n",
       "4  Remembering our 40th president today. LIKE to ...     video  "
      ]
     },
     "execution_count": 5,
     "metadata": {},
     "output_type": "execute_result"
    }
   ],
   "source": [
    "postsDf.head()"
   ]
  },
  {
   "cell_type": "code",
   "execution_count": 8,
   "metadata": {},
   "outputs": [
    {
     "data": {
      "text/plain": [
       "548341"
      ]
     },
     "execution_count": 8,
     "metadata": {},
     "output_type": "execute_result"
    }
   ],
   "source": [
    "# this is the number of unique posts\n",
    "# not all the posts necessarily have responses \n",
    "postsDf['post_id'].nunique()"
   ]
  },
  {
   "cell_type": "code",
   "execution_count": 9,
   "metadata": {},
   "outputs": [
    {
     "data": {
      "text/plain": [
       "link      210499\n",
       "photo     199123\n",
       "status     87921\n",
       "video      46842\n",
       "event       3417\n",
       "music        278\n",
       "note         261\n",
       "Name: post_type, dtype: int64"
      ]
     },
     "execution_count": 9,
     "metadata": {},
     "output_type": "execute_result"
    }
   ],
   "source": [
    "#occurrences of each post type\n",
    "postsDf['post_type'].value_counts()"
   ]
  },
  {
   "cell_type": "code",
   "execution_count": 10,
   "metadata": {},
   "outputs": [
    {
     "data": {
      "text/html": [
       "<div>\n",
       "<style scoped>\n",
       "    .dataframe tbody tr th:only-of-type {\n",
       "        vertical-align: middle;\n",
       "    }\n",
       "\n",
       "    .dataframe tbody tr th {\n",
       "        vertical-align: top;\n",
       "    }\n",
       "\n",
       "    .dataframe thead th {\n",
       "        text-align: right;\n",
       "    }\n",
       "</style>\n",
       "<table border=\"1\" class=\"dataframe\">\n",
       "  <thead>\n",
       "    <tr style=\"text-align: right;\">\n",
       "      <th></th>\n",
       "      <th>op_id</th>\n",
       "      <th>op_gender</th>\n",
       "      <th>post_id</th>\n",
       "      <th>responder_id</th>\n",
       "      <th>response_text</th>\n",
       "      <th>op_name</th>\n",
       "      <th>op_category</th>\n",
       "    </tr>\n",
       "  </thead>\n",
       "  <tbody>\n",
       "    <tr>\n",
       "      <th>0</th>\n",
       "      <td>57265377</td>\n",
       "      <td>M</td>\n",
       "      <td>0</td>\n",
       "      <td>Jerry</td>\n",
       "      <td>Protecting birth is not the same as protecting...</td>\n",
       "      <td>Roger Williams</td>\n",
       "      <td>Congress_Republican</td>\n",
       "    </tr>\n",
       "    <tr>\n",
       "      <th>1</th>\n",
       "      <td>57265377</td>\n",
       "      <td>M</td>\n",
       "      <td>0</td>\n",
       "      <td>Andrea</td>\n",
       "      <td>You need to protect children and leave my body...</td>\n",
       "      <td>Roger Williams</td>\n",
       "      <td>Congress_Republican</td>\n",
       "    </tr>\n",
       "    <tr>\n",
       "      <th>2</th>\n",
       "      <td>57265377</td>\n",
       "      <td>M</td>\n",
       "      <td>0</td>\n",
       "      <td>Sherry</td>\n",
       "      <td>Thank you</td>\n",
       "      <td>Roger Williams</td>\n",
       "      <td>Congress_Republican</td>\n",
       "    </tr>\n",
       "    <tr>\n",
       "      <th>3</th>\n",
       "      <td>57265377</td>\n",
       "      <td>M</td>\n",
       "      <td>0</td>\n",
       "      <td>Bob</td>\n",
       "      <td>Thank you Roger</td>\n",
       "      <td>Roger Williams</td>\n",
       "      <td>Congress_Republican</td>\n",
       "    </tr>\n",
       "    <tr>\n",
       "      <th>4</th>\n",
       "      <td>57265377</td>\n",
       "      <td>M</td>\n",
       "      <td>0</td>\n",
       "      <td>Joy</td>\n",
       "      <td>Unwanted pregnancy is a sad and unfortunate si...</td>\n",
       "      <td>Roger Williams</td>\n",
       "      <td>Congress_Republican</td>\n",
       "    </tr>\n",
       "  </tbody>\n",
       "</table>\n",
       "</div>"
      ],
      "text/plain": [
       "      op_id op_gender  post_id responder_id  \\\n",
       "0  57265377         M        0        Jerry   \n",
       "1  57265377         M        0       Andrea   \n",
       "2  57265377         M        0       Sherry   \n",
       "3  57265377         M        0          Bob   \n",
       "4  57265377         M        0          Joy   \n",
       "\n",
       "                                       response_text         op_name  \\\n",
       "0  Protecting birth is not the same as protecting...  Roger Williams   \n",
       "1  You need to protect children and leave my body...  Roger Williams   \n",
       "2                                          Thank you  Roger Williams   \n",
       "3                                    Thank you Roger  Roger Williams   \n",
       "4  Unwanted pregnancy is a sad and unfortunate si...  Roger Williams   \n",
       "\n",
       "           op_category  \n",
       "0  Congress_Republican  \n",
       "1  Congress_Republican  \n",
       "2  Congress_Republican  \n",
       "3  Congress_Republican  \n",
       "4  Congress_Republican  "
      ]
     },
     "execution_count": 10,
     "metadata": {},
     "output_type": "execute_result"
    }
   ],
   "source": [
    "responsesDf.head()"
   ]
  },
  {
   "cell_type": "code",
   "execution_count": 11,
   "metadata": {},
   "outputs": [
    {
     "data": {
      "text/plain": [
       "(13866507, 7)"
      ]
     },
     "execution_count": 11,
     "metadata": {},
     "output_type": "execute_result"
    }
   ],
   "source": [
    "responsesDf.shape"
   ]
  },
  {
   "cell_type": "code",
   "execution_count": 14,
   "metadata": {},
   "outputs": [
    {
     "data": {
      "text/plain": [
       "402"
      ]
     },
     "execution_count": 14,
     "metadata": {},
     "output_type": "execute_result"
    }
   ],
   "source": [
    "#number of unique congress members \n",
    "len(responsesDf['op_id'].unique())"
   ]
  },
  {
   "cell_type": "code",
   "execution_count": 16,
   "metadata": {},
   "outputs": [
    {
     "data": {
      "text/plain": [
       "M    306\n",
       "W     96\n",
       "Name: op_gender, dtype: int64"
      ]
     },
     "execution_count": 16,
     "metadata": {},
     "output_type": "execute_result"
    }
   ],
   "source": [
    "# number of male and female congresspeople in the data set \n",
    "unique_congresspeople = responsesDf.drop_duplicates('op_name')\n",
    "unique_congresspeople.op_gender.value_counts()"
   ]
  },
  {
   "cell_type": "code",
   "execution_count": 17,
   "metadata": {},
   "outputs": [],
   "source": [
    "# TODO: change this merge so that we ONLY get the names, not all the other stuff \n",
    "unique_congresspeople = unique_congresspeople.filter(items=['op_name', 'op_id'])\n",
    "postsDf = postsDf.merge(unique_congresspeople, how='left', on='op_id')\n",
    "grouped_posts = postsDf.groupby('op_id')"
   ]
  },
  {
   "cell_type": "code",
   "execution_count": 18,
   "metadata": {},
   "outputs": [
    {
     "name": "stdout",
     "output_type": "stream",
     "text": [
      "1\n",
      "0\n",
      "5\n"
     ]
    }
   ],
   "source": [
    "# gut check to be sure every op_id just lines up with one name\n",
    "# it looks like none of them have more than 1 name, but 5 of them are missing a name?\n",
    "# that seems like it needs to be cleaned up \n",
    "test = grouped_posts['op_name'].nunique()\n",
    "print(max(test))\n",
    "print(min(test))\n",
    "print(len([x for x in test if x==0]))"
   ]
  },
  {
   "cell_type": "code",
   "execution_count": 23,
   "metadata": {},
   "outputs": [
    {
     "data": {
      "text/plain": [
       "407"
      ]
     },
     "execution_count": 23,
     "metadata": {},
     "output_type": "execute_result"
    }
   ],
   "source": [
    "# this shows us that there are 5 more congressperson groups than we had names \n",
    "len(grouped_posts)"
   ]
  },
  {
   "cell_type": "markdown",
   "metadata": {},
   "source": [
    "### Cells for exploring unnamed congresspeople"
   ]
  },
  {
   "cell_type": "code",
   "execution_count": 25,
   "metadata": {},
   "outputs": [
    {
     "data": {
      "text/plain": [
       "42721680    2447\n",
       "44922372    1520\n",
       "54138093    1143\n",
       "96418867     100\n",
       "58288189       1\n",
       "Name: op_id, dtype: int64"
      ]
     },
     "execution_count": 25,
     "metadata": {},
     "output_type": "execute_result"
    }
   ],
   "source": [
    "postsDf[postsDf['op_name'].isnull()].op_id.value_counts()"
   ]
  },
  {
   "cell_type": "code",
   "execution_count": 54,
   "metadata": {},
   "outputs": [
    {
     "name": "stdout",
     "output_type": "stream",
     "text": [
      "Our veterans answered the call to serve our country, and when they return home it is our duty to serve them. The HIRE Vets Act and BRAVE Act will help us fulfill this commitment.\n",
      "\n",
      "Access to Medicaid is making a difference for New Mexicans like Elena. Read her story here:\n",
      "\n",
      "This evening, the House passed an important bill for our part of Texas and private landowners everywhere. The bill known as the \"Red River Gradient Boundary Survey Act,\" H.R. 428, which I introduced earlier this year, passed by a vote of 250-171.   This bill essentially requires the BLM to do what it should have done all along by establishing a fair and balanced process to conduct an accurate survey of contested land along the Red River to find the proper boundary between public and private ownership. Private property owners should never have to worry about the federal government coming in and taking away their land, especially land that has never been properly surveyed.   I will continue working with the landowners, local and state officials, and Senator Cornyn (R-TX) until this issue is resolved once and for all. You can watch my floor speech about the importance of this bill by clicking the picture below.\n",
      "\n",
      "A big storm is heading our way, and could hit Sunday or Monday.  If you haven't voted yet, I strongly encourage you to head to an early voting site and do it now. Central Florida locations are listed here on my website. Stay safe, and make sure your voice is heard in this critical primary election!\n",
      "\n",
      "My husband John and I (Muellerleile) are hosting an event benefitting Congressman Tim Walz on Tuesday, January 19 from 5:00-7:00 pm at Senior Place, 500 Dunnell Drive in Owatonna. We do hope many of you will be able to join us. Congressman Walz will be on hand throughout the evening. This is a wonderful opportunity to visit with Congressman Walz as well as hearing about the goings on in Congress. Please RSVP Kathy Muellerleile 507/451-9651\n"
     ]
    }
   ],
   "source": [
    "# googling some of these and playing around helped me figure out that one of the blank ids is Scott Tipton\n",
    "# we can probably use google to figure out the other ones too\n",
    "\n",
    "print(postsDf[postsDf['op_id']==42721680]['post_text'][224602])\n",
    "# according to Google, this was said by Scott Tipton\n",
    "\n",
    "print(\"\\n\" + postsDf[postsDf['op_id']==44922372]['post_text'][508441])\n",
    "# according to Google, this was said by Martin Heinrich\n",
    "\n",
    "print(\"\\n\" + postsDf[postsDf['op_id']==54138093]['post_text'][260136])\n",
    "# according to Google, this was said by Mac Thornberry\n",
    "\n",
    "print(\"\\n\" + postsDf[postsDf['op_id']==96418867]['post_text'][511455])\n",
    "# according to Google, this was said by Darren Soto\n",
    "\n",
    "print(\"\\n\" + postsDf[postsDf['op_id']==58288189]['post_text'][466543])\n",
    "# this one doesn't really seem like it was said by a real congressperson\n",
    "# we should remove it from the set"
   ]
  },
  {
   "cell_type": "code",
   "execution_count": 60,
   "metadata": {},
   "outputs": [
    {
     "name": "stdout",
     "output_type": "stream",
     "text": [
      "no matches found!\n"
     ]
    }
   ],
   "source": [
    "# confirm that none of the congress people we just identified are already in the original set\n",
    "all_congress_names = unique_congresspeople.op_name.values\n",
    "no_matches_found = True\n",
    "for name in ['Tipton', 'Thornberry', 'Heinrich', 'Soto']:\n",
    "    for confirmed_name in all_congress_names:\n",
    "        if name in confirmed_name:\n",
    "            print(\"Match found: {} and {}\".format(name, confirmed_name))\n",
    "            no_matches_found = False\n",
    "if no_matches_found:\n",
    "    print(\"no matches found!\")"
   ]
  },
  {
   "cell_type": "code",
   "execution_count": 65,
   "metadata": {},
   "outputs": [],
   "source": [
    "# add in all the correct names\n",
    "postsDf.loc[postsDf.op_id==42721680, 'op_name'] = 'Scott Tipton'\n",
    "postsDf.loc[postsDf.op_id==44922372, 'op_name'] = 'Martin Heinrich'\n",
    "postsDf.loc[postsDf.op_id==54138093, 'op_name'] = 'Mac Thornberry'\n",
    "postsDf.loc[postsDf.op_id==96418867, 'op_name'] = 'Darren Soto'"
   ]
  },
  {
   "cell_type": "code",
   "execution_count": 66,
   "metadata": {},
   "outputs": [
    {
     "data": {
      "text/html": [
       "<div>\n",
       "<style scoped>\n",
       "    .dataframe tbody tr th:only-of-type {\n",
       "        vertical-align: middle;\n",
       "    }\n",
       "\n",
       "    .dataframe tbody tr th {\n",
       "        vertical-align: top;\n",
       "    }\n",
       "\n",
       "    .dataframe thead th {\n",
       "        text-align: right;\n",
       "    }\n",
       "</style>\n",
       "<table border=\"1\" class=\"dataframe\">\n",
       "  <thead>\n",
       "    <tr style=\"text-align: right;\">\n",
       "      <th></th>\n",
       "      <th>op_id</th>\n",
       "      <th>op_gender</th>\n",
       "      <th>post_id</th>\n",
       "      <th>post_text</th>\n",
       "      <th>post_type</th>\n",
       "      <th>op_name</th>\n",
       "    </tr>\n",
       "  </thead>\n",
       "  <tbody>\n",
       "    <tr>\n",
       "      <th>466543</th>\n",
       "      <td>58288189</td>\n",
       "      <td>M</td>\n",
       "      <td>466543</td>\n",
       "      <td>My husband John and I (Muellerleile) are hosti...</td>\n",
       "      <td>status</td>\n",
       "      <td>NaN</td>\n",
       "    </tr>\n",
       "  </tbody>\n",
       "</table>\n",
       "</div>"
      ],
      "text/plain": [
       "           op_id op_gender  post_id  \\\n",
       "466543  58288189         M   466543   \n",
       "\n",
       "                                                post_text post_type op_name  \n",
       "466543  My husband John and I (Muellerleile) are hosti...    status     NaN  "
      ]
     },
     "execution_count": 66,
     "metadata": {},
     "output_type": "execute_result"
    }
   ],
   "source": [
    "# confirm - there should just be one now\n",
    "postsDf[postsDf['op_name'].isnull()]"
   ]
  },
  {
   "cell_type": "code",
   "execution_count": 68,
   "metadata": {},
   "outputs": [
    {
     "name": "stdout",
     "output_type": "stream",
     "text": [
      "(548341, 6)\n",
      "(548340, 6)\n"
     ]
    }
   ],
   "source": [
    "# drop the one\n",
    "print(postsDf.shape)\n",
    "postsDf = postsDf[~postsDf['op_name'].isnull()]\n",
    "print(postsDf.shape)"
   ]
  },
  {
   "cell_type": "code",
   "execution_count": 69,
   "metadata": {},
   "outputs": [
    {
     "data": {
      "text/plain": [
       "406"
      ]
     },
     "execution_count": 69,
     "metadata": {},
     "output_type": "execute_result"
    }
   ],
   "source": [
    "# remake the grouped df with these changes \n",
    "# there should be 406 groups now \n",
    "grouped_posts = postsDf.groupby('op_id')\n",
    "len(grouped_posts)"
   ]
  },
  {
   "cell_type": "code",
   "execution_count": 105,
   "metadata": {},
   "outputs": [
    {
     "name": "stdout",
     "output_type": "stream",
     "text": [
      "96\n"
     ]
    },
    {
     "data": {
      "text/plain": [
       "310"
      ]
     },
     "execution_count": 105,
     "metadata": {},
     "output_type": "execute_result"
    }
   ],
   "source": [
    "# make separate male and female grouped posts dfs\n",
    "f_grouped_posts=postsDf[postsDf['op_gender']=='W'].groupby('op_id')\n",
    "print(len(f_grouped_posts))\n",
    "m_grouped_posts=postsDf[postsDf['op_gender']=='M'].groupby('op_id')\n",
    "len(m_grouped_posts)"
   ]
  },
  {
   "cell_type": "markdown",
   "metadata": {},
   "source": [
    "## Overall Distributions"
   ]
  },
  {
   "cell_type": "markdown",
   "metadata": {},
   "source": [
    "### Number of Posts per Congress Member"
   ]
  },
  {
   "cell_type": "code",
   "execution_count": 84,
   "metadata": {},
   "outputs": [
    {
     "data": {
      "image/png": "[encoded data removed]",
      "text/plain": [
       "<Figure size 432x288 with 1 Axes>"
      ]
     },
     "metadata": {
      "needs_background": "light"
     },
     "output_type": "display_data"
    },
    {
     "data": {
      "text/plain": [
       "count     406.000000\n",
       "mean     1350.591133\n",
       "std       932.502864\n",
       "min         9.000000\n",
       "25%       639.250000\n",
       "50%      1211.000000\n",
       "75%      1855.250000\n",
       "max      4853.000000\n",
       "dtype: float64"
      ]
     },
     "execution_count": 84,
     "metadata": {},
     "output_type": "execute_result"
    }
   ],
   "source": [
    "# distribution of number of posts per congress person\n",
    "plt.hist(grouped_posts.size(), bins=20)\n",
    "plt.xlabel(\"Number of posts\")\n",
    "plt.ylabel(\"Number of congress members\")\n",
    "plt.title(\"Number of posts per Congress Member\")\n",
    "plt.show()\n",
    "\n",
    "grouped_posts.size().describe()"
   ]
  },
  {
   "cell_type": "code",
   "execution_count": 110,
   "metadata": {},
   "outputs": [
    {
     "data": {
      "image/png": "[encoded data removed]",
      "text/plain": [
       "<Figure size 432x288 with 1 Axes>"
      ]
     },
     "metadata": {
      "needs_background": "light"
     },
     "output_type": "display_data"
    }
   ],
   "source": [
    "plt.hist(m_grouped_posts.size(), bins=20, label='M')\n",
    "plt.hist(f_grouped_posts.size(), bins=20, label='F')\n",
    "plt.legend()\n",
    "plt.xlabel(\"Number of posts\")\n",
    "plt.ylabel(\"Number of congress members\")\n",
    "plt.title(\"Number of posts per Congress Member\")\n",
    "plt.show()"
   ]
  },
  {
   "cell_type": "code",
   "execution_count": 117,
   "metadata": {},
   "outputs": [
    {
     "name": "stdout",
     "output_type": "stream",
     "text": [
      "Male:\n",
      "\n",
      "count     310.000000\n",
      "mean     1332.290323\n",
      "std       940.403139\n",
      "min         9.000000\n",
      "25%       628.000000\n",
      "50%      1170.500000\n",
      "75%      1845.750000\n",
      "max      4853.000000\n",
      "dtype: float64\n",
      "\n",
      "Female:\n",
      "\n",
      "count      96.000000\n",
      "mean     1409.687500\n",
      "std       908.826361\n",
      "min        15.000000\n",
      "25%       736.250000\n",
      "50%      1289.000000\n",
      "75%      1937.000000\n",
      "max      3939.000000\n",
      "dtype: float64\n"
     ]
    }
   ],
   "source": [
    "print(\"Male:\\n\") \n",
    "print(m_grouped_posts.size().describe())\n",
    "print(\"\\nFemale:\\n\")\n",
    "print(f_grouped_posts.size().describe())"
   ]
  },
  {
   "cell_type": "markdown",
   "metadata": {},
   "source": [
    "**Finding**: While there are more male than female congresspeople, men and women have around the same number of posts on average, and the distributions of number of posts look pretty similar for men and women. "
   ]
  },
  {
   "cell_type": "markdown",
   "metadata": {},
   "source": [
    "### Number of Words Per Post"
   ]
  },
  {
   "cell_type": "code",
   "execution_count": 118,
   "metadata": {},
   "outputs": [],
   "source": [
    "# distribution of word counts of congresspeople's posts\n",
    "## TODO: make tokenization a little better here\n",
    "def get_word_count(row):\n",
    "    post = str(row['post_text'])\n",
    "    return len(post.split())\n",
    "\n",
    "postsDf['word_count'] = postsDf.apply(get_word_count, axis=1)"
   ]
  },
  {
   "cell_type": "code",
   "execution_count": 119,
   "metadata": {},
   "outputs": [
    {
     "data": {
      "text/plain": [
       "count    548340.000000\n",
       "mean         39.992273\n",
       "std          46.621883\n",
       "min           1.000000\n",
       "25%          16.000000\n",
       "50%          28.000000\n",
       "75%          51.000000\n",
       "max        3080.000000\n",
       "Name: word_count, dtype: float64"
      ]
     },
     "execution_count": 119,
     "metadata": {},
     "output_type": "execute_result"
    },
    {
     "data": {
      "image/png": "[encoded data removed]",
      "text/plain": [
       "<Figure size 432x288 with 1 Axes>"
      ]
     },
     "metadata": {
      "needs_background": "light"
     },
     "output_type": "display_data"
    }
   ],
   "source": [
    "#various views of post distribution \n",
    "plt.hist(postsDf['word_count'], range=(0,500), bins=20)\n",
    "plt.xlabel(\"Number of words\")\n",
    "plt.ylabel(\"Number of posts\")\n",
    "plt.title(\"Number of words per post\")\n",
    "\n",
    "postsDf['word_count'].describe()"
   ]
  },
  {
   "cell_type": "code",
   "execution_count": 120,
   "metadata": {},
   "outputs": [
    {
     "data": {
      "text/plain": [
       "Text(0.5, 1.0, 'Number of words per post')"
      ]
     },
     "execution_count": 120,
     "metadata": {},
     "output_type": "execute_result"
    },
    {
     "data": {
      "image/png": "[encoded data removed]",
      "text/plain": [
       "<Figure size 432x288 with 1 Axes>"
      ]
     },
     "metadata": {
      "needs_background": "light"
     },
     "output_type": "display_data"
    }
   ],
   "source": [
    "# very skewed data set. even though max is 3000ish, \n",
    "# most of the data is in this plot \n",
    "plt.hist(postsDf['word_count'], range=(0,100), bins=20)\n",
    "plt.xlabel(\"Number of words\")\n",
    "plt.ylabel(\"Number of posts\")\n",
    "plt.title(\"Number of words per post\")"
   ]
  },
  {
   "cell_type": "code",
   "execution_count": 127,
   "metadata": {},
   "outputs": [
    {
     "data": {
      "image/png": "[encoded data removed]",
      "text/plain": [
       "<Figure size 432x288 with 1 Axes>"
      ]
     },
     "metadata": {
      "needs_background": "light"
     },
     "output_type": "display_data"
    }
   ],
   "source": [
    "plt.hist(postsDf[postsDf.op_gender=='M']['word_count'], range=(0,100), bins=20, label='M')\n",
    "plt.hist(postsDf[postsDf.op_gender=='W']['word_count'], range=(0,100), bins=20, label='F')\n",
    "plt.legend()\n",
    "plt.xlabel(\"Number of words\")\n",
    "plt.ylabel(\"Number of posts\")\n",
    "plt.title(\"Number of words per post\")\n",
    "plt.show()"
   ]
  },
  {
   "cell_type": "code",
   "execution_count": 130,
   "metadata": {},
   "outputs": [
    {
     "name": "stdout",
     "output_type": "stream",
     "text": [
      "Male:\n",
      "\n",
      "count    413010.000000\n",
      "mean         39.314900\n",
      "std          46.849277\n",
      "min           1.000000\n",
      "25%          16.000000\n",
      "50%          28.000000\n",
      "75%          50.000000\n",
      "max        3080.000000\n",
      "Name: word_count, dtype: float64\n",
      "\n",
      "Female:\n",
      "\n",
      "count    135330.000000\n",
      "mean         42.059529\n",
      "std          45.859294\n",
      "min           1.000000\n",
      "25%          17.000000\n",
      "50%          30.000000\n",
      "75%          55.000000\n",
      "max        1989.000000\n",
      "Name: word_count, dtype: float64\n"
     ]
    }
   ],
   "source": [
    "print(\"Male:\\n\") \n",
    "print(postsDf[postsDf.op_gender=='M']['word_count'].describe())\n",
    "print(\"\\nFemale:\\n\")\n",
    "print(postsDf[postsDf.op_gender=='W']['word_count'].describe())"
   ]
  },
  {
   "cell_type": "markdown",
   "metadata": {},
   "source": [
    "**Finding**: While there are more male than female congresspeople, men and women have around the same average post word length, and the distributions of post word lengths look pretty similar for men and women. "
   ]
  },
  {
   "cell_type": "code",
   "execution_count": 121,
   "metadata": {},
   "outputs": [
    {
     "data": {
      "text/plain": [
       "1     43861\n",
       "19    12771\n",
       "20    12733\n",
       "18    12678\n",
       "21    12606\n",
       "17    12087\n",
       "22    11894\n",
       "16    11496\n",
       "23    11377\n",
       "15    10921\n",
       "Name: word_count, dtype: int64"
      ]
     },
     "execution_count": 121,
     "metadata": {},
     "output_type": "execute_result"
    }
   ],
   "source": [
    "## number of posts with 1 word, and other common numbers of words\n",
    "postsDf['word_count'].value_counts()[:10]"
   ]
  },
  {
   "cell_type": "code",
   "execution_count": 122,
   "metadata": {},
   "outputs": [
    {
     "data": {
      "text/plain": [
       "NaN                                                                                                                                                                                 38206\n",
       "»                                                                                                                                                                                     162\n",
       "ICYMI                                                                                                                                                                                  20\n",
       "http://majorityleader.gov/floor/weekly.html                                                                                                                                            17\n",
       "#NeverForget                                                                                                                                                                           14\n",
       "ICYMI:                                                                                                                                                                                 14\n",
       "www.alvarezevents.com                                                                                                                                                                  14\n",
       "#TBT                                                                                                                                                                                   14\n",
       "#DoYourJob                                                                                                                                                                             11\n",
       "www.chriscoons.com/vote                                                                                                                                                                11\n",
       "TX-02                                                                                                                                                                                   7\n",
       "#SOTU                                                                                                                                                                                   6\n",
       "#ThrowbackThursday                                                                                                                                                                      6\n",
       "photos                                                                                                                                                                                  5\n",
       "#az07                                                                                                                                                                                   5\n",
       "www.toomeyforsenate.com                                                                                                                                                                 4\n",
       "ICYMI...                                                                                                                                                                                4\n",
       "#MLKDay                                                                                                                                                                                 4\n",
       "#CPAC2016                                                                                                                                                                               4\n",
       "Interesting...                                                                                                                                                                          4\n",
       "www.BraleysObamacare.com                                                                                                                                                                4\n",
       "ICYMI-                                                                                                                                                                                  4\n",
       "#LSSC                                                                                                                                                                                   3\n",
       "#LoveWins                                                                                                                                                                               3\n",
       "Truth                                                                                                                                                                                   3\n",
       "#Castner4Ever                                                                                                                                                                           3\n",
       "#NoBanNoWall                                                                                                                                                                            3\n",
       "http://www.alfranken.com/index.php/splash/netneutrality                                                                                                                                 3\n",
       "Congrats!                                                                                                                                                                               3\n",
       "Victory!                                                                                                                                                                                3\n",
       "                                                                                                                                                                                    ...  \n",
       "http://www.dallasnews.com/business/energy/20150414-texas-lawmakers-lobby-to-end-ban-on-oil-exports.ece                                                                                  1\n",
       "#TaketheCrown                                                                                                                                                                           1\n",
       "http://www.youtube.com/watch?v=TItH4b0lEGQ                                                                                                                                              1\n",
       "http://www.bizjournals.com/sacramento/stories/2010/08/23/story6.html?t=printable                                                                                                        1\n",
       "http://thehill.com/blogs/hillicon-valley/technology/277233-poe-expects-judiciary-committee-will-act-to-limit-spying-by-drones                                                           1\n",
       "https://lawrence.house.gov/media-center/press-releases/lawrence-statement-dallas-shootings-and-deaths-alton-sterling-and                                                                1\n",
       "http://www.timesdispatch.com/news/local/government-politics/estimated-cost-of-medicaid-expansion-lowered/article_b092380c-8842-11e3-961b-001a4bcf6878.html?mode=jqm                     1\n",
       "http://www.californiawatch.org/watchblog/massive-increase-federal-spending-border-enforcement                                                                                           1\n",
       "http://blog.chron.com/txpotomac/2012/09/texas-republican-california-democrat-say-bipartisanship-is-not-dead/                                                                            1\n",
       "http://www.politico.com/news/stories/0210/32610.html                                                                                                                                    1\n",
       "http://www.thedailybeast.com/articles/2014/05/20/the-scandal-at-the-va-is-real-and-obama-is-ducking-it.html                                                                             1\n",
       "https://lawrence.house.gov/media-center/press-releases/media-advisory-tomorrow-congresswoman-brenda-lawrence-join-press                                                                 1\n",
       "http://thinkprogress.org/health/2013/03/10/1696781/women-republicans/?mobile=wt                                                                                                         1\n",
       "http://1.usa.gov/1tCRzcG                                                                                                                                                                1\n",
       "Winter                                                                                                                                                                                  1\n",
       "http://thehill.com/blogs/ballot-box/222486-cnn-polls-tight-races-in-nc-iowa                                                                                                             1\n",
       "http://www.washingtonpost.com/opinions/why-we-missed-the-oil-price-crash/2014/12/05/d1fbf552-7a57-11e4-9a27-6fdbc612bff8_story.html                                                     1\n",
       "http://security.blogs.cnn.com/2013/09/18/fbi-barred-from-making-benghazi-arrests-in-libya/?hpt=hp_t3                                                                                    1\n",
       "http://www.golocalprov.com/news/new-cicilline-recognizes-40th-anniversary-of-title-ix/                                                                                                  1\n",
       "http://www.youtube.com/watch?v=L6u7wibYXdg                                                                                                                                              1\n",
       "http://swacgirl.blogspot.com/2009/11/live-blogging-from-marriott-with-gop-14.html                                                                                                       1\n",
       "http://fortenberry.house.gov/index.php?option=com_content&view=article&id=3509:kscj-radio-interview-with-sam-clovis-on-budget-situation&catid=76:in-the-news&Itemid=2                   1\n",
       "http://thehill.com/blogs/blog-briefing-room/news/287155-cummings-on-advice-for-young-black-male-hes-going-to-have-a-lot-of-barriers                                                     1\n",
       "http://www.huffingtonpost.com/2013/09/04/syria-intervention_n_3869309.html                                                                                                              1\n",
       "http://www.youtube.com/watch?v=rSlABmQDBS4&feature=youtu.be                                                                                                                             1\n",
       "www.dems.gov/timeisnow/                                                                                                                                                                 1\n",
       "http://lewisshepherd.wordpress.com/2009/10/24/stop-by-tuesday-for-dinner-or-a-drink-with-a-great-guy/                                                                                   1\n",
       "http://www.timesdispatch.com/news/state-regional/warner-kaine-vote-against-reid-to-lead-senate-democrats/article_cba62b77-c23c-53e0-8066-0f73e98a8dc9.html?_dc=705399803817.2722        1\n",
       "http://hamptonroads.com/2015/05/presidential-spotlight-soon-coming-virginia                                                                                                             1\n",
       "http://mobile.nytimes.com/2016/12/02/opinion/seduced-and-betrayed-by-donald-trump.html?smprod=nytcore-iphone&smid=nytcore-iphone-share&_r=0&referer=                                    1\n",
       "Name: post_text, Length: 5239, dtype: int64"
      ]
     },
     "execution_count": 122,
     "metadata": {},
     "output_type": "execute_result"
    }
   ],
   "source": [
    "# exploration of the 1-word posts: many are NaN (presumably they only have a video, or some other media)\n",
    "# some are hashtags or links \n",
    "postsDf[postsDf['word_count']==1]['post_text'].value_counts(dropna=False)"
   ]
  },
  {
   "cell_type": "code",
   "execution_count": null,
   "metadata": {},
   "outputs": [],
   "source": []
  },
  {
   "cell_type": "markdown",
   "metadata": {},
   "source": [
    "### Number of Responses Per Post"
   ]
  },
  {
   "cell_type": "code",
   "execution_count": 139,
   "metadata": {},
   "outputs": [],
   "source": [
    "responses_grouped_by_post = responsesDf.groupby('post_id')"
   ]
  },
  {
   "cell_type": "code",
   "execution_count": 195,
   "metadata": {},
   "outputs": [],
   "source": [
    "m_responses_grouped_by_post = responsesDf[responsesDf['op_gender']=='M'].groupby('post_id')\n",
    "f_responses_grouped_by_post = responsesDf[responsesDf['op_gender']=='W'].groupby('post_id')"
   ]
  },
  {
   "cell_type": "code",
   "execution_count": 196,
   "metadata": {},
   "outputs": [
    {
     "data": {
      "text/plain": [
       "Text(0.5, 1.0, 'Number of responses per post')"
      ]
     },
     "execution_count": 196,
     "metadata": {},
     "output_type": "execute_result"
    },
    {
     "data": {
      "image/png": "[encoded data removed]",
      "text/plain": [
       "<Figure size 432x288 with 1 Axes>"
      ]
     },
     "metadata": {
      "needs_background": "light"
     },
     "output_type": "display_data"
    }
   ],
   "source": [
    "plt.hist(responses_grouped_by_post.size(), range=(0,100))\n",
    "plt.xlabel(\"Number of responses\")\n",
    "plt.ylabel(\"Number of original posts\")\n",
    "plt.title(\"Number of responses per post\")"
   ]
  },
  {
   "cell_type": "code",
   "execution_count": 143,
   "metadata": {
    "scrolled": true
   },
   "outputs": [
    {
     "data": {
      "text/plain": [
       "count    399037.000000\n",
       "mean         34.749928\n",
       "std         352.767084\n",
       "min           1.000000\n",
       "25%           2.000000\n",
       "50%           6.000000\n",
       "75%          20.000000\n",
       "max      157366.000000\n",
       "dtype: float64"
      ]
     },
     "execution_count": 143,
     "metadata": {},
     "output_type": "execute_result"
    }
   ],
   "source": [
    "# there are relatively few responses per post, with a long tail \n",
    "# (standard deviation is way higher than the mean )\n",
    "responses_grouped_by_post.size().describe()"
   ]
  },
  {
   "cell_type": "code",
   "execution_count": 197,
   "metadata": {},
   "outputs": [
    {
     "data": {
      "image/png": "[encoded data removed]",
      "text/plain": [
       "<Figure size 432x288 with 1 Axes>"
      ]
     },
     "metadata": {
      "needs_background": "light"
     },
     "output_type": "display_data"
    }
   ],
   "source": [
    "plt.hist(m_responses_grouped_by_post.size(), range=(0,100), bins=20, label='M')\n",
    "plt.hist(f_responses_grouped_by_post.size(), range=(0,100), bins=20, label='F')\n",
    "plt.legend()\n",
    "plt.xlabel(\"Number of responses\")\n",
    "plt.ylabel(\"Number of original posts\")\n",
    "plt.title(\"Number of responses per post\")\n",
    "plt.show()"
   ]
  },
  {
   "cell_type": "code",
   "execution_count": 199,
   "metadata": {},
   "outputs": [
    {
     "name": "stdout",
     "output_type": "stream",
     "text": [
      "Male:\n",
      "\n",
      "count    299324.000000\n",
      "mean         34.769267\n",
      "std         373.354449\n",
      "min           1.000000\n",
      "25%           2.000000\n",
      "50%           6.000000\n",
      "75%          19.000000\n",
      "max      157366.000000\n",
      "dtype: float64\n",
      "\n",
      "Female:\n",
      "\n",
      "count    99713.000000\n",
      "mean        34.691876\n",
      "std        282.083385\n",
      "min          1.000000\n",
      "25%          2.000000\n",
      "50%          7.000000\n",
      "75%         21.000000\n",
      "max      59020.000000\n",
      "dtype: float64\n"
     ]
    }
   ],
   "source": [
    "print(\"Male:\\n\")\n",
    "print(m_responses_grouped_by_post.size().describe())\n",
    "print(\"\\nFemale:\\n\")\n",
    "print(f_responses_grouped_by_post.size().describe())"
   ]
  },
  {
   "cell_type": "markdown",
   "metadata": {},
   "source": [
    "**Findings**: Once again, remarkable parity between men and women here in terms of the distribution of number of responses per post. "
   ]
  },
  {
   "cell_type": "code",
   "execution_count": 173,
   "metadata": {},
   "outputs": [
    {
     "data": {
      "text/html": [
       "<div>\n",
       "<style scoped>\n",
       "    .dataframe tbody tr th:only-of-type {\n",
       "        vertical-align: middle;\n",
       "    }\n",
       "\n",
       "    .dataframe tbody tr th {\n",
       "        vertical-align: top;\n",
       "    }\n",
       "\n",
       "    .dataframe thead th {\n",
       "        text-align: right;\n",
       "    }\n",
       "</style>\n",
       "<table border=\"1\" class=\"dataframe\">\n",
       "  <thead>\n",
       "    <tr style=\"text-align: right;\">\n",
       "      <th></th>\n",
       "      <th>post_id</th>\n",
       "      <th>num_responses</th>\n",
       "      <th>op_id</th>\n",
       "      <th>op_gender</th>\n",
       "      <th>post_text</th>\n",
       "      <th>post_type</th>\n",
       "      <th>op_name</th>\n",
       "      <th>word_count</th>\n",
       "    </tr>\n",
       "  </thead>\n",
       "  <tbody>\n",
       "    <tr>\n",
       "      <th>0</th>\n",
       "      <td>0</td>\n",
       "      <td>13</td>\n",
       "      <td>57265377</td>\n",
       "      <td>M</td>\n",
       "      <td>Yesterday, my colleagues and I voted to protec...</td>\n",
       "      <td>video</td>\n",
       "      <td>Roger Williams</td>\n",
       "      <td>32</td>\n",
       "    </tr>\n",
       "    <tr>\n",
       "      <th>1</th>\n",
       "      <td>1</td>\n",
       "      <td>30</td>\n",
       "      <td>57265377</td>\n",
       "      <td>M</td>\n",
       "      <td>Roses are red...and so is Texas. Let's keep it...</td>\n",
       "      <td>video</td>\n",
       "      <td>Roger Williams</td>\n",
       "      <td>15</td>\n",
       "    </tr>\n",
       "    <tr>\n",
       "      <th>2</th>\n",
       "      <td>2</td>\n",
       "      <td>37</td>\n",
       "      <td>57265377</td>\n",
       "      <td>M</td>\n",
       "      <td>#TBT to this classic video. #DonkeyWhisperer</td>\n",
       "      <td>video</td>\n",
       "      <td>Roger Williams</td>\n",
       "      <td>6</td>\n",
       "    </tr>\n",
       "    <tr>\n",
       "      <th>3</th>\n",
       "      <td>3</td>\n",
       "      <td>118</td>\n",
       "      <td>57265377</td>\n",
       "      <td>M</td>\n",
       "      <td>Since President Donald J. Trump was sworn in o...</td>\n",
       "      <td>video</td>\n",
       "      <td>Roger Williams</td>\n",
       "      <td>59</td>\n",
       "    </tr>\n",
       "    <tr>\n",
       "      <th>4</th>\n",
       "      <td>4</td>\n",
       "      <td>9</td>\n",
       "      <td>57265377</td>\n",
       "      <td>M</td>\n",
       "      <td>Remembering our 40th president today. LIKE to ...</td>\n",
       "      <td>video</td>\n",
       "      <td>Roger Williams</td>\n",
       "      <td>15</td>\n",
       "    </tr>\n",
       "  </tbody>\n",
       "</table>\n",
       "</div>"
      ],
      "text/plain": [
       "   post_id  num_responses     op_id op_gender  \\\n",
       "0        0             13  57265377         M   \n",
       "1        1             30  57265377         M   \n",
       "2        2             37  57265377         M   \n",
       "3        3            118  57265377         M   \n",
       "4        4              9  57265377         M   \n",
       "\n",
       "                                           post_text post_type  \\\n",
       "0  Yesterday, my colleagues and I voted to protec...     video   \n",
       "1  Roses are red...and so is Texas. Let's keep it...     video   \n",
       "2       #TBT to this classic video. #DonkeyWhisperer     video   \n",
       "3  Since President Donald J. Trump was sworn in o...     video   \n",
       "4  Remembering our 40th president today. LIKE to ...     video   \n",
       "\n",
       "          op_name  word_count  \n",
       "0  Roger Williams          32  \n",
       "1  Roger Williams          15  \n",
       "2  Roger Williams           6  \n",
       "3  Roger Williams          59  \n",
       "4  Roger Williams          15  "
      ]
     },
     "execution_count": 173,
     "metadata": {},
     "output_type": "execute_result"
    }
   ],
   "source": [
    "posts_w_number_responses = responses_grouped_by_post.size().reset_index()\n",
    "posts_w_number_responses.columns = ['post_id', 'num_responses']\n",
    "posts_w_number_responses = posts_w_number_responses.merge(postsDf, how='left', on='post_id')\n",
    "posts_w_number_responses.head()"
   ]
  },
  {
   "cell_type": "code",
   "execution_count": 192,
   "metadata": {},
   "outputs": [
    {
     "name": "stdout",
     "output_type": "stream",
     "text": [
      "Total number of posts w/ any responses: 399037\n",
      "\n",
      "Number of posts w/ > 100 responses: 21278 (0.0533)\n",
      "Number of congress people with at least one post above > 100 responses: 359\n",
      "Top 10:\n",
      " Rand Paul           1935\n",
      "Marco Rubio         1185\n",
      "Darrell Issa         759\n",
      "Elizabeth Warren     667\n",
      "Nancy Pelosi         476\n",
      "John McCain          458\n",
      "Al Franken           454\n",
      "Tom Cotton           429\n",
      "Patty Murray         406\n",
      "Lindsey Graham       404\n",
      "Name: op_name, dtype: int64\n",
      "\n",
      "Number of posts w/ > 1000 responses: 1512 (0.0038)\n",
      "Number of congress people with at least one post above > 1000 responses: 126\n",
      "Top 10:\n",
      " Rand Paul           309\n",
      "Elizabeth Warren    197\n",
      "Trey Gowdy          179\n",
      "Marco Rubio         114\n",
      "John McCain          48\n",
      "Bernie Sanders       47\n",
      "Cory Booker          41\n",
      "Mia Love             41\n",
      "Al Franken           32\n",
      "Nancy Pelosi         28\n",
      "Name: op_name, dtype: int64\n",
      "\n",
      "Number of posts w/ > 10000 responses: 29 (0.0001)\n",
      "Number of congress people with at least one post above > 10000 responses: 17\n",
      "Top 10:\n",
      " Elizabeth Warren    6\n",
      "Chuck Schumer       3\n",
      "John McCain         3\n",
      "Bernie Sanders      2\n",
      "Darrell Issa        2\n",
      "Rand Paul           2\n",
      "Chris Van Hollen    1\n",
      "John Cornyn         1\n",
      "Richard Burr        1\n",
      "Roger Wicker        1\n",
      "Name: op_name, dtype: int64\n"
     ]
    }
   ],
   "source": [
    "print(\"Total number of posts w/ any responses: {}\".format(len(posts_w_number_responses)))\n",
    "\n",
    "def print_posts_with_n_responses(n):\n",
    "    posts_w_n_responses = posts_w_number_responses[posts_w_number_responses['num_responses'] > n]\n",
    "    print(\"\\nNumber of posts w/ > {} responses: {} ({:.4f})\".format(n, len(posts_w_n_responses), len(posts_w_n_responses) / len(posts_w_number_responses)))\n",
    "    print(\"Number of congress people with at least one post above > {} responses: {}\".format(n, posts_w_n_responses.op_name.nunique()))\n",
    "    print(\"Top 10:\\n {}\".format(posts_w_n_responses.op_name.value_counts()[:10]))\n",
    "    return posts_w_n_responses\n",
    "    \n",
    "posts_w_100_r = print_posts_with_n_responses(100)\n",
    "posts_w_1000_r = print_posts_with_n_responses(1000)\n",
    "posts_w_10000_r = print_posts_with_n_responses(10000)\n",
    "    "
   ]
  },
  {
   "cell_type": "code",
   "execution_count": 202,
   "metadata": {},
   "outputs": [
    {
     "name": "stdout",
     "output_type": "stream",
     "text": [
      "Roger Williams: Join me in wishing President Bush a Happy Birthday!\n",
      "\n",
      "Rand Paul: Help send the White House a message.  Comment with \"No Authority!\" and SHARE if you agree with me that President Obama has no legal right to issue executive amnesty!\n",
      "\n",
      "Rand Paul: Let me know if you think Congress should depose Hillary Clinton about the attack on our consulate in Benghazi by taking the survey below.  LIKE and SHARE.     http://www.rand-2016.com/testify.aspx?pid=0813f\n",
      "\n",
      "Paul Ryan: Here's my full statement on Hillary Clinton in light of the FBI's announcement today:  Regardless of this decision, the undisputed finding of the FBI's investigation is that Secretary Clinton put our nation's secrets at risk and in doing so compromised our national security. She simply believes she's above the law and always plays by her own rules. This is a pattern with the Clintons, and the American people should not have to endure four more years of their scandal and baggage. Fortunately, the American people have the opportunity to ensure Secretary Clinton never gets her hands on classified information again. Let's bring the Clinton era to an end by voting for Donald J. Trump on Tuesday.\n",
      "\n",
      "Chuck Schumer: Tears are running down the cheeks of the Statue of Liberty as a grand tradition of America, welcoming immigrants, that has existed since America was founded has been stomped upon.   Taking in immigrants and refugees is not only humanitarian but has also boosted our economy and created jobs decade after decade. This is one of the most backward and nasty executive orders that the president has issued.\n",
      "\n",
      "Chuck Schumer: Betsy DeVos fails U.S. Senator Tim Kaine's Test:\n",
      "\n",
      "Chuck Schumer: Senator Chris Murphy (CT) asks Education Secretary nominee Betsy DeVos, \"Do you think that guns have any place in or around schools?\" Check out her answer for yourself:\n",
      "\n",
      "Jim Bridenstine: Michael Moore thinks that American snipers are cowards.    I believe that warriors like Chris Kyle are some of the best and bravest our country has to offer.\n",
      "\n",
      "Mitch McConnell: I am proud to be leading the fight for Israel in the Senate.   COMMENT with \"I support Israel\" if you agree that we must not allow any ceasefire that benefits Hamas and sign my petition here to stand with Israel: www.teammitch.com/israel\n",
      "\n",
      "John Cornyn: This week, I'll be voting to confirm Betsy DeVos as Secretary of Education. Power over education should be handed back down to the states, so that parents and teachers can choose how best to accomplish our universal goal of making sure every child has a good education. Ms. DeVos will lead this effort, so that parents, teachers and our local school districts will have a greater role in these important decisions.\n",
      "\n",
      "Kenny Marchant: U.S. Marine Sgt. Andrew Tahmooressi served two tours in Afghanistan for our country, yet the administration has done little – if anything – to fight for his freedom from incarceration in Mexico. I have cosponsored a resolution demanding that the president act to immediately secure Sgt. Tahmooressi's release and bring this Marine home to the country he has so faithfully served.\n",
      "\n",
      "John McCain: Our government has a responsibility to defend our borders, but we must do so in a way that makes us safer and upholds all that is decent and exceptional about our nation.   It is clear from the confusion at our airports across the nation that President Trump's executive order was not properly vetted. We are particularly concerned by reports that this order went into effect with little to no consultation with the Departments of State, Defense, Justice, and Homeland Security.   Such a hasty process risks harmful results. We should not stop green-card holders from returning to the country they call home. We should not stop those who have served as interpreters for our military and diplomats from seeking refuge in the country they risked their lives to help. And we should not turn our backs on those refugees who have been shown through extensive vetting to pose no demonstrable threat to our nation, and who have suffered unspeakable horrors, most of them women and children.  Ultimately, we fear this executive order will become a self-inflicted wound in the fight against terrorism. At this very moment, American troops are fighting side-by-side with our Iraqi partners to defeat ISIL. But this executive order bans Iraqi pilots from coming to military bases in Arizona to fight our common enemies. Our most important allies in the fight against ISIL are the vast majority of Muslims who reject its apocalyptic ideology of hatred. This executive order sends a signal, intended or not, that America does not want Muslims coming into our country. That is why we fear this executive order may do more to help terrorist recruitment than improve our security.\n",
      "\n",
      "John McCain: President Donald Trump's call with Vladimir Putin is scheduled to take place amid widespread speculation that the White House is considering lifting sanctions against Russia. For the sake of America's national security and that of our allies, I hope President Trump will put an end to this speculation and reject such a reckless course. If he does not, I will work with my colleagues to codify sanctions against Russia into law.  In just the last three years under Vladimir Putin, Russia has invaded Ukraine, annexed Crimea, threatened NATO allies, and intervened militarily in Syria, leaving a trail of death, destruction, and broken promises in his wake.  Russia's war on Ukraine has killed over 10,000 Ukrainian soldiers and civilians. Russia supplied the weapons that shot down a commercial aircraft over Ukraine and killed 298 innocent people.  Russia has conducted a massive military buildup along NATO's eastern flank, conducted large-scale military exercises, violated the borders, airspace, and territorial waters of its neighbors, and intensified its propaganda efforts to undermine the governments of our allies.  Russia has propped up the murderous Assad regime as it has waged war on the Syrian people and killed more than 400,000 civilians. Russia's military has targeted Syrian hospitals and first responders with precision weapons. Instead of targeting ISIL, Russia has focused its operations against the moderate Syrian opposition, which has only empowered extremist forces in the country.  And in the most flagrant demonstration of Putin's disdain and disrespect for our nation, Russia deliberately interfered in our recent election with cyberattacks and a disinformation campaign designed to weaken America and discredit Western values.  Each of our last three presidents had high hopes for building a partnership with the Russian government. Each attempt failed, not for lack of good faith and effort on the U.S. side, but because Putin wants to be our enemy. He needs us as his enemy. He will never be our partner, including in fighting ISIL. He believes that strengthening Russia means weakening America. President Trump should remember this when he speaks to Vladimir Putin. He should remember that the man on the other end of the line is a murderer and a thug who seeks to undermine American national security interests at every turn. For our commander-in-chief to think otherwise would be naïve and dangerous.\n",
      "\n",
      "John McCain: Check out my op-ed \"Russians Deserve Better than Putin\" in the Pravda today:\n",
      "\n",
      "Elizabeth Warren: It's no secret that I didn't want to see Donald Trump win yesterday. I'm intensely frustrated by the apparent likelihood that, for the second time in five elections, a Democratic nominee will have won the popular vote but lost the presidency in the electoral college. But the integrity of our democracy is more important than any individual election, and those of us who supported Hillary Clinton will respect this result.    President-Elect Trump promised to rebuild our economy for working people, and I offer to put aside our differences and work with him on that task. When he takes the oath of office as the leader of our democracy and the leader of all Americans, it is my sincere hope that he will fulfill that role with respect and concern for every single person in this country, no matter who they are, where they come from, what they believe, or whom they love.\n",
      "\n",
      "Elizabeth Warren: Tonight I called out Donald Trump. While the rest of us were horrified by the 2008 financial crisis, Donald Trump was drooling over the idea of a housing meltdown – because he figured he'd make more money from the misery of millions. Now that he's sewn up the Republican nomination, he's out there kissing the fannies of poor, misunderstood bankers, promising to dismantle the rules we put in place after that crisis to rein in Wall Street greed. And while nurses, teachers, and dockworkers pay their fair share to support our military personnel who show courage and sacrifice for us every single day, Trump says he's more than happy to dodge taxes. Donald Trump has made it perfectly clear that he cares about exactly one person – Donald Trump. And that kind of man can NEVER be the President of the United States.\n",
      "\n",
      "Elizabeth Warren: Donald Trump is now the leader of the Republican Party. It's real – he is one step away from the White House. Here's what else is real:  Trump has built his campaign on racism, sexism, and xenophobia. There's more enthusiasm for him among leaders of the KKK than leaders of the political party he now controls.  He incites supporters to violence, praises Putin, and, according to a columnist who recently interviewed him, is \"cool with being called an authoritarian\" and doesn't mind associations with history's worst dictators.   He attacks veterans like John McCain who were captured and puts our servicemembers at risk by cheerleading illegal torture. In a world with ISIS militants and leaders like North Korean strongman Kim Jong-Un conducting nuclear tests, he surrounds himself with a foreign policy team that has been called a \"collection of charlatans,\" and puts out contradictory and nonsensical national security ideas one expert recently called \"incoherent\" and \"truly bizarre.\"    What happens next will test the character for all of us – Republican, Democrat, and Independent. It will determine whether we move forward as one nation or splinter at the hands of one man's narcissism and divisiveness. I know which side I'm on, and I'm going to fight my heart out to make sure Donald Trump's toxic stew of hatred and insecurity never reaches the White House.\n",
      "\n",
      "Elizabeth Warren: Yesterday, Ted Cruz sent a campaign fundraising email whining about the \"significant sacrifice\" he's made to run for President. He whined about facing constant attacks, nonexistent family time, his limited health and sleep, and having no personal time.   Are you kidding me? We're supposed to pity him because trying to be the leader of the free world is hard?! I've got two words for you, Ted: Boo hoo.  Know whose health is limited? Workers with no paid leave who can't stay at home when they fall ill or have to care for sick kids. Know whose sleep is limited? Working parents who do everything they can to save money but stay up at night worrying about how do get their kids through college without getting crushed by debt. Know who gets no personal time? People who work two minimum wage jobs to support their families. Know who gets no family time? Moms with unfair schedules who drop their kids off at daycare and drive halfway across town only to find their work hours have been cancelled.   And Ted Cruz? He opposes mandatory paid family and medical leave and calls it \"free stuff.\" He voted against student loan refinancing. He's says the minimum wage is \"bad policy\" and he's done nothing to try and help workers struggling with unfair work schedules.   And know who's facing constant attacks, Ted? Hardworking American immigrants, Muslims, LGBT folks, women. They're facing the GOP's constant attacks. They're facing YOUR constant attacks.    Working people are working more and getting paid less. They can't save. Some face mistreatment and discrimination. They can't take time off work for illnesses or to spend time with family. But they don't whine. They don't throw tantrums or try to shut down their workplace because they don't get their way -- and then turn around and demand promotions.  Senator Cruz -- you chose to run for President. Working people don't get a choice. Maybe you should spend less time complaining about your \"significant sacrifices\" -- and more time trying to do something about theirs.\n",
      "\n",
      "Elizabeth Warren: Let's be honest – Donald Trump is a loser. Count all his failed businesses. See how he kept his father's empire afloat by cheating people with scams like Trump University and by using strategic corporate bankruptcy (excuse me, bankruptcies) to skip out on debt. Listen to the experts who've concluded he's so bad at business that he might have more money today if he'd put his entire inheritance into an index fund and just left it alone.    Trump seems to know he's a loser. His embarrassing insecurities are on parade: petty bullying, attacks on women, cheap racism, and flagrant narcissism. But just because Trump is a loser everywhere else doesn't mean he'll lose this election. People have been underestimating his campaign for nearly a year – and it's time to wake up.   People talk about how \"this is the most important election\" in our lifetime every four years, and it gets stale. But consider what hangs in the balance. Affordable college. Accountability for Wall Street. Healthcare for millions of Americans. The Supreme Court.  Big corporations and billionaires paying their fair share of taxes.  Expanded Social Security. Investments in infrastructure and medical research and jobs right here in America. The chance to turn our back on the ugliness of hatred, sexism, racism and xenophobia. The chance to be a better people.    More than anyone we've seen before come within reach of the presidency, Donald Trump stands ready to tear apart an America that was built on values like decency, community, and concern for our neighbors. Many of history's worst authoritarians started out as losers – and Trump is a serious threat. The way I see it, it's our job to make sure he ends this campaign every bit the loser that he started it.\n",
      "\n",
      "Elizabeth Warren: By the time I was 30, I thought my life was settled. Granted, not quite what I'd expected—but settled. I was a single mom with two little kids, and I'd just started teaching law in Houston. And then I met a guy from Massachusetts named Bruce. I was completely crazy about him, and I still am. When I proposed to him, he said yes. I bought a sundress that could double as a wedding gown, and 35 years ago today, I married Bruce.  Bruce has about a million good qualities, but I want to mention one: Throughout my career, and all the unexpected twists and turns, he has never once discouraged me from taking on a fight. He's always believed that if I wanted people to listen to my ideas, I might as well shout from the highest mountain I could find. This anniversary, I'll celebrate living in America where everyone can marry their own Bruce – their best friend, biggest supporter, and love of their life. Happy anniversary, Sweetie! I love you.\n",
      "\n",
      "Cory Booker: Today I broke with Senate tradition and testified against the nomination of one of my colleagues, Senator Jeff Sessions.  I believe that in the choice between standing with Senate norms or standing up for what my conscience tells me is best for our country, I will always choose conscience and country.   Senator Sessions has not demonstrated a commitment to a central requirement of the job as Attorney General—to aggressively pursue the congressional mandate of civil rights, equal rights, and justice for all. In fact, at numerous times in his career, he has demonstrated a hostility toward these convictions, and has worked to frustrate attempts to advance these ideals.  If confirmed, Senator Sessions will be required to pursue justice for women, but his record indicates that he won't.  He will be expected to defend the equal rights of gay and lesbian Americans, but his record indicates that he won't.  He will be expected to defend voting rights, but his record indicates that he won't.  He will be expected to defend the rights of immigrants and affirm their human dignity, but his record indicates he won't.  His record indicates that as Attorney General he would obstruct the growing national bipartisan movement toward criminal justice reform.  His record indicates that we cannot count on him to support state and national efforts toward bringing justice to a justice system that people on both sides of the aisle readily admit is biased against the poor, drug addicted, mentally ill, and people of color.  The next Attorney General must bring hope and healing to our country, and this demands a more courageous empathy than Senator Sessions' record demonstrates.  Jeff Sessions should not be our next Attorney General—I oppose his nomination and hope you will join me in speaking out.\n",
      "\n",
      "Bernie Sanders: Today is going to be a tough day for millions of Americans including myself. Our response has got to be not to throw up our hands in despair, not to give up, but in fact to fight back as effectively and as vigorously as we can. Our job is to keep our eyes on the prize, and the prize is that we will continue fighting for a government that represents all of us and not just the 1%. We're going to go forward in the fight for economic, social, environmental and racial justice. That's who we are. That's what we're going to do. We are not giving up.\n",
      "\n",
      "Bernie Sanders: Hillary Clinton won the popular vote for President by almost 3 million votes. Donald Trump will be inaugurated as the next President. That doesn't make sense for a democracy. The electoral college system needs to be changed.\n",
      "\n",
      "Chris Van Hollen: Something just happened on the House Floor that you should know about. Very late last night House Republicans quietly changed the standing rules of the House so that only the Majority Leader or his designee could bring up the bill in question for a vote. Sound familiar? The same tactic was used by the same people last October to shut down the government and keep it shut down.  In other words, democracy has once again been suspended in the House of Representatives. SHARE this video if you're sick of the sneaky, dead-of-night rule changes that have helped define this Republican Congress as the most-closed, least-transparent Congress on record.\n",
      "\n",
      "Richard Burr: Betsy DeVos has dedicated her life to improving education, so I am glad she will continue to fight for all children as Secretary of Education. Attempts by Senate Democrats to stall the President's nominees only distract from the very real struggles of North Carolina's families seeking the best education for their children.\n",
      "\n",
      "Kirsten Gillibrand: A number of you have reached out to me about your concerns with Betsy DeVos's nomination to be Education Secretary. I want to let you know that I share your concerns. I will be voting against her confirmation and I will urge my fellow Senators to do the same. Students, parents and teachers deserve an Education Secretary whose commitment to public education and safe schools will not waver. If public education fails, America fails, and I do not believe Mrs. DeVos shares my commitment to a strong public education system.\n",
      "\n",
      "Darrell Issa: #FridayPuppy isn't so sure about this \"autumn\" thing.\n",
      "\n",
      "Darrell Issa: #FridayPuppy doesn't understand hiccups.\n",
      "\n",
      "Roger Wicker: Harrison county has a lawsuit filed against them demanding they take down this Nativity scene inside the Gulfport courthouse. Should they be able to keep their nativity scene? Let us know what you think!\n",
      "\n"
     ]
    }
   ],
   "source": [
    "# the big-response posts are normally from well-known congress members, \n",
    "# plus they are talking about controversial topics (Trump, Betsy DeVos, Israel, Clinton, immigration)\n",
    "# idk what to make of the #FridayPuppy stuff \n",
    "\n",
    "for i in range(29):\n",
    "    print(posts_w_10000_r.iloc[i]['op_name'] + \": \" + posts_w_10000_r.iloc[i]['post_text'] + \"\\n\")"
   ]
  },
  {
   "cell_type": "markdown",
   "metadata": {},
   "source": [
    "### Lengths of Responses"
   ]
  },
  {
   "cell_type": "code",
   "execution_count": null,
   "metadata": {},
   "outputs": [],
   "source": [
    "# distribution of word counts of congresspeople's posts\n",
    "## TODO: make tokenization a little better here\n",
    "def get_words(row):\n",
    "    post = str(row['response_text'])\n",
    "    return post.split()\n",
    "\n",
    "def get_word_count(row):\n",
    "    return len(row['words'])\n",
    "\n",
    "responsesDf['words'] = responsesDf.apply(get_words, axis=1)\n",
    "responsesDf['word_counts'] = responsesDf.apply(get_word_count, axis=1)"
   ]
  },
  {
   "cell_type": "code",
   "execution_count": null,
   "metadata": {},
   "outputs": [],
   "source": [
    "# TODO: tf-idf"
   ]
  },
  {
   "cell_type": "markdown",
   "metadata": {},
   "source": [
    "## Annotations"
   ]
  },
  {
   "cell_type": "code",
   "execution_count": null,
   "metadata": {},
   "outputs": [],
   "source": [
    "annotations = \"rtgender//annotations.csv\""
   ]
  },
  {
   "cell_type": "code",
   "execution_count": null,
   "metadata": {},
   "outputs": [],
   "source": [
    "annotationsDf = pd.read_csv(annotations)"
   ]
  },
  {
   "cell_type": "code",
   "execution_count": null,
   "metadata": {},
   "outputs": [],
   "source": [
    "annotationsDf = annotationsDf[annotationsDf['source']=='facebook_congress']"
   ]
  },
  {
   "cell_type": "code",
   "execution_count": null,
   "metadata": {},
   "outputs": [],
   "source": [
    "annotationsDf.head()"
   ]
  },
  {
   "cell_type": "code",
   "execution_count": null,
   "metadata": {},
   "outputs": [],
   "source": [
    "annotationsDf.sentiment.value_counts()"
   ]
  },
  {
   "cell_type": "code",
   "execution_count": null,
   "metadata": {},
   "outputs": [],
   "source": [
    "annotationsDf.relevance.value_counts()"
   ]
  },
  {
   "cell_type": "code",
   "execution_count": null,
   "metadata": {},
   "outputs": [],
   "source": []
  }
 ],
 "metadata": {
  "kernelspec": {
   "display_name": "Python 3",
   "language": "python",
   "name": "python3"
  },
  "language_info": {
   "codemirror_mode": {
    "name": "ipython",
    "version": 3
   },
   "file_extension": ".py",
   "mimetype": "text/x-python",
   "name": "python",
   "nbconvert_exporter": "python",
   "pygments_lexer": "ipython3",
   "version": "3.5.6"
  }
 },
 "nbformat": 4,
 "nbformat_minor": 2
}

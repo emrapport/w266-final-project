{
 "cells": [
  {
   "cell_type": "code",
   "execution_count": null,
   "metadata": {},
   "outputs": [],
   "source": [
    "import pandas as pd\n",
    "import numpy as np\n",
    "import matplotlib.pyplot as plt"
   ]
  },
  {
   "cell_type": "code",
   "execution_count": null,
   "metadata": {},
   "outputs": [],
   "source": [
    "posts = \"data//facebook_congress_posts.csv\"\n",
    "responses = \"data//facebook_congress_responses.csv\""
   ]
  },
  {
   "cell_type": "code",
   "execution_count": null,
   "metadata": {},
   "outputs": [],
   "source": [
    "postsDf = pd.read_csv(posts)"
   ]
  },
  {
   "cell_type": "code",
   "execution_count": null,
   "metadata": {},
   "outputs": [],
   "source": [
    "responsesDf = pd.read_csv(responses)"
   ]
  },
  {
   "cell_type": "markdown",
   "metadata": {},
   "source": [
    "## Basic value counts"
   ]
  },
  {
   "cell_type": "code",
   "execution_count": null,
   "metadata": {},
   "outputs": [],
   "source": [
    "postsDf.head()"
   ]
  },
  {
   "cell_type": "code",
   "execution_count": null,
   "metadata": {},
   "outputs": [],
   "source": [
    "# this is the number of unique posts\n",
    "# not all the posts necessarily have responses \n",
    "postsDf['post_id'].nunique()"
   ]
  },
  {
   "cell_type": "code",
   "execution_count": null,
   "metadata": {},
   "outputs": [],
   "source": [
    "#occurrences of each post type\n",
    "postsDf['post_type'].value_counts()"
   ]
  },
  {
   "cell_type": "code",
   "execution_count": null,
   "metadata": {},
   "outputs": [],
   "source": [
    "responsesDf.head()"
   ]
  },
  {
   "cell_type": "code",
   "execution_count": null,
   "metadata": {},
   "outputs": [],
   "source": [
    "responsesDf.shape"
   ]
  },
  {
   "cell_type": "code",
   "execution_count": null,
   "metadata": {},
   "outputs": [],
   "source": [
    "#number of unique congress members \n",
    "len(responsesDf['op_id'].unique())"
   ]
  },
  {
   "cell_type": "code",
   "execution_count": null,
   "metadata": {},
   "outputs": [],
   "source": [
    "# number of male and female congresspeople in the data set \n",
    "unique_congresspeople = responsesDf.drop_duplicates('op_name')\n",
    "unique_congresspeople.op_gender.value_counts()"
   ]
  },
  {
   "cell_type": "code",
   "execution_count": null,
   "metadata": {},
   "outputs": [],
   "source": [
    "# TODO: change this merge so that we ONLY get the names, not all the other stuff \n",
    "unique_congresspeople = unique_congresspeople.filter(items=['op_name', 'op_id'])\n",
    "postsDf = postsDf.merge(unique_congresspeople, how='left', on='op_id')"
   ]
  },
  {
   "cell_type": "code",
   "execution_count": null,
   "metadata": {},
   "outputs": [],
   "source": [
    "grouped_posts = postsDf.groupby('op_id')"
   ]
  },
  {
   "cell_type": "code",
   "execution_count": null,
   "metadata": {},
   "outputs": [],
   "source": [
    "# gut check to be sure every op_id just lines up with one name\n",
    "# it looks like none of them have more than 1 name, but 5 of them are missing a name?\n",
    "# that seems like it needs to be cleaned up \n",
    "test = grouped_posts['op_name'].nunique()\n",
    "print(max(test))\n",
    "print(min(test))\n",
    "print(len([x for x in test if x==0]))"
   ]
  },
  {
   "cell_type": "code",
   "execution_count": null,
   "metadata": {},
   "outputs": [],
   "source": [
    "# this shows us that there are 5 more congressperson groups than we had names \n",
    "len(grouped_posts)"
   ]
  },
  {
   "cell_type": "markdown",
   "metadata": {},
   "source": [
    "### Cells for exploring unnamed congresspeople"
   ]
  },
  {
   "cell_type": "code",
   "execution_count": null,
   "metadata": {},
   "outputs": [],
   "source": [
    "postsDf[postsDf['op_name'].isnull()].op_id.value_counts()"
   ]
  },
  {
   "cell_type": "code",
   "execution_count": null,
   "metadata": {},
   "outputs": [],
   "source": [
    "# googling some of these and playing around helped me figure out that one of the blank ids is Scott Tipton\n",
    "# we can probably use google to figure out the other ones too\n",
    "\n",
    "print(postsDf[postsDf['op_id']==42721680]['post_text'][224602])\n",
    "# according to Google, this was said by Scott Tipton\n",
    "\n",
    "print(\"\\n\" + postsDf[postsDf['op_id']==44922372]['post_text'][508441])\n",
    "# according to Google, this was said by Martin Heinrich\n",
    "\n",
    "print(\"\\n\" + postsDf[postsDf['op_id']==54138093]['post_text'][260136])\n",
    "# according to Google, this was said by Mac Thornberry\n",
    "\n",
    "print(\"\\n\" + postsDf[postsDf['op_id']==96418867]['post_text'][511455])\n",
    "# according to Google, this was said by Darren Soto\n",
    "\n",
    "print(\"\\n\" + postsDf[postsDf['op_id']==58288189]['post_text'][466543])\n",
    "# this one doesn't really seem like it was said by a real congressperson\n",
    "# we should remove it from the set"
   ]
  },
  {
   "cell_type": "code",
   "execution_count": null,
   "metadata": {},
   "outputs": [],
   "source": [
    "# confirm that none of the congress people we just identified are already in the original set\n",
    "all_congress_names = unique_congresspeople.op_name.values\n",
    "no_matches_found = True\n",
    "for name in ['Tipton', 'Thornberry', 'Heinrich', 'Soto']:\n",
    "    for confirmed_name in all_congress_names:\n",
    "        if name in confirmed_name:\n",
    "            print(\"Match found: {} and {}\".format(name, confirmed_name))\n",
    "            no_matches_found = False\n",
    "if no_matches_found:\n",
    "    print(\"no matches found!\")"
   ]
  },
  {
   "cell_type": "code",
   "execution_count": null,
   "metadata": {},
   "outputs": [],
   "source": [
    "# add in all the correct names\n",
    "postsDf.loc[postsDf.op_id==42721680, 'op_name'] = 'Scott Tipton'\n",
    "postsDf.loc[postsDf.op_id==44922372, 'op_name'] = 'Martin Heinrich'\n",
    "postsDf.loc[postsDf.op_id==54138093, 'op_name'] = 'Mac Thornberry'\n",
    "postsDf.loc[postsDf.op_id==96418867, 'op_name'] = 'Darren Soto'"
   ]
  },
  {
   "cell_type": "code",
   "execution_count": null,
   "metadata": {},
   "outputs": [],
   "source": [
    "# confirm - there should just be one now\n",
    "postsDf[postsDf['op_name'].isnull()]"
   ]
  },
  {
   "cell_type": "code",
   "execution_count": null,
   "metadata": {},
   "outputs": [],
   "source": [
    "# drop the one\n",
    "print(postsDf.shape)\n",
    "postsDf = postsDf[~postsDf['op_name'].isnull()]\n",
    "print(postsDf.shape)"
   ]
  },
  {
   "cell_type": "code",
   "execution_count": null,
   "metadata": {},
   "outputs": [],
   "source": [
    "# remake the grouped df with these changes \n",
    "# there should be 406 groups now \n",
    "grouped_posts = postsDf.groupby('op_id')\n",
    "len(grouped_posts)"
   ]
  },
  {
   "cell_type": "code",
   "execution_count": null,
   "metadata": {},
   "outputs": [],
   "source": [
    "# make separate male and female grouped posts dfs\n",
    "f_grouped_posts=postsDf[postsDf['op_gender']=='W'].groupby('op_id')\n",
    "print(len(f_grouped_posts))\n",
    "m_grouped_posts=postsDf[postsDf['op_gender']=='M'].groupby('op_id')\n",
    "len(m_grouped_posts)"
   ]
  },
  {
   "cell_type": "markdown",
   "metadata": {},
   "source": [
    "## Overall Distributions"
   ]
  },
  {
   "cell_type": "markdown",
   "metadata": {},
   "source": [
    "### Number of Posts per Congress Member"
   ]
  },
  {
   "cell_type": "code",
   "execution_count": null,
   "metadata": {},
   "outputs": [],
   "source": [
    "# distribution of number of posts per congress person\n",
    "plt.hist(grouped_posts.size(), bins=20)\n",
    "plt.xlabel(\"Number of posts\")\n",
    "plt.ylabel(\"Number of congress members\")\n",
    "plt.title(\"Number of posts per Congress Member\")\n",
    "plt.show()\n",
    "\n",
    "grouped_posts.size().describe()"
   ]
  },
  {
   "cell_type": "code",
   "execution_count": null,
   "metadata": {},
   "outputs": [],
   "source": [
    "plt.hist(m_grouped_posts.size(), bins=20, label='M')\n",
    "plt.hist(f_grouped_posts.size(), bins=20, label='F')\n",
    "plt.legend()\n",
    "plt.xlabel(\"Number of posts\")\n",
    "plt.ylabel(\"Number of congress members\")\n",
    "plt.title(\"Number of posts per Congress Member\")\n",
    "plt.show()"
   ]
  },
  {
   "cell_type": "code",
   "execution_count": null,
   "metadata": {},
   "outputs": [],
   "source": [
    "print(\"Male:\\n\") \n",
    "print(m_grouped_posts.size().describe())\n",
    "print(\"\\nFemale:\\n\")\n",
    "print(f_grouped_posts.size().describe())"
   ]
  },
  {
   "cell_type": "markdown",
   "metadata": {},
   "source": [
    "**Finding**: While there are more male than female congresspeople, men and women have around the same number of posts on average, and the distributions of number of posts look pretty similar for men and women. "
   ]
  },
  {
   "cell_type": "markdown",
   "metadata": {},
   "source": [
    "### Number of Words Per Post"
   ]
  },
  {
   "cell_type": "code",
   "execution_count": null,
   "metadata": {},
   "outputs": [],
   "source": [
    "# distribution of word counts of congresspeople's posts\n",
    "## TODO: make tokenization a little better here\n",
    "def get_word_count(row):\n",
    "    post = str(row['post_text'])\n",
    "    return len(post.split())\n",
    "\n",
    "postsDf['word_count'] = postsDf.apply(get_word_count, axis=1)"
   ]
  },
  {
   "cell_type": "code",
   "execution_count": null,
   "metadata": {},
   "outputs": [],
   "source": [
    "#various views of post distribution \n",
    "plt.hist(postsDf['word_count'], range=(0,500), bins=20)\n",
    "plt.xlabel(\"Number of words\")\n",
    "plt.ylabel(\"Number of posts\")\n",
    "plt.title(\"Number of words per post\")\n",
    "\n",
    "postsDf['word_count'].describe()"
   ]
  },
  {
   "cell_type": "code",
   "execution_count": null,
   "metadata": {},
   "outputs": [],
   "source": [
    "# very skewed data set. even though max is 3000ish, \n",
    "# most of the data is in this plot \n",
    "plt.hist(postsDf['word_count'], range=(0,100), bins=20)\n",
    "plt.xlabel(\"Number of words\")\n",
    "plt.ylabel(\"Number of posts\")\n",
    "plt.title(\"Number of words per post\")"
   ]
  },
  {
   "cell_type": "code",
   "execution_count": null,
   "metadata": {},
   "outputs": [],
   "source": [
    "plt.hist(postsDf[postsDf.op_gender=='M']['word_count'], range=(0,100), bins=20, label='M')\n",
    "plt.hist(postsDf[postsDf.op_gender=='W']['word_count'], range=(0,100), bins=20, label='F')\n",
    "plt.legend()\n",
    "plt.xlabel(\"Number of words\")\n",
    "plt.ylabel(\"Number of posts\")\n",
    "plt.title(\"Number of words per post\")\n",
    "plt.show()"
   ]
  },
  {
   "cell_type": "code",
   "execution_count": null,
   "metadata": {},
   "outputs": [],
   "source": [
    "print(\"Male:\\n\") \n",
    "print(postsDf[postsDf.op_gender=='M']['word_count'].describe())\n",
    "print(\"\\nFemale:\\n\")\n",
    "print(postsDf[postsDf.op_gender=='W']['word_count'].describe())"
   ]
  },
  {
   "cell_type": "markdown",
   "metadata": {},
   "source": [
    "**Finding**: While there are more male than female congresspeople, men and women have around the same average post word length, and the distributions of post word lengths look pretty similar for men and women. "
   ]
  },
  {
   "cell_type": "code",
   "execution_count": null,
   "metadata": {},
   "outputs": [],
   "source": [
    "## number of posts with 1 word, and other common numbers of words\n",
    "postsDf['word_count'].value_counts()[:10]"
   ]
  },
  {
   "cell_type": "code",
   "execution_count": null,
   "metadata": {},
   "outputs": [],
   "source": [
    "# exploration of the 1-word posts: many are NaN (presumably they only have a video, or some other media)\n",
    "# some are hashtags or links \n",
    "postsDf[postsDf['word_count']==1]['post_text'].value_counts(dropna=False)"
   ]
  },
  {
   "cell_type": "code",
   "execution_count": null,
   "metadata": {},
   "outputs": [],
   "source": []
  },
  {
   "cell_type": "markdown",
   "metadata": {},
   "source": [
    "### Number of Responses Per Post"
   ]
  },
  {
   "cell_type": "code",
   "execution_count": null,
   "metadata": {},
   "outputs": [],
   "source": [
    "responses_grouped_by_post = responsesDf.groupby('post_id')"
   ]
  },
  {
   "cell_type": "code",
   "execution_count": null,
   "metadata": {},
   "outputs": [],
   "source": [
    "m_responses_grouped_by_post = responsesDf[responsesDf['op_gender']=='M'].groupby('post_id')\n",
    "f_responses_grouped_by_post = responsesDf[responsesDf['op_gender']=='W'].groupby('post_id')"
   ]
  },
  {
   "cell_type": "code",
   "execution_count": null,
   "metadata": {},
   "outputs": [],
   "source": [
    "plt.hist(responses_grouped_by_post.size(), range=(0,100))\n",
    "plt.xlabel(\"Number of responses\")\n",
    "plt.ylabel(\"Number of original posts\")\n",
    "plt.title(\"Number of responses per post\")"
   ]
  },
  {
   "cell_type": "code",
   "execution_count": null,
   "metadata": {
    "scrolled": true
   },
   "outputs": [],
   "source": [
    "# there are relatively few responses per post, with a long tail \n",
    "# (standard deviation is way higher than the mean )\n",
    "responses_grouped_by_post.size().describe()"
   ]
  },
  {
   "cell_type": "code",
   "execution_count": null,
   "metadata": {},
   "outputs": [],
   "source": [
    "plt.hist(m_responses_grouped_by_post.size(), range=(0,100), bins=20, label='M')\n",
    "plt.hist(f_responses_grouped_by_post.size(), range=(0,100), bins=20, label='F')\n",
    "plt.legend()\n",
    "plt.xlabel(\"Number of responses\")\n",
    "plt.ylabel(\"Number of original posts\")\n",
    "plt.title(\"Number of responses per post\")\n",
    "plt.show()"
   ]
  },
  {
   "cell_type": "code",
   "execution_count": null,
   "metadata": {},
   "outputs": [],
   "source": [
    "print(\"Male:\\n\")\n",
    "print(m_responses_grouped_by_post.size().describe())\n",
    "print(\"\\nFemale:\\n\")\n",
    "print(f_responses_grouped_by_post.size().describe())"
   ]
  },
  {
   "cell_type": "markdown",
   "metadata": {},
   "source": [
    "**Findings**: Once again, remarkable parity between men and women here in terms of the distribution of number of responses per post. "
   ]
  },
  {
   "cell_type": "code",
   "execution_count": null,
   "metadata": {},
   "outputs": [],
   "source": [
    "posts_w_number_responses = responses_grouped_by_post.size().reset_index()\n",
    "posts_w_number_responses.columns = ['post_id', 'num_responses']\n",
    "posts_w_number_responses = posts_w_number_responses.merge(postsDf, how='left', on='post_id')\n",
    "posts_w_number_responses.head()"
   ]
  },
  {
   "cell_type": "code",
   "execution_count": null,
   "metadata": {},
   "outputs": [],
   "source": [
    "print(\"Total number of posts w/ any responses: {}\".format(len(posts_w_number_responses)))\n",
    "\n",
    "def print_posts_with_n_responses(n):\n",
    "    posts_w_n_responses = posts_w_number_responses[posts_w_number_responses['num_responses'] > n]\n",
    "    print(\"\\nNumber of posts w/ > {} responses: {} ({:.4f})\".format(n, len(posts_w_n_responses), len(posts_w_n_responses) / len(posts_w_number_responses)))\n",
    "    print(\"Number of congress people with at least one post above > {} responses: {}\".format(n, posts_w_n_responses.op_name.nunique()))\n",
    "    print(\"Top 10:\\n {}\".format(posts_w_n_responses.op_name.value_counts()[:10]))\n",
    "    return posts_w_n_responses\n",
    "    \n",
    "posts_w_100_r = print_posts_with_n_responses(100)\n",
    "posts_w_1000_r = print_posts_with_n_responses(1000)\n",
    "posts_w_10000_r = print_posts_with_n_responses(10000)\n",
    "    "
   ]
  },
  {
   "cell_type": "code",
   "execution_count": null,
   "metadata": {},
   "outputs": [],
   "source": [
    "# the big-response posts are normally from well-known congress members, \n",
    "# plus they are talking about controversial topics (Trump, Betsy DeVos, Israel, Clinton, immigration)\n",
    "# idk what to make of the #FridayPuppy stuff \n",
    "\n",
    "for i in range(29):\n",
    "    print(posts_w_10000_r.iloc[i]['op_name'] + \": \" + posts_w_10000_r.iloc[i]['post_text'] + \"\\n\")"
   ]
  },
  {
   "cell_type": "code",
   "execution_count": null,
   "metadata": {},
   "outputs": [],
   "source": [
    "del responses_grouped_by_post\n",
    "del m_responses_grouped_by_post\n",
    "del f_responses_grouped_by_post"
   ]
  },
  {
   "cell_type": "markdown",
   "metadata": {},
   "source": [
    "### Lengths of Responses"
   ]
  },
  {
   "cell_type": "code",
   "execution_count": null,
   "metadata": {},
   "outputs": [],
   "source": [
    "# distribution of word counts of congresspeople's posts\n",
    "## TODO: make tokenization a little better here\n",
    "def get_words(row):\n",
    "    post = str(row['response_text'])\n",
    "    return post.split()\n",
    "\n",
    "def get_word_count(row):\n",
    "    return len(row['words'])"
   ]
  },
  {
   "cell_type": "code",
   "execution_count": null,
   "metadata": {},
   "outputs": [],
   "source": [
    "del responsesDf"
   ]
  },
  {
   "cell_type": "code",
   "execution_count": null,
   "metadata": {},
   "outputs": [],
   "source": [
    "responses_dfs = []\n",
    "chunk_size = 1000000"
   ]
  },
  {
   "cell_type": "code",
   "execution_count": null,
   "metadata": {},
   "outputs": [],
   "source": [
    "count = 0\n",
    "for responsesDf in pd.read_csv(responses, chunksize=chunk_size):\n",
    "    print(\"applying to df {}\".format(count + 1))\n",
    "    responsesDf['words'] = responsesDf.apply(get_words, axis=1)\n",
    "    responsesDf = responsesDf.filter(items=['op_id', 'post_id', 'op_name', 'op_gender', 'words'])\n",
    "    responsesDf['word_counts'] = responsesDf.apply(get_word_count, axis=1)\n",
    "    responses_dfs.append(responsesDf)\n",
    "    count += 1"
   ]
  },
  {
   "cell_type": "code",
   "execution_count": null,
   "metadata": {},
   "outputs": [],
   "source": [
    "lengths = []\n",
    "m_lengths = []\n",
    "f_lengths = []\n",
    "for responseDf in responses_dfs:\n",
    "    lengths.extend(responseDf.word_counts.values)\n",
    "    m_lengths.extend(responseDf[responseDf['op_gender']=='M'].word_counts.values)\n",
    "    f_lengths.extend(responseDf[responseDf['op_gender']=='W'].word_counts.values)"
   ]
  },
  {
   "cell_type": "code",
   "execution_count": null,
   "metadata": {},
   "outputs": [],
   "source": [
    "plt.hist(lengths, range=(0,100))"
   ]
  },
  {
   "cell_type": "code",
   "execution_count": null,
   "metadata": {},
   "outputs": [],
   "source": [
    "pd.set_option('display.float_format', lambda x: '%.5f' % x)\n",
    "pd.Series(lengths).describe()"
   ]
  },
  {
   "cell_type": "code",
   "execution_count": null,
   "metadata": {},
   "outputs": [],
   "source": [
    "lengths = np.array(lengths)\n",
    "print(\"Number of responses with length > 100: {}\".format(sum(lengths > 100)))\n",
    "print(\"Number of responses with length > 1000: {}\".format(sum(lengths > 1000)))"
   ]
  },
  {
   "cell_type": "code",
   "execution_count": null,
   "metadata": {},
   "outputs": [],
   "source": [
    "plt.hist(m_lengths, range=(0,100), bins=20, label='M')\n",
    "plt.hist(f_lengths, range=(0,100), bins=20, label='F')\n",
    "plt.legend()\n",
    "plt.show()"
   ]
  },
  {
   "cell_type": "code",
   "execution_count": null,
   "metadata": {},
   "outputs": [],
   "source": [
    "m_lengths = np.array(m_lengths)\n",
    "f_lengths = np.array(f_lengths)\n",
    "\n",
    "print(pd.Series(m_lengths).describe())\n",
    "print()\n",
    "print(pd.Series(f_lengths).describe())"
   ]
  },
  {
   "cell_type": "code",
   "execution_count": null,
   "metadata": {},
   "outputs": [],
   "source": [
    "# TODO: tf-idf"
   ]
  },
  {
   "cell_type": "code",
   "execution_count": null,
   "metadata": {},
   "outputs": [],
   "source": [
    "del responses_dfs"
   ]
  },
  {
   "cell_type": "code",
   "execution_count": null,
   "metadata": {},
   "outputs": [],
   "source": [
    "responsesDf = pd.read_csv(responses)"
   ]
  },
  {
   "cell_type": "code",
   "execution_count": null,
   "metadata": {},
   "outputs": [],
   "source": [
    "del responsesDf"
   ]
  },
  {
   "cell_type": "code",
   "execution_count": null,
   "metadata": {},
   "outputs": [],
   "source": [
    "corpus = corpus.astype('U')"
   ]
  },
  {
   "cell_type": "code",
   "execution_count": null,
   "metadata": {},
   "outputs": [],
   "source": [
    "from sklearn.feature_extraction.text import TfidfVectorizer\n",
    "vectorizer = TfidfVectorizer()\n",
    "vectorizer.fit_transform(corpus)"
   ]
  },
  {
   "cell_type": "code",
   "execution_count": null,
   "metadata": {},
   "outputs": [],
   "source": []
  },
  {
   "cell_type": "markdown",
   "metadata": {},
   "source": [
    "## Annotations"
   ]
  },
  {
   "cell_type": "code",
   "execution_count": null,
   "metadata": {},
   "outputs": [],
   "source": [
    "annotations = \"rtgender//annotations.csv\""
   ]
  },
  {
   "cell_type": "code",
   "execution_count": null,
   "metadata": {},
   "outputs": [],
   "source": [
    "annotationsDf = pd.read_csv(annotations)"
   ]
  },
  {
   "cell_type": "code",
   "execution_count": null,
   "metadata": {},
   "outputs": [],
   "source": [
    "annotationsDf = annotationsDf[annotationsDf['source']=='facebook_congress']"
   ]
  },
  {
   "cell_type": "code",
   "execution_count": null,
   "metadata": {},
   "outputs": [],
   "source": [
    "annotationsDf.head()"
   ]
  },
  {
   "cell_type": "code",
   "execution_count": null,
   "metadata": {},
   "outputs": [],
   "source": [
    "annotationsDf.sentiment.value_counts()"
   ]
  },
  {
   "cell_type": "code",
   "execution_count": null,
   "metadata": {},
   "outputs": [],
   "source": [
    "annotationsDf.relevance.value_counts()"
   ]
  },
  {
   "cell_type": "code",
   "execution_count": null,
   "metadata": {},
   "outputs": [],
   "source": []
  }
 ],
 "metadata": {
  "kernelspec": {
   "display_name": "Python 3",
   "language": "python",
   "name": "python3"
  },
  "language_info": {
   "codemirror_mode": {
    "name": "ipython",
    "version": 3
   },
   "file_extension": ".py",
   "mimetype": "text/x-python",
   "name": "python",
   "nbconvert_exporter": "python",
   "pygments_lexer": "ipython3",
   "version": "3.7.4"
  }
 },
 "nbformat": 4,
 "nbformat_minor": 2
}

{
  "nbformat": 4,
  "nbformat_minor": 0,
  "metadata": {
    "kernelspec": {
      "name": "python3",
      "display_name": "Python 3"
    },
    "language_info": {
      "codemirror_mode": {
        "name": "ipython",
        "version": 3
      },
      "file_extension": ".py",
      "mimetype": "text/x-python",
      "name": "python",
      "nbconvert_exporter": "python",
      "pygments_lexer": "ipython3",
      "version": "3.7.4"
    },
    "colab": {
      "name": "sample_1000.ipynb",
      "provenance": [],
      "toc_visible": true,
      "machine_shape": "hm",
      "include_colab_link": true
    },
    "accelerator": "TPU"
  },
  "cells": [
    {
      "cell_type": "markdown",
      "metadata": {
        "id": "view-in-github",
        "colab_type": "text"
      },
      "source": [
        "<a href=\"https://colab.research.google.com/github/emrapport/w266-final-project/blob/master/modeling/sample_1000.ipynb\" target=\"_parent\"><img src=\"https://colab.research.google.com/assets/colab-badge.svg\" alt=\"Open In Colab\"/></a>"
      ]
    },
    {
      "cell_type": "markdown",
      "metadata": {
        "id": "ldVKPuCY1oqk",
        "colab_type": "text"
      },
      "source": [
        "## Saving a 1000 dev set for manual coding\n",
        "\n"
      ]
    },
    {
      "cell_type": "code",
      "metadata": {
        "id": "_QYIGfoPFRZK",
        "colab_type": "code",
        "colab": {}
      },
      "source": [
        "DATASET_NAME = \"status_posts\"\n",
        "MODEL_NAME = \"status_posts\"\n",
        "MAX_SEQ_LENGTH = 20\n",
        "TRAINING_SET_SIZE = 4000000\n",
        "VAL_SET_SIZE = 2000000\n",
        "NUM_EPOCHS = 20\n",
        "BATCH_SIZE = 1000\n",
        "MAX_SEQUENCE_LENGTH = 20\n",
        "\n",
        "\n",
        "# I don't think we have a good reason to do this right now\n",
        "# but we might eventually \n",
        "SAVE_TOKENIZED_DATA = False"
      ],
      "execution_count": 0,
      "outputs": []
    },
    {
      "cell_type": "code",
      "metadata": {
        "id": "l0rrZSx7Ss0M",
        "colab_type": "code",
        "outputId": "1ba69b7e-a65b-4128-d107-42cbf94cfe43",
        "colab": {
          "base_uri": "https://localhost:8080/",
          "height": 494
        }
      },
      "source": [
        "import pandas as pd\n",
        "import numpy as np\n",
        "import copy\n",
        "import time\n",
        "import pickle\n",
        "!pip install gcsfs\n",
        "\n",
        "pd.set_option('max_colwidth', 100)"
      ],
      "execution_count": 2,
      "outputs": [
        {
          "output_type": "stream",
          "text": [
            "Collecting gcsfs\n",
            "\u001b[?25l  Downloading https://files.pythonhosted.org/packages/ab/92/0297f2813cb240c52e90f8587420149970565800e019e1b08ef5ad28b6d9/gcsfs-0.3.1.tar.gz (43kB)\n",
            "\r\u001b[K     |███████▋                        | 10kB 16.5MB/s eta 0:00:01\r\u001b[K     |███████████████▏                | 20kB 2.0MB/s eta 0:00:01\r\u001b[K     |██████████████████████▊         | 30kB 2.9MB/s eta 0:00:01\r\u001b[K     |██████████████████████████████▎ | 40kB 2.0MB/s eta 0:00:01\r\u001b[K     |████████████████████████████████| 51kB 1.9MB/s \n",
            "\u001b[?25hRequirement already satisfied: google-auth>=1.2 in /usr/local/lib/python3.6/dist-packages (from gcsfs) (1.4.2)\n",
            "Requirement already satisfied: google-auth-oauthlib in /usr/local/lib/python3.6/dist-packages (from gcsfs) (0.4.1)\n",
            "Requirement already satisfied: requests in /usr/local/lib/python3.6/dist-packages (from gcsfs) (2.21.0)\n",
            "Requirement already satisfied: decorator in /usr/local/lib/python3.6/dist-packages (from gcsfs) (4.4.1)\n",
            "Requirement already satisfied: fsspec>=0.2.2 in /usr/local/lib/python3.6/dist-packages (from gcsfs) (0.5.2)\n",
            "Requirement already satisfied: six>=1.9.0 in /usr/local/lib/python3.6/dist-packages (from google-auth>=1.2->gcsfs) (1.12.0)\n",
            "Requirement already satisfied: cachetools>=2.0.0 in /usr/local/lib/python3.6/dist-packages (from google-auth>=1.2->gcsfs) (3.1.1)\n",
            "Requirement already satisfied: pyasn1-modules>=0.2.1 in /usr/local/lib/python3.6/dist-packages (from google-auth>=1.2->gcsfs) (0.2.7)\n",
            "Requirement already satisfied: rsa>=3.1.4 in /usr/local/lib/python3.6/dist-packages (from google-auth>=1.2->gcsfs) (4.0)\n",
            "Requirement already satisfied: requests-oauthlib>=0.7.0 in /usr/local/lib/python3.6/dist-packages (from google-auth-oauthlib->gcsfs) (1.2.0)\n",
            "Requirement already satisfied: idna<2.9,>=2.5 in /usr/local/lib/python3.6/dist-packages (from requests->gcsfs) (2.8)\n",
            "Requirement already satisfied: urllib3<1.25,>=1.21.1 in /usr/local/lib/python3.6/dist-packages (from requests->gcsfs) (1.24.3)\n",
            "Requirement already satisfied: certifi>=2017.4.17 in /usr/local/lib/python3.6/dist-packages (from requests->gcsfs) (2019.9.11)\n",
            "Requirement already satisfied: chardet<3.1.0,>=3.0.2 in /usr/local/lib/python3.6/dist-packages (from requests->gcsfs) (3.0.4)\n",
            "Requirement already satisfied: pyasn1<0.5.0,>=0.4.6 in /usr/local/lib/python3.6/dist-packages (from pyasn1-modules>=0.2.1->google-auth>=1.2->gcsfs) (0.4.7)\n",
            "Requirement already satisfied: oauthlib>=3.0.0 in /usr/local/lib/python3.6/dist-packages (from requests-oauthlib>=0.7.0->google-auth-oauthlib->gcsfs) (3.1.0)\n",
            "Building wheels for collected packages: gcsfs\n",
            "  Building wheel for gcsfs (setup.py) ... \u001b[?25l\u001b[?25hdone\n",
            "  Created wheel for gcsfs: filename=gcsfs-0.3.1-py2.py3-none-any.whl size=17936 sha256=89d2c263bb5b69dc30d575634f8c2f1a1b9ca8bb0f98933bc88a11bd1f26b728\n",
            "  Stored in directory: /root/.cache/pip/wheels/9d/2b/6f/86954f0d8caa1173841e62bb780dc0f8693bd268e04a267682\n",
            "Successfully built gcsfs\n",
            "Installing collected packages: gcsfs\n",
            "Successfully installed gcsfs-0.3.1\n"
          ],
          "name": "stdout"
        }
      ]
    },
    {
      "cell_type": "code",
      "metadata": {
        "id": "lKNfUKrfUgP-",
        "colab_type": "code",
        "outputId": "c4113e52-43df-4cbc-c908-4374b150e9a0",
        "colab": {
          "base_uri": "https://localhost:8080/",
          "height": 175
        }
      },
      "source": [
        "# this cell is only necessary if running in colab\n",
        "project_id = 'w266-251323'\n",
        "import uuid\n",
        "bucket_name = 'fb-congressional-data/'\n",
        "from google.colab import auth\n",
        "auth.authenticate_user()\n",
        "!gcloud config set project {project_id}"
      ],
      "execution_count": 3,
      "outputs": [
        {
          "output_type": "stream",
          "text": [
            "WARNING:tensorflow:\n",
            "The TensorFlow contrib module will not be included in TensorFlow 2.0.\n",
            "For more information, please see:\n",
            "  * https://github.com/tensorflow/community/blob/master/rfcs/20180907-contrib-sunset.md\n",
            "  * https://github.com/tensorflow/addons\n",
            "  * https://github.com/tensorflow/io (for I/O related ops)\n",
            "If you depend on functionality not listed there, please file an issue.\n",
            "\n",
            "Updated property [core/project].\n"
          ],
          "name": "stdout"
        }
      ]
    },
    {
      "cell_type": "code",
      "metadata": {
        "id": "0iOniVLISs0m",
        "colab_type": "code",
        "outputId": "cd794614-e524-47ef-a47c-d1c49ea5a8b9",
        "colab": {
          "base_uri": "https://localhost:8080/",
          "height": 72
        }
      },
      "source": [
        "dev_df = pd.read_csv(\"gs://fb-congressional-data/contraction_expanded_data/dev.csv\", index_col=0)"
      ],
      "execution_count": 4,
      "outputs": [
        {
          "output_type": "stream",
          "text": [
            "/usr/local/lib/python3.6/dist-packages/numpy/lib/arraysetops.py:568: FutureWarning: elementwise comparison failed; returning scalar instead, but in the future will perform elementwise comparison\n",
            "  mask |= (ar1 == a)\n"
          ],
          "name": "stderr"
        }
      ]
    },
    {
      "cell_type": "code",
      "metadata": {
        "id": "-oaJWaV04p01",
        "colab_type": "code",
        "colab": {}
      },
      "source": [
        "# Get 1000 random indices for the dev set.\n",
        "rand_index = np.random.randint(0,len(dev_df),1000)\n",
        "rand_index=rand_index.tolist()\n",
        "\n",
        "# Create a new dataframe for manual coding of 1000 random respones.\n",
        "sample_1000 = dev_df.iloc[rand_index]\n",
        "sample_1000 = sample_1000[['original_idx','response_text']]\n"
      ],
      "execution_count": 0,
      "outputs": []
    },
    {
      "cell_type": "code",
      "metadata": {
        "id": "3jX0p23Y0L6H",
        "colab_type": "code",
        "colab": {}
      },
      "source": [
        "# Download the new dataframe to local machine.\n",
        "from google.colab import files\n",
        "\n",
        "sample_1000.to_csv('sample_1000.csv',encoding='utf-8-sig', header=True, index=False)\n",
        "files.download('sample_1000.csv') \n"
      ],
      "execution_count": 0,
      "outputs": []
    },
    {
      "cell_type": "markdown",
      "metadata": {
        "id": "wK0merQ37iQm",
        "colab_type": "text"
      },
      "source": [
        "## Analysis of manually coded data"
      ]
    },
    {
      "cell_type": "code",
      "metadata": {
        "id": "cvsj8AAS5-vX",
        "colab_type": "code",
        "colab": {
          "resources": {
            "http://localhost:8080/nbextensions/google.colab/files.js": {
              "data": "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",
              "ok": true,
              "headers": [
                [
                  "content-type",
                  "application/javascript"
                ]
              ],
              "status": 200,
              "status_text": ""
            }
          },
          "base_uri": "https://localhost:8080/",
          "height": 75
        },
        "outputId": "d2f80af2-e0a8-4c4a-cd1a-7a5ce9e80956"
      },
      "source": [
        "# Get manually coded csv files.\n",
        "import io \n",
        "\n",
        "uploaded = files.upload()\n",
        "sample_1000_LP = pd.read_csv(io.BytesIO(uploaded['sample_1000_LP.csv']))"
      ],
      "execution_count": 7,
      "outputs": [
        {
          "output_type": "display_data",
          "data": {
            "text/html": [
              "\n",
              "     <input type=\"file\" id=\"files-a61ba609-54b9-40fd-b93b-2d7f957f937b\" name=\"files[]\" multiple disabled />\n",
              "     <output id=\"result-a61ba609-54b9-40fd-b93b-2d7f957f937b\">\n",
              "      Upload widget is only available when the cell has been executed in the\n",
              "      current browser session. Please rerun this cell to enable.\n",
              "      </output>\n",
              "      <script src=\"/nbextensions/google.colab/files.js\"></script> "
            ],
            "text/plain": [
              "<IPython.core.display.HTML object>"
            ]
          },
          "metadata": {
            "tags": []
          }
        },
        {
          "output_type": "stream",
          "text": [
            "Saving sample_1000.csv to sample_1000.csv\n"
          ],
          "name": "stdout"
        }
      ]
    },
    {
      "cell_type": "code",
      "metadata": {
        "id": "cK6VPm6P65zX",
        "colab_type": "code",
        "colab": {
          "base_uri": "https://localhost:8080/",
          "height": 70
        },
        "outputId": "f62f1c9f-8046-4cf9-9486-235b1555ed27"
      },
      "source": [
        "sample_1000_LP.LP_Gender.value_counts()"
      ],
      "execution_count": 11,
      "outputs": [
        {
          "output_type": "execute_result",
          "data": {
            "text/plain": [
              "M    722\n",
              "F    278\n",
              "Name: LP_Gender, dtype: int64"
            ]
          },
          "metadata": {
            "tags": []
          },
          "execution_count": 11
        }
      ]
    },
    {
      "cell_type": "code",
      "metadata": {
        "id": "GhLinR3L7f14",
        "colab_type": "code",
        "colab": {}
      },
      "source": [
        "orig_index_list = sample_1000_LP['original_idx'].to_list()"
      ],
      "execution_count": 0,
      "outputs": []
    },
    {
      "cell_type": "code",
      "metadata": {
        "id": "0hSwv2Yo8dos",
        "colab_type": "code",
        "colab": {
          "base_uri": "https://localhost:8080/",
          "height": 34
        },
        "outputId": "3ac8219c-da89-4654-ef11-994da51febcb"
      },
      "source": [
        "len(orig_index_list)"
      ],
      "execution_count": 15,
      "outputs": [
        {
          "output_type": "execute_result",
          "data": {
            "text/plain": [
              "1000"
            ]
          },
          "metadata": {
            "tags": []
          },
          "execution_count": 15
        }
      ]
    },
    {
      "cell_type": "code",
      "metadata": {
        "id": "3ZxSkn988C0B",
        "colab_type": "code",
        "colab": {}
      },
      "source": [
        "dev_sample_1000 = dev_df[dev_df['original_idx'].isin(orig_index_list)]"
      ],
      "execution_count": 0,
      "outputs": []
    },
    {
      "cell_type": "code",
      "metadata": {
        "id": "i2E21OwZ8Tlh",
        "colab_type": "code",
        "colab": {
          "base_uri": "https://localhost:8080/",
          "height": 34
        },
        "outputId": "7e7a2718-e49f-43c5-aef0-fc8262547762"
      },
      "source": [
        "# Not sure why one row is missing...\n",
        "len(dev_sample_1000)"
      ],
      "execution_count": 14,
      "outputs": [
        {
          "output_type": "execute_result",
          "data": {
            "text/plain": [
              "999"
            ]
          },
          "metadata": {
            "tags": []
          },
          "execution_count": 14
        }
      ]
    },
    {
      "cell_type": "code",
      "metadata": {
        "id": "8vKtnDsc9PPF",
        "colab_type": "code",
        "colab": {}
      },
      "source": [
        "dev_sample_1000 = pd.merge(dev_sample_1000, sample_1000_LP[['original_idx','LP_Gender']], on='original_idx', how = 'left')"
      ],
      "execution_count": 0,
      "outputs": []
    },
    {
      "cell_type": "code",
      "metadata": {
        "id": "puCVkQ9WDSDK",
        "colab_type": "code",
        "colab": {}
      },
      "source": [
        "def F_to_W(gender):\n",
        "  if gender == 'F':\n",
        "    return 'W'\n",
        "  else:\n",
        "    return 'M'\n",
        "  \n",
        "dev_sample_1000['LP_Gender'] = dev_sample_1000['LP_Gender'].apply(F_to_W)\n"
      ],
      "execution_count": 0,
      "outputs": []
    },
    {
      "cell_type": "code",
      "metadata": {
        "id": "7dmuEv1o--Bo",
        "colab_type": "code",
        "colab": {}
      },
      "source": [
        "LP_correct = dev_sample_1000[dev_sample_1000['LP_Gender']==dev_sample_1000['op_gender']]\n",
        "LP_incorrect = dev_sample_1000[dev_sample_1000['LP_Gender']!=dev_sample_1000['op_gender']]"
      ],
      "execution_count": 0,
      "outputs": []
    },
    {
      "cell_type": "code",
      "metadata": {
        "id": "UJ8lLHzaAxNS",
        "colab_type": "code",
        "colab": {
          "base_uri": "https://localhost:8080/",
          "height": 34
        },
        "outputId": "a53249be-4cbd-474c-d911-95489ee847c3"
      },
      "source": [
        "len(LP_correct)"
      ],
      "execution_count": 30,
      "outputs": [
        {
          "output_type": "execute_result",
          "data": {
            "text/plain": [
              "746"
            ]
          },
          "metadata": {
            "tags": []
          },
          "execution_count": 30
        }
      ]
    },
    {
      "cell_type": "code",
      "metadata": {
        "id": "OThIWDscBXE7",
        "colab_type": "code",
        "colab": {
          "base_uri": "https://localhost:8080/",
          "height": 70
        },
        "outputId": "b3adffb5-cd59-4c43-a720-6a27bf37bcc0"
      },
      "source": [
        "LP_correct.LP_Gender.value_counts()"
      ],
      "execution_count": 31,
      "outputs": [
        {
          "output_type": "execute_result",
          "data": {
            "text/plain": [
              "M    664\n",
              "W     82\n",
              "Name: LP_Gender, dtype: int64"
            ]
          },
          "metadata": {
            "tags": []
          },
          "execution_count": 31
        }
      ]
    },
    {
      "cell_type": "code",
      "metadata": {
        "id": "4SY9aVNLFYtG",
        "colab_type": "code",
        "colab": {
          "base_uri": "https://localhost:8080/",
          "height": 862
        },
        "outputId": "ee8c2723-9b6f-4e78-dfea-abdfcc4c975a"
      },
      "source": [
        "LP_correct.op_name.value_counts()\n"
      ],
      "execution_count": 37,
      "outputs": [
        {
          "output_type": "execute_result",
          "data": {
            "text/plain": [
              "Marco Rubio               228\n",
              "John McCain               105\n",
              "Kirsten Gillibrand         42\n",
              "Sherrod Brown              36\n",
              "Tim Kaine                  35\n",
              "Paul Ryan                  28\n",
              "Ted Poe                    21\n",
              "Ron Wyden                  20\n",
              "Cathy McMorris Rodgers     20\n",
              "Mark Takano                17\n",
              "Kenny Marchant             16\n",
              "Paul Gosar                 16\n",
              "Jeff Flake                 15\n",
              "Joe Barton                 14\n",
              "Steve King                 12\n",
              "Bill Huizenga              11\n",
              "Peter DeFazio               8\n",
              "Ryan Zinke                  8\n",
              "Ann Wagner                  7\n",
              "Keith Rothfus               7\n",
              "Tim Walberg                 7\n",
              "Daniel Webster              6\n",
              "Blake Farenthold            6\n",
              "Mike Crapo                  6\n",
              "Michael McCaul              5\n",
              "Betty McCollum              4\n",
              "Richard Shelby              4\n",
              "Steve Scalise               4\n",
              "Don Beyer                   4\n",
              "Sam Graves                  4\n",
              "Ted Cruz                    4\n",
              "Marc Veasey                 3\n",
              "Pete Visclosky              3\n",
              "Hal Rogers                  2\n",
              "Stephen F. Lynch            2\n",
              "Mike Simpson                2\n",
              "Carolyn Maloney             2\n",
              "Jaime Herrera Beutler       2\n",
              "John Garamendi              2\n",
              "Yvette Clarke               1\n",
              "Susan Brooks                1\n",
              "Sander Levin                1\n",
              "Dianne Feinstein            1\n",
              "Grace Napolitano            1\n",
              "Anna Eshoo                  1\n",
              "Albio Sires                 1\n",
              "Cedric Richmond             1\n",
              "Name: op_name, dtype: int64"
            ]
          },
          "metadata": {
            "tags": []
          },
          "execution_count": 37
        }
      ]
    },
    {
      "cell_type": "code",
      "metadata": {
        "id": "wHnuB1PUB0Oc",
        "colab_type": "code",
        "colab": {
          "base_uri": "https://localhost:8080/",
          "height": 568
        },
        "outputId": "bb75282b-71b7-4296-d6c3-629b01a43f3e"
      },
      "source": [
        "LP_correct.head()"
      ],
      "execution_count": 32,
      "outputs": [
        {
          "output_type": "execute_result",
          "data": {
            "text/html": [
              "<div>\n",
              "<style scoped>\n",
              "    .dataframe tbody tr th:only-of-type {\n",
              "        vertical-align: middle;\n",
              "    }\n",
              "\n",
              "    .dataframe tbody tr th {\n",
              "        vertical-align: top;\n",
              "    }\n",
              "\n",
              "    .dataframe thead th {\n",
              "        text-align: right;\n",
              "    }\n",
              "</style>\n",
              "<table border=\"1\" class=\"dataframe\">\n",
              "  <thead>\n",
              "    <tr style=\"text-align: right;\">\n",
              "      <th></th>\n",
              "      <th>original_idx</th>\n",
              "      <th>op_id</th>\n",
              "      <th>op_gender</th>\n",
              "      <th>post_id</th>\n",
              "      <th>responder_id</th>\n",
              "      <th>response_text_x</th>\n",
              "      <th>op_name</th>\n",
              "      <th>op_category</th>\n",
              "      <th>response_text_y</th>\n",
              "      <th>LP_Gender</th>\n",
              "      <th>ER_Gender</th>\n",
              "    </tr>\n",
              "  </thead>\n",
              "  <tbody>\n",
              "    <tr>\n",
              "      <th>0</th>\n",
              "      <td>2119298</td>\n",
              "      <td>38794897</td>\n",
              "      <td>M</td>\n",
              "      <td>36268</td>\n",
              "      <td>Sara</td>\n",
              "      <td>thank you for reading king's letter today and standing by your colleague u.s. senator elizabeth ...</td>\n",
              "      <td>Sherrod Brown</td>\n",
              "      <td>Congress_Democratic</td>\n",
              "      <td>thank you for reading king's letter today and standing by your colleague u.s. senator elizabeth ...</td>\n",
              "      <td>M</td>\n",
              "      <td>NaN</td>\n",
              "    </tr>\n",
              "    <tr>\n",
              "      <th>1</th>\n",
              "      <td>2123236</td>\n",
              "      <td>38794897</td>\n",
              "      <td>M</td>\n",
              "      <td>36274</td>\n",
              "      <td>Marcy</td>\n",
              "      <td>why are you confirming carson?!?!</td>\n",
              "      <td>Sherrod Brown</td>\n",
              "      <td>Congress_Democratic</td>\n",
              "      <td>why are you confirming carson?!?!</td>\n",
              "      <td>M</td>\n",
              "      <td>NaN</td>\n",
              "    </tr>\n",
              "    <tr>\n",
              "      <th>2</th>\n",
              "      <td>2127010</td>\n",
              "      <td>38794897</td>\n",
              "      <td>M</td>\n",
              "      <td>36293</td>\n",
              "      <td>Mary</td>\n",
              "      <td>those of us know better, know that is not true.  god bless the ignorant et those who chose to be...</td>\n",
              "      <td>Sherrod Brown</td>\n",
              "      <td>Congress_Democratic</td>\n",
              "      <td>those of us know better, know that is not true.  god bless the ignorant et those who chose to be...</td>\n",
              "      <td>M</td>\n",
              "      <td>NaN</td>\n",
              "    </tr>\n",
              "    <tr>\n",
              "      <th>4</th>\n",
              "      <td>2129211</td>\n",
              "      <td>38794897</td>\n",
              "      <td>M</td>\n",
              "      <td>36314</td>\n",
              "      <td>Zot</td>\n",
              "      <td>do your job and protect consumers by voting against the roberts/stabanow dark act to deny consum...</td>\n",
              "      <td>Sherrod Brown</td>\n",
              "      <td>Congress_Democratic</td>\n",
              "      <td>do your job and protect consumers by voting against the roberts/stabanow dark act to deny consum...</td>\n",
              "      <td>M</td>\n",
              "      <td>NaN</td>\n",
              "    </tr>\n",
              "    <tr>\n",
              "      <th>6</th>\n",
              "      <td>2130808</td>\n",
              "      <td>38794897</td>\n",
              "      <td>M</td>\n",
              "      <td>36328</td>\n",
              "      <td>Valerie</td>\n",
              "      <td>he has going to have a rude awakening</td>\n",
              "      <td>Sherrod Brown</td>\n",
              "      <td>Congress_Democratic</td>\n",
              "      <td>he has going to have a rude awakening</td>\n",
              "      <td>M</td>\n",
              "      <td>NaN</td>\n",
              "    </tr>\n",
              "  </tbody>\n",
              "</table>\n",
              "</div>"
            ],
            "text/plain": [
              "   original_idx     op_id  ... LP_Gender  ER_Gender\n",
              "0       2119298  38794897  ...         M        NaN\n",
              "1       2123236  38794897  ...         M        NaN\n",
              "2       2127010  38794897  ...         M        NaN\n",
              "4       2129211  38794897  ...         M        NaN\n",
              "6       2130808  38794897  ...         M        NaN\n",
              "\n",
              "[5 rows x 11 columns]"
            ]
          },
          "metadata": {
            "tags": []
          },
          "execution_count": 32
        }
      ]
    },
    {
      "cell_type": "code",
      "metadata": {
        "id": "crEA8xPRB2Uq",
        "colab_type": "code",
        "colab": {
          "base_uri": "https://localhost:8080/",
          "height": 1000
        },
        "outputId": "60297388-86f8-4562-c7f9-5e1a70dbda04"
      },
      "source": [
        "LP_incorrect.head(10)"
      ],
      "execution_count": 34,
      "outputs": [
        {
          "output_type": "execute_result",
          "data": {
            "text/html": [
              "<div>\n",
              "<style scoped>\n",
              "    .dataframe tbody tr th:only-of-type {\n",
              "        vertical-align: middle;\n",
              "    }\n",
              "\n",
              "    .dataframe tbody tr th {\n",
              "        vertical-align: top;\n",
              "    }\n",
              "\n",
              "    .dataframe thead th {\n",
              "        text-align: right;\n",
              "    }\n",
              "</style>\n",
              "<table border=\"1\" class=\"dataframe\">\n",
              "  <thead>\n",
              "    <tr style=\"text-align: right;\">\n",
              "      <th></th>\n",
              "      <th>original_idx</th>\n",
              "      <th>op_id</th>\n",
              "      <th>op_gender</th>\n",
              "      <th>post_id</th>\n",
              "      <th>responder_id</th>\n",
              "      <th>response_text_x</th>\n",
              "      <th>op_name</th>\n",
              "      <th>op_category</th>\n",
              "      <th>response_text_y</th>\n",
              "      <th>LP_Gender</th>\n",
              "      <th>ER_Gender</th>\n",
              "    </tr>\n",
              "  </thead>\n",
              "  <tbody>\n",
              "    <tr>\n",
              "      <th>3</th>\n",
              "      <td>2128047</td>\n",
              "      <td>38794897</td>\n",
              "      <td>M</td>\n",
              "      <td>36304</td>\n",
              "      <td>Rebecca</td>\n",
              "      <td>clinton wants to privatize social security, too.  are you saying you will not support her effort...</td>\n",
              "      <td>Sherrod Brown</td>\n",
              "      <td>Congress_Democratic</td>\n",
              "      <td>clinton wants to privatize social security, too.  are you saying you will not support her effort...</td>\n",
              "      <td>W</td>\n",
              "      <td>NaN</td>\n",
              "    </tr>\n",
              "    <tr>\n",
              "      <th>5</th>\n",
              "      <td>2129555</td>\n",
              "      <td>38794897</td>\n",
              "      <td>M</td>\n",
              "      <td>36318</td>\n",
              "      <td>Debbie</td>\n",
              "      <td>senator, why have you sold your soul to corp. and wall street by endorsing hillary clinton.  you...</td>\n",
              "      <td>Sherrod Brown</td>\n",
              "      <td>Congress_Democratic</td>\n",
              "      <td>senator, why have you sold your soul to corp. and wall street by endorsing hillary clinton.  you...</td>\n",
              "      <td>W</td>\n",
              "      <td>NaN</td>\n",
              "    </tr>\n",
              "    <tr>\n",
              "      <th>7</th>\n",
              "      <td>2130916</td>\n",
              "      <td>38794897</td>\n",
              "      <td>M</td>\n",
              "      <td>36329</td>\n",
              "      <td>Kathryn</td>\n",
              "      <td>do not think she will get my vote.</td>\n",
              "      <td>Sherrod Brown</td>\n",
              "      <td>Congress_Democratic</td>\n",
              "      <td>do not think she will get my vote.</td>\n",
              "      <td>W</td>\n",
              "      <td>NaN</td>\n",
              "    </tr>\n",
              "    <tr>\n",
              "      <th>10</th>\n",
              "      <td>2135200</td>\n",
              "      <td>38794897</td>\n",
              "      <td>M</td>\n",
              "      <td>36365</td>\n",
              "      <td>Eric</td>\n",
              "      <td>my faith tells me that we all need and deserve second chances. i urge you to support reauthoriza...</td>\n",
              "      <td>Sherrod Brown</td>\n",
              "      <td>Congress_Democratic</td>\n",
              "      <td>my faith tells me that we all need and deserve second chances. i urge you to support reauthoriza...</td>\n",
              "      <td>W</td>\n",
              "      <td>NaN</td>\n",
              "    </tr>\n",
              "    <tr>\n",
              "      <th>13</th>\n",
              "      <td>2137454</td>\n",
              "      <td>38794897</td>\n",
              "      <td>M</td>\n",
              "      <td>36407</td>\n",
              "      <td>Linda</td>\n",
              "      <td>charlotte chipps ... you sound as if you have a \"chipp\" on your shoulder, maybe!  but happy than...</td>\n",
              "      <td>Sherrod Brown</td>\n",
              "      <td>Congress_Democratic</td>\n",
              "      <td>charlotte chipps ... you sound as if you have a \"chipp\" on your shoulder, maybe!  but happy than...</td>\n",
              "      <td>W</td>\n",
              "      <td>NaN</td>\n",
              "    </tr>\n",
              "    <tr>\n",
              "      <th>15</th>\n",
              "      <td>2141931</td>\n",
              "      <td>38794897</td>\n",
              "      <td>M</td>\n",
              "      <td>36481</td>\n",
              "      <td>Mimi</td>\n",
              "      <td>i love connie, too.</td>\n",
              "      <td>Sherrod Brown</td>\n",
              "      <td>Congress_Democratic</td>\n",
              "      <td>i love connie, too.</td>\n",
              "      <td>W</td>\n",
              "      <td>NaN</td>\n",
              "    </tr>\n",
              "    <tr>\n",
              "      <th>27</th>\n",
              "      <td>2156094</td>\n",
              "      <td>38794897</td>\n",
              "      <td>M</td>\n",
              "      <td>36747</td>\n",
              "      <td>Norma</td>\n",
              "      <td>this is great news but if the republicans keep trying to destroy our country will it really matter?</td>\n",
              "      <td>Sherrod Brown</td>\n",
              "      <td>Congress_Democratic</td>\n",
              "      <td>this is great news but if the republicans keep trying to destroy our country will it really matter?</td>\n",
              "      <td>W</td>\n",
              "      <td>NaN</td>\n",
              "    </tr>\n",
              "    <tr>\n",
              "      <th>32</th>\n",
              "      <td>2161739</td>\n",
              "      <td>38794897</td>\n",
              "      <td>M</td>\n",
              "      <td>36826</td>\n",
              "      <td>Gwen</td>\n",
              "      <td>our privilege to vote for you and our good fortune to have you working for us.</td>\n",
              "      <td>Sherrod Brown</td>\n",
              "      <td>Congress_Democratic</td>\n",
              "      <td>our privilege to vote for you and our good fortune to have you working for us.</td>\n",
              "      <td>W</td>\n",
              "      <td>NaN</td>\n",
              "    </tr>\n",
              "    <tr>\n",
              "      <th>34</th>\n",
              "      <td>2172894</td>\n",
              "      <td>38794897</td>\n",
              "      <td>M</td>\n",
              "      <td>36883</td>\n",
              "      <td>Renee</td>\n",
              "      <td>i wish i could vote for you but i do support your work and your ideals!</td>\n",
              "      <td>Sherrod Brown</td>\n",
              "      <td>Congress_Democratic</td>\n",
              "      <td>i wish i could vote for you but i do support your work and your ideals!</td>\n",
              "      <td>W</td>\n",
              "      <td>NaN</td>\n",
              "    </tr>\n",
              "    <tr>\n",
              "      <th>39</th>\n",
              "      <td>2192417</td>\n",
              "      <td>38794897</td>\n",
              "      <td>M</td>\n",
              "      <td>37895</td>\n",
              "      <td>Jeffrey</td>\n",
              "      <td>wow in one month the unemployment went down to 9%   way to go gop</td>\n",
              "      <td>Sherrod Brown</td>\n",
              "      <td>Congress_Democratic</td>\n",
              "      <td>wow in one month the unemployment went down to 9%   way to go gop</td>\n",
              "      <td>W</td>\n",
              "      <td>NaN</td>\n",
              "    </tr>\n",
              "  </tbody>\n",
              "</table>\n",
              "</div>"
            ],
            "text/plain": [
              "    original_idx     op_id  ... LP_Gender  ER_Gender\n",
              "3        2128047  38794897  ...         W        NaN\n",
              "5        2129555  38794897  ...         W        NaN\n",
              "7        2130916  38794897  ...         W        NaN\n",
              "10       2135200  38794897  ...         W        NaN\n",
              "13       2137454  38794897  ...         W        NaN\n",
              "15       2141931  38794897  ...         W        NaN\n",
              "27       2156094  38794897  ...         W        NaN\n",
              "32       2161739  38794897  ...         W        NaN\n",
              "34       2172894  38794897  ...         W        NaN\n",
              "39       2192417  38794897  ...         W        NaN\n",
              "\n",
              "[10 rows x 11 columns]"
            ]
          },
          "metadata": {
            "tags": []
          },
          "execution_count": 34
        }
      ]
    },
    {
      "cell_type": "code",
      "metadata": {
        "id": "WQSuDxqBBB5b",
        "colab_type": "code",
        "colab": {
          "base_uri": "https://localhost:8080/",
          "height": 70
        },
        "outputId": "dad9794b-8668-46df-c8b3-90d6c8b412c1"
      },
      "source": [
        "# Number of M/F incorrect guesses.\n",
        "LP_incorrect.LP_Gender.value_counts()"
      ],
      "execution_count": 33,
      "outputs": [
        {
          "output_type": "execute_result",
          "data": {
            "text/plain": [
              "W    196\n",
              "M     58\n",
              "Name: LP_Gender, dtype: int64"
            ]
          },
          "metadata": {
            "tags": []
          },
          "execution_count": 33
        }
      ]
    },
    {
      "cell_type": "code",
      "metadata": {
        "id": "kC7KpifUGTk5",
        "colab_type": "code",
        "colab": {
          "base_uri": "https://localhost:8080/",
          "height": 774
        },
        "outputId": "171ed8cf-e9e8-4947-a5b1-8999ec9026b0"
      },
      "source": [
        "LP_incorrect.op_name.value_counts()"
      ],
      "execution_count": 38,
      "outputs": [
        {
          "output_type": "execute_result",
          "data": {
            "text/plain": [
              "Marco Rubio               36\n",
              "Kirsten Gillibrand        27\n",
              "John McCain               25\n",
              "Mark Takano               14\n",
              "Cathy McMorris Rodgers    14\n",
              "Sherrod Brown             13\n",
              "Paul Ryan                  9\n",
              "Ted Poe                    9\n",
              "Paul Gosar                 8\n",
              "Don Beyer                  8\n",
              "Ron Wyden                  7\n",
              "Steve King                 7\n",
              "Tim Kaine                  7\n",
              "Ann Wagner                 6\n",
              "Joe Barton                 5\n",
              "Jeff Flake                 5\n",
              "Ryan Zinke                 5\n",
              "Robert Aderholt            3\n",
              "Michael McCaul             3\n",
              "Robin Kelly                3\n",
              "Mike Crapo                 3\n",
              "Kenny Marchant             3\n",
              "Tim Walberg                3\n",
              "Richard Shelby             3\n",
              "Sam Graves                 2\n",
              "Stephen F. Lynch           2\n",
              "Anna Eshoo                 2\n",
              "Bill Huizenga              2\n",
              "Jaime Herrera Beutler      2\n",
              "Steve Scalise              2\n",
              "Peter DeFazio              2\n",
              "John Garamendi             2\n",
              "Blake Farenthold           2\n",
              "Daniel Webster             2\n",
              "Catherine Cortez Masto     1\n",
              "Dianne Feinstein           1\n",
              "Carolyn Maloney            1\n",
              "Hal Rogers                 1\n",
              "Bob Menendez               1\n",
              "Sanford Bishop             1\n",
              "Yvette Clarke              1\n",
              "Keith Rothfus              1\n",
              "Name: op_name, dtype: int64"
            ]
          },
          "metadata": {
            "tags": []
          },
          "execution_count": 38
        }
      ]
    },
    {
      "cell_type": "code",
      "metadata": {
        "id": "ZTqRLNJgAztB",
        "colab_type": "code",
        "colab": {}
      },
      "source": [
        "# Lorrel incorrectly guessed male.\n",
        "LP_false_M = LP_incorrect[LP_incorrect['LP_Gender']=='M']\n",
        "# Lorrel incorrectly guessed female.\n",
        "LP_false_F = LP_incorrect[LP_incorrect['LP_Gender']=='W']\n"
      ],
      "execution_count": 0,
      "outputs": []
    },
    {
      "cell_type": "code",
      "metadata": {
        "id": "kcSq49LTCWcc",
        "colab_type": "code",
        "colab": {
          "base_uri": "https://localhost:8080/",
          "height": 1000
        },
        "outputId": "5b4d2a16-da58-4019-e26b-75f71927dfc9"
      },
      "source": [
        "LP_false_M.head(10)"
      ],
      "execution_count": 36,
      "outputs": [
        {
          "output_type": "execute_result",
          "data": {
            "text/html": [
              "<div>\n",
              "<style scoped>\n",
              "    .dataframe tbody tr th:only-of-type {\n",
              "        vertical-align: middle;\n",
              "    }\n",
              "\n",
              "    .dataframe tbody tr th {\n",
              "        vertical-align: top;\n",
              "    }\n",
              "\n",
              "    .dataframe thead th {\n",
              "        text-align: right;\n",
              "    }\n",
              "</style>\n",
              "<table border=\"1\" class=\"dataframe\">\n",
              "  <thead>\n",
              "    <tr style=\"text-align: right;\">\n",
              "      <th></th>\n",
              "      <th>original_idx</th>\n",
              "      <th>op_id</th>\n",
              "      <th>op_gender</th>\n",
              "      <th>post_id</th>\n",
              "      <th>responder_id</th>\n",
              "      <th>response_text_x</th>\n",
              "      <th>op_name</th>\n",
              "      <th>op_category</th>\n",
              "      <th>response_text_y</th>\n",
              "      <th>LP_Gender</th>\n",
              "      <th>ER_Gender</th>\n",
              "    </tr>\n",
              "  </thead>\n",
              "  <tbody>\n",
              "    <tr>\n",
              "      <th>50</th>\n",
              "      <td>2256755</td>\n",
              "      <td>47977187</td>\n",
              "      <td>W</td>\n",
              "      <td>44147</td>\n",
              "      <td>Chris</td>\n",
              "      <td>only democrats need to conceal their party affiliation</td>\n",
              "      <td>Catherine Cortez Masto</td>\n",
              "      <td>Congress_Democratic</td>\n",
              "      <td>only democrats need to conceal their party affiliation</td>\n",
              "      <td>M</td>\n",
              "      <td>NaN</td>\n",
              "    </tr>\n",
              "    <tr>\n",
              "      <th>169</th>\n",
              "      <td>2650001</td>\n",
              "      <td>13876473</td>\n",
              "      <td>W</td>\n",
              "      <td>69517</td>\n",
              "      <td>Anna</td>\n",
              "      <td>take that hand away ushhhhh</td>\n",
              "      <td>Carolyn Maloney</td>\n",
              "      <td>Congress_Democratic</td>\n",
              "      <td>take that hand away ushhhhh</td>\n",
              "      <td>M</td>\n",
              "      <td>NaN</td>\n",
              "    </tr>\n",
              "    <tr>\n",
              "      <th>173</th>\n",
              "      <td>3126674</td>\n",
              "      <td>23984618</td>\n",
              "      <td>W</td>\n",
              "      <td>82989</td>\n",
              "      <td>Tami</td>\n",
              "      <td>guess we sent them the cash for their next big attack on american soil.</td>\n",
              "      <td>Ann Wagner</td>\n",
              "      <td>Congress_Republican</td>\n",
              "      <td>guess we sent them the cash for their next big attack on american soil.</td>\n",
              "      <td>M</td>\n",
              "      <td>NaN</td>\n",
              "    </tr>\n",
              "    <tr>\n",
              "      <th>176</th>\n",
              "      <td>3135248</td>\n",
              "      <td>23984618</td>\n",
              "      <td>W</td>\n",
              "      <td>83407</td>\n",
              "      <td>Brandy</td>\n",
              "      <td>harry is scary!!</td>\n",
              "      <td>Ann Wagner</td>\n",
              "      <td>Congress_Republican</td>\n",
              "      <td>harry is scary!!</td>\n",
              "      <td>M</td>\n",
              "      <td>NaN</td>\n",
              "    </tr>\n",
              "    <tr>\n",
              "      <th>179</th>\n",
              "      <td>3138132</td>\n",
              "      <td>23984618</td>\n",
              "      <td>W</td>\n",
              "      <td>83535</td>\n",
              "      <td>Phyllis</td>\n",
              "      <td>its not blind allegiance, its being smart enough to have a solid plan before execution...its get...</td>\n",
              "      <td>Ann Wagner</td>\n",
              "      <td>Congress_Republican</td>\n",
              "      <td>its not blind allegiance, its being smart enough to have a solid plan before execution...its get...</td>\n",
              "      <td>M</td>\n",
              "      <td>NaN</td>\n",
              "    </tr>\n",
              "    <tr>\n",
              "      <th>180</th>\n",
              "      <td>3138980</td>\n",
              "      <td>23984618</td>\n",
              "      <td>W</td>\n",
              "      <td>83574</td>\n",
              "      <td>Robert</td>\n",
              "      <td>dear mr. groth: you obviously have never met, do not know or cannot intellectually grasp who ann...</td>\n",
              "      <td>Ann Wagner</td>\n",
              "      <td>Congress_Republican</td>\n",
              "      <td>dear mr. groth: you obviously have never met, do not know or cannot intellectually grasp who ann...</td>\n",
              "      <td>M</td>\n",
              "      <td>NaN</td>\n",
              "    </tr>\n",
              "    <tr>\n",
              "      <th>181</th>\n",
              "      <td>3141798</td>\n",
              "      <td>23984618</td>\n",
              "      <td>W</td>\n",
              "      <td>83646</td>\n",
              "      <td>Larry</td>\n",
              "      <td>why do we not have anyone in congress or senate to start impeachment against obama, he is the bi...</td>\n",
              "      <td>Ann Wagner</td>\n",
              "      <td>Congress_Republican</td>\n",
              "      <td>why do we not have anyone in congress or senate to start impeachment against obama, he is the bi...</td>\n",
              "      <td>M</td>\n",
              "      <td>NaN</td>\n",
              "    </tr>\n",
              "    <tr>\n",
              "      <th>184</th>\n",
              "      <td>3150003</td>\n",
              "      <td>23984618</td>\n",
              "      <td>W</td>\n",
              "      <td>83797</td>\n",
              "      <td>Stephanie</td>\n",
              "      <td>would have said pappy's up until we tried l'il mickey's in st. peters.  pappy's has better sides...</td>\n",
              "      <td>Ann Wagner</td>\n",
              "      <td>Congress_Republican</td>\n",
              "      <td>would have said pappy's up until we tried l'il mickey's in st. peters.  pappy's has better sides...</td>\n",
              "      <td>M</td>\n",
              "      <td>NaN</td>\n",
              "    </tr>\n",
              "    <tr>\n",
              "      <th>196</th>\n",
              "      <td>3361581</td>\n",
              "      <td>76269753</td>\n",
              "      <td>W</td>\n",
              "      <td>103744</td>\n",
              "      <td>Rob</td>\n",
              "      <td>with the strictest gun laws in america, banning everything you want banned, explain chicago!, hi...</td>\n",
              "      <td>Dianne Feinstein</td>\n",
              "      <td>Congress_Democratic</td>\n",
              "      <td>with the strictest gun laws in america, banning everything you want banned, explain chicago!, hi...</td>\n",
              "      <td>M</td>\n",
              "      <td>NaN</td>\n",
              "    </tr>\n",
              "    <tr>\n",
              "      <th>502</th>\n",
              "      <td>6087382</td>\n",
              "      <td>19189340</td>\n",
              "      <td>W</td>\n",
              "      <td>208352</td>\n",
              "      <td>Vicki</td>\n",
              "      <td>thats for us</td>\n",
              "      <td>Robin Kelly</td>\n",
              "      <td>Congress_Democratic</td>\n",
              "      <td>thats for us</td>\n",
              "      <td>M</td>\n",
              "      <td>NaN</td>\n",
              "    </tr>\n",
              "  </tbody>\n",
              "</table>\n",
              "</div>"
            ],
            "text/plain": [
              "     original_idx     op_id  ... LP_Gender  ER_Gender\n",
              "50        2256755  47977187  ...         M        NaN\n",
              "169       2650001  13876473  ...         M        NaN\n",
              "173       3126674  23984618  ...         M        NaN\n",
              "176       3135248  23984618  ...         M        NaN\n",
              "179       3138132  23984618  ...         M        NaN\n",
              "180       3138980  23984618  ...         M        NaN\n",
              "181       3141798  23984618  ...         M        NaN\n",
              "184       3150003  23984618  ...         M        NaN\n",
              "196       3361581  76269753  ...         M        NaN\n",
              "502       6087382  19189340  ...         M        NaN\n",
              "\n",
              "[10 rows x 11 columns]"
            ]
          },
          "metadata": {
            "tags": []
          },
          "execution_count": 36
        }
      ]
    },
    {
      "cell_type": "code",
      "metadata": {
        "id": "CH8ObvVnHKV4",
        "colab_type": "code",
        "colab": {
          "base_uri": "https://localhost:8080/",
          "height": 1000
        },
        "outputId": "5e08a0fe-383e-425e-ee67-dd1a3539b7fb"
      },
      "source": [
        "LP_false_F.head(10)"
      ],
      "execution_count": 39,
      "outputs": [
        {
          "output_type": "execute_result",
          "data": {
            "text/html": [
              "<div>\n",
              "<style scoped>\n",
              "    .dataframe tbody tr th:only-of-type {\n",
              "        vertical-align: middle;\n",
              "    }\n",
              "\n",
              "    .dataframe tbody tr th {\n",
              "        vertical-align: top;\n",
              "    }\n",
              "\n",
              "    .dataframe thead th {\n",
              "        text-align: right;\n",
              "    }\n",
              "</style>\n",
              "<table border=\"1\" class=\"dataframe\">\n",
              "  <thead>\n",
              "    <tr style=\"text-align: right;\">\n",
              "      <th></th>\n",
              "      <th>original_idx</th>\n",
              "      <th>op_id</th>\n",
              "      <th>op_gender</th>\n",
              "      <th>post_id</th>\n",
              "      <th>responder_id</th>\n",
              "      <th>response_text_x</th>\n",
              "      <th>op_name</th>\n",
              "      <th>op_category</th>\n",
              "      <th>response_text_y</th>\n",
              "      <th>LP_Gender</th>\n",
              "      <th>ER_Gender</th>\n",
              "    </tr>\n",
              "  </thead>\n",
              "  <tbody>\n",
              "    <tr>\n",
              "      <th>3</th>\n",
              "      <td>2128047</td>\n",
              "      <td>38794897</td>\n",
              "      <td>M</td>\n",
              "      <td>36304</td>\n",
              "      <td>Rebecca</td>\n",
              "      <td>clinton wants to privatize social security, too.  are you saying you will not support her effort...</td>\n",
              "      <td>Sherrod Brown</td>\n",
              "      <td>Congress_Democratic</td>\n",
              "      <td>clinton wants to privatize social security, too.  are you saying you will not support her effort...</td>\n",
              "      <td>W</td>\n",
              "      <td>NaN</td>\n",
              "    </tr>\n",
              "    <tr>\n",
              "      <th>5</th>\n",
              "      <td>2129555</td>\n",
              "      <td>38794897</td>\n",
              "      <td>M</td>\n",
              "      <td>36318</td>\n",
              "      <td>Debbie</td>\n",
              "      <td>senator, why have you sold your soul to corp. and wall street by endorsing hillary clinton.  you...</td>\n",
              "      <td>Sherrod Brown</td>\n",
              "      <td>Congress_Democratic</td>\n",
              "      <td>senator, why have you sold your soul to corp. and wall street by endorsing hillary clinton.  you...</td>\n",
              "      <td>W</td>\n",
              "      <td>NaN</td>\n",
              "    </tr>\n",
              "    <tr>\n",
              "      <th>7</th>\n",
              "      <td>2130916</td>\n",
              "      <td>38794897</td>\n",
              "      <td>M</td>\n",
              "      <td>36329</td>\n",
              "      <td>Kathryn</td>\n",
              "      <td>do not think she will get my vote.</td>\n",
              "      <td>Sherrod Brown</td>\n",
              "      <td>Congress_Democratic</td>\n",
              "      <td>do not think she will get my vote.</td>\n",
              "      <td>W</td>\n",
              "      <td>NaN</td>\n",
              "    </tr>\n",
              "    <tr>\n",
              "      <th>10</th>\n",
              "      <td>2135200</td>\n",
              "      <td>38794897</td>\n",
              "      <td>M</td>\n",
              "      <td>36365</td>\n",
              "      <td>Eric</td>\n",
              "      <td>my faith tells me that we all need and deserve second chances. i urge you to support reauthoriza...</td>\n",
              "      <td>Sherrod Brown</td>\n",
              "      <td>Congress_Democratic</td>\n",
              "      <td>my faith tells me that we all need and deserve second chances. i urge you to support reauthoriza...</td>\n",
              "      <td>W</td>\n",
              "      <td>NaN</td>\n",
              "    </tr>\n",
              "    <tr>\n",
              "      <th>13</th>\n",
              "      <td>2137454</td>\n",
              "      <td>38794897</td>\n",
              "      <td>M</td>\n",
              "      <td>36407</td>\n",
              "      <td>Linda</td>\n",
              "      <td>charlotte chipps ... you sound as if you have a \"chipp\" on your shoulder, maybe!  but happy than...</td>\n",
              "      <td>Sherrod Brown</td>\n",
              "      <td>Congress_Democratic</td>\n",
              "      <td>charlotte chipps ... you sound as if you have a \"chipp\" on your shoulder, maybe!  but happy than...</td>\n",
              "      <td>W</td>\n",
              "      <td>NaN</td>\n",
              "    </tr>\n",
              "    <tr>\n",
              "      <th>15</th>\n",
              "      <td>2141931</td>\n",
              "      <td>38794897</td>\n",
              "      <td>M</td>\n",
              "      <td>36481</td>\n",
              "      <td>Mimi</td>\n",
              "      <td>i love connie, too.</td>\n",
              "      <td>Sherrod Brown</td>\n",
              "      <td>Congress_Democratic</td>\n",
              "      <td>i love connie, too.</td>\n",
              "      <td>W</td>\n",
              "      <td>NaN</td>\n",
              "    </tr>\n",
              "    <tr>\n",
              "      <th>27</th>\n",
              "      <td>2156094</td>\n",
              "      <td>38794897</td>\n",
              "      <td>M</td>\n",
              "      <td>36747</td>\n",
              "      <td>Norma</td>\n",
              "      <td>this is great news but if the republicans keep trying to destroy our country will it really matter?</td>\n",
              "      <td>Sherrod Brown</td>\n",
              "      <td>Congress_Democratic</td>\n",
              "      <td>this is great news but if the republicans keep trying to destroy our country will it really matter?</td>\n",
              "      <td>W</td>\n",
              "      <td>NaN</td>\n",
              "    </tr>\n",
              "    <tr>\n",
              "      <th>32</th>\n",
              "      <td>2161739</td>\n",
              "      <td>38794897</td>\n",
              "      <td>M</td>\n",
              "      <td>36826</td>\n",
              "      <td>Gwen</td>\n",
              "      <td>our privilege to vote for you and our good fortune to have you working for us.</td>\n",
              "      <td>Sherrod Brown</td>\n",
              "      <td>Congress_Democratic</td>\n",
              "      <td>our privilege to vote for you and our good fortune to have you working for us.</td>\n",
              "      <td>W</td>\n",
              "      <td>NaN</td>\n",
              "    </tr>\n",
              "    <tr>\n",
              "      <th>34</th>\n",
              "      <td>2172894</td>\n",
              "      <td>38794897</td>\n",
              "      <td>M</td>\n",
              "      <td>36883</td>\n",
              "      <td>Renee</td>\n",
              "      <td>i wish i could vote for you but i do support your work and your ideals!</td>\n",
              "      <td>Sherrod Brown</td>\n",
              "      <td>Congress_Democratic</td>\n",
              "      <td>i wish i could vote for you but i do support your work and your ideals!</td>\n",
              "      <td>W</td>\n",
              "      <td>NaN</td>\n",
              "    </tr>\n",
              "    <tr>\n",
              "      <th>39</th>\n",
              "      <td>2192417</td>\n",
              "      <td>38794897</td>\n",
              "      <td>M</td>\n",
              "      <td>37895</td>\n",
              "      <td>Jeffrey</td>\n",
              "      <td>wow in one month the unemployment went down to 9%   way to go gop</td>\n",
              "      <td>Sherrod Brown</td>\n",
              "      <td>Congress_Democratic</td>\n",
              "      <td>wow in one month the unemployment went down to 9%   way to go gop</td>\n",
              "      <td>W</td>\n",
              "      <td>NaN</td>\n",
              "    </tr>\n",
              "  </tbody>\n",
              "</table>\n",
              "</div>"
            ],
            "text/plain": [
              "    original_idx     op_id  ... LP_Gender  ER_Gender\n",
              "3        2128047  38794897  ...         W        NaN\n",
              "5        2129555  38794897  ...         W        NaN\n",
              "7        2130916  38794897  ...         W        NaN\n",
              "10       2135200  38794897  ...         W        NaN\n",
              "13       2137454  38794897  ...         W        NaN\n",
              "15       2141931  38794897  ...         W        NaN\n",
              "27       2156094  38794897  ...         W        NaN\n",
              "32       2161739  38794897  ...         W        NaN\n",
              "34       2172894  38794897  ...         W        NaN\n",
              "39       2192417  38794897  ...         W        NaN\n",
              "\n",
              "[10 rows x 11 columns]"
            ]
          },
          "metadata": {
            "tags": []
          },
          "execution_count": 39
        }
      ]
    }
  ]
}
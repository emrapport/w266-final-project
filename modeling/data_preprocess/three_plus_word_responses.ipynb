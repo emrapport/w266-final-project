{
  "nbformat": 4,
  "nbformat_minor": 0,
  "metadata": {
    "kernelspec": {
      "name": "python3",
      "display_name": "Python 3"
    },
    "language_info": {
      "codemirror_mode": {
        "name": "ipython",
        "version": 3
      },
      "file_extension": ".py",
      "mimetype": "text/x-python",
      "name": "python",
      "nbconvert_exporter": "python",
      "pygments_lexer": "ipython3",
      "version": "3.7.4"
    },
    "colab": {
      "name": "three_plus_word_responses.ipynb",
      "provenance": [],
      "machine_shape": "hm",
      "include_colab_link": true
    },
    "accelerator": "TPU"
  },
  "cells": [
    {
      "cell_type": "markdown",
      "metadata": {
        "id": "view-in-github",
        "colab_type": "text"
      },
      "source": [
        "<a href=\"https://colab.research.google.com/github/emrapport/w266-final-project/blob/master/modeling/three_plus_word_responses.ipynb\" target=\"_parent\"><img src=\"https://colab.research.google.com/assets/colab-badge.svg\" alt=\"Open In Colab\"/></a>"
      ]
    },
    {
      "cell_type": "markdown",
      "metadata": {
        "id": "ldVKPuCY1oqk",
        "colab_type": "text"
      },
      "source": [
        "## Remove posts with only 1 or 2 words. Leave response length at 20.\n",
        "\n"
      ]
    },
    {
      "cell_type": "code",
      "metadata": {
        "id": "dJtCeCgbSs0D",
        "colab_type": "code",
        "colab": {}
      },
      "source": [
        "# this notebook is based off of this blog post: \n",
        "# https://realpython.com/python-keras-text-classification/#reader-comments"
      ],
      "execution_count": 0,
      "outputs": []
    },
    {
      "cell_type": "code",
      "metadata": {
        "id": "_QYIGfoPFRZK",
        "colab_type": "code",
        "colab": {}
      },
      "source": [
        "DATASET_NAME = \"three_plus_words\"\n",
        "MODEL_NAME = \"three_plus_words\"\n",
        "MAX_SEQ_LENGTH = 20\n",
        "TRAINING_SET_SIZE = 4000000\n",
        "VAL_SET_SIZE = 2000000\n",
        "NUM_EPOCHS = 30\n",
        "BATCH_SIZE = 1000\n",
        "MAX_SEQUENCE_LENGTH = 20\n",
        "\n",
        "\n",
        "# I don't think we have a good reason to do this right now\n",
        "# but we might eventually \n",
        "SAVE_TOKENIZED_DATA = False"
      ],
      "execution_count": 0,
      "outputs": []
    },
    {
      "cell_type": "code",
      "metadata": {
        "id": "l0rrZSx7Ss0M",
        "colab_type": "code",
        "outputId": "579cd791-77b1-4348-a8af-9000c15ff2bf",
        "colab": {
          "base_uri": "https://localhost:8080/",
          "height": 474
        }
      },
      "source": [
        "from sklearn.linear_model import LogisticRegression\n",
        "from sklearn.feature_extraction.text import HashingVectorizer\n",
        "from scipy.sparse import hstack, vstack\n",
        "from keras.preprocessing.text import Tokenizer\n",
        "from tensorflow.keras import Sequential, layers\n",
        "from keras.utils import plot_model\n",
        "import pandas as pd\n",
        "import numpy as np\n",
        "import copy\n",
        "import time\n",
        "import pickle\n",
        "!pip install gcsfs\n",
        "\n",
        "pd.set_option('max_colwidth', 100)"
      ],
      "execution_count": 2,
      "outputs": [
        {
          "output_type": "stream",
          "text": [
            "Using TensorFlow backend.\n"
          ],
          "name": "stderr"
        },
        {
          "output_type": "stream",
          "text": [
            "Collecting gcsfs\n",
            "  Downloading https://files.pythonhosted.org/packages/65/e2/05f903ce8f77804127195cfcc1ca8b500a3157a1572dcc4b82bf5af01564/gcsfs-0.4.0-py2.py3-none-any.whl\n",
            "Requirement already satisfied: requests in /usr/local/lib/python3.6/dist-packages (from gcsfs) (2.21.0)\n",
            "Requirement already satisfied: google-auth-oauthlib in /usr/local/lib/python3.6/dist-packages (from gcsfs) (0.4.1)\n",
            "Requirement already satisfied: google-auth>=1.2 in /usr/local/lib/python3.6/dist-packages (from gcsfs) (1.4.2)\n",
            "Requirement already satisfied: decorator in /usr/local/lib/python3.6/dist-packages (from gcsfs) (4.4.1)\n",
            "Collecting fsspec>=0.6.0\n",
            "\u001b[?25l  Downloading https://files.pythonhosted.org/packages/4f/d9/40c970ef234cd3054c9cd6c087b92f24ea5b1209c87dcb931e28a72dbc29/fsspec-0.6.0-py3-none-any.whl (61kB)\n",
            "\u001b[K     |████████████████████████████████| 71kB 4.7MB/s \n",
            "\u001b[?25hRequirement already satisfied: urllib3<1.25,>=1.21.1 in /usr/local/lib/python3.6/dist-packages (from requests->gcsfs) (1.24.3)\n",
            "Requirement already satisfied: certifi>=2017.4.17 in /usr/local/lib/python3.6/dist-packages (from requests->gcsfs) (2019.9.11)\n",
            "Requirement already satisfied: idna<2.9,>=2.5 in /usr/local/lib/python3.6/dist-packages (from requests->gcsfs) (2.8)\n",
            "Requirement already satisfied: chardet<3.1.0,>=3.0.2 in /usr/local/lib/python3.6/dist-packages (from requests->gcsfs) (3.0.4)\n",
            "Requirement already satisfied: requests-oauthlib>=0.7.0 in /usr/local/lib/python3.6/dist-packages (from google-auth-oauthlib->gcsfs) (1.3.0)\n",
            "Requirement already satisfied: pyasn1-modules>=0.2.1 in /usr/local/lib/python3.6/dist-packages (from google-auth>=1.2->gcsfs) (0.2.7)\n",
            "Requirement already satisfied: rsa>=3.1.4 in /usr/local/lib/python3.6/dist-packages (from google-auth>=1.2->gcsfs) (4.0)\n",
            "Requirement already satisfied: six>=1.9.0 in /usr/local/lib/python3.6/dist-packages (from google-auth>=1.2->gcsfs) (1.12.0)\n",
            "Requirement already satisfied: cachetools>=2.0.0 in /usr/local/lib/python3.6/dist-packages (from google-auth>=1.2->gcsfs) (3.1.1)\n",
            "Requirement already satisfied: oauthlib>=3.0.0 in /usr/local/lib/python3.6/dist-packages (from requests-oauthlib>=0.7.0->google-auth-oauthlib->gcsfs) (3.1.0)\n",
            "Requirement already satisfied: pyasn1<0.5.0,>=0.4.6 in /usr/local/lib/python3.6/dist-packages (from pyasn1-modules>=0.2.1->google-auth>=1.2->gcsfs) (0.4.7)\n",
            "Installing collected packages: fsspec, gcsfs\n",
            "  Found existing installation: fsspec 0.5.2\n",
            "    Uninstalling fsspec-0.5.2:\n",
            "      Successfully uninstalled fsspec-0.5.2\n",
            "Successfully installed fsspec-0.6.0 gcsfs-0.4.0\n"
          ],
          "name": "stdout"
        }
      ]
    },
    {
      "cell_type": "code",
      "metadata": {
        "id": "lKNfUKrfUgP-",
        "colab_type": "code",
        "outputId": "a582d63a-b3d3-4be3-8c96-a2831234cbbf",
        "colab": {
          "base_uri": "https://localhost:8080/",
          "height": 175
        }
      },
      "source": [
        "# this cell is only necessary if running in colab\n",
        "project_id = 'w266-251323'\n",
        "import uuid\n",
        "bucket_name = 'fb-congressional-data/'\n",
        "from google.colab import auth\n",
        "auth.authenticate_user()\n",
        "!gcloud config set project {project_id}"
      ],
      "execution_count": 3,
      "outputs": [
        {
          "output_type": "stream",
          "text": [
            "WARNING:tensorflow:\n",
            "The TensorFlow contrib module will not be included in TensorFlow 2.0.\n",
            "For more information, please see:\n",
            "  * https://github.com/tensorflow/community/blob/master/rfcs/20180907-contrib-sunset.md\n",
            "  * https://github.com/tensorflow/addons\n",
            "  * https://github.com/tensorflow/io (for I/O related ops)\n",
            "If you depend on functionality not listed there, please file an issue.\n",
            "\n",
            "Updated property [core/project].\n"
          ],
          "name": "stdout"
        }
      ]
    },
    {
      "cell_type": "code",
      "metadata": {
        "id": "9T7PzdLQSs0j",
        "colab_type": "code",
        "outputId": "4a2b15f5-2cc7-4eaf-8420-059b4c768b9a",
        "colab": {
          "base_uri": "https://localhost:8080/",
          "height": 72
        }
      },
      "source": [
        "train_df = pd.read_csv(\"gs://fb-congressional-data/contraction_expanded_data/train.csv\", index_col=0)"
      ],
      "execution_count": 4,
      "outputs": [
        {
          "output_type": "stream",
          "text": [
            "/usr/local/lib/python3.6/dist-packages/numpy/lib/arraysetops.py:568: FutureWarning: elementwise comparison failed; returning scalar instead, but in the future will perform elementwise comparison\n",
            "  mask |= (ar1 == a)\n"
          ],
          "name": "stderr"
        }
      ]
    },
    {
      "cell_type": "code",
      "metadata": {
        "id": "0iOniVLISs0m",
        "colab_type": "code",
        "outputId": "db5417ea-271e-4a54-a644-2682b359bb74",
        "colab": {
          "base_uri": "https://localhost:8080/",
          "height": 72
        }
      },
      "source": [
        "dev_df = pd.read_csv(\"gs://fb-congressional-data/contraction_expanded_data/dev.csv\", index_col=0)"
      ],
      "execution_count": 5,
      "outputs": [
        {
          "output_type": "stream",
          "text": [
            "/usr/local/lib/python3.6/dist-packages/numpy/lib/arraysetops.py:568: FutureWarning: elementwise comparison failed; returning scalar instead, but in the future will perform elementwise comparison\n",
            "  mask |= (ar1 == a)\n"
          ],
          "name": "stderr"
        }
      ]
    },
    {
      "cell_type": "code",
      "metadata": {
        "id": "6sOBM6Q6Q4Mz",
        "colab_type": "code",
        "outputId": "d2d7e8e5-a4f0-4981-c300-6d24c85e82cb",
        "colab": {
          "base_uri": "https://localhost:8080/",
          "height": 34
        }
      },
      "source": [
        "len(dev_df)"
      ],
      "execution_count": 6,
      "outputs": [
        {
          "output_type": "execute_result",
          "data": {
            "text/plain": [
              "2292907"
            ]
          },
          "metadata": {
            "tags": []
          },
          "execution_count": 6
        }
      ]
    },
    {
      "cell_type": "code",
      "metadata": {
        "id": "bwNu4VTq46QG",
        "colab_type": "code",
        "outputId": "170f3a9e-3cac-493c-bfa8-f46b8bc60c1d",
        "colab": {
          "base_uri": "https://localhost:8080/",
          "height": 296
        }
      },
      "source": [
        "# Remove 1 and 2 word responses from training set.\n",
        "# Split response string by spaces.\n",
        "train_df['split_response'] = train_df['response_text'].str.split()\n",
        "train_df.head()"
      ],
      "execution_count": 7,
      "outputs": [
        {
          "output_type": "execute_result",
          "data": {
            "text/html": [
              "<div>\n",
              "<style scoped>\n",
              "    .dataframe tbody tr th:only-of-type {\n",
              "        vertical-align: middle;\n",
              "    }\n",
              "\n",
              "    .dataframe tbody tr th {\n",
              "        vertical-align: top;\n",
              "    }\n",
              "\n",
              "    .dataframe thead th {\n",
              "        text-align: right;\n",
              "    }\n",
              "</style>\n",
              "<table border=\"1\" class=\"dataframe\">\n",
              "  <thead>\n",
              "    <tr style=\"text-align: right;\">\n",
              "      <th></th>\n",
              "      <th>original_idx</th>\n",
              "      <th>op_id</th>\n",
              "      <th>op_gender</th>\n",
              "      <th>post_id</th>\n",
              "      <th>responder_id</th>\n",
              "      <th>response_text</th>\n",
              "      <th>op_name</th>\n",
              "      <th>op_category</th>\n",
              "      <th>split_response</th>\n",
              "    </tr>\n",
              "  </thead>\n",
              "  <tbody>\n",
              "    <tr>\n",
              "      <th>0</th>\n",
              "      <td>0</td>\n",
              "      <td>57265377</td>\n",
              "      <td>M</td>\n",
              "      <td>0</td>\n",
              "      <td>Jerry</td>\n",
              "      <td>protecting birth is not the same as protecting life. you may very well pledge to the former but ...</td>\n",
              "      <td>Roger Williams</td>\n",
              "      <td>Congress_Republican</td>\n",
              "      <td>[protecting, birth, is, not, the, same, as, protecting, life., you, may, very, well, pledge, to,...</td>\n",
              "    </tr>\n",
              "    <tr>\n",
              "      <th>1</th>\n",
              "      <td>1</td>\n",
              "      <td>57265377</td>\n",
              "      <td>M</td>\n",
              "      <td>0</td>\n",
              "      <td>Andrea</td>\n",
              "      <td>you need to protect children and leave my body to me.</td>\n",
              "      <td>Roger Williams</td>\n",
              "      <td>Congress_Republican</td>\n",
              "      <td>[you, need, to, protect, children, and, leave, my, body, to, me.]</td>\n",
              "    </tr>\n",
              "    <tr>\n",
              "      <th>2</th>\n",
              "      <td>2</td>\n",
              "      <td>57265377</td>\n",
              "      <td>M</td>\n",
              "      <td>0</td>\n",
              "      <td>Sherry</td>\n",
              "      <td>thank you</td>\n",
              "      <td>Roger Williams</td>\n",
              "      <td>Congress_Republican</td>\n",
              "      <td>[thank, you]</td>\n",
              "    </tr>\n",
              "    <tr>\n",
              "      <th>3</th>\n",
              "      <td>3</td>\n",
              "      <td>57265377</td>\n",
              "      <td>M</td>\n",
              "      <td>0</td>\n",
              "      <td>Bob</td>\n",
              "      <td>thank you roger</td>\n",
              "      <td>Roger Williams</td>\n",
              "      <td>Congress_Republican</td>\n",
              "      <td>[thank, you, roger]</td>\n",
              "    </tr>\n",
              "    <tr>\n",
              "      <th>4</th>\n",
              "      <td>4</td>\n",
              "      <td>57265377</td>\n",
              "      <td>M</td>\n",
              "      <td>0</td>\n",
              "      <td>Joy</td>\n",
              "      <td>unwanted pregnancy is a sad and unfortunate situation for anyone to find themselves in, however,...</td>\n",
              "      <td>Roger Williams</td>\n",
              "      <td>Congress_Republican</td>\n",
              "      <td>[unwanted, pregnancy, is, a, sad, and, unfortunate, situation, for, anyone, to, find, themselves...</td>\n",
              "    </tr>\n",
              "  </tbody>\n",
              "</table>\n",
              "</div>"
            ],
            "text/plain": [
              "   original_idx  ...                                                                                       split_response\n",
              "0             0  ...  [protecting, birth, is, not, the, same, as, protecting, life., you, may, very, well, pledge, to,...\n",
              "1             1  ...                                    [you, need, to, protect, children, and, leave, my, body, to, me.]\n",
              "2             2  ...                                                                                         [thank, you]\n",
              "3             3  ...                                                                                  [thank, you, roger]\n",
              "4             4  ...  [unwanted, pregnancy, is, a, sad, and, unfortunate, situation, for, anyone, to, find, themselves...\n",
              "\n",
              "[5 rows x 9 columns]"
            ]
          },
          "metadata": {
            "tags": []
          },
          "execution_count": 7
        }
      ]
    },
    {
      "cell_type": "code",
      "metadata": {
        "id": "dk4goOwAPXRH",
        "colab_type": "code",
        "outputId": "6d7a8d31-2d03-4856-8549-8de488abacef",
        "colab": {
          "base_uri": "https://localhost:8080/",
          "height": 34
        }
      },
      "source": [
        "len(train_df)"
      ],
      "execution_count": 8,
      "outputs": [
        {
          "output_type": "execute_result",
          "data": {
            "text/plain": [
              "9879016"
            ]
          },
          "metadata": {
            "tags": []
          },
          "execution_count": 8
        }
      ]
    },
    {
      "cell_type": "code",
      "metadata": {
        "id": "SDZQzI7RNjfW",
        "colab_type": "code",
        "outputId": "fcc9202e-8de9-4175-f72e-2d5423ca853d",
        "colab": {
          "base_uri": "https://localhost:8080/",
          "height": 34
        }
      },
      "source": [
        "# Remove the split responses that have length 1 or 2.\n",
        "mask = (train_df['split_response'].str.len() > 2) \n",
        "train_df = train_df.loc[mask]\n",
        "len(train_df)"
      ],
      "execution_count": 9,
      "outputs": [
        {
          "output_type": "execute_result",
          "data": {
            "text/plain": [
              "8685575"
            ]
          },
          "metadata": {
            "tags": []
          },
          "execution_count": 9
        }
      ]
    },
    {
      "cell_type": "code",
      "metadata": {
        "id": "K95juTqs5nM1",
        "colab_type": "code",
        "outputId": "f172ad43-8a88-4ffc-a2b4-dc9a4f377a64",
        "colab": {
          "base_uri": "https://localhost:8080/",
          "height": 34
        }
      },
      "source": [
        "# Remove 1 and 2 word responses from dev set.\n",
        "# Split response string by spaces.\n",
        "dev_df['split_response'] = dev_df['response_text'].str.split()\n",
        "# Remove the split responses that have length 1 or 2.\n",
        "mask2 = (dev_df['split_response'].str.len() > 2) \n",
        "dev_df = dev_df.loc[mask2]\n",
        "len(dev_df)"
      ],
      "execution_count": 10,
      "outputs": [
        {
          "output_type": "execute_result",
          "data": {
            "text/plain": [
              "2041945"
            ]
          },
          "metadata": {
            "tags": []
          },
          "execution_count": 10
        }
      ]
    },
    {
      "cell_type": "code",
      "metadata": {
        "id": "0Rr_Uonq5sLV",
        "colab_type": "code",
        "outputId": "402dfd9d-1f4f-4a39-e7c3-83259c4fa416",
        "colab": {
          "base_uri": "https://localhost:8080/",
          "height": 34
        }
      },
      "source": [
        "len(dev_df)"
      ],
      "execution_count": 11,
      "outputs": [
        {
          "output_type": "execute_result",
          "data": {
            "text/plain": [
              "2041945"
            ]
          },
          "metadata": {
            "tags": []
          },
          "execution_count": 11
        }
      ]
    },
    {
      "cell_type": "code",
      "metadata": {
        "id": "W1oM4o7wtHFd",
        "colab_type": "code",
        "outputId": "6a024cae-759e-486c-984c-fa57944b01b7",
        "colab": {
          "base_uri": "https://localhost:8080/",
          "height": 34
        }
      },
      "source": [
        "num_responses_per_post = train_df.post_id.value_counts().reset_index()\n",
        "num_responses_per_post.columns = ['post_id', 'num_responses']\n",
        "too_big_posts = num_responses_per_post[num_responses_per_post.num_responses > 50]\n",
        "posts_to_sample = too_big_posts.post_id.values\n",
        "# this gets all the rows for posts we DON'T need to sample \n",
        "new_train_df = train_df[~train_df.post_id.isin(posts_to_sample)]\n",
        "# this should be true\n",
        "assert(len(too_big_posts) + new_train_df.post_id.nunique() == train_df.post_id.nunique())\n",
        "too_big_post_rows = train_df[train_df.post_id.isin(posts_to_sample)]\n",
        "sampled_rows = too_big_post_rows.groupby('post_id').apply(lambda x: x.sample(n=50)).reset_index(drop=True)\n",
        "new_train_df = pd.concat([new_train_df, sampled_rows])\n",
        "new_train_df.shape"
      ],
      "execution_count": 12,
      "outputs": [
        {
          "output_type": "execute_result",
          "data": {
            "text/plain": [
              "(3721104, 9)"
            ]
          },
          "metadata": {
            "tags": []
          },
          "execution_count": 12
        }
      ]
    },
    {
      "cell_type": "code",
      "metadata": {
        "id": "jT4xoHcDJQVw",
        "colab_type": "code",
        "colab": {}
      },
      "source": [
        "# Set seeds for reproducible results.\n",
        "from numpy.random import seed\n",
        "seed(1)\n",
        "from tensorflow import set_random_seed\n",
        "set_random_seed(2)"
      ],
      "execution_count": 0,
      "outputs": []
    },
    {
      "cell_type": "code",
      "metadata": {
        "id": "MgZWntiySs0p",
        "colab_type": "code",
        "colab": {}
      },
      "source": [
        "# shuffle the data\n",
        "# be sure to do this before you extract X's and y's!!\n",
        "train_df = new_train_df.sample(frac=1)\n",
        "dev_df = dev_df.sample(frac=1)"
      ],
      "execution_count": 0,
      "outputs": []
    },
    {
      "cell_type": "code",
      "metadata": {
        "id": "1ZJxHTywg7Rq",
        "colab_type": "code",
        "outputId": "1babc004-1f23-4671-8fd3-9b26c04c0624",
        "colab": {
          "base_uri": "https://localhost:8080/",
          "height": 70
        }
      },
      "source": [
        "train_df.op_gender.value_counts()"
      ],
      "execution_count": 15,
      "outputs": [
        {
          "output_type": "execute_result",
          "data": {
            "text/plain": [
              "M    2725461\n",
              "W     995643\n",
              "Name: op_gender, dtype: int64"
            ]
          },
          "metadata": {
            "tags": []
          },
          "execution_count": 15
        }
      ]
    },
    {
      "cell_type": "code",
      "metadata": {
        "id": "kC70Y5RXJlHI",
        "colab_type": "code",
        "outputId": "f554732f-a21e-49dd-8720-ff721c4c8050",
        "colab": {
          "base_uri": "https://localhost:8080/",
          "height": 70
        }
      },
      "source": [
        "dev_df.op_gender.value_counts()"
      ],
      "execution_count": 16,
      "outputs": [
        {
          "output_type": "execute_result",
          "data": {
            "text/plain": [
              "M    1731288\n",
              "W     310657\n",
              "Name: op_gender, dtype: int64"
            ]
          },
          "metadata": {
            "tags": []
          },
          "execution_count": 16
        }
      ]
    },
    {
      "cell_type": "code",
      "metadata": {
        "id": "wvu7r5nThL1Z",
        "colab_type": "code",
        "colab": {}
      },
      "source": [
        "###########################\n",
        "# Execute this if want to do oversampling.\n",
        "###########################\n",
        "# from sklearn.utils import resample\n",
        "\n",
        "# male = train_df[train_df.op_gender=='M']\n",
        "# female = train_df[train_df.op_gender=='W']\n",
        "\n",
        "# female_upsampled = resample(female,\n",
        "#                           replace=True, # sample with replacement\n",
        "#                           n_samples=len(male), # match number in majority class\n",
        "#                           random_state=27) # reproducible results\n",
        "# upsampled_train = pd.concat([male,female_upsampled])\n",
        "# print(upsampled_train.op_gender.value_counts())\n"
      ],
      "execution_count": 0,
      "outputs": []
    },
    {
      "cell_type": "code",
      "metadata": {
        "id": "Pjb6dx8fSs0s",
        "colab_type": "code",
        "colab": {}
      },
      "source": [
        "# replace `train_df` with `upsampled_train` if using oversampling.\n",
        "y_train = train_df.op_gender.values\n",
        "y_dev = dev_df.op_gender.values"
      ],
      "execution_count": 0,
      "outputs": []
    },
    {
      "cell_type": "code",
      "metadata": {
        "id": "pBCoPKh_Ss0v",
        "colab_type": "code",
        "colab": {}
      },
      "source": [
        "def turn_to_ints(li):\n",
        "    final_list = []\n",
        "    for gender in li:\n",
        "        if gender=='M':\n",
        "            final_list.append(1)\n",
        "        else:\n",
        "            final_list.append(0)\n",
        "    return final_list\n",
        "            \n",
        "y_train = turn_to_ints(y_train)\n",
        "y_dev = turn_to_ints(y_dev)"
      ],
      "execution_count": 0,
      "outputs": []
    },
    {
      "cell_type": "code",
      "metadata": {
        "id": "hN9GFz6xSs0y",
        "colab_type": "code",
        "colab": {}
      },
      "source": [
        "y_train = np.asarray(y_train)\n",
        "y_dev = np.asarray(y_dev)"
      ],
      "execution_count": 0,
      "outputs": []
    },
    {
      "cell_type": "code",
      "metadata": {
        "id": "ChYxh6oPSs04",
        "colab_type": "code",
        "colab": {}
      },
      "source": [
        "def get_text_list(init_list):\n",
        "    sentences = []\n",
        "    for sentence in init_list:\n",
        "        if type(sentence) != str:\n",
        "            sentences.append(\"\")\n",
        "        else:\n",
        "            sentences.append(sentence)\n",
        "    return sentences\n",
        "\n",
        "# replace `train_df` with `upsampled_train` if using upsampling.\n",
        "new_sentences_train = get_text_list(train_df.response_text.values) \n",
        "new_sentences_test = get_text_list(dev_df.response_text.values)"
      ],
      "execution_count": 0,
      "outputs": []
    },
    {
      "cell_type": "code",
      "metadata": {
        "id": "1b9SE7SjSs06",
        "colab_type": "code",
        "outputId": "8ccd1cd3-078a-4732-dfb3-3d8f67d98286",
        "colab": {
          "base_uri": "https://localhost:8080/",
          "height": 34
        }
      },
      "source": [
        "time_start = time.time()\n",
        "\n",
        "# this is the default list of filters + apostrophe\n",
        "# added because we have dealt with common contractions, so other apostrophes should mostly be possessive \n",
        "tokenizer = Tokenizer(num_words=200000, filters='!\"\\'#$%&()*+,-./:;<=>?@[\\\\]^_`{|}~\\t\\n')\n",
        "tokenizer.fit_on_texts(new_sentences_train)\n",
        "\n",
        "X_train = tokenizer.texts_to_sequences(new_sentences_train)\n",
        "X_test = tokenizer.texts_to_sequences(new_sentences_test)\n",
        "\n",
        "vocab_size = len(tokenizer.word_index) + 1\n",
        "\n",
        "currentTime = time.gmtime(time.time() - time_start)\n",
        "\n",
        "#Convert the gmtime struct to a string\n",
        "timeStr = time.strftime(\"%M minutes, %S seconds\", currentTime)\n",
        "\n",
        "print(\"Tokenized in {}\".format(timeStr))"
      ],
      "execution_count": 21,
      "outputs": [
        {
          "output_type": "stream",
          "text": [
            "Tokenized in 05 minutes, 31 seconds\n"
          ],
          "name": "stdout"
        }
      ]
    },
    {
      "cell_type": "code",
      "metadata": {
        "id": "TyZMBAiySs0-",
        "colab_type": "code",
        "colab": {}
      },
      "source": [
        "from keras.preprocessing.sequence import pad_sequences\n",
        "\n",
        "X_train = pad_sequences(X_train, padding='post', maxlen=MAX_SEQUENCE_LENGTH)\n",
        "X_test = pad_sequences(X_test, padding='post', maxlen=MAX_SEQUENCE_LENGTH)"
      ],
      "execution_count": 0,
      "outputs": []
    },
    {
      "cell_type": "code",
      "metadata": {
        "id": "LGl1S3HySs1G",
        "colab_type": "code",
        "colab": {}
      },
      "source": [
        "if SAVE_TOKENIZED_DATA:\n",
        "  x_train_path = 'X_train_{}.pkl'.format(DATASET_NAME)\n",
        "  x_dev_path = 'X_dev_{}.pkl'.format(DATASET_NAME)\n",
        "  y_train_path = 'y_train_{}.pkl'.format(DATASET_NAME)\n",
        "  y_dev_path = 'y_dev_{}.pkl'.format(DATASET_NAME)\n",
        "\n",
        "  with open(x_train_path, 'wb') as file:\n",
        "      pickle.dump(X_train, file)   \n",
        "  with open(x_dev_path, 'wb') as file:\n",
        "      pickle.dump(X_test, file)\n",
        "  with open(y_train_path, 'wb') as file:\n",
        "      pickle.dump(y_train, file)\n",
        "  with open(y_dev_path, 'wb') as file:\n",
        "      pickle.dump(y_dev, file)\n",
        "\n",
        "  # copy to bucket\n",
        "  !gsutil cp /content/{x_train_path} gs://fb-congressional-data/test\n",
        "  !gsutil cp /content/{x_dev_path} gs://fb-congressional-data/\n",
        "  !gsutil cp /content/{y_train_path} gs://fb-congressional-data/\n",
        "  !gsutil cp /content/{y_dev_path} gs://fb-congressional-data/"
      ],
      "execution_count": 0,
      "outputs": []
    },
    {
      "cell_type": "code",
      "metadata": {
        "id": "s5AeCFGIuKIR",
        "colab_type": "code",
        "outputId": "3800b50f-1c58-4403-ef0a-bedc087f6062",
        "colab": {
          "base_uri": "https://localhost:8080/",
          "height": 246
        }
      },
      "source": [
        "!gsutil cp gs://fb-congressional-data/glove* /tmp/"
      ],
      "execution_count": 24,
      "outputs": [
        {
          "output_type": "stream",
          "text": [
            "Copying gs://fb-congressional-data/glove.6B.100d.txt...\n",
            "Copying gs://fb-congressional-data/glove.6B.200d.txt...\n",
            "Copying gs://fb-congressional-data/glove.6B.300d.txt...\n",
            "Copying gs://fb-congressional-data/glove.6B.50d.txt...\n",
            "/ [4 files][  2.1 GiB/  2.1 GiB]   22.5 MiB/s                                   \n",
            "==> NOTE: You are performing a sequence of gsutil operations that may\n",
            "run significantly faster if you instead use gsutil -m cp ... Please\n",
            "see the -m section under \"gsutil help options\" for further information\n",
            "about when gsutil -m can be advantageous.\n",
            "\n",
            "Copying gs://fb-congressional-data/glove.6B.zip...\n",
            "| [5 files][  2.9 GiB/  2.9 GiB]   31.8 MiB/s                                   \n",
            "Operation completed over 5 objects/2.9 GiB.                                      \n"
          ],
          "name": "stdout"
        }
      ]
    },
    {
      "cell_type": "code",
      "metadata": {
        "id": "ae5EQ7vbSs1L",
        "colab_type": "code",
        "colab": {}
      },
      "source": [
        "def create_embedding_matrix(filepath, word_index, embedding_dim):\n",
        "    vocab_size = len(word_index) + 1  # Adding again 1 because of reserved 0 index\n",
        "    embedding_matrix = np.zeros((vocab_size, embedding_dim))\n",
        "\n",
        "    with open(filepath) as f:\n",
        "        for line in f:\n",
        "            word, *vector = line.split()\n",
        "            if word in word_index:\n",
        "                idx = word_index[word] \n",
        "                embedding_matrix[idx] = np.array(\n",
        "                    vector, dtype=np.float32)[:embedding_dim]\n",
        "\n",
        "    return embedding_matrix\n",
        "\n",
        "embedding_dim = 100\n",
        "embedding_matrix = create_embedding_matrix(\n",
        "                     '/tmp/glove.6B.{}d.txt'.format(embedding_dim),\n",
        "                      tokenizer.word_index, embedding_dim)"
      ],
      "execution_count": 0,
      "outputs": []
    },
    {
      "cell_type": "code",
      "metadata": {
        "id": "kUTvp7yfut-7",
        "colab_type": "code",
        "colab": {}
      },
      "source": [
        "# trying to figure out which words are empty here\n",
        "# counter = 0\n",
        "# empty_indexes = []\n",
        "# for index, row in enumerate(embedding_matrix):\n",
        "#   if sum(row) == 0:\n",
        "#     empty_indexes.append(index)\n",
        "#     counter += 1\n",
        "#   if counter > 1000:\n",
        "#     break\n",
        "\n",
        "# for idx in empty_indexes:\n",
        "#   try:\n",
        "#     print(tokenizer.index_word[idx])\n",
        "#   except:\n",
        "#     print(\"No entry for {}\".format(idx))\n"
      ],
      "execution_count": 0,
      "outputs": []
    },
    {
      "cell_type": "code",
      "metadata": {
        "id": "UI5vn5zBSs1P",
        "colab_type": "code",
        "colab": {}
      },
      "source": [
        "# hmmmm....\n",
        "# nonzero_elements = np.count_nonzero(np.count_nonzero(embedding_matrix, axis=1))\n",
        "# nonzero_elements / vocab_size"
      ],
      "execution_count": 0,
      "outputs": []
    },
    {
      "cell_type": "code",
      "metadata": {
        "id": "EJtNke4FSs1X",
        "colab_type": "code",
        "outputId": "86d615a4-8fc6-484b-b026-175b918ee46b",
        "colab": {
          "base_uri": "https://localhost:8080/",
          "height": 34
        }
      },
      "source": [
        "embedding_matrix.shape"
      ],
      "execution_count": 27,
      "outputs": [
        {
          "output_type": "execute_result",
          "data": {
            "text/plain": [
              "(546516, 100)"
            ]
          },
          "metadata": {
            "tags": []
          },
          "execution_count": 27
        }
      ]
    },
    {
      "cell_type": "code",
      "metadata": {
        "id": "tb_yr2R9Ss1d",
        "colab_type": "code",
        "outputId": "9c0a5751-0e0c-4844-eac9-02eb2d1b49dc",
        "colab": {
          "base_uri": "https://localhost:8080/",
          "height": 512
        }
      },
      "source": [
        "model = Sequential()\n",
        "model.add(layers.Embedding(vocab_size, embedding_dim, \n",
        "                           weights=[embedding_matrix], \n",
        "                           input_length=MAX_SEQUENCE_LENGTH, \n",
        "                           trainable=False))\n",
        "model.add(layers.Conv1D(128, 5, activation='relu'))\n",
        "model.add(layers.GlobalMaxPooling1D())\n",
        "model.add(layers.Dense(10, activation='relu'))\n",
        "model.add(layers.Dense(1, activation='sigmoid'))\n",
        "model.compile(optimizer='adam',\n",
        "              loss='binary_crossentropy',\n",
        "              metrics=['accuracy'])\n",
        "model.summary()"
      ],
      "execution_count": 28,
      "outputs": [
        {
          "output_type": "stream",
          "text": [
            "WARNING:tensorflow:From /usr/local/lib/python3.6/dist-packages/tensorflow_core/python/keras/initializers.py:119: calling RandomUniform.__init__ (from tensorflow.python.ops.init_ops) with dtype is deprecated and will be removed in a future version.\n",
            "Instructions for updating:\n",
            "Call initializer instance with the dtype argument instead of passing it to the constructor\n",
            "WARNING:tensorflow:From /usr/local/lib/python3.6/dist-packages/tensorflow_core/python/ops/resource_variable_ops.py:1630: calling BaseResourceVariable.__init__ (from tensorflow.python.ops.resource_variable_ops) with constraint is deprecated and will be removed in a future version.\n",
            "Instructions for updating:\n",
            "If using Keras pass *_constraint arguments to layers.\n",
            "WARNING:tensorflow:From /usr/local/lib/python3.6/dist-packages/tensorflow_core/python/ops/nn_impl.py:183: where (from tensorflow.python.ops.array_ops) is deprecated and will be removed in a future version.\n",
            "Instructions for updating:\n",
            "Use tf.where in 2.0, which has the same broadcast rule as np.where\n",
            "Model: \"sequential\"\n",
            "_________________________________________________________________\n",
            "Layer (type)                 Output Shape              Param #   \n",
            "=================================================================\n",
            "embedding (Embedding)        (None, 20, 100)           54651600  \n",
            "_________________________________________________________________\n",
            "conv1d (Conv1D)              (None, 16, 128)           64128     \n",
            "_________________________________________________________________\n",
            "global_max_pooling1d (Global (None, 128)               0         \n",
            "_________________________________________________________________\n",
            "dense (Dense)                (None, 10)                1290      \n",
            "_________________________________________________________________\n",
            "dense_1 (Dense)              (None, 1)                 11        \n",
            "=================================================================\n",
            "Total params: 54,717,029\n",
            "Trainable params: 65,429\n",
            "Non-trainable params: 54,651,600\n",
            "_________________________________________________________________\n"
          ],
          "name": "stdout"
        }
      ]
    },
    {
      "cell_type": "code",
      "metadata": {
        "id": "U_9KWVWHAAE3",
        "colab_type": "code",
        "colab": {}
      },
      "source": [
        "smaller_X_train = X_train[:TRAINING_SET_SIZE]"
      ],
      "execution_count": 0,
      "outputs": []
    },
    {
      "cell_type": "code",
      "metadata": {
        "id": "t6gn7HvuAGgQ",
        "colab_type": "code",
        "colab": {}
      },
      "source": [
        "smaller_y_train = y_train[:TRAINING_SET_SIZE]"
      ],
      "execution_count": 0,
      "outputs": []
    },
    {
      "cell_type": "code",
      "metadata": {
        "id": "uf5R6UpGDW_y",
        "colab_type": "code",
        "colab": {}
      },
      "source": [
        "smaller_X_dev = X_test[:VAL_SET_SIZE]\n",
        "smaller_y_dev = y_dev[:VAL_SET_SIZE]"
      ],
      "execution_count": 0,
      "outputs": []
    },
    {
      "cell_type": "code",
      "metadata": {
        "id": "M4dbwlaxSs1l",
        "colab_type": "code",
        "outputId": "a828f843-9cf9-4f10-bdd3-fffb2ebf47c4",
        "colab": {
          "base_uri": "https://localhost:8080/",
          "height": 1000
        }
      },
      "source": [
        "try:\n",
        "  time_start = time.time()\n",
        "\n",
        "  history = model.fit(X_train, y_train,\n",
        "                      epochs=NUM_EPOCHS,\n",
        "                      verbose=True,\n",
        "                      validation_data=(smaller_X_dev, smaller_y_dev),\n",
        "                      batch_size=BATCH_SIZE)\n",
        "\n",
        "  currentTime = time.gmtime(time.time() - time_start)\n",
        "\n",
        "  #Convert the gmtime struct to a string\n",
        "  timeStr = time.strftime(\"%M minutes, %S seconds\", currentTime)\n",
        "\n",
        "  print(\"Trained in {}\".format(timeStr))\n",
        "\n",
        "except:\n",
        "  currentTime = time.gmtime(time.time() - time_start)\n",
        "\n",
        "  #Convert the gmtime struct to a string\n",
        "  timeStr = time.strftime(\"%M minutes, %S seconds\", currentTime)\n",
        "\n",
        "  print(\"Trained in {}\".format(timeStr))  "
      ],
      "execution_count": 32,
      "outputs": [
        {
          "output_type": "stream",
          "text": [
            "Train on 3721104 samples, validate on 2000000 samples\n",
            "Epoch 1/30\n",
            "3721104/3721104 [==============================] - 104s 28us/sample - loss: 0.5151 - acc: 0.7661 - val_loss: 0.4417 - val_acc: 0.8417\n",
            "Epoch 2/30\n",
            "3721104/3721104 [==============================] - 106s 28us/sample - loss: 0.4982 - acc: 0.7741 - val_loss: 0.4282 - val_acc: 0.8456\n",
            "Epoch 3/30\n",
            "3721104/3721104 [==============================] - 107s 29us/sample - loss: 0.4928 - acc: 0.7765 - val_loss: 0.4352 - val_acc: 0.8442\n",
            "Epoch 4/30\n",
            "3721104/3721104 [==============================] - 109s 29us/sample - loss: 0.4896 - acc: 0.7780 - val_loss: 0.4420 - val_acc: 0.8399\n",
            "Epoch 5/30\n",
            "3721104/3721104 [==============================] - 107s 29us/sample - loss: 0.4871 - acc: 0.7790 - val_loss: 0.4511 - val_acc: 0.8342\n",
            "Epoch 6/30\n",
            "3721104/3721104 [==============================] - 106s 29us/sample - loss: 0.4852 - acc: 0.7798 - val_loss: 0.4353 - val_acc: 0.8442\n",
            "Epoch 7/30\n",
            "3721104/3721104 [==============================] - 109s 29us/sample - loss: 0.4838 - acc: 0.7803 - val_loss: 0.4510 - val_acc: 0.8362\n",
            "Epoch 8/30\n",
            "3721104/3721104 [==============================] - 111s 30us/sample - loss: 0.4825 - acc: 0.7808 - val_loss: 0.4604 - val_acc: 0.8325\n",
            "Epoch 9/30\n",
            "3721104/3721104 [==============================] - 111s 30us/sample - loss: 0.4814 - acc: 0.7813 - val_loss: 0.4451 - val_acc: 0.8342\n",
            "Epoch 10/30\n",
            "3721104/3721104 [==============================] - 114s 31us/sample - loss: 0.4804 - acc: 0.7817 - val_loss: 0.4685 - val_acc: 0.8294\n",
            "Epoch 11/30\n",
            "3721104/3721104 [==============================] - 111s 30us/sample - loss: 0.4796 - acc: 0.7820 - val_loss: 0.4419 - val_acc: 0.8388\n",
            "Epoch 12/30\n",
            "3721104/3721104 [==============================] - 110s 30us/sample - loss: 0.4788 - acc: 0.7823 - val_loss: 0.4445 - val_acc: 0.8350\n",
            "Epoch 13/30\n",
            "3721104/3721104 [==============================] - 110s 30us/sample - loss: 0.4781 - acc: 0.7826 - val_loss: 0.4404 - val_acc: 0.8380\n",
            "Epoch 14/30\n",
            "3721104/3721104 [==============================] - 109s 29us/sample - loss: 0.4775 - acc: 0.7829 - val_loss: 0.4493 - val_acc: 0.8344\n",
            "Epoch 15/30\n",
            "3721104/3721104 [==============================] - 109s 29us/sample - loss: 0.4769 - acc: 0.7831 - val_loss: 0.4471 - val_acc: 0.8366\n",
            "Epoch 16/30\n",
            "3721104/3721104 [==============================] - 112s 30us/sample - loss: 0.4764 - acc: 0.7834 - val_loss: 0.4487 - val_acc: 0.8358\n",
            "Epoch 17/30\n",
            "3721104/3721104 [==============================] - 109s 29us/sample - loss: 0.4760 - acc: 0.7834 - val_loss: 0.4439 - val_acc: 0.8379\n",
            "Epoch 18/30\n",
            "3721104/3721104 [==============================] - 109s 29us/sample - loss: 0.4755 - acc: 0.7838 - val_loss: 0.4422 - val_acc: 0.8401\n",
            "Epoch 19/30\n",
            "3721104/3721104 [==============================] - 108s 29us/sample - loss: 0.4751 - acc: 0.7840 - val_loss: 0.4505 - val_acc: 0.8327\n",
            "Epoch 20/30\n",
            "3721104/3721104 [==============================] - 107s 29us/sample - loss: 0.4746 - acc: 0.7841 - val_loss: 0.4607 - val_acc: 0.8294\n",
            "Epoch 21/30\n",
            "3721104/3721104 [==============================] - 110s 29us/sample - loss: 0.4744 - acc: 0.7842 - val_loss: 0.4448 - val_acc: 0.8358\n",
            "Epoch 22/30\n",
            "3721104/3721104 [==============================] - 109s 29us/sample - loss: 0.4740 - acc: 0.7845 - val_loss: 0.4556 - val_acc: 0.8332\n",
            "Epoch 23/30\n",
            "3721104/3721104 [==============================] - 108s 29us/sample - loss: 0.4737 - acc: 0.7845 - val_loss: 0.4574 - val_acc: 0.8310\n",
            "Epoch 24/30\n",
            "3721104/3721104 [==============================] - 109s 29us/sample - loss: 0.4734 - acc: 0.7847 - val_loss: 0.4452 - val_acc: 0.8339\n",
            "Epoch 25/30\n",
            "3721104/3721104 [==============================] - 109s 29us/sample - loss: 0.4731 - acc: 0.7849 - val_loss: 0.4571 - val_acc: 0.8307\n",
            "Epoch 26/30\n",
            "3721104/3721104 [==============================] - 109s 29us/sample - loss: 0.4728 - acc: 0.7850 - val_loss: 0.4540 - val_acc: 0.8344\n",
            "Epoch 27/30\n",
            "3721104/3721104 [==============================] - 110s 30us/sample - loss: 0.4726 - acc: 0.7850 - val_loss: 0.4446 - val_acc: 0.8400\n",
            "Epoch 28/30\n",
            "3721104/3721104 [==============================] - 110s 30us/sample - loss: 0.4724 - acc: 0.7852 - val_loss: 0.4621 - val_acc: 0.8268\n",
            "Epoch 29/30\n",
            "3721104/3721104 [==============================] - 110s 29us/sample - loss: 0.4721 - acc: 0.7854 - val_loss: 0.4471 - val_acc: 0.8352\n",
            "Epoch 30/30\n",
            "3721104/3721104 [==============================] - 110s 30us/sample - loss: 0.4718 - acc: 0.7854 - val_loss: 0.4546 - val_acc: 0.8315\n",
            "Trained in 54 minutes, 31 seconds\n"
          ],
          "name": "stdout"
        }
      ]
    },
    {
      "cell_type": "code",
      "metadata": {
        "id": "h4P5Y5wgSs1o",
        "colab_type": "code",
        "outputId": "7b266678-888b-42f0-beed-79c5455c7d47",
        "colab": {
          "base_uri": "https://localhost:8080/",
          "height": 52
        }
      },
      "source": [
        "loss, accuracy = model.evaluate(X_train, y_train, verbose=False)\n",
        "print(\"Training Accuracy: {:.4f}\".format(accuracy))\n",
        "loss, accuracy = model.evaluate(X_test, y_dev, verbose=False)\n",
        "print(\"Testing Accuracy:  {:.4f}\".format(accuracy))\n"
      ],
      "execution_count": 33,
      "outputs": [
        {
          "output_type": "stream",
          "text": [
            "Training Accuracy: 0.7870\n",
            "Testing Accuracy:  0.8315\n"
          ],
          "name": "stdout"
        }
      ]
    },
    {
      "cell_type": "code",
      "metadata": {
        "id": "zZanpp-O9oiz",
        "colab_type": "code",
        "outputId": "8cc6a603-df25-49ce-d65e-2c8c2a61a3c3",
        "colab": {
          "base_uri": "https://localhost:8080/",
          "height": 34
        }
      },
      "source": [
        "# ROC AUC\n",
        "from sklearn.metrics import roc_auc_score\n",
        "# predict probabilities for test set\n",
        "yhat_probs = model.predict(X_test, verbose=0)\n",
        "# reduce to 1d array\n",
        "yhat_probs = yhat_probs[:,0]\n",
        "auc = roc_auc_score(y_dev, yhat_probs)\n",
        "print('ROC AUC:', auc)\n"
      ],
      "execution_count": 34,
      "outputs": [
        {
          "output_type": "stream",
          "text": [
            "ROC AUC: 0.6262237658190303\n"
          ],
          "name": "stdout"
        }
      ]
    },
    {
      "cell_type": "code",
      "metadata": {
        "id": "ccL7n659KbQ-",
        "colab_type": "code",
        "colab": {}
      },
      "source": [
        "preds = yhat_probs # model.predict(X_test)"
      ],
      "execution_count": 0,
      "outputs": []
    },
    {
      "cell_type": "code",
      "metadata": {
        "id": "lhpB8QsgGMZ5",
        "colab_type": "code",
        "colab": {}
      },
      "source": [
        "dev_df['probs'] = preds"
      ],
      "execution_count": 0,
      "outputs": []
    },
    {
      "cell_type": "code",
      "metadata": {
        "id": "1T2IxdCMGf2e",
        "colab_type": "code",
        "colab": {}
      },
      "source": [
        "def pred_to_label(row):\n",
        "  if row['probs'] >= .5:\n",
        "    return 'M'\n",
        "  else:\n",
        "    return 'W'\n",
        "\n",
        "dev_df['preds'] = dev_df.apply(pred_to_label, axis=1)"
      ],
      "execution_count": 0,
      "outputs": []
    },
    {
      "cell_type": "code",
      "metadata": {
        "id": "NzbasnNWGg5J",
        "colab_type": "code",
        "colab": {}
      },
      "source": [
        "wrong_preds = dev_df[dev_df.op_gender!=dev_df.preds]"
      ],
      "execution_count": 0,
      "outputs": []
    },
    {
      "cell_type": "code",
      "metadata": {
        "id": "nAYve8ZhG7wt",
        "colab_type": "code",
        "colab": {
          "base_uri": "https://localhost:8080/",
          "height": 70
        },
        "outputId": "39ed66a3-e55e-451f-ff4d-aac45eb52f6e"
      },
      "source": [
        "wrong_preds.op_gender.value_counts()"
      ],
      "execution_count": 39,
      "outputs": [
        {
          "output_type": "execute_result",
          "data": {
            "text/plain": [
              "W    274590\n",
              "M     69507\n",
              "Name: op_gender, dtype: int64"
            ]
          },
          "metadata": {
            "tags": []
          },
          "execution_count": 39
        }
      ]
    },
    {
      "cell_type": "code",
      "metadata": {
        "id": "NJJrm2LxHFzN",
        "colab_type": "code",
        "colab": {
          "base_uri": "https://localhost:8080/",
          "height": 34
        },
        "outputId": "506fabd8-54b3-4dfc-88e7-19e017ea39c9"
      },
      "source": [
        "# total proportion of preds for women\n",
        "dev_df.preds.value_counts()['W'] / len(dev_df)"
      ],
      "execution_count": 40,
      "outputs": [
        {
          "output_type": "execute_result",
          "data": {
            "text/plain": [
              "0.051702665840656824"
            ]
          },
          "metadata": {
            "tags": []
          },
          "execution_count": 40
        }
      ]
    },
    {
      "cell_type": "code",
      "metadata": {
        "id": "SxFooJUbHVUB",
        "colab_type": "code",
        "colab": {
          "base_uri": "https://localhost:8080/",
          "height": 1000
        },
        "outputId": "3e34be84-8ed8-4913-afc9-d2379b3051f2"
      },
      "source": [
        "#random sample of mistakes\n",
        "wrong_preds.head(20)"
      ],
      "execution_count": 41,
      "outputs": [
        {
          "output_type": "execute_result",
          "data": {
            "text/html": [
              "<div>\n",
              "<style scoped>\n",
              "    .dataframe tbody tr th:only-of-type {\n",
              "        vertical-align: middle;\n",
              "    }\n",
              "\n",
              "    .dataframe tbody tr th {\n",
              "        vertical-align: top;\n",
              "    }\n",
              "\n",
              "    .dataframe thead th {\n",
              "        text-align: right;\n",
              "    }\n",
              "</style>\n",
              "<table border=\"1\" class=\"dataframe\">\n",
              "  <thead>\n",
              "    <tr style=\"text-align: right;\">\n",
              "      <th></th>\n",
              "      <th>original_idx</th>\n",
              "      <th>op_id</th>\n",
              "      <th>op_gender</th>\n",
              "      <th>post_id</th>\n",
              "      <th>responder_id</th>\n",
              "      <th>response_text</th>\n",
              "      <th>op_name</th>\n",
              "      <th>op_category</th>\n",
              "      <th>split_response</th>\n",
              "      <th>probs</th>\n",
              "      <th>preds</th>\n",
              "    </tr>\n",
              "  </thead>\n",
              "  <tbody>\n",
              "    <tr>\n",
              "      <th>1882270</th>\n",
              "      <td>10915198</td>\n",
              "      <td>10458808</td>\n",
              "      <td>M</td>\n",
              "      <td>385893</td>\n",
              "      <td>Nvfl</td>\n",
              "      <td>natural vegetables &amp; fruits storage pvt. ltd. is engaged in providing turnkey solutions for post...</td>\n",
              "      <td>Mark Takano</td>\n",
              "      <td>Congress_Democratic</td>\n",
              "      <td>[natural, vegetables, &amp;, fruits, storage, pvt., ltd., is, engaged, in, providing, turnkey, solut...</td>\n",
              "      <td>0.430077</td>\n",
              "      <td>W</td>\n",
              "    </tr>\n",
              "    <tr>\n",
              "      <th>1721675</th>\n",
              "      <td>10227279</td>\n",
              "      <td>32185537</td>\n",
              "      <td>M</td>\n",
              "      <td>377134</td>\n",
              "      <td>Margaret</td>\n",
              "      <td>nancy pelosi will never give up her jet.</td>\n",
              "      <td>Paul Gosar</td>\n",
              "      <td>Congress_Republican</td>\n",
              "      <td>[nancy, pelosi, will, never, give, up, her, jet.]</td>\n",
              "      <td>0.380639</td>\n",
              "      <td>W</td>\n",
              "    </tr>\n",
              "    <tr>\n",
              "      <th>2163125</th>\n",
              "      <td>11304105</td>\n",
              "      <td>77234050</td>\n",
              "      <td>W</td>\n",
              "      <td>400925</td>\n",
              "      <td>Linda</td>\n",
              "      <td>\"getting gov't out of the way so business can make a profit\"??.......like that has worked so wel...</td>\n",
              "      <td>Cathy McMorris Rodgers</td>\n",
              "      <td>Congress_Republican</td>\n",
              "      <td>[\"getting, gov't, out, of, the, way, so, business, can, make, a, profit\"??.......like, that, has...</td>\n",
              "      <td>0.693899</td>\n",
              "      <td>M</td>\n",
              "    </tr>\n",
              "    <tr>\n",
              "      <th>1840917</th>\n",
              "      <td>10873845</td>\n",
              "      <td>77721801</td>\n",
              "      <td>W</td>\n",
              "      <td>384959</td>\n",
              "      <td>Steve</td>\n",
              "      <td>thank you! hang in there!!!</td>\n",
              "      <td>Anna Eshoo</td>\n",
              "      <td>Congress_Democratic</td>\n",
              "      <td>[thank, you!, hang, in, there!!!]</td>\n",
              "      <td>0.771863</td>\n",
              "      <td>M</td>\n",
              "    </tr>\n",
              "    <tr>\n",
              "      <th>1955514</th>\n",
              "      <td>11004906</td>\n",
              "      <td>86569077</td>\n",
              "      <td>W</td>\n",
              "      <td>389590</td>\n",
              "      <td>Steven</td>\n",
              "      <td>liberal lynch mobs. they are everywhere!</td>\n",
              "      <td>Kirsten Gillibrand</td>\n",
              "      <td>Congress_Democratic</td>\n",
              "      <td>[liberal, lynch, mobs., they, are, everywhere!]</td>\n",
              "      <td>0.870950</td>\n",
              "      <td>M</td>\n",
              "    </tr>\n",
              "    <tr>\n",
              "      <th>1989428</th>\n",
              "      <td>11038820</td>\n",
              "      <td>86569077</td>\n",
              "      <td>W</td>\n",
              "      <td>389932</td>\n",
              "      <td>Rob</td>\n",
              "      <td>is this not a state issue?</td>\n",
              "      <td>Kirsten Gillibrand</td>\n",
              "      <td>Congress_Democratic</td>\n",
              "      <td>[is, this, not, a, state, issue?]</td>\n",
              "      <td>0.749740</td>\n",
              "      <td>M</td>\n",
              "    </tr>\n",
              "    <tr>\n",
              "      <th>1990841</th>\n",
              "      <td>11040233</td>\n",
              "      <td>86569077</td>\n",
              "      <td>W</td>\n",
              "      <td>389948</td>\n",
              "      <td>James</td>\n",
              "      <td>how many of those were seized under stop and frisk? sure, the streets are orderly and clean, but...</td>\n",
              "      <td>Kirsten Gillibrand</td>\n",
              "      <td>Congress_Democratic</td>\n",
              "      <td>[how, many, of, those, were, seized, under, stop, and, frisk?, sure,, the, streets, are, orderly...</td>\n",
              "      <td>0.739544</td>\n",
              "      <td>M</td>\n",
              "    </tr>\n",
              "    <tr>\n",
              "      <th>392010</th>\n",
              "      <td>3142101</td>\n",
              "      <td>23984618</td>\n",
              "      <td>W</td>\n",
              "      <td>83655</td>\n",
              "      <td>Eric</td>\n",
              "      <td>a nice gesture, but the aha needs to be repealed. it has going to continue to be an anchor on th...</td>\n",
              "      <td>Ann Wagner</td>\n",
              "      <td>Congress_Republican</td>\n",
              "      <td>[a, nice, gesture,, but, the, aha, needs, to, be, repealed., it, has, going, to, continue, to, b...</td>\n",
              "      <td>0.797502</td>\n",
              "      <td>M</td>\n",
              "    </tr>\n",
              "    <tr>\n",
              "      <th>379921</th>\n",
              "      <td>3130012</td>\n",
              "      <td>23984618</td>\n",
              "      <td>W</td>\n",
              "      <td>83220</td>\n",
              "      <td>Sue</td>\n",
              "      <td>people act so shocked at pp... really??? this has been going on since 1973... it is nothing new....</td>\n",
              "      <td>Ann Wagner</td>\n",
              "      <td>Congress_Republican</td>\n",
              "      <td>[people, act, so, shocked, at, pp..., really???, this, has, been, going, on, since, 1973..., it,...</td>\n",
              "      <td>0.714035</td>\n",
              "      <td>M</td>\n",
              "    </tr>\n",
              "    <tr>\n",
              "      <th>2123686</th>\n",
              "      <td>11264666</td>\n",
              "      <td>77234050</td>\n",
              "      <td>W</td>\n",
              "      <td>399732</td>\n",
              "      <td>Amy</td>\n",
              "      <td>as an american &amp; given his track record...i would not count on our president to do the right thi...</td>\n",
              "      <td>Cathy McMorris Rodgers</td>\n",
              "      <td>Congress_Republican</td>\n",
              "      <td>[as, an, american, &amp;, given, his, track, record...i, would, not, count, on, our, president, to, ...</td>\n",
              "      <td>0.896385</td>\n",
              "      <td>M</td>\n",
              "    </tr>\n",
              "    <tr>\n",
              "      <th>401442</th>\n",
              "      <td>3151533</td>\n",
              "      <td>23984618</td>\n",
              "      <td>W</td>\n",
              "      <td>83941</td>\n",
              "      <td>Jane</td>\n",
              "      <td>i love these politicians who live in an ivory tower....</td>\n",
              "      <td>Ann Wagner</td>\n",
              "      <td>Congress_Republican</td>\n",
              "      <td>[i, love, these, politicians, who, live, in, an, ivory, tower....]</td>\n",
              "      <td>0.817260</td>\n",
              "      <td>M</td>\n",
              "    </tr>\n",
              "    <tr>\n",
              "      <th>372234</th>\n",
              "      <td>2652530</td>\n",
              "      <td>13876473</td>\n",
              "      <td>W</td>\n",
              "      <td>69802</td>\n",
              "      <td>Shane</td>\n",
              "      <td>i am very concerned that the moran amendment might be deleted in committee by sen. roy blunt as ...</td>\n",
              "      <td>Carolyn Maloney</td>\n",
              "      <td>Congress_Democratic</td>\n",
              "      <td>[i, am, very, concerned, that, the, moran, amendment, might, be, deleted, in, committee, by, sen...</td>\n",
              "      <td>0.806163</td>\n",
              "      <td>M</td>\n",
              "    </tr>\n",
              "    <tr>\n",
              "      <th>592065</th>\n",
              "      <td>4841119</td>\n",
              "      <td>46506154</td>\n",
              "      <td>M</td>\n",
              "      <td>160190</td>\n",
              "      <td>Denise</td>\n",
              "      <td>beautiful family... happy birthday amanda!!</td>\n",
              "      <td>Marco Rubio</td>\n",
              "      <td>Congress_Republican</td>\n",
              "      <td>[beautiful, family..., happy, birthday, amanda!!]</td>\n",
              "      <td>0.371860</td>\n",
              "      <td>W</td>\n",
              "    </tr>\n",
              "    <tr>\n",
              "      <th>1934895</th>\n",
              "      <td>10984287</td>\n",
              "      <td>86569077</td>\n",
              "      <td>W</td>\n",
              "      <td>389397</td>\n",
              "      <td>Nancy</td>\n",
              "      <td>and we still do not have an equal rights amendment, though many young women and men believe that...</td>\n",
              "      <td>Kirsten Gillibrand</td>\n",
              "      <td>Congress_Democratic</td>\n",
              "      <td>[and, we, still, do, not, have, an, equal, rights, amendment,, though, many, young, women, and, ...</td>\n",
              "      <td>0.530656</td>\n",
              "      <td>M</td>\n",
              "    </tr>\n",
              "    <tr>\n",
              "      <th>399290</th>\n",
              "      <td>3149381</td>\n",
              "      <td>23984618</td>\n",
              "      <td>W</td>\n",
              "      <td>83768</td>\n",
              "      <td>Carolyn</td>\n",
              "      <td>give obamacare a chance!</td>\n",
              "      <td>Ann Wagner</td>\n",
              "      <td>Congress_Republican</td>\n",
              "      <td>[give, obamacare, a, chance!]</td>\n",
              "      <td>0.734315</td>\n",
              "      <td>M</td>\n",
              "    </tr>\n",
              "    <tr>\n",
              "      <th>1958027</th>\n",
              "      <td>11007419</td>\n",
              "      <td>86569077</td>\n",
              "      <td>W</td>\n",
              "      <td>389621</td>\n",
              "      <td>Edward</td>\n",
              "      <td>you ask what she ever did for her country? \" not wear dresses\"</td>\n",
              "      <td>Kirsten Gillibrand</td>\n",
              "      <td>Congress_Democratic</td>\n",
              "      <td>[you, ask, what, she, ever, did, for, her, country?, \", not, wear, dresses\"]</td>\n",
              "      <td>0.546008</td>\n",
              "      <td>M</td>\n",
              "    </tr>\n",
              "    <tr>\n",
              "      <th>2126477</th>\n",
              "      <td>11267457</td>\n",
              "      <td>77234050</td>\n",
              "      <td>W</td>\n",
              "      <td>399739</td>\n",
              "      <td>Dixie</td>\n",
              "      <td>i think you would be embarrassed to post this letter.  you are delaying receiving your salary; w...</td>\n",
              "      <td>Cathy McMorris Rodgers</td>\n",
              "      <td>Congress_Republican</td>\n",
              "      <td>[i, think, you, would, be, embarrassed, to, post, this, letter., you, are, delaying, receiving, ...</td>\n",
              "      <td>0.743068</td>\n",
              "      <td>M</td>\n",
              "    </tr>\n",
              "    <tr>\n",
              "      <th>1907960</th>\n",
              "      <td>10957352</td>\n",
              "      <td>86569077</td>\n",
              "      <td>W</td>\n",
              "      <td>389334</td>\n",
              "      <td>Sybil</td>\n",
              "      <td>thank you for voting no on all the nominees....if need be filibuster with all the democrats ! do...</td>\n",
              "      <td>Kirsten Gillibrand</td>\n",
              "      <td>Congress_Democratic</td>\n",
              "      <td>[thank, you, for, voting, no, on, all, the, nominees....if, need, be, filibuster, with, all, the...</td>\n",
              "      <td>0.744720</td>\n",
              "      <td>M</td>\n",
              "    </tr>\n",
              "    <tr>\n",
              "      <th>390121</th>\n",
              "      <td>3140212</td>\n",
              "      <td>23984618</td>\n",
              "      <td>W</td>\n",
              "      <td>83603</td>\n",
              "      <td>Joe</td>\n",
              "      <td>ann, I am glad to see that you are finally on board with obamacare!  making small changes for im...</td>\n",
              "      <td>Ann Wagner</td>\n",
              "      <td>Congress_Republican</td>\n",
              "      <td>[ann,, I, am, glad, to, see, that, you, are, finally, on, board, with, obamacare!, making, small...</td>\n",
              "      <td>0.599141</td>\n",
              "      <td>M</td>\n",
              "    </tr>\n",
              "    <tr>\n",
              "      <th>1359658</th>\n",
              "      <td>7777952</td>\n",
              "      <td>99469231</td>\n",
              "      <td>M</td>\n",
              "      <td>296154</td>\n",
              "      <td>Anthony</td>\n",
              "      <td>with all do respect to the women of this country, its a sad day when our government do not have ...</td>\n",
              "      <td>John McCain</td>\n",
              "      <td>Congress_Republican</td>\n",
              "      <td>[with, all, do, respect, to, the, women, of, this, country,, its, a, sad, day, when, our, govern...</td>\n",
              "      <td>0.427102</td>\n",
              "      <td>W</td>\n",
              "    </tr>\n",
              "  </tbody>\n",
              "</table>\n",
              "</div>"
            ],
            "text/plain": [
              "         original_idx     op_id  ...     probs  preds\n",
              "1882270      10915198  10458808  ...  0.430077      W\n",
              "1721675      10227279  32185537  ...  0.380639      W\n",
              "2163125      11304105  77234050  ...  0.693899      M\n",
              "1840917      10873845  77721801  ...  0.771863      M\n",
              "1955514      11004906  86569077  ...  0.870950      M\n",
              "1989428      11038820  86569077  ...  0.749740      M\n",
              "1990841      11040233  86569077  ...  0.739544      M\n",
              "392010        3142101  23984618  ...  0.797502      M\n",
              "379921        3130012  23984618  ...  0.714035      M\n",
              "2123686      11264666  77234050  ...  0.896385      M\n",
              "401442        3151533  23984618  ...  0.817260      M\n",
              "372234        2652530  13876473  ...  0.806163      M\n",
              "592065        4841119  46506154  ...  0.371860      W\n",
              "1934895      10984287  86569077  ...  0.530656      M\n",
              "399290        3149381  23984618  ...  0.734315      M\n",
              "1958027      11007419  86569077  ...  0.546008      M\n",
              "2126477      11267457  77234050  ...  0.743068      M\n",
              "1907960      10957352  86569077  ...  0.744720      M\n",
              "390121        3140212  23984618  ...  0.599141      M\n",
              "1359658       7777952  99469231  ...  0.427102      W\n",
              "\n",
              "[20 rows x 11 columns]"
            ]
          },
          "metadata": {
            "tags": []
          },
          "execution_count": 41
        }
      ]
    },
    {
      "cell_type": "code",
      "metadata": {
        "id": "qaswseIjHc8j",
        "colab_type": "code",
        "colab": {
          "base_uri": "https://localhost:8080/",
          "height": 1000
        },
        "outputId": "6c543d74-6f4a-4dd1-a9ad-dfbe3f57fba4"
      },
      "source": [
        "# most confident wrong predictions where the answer was F but they thought M\n",
        "# same as before - references to a male politician \n",
        "wrong_preds.sort_values('probs', ascending=False)[:20]"
      ],
      "execution_count": 42,
      "outputs": [
        {
          "output_type": "execute_result",
          "data": {
            "text/html": [
              "<div>\n",
              "<style scoped>\n",
              "    .dataframe tbody tr th:only-of-type {\n",
              "        vertical-align: middle;\n",
              "    }\n",
              "\n",
              "    .dataframe tbody tr th {\n",
              "        vertical-align: top;\n",
              "    }\n",
              "\n",
              "    .dataframe thead th {\n",
              "        text-align: right;\n",
              "    }\n",
              "</style>\n",
              "<table border=\"1\" class=\"dataframe\">\n",
              "  <thead>\n",
              "    <tr style=\"text-align: right;\">\n",
              "      <th></th>\n",
              "      <th>original_idx</th>\n",
              "      <th>op_id</th>\n",
              "      <th>op_gender</th>\n",
              "      <th>post_id</th>\n",
              "      <th>responder_id</th>\n",
              "      <th>response_text</th>\n",
              "      <th>op_name</th>\n",
              "      <th>op_category</th>\n",
              "      <th>split_response</th>\n",
              "      <th>probs</th>\n",
              "      <th>preds</th>\n",
              "    </tr>\n",
              "  </thead>\n",
              "  <tbody>\n",
              "    <tr>\n",
              "      <th>1993131</th>\n",
              "      <td>11042523</td>\n",
              "      <td>86569077</td>\n",
              "      <td>W</td>\n",
              "      <td>389977</td>\n",
              "      <td>Colleen</td>\n",
              "      <td>you mean mr paul mark?  rand opportunist paul?</td>\n",
              "      <td>Kirsten Gillibrand</td>\n",
              "      <td>Congress_Democratic</td>\n",
              "      <td>[you, mean, mr, paul, mark?, rand, opportunist, paul?]</td>\n",
              "      <td>0.999967</td>\n",
              "      <td>M</td>\n",
              "    </tr>\n",
              "    <tr>\n",
              "      <th>1951556</th>\n",
              "      <td>11000948</td>\n",
              "      <td>86569077</td>\n",
              "      <td>W</td>\n",
              "      <td>389558</td>\n",
              "      <td>Tom</td>\n",
              "      <td>thank you, sen. gillibrand. too bad about chuck.</td>\n",
              "      <td>Kirsten Gillibrand</td>\n",
              "      <td>Congress_Democratic</td>\n",
              "      <td>[thank, you,, sen., gillibrand., too, bad, about, chuck.]</td>\n",
              "      <td>0.999930</td>\n",
              "      <td>M</td>\n",
              "    </tr>\n",
              "    <tr>\n",
              "      <th>2032565</th>\n",
              "      <td>11081957</td>\n",
              "      <td>86569077</td>\n",
              "      <td>W</td>\n",
              "      <td>390399</td>\n",
              "      <td>Kathy</td>\n",
              "      <td>wish i was in that district.  good luck mr. weprin.</td>\n",
              "      <td>Kirsten Gillibrand</td>\n",
              "      <td>Congress_Democratic</td>\n",
              "      <td>[wish, i, was, in, that, district., good, luck, mr., weprin.]</td>\n",
              "      <td>0.999920</td>\n",
              "      <td>M</td>\n",
              "    </tr>\n",
              "    <tr>\n",
              "      <th>429525</th>\n",
              "      <td>3362760</td>\n",
              "      <td>76269753</td>\n",
              "      <td>W</td>\n",
              "      <td>103748</td>\n",
              "      <td>Edwin</td>\n",
              "      <td>hi ms. anti-constitution. would you please do us all a favor and go hear rand speak? you probabl...</td>\n",
              "      <td>Dianne Feinstein</td>\n",
              "      <td>Congress_Democratic</td>\n",
              "      <td>[hi, ms., anti-constitution., would, you, please, do, us, all, a, favor, and, go, hear, rand, sp...</td>\n",
              "      <td>0.999896</td>\n",
              "      <td>M</td>\n",
              "    </tr>\n",
              "    <tr>\n",
              "      <th>2024355</th>\n",
              "      <td>11073747</td>\n",
              "      <td>86569077</td>\n",
              "      <td>W</td>\n",
              "      <td>390259</td>\n",
              "      <td>Mike</td>\n",
              "      <td>do paterson new jersey a favour, senator, support congressman pascrell in his democratic primary...</td>\n",
              "      <td>Kirsten Gillibrand</td>\n",
              "      <td>Congress_Democratic</td>\n",
              "      <td>[do, paterson, new, jersey, a, favour,, senator,, support, congressman, pascrell, in, his, democ...</td>\n",
              "      <td>0.999846</td>\n",
              "      <td>M</td>\n",
              "    </tr>\n",
              "    <tr>\n",
              "      <th>2290366</th>\n",
              "      <td>13626031</td>\n",
              "      <td>4938109</td>\n",
              "      <td>W</td>\n",
              "      <td>528810</td>\n",
              "      <td>William</td>\n",
              "      <td>it was always racism from day one. anything to get back at the best president america has ever h...</td>\n",
              "      <td>Yvette Clarke</td>\n",
              "      <td>Congress_Democratic</td>\n",
              "      <td>[it, was, always, racism, from, day, one., anything, to, get, back, at, the, best, president, am...</td>\n",
              "      <td>0.999810</td>\n",
              "      <td>M</td>\n",
              "    </tr>\n",
              "    <tr>\n",
              "      <th>2160154</th>\n",
              "      <td>11301134</td>\n",
              "      <td>77234050</td>\n",
              "      <td>W</td>\n",
              "      <td>400749</td>\n",
              "      <td>Becca</td>\n",
              "      <td>i am very proud to personally know justin.  he really is an inspiration for all of us.  great jo...</td>\n",
              "      <td>Cathy McMorris Rodgers</td>\n",
              "      <td>Congress_Republican</td>\n",
              "      <td>[i, am, very, proud, to, personally, know, justin., he, really, is, an, inspiration, for, all, o...</td>\n",
              "      <td>0.999794</td>\n",
              "      <td>M</td>\n",
              "    </tr>\n",
              "    <tr>\n",
              "      <th>2050665</th>\n",
              "      <td>11100057</td>\n",
              "      <td>86569077</td>\n",
              "      <td>W</td>\n",
              "      <td>390694</td>\n",
              "      <td>Joe</td>\n",
              "      <td>senator gillibrand is the leader in transparency and openness in congress. she has made her meet...</td>\n",
              "      <td>Kirsten Gillibrand</td>\n",
              "      <td>Congress_Democratic</td>\n",
              "      <td>[senator, gillibrand, is, the, leader, in, transparency, and, openness, in, congress., she, has,...</td>\n",
              "      <td>0.999786</td>\n",
              "      <td>M</td>\n",
              "    </tr>\n",
              "    <tr>\n",
              "      <th>1915222</th>\n",
              "      <td>10964614</td>\n",
              "      <td>86569077</td>\n",
              "      <td>W</td>\n",
              "      <td>389341</td>\n",
              "      <td>Paula</td>\n",
              "      <td>thank you, senator gillibrand. new yorkers are fortunate to have you and chuck schumer represent...</td>\n",
              "      <td>Kirsten Gillibrand</td>\n",
              "      <td>Congress_Democratic</td>\n",
              "      <td>[thank, you,, senator, gillibrand., new, yorkers, are, fortunate, to, have, you, and, chuck, sch...</td>\n",
              "      <td>0.999774</td>\n",
              "      <td>M</td>\n",
              "    </tr>\n",
              "    <tr>\n",
              "      <th>2103705</th>\n",
              "      <td>11244685</td>\n",
              "      <td>77234050</td>\n",
              "      <td>W</td>\n",
              "      <td>399379</td>\n",
              "      <td>Angel</td>\n",
              "      <td>thanks for not even considering the batwing crazy louie.</td>\n",
              "      <td>Cathy McMorris Rodgers</td>\n",
              "      <td>Congress_Republican</td>\n",
              "      <td>[thanks, for, not, even, considering, the, batwing, crazy, louie.]</td>\n",
              "      <td>0.999768</td>\n",
              "      <td>M</td>\n",
              "    </tr>\n",
              "    <tr>\n",
              "      <th>2001084</th>\n",
              "      <td>11050476</td>\n",
              "      <td>86569077</td>\n",
              "      <td>W</td>\n",
              "      <td>390043</td>\n",
              "      <td>Margaret</td>\n",
              "      <td>the shooter took his mother's gun. if these guns were still banned, she would not have it. mr ra...</td>\n",
              "      <td>Kirsten Gillibrand</td>\n",
              "      <td>Congress_Democratic</td>\n",
              "      <td>[the, shooter, took, his, mother's, gun., if, these, guns, were, still, banned,, she, would, not...</td>\n",
              "      <td>0.999723</td>\n",
              "      <td>M</td>\n",
              "    </tr>\n",
              "    <tr>\n",
              "      <th>2130296</th>\n",
              "      <td>11271276</td>\n",
              "      <td>77234050</td>\n",
              "      <td>W</td>\n",
              "      <td>399765</td>\n",
              "      <td>Yusra</td>\n",
              "      <td>act for peace, please vote no for war against syria. we do not want more blood shedding in our c...</td>\n",
              "      <td>Cathy McMorris Rodgers</td>\n",
              "      <td>Congress_Republican</td>\n",
              "      <td>[act, for, peace,, please, vote, no, for, war, against, syria., we, do, not, want, more, blood, ...</td>\n",
              "      <td>0.999717</td>\n",
              "      <td>M</td>\n",
              "    </tr>\n",
              "    <tr>\n",
              "      <th>2130848</th>\n",
              "      <td>11271828</td>\n",
              "      <td>77234050</td>\n",
              "      <td>W</td>\n",
              "      <td>399768</td>\n",
              "      <td>Yusra</td>\n",
              "      <td>act for peace, please vote no for war against syria. we do not want more blood shedding in our c...</td>\n",
              "      <td>Cathy McMorris Rodgers</td>\n",
              "      <td>Congress_Republican</td>\n",
              "      <td>[act, for, peace,, please, vote, no, for, war, against, syria., we, do, not, want, more, blood, ...</td>\n",
              "      <td>0.999717</td>\n",
              "      <td>M</td>\n",
              "    </tr>\n",
              "    <tr>\n",
              "      <th>1159797</th>\n",
              "      <td>6091571</td>\n",
              "      <td>19189340</td>\n",
              "      <td>W</td>\n",
              "      <td>209355</td>\n",
              "      <td>Carl</td>\n",
              "      <td>just called your office about supporting amash/conyers. you are gonna vote for it, right?</td>\n",
              "      <td>Robin Kelly</td>\n",
              "      <td>Congress_Democratic</td>\n",
              "      <td>[just, called, your, office, about, supporting, amash/conyers., you, are, gonna, vote, for, it,,...</td>\n",
              "      <td>0.999693</td>\n",
              "      <td>M</td>\n",
              "    </tr>\n",
              "    <tr>\n",
              "      <th>2204895</th>\n",
              "      <td>12066357</td>\n",
              "      <td>87468720</td>\n",
              "      <td>W</td>\n",
              "      <td>449442</td>\n",
              "      <td>Brian</td>\n",
              "      <td>sen. david long has now officially endorsed lt. gov. eric holcomb to be our next indiana govenor...</td>\n",
              "      <td>Susan Brooks</td>\n",
              "      <td>Congress_Republican</td>\n",
              "      <td>[sen., david, long, has, now, officially, endorsed, lt., gov., eric, holcomb, to, be, our, next,...</td>\n",
              "      <td>0.999604</td>\n",
              "      <td>M</td>\n",
              "    </tr>\n",
              "    <tr>\n",
              "      <th>374493</th>\n",
              "      <td>3124584</td>\n",
              "      <td>23984618</td>\n",
              "      <td>W</td>\n",
              "      <td>82848</td>\n",
              "      <td>Steve</td>\n",
              "      <td>rep hensarling: great plan, let us make it happen!</td>\n",
              "      <td>Ann Wagner</td>\n",
              "      <td>Congress_Republican</td>\n",
              "      <td>[rep, hensarling:, great, plan,, let, us, make, it, happen!]</td>\n",
              "      <td>0.999600</td>\n",
              "      <td>M</td>\n",
              "    </tr>\n",
              "    <tr>\n",
              "      <th>2146355</th>\n",
              "      <td>11287335</td>\n",
              "      <td>77234050</td>\n",
              "      <td>W</td>\n",
              "      <td>400156</td>\n",
              "      <td>Jerry</td>\n",
              "      <td>parke, you can thank nathan for the sinking and yourself for even giving credence to his racebai...</td>\n",
              "      <td>Cathy McMorris Rodgers</td>\n",
              "      <td>Congress_Republican</td>\n",
              "      <td>[parke,, you, can, thank, nathan, for, the, sinking, and, yourself, for, even, giving, credence,...</td>\n",
              "      <td>0.999594</td>\n",
              "      <td>M</td>\n",
              "    </tr>\n",
              "    <tr>\n",
              "      <th>2045576</th>\n",
              "      <td>11094968</td>\n",
              "      <td>86569077</td>\n",
              "      <td>W</td>\n",
              "      <td>390593</td>\n",
              "      <td>Danielle</td>\n",
              "      <td>@ duncan - i benefitted because i realized i disagree with rand's view of the world. thanks for ...</td>\n",
              "      <td>Kirsten Gillibrand</td>\n",
              "      <td>Congress_Democratic</td>\n",
              "      <td>[@, duncan, -, i, benefitted, because, i, realized, i, disagree, with, rand's, view, of, the, wo...</td>\n",
              "      <td>0.999564</td>\n",
              "      <td>M</td>\n",
              "    </tr>\n",
              "    <tr>\n",
              "      <th>2022655</th>\n",
              "      <td>11072047</td>\n",
              "      <td>86569077</td>\n",
              "      <td>W</td>\n",
              "      <td>390238</td>\n",
              "      <td>Stuart</td>\n",
              "      <td>us jobs are important everywhere.  the sierra club which endorses sen. gillibrand is trying to s...</td>\n",
              "      <td>Kirsten Gillibrand</td>\n",
              "      <td>Congress_Democratic</td>\n",
              "      <td>[us, jobs, are, important, everywhere., the, sierra, club, which, endorses, sen., gillibrand, is...</td>\n",
              "      <td>0.999558</td>\n",
              "      <td>M</td>\n",
              "    </tr>\n",
              "    <tr>\n",
              "      <th>2007127</th>\n",
              "      <td>11056519</td>\n",
              "      <td>86569077</td>\n",
              "      <td>W</td>\n",
              "      <td>390101</td>\n",
              "      <td>Samantha</td>\n",
              "      <td>thank you senator gillibrand, and also thanks to senator schumer.</td>\n",
              "      <td>Kirsten Gillibrand</td>\n",
              "      <td>Congress_Democratic</td>\n",
              "      <td>[thank, you, senator, gillibrand,, and, also, thanks, to, senator, schumer.]</td>\n",
              "      <td>0.999542</td>\n",
              "      <td>M</td>\n",
              "    </tr>\n",
              "  </tbody>\n",
              "</table>\n",
              "</div>"
            ],
            "text/plain": [
              "         original_idx     op_id  ...     probs  preds\n",
              "1993131      11042523  86569077  ...  0.999967      M\n",
              "1951556      11000948  86569077  ...  0.999930      M\n",
              "2032565      11081957  86569077  ...  0.999920      M\n",
              "429525        3362760  76269753  ...  0.999896      M\n",
              "2024355      11073747  86569077  ...  0.999846      M\n",
              "2290366      13626031   4938109  ...  0.999810      M\n",
              "2160154      11301134  77234050  ...  0.999794      M\n",
              "2050665      11100057  86569077  ...  0.999786      M\n",
              "1915222      10964614  86569077  ...  0.999774      M\n",
              "2103705      11244685  77234050  ...  0.999768      M\n",
              "2001084      11050476  86569077  ...  0.999723      M\n",
              "2130296      11271276  77234050  ...  0.999717      M\n",
              "2130848      11271828  77234050  ...  0.999717      M\n",
              "1159797       6091571  19189340  ...  0.999693      M\n",
              "2204895      12066357  87468720  ...  0.999604      M\n",
              "374493        3124584  23984618  ...  0.999600      M\n",
              "2146355      11287335  77234050  ...  0.999594      M\n",
              "2045576      11094968  86569077  ...  0.999564      M\n",
              "2022655      11072047  86569077  ...  0.999558      M\n",
              "2007127      11056519  86569077  ...  0.999542      M\n",
              "\n",
              "[20 rows x 11 columns]"
            ]
          },
          "metadata": {
            "tags": []
          },
          "execution_count": 42
        }
      ]
    },
    {
      "cell_type": "code",
      "metadata": {
        "id": "KoJzrEOfIct2",
        "colab_type": "code",
        "colab": {
          "base_uri": "https://localhost:8080/",
          "height": 1000
        },
        "outputId": "dae00617-08fb-46c2-a159-305e8aea2aa0"
      },
      "source": [
        "# most confident wrong predictions where the answer was F but they thought M\n",
        "# same as before - references to a male politician \n",
        "wrong_preds.sort_values('probs', ascending=True)[:20]"
      ],
      "execution_count": 43,
      "outputs": [
        {
          "output_type": "execute_result",
          "data": {
            "text/html": [
              "<div>\n",
              "<style scoped>\n",
              "    .dataframe tbody tr th:only-of-type {\n",
              "        vertical-align: middle;\n",
              "    }\n",
              "\n",
              "    .dataframe tbody tr th {\n",
              "        vertical-align: top;\n",
              "    }\n",
              "\n",
              "    .dataframe thead th {\n",
              "        text-align: right;\n",
              "    }\n",
              "</style>\n",
              "<table border=\"1\" class=\"dataframe\">\n",
              "  <thead>\n",
              "    <tr style=\"text-align: right;\">\n",
              "      <th></th>\n",
              "      <th>original_idx</th>\n",
              "      <th>op_id</th>\n",
              "      <th>op_gender</th>\n",
              "      <th>post_id</th>\n",
              "      <th>responder_id</th>\n",
              "      <th>response_text</th>\n",
              "      <th>op_name</th>\n",
              "      <th>op_category</th>\n",
              "      <th>split_response</th>\n",
              "      <th>probs</th>\n",
              "      <th>preds</th>\n",
              "    </tr>\n",
              "  </thead>\n",
              "  <tbody>\n",
              "    <tr>\n",
              "      <th>991634</th>\n",
              "      <td>5240688</td>\n",
              "      <td>46506154</td>\n",
              "      <td>M</td>\n",
              "      <td>161317</td>\n",
              "      <td>Laura</td>\n",
              "      <td>keep the faith ms. ayotte, you are good for new hampshire and our country !!  you have more supp...</td>\n",
              "      <td>Marco Rubio</td>\n",
              "      <td>Congress_Republican</td>\n",
              "      <td>[keep, the, faith, ms., ayotte,, you, are, good, for, new, hampshire, and, our, country, !!, you...</td>\n",
              "      <td>4.470348e-07</td>\n",
              "      <td>W</td>\n",
              "    </tr>\n",
              "    <tr>\n",
              "      <th>991742</th>\n",
              "      <td>5240796</td>\n",
              "      <td>46506154</td>\n",
              "      <td>M</td>\n",
              "      <td>161317</td>\n",
              "      <td>Karen</td>\n",
              "      <td>stand strong senator ayotte!  we are with you all the way!</td>\n",
              "      <td>Marco Rubio</td>\n",
              "      <td>Congress_Republican</td>\n",
              "      <td>[stand, strong, senator, ayotte!, we, are, with, you, all, the, way!]</td>\n",
              "      <td>1.761317e-05</td>\n",
              "      <td>W</td>\n",
              "    </tr>\n",
              "    <tr>\n",
              "      <th>1870185</th>\n",
              "      <td>10903113</td>\n",
              "      <td>10458808</td>\n",
              "      <td>M</td>\n",
              "      <td>385776</td>\n",
              "      <td>Hannah</td>\n",
              "      <td>i see tulsi!</td>\n",
              "      <td>Mark Takano</td>\n",
              "      <td>Congress_Democratic</td>\n",
              "      <td>[i, see, tulsi!]</td>\n",
              "      <td>1.981854e-05</td>\n",
              "      <td>W</td>\n",
              "    </tr>\n",
              "    <tr>\n",
              "      <th>912545</th>\n",
              "      <td>5161599</td>\n",
              "      <td>46506154</td>\n",
              "      <td>M</td>\n",
              "      <td>161121</td>\n",
              "      <td>Connie</td>\n",
              "      <td>it was nice of him to support joni,  but she already had my vote.</td>\n",
              "      <td>Marco Rubio</td>\n",
              "      <td>Congress_Republican</td>\n",
              "      <td>[it, was, nice, of, him, to, support, joni,, but, she, already, had, my, vote.]</td>\n",
              "      <td>2.977252e-05</td>\n",
              "      <td>W</td>\n",
              "    </tr>\n",
              "    <tr>\n",
              "      <th>1705630</th>\n",
              "      <td>10211234</td>\n",
              "      <td>32185537</td>\n",
              "      <td>M</td>\n",
              "      <td>376624</td>\n",
              "      <td>Judi</td>\n",
              "      <td>way to go zoe mighty proud of you. signed a native arizonan :-)</td>\n",
              "      <td>Paul Gosar</td>\n",
              "      <td>Congress_Republican</td>\n",
              "      <td>[way, to, go, zoe, mighty, proud, of, you., signed, a, native, arizonan, :-)]</td>\n",
              "      <td>3.179908e-05</td>\n",
              "      <td>W</td>\n",
              "    </tr>\n",
              "    <tr>\n",
              "      <th>923031</th>\n",
              "      <td>5172085</td>\n",
              "      <td>46506154</td>\n",
              "      <td>M</td>\n",
              "      <td>161173</td>\n",
              "      <td>Amy</td>\n",
              "      <td>amen debra !</td>\n",
              "      <td>Marco Rubio</td>\n",
              "      <td>Congress_Republican</td>\n",
              "      <td>[amen, debra, !]</td>\n",
              "      <td>3.620982e-05</td>\n",
              "      <td>W</td>\n",
              "    </tr>\n",
              "    <tr>\n",
              "      <th>1887369</th>\n",
              "      <td>10920297</td>\n",
              "      <td>10458808</td>\n",
              "      <td>M</td>\n",
              "      <td>386070</td>\n",
              "      <td>Stephen</td>\n",
              "      <td>yes yes yes. kamala.  you have always been there for us!!!  fantastic!</td>\n",
              "      <td>Mark Takano</td>\n",
              "      <td>Congress_Democratic</td>\n",
              "      <td>[yes, yes, yes., kamala., you, have, always, been, there, for, us!!!, fantastic!]</td>\n",
              "      <td>4.437566e-05</td>\n",
              "      <td>W</td>\n",
              "    </tr>\n",
              "    <tr>\n",
              "      <th>1648690</th>\n",
              "      <td>10129549</td>\n",
              "      <td>51495713</td>\n",
              "      <td>M</td>\n",
              "      <td>370568</td>\n",
              "      <td>Pam</td>\n",
              "      <td>i feel you are doing a great job! i too am extremely disappointed with the rest of the gop, they...</td>\n",
              "      <td>Richard Shelby</td>\n",
              "      <td>Congress_Republican</td>\n",
              "      <td>[i, feel, you, are, doing, a, great, job!, i, too, am, extremely, disappointed, with, the, rest,...</td>\n",
              "      <td>5.093217e-05</td>\n",
              "      <td>W</td>\n",
              "    </tr>\n",
              "    <tr>\n",
              "      <th>887335</th>\n",
              "      <td>5136389</td>\n",
              "      <td>46506154</td>\n",
              "      <td>M</td>\n",
              "      <td>160982</td>\n",
              "      <td>Kim</td>\n",
              "      <td>absolutely joni rocks....................jan</td>\n",
              "      <td>Marco Rubio</td>\n",
              "      <td>Congress_Republican</td>\n",
              "      <td>[absolutely, joni, rocks....................jan]</td>\n",
              "      <td>5.099177e-05</td>\n",
              "      <td>W</td>\n",
              "    </tr>\n",
              "    <tr>\n",
              "      <th>349253</th>\n",
              "      <td>2621876</td>\n",
              "      <td>46566554</td>\n",
              "      <td>M</td>\n",
              "      <td>67098</td>\n",
              "      <td>John</td>\n",
              "      <td>you send copy to  congresswoman vicky hartzler</td>\n",
              "      <td>Sam Graves</td>\n",
              "      <td>Congress_Republican</td>\n",
              "      <td>[you, send, copy, to, congresswoman, vicky, hartzler]</td>\n",
              "      <td>5.853176e-05</td>\n",
              "      <td>W</td>\n",
              "    </tr>\n",
              "    <tr>\n",
              "      <th>901402</th>\n",
              "      <td>5150456</td>\n",
              "      <td>46506154</td>\n",
              "      <td>M</td>\n",
              "      <td>161080</td>\n",
              "      <td>Robyn</td>\n",
              "      <td>shame on you patty murray. you will never get my vote again!</td>\n",
              "      <td>Marco Rubio</td>\n",
              "      <td>Congress_Republican</td>\n",
              "      <td>[shame, on, you, patty, murray., you, will, never, get, my, vote, again!]</td>\n",
              "      <td>8.052588e-05</td>\n",
              "      <td>W</td>\n",
              "    </tr>\n",
              "    <tr>\n",
              "      <th>983354</th>\n",
              "      <td>5232408</td>\n",
              "      <td>46506154</td>\n",
              "      <td>M</td>\n",
              "      <td>161308</td>\n",
              "      <td>Luis</td>\n",
              "      <td>felicidades marco. viva cuba libre.!!!! ajá</td>\n",
              "      <td>Marco Rubio</td>\n",
              "      <td>Congress_Republican</td>\n",
              "      <td>[felicidades, marco., viva, cuba, libre.!!!!, ajá]</td>\n",
              "      <td>8.571148e-05</td>\n",
              "      <td>W</td>\n",
              "    </tr>\n",
              "    <tr>\n",
              "      <th>181521</th>\n",
              "      <td>2358273</td>\n",
              "      <td>62246450</td>\n",
              "      <td>M</td>\n",
              "      <td>52502</td>\n",
              "      <td>Annie</td>\n",
              "      <td>keep going elizabeth! we support you!</td>\n",
              "      <td>Ron Wyden</td>\n",
              "      <td>Congress_Democratic</td>\n",
              "      <td>[keep, going, elizabeth!, we, support, you!]</td>\n",
              "      <td>8.782744e-05</td>\n",
              "      <td>W</td>\n",
              "    </tr>\n",
              "    <tr>\n",
              "      <th>1330852</th>\n",
              "      <td>7749146</td>\n",
              "      <td>99469231</td>\n",
              "      <td>M</td>\n",
              "      <td>296110</td>\n",
              "      <td>Rhona</td>\n",
              "      <td>i hope that you and sanders continue to work together. you are but a few in congress who are not...</td>\n",
              "      <td>John McCain</td>\n",
              "      <td>Congress_Republican</td>\n",
              "      <td>[i, hope, that, you, and, sanders, continue, to, work, together., you, are, but, a, few, in, con...</td>\n",
              "      <td>9.188056e-05</td>\n",
              "      <td>W</td>\n",
              "    </tr>\n",
              "    <tr>\n",
              "      <th>612260</th>\n",
              "      <td>4861314</td>\n",
              "      <td>46506154</td>\n",
              "      <td>M</td>\n",
              "      <td>160200</td>\n",
              "      <td>Susan</td>\n",
              "      <td>events calendar:  saturday – march 12th pinellas county rally with marco rubio: http://rub.io/h1...</td>\n",
              "      <td>Marco Rubio</td>\n",
              "      <td>Congress_Republican</td>\n",
              "      <td>[events, calendar:, saturday, –, march, 12th, pinellas, county, rally, with, marco, rubio:, http...</td>\n",
              "      <td>9.495020e-05</td>\n",
              "      <td>W</td>\n",
              "    </tr>\n",
              "    <tr>\n",
              "      <th>916075</th>\n",
              "      <td>5165129</td>\n",
              "      <td>46506154</td>\n",
              "      <td>M</td>\n",
              "      <td>161131</td>\n",
              "      <td>Lee</td>\n",
              "      <td>go joni ,she can beat scaley.</td>\n",
              "      <td>Marco Rubio</td>\n",
              "      <td>Congress_Republican</td>\n",
              "      <td>[go, joni, ,she, can, beat, scaley.]</td>\n",
              "      <td>9.557605e-05</td>\n",
              "      <td>W</td>\n",
              "    </tr>\n",
              "    <tr>\n",
              "      <th>264413</th>\n",
              "      <td>2528948</td>\n",
              "      <td>59227815</td>\n",
              "      <td>M</td>\n",
              "      <td>63410</td>\n",
              "      <td>Rhonda</td>\n",
              "      <td>love you, mia love!  almost-aborted first black congresswoman.</td>\n",
              "      <td>Paul Ryan</td>\n",
              "      <td>Congress_Republican</td>\n",
              "      <td>[love, you,, mia, love!, almost-aborted, first, black, congresswoman.]</td>\n",
              "      <td>9.918213e-05</td>\n",
              "      <td>W</td>\n",
              "    </tr>\n",
              "    <tr>\n",
              "      <th>70362</th>\n",
              "      <td>2188277</td>\n",
              "      <td>38794897</td>\n",
              "      <td>M</td>\n",
              "      <td>37613</td>\n",
              "      <td>Vic</td>\n",
              "      <td>thank you congresswoman marcy kaptur. http://www.youtube.com/watch?v=njs4uo8f2r8&amp;feature=youtu.be</td>\n",
              "      <td>Sherrod Brown</td>\n",
              "      <td>Congress_Democratic</td>\n",
              "      <td>[thank, you, congresswoman, marcy, kaptur., http://www.youtube.com/watch?v=njs4uo8f2r8&amp;feature=y...</td>\n",
              "      <td>1.148582e-04</td>\n",
              "      <td>W</td>\n",
              "    </tr>\n",
              "    <tr>\n",
              "      <th>280604</th>\n",
              "      <td>2545139</td>\n",
              "      <td>59227815</td>\n",
              "      <td>M</td>\n",
              "      <td>63427</td>\n",
              "      <td>Lisa</td>\n",
              "      <td>I am reaching out to you in hopes that you may be able to help me or put me in touch with a cele...</td>\n",
              "      <td>Paul Ryan</td>\n",
              "      <td>Congress_Republican</td>\n",
              "      <td>[I, am, reaching, out, to, you, in, hopes, that, you, may, be, able, to, help, me, or, put, me, ...</td>\n",
              "      <td>1.164079e-04</td>\n",
              "      <td>W</td>\n",
              "    </tr>\n",
              "    <tr>\n",
              "      <th>423857</th>\n",
              "      <td>3244196</td>\n",
              "      <td>18430916</td>\n",
              "      <td>M</td>\n",
              "      <td>99514</td>\n",
              "      <td>David</td>\n",
              "      <td>... my friend, dina, on the left ... you go girl ...</td>\n",
              "      <td>Bob Menendez</td>\n",
              "      <td>Congress_Democratic</td>\n",
              "      <td>[..., my, friend,, dina,, on, the, left, ..., you, go, girl, ...]</td>\n",
              "      <td>1.268983e-04</td>\n",
              "      <td>W</td>\n",
              "    </tr>\n",
              "  </tbody>\n",
              "</table>\n",
              "</div>"
            ],
            "text/plain": [
              "         original_idx     op_id  ...         probs  preds\n",
              "991634        5240688  46506154  ...  4.470348e-07      W\n",
              "991742        5240796  46506154  ...  1.761317e-05      W\n",
              "1870185      10903113  10458808  ...  1.981854e-05      W\n",
              "912545        5161599  46506154  ...  2.977252e-05      W\n",
              "1705630      10211234  32185537  ...  3.179908e-05      W\n",
              "923031        5172085  46506154  ...  3.620982e-05      W\n",
              "1887369      10920297  10458808  ...  4.437566e-05      W\n",
              "1648690      10129549  51495713  ...  5.093217e-05      W\n",
              "887335        5136389  46506154  ...  5.099177e-05      W\n",
              "349253        2621876  46566554  ...  5.853176e-05      W\n",
              "901402        5150456  46506154  ...  8.052588e-05      W\n",
              "983354        5232408  46506154  ...  8.571148e-05      W\n",
              "181521        2358273  62246450  ...  8.782744e-05      W\n",
              "1330852       7749146  99469231  ...  9.188056e-05      W\n",
              "612260        4861314  46506154  ...  9.495020e-05      W\n",
              "916075        5165129  46506154  ...  9.557605e-05      W\n",
              "264413        2528948  59227815  ...  9.918213e-05      W\n",
              "70362         2188277  38794897  ...  1.148582e-04      W\n",
              "280604        2545139  59227815  ...  1.164079e-04      W\n",
              "423857        3244196  18430916  ...  1.268983e-04      W\n",
              "\n",
              "[20 rows x 11 columns]"
            ]
          },
          "metadata": {
            "tags": []
          },
          "execution_count": 43
        }
      ]
    }
  ]
}
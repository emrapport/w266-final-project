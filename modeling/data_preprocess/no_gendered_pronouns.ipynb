{
  "nbformat": 4,
  "nbformat_minor": 0,
  "metadata": {
    "kernelspec": {
      "name": "python3",
      "display_name": "Python 3"
    },
    "language_info": {
      "codemirror_mode": {
        "name": "ipython",
        "version": 3
      },
      "file_extension": ".py",
      "mimetype": "text/x-python",
      "name": "python",
      "nbconvert_exporter": "python",
      "pygments_lexer": "ipython3",
      "version": "3.7.4"
    },
    "colab": {
      "name": "no_gendered_pronouns.ipynb",
      "provenance": [],
      "machine_shape": "hm",
      "include_colab_link": true
    },
    "accelerator": "TPU"
  },
  "cells": [
    {
      "cell_type": "markdown",
      "metadata": {
        "id": "view-in-github",
        "colab_type": "text"
      },
      "source": [
        "<a href=\"https://colab.research.google.com/github/emrapport/w266-final-project/blob/master/modeling/no_gendered_pronouns.ipynb\" target=\"_parent\"><img src=\"https://colab.research.google.com/assets/colab-badge.svg\" alt=\"Open In Colab\"/></a>"
      ]
    },
    {
      "cell_type": "markdown",
      "metadata": {
        "id": "ldVKPuCY1oqk",
        "colab_type": "text"
      },
      "source": [
        "## Remove gendered pronouns.\n",
        "\n"
      ]
    },
    {
      "cell_type": "code",
      "metadata": {
        "id": "dJtCeCgbSs0D",
        "colab_type": "code",
        "colab": {}
      },
      "source": [
        "# this notebook is based off of this blog post: \n",
        "# https://realpython.com/python-keras-text-classification/#reader-comments"
      ],
      "execution_count": 0,
      "outputs": []
    },
    {
      "cell_type": "code",
      "metadata": {
        "id": "_QYIGfoPFRZK",
        "colab_type": "code",
        "colab": {}
      },
      "source": [
        "DATASET_NAME = \"no_gen_pronouns\"\n",
        "MODEL_NAME = \"no_gen_pronouns\"\n",
        "MAX_SEQ_LENGTH = 20\n",
        "TRAINING_SET_SIZE = 4000000\n",
        "VAL_SET_SIZE = 2000000\n",
        "NUM_EPOCHS = 15\n",
        "BATCH_SIZE = 1000\n",
        "MAX_SEQUENCE_LENGTH = 20\n",
        "\n",
        "\n",
        "# I don't think we have a good reason to do this right now\n",
        "# but we might eventually \n",
        "SAVE_TOKENIZED_DATA = False"
      ],
      "execution_count": 0,
      "outputs": []
    },
    {
      "cell_type": "code",
      "metadata": {
        "id": "l0rrZSx7Ss0M",
        "colab_type": "code",
        "outputId": "e2edeb5e-9e08-4981-ec86-dcd4a32dc8c9",
        "colab": {
          "base_uri": "https://localhost:8080/",
          "height": 316
        }
      },
      "source": [
        "from sklearn.linear_model import LogisticRegression\n",
        "from sklearn.feature_extraction.text import HashingVectorizer\n",
        "from scipy.sparse import hstack, vstack\n",
        "from keras.preprocessing.text import Tokenizer\n",
        "from tensorflow.keras import Sequential, layers\n",
        "from keras.utils import plot_model\n",
        "import pandas as pd\n",
        "import numpy as np\n",
        "import copy\n",
        "import time\n",
        "import pickle\n",
        "!pip install gcsfs\n",
        "\n",
        "pd.set_option('max_colwidth', 100)"
      ],
      "execution_count": 23,
      "outputs": [
        {
          "output_type": "stream",
          "text": [
            "Requirement already satisfied: gcsfs in /usr/local/lib/python3.6/dist-packages (0.4.0)\n",
            "Requirement already satisfied: requests in /usr/local/lib/python3.6/dist-packages (from gcsfs) (2.21.0)\n",
            "Requirement already satisfied: google-auth-oauthlib in /usr/local/lib/python3.6/dist-packages (from gcsfs) (0.4.1)\n",
            "Requirement already satisfied: decorator in /usr/local/lib/python3.6/dist-packages (from gcsfs) (4.4.1)\n",
            "Requirement already satisfied: fsspec>=0.6.0 in /usr/local/lib/python3.6/dist-packages (from gcsfs) (0.6.0)\n",
            "Requirement already satisfied: google-auth>=1.2 in /usr/local/lib/python3.6/dist-packages (from gcsfs) (1.4.2)\n",
            "Requirement already satisfied: urllib3<1.25,>=1.21.1 in /usr/local/lib/python3.6/dist-packages (from requests->gcsfs) (1.24.3)\n",
            "Requirement already satisfied: certifi>=2017.4.17 in /usr/local/lib/python3.6/dist-packages (from requests->gcsfs) (2019.9.11)\n",
            "Requirement already satisfied: chardet<3.1.0,>=3.0.2 in /usr/local/lib/python3.6/dist-packages (from requests->gcsfs) (3.0.4)\n",
            "Requirement already satisfied: idna<2.9,>=2.5 in /usr/local/lib/python3.6/dist-packages (from requests->gcsfs) (2.8)\n",
            "Requirement already satisfied: requests-oauthlib>=0.7.0 in /usr/local/lib/python3.6/dist-packages (from google-auth-oauthlib->gcsfs) (1.3.0)\n",
            "Requirement already satisfied: pyasn1-modules>=0.2.1 in /usr/local/lib/python3.6/dist-packages (from google-auth>=1.2->gcsfs) (0.2.7)\n",
            "Requirement already satisfied: rsa>=3.1.4 in /usr/local/lib/python3.6/dist-packages (from google-auth>=1.2->gcsfs) (4.0)\n",
            "Requirement already satisfied: six>=1.9.0 in /usr/local/lib/python3.6/dist-packages (from google-auth>=1.2->gcsfs) (1.12.0)\n",
            "Requirement already satisfied: cachetools>=2.0.0 in /usr/local/lib/python3.6/dist-packages (from google-auth>=1.2->gcsfs) (3.1.1)\n",
            "Requirement already satisfied: oauthlib>=3.0.0 in /usr/local/lib/python3.6/dist-packages (from requests-oauthlib>=0.7.0->google-auth-oauthlib->gcsfs) (3.1.0)\n",
            "Requirement already satisfied: pyasn1<0.5.0,>=0.4.6 in /usr/local/lib/python3.6/dist-packages (from pyasn1-modules>=0.2.1->google-auth>=1.2->gcsfs) (0.4.7)\n"
          ],
          "name": "stdout"
        }
      ]
    },
    {
      "cell_type": "code",
      "metadata": {
        "id": "lKNfUKrfUgP-",
        "colab_type": "code",
        "outputId": "06029669-da7d-48e9-b792-e8df0d4bea6f",
        "colab": {
          "base_uri": "https://localhost:8080/",
          "height": 34
        }
      },
      "source": [
        "# this cell is only necessary if running in colab\n",
        "project_id = 'w266-251323'\n",
        "import uuid\n",
        "bucket_name = 'fb-congressional-data/'\n",
        "from google.colab import auth\n",
        "auth.authenticate_user()\n",
        "!gcloud config set project {project_id}"
      ],
      "execution_count": 24,
      "outputs": [
        {
          "output_type": "stream",
          "text": [
            "Updated property [core/project].\n"
          ],
          "name": "stdout"
        }
      ]
    },
    {
      "cell_type": "code",
      "metadata": {
        "id": "9T7PzdLQSs0j",
        "colab_type": "code",
        "outputId": "db331777-8517-4b24-9d77-893ba8707a53",
        "colab": {
          "base_uri": "https://localhost:8080/",
          "height": 72
        }
      },
      "source": [
        "train_df = pd.read_csv(\"gs://fb-congressional-data/contraction_expanded_data/train.csv\", index_col=0)"
      ],
      "execution_count": 25,
      "outputs": [
        {
          "output_type": "stream",
          "text": [
            "/usr/local/lib/python3.6/dist-packages/numpy/lib/arraysetops.py:568: FutureWarning: elementwise comparison failed; returning scalar instead, but in the future will perform elementwise comparison\n",
            "  mask |= (ar1 == a)\n"
          ],
          "name": "stderr"
        }
      ]
    },
    {
      "cell_type": "code",
      "metadata": {
        "id": "0iOniVLISs0m",
        "colab_type": "code",
        "outputId": "dae655e7-519b-45a5-ce8e-f2cb6312bdfc",
        "colab": {
          "base_uri": "https://localhost:8080/",
          "height": 72
        }
      },
      "source": [
        "dev_df = pd.read_csv(\"gs://fb-congressional-data/contraction_expanded_data/dev.csv\", index_col=0)"
      ],
      "execution_count": 26,
      "outputs": [
        {
          "output_type": "stream",
          "text": [
            "/usr/local/lib/python3.6/dist-packages/numpy/lib/arraysetops.py:568: FutureWarning: elementwise comparison failed; returning scalar instead, but in the future will perform elementwise comparison\n",
            "  mask |= (ar1 == a)\n"
          ],
          "name": "stderr"
        }
      ]
    },
    {
      "cell_type": "code",
      "metadata": {
        "id": "dk4goOwAPXRH",
        "colab_type": "code",
        "outputId": "793e663c-8bff-4c39-e301-599c0c64bc62",
        "colab": {
          "base_uri": "https://localhost:8080/",
          "height": 34
        }
      },
      "source": [
        "len(train_df)"
      ],
      "execution_count": 27,
      "outputs": [
        {
          "output_type": "execute_result",
          "data": {
            "text/plain": [
              "9879016"
            ]
          },
          "metadata": {
            "tags": []
          },
          "execution_count": 27
        }
      ]
    },
    {
      "cell_type": "code",
      "metadata": {
        "id": "6sOBM6Q6Q4Mz",
        "colab_type": "code",
        "outputId": "21583344-7a23-4482-84f4-2b5fe29a9fba",
        "colab": {
          "base_uri": "https://localhost:8080/",
          "height": 34
        }
      },
      "source": [
        "len(dev_df)"
      ],
      "execution_count": 28,
      "outputs": [
        {
          "output_type": "execute_result",
          "data": {
            "text/plain": [
              "2292907"
            ]
          },
          "metadata": {
            "tags": []
          },
          "execution_count": 28
        }
      ]
    },
    {
      "cell_type": "code",
      "metadata": {
        "id": "pa0X18XgNgip",
        "colab_type": "code",
        "colab": {}
      },
      "source": [
        "# # Get a list of the politicians' names.\n",
        "# # I am using just the names listed in the op_name series.\n",
        "# polit_names = train_df['op_name']\n",
        "# polit_names2 = dev_df['op_name']\n",
        "# polit_names.drop_duplicates(inplace=True)\n",
        "# polit_names2.drop_duplicates(inplace=True)\n",
        "\n",
        "# full_names_list = polit_names.to_list() + polit_names2.to_list()\n",
        "# polit_names_list = [name for names in full_names_list for name in names.split()]\n",
        "# # Dedup the list again now that it's split.\n",
        "# new_list = []\n",
        "# for name in polit_names_list:\n",
        "#     if name.lower() not in new_list:\n",
        "#         new_list.append(name.lower())\n",
        "# polit_names_list = new_list"
      ],
      "execution_count": 0,
      "outputs": []
    },
    {
      "cell_type": "code",
      "metadata": {
        "id": "LSf14vtQ2_6b",
        "colab_type": "code",
        "colab": {}
      },
      "source": [
        "# # Remove initials and names that are words with common meaning.\n",
        "# common_word_list = ['rob','blunt','king','mark','bob','jan','chuck','rod','love','sessions','buddy','mast',\n",
        "#                     'bill','holding','drew','waters','gene','green','jerry','young','brat','clay','bass',\n",
        "#                     'rice','jack','hatch','van','buck','tester','dick','g.','brown','fudge','dean','don',\n",
        "#                     'slaughter','banks','f.','lynch','flake','sires','robin']\n",
        "# new_list = []\n",
        "# for name in polit_names_list:\n",
        "#     if name not in common_word_list:\n",
        "#         new_list.append(name)\n",
        "# polit_names_list = new_list"
      ],
      "execution_count": 0,
      "outputs": []
    },
    {
      "cell_type": "code",
      "metadata": {
        "id": "W1oM4o7wtHFd",
        "colab_type": "code",
        "outputId": "dd65c9d5-f927-4e9a-d6a2-b58ae293ba00",
        "colab": {
          "base_uri": "https://localhost:8080/",
          "height": 34
        }
      },
      "source": [
        "num_responses_per_post = train_df.post_id.value_counts().reset_index()\n",
        "num_responses_per_post.columns = ['post_id', 'num_responses']\n",
        "too_big_posts = num_responses_per_post[num_responses_per_post.num_responses > 50]\n",
        "posts_to_sample = too_big_posts.post_id.values\n",
        "# this gets all the rows for posts we DON'T need to sample \n",
        "new_train_df = train_df[~train_df.post_id.isin(posts_to_sample)]\n",
        "# this should be true\n",
        "assert(len(too_big_posts) + new_train_df.post_id.nunique() == train_df.post_id.nunique())\n",
        "too_big_post_rows = train_df[train_df.post_id.isin(posts_to_sample)]\n",
        "sampled_rows = too_big_post_rows.groupby('post_id').apply(lambda x: x.sample(n=50)).reset_index(drop=True)\n",
        "new_train_df = pd.concat([new_train_df, sampled_rows])\n",
        "new_train_df.shape"
      ],
      "execution_count": 29,
      "outputs": [
        {
          "output_type": "execute_result",
          "data": {
            "text/plain": [
              "(3962284, 8)"
            ]
          },
          "metadata": {
            "tags": []
          },
          "execution_count": 29
        }
      ]
    },
    {
      "cell_type": "code",
      "metadata": {
        "id": "bwNu4VTq46QG",
        "colab_type": "code",
        "outputId": "5204f8c4-c64e-4857-de92-10810cbb25b7",
        "colab": {
          "base_uri": "https://localhost:8080/",
          "height": 52
        }
      },
      "source": [
        "start_time = time.time()\n",
        "# Remove 1 and 2 word responses from training set.\n",
        "# Split response string by spaces.\n",
        "new_train_df['split_response'] = new_train_df['response_text'].str.split()\n",
        "# Remove the rows with split responses that have length 1 or 2.\n",
        "train_df = new_train_df[new_train_df['split_response'].str.len() > 2]\n",
        "train_df.head()\n",
        "print(\"seconds to complete:\",(time.time()-start_time))\n",
        "train_df.shape"
      ],
      "execution_count": 30,
      "outputs": [
        {
          "output_type": "stream",
          "text": [
            "seconds to complete: 38.13105249404907\n"
          ],
          "name": "stdout"
        },
        {
          "output_type": "execute_result",
          "data": {
            "text/plain": [
              "(3577352, 9)"
            ]
          },
          "metadata": {
            "tags": []
          },
          "execution_count": 30
        }
      ]
    },
    {
      "cell_type": "code",
      "metadata": {
        "id": "s-GTOd_wmRzq",
        "colab_type": "code",
        "colab": {}
      },
      "source": [
        "# Create a list for simple pronoun substitution.\n",
        "gen_pronouns = ['she','her','hers','congresswoman','he','his','him','congressman']"
      ],
      "execution_count": 0,
      "outputs": []
    },
    {
      "cell_type": "code",
      "metadata": {
        "id": "cuC6TAks75c_",
        "colab_type": "code",
        "colab": {}
      },
      "source": [
        "# Replace gendered pronouns with simple 'pronoun' token.\n",
        "from string import punctuation\n",
        "def replace_pronouns(response_list,gen_pronouns):\n",
        "    response_list = ' '.join('pronoun' if i.strip(punctuation) in gen_pronouns else i for i in response_list.split())\n",
        "    return response_list"
      ],
      "execution_count": 0,
      "outputs": []
    },
    {
      "cell_type": "code",
      "metadata": {
        "id": "1Pm357ESSJRj",
        "colab_type": "code",
        "colab": {
          "base_uri": "https://localhost:8080/",
          "height": 419
        },
        "outputId": "ad4fd2bc-1bf3-4774-df57-77aea719e3dd"
      },
      "source": [
        "start_time = time.time()\n",
        "train_df['response_text'] = train_df['response_text'].astype(str).apply(replace_pronouns,args=(gen_pronouns,))\n",
        "print(\"minutes to complete:\",(time.time()-start_time)/60)\n",
        "train_df.head()"
      ],
      "execution_count": 43,
      "outputs": [
        {
          "output_type": "stream",
          "text": [
            "minutes to complete: 0.9764049172401428\n"
          ],
          "name": "stdout"
        },
        {
          "output_type": "stream",
          "text": [
            "/usr/local/lib/python3.6/dist-packages/ipykernel_launcher.py:2: SettingWithCopyWarning: \n",
            "A value is trying to be set on a copy of a slice from a DataFrame.\n",
            "Try using .loc[row_indexer,col_indexer] = value instead\n",
            "\n",
            "See the caveats in the documentation: http://pandas.pydata.org/pandas-docs/stable/user_guide/indexing.html#returning-a-view-versus-a-copy\n",
            "  \n"
          ],
          "name": "stderr"
        },
        {
          "output_type": "execute_result",
          "data": {
            "text/html": [
              "<div>\n",
              "<style scoped>\n",
              "    .dataframe tbody tr th:only-of-type {\n",
              "        vertical-align: middle;\n",
              "    }\n",
              "\n",
              "    .dataframe tbody tr th {\n",
              "        vertical-align: top;\n",
              "    }\n",
              "\n",
              "    .dataframe thead th {\n",
              "        text-align: right;\n",
              "    }\n",
              "</style>\n",
              "<table border=\"1\" class=\"dataframe\">\n",
              "  <thead>\n",
              "    <tr style=\"text-align: right;\">\n",
              "      <th></th>\n",
              "      <th>original_idx</th>\n",
              "      <th>op_id</th>\n",
              "      <th>op_gender</th>\n",
              "      <th>post_id</th>\n",
              "      <th>responder_id</th>\n",
              "      <th>response_text</th>\n",
              "      <th>op_name</th>\n",
              "      <th>op_category</th>\n",
              "      <th>split_response</th>\n",
              "    </tr>\n",
              "  </thead>\n",
              "  <tbody>\n",
              "    <tr>\n",
              "      <th>0</th>\n",
              "      <td>0</td>\n",
              "      <td>57265377</td>\n",
              "      <td>M</td>\n",
              "      <td>0</td>\n",
              "      <td>Jerry</td>\n",
              "      <td>protecting birth is not the same as protecting life. you may very well pledge to the former but ...</td>\n",
              "      <td>Roger Williams</td>\n",
              "      <td>Congress_Republican</td>\n",
              "      <td>[protecting, birth, is, not, the, same, as, protecting, life., you, may, very, well, pledge, to,...</td>\n",
              "    </tr>\n",
              "    <tr>\n",
              "      <th>1</th>\n",
              "      <td>1</td>\n",
              "      <td>57265377</td>\n",
              "      <td>M</td>\n",
              "      <td>0</td>\n",
              "      <td>Andrea</td>\n",
              "      <td>you need to protect children and leave my body to me.</td>\n",
              "      <td>Roger Williams</td>\n",
              "      <td>Congress_Republican</td>\n",
              "      <td>[you, need, to, protect, children, and, leave, my, body, to, me.]</td>\n",
              "    </tr>\n",
              "    <tr>\n",
              "      <th>3</th>\n",
              "      <td>3</td>\n",
              "      <td>57265377</td>\n",
              "      <td>M</td>\n",
              "      <td>0</td>\n",
              "      <td>Bob</td>\n",
              "      <td>thank you roger</td>\n",
              "      <td>Roger Williams</td>\n",
              "      <td>Congress_Republican</td>\n",
              "      <td>[thank, you, roger]</td>\n",
              "    </tr>\n",
              "    <tr>\n",
              "      <th>4</th>\n",
              "      <td>4</td>\n",
              "      <td>57265377</td>\n",
              "      <td>M</td>\n",
              "      <td>0</td>\n",
              "      <td>Joy</td>\n",
              "      <td>unwanted pregnancy is a sad and unfortunate situation for anyone to find themselves in, however,...</td>\n",
              "      <td>Roger Williams</td>\n",
              "      <td>Congress_Republican</td>\n",
              "      <td>[unwanted, pregnancy, is, a, sad, and, unfortunate, situation, for, anyone, to, find, themselves...</td>\n",
              "    </tr>\n",
              "    <tr>\n",
              "      <th>5</th>\n",
              "      <td>5</td>\n",
              "      <td>57265377</td>\n",
              "      <td>M</td>\n",
              "      <td>0</td>\n",
              "      <td>Candice</td>\n",
              "      <td>women, the \"hosts\" of the unborn babies you are so supportive of, need access to healthcare to g...</td>\n",
              "      <td>Roger Williams</td>\n",
              "      <td>Congress_Republican</td>\n",
              "      <td>[women,, the, \"hosts\", of, the, unborn, babies, you, are, so, supportive, of,, need, access, to,...</td>\n",
              "    </tr>\n",
              "  </tbody>\n",
              "</table>\n",
              "</div>"
            ],
            "text/plain": [
              "   original_idx  ...                                                                                       split_response\n",
              "0             0  ...  [protecting, birth, is, not, the, same, as, protecting, life., you, may, very, well, pledge, to,...\n",
              "1             1  ...                                    [you, need, to, protect, children, and, leave, my, body, to, me.]\n",
              "3             3  ...                                                                                  [thank, you, roger]\n",
              "4             4  ...  [unwanted, pregnancy, is, a, sad, and, unfortunate, situation, for, anyone, to, find, themselves...\n",
              "5             5  ...  [women,, the, \"hosts\", of, the, unborn, babies, you, are, so, supportive, of,, need, access, to,...\n",
              "\n",
              "[5 rows x 9 columns]"
            ]
          },
          "metadata": {
            "tags": []
          },
          "execution_count": 43
        }
      ]
    },
    {
      "cell_type": "code",
      "metadata": {
        "colab_type": "code",
        "id": "AzlJyebg7bVU",
        "colab": {}
      },
      "source": [
        "# # Remove political names from training set.\n",
        "# from string import punctuation\n",
        "# def replace_polit_names(response_list,names):\n",
        "#     response_list = ' '.join('politname' if i.strip(punctuation) in names else i for i in response_list.split())\n",
        "#     return response_list\n",
        "# start_time = time.time()\n",
        "# train_df['response_text'] = train_df['response_text'].astype(str).apply(replace_polit_names,args=(polit_names_list,))\n",
        "# print(\"minutes to complete:\",(time.time()-start_time)/60)\n",
        "# train_df.head(10)"
      ],
      "execution_count": 0,
      "outputs": []
    },
    {
      "cell_type": "code",
      "metadata": {
        "id": "K95juTqs5nM1",
        "colab_type": "code",
        "outputId": "c21f76bf-b98f-46b0-80cb-2f3912555575",
        "colab": {
          "base_uri": "https://localhost:8080/",
          "height": 34
        }
      },
      "source": [
        "# Remove 1 and 2 word responses from dev set.\n",
        "# Split response string by spaces.\n",
        "dev_df['split_response'] = dev_df['response_text'].str.split()\n",
        "# Remove the rows wtih split responses that have length 1 or 2.\n",
        "dev_df = dev_df[dev_df['split_response'].str.len() > 2]\n",
        "len(dev_df)"
      ],
      "execution_count": 31,
      "outputs": [
        {
          "output_type": "execute_result",
          "data": {
            "text/plain": [
              "2041945"
            ]
          },
          "metadata": {
            "tags": []
          },
          "execution_count": 31
        }
      ]
    },
    {
      "cell_type": "code",
      "metadata": {
        "id": "WIgLDfF4BtJC",
        "colab_type": "code",
        "outputId": "9461981b-0c25-42ee-b1fb-ea17595944a1",
        "colab": {
          "base_uri": "https://localhost:8080/",
          "height": 529
        }
      },
      "source": [
        "start_time = time.time()\n",
        "dev_df['response_text'] = dev_df['response_text'].astype(str).apply(replace_pronouns,args=(gen_pronouns,))\n",
        "print(\"minutes to complete:\",(time.time()-start_time)/60)\n",
        "dev_df.head(10)"
      ],
      "execution_count": 44,
      "outputs": [
        {
          "output_type": "stream",
          "text": [
            "minutes to complete: 0.5465651472409566\n"
          ],
          "name": "stdout"
        },
        {
          "output_type": "execute_result",
          "data": {
            "text/html": [
              "<div>\n",
              "<style scoped>\n",
              "    .dataframe tbody tr th:only-of-type {\n",
              "        vertical-align: middle;\n",
              "    }\n",
              "\n",
              "    .dataframe tbody tr th {\n",
              "        vertical-align: top;\n",
              "    }\n",
              "\n",
              "    .dataframe thead th {\n",
              "        text-align: right;\n",
              "    }\n",
              "</style>\n",
              "<table border=\"1\" class=\"dataframe\">\n",
              "  <thead>\n",
              "    <tr style=\"text-align: right;\">\n",
              "      <th></th>\n",
              "      <th>original_idx</th>\n",
              "      <th>op_id</th>\n",
              "      <th>op_gender</th>\n",
              "      <th>post_id</th>\n",
              "      <th>responder_id</th>\n",
              "      <th>response_text</th>\n",
              "      <th>op_name</th>\n",
              "      <th>op_category</th>\n",
              "      <th>split_response</th>\n",
              "    </tr>\n",
              "  </thead>\n",
              "  <tbody>\n",
              "    <tr>\n",
              "      <th>0</th>\n",
              "      <td>1965080</td>\n",
              "      <td>86681682</td>\n",
              "      <td>M</td>\n",
              "      <td>29909</td>\n",
              "      <td>James</td>\n",
              "      <td>thanks for passing this ridiculous legislation. https://www.youtube.com/watch?v=-y4wd8royre</td>\n",
              "      <td>Jim Banks</td>\n",
              "      <td>Congress_Republican</td>\n",
              "      <td>[thanks, for, passing, this, ridiculous, legislation., https://www.youtube.com/watch?v=-y4wd8royre]</td>\n",
              "    </tr>\n",
              "    <tr>\n",
              "      <th>1</th>\n",
              "      <td>1965081</td>\n",
              "      <td>86681682</td>\n",
              "      <td>M</td>\n",
              "      <td>29909</td>\n",
              "      <td>Martha</td>\n",
              "      <td>handsome young man on the left. 😂 mom</td>\n",
              "      <td>Jim Banks</td>\n",
              "      <td>Congress_Republican</td>\n",
              "      <td>[handsome, young, man, on, the, left., 😂, mom]</td>\n",
              "    </tr>\n",
              "    <tr>\n",
              "      <th>2</th>\n",
              "      <td>1965082</td>\n",
              "      <td>86681682</td>\n",
              "      <td>M</td>\n",
              "      <td>29911</td>\n",
              "      <td>Preston</td>\n",
              "      <td>you are sideways!</td>\n",
              "      <td>Jim Banks</td>\n",
              "      <td>Congress_Republican</td>\n",
              "      <td>[you, are, sideways!]</td>\n",
              "    </tr>\n",
              "    <tr>\n",
              "      <th>3</th>\n",
              "      <td>1965083</td>\n",
              "      <td>86681682</td>\n",
              "      <td>M</td>\n",
              "      <td>29911</td>\n",
              "      <td>Bobby</td>\n",
              "      <td>hi pronoun banks</td>\n",
              "      <td>Jim Banks</td>\n",
              "      <td>Congress_Republican</td>\n",
              "      <td>[hi, congressman, banks]</td>\n",
              "    </tr>\n",
              "    <tr>\n",
              "      <th>4</th>\n",
              "      <td>1965084</td>\n",
              "      <td>86681682</td>\n",
              "      <td>M</td>\n",
              "      <td>29911</td>\n",
              "      <td>Landon</td>\n",
              "      <td>jim, i love your office. the 5th floor is for winners.</td>\n",
              "      <td>Jim Banks</td>\n",
              "      <td>Congress_Republican</td>\n",
              "      <td>[jim,, i, love, your, office., the, 5th, floor, is, for, winners.]</td>\n",
              "    </tr>\n",
              "    <tr>\n",
              "      <th>6</th>\n",
              "      <td>1965086</td>\n",
              "      <td>86681682</td>\n",
              "      <td>M</td>\n",
              "      <td>29911</td>\n",
              "      <td>Sean</td>\n",
              "      <td>it has the penthouse.</td>\n",
              "      <td>Jim Banks</td>\n",
              "      <td>Congress_Republican</td>\n",
              "      <td>[it, has, the, penthouse.]</td>\n",
              "    </tr>\n",
              "    <tr>\n",
              "      <th>7</th>\n",
              "      <td>1965087</td>\n",
              "      <td>86681682</td>\n",
              "      <td>M</td>\n",
              "      <td>29911</td>\n",
              "      <td>Preston</td>\n",
              "      <td>we are thankful for you, mr. banks!</td>\n",
              "      <td>Jim Banks</td>\n",
              "      <td>Congress_Republican</td>\n",
              "      <td>[we, are, thankful, for, you,, mr., banks!]</td>\n",
              "    </tr>\n",
              "    <tr>\n",
              "      <th>10</th>\n",
              "      <td>1965090</td>\n",
              "      <td>86681682</td>\n",
              "      <td>M</td>\n",
              "      <td>29911</td>\n",
              "      <td>Justin</td>\n",
              "      <td>looks like lots of space for activities.</td>\n",
              "      <td>Jim Banks</td>\n",
              "      <td>Congress_Republican</td>\n",
              "      <td>[looks, like, lots, of, space, for, activities.]</td>\n",
              "    </tr>\n",
              "    <tr>\n",
              "      <th>12</th>\n",
              "      <td>1965092</td>\n",
              "      <td>86681682</td>\n",
              "      <td>M</td>\n",
              "      <td>29911</td>\n",
              "      <td>Bobby</td>\n",
              "      <td>my friend tanner</td>\n",
              "      <td>Jim Banks</td>\n",
              "      <td>Congress_Republican</td>\n",
              "      <td>[my, friend, tanner]</td>\n",
              "    </tr>\n",
              "    <tr>\n",
              "      <th>13</th>\n",
              "      <td>1965093</td>\n",
              "      <td>86681682</td>\n",
              "      <td>M</td>\n",
              "      <td>29911</td>\n",
              "      <td>William</td>\n",
              "      <td>nice office, now when are you going to call for an investigation into the possible treasonable o...</td>\n",
              "      <td>Jim Banks</td>\n",
              "      <td>Congress_Republican</td>\n",
              "      <td>[nice, office,, now, when, are, you, going, to, call, for, an, investigation, into, the, possibl...</td>\n",
              "    </tr>\n",
              "  </tbody>\n",
              "</table>\n",
              "</div>"
            ],
            "text/plain": [
              "    original_idx  ...                                                                                       split_response\n",
              "0        1965080  ...  [thanks, for, passing, this, ridiculous, legislation., https://www.youtube.com/watch?v=-y4wd8royre]\n",
              "1        1965081  ...                                                       [handsome, young, man, on, the, left., 😂, mom]\n",
              "2        1965082  ...                                                                                [you, are, sideways!]\n",
              "3        1965083  ...                                                                             [hi, congressman, banks]\n",
              "4        1965084  ...                                   [jim,, i, love, your, office., the, 5th, floor, is, for, winners.]\n",
              "6        1965086  ...                                                                           [it, has, the, penthouse.]\n",
              "7        1965087  ...                                                          [we, are, thankful, for, you,, mr., banks!]\n",
              "10       1965090  ...                                                     [looks, like, lots, of, space, for, activities.]\n",
              "12       1965092  ...                                                                                 [my, friend, tanner]\n",
              "13       1965093  ...  [nice, office,, now, when, are, you, going, to, call, for, an, investigation, into, the, possibl...\n",
              "\n",
              "[10 rows x 9 columns]"
            ]
          },
          "metadata": {
            "tags": []
          },
          "execution_count": 44
        }
      ]
    },
    {
      "cell_type": "code",
      "metadata": {
        "id": "5HOBGFbSn49u",
        "colab_type": "code",
        "colab": {}
      },
      "source": [
        "# Remove the columns of lists.\n",
        "train_df = train_df.drop(['split_response'], axis=1)\n",
        "dev_df = dev_df.drop(['split_response'], axis=1)\n"
      ],
      "execution_count": 0,
      "outputs": []
    },
    {
      "cell_type": "code",
      "metadata": {
        "id": "Zq_4JxJ7o6Yi",
        "colab_type": "code",
        "outputId": "a461bdbc-aedf-45ad-b73f-b805b14bccb3",
        "colab": {
          "base_uri": "https://localhost:8080/",
          "height": 34
        }
      },
      "source": [
        "import gc\n",
        "gc.collect()"
      ],
      "execution_count": 46,
      "outputs": [
        {
          "output_type": "execute_result",
          "data": {
            "text/plain": [
              "695"
            ]
          },
          "metadata": {
            "tags": []
          },
          "execution_count": 46
        }
      ]
    },
    {
      "cell_type": "code",
      "metadata": {
        "id": "Zmn4i3bQpbmh",
        "colab_type": "code",
        "colab": {}
      },
      "source": [
        "# Set seeds for reproducible results.\n",
        "from numpy.random import seed\n",
        "seed(1)\n",
        "from tensorflow import set_random_seed\n",
        "set_random_seed(2)"
      ],
      "execution_count": 0,
      "outputs": []
    },
    {
      "cell_type": "code",
      "metadata": {
        "id": "MgZWntiySs0p",
        "colab_type": "code",
        "colab": {}
      },
      "source": [
        "# shuffle the data\n",
        "# be sure to do this before you extract X's and y's!!\n",
        "train_df = new_train_df.sample(frac=1)\n",
        "dev_df = dev_df.sample(frac=1)"
      ],
      "execution_count": 0,
      "outputs": []
    },
    {
      "cell_type": "code",
      "metadata": {
        "id": "1ZJxHTywg7Rq",
        "colab_type": "code",
        "outputId": "c71d93d9-e6f9-4475-8fb5-b467292840b9",
        "colab": {
          "base_uri": "https://localhost:8080/",
          "height": 70
        }
      },
      "source": [
        "train_df.op_gender.value_counts()"
      ],
      "execution_count": 49,
      "outputs": [
        {
          "output_type": "execute_result",
          "data": {
            "text/plain": [
              "M    2900753\n",
              "W    1061531\n",
              "Name: op_gender, dtype: int64"
            ]
          },
          "metadata": {
            "tags": []
          },
          "execution_count": 49
        }
      ]
    },
    {
      "cell_type": "code",
      "metadata": {
        "id": "NV45ZdSzp0NJ",
        "colab_type": "code",
        "outputId": "c2bfc839-e9c5-44da-d6ad-b2ea64be4e25",
        "colab": {
          "base_uri": "https://localhost:8080/",
          "height": 70
        }
      },
      "source": [
        "dev_df.op_gender.value_counts()"
      ],
      "execution_count": 50,
      "outputs": [
        {
          "output_type": "execute_result",
          "data": {
            "text/plain": [
              "M    1731288\n",
              "W     310657\n",
              "Name: op_gender, dtype: int64"
            ]
          },
          "metadata": {
            "tags": []
          },
          "execution_count": 50
        }
      ]
    },
    {
      "cell_type": "code",
      "metadata": {
        "id": "Pjb6dx8fSs0s",
        "colab_type": "code",
        "colab": {}
      },
      "source": [
        "# Set the y values.\n",
        "y_train = train_df.op_gender.values\n",
        "y_dev = dev_df.op_gender.values"
      ],
      "execution_count": 0,
      "outputs": []
    },
    {
      "cell_type": "code",
      "metadata": {
        "id": "pBCoPKh_Ss0v",
        "colab_type": "code",
        "colab": {}
      },
      "source": [
        "# Turn y values into 0 (female) and 1 (male).\n",
        "def turn_to_ints(li):\n",
        "    final_list = []\n",
        "    for gender in li:\n",
        "        if gender=='M':\n",
        "            final_list.append(1)\n",
        "        else:\n",
        "            final_list.append(0)\n",
        "    return final_list\n",
        "            \n",
        "y_train = turn_to_ints(y_train)\n",
        "y_dev = turn_to_ints(y_dev)"
      ],
      "execution_count": 0,
      "outputs": []
    },
    {
      "cell_type": "code",
      "metadata": {
        "id": "hN9GFz6xSs0y",
        "colab_type": "code",
        "colab": {}
      },
      "source": [
        "# Convert y values to numpy arrays.\n",
        "y_train = np.asarray(y_train)\n",
        "y_dev = np.asarray(y_dev)"
      ],
      "execution_count": 0,
      "outputs": []
    },
    {
      "cell_type": "code",
      "metadata": {
        "id": "ChYxh6oPSs04",
        "colab_type": "code",
        "colab": {}
      },
      "source": [
        "def get_text_list(init_list):\n",
        "    sentences = []\n",
        "    for sentence in init_list:\n",
        "        if type(sentence) != str:\n",
        "            sentences.append(\"\")\n",
        "        else:\n",
        "            sentences.append(sentence)\n",
        "    return sentences\n",
        "\n",
        "new_sentences_train = get_text_list(train_df.response_text.values) \n",
        "new_sentences_test = get_text_list(dev_df.response_text.values)"
      ],
      "execution_count": 0,
      "outputs": []
    },
    {
      "cell_type": "code",
      "metadata": {
        "id": "1b9SE7SjSs06",
        "colab_type": "code",
        "outputId": "1829f3f4-d8ef-4a0e-bba9-da78cd9a7a33",
        "colab": {
          "base_uri": "https://localhost:8080/",
          "height": 34
        }
      },
      "source": [
        "# Tokenize the sentences.\n",
        "time_start = time.time()\n",
        "\n",
        "# this is the default list of filters + apostrophe\n",
        "# added because we have dealt with common contractions, so other apostrophes should mostly be possessive \n",
        "tokenizer = Tokenizer(num_words=200000, filters='!\"\\'#$%&()*+,-./:;<=>?@[\\\\]^_`{|}~\\t\\n')\n",
        "tokenizer.fit_on_texts(new_sentences_train)\n",
        "\n",
        "X_train = tokenizer.texts_to_sequences(new_sentences_train)\n",
        "X_test = tokenizer.texts_to_sequences(new_sentences_test)\n",
        "\n",
        "vocab_size = len(tokenizer.word_index) + 1\n",
        "\n",
        "currentTime = time.gmtime(time.time() - time_start)\n",
        "\n",
        "#Convert the gmtime struct to a string\n",
        "timeStr = time.strftime(\"%M minutes, %S seconds\", currentTime)\n",
        "\n",
        "print(\"Tokenized in {}\".format(timeStr))"
      ],
      "execution_count": 55,
      "outputs": [
        {
          "output_type": "stream",
          "text": [
            "Tokenized in 05 minutes, 41 seconds\n"
          ],
          "name": "stdout"
        }
      ]
    },
    {
      "cell_type": "code",
      "metadata": {
        "id": "TyZMBAiySs0-",
        "colab_type": "code",
        "colab": {}
      },
      "source": [
        "# Pad the tokenized data so all sequences are the same length; see first cell for max length.\n",
        "# Length should be the same as in shortened response length above...\n",
        "from keras.preprocessing.sequence import pad_sequences\n",
        "\n",
        "X_train = pad_sequences(X_train, padding='post', maxlen=MAX_SEQUENCE_LENGTH)\n",
        "X_test = pad_sequences(X_test, padding='post', maxlen=MAX_SEQUENCE_LENGTH)"
      ],
      "execution_count": 0,
      "outputs": []
    },
    {
      "cell_type": "code",
      "metadata": {
        "id": "LGl1S3HySs1G",
        "colab_type": "code",
        "colab": {}
      },
      "source": [
        "if SAVE_TOKENIZED_DATA:\n",
        "  x_train_path = 'X_train_{}.pkl'.format(DATASET_NAME)\n",
        "  x_dev_path = 'X_dev_{}.pkl'.format(DATASET_NAME)\n",
        "  y_train_path = 'y_train_{}.pkl'.format(DATASET_NAME)\n",
        "  y_dev_path = 'y_dev_{}.pkl'.format(DATASET_NAME)\n",
        "\n",
        "  with open(x_train_path, 'wb') as file:\n",
        "      pickle.dump(X_train, file)   \n",
        "  with open(x_dev_path, 'wb') as file:\n",
        "      pickle.dump(X_test, file)\n",
        "  with open(y_train_path, 'wb') as file:\n",
        "      pickle.dump(y_train, file)\n",
        "  with open(y_dev_path, 'wb') as file:\n",
        "      pickle.dump(y_dev, file)\n",
        "\n",
        "  # copy to bucket\n",
        "  !gsutil cp /content/{x_train_path} gs://fb-congressional-data/test\n",
        "  !gsutil cp /content/{x_dev_path} gs://fb-congressional-data/\n",
        "  !gsutil cp /content/{y_train_path} gs://fb-congressional-data/\n",
        "  !gsutil cp /content/{y_dev_path} gs://fb-congressional-data/"
      ],
      "execution_count": 0,
      "outputs": []
    },
    {
      "cell_type": "code",
      "metadata": {
        "id": "s5AeCFGIuKIR",
        "colab_type": "code",
        "outputId": "8755c847-4e38-404e-abca-2f91f4c52802",
        "colab": {
          "base_uri": "https://localhost:8080/",
          "height": 246
        }
      },
      "source": [
        "# Get the glove embeddings.\n",
        "!gsutil cp gs://fb-congressional-data/glove* /tmp/"
      ],
      "execution_count": 58,
      "outputs": [
        {
          "output_type": "stream",
          "text": [
            "Copying gs://fb-congressional-data/glove.6B.100d.txt...\n",
            "Copying gs://fb-congressional-data/glove.6B.200d.txt...\n",
            "Copying gs://fb-congressional-data/glove.6B.300d.txt...\n",
            "Copying gs://fb-congressional-data/glove.6B.50d.txt...\n",
            "\\ [4 files][  2.1 GiB/  2.1 GiB]   21.5 MiB/s                                   \n",
            "==> NOTE: You are performing a sequence of gsutil operations that may\n",
            "run significantly faster if you instead use gsutil -m cp ... Please\n",
            "see the -m section under \"gsutil help options\" for further information\n",
            "about when gsutil -m can be advantageous.\n",
            "\n",
            "Copying gs://fb-congressional-data/glove.6B.zip...\n",
            "/\n",
            "Operation completed over 5 objects/2.9 GiB.                                      \n"
          ],
          "name": "stdout"
        }
      ]
    },
    {
      "cell_type": "code",
      "metadata": {
        "id": "ae5EQ7vbSs1L",
        "colab_type": "code",
        "colab": {}
      },
      "source": [
        "def create_embedding_matrix(filepath, word_index, embedding_dim):\n",
        "    vocab_size = len(word_index) + 1  # Adding again 1 because of reserved 0 index\n",
        "    embedding_matrix = np.zeros((vocab_size, embedding_dim))\n",
        "\n",
        "    with open(filepath) as f:\n",
        "        for line in f:\n",
        "            word, *vector = line.split()\n",
        "            if word in word_index:\n",
        "                idx = word_index[word] \n",
        "                embedding_matrix[idx] = np.array(\n",
        "                    vector, dtype=np.float32)[:embedding_dim]\n",
        "\n",
        "    return embedding_matrix\n",
        "\n",
        "embedding_dim = 100\n",
        "embedding_matrix = create_embedding_matrix(\n",
        "                     '/tmp/glove.6B.{}d.txt'.format(embedding_dim),\n",
        "                      tokenizer.word_index, embedding_dim)"
      ],
      "execution_count": 0,
      "outputs": []
    },
    {
      "cell_type": "code",
      "metadata": {
        "id": "kUTvp7yfut-7",
        "colab_type": "code",
        "colab": {}
      },
      "source": [
        "# trying to figure out which words are empty here\n",
        "# counter = 0\n",
        "# empty_indexes = []\n",
        "# for index, row in enumerate(embedding_matrix):\n",
        "#   if sum(row) == 0:\n",
        "#     empty_indexes.append(index)\n",
        "#     counter += 1\n",
        "#   if counter > 1000:\n",
        "#     break\n",
        "\n",
        "# for idx in empty_indexes:\n",
        "#   try:\n",
        "#     print(tokenizer.index_word[idx])\n",
        "#   except:\n",
        "#     print(\"No entry for {}\".format(idx))\n"
      ],
      "execution_count": 0,
      "outputs": []
    },
    {
      "cell_type": "code",
      "metadata": {
        "id": "UI5vn5zBSs1P",
        "colab_type": "code",
        "colab": {}
      },
      "source": [
        "# hmmmm....\n",
        "# nonzero_elements = np.count_nonzero(np.count_nonzero(embedding_matrix, axis=1))\n",
        "# nonzero_elements / vocab_size"
      ],
      "execution_count": 0,
      "outputs": []
    },
    {
      "cell_type": "code",
      "metadata": {
        "id": "EJtNke4FSs1X",
        "colab_type": "code",
        "outputId": "94427d49-70a3-4602-d5a7-6e6e6e7db9e3",
        "colab": {
          "base_uri": "https://localhost:8080/",
          "height": 34
        }
      },
      "source": [
        "embedding_matrix.shape"
      ],
      "execution_count": 61,
      "outputs": [
        {
          "output_type": "execute_result",
          "data": {
            "text/plain": [
              "(597881, 100)"
            ]
          },
          "metadata": {
            "tags": []
          },
          "execution_count": 61
        }
      ]
    },
    {
      "cell_type": "code",
      "metadata": {
        "id": "tb_yr2R9Ss1d",
        "colab_type": "code",
        "outputId": "31e9894d-9e21-47b4-efd8-37c563d5ed2e",
        "colab": {
          "base_uri": "https://localhost:8080/",
          "height": 512
        }
      },
      "source": [
        "# Initialize the model.\n",
        "model = Sequential()\n",
        "model.add(layers.Embedding(vocab_size, embedding_dim, \n",
        "                           weights=[embedding_matrix], \n",
        "                           input_length=MAX_SEQUENCE_LENGTH, \n",
        "                           trainable=False))\n",
        "model.add(layers.Conv1D(128, 5, activation='relu'))\n",
        "model.add(layers.GlobalMaxPooling1D())\n",
        "model.add(layers.Dense(10, activation='relu'))\n",
        "model.add(layers.Dense(1, activation='sigmoid'))\n",
        "model.compile(optimizer='adam',\n",
        "              loss='binary_crossentropy',\n",
        "              metrics=['accuracy'])\n",
        "model.summary()"
      ],
      "execution_count": 62,
      "outputs": [
        {
          "output_type": "stream",
          "text": [
            "WARNING:tensorflow:From /usr/local/lib/python3.6/dist-packages/tensorflow_core/python/keras/initializers.py:119: calling RandomUniform.__init__ (from tensorflow.python.ops.init_ops) with dtype is deprecated and will be removed in a future version.\n",
            "Instructions for updating:\n",
            "Call initializer instance with the dtype argument instead of passing it to the constructor\n",
            "WARNING:tensorflow:From /usr/local/lib/python3.6/dist-packages/tensorflow_core/python/ops/resource_variable_ops.py:1630: calling BaseResourceVariable.__init__ (from tensorflow.python.ops.resource_variable_ops) with constraint is deprecated and will be removed in a future version.\n",
            "Instructions for updating:\n",
            "If using Keras pass *_constraint arguments to layers.\n",
            "WARNING:tensorflow:From /usr/local/lib/python3.6/dist-packages/tensorflow_core/python/ops/nn_impl.py:183: where (from tensorflow.python.ops.array_ops) is deprecated and will be removed in a future version.\n",
            "Instructions for updating:\n",
            "Use tf.where in 2.0, which has the same broadcast rule as np.where\n",
            "Model: \"sequential\"\n",
            "_________________________________________________________________\n",
            "Layer (type)                 Output Shape              Param #   \n",
            "=================================================================\n",
            "embedding (Embedding)        (None, 20, 100)           59788100  \n",
            "_________________________________________________________________\n",
            "conv1d (Conv1D)              (None, 16, 128)           64128     \n",
            "_________________________________________________________________\n",
            "global_max_pooling1d (Global (None, 128)               0         \n",
            "_________________________________________________________________\n",
            "dense (Dense)                (None, 10)                1290      \n",
            "_________________________________________________________________\n",
            "dense_1 (Dense)              (None, 1)                 11        \n",
            "=================================================================\n",
            "Total params: 59,853,529\n",
            "Trainable params: 65,429\n",
            "Non-trainable params: 59,788,100\n",
            "_________________________________________________________________\n"
          ],
          "name": "stdout"
        }
      ]
    },
    {
      "cell_type": "code",
      "metadata": {
        "id": "U_9KWVWHAAE3",
        "colab_type": "code",
        "colab": {}
      },
      "source": [
        "smaller_X_train = X_train[:TRAINING_SET_SIZE]"
      ],
      "execution_count": 0,
      "outputs": []
    },
    {
      "cell_type": "code",
      "metadata": {
        "id": "t6gn7HvuAGgQ",
        "colab_type": "code",
        "colab": {}
      },
      "source": [
        "smaller_y_train = y_train[:TRAINING_SET_SIZE]"
      ],
      "execution_count": 0,
      "outputs": []
    },
    {
      "cell_type": "code",
      "metadata": {
        "id": "uf5R6UpGDW_y",
        "colab_type": "code",
        "colab": {}
      },
      "source": [
        "smaller_X_dev = X_test[:VAL_SET_SIZE]\n",
        "smaller_y_dev = y_dev[:VAL_SET_SIZE]"
      ],
      "execution_count": 0,
      "outputs": []
    },
    {
      "cell_type": "code",
      "metadata": {
        "id": "M4dbwlaxSs1l",
        "colab_type": "code",
        "outputId": "4aac47b2-445b-4973-a5fc-9a33107c42c5",
        "colab": {
          "base_uri": "https://localhost:8080/",
          "height": 756
        }
      },
      "source": [
        "# Run the model.\n",
        "try:\n",
        "  time_start = time.time()\n",
        "\n",
        "  history = model.fit(X_train, y_train,\n",
        "                      epochs=20,\n",
        "                      verbose=True,\n",
        "                      validation_data=(smaller_X_dev, smaller_y_dev),\n",
        "                      batch_size=BATCH_SIZE)\n",
        "\n",
        "  currentTime = time.gmtime(time.time() - time_start)\n",
        "\n",
        "  #Convert the gmtime struct to a string\n",
        "  timeStr = time.strftime(\"%M minutes, %S seconds\", currentTime)\n",
        "\n",
        "  print(\"Trained in {}\".format(timeStr))\n",
        "\n",
        "except:\n",
        "  currentTime = time.gmtime(time.time() - time_start)\n",
        "\n",
        "  #Convert the gmtime struct to a string\n",
        "  timeStr = time.strftime(\"%M minutes, %S seconds\", currentTime)\n",
        "\n",
        "  print(\"Trained in {}\".format(timeStr))  "
      ],
      "execution_count": 66,
      "outputs": [
        {
          "output_type": "stream",
          "text": [
            "Train on 3962284 samples, validate on 2000000 samples\n",
            "Epoch 1/20\n",
            "3962284/3962284 [==============================] - 117s 29us/sample - loss: 0.5187 - acc: 0.7639 - val_loss: 0.4443 - val_acc: 0.8444\n",
            "Epoch 2/20\n",
            "3962284/3962284 [==============================] - 115s 29us/sample - loss: 0.5029 - acc: 0.7713 - val_loss: 0.4404 - val_acc: 0.8455\n",
            "Epoch 3/20\n",
            "3962284/3962284 [==============================] - 116s 29us/sample - loss: 0.4978 - acc: 0.7734 - val_loss: 0.4410 - val_acc: 0.8417\n",
            "Epoch 4/20\n",
            "3962284/3962284 [==============================] - 116s 29us/sample - loss: 0.4947 - acc: 0.7748 - val_loss: 0.4497 - val_acc: 0.8410\n",
            "Epoch 5/20\n",
            "3962284/3962284 [==============================] - 115s 29us/sample - loss: 0.4925 - acc: 0.7757 - val_loss: 0.4476 - val_acc: 0.8390\n",
            "Epoch 6/20\n",
            "3962284/3962284 [==============================] - 116s 29us/sample - loss: 0.4907 - acc: 0.7764 - val_loss: 0.4439 - val_acc: 0.8403\n",
            "Epoch 7/20\n",
            "3962284/3962284 [==============================] - 115s 29us/sample - loss: 0.4893 - acc: 0.7771 - val_loss: 0.4609 - val_acc: 0.8304\n",
            "Epoch 8/20\n",
            "3962284/3962284 [==============================] - 112s 28us/sample - loss: 0.4882 - acc: 0.7775 - val_loss: 0.4349 - val_acc: 0.8430\n",
            "Epoch 9/20\n",
            "3962284/3962284 [==============================] - 111s 28us/sample - loss: 0.4870 - acc: 0.7780 - val_loss: 0.4541 - val_acc: 0.8360\n",
            "Epoch 10/20\n",
            "3962284/3962284 [==============================] - 110s 28us/sample - loss: 0.4862 - acc: 0.7784 - val_loss: 0.4445 - val_acc: 0.8379\n",
            "Epoch 11/20\n",
            "3962284/3962284 [==============================] - 110s 28us/sample - loss: 0.4854 - acc: 0.7786 - val_loss: 0.4483 - val_acc: 0.8374\n",
            "Epoch 12/20\n",
            "3962284/3962284 [==============================] - 111s 28us/sample - loss: 0.4847 - acc: 0.7790 - val_loss: 0.4516 - val_acc: 0.8359\n",
            "Epoch 13/20\n",
            "3962284/3962284 [==============================] - 109s 27us/sample - loss: 0.4841 - acc: 0.7792 - val_loss: 0.4516 - val_acc: 0.8351\n",
            "Epoch 14/20\n",
            "3962284/3962284 [==============================] - 107s 27us/sample - loss: 0.4835 - acc: 0.7796 - val_loss: 0.4482 - val_acc: 0.8364\n",
            "Epoch 15/20\n",
            "3962284/3962284 [==============================] - 107s 27us/sample - loss: 0.4829 - acc: 0.7798 - val_loss: 0.4456 - val_acc: 0.8394\n",
            "Epoch 16/20\n",
            "3962284/3962284 [==============================] - 105s 27us/sample - loss: 0.4824 - acc: 0.7799 - val_loss: 0.4519 - val_acc: 0.8329\n",
            "Epoch 17/20\n",
            "3962284/3962284 [==============================] - 108s 27us/sample - loss: 0.4820 - acc: 0.7802 - val_loss: 0.4477 - val_acc: 0.8375\n",
            "Epoch 18/20\n",
            "3962284/3962284 [==============================] - 107s 27us/sample - loss: 0.4815 - acc: 0.7803 - val_loss: 0.4485 - val_acc: 0.8373\n",
            "Epoch 19/20\n",
            "3962284/3962284 [==============================] - 106s 27us/sample - loss: 0.4811 - acc: 0.7805 - val_loss: 0.4602 - val_acc: 0.8311\n",
            "Epoch 20/20\n",
            "3962284/3962284 [==============================] - 106s 27us/sample - loss: 0.4807 - acc: 0.7807 - val_loss: 0.4465 - val_acc: 0.8379\n",
            "Trained in 36 minutes, 56 seconds\n"
          ],
          "name": "stdout"
        }
      ]
    },
    {
      "cell_type": "code",
      "metadata": {
        "id": "h4P5Y5wgSs1o",
        "colab_type": "code",
        "outputId": "d1ad9f1d-2032-4c99-f7d8-957977b345b1",
        "colab": {
          "base_uri": "https://localhost:8080/",
          "height": 52
        }
      },
      "source": [
        "loss, accuracy = model.evaluate(X_train, y_train, verbose=False)\n",
        "print(\"Training Accuracy: {:.4f}\".format(accuracy))\n",
        "loss, accuracy = model.evaluate(X_test, y_dev, verbose=False)\n",
        "print(\"Testing Accuracy:  {:.4f}\".format(accuracy))\n"
      ],
      "execution_count": 67,
      "outputs": [
        {
          "output_type": "stream",
          "text": [
            "Training Accuracy: 0.7823\n",
            "Testing Accuracy:  0.8379\n"
          ],
          "name": "stdout"
        }
      ]
    },
    {
      "cell_type": "code",
      "metadata": {
        "id": "zZanpp-O9oiz",
        "colab_type": "code",
        "outputId": "a75a5328-5c05-47a5-b74e-84ea506eab92",
        "colab": {
          "base_uri": "https://localhost:8080/",
          "height": 34
        }
      },
      "source": [
        "# ROC AUC\n",
        "from sklearn.metrics import roc_auc_score\n",
        "# predict probabilities for test set\n",
        "yhat_probs = model.predict(X_test, verbose=0)\n",
        "# reduce to 1d array\n",
        "yhat_probs = yhat_probs[:,0]\n",
        "auc = roc_auc_score(y_dev, yhat_probs)\n",
        "print('ROC AUC:', auc)\n"
      ],
      "execution_count": 68,
      "outputs": [
        {
          "output_type": "stream",
          "text": [
            "ROC AUC: 0.6115826865950602\n"
          ],
          "name": "stdout"
        }
      ]
    },
    {
      "cell_type": "code",
      "metadata": {
        "id": "L5G9XjaGJh-T",
        "colab_type": "code",
        "colab": {}
      },
      "source": [
        "# can't get this to work\n",
        "# plot_model(history)"
      ],
      "execution_count": 0,
      "outputs": []
    },
    {
      "cell_type": "code",
      "metadata": {
        "id": "ccL7n659KbQ-",
        "colab_type": "code",
        "colab": {}
      },
      "source": [
        "preds = yhat_probs # model.predict(X_test)"
      ],
      "execution_count": 0,
      "outputs": []
    },
    {
      "cell_type": "code",
      "metadata": {
        "id": "lhpB8QsgGMZ5",
        "colab_type": "code",
        "colab": {}
      },
      "source": [
        "dev_df['probs'] = preds"
      ],
      "execution_count": 0,
      "outputs": []
    },
    {
      "cell_type": "code",
      "metadata": {
        "id": "1T2IxdCMGf2e",
        "colab_type": "code",
        "colab": {}
      },
      "source": [
        "def pred_to_label(row):\n",
        "  if row['probs'] >= .5:\n",
        "    return 'M'\n",
        "  else:\n",
        "    return 'W'\n",
        "\n",
        "dev_df['preds'] = dev_df.apply(pred_to_label, axis=1)"
      ],
      "execution_count": 0,
      "outputs": []
    },
    {
      "cell_type": "code",
      "metadata": {
        "id": "NzbasnNWGg5J",
        "colab_type": "code",
        "colab": {}
      },
      "source": [
        "wrong_preds = dev_df[dev_df.op_gender!=dev_df.preds]"
      ],
      "execution_count": 0,
      "outputs": []
    },
    {
      "cell_type": "code",
      "metadata": {
        "id": "nAYve8ZhG7wt",
        "colab_type": "code",
        "outputId": "637470c3-8731-42a2-c0ba-6f2d7cad7c30",
        "colab": {
          "base_uri": "https://localhost:8080/",
          "height": 70
        }
      },
      "source": [
        "wrong_preds.op_gender.value_counts()"
      ],
      "execution_count": 74,
      "outputs": [
        {
          "output_type": "execute_result",
          "data": {
            "text/plain": [
              "W    287622\n",
              "M     43400\n",
              "Name: op_gender, dtype: int64"
            ]
          },
          "metadata": {
            "tags": []
          },
          "execution_count": 74
        }
      ]
    },
    {
      "cell_type": "code",
      "metadata": {
        "id": "NJJrm2LxHFzN",
        "colab_type": "code",
        "outputId": "89f06af9-df3f-4230-b597-b94f3a612234",
        "colab": {
          "base_uri": "https://localhost:8080/",
          "height": 34
        }
      },
      "source": [
        "# total proportion of preds for women\n",
        "dev_df.preds.value_counts()['W'] / len(dev_df)"
      ],
      "execution_count": 75,
      "outputs": [
        {
          "output_type": "execute_result",
          "data": {
            "text/plain": [
              "0.03253515643173543"
            ]
          },
          "metadata": {
            "tags": []
          },
          "execution_count": 75
        }
      ]
    },
    {
      "cell_type": "code",
      "metadata": {
        "id": "SxFooJUbHVUB",
        "colab_type": "code",
        "outputId": "83ec2a59-e936-4b9d-de45-5d3181dba20a",
        "colab": {
          "base_uri": "https://localhost:8080/",
          "height": 891
        }
      },
      "source": [
        "#random sample of mistakes\n",
        "wrong_preds.head(20)"
      ],
      "execution_count": 76,
      "outputs": [
        {
          "output_type": "execute_result",
          "data": {
            "text/html": [
              "<div>\n",
              "<style scoped>\n",
              "    .dataframe tbody tr th:only-of-type {\n",
              "        vertical-align: middle;\n",
              "    }\n",
              "\n",
              "    .dataframe tbody tr th {\n",
              "        vertical-align: top;\n",
              "    }\n",
              "\n",
              "    .dataframe thead th {\n",
              "        text-align: right;\n",
              "    }\n",
              "</style>\n",
              "<table border=\"1\" class=\"dataframe\">\n",
              "  <thead>\n",
              "    <tr style=\"text-align: right;\">\n",
              "      <th></th>\n",
              "      <th>original_idx</th>\n",
              "      <th>op_id</th>\n",
              "      <th>op_gender</th>\n",
              "      <th>post_id</th>\n",
              "      <th>responder_id</th>\n",
              "      <th>response_text</th>\n",
              "      <th>op_name</th>\n",
              "      <th>op_category</th>\n",
              "      <th>probs</th>\n",
              "      <th>preds</th>\n",
              "    </tr>\n",
              "  </thead>\n",
              "  <tbody>\n",
              "    <tr>\n",
              "      <th>2060436</th>\n",
              "      <td>11200190</td>\n",
              "      <td>48870736</td>\n",
              "      <td>W</td>\n",
              "      <td>394386</td>\n",
              "      <td>Grant</td>\n",
              "      <td>aca raised my health care from $600 to $1,600 per month. it is anything but affordable. betty wi...</td>\n",
              "      <td>Betty McCollum</td>\n",
              "      <td>Congress_Democratic</td>\n",
              "      <td>0.529842</td>\n",
              "      <td>M</td>\n",
              "    </tr>\n",
              "    <tr>\n",
              "      <th>1983886</th>\n",
              "      <td>11033278</td>\n",
              "      <td>86569077</td>\n",
              "      <td>W</td>\n",
              "      <td>389881</td>\n",
              "      <td>Deanna</td>\n",
              "      <td>i like the idea of paid fml but i would much rather see employers raise employees income overall...</td>\n",
              "      <td>Kirsten Gillibrand</td>\n",
              "      <td>Congress_Democratic</td>\n",
              "      <td>0.700526</td>\n",
              "      <td>M</td>\n",
              "    </tr>\n",
              "    <tr>\n",
              "      <th>2022583</th>\n",
              "      <td>11071975</td>\n",
              "      <td>86569077</td>\n",
              "      <td>W</td>\n",
              "      <td>390238</td>\n",
              "      <td>Matt</td>\n",
              "      <td>thank you kirsten, running after the latest headlines !</td>\n",
              "      <td>Kirsten Gillibrand</td>\n",
              "      <td>Congress_Democratic</td>\n",
              "      <td>0.560060</td>\n",
              "      <td>M</td>\n",
              "    </tr>\n",
              "    <tr>\n",
              "      <th>1924717</th>\n",
              "      <td>10974109</td>\n",
              "      <td>86569077</td>\n",
              "      <td>W</td>\n",
              "      <td>389341</td>\n",
              "      <td>Raelee</td>\n",
              "      <td>thank you so much for committing to voting against betsy devos.</td>\n",
              "      <td>Kirsten Gillibrand</td>\n",
              "      <td>Congress_Democratic</td>\n",
              "      <td>0.631508</td>\n",
              "      <td>M</td>\n",
              "    </tr>\n",
              "    <tr>\n",
              "      <th>2037193</th>\n",
              "      <td>11086585</td>\n",
              "      <td>86569077</td>\n",
              "      <td>W</td>\n",
              "      <td>390472</td>\n",
              "      <td>Dwight</td>\n",
              "      <td>mmmm lets see here donna karan, fashion designer and the creator of the donna karan new york and...</td>\n",
              "      <td>Kirsten Gillibrand</td>\n",
              "      <td>Congress_Democratic</td>\n",
              "      <td>0.791945</td>\n",
              "      <td>M</td>\n",
              "    </tr>\n",
              "    <tr>\n",
              "      <th>2037981</th>\n",
              "      <td>11087373</td>\n",
              "      <td>86569077</td>\n",
              "      <td>W</td>\n",
              "      <td>390484</td>\n",
              "      <td>Ron</td>\n",
              "      <td>i have no problem with ending the subsidies, but i also do not mind paying more for all goods. g...</td>\n",
              "      <td>Kirsten Gillibrand</td>\n",
              "      <td>Congress_Democratic</td>\n",
              "      <td>0.734650</td>\n",
              "      <td>M</td>\n",
              "    </tr>\n",
              "    <tr>\n",
              "      <th>2113460</th>\n",
              "      <td>11254440</td>\n",
              "      <td>77234050</td>\n",
              "      <td>W</td>\n",
              "      <td>399626</td>\n",
              "      <td>Debra</td>\n",
              "      <td>cecile charles i posted the table for you - it is for wa state</td>\n",
              "      <td>Cathy McMorris Rodgers</td>\n",
              "      <td>Congress_Republican</td>\n",
              "      <td>0.678835</td>\n",
              "      <td>M</td>\n",
              "    </tr>\n",
              "    <tr>\n",
              "      <th>2153417</th>\n",
              "      <td>11294397</td>\n",
              "      <td>77234050</td>\n",
              "      <td>W</td>\n",
              "      <td>400418</td>\n",
              "      <td>Hugh</td>\n",
              "      <td>former marine thanks you.</td>\n",
              "      <td>Cathy McMorris Rodgers</td>\n",
              "      <td>Congress_Republican</td>\n",
              "      <td>0.770747</td>\n",
              "      <td>M</td>\n",
              "    </tr>\n",
              "    <tr>\n",
              "      <th>2124542</th>\n",
              "      <td>11265522</td>\n",
              "      <td>77234050</td>\n",
              "      <td>W</td>\n",
              "      <td>399735</td>\n",
              "      <td>Robi</td>\n",
              "      <td>keep fighting the good fight</td>\n",
              "      <td>Cathy McMorris Rodgers</td>\n",
              "      <td>Congress_Republican</td>\n",
              "      <td>0.747467</td>\n",
              "      <td>M</td>\n",
              "    </tr>\n",
              "    <tr>\n",
              "      <th>432281</th>\n",
              "      <td>3365516</td>\n",
              "      <td>76269753</td>\n",
              "      <td>W</td>\n",
              "      <td>103764</td>\n",
              "      <td>Eddie</td>\n",
              "      <td>automatic weapons are already controlled under the nfa.</td>\n",
              "      <td>Dianne Feinstein</td>\n",
              "      <td>Congress_Democratic</td>\n",
              "      <td>0.871397</td>\n",
              "      <td>M</td>\n",
              "    </tr>\n",
              "    <tr>\n",
              "      <th>2017558</th>\n",
              "      <td>11066950</td>\n",
              "      <td>86569077</td>\n",
              "      <td>W</td>\n",
              "      <td>390153</td>\n",
              "      <td>Dwight</td>\n",
              "      <td>lockheed martin is laying off 123,000 workers just weeks before christmas. &gt; this needs to go fa...</td>\n",
              "      <td>Kirsten Gillibrand</td>\n",
              "      <td>Congress_Democratic</td>\n",
              "      <td>0.808638</td>\n",
              "      <td>M</td>\n",
              "    </tr>\n",
              "    <tr>\n",
              "      <th>1912508</th>\n",
              "      <td>10961900</td>\n",
              "      <td>86569077</td>\n",
              "      <td>W</td>\n",
              "      <td>389338</td>\n",
              "      <td>Elizabeth</td>\n",
              "      <td>thank you, sen. gillibrand!</td>\n",
              "      <td>Kirsten Gillibrand</td>\n",
              "      <td>Congress_Democratic</td>\n",
              "      <td>0.757541</td>\n",
              "      <td>M</td>\n",
              "    </tr>\n",
              "    <tr>\n",
              "      <th>1987322</th>\n",
              "      <td>11036714</td>\n",
              "      <td>86569077</td>\n",
              "      <td>W</td>\n",
              "      <td>389924</td>\n",
              "      <td>Greg</td>\n",
              "      <td>the tea party stands for fiscal responsibility, constitutionally limited government, and free ma...</td>\n",
              "      <td>Kirsten Gillibrand</td>\n",
              "      <td>Congress_Democratic</td>\n",
              "      <td>0.769927</td>\n",
              "      <td>M</td>\n",
              "    </tr>\n",
              "    <tr>\n",
              "      <th>2191885</th>\n",
              "      <td>11752862</td>\n",
              "      <td>74450840</td>\n",
              "      <td>W</td>\n",
              "      <td>422872</td>\n",
              "      <td>Sabrina</td>\n",
              "      <td>we all have freedom of speech or expression thanks to those who serve our great country</td>\n",
              "      <td>Terri Sewell</td>\n",
              "      <td>Congress_Democratic</td>\n",
              "      <td>0.789270</td>\n",
              "      <td>M</td>\n",
              "    </tr>\n",
              "    <tr>\n",
              "      <th>2103328</th>\n",
              "      <td>11244308</td>\n",
              "      <td>77234050</td>\n",
              "      <td>W</td>\n",
              "      <td>399374</td>\n",
              "      <td>Debra</td>\n",
              "      <td>how much of this oil is going to fill our american tanks??? how much is our prices going to be a...</td>\n",
              "      <td>Cathy McMorris Rodgers</td>\n",
              "      <td>Congress_Republican</td>\n",
              "      <td>0.814311</td>\n",
              "      <td>M</td>\n",
              "    </tr>\n",
              "    <tr>\n",
              "      <th>2013103</th>\n",
              "      <td>11062495</td>\n",
              "      <td>86569077</td>\n",
              "      <td>W</td>\n",
              "      <td>390125</td>\n",
              "      <td>Shelli</td>\n",
              "      <td>bill, let us try some decent gun control and just see what happens, shall we? why would any resp...</td>\n",
              "      <td>Kirsten Gillibrand</td>\n",
              "      <td>Congress_Democratic</td>\n",
              "      <td>0.769633</td>\n",
              "      <td>M</td>\n",
              "    </tr>\n",
              "    <tr>\n",
              "      <th>2116232</th>\n",
              "      <td>11257212</td>\n",
              "      <td>77234050</td>\n",
              "      <td>W</td>\n",
              "      <td>399670</td>\n",
              "      <td>Craig</td>\n",
              "      <td>donna baden you are talk is cheap and btw, this is not a theocracy.</td>\n",
              "      <td>Cathy McMorris Rodgers</td>\n",
              "      <td>Congress_Republican</td>\n",
              "      <td>0.655334</td>\n",
              "      <td>M</td>\n",
              "    </tr>\n",
              "    <tr>\n",
              "      <th>1996034</th>\n",
              "      <td>11045426</td>\n",
              "      <td>86569077</td>\n",
              "      <td>W</td>\n",
              "      <td>390010</td>\n",
              "      <td>Joe</td>\n",
              "      <td>lets see that research matt.</td>\n",
              "      <td>Kirsten Gillibrand</td>\n",
              "      <td>Congress_Democratic</td>\n",
              "      <td>0.763984</td>\n",
              "      <td>M</td>\n",
              "    </tr>\n",
              "    <tr>\n",
              "      <th>2005342</th>\n",
              "      <td>11054734</td>\n",
              "      <td>86569077</td>\n",
              "      <td>W</td>\n",
              "      <td>390085</td>\n",
              "      <td>Bruce</td>\n",
              "      <td>are you daft? pronoun has no clue what pronoun needs to do to make this country work.</td>\n",
              "      <td>Kirsten Gillibrand</td>\n",
              "      <td>Congress_Democratic</td>\n",
              "      <td>0.902598</td>\n",
              "      <td>M</td>\n",
              "    </tr>\n",
              "    <tr>\n",
              "      <th>2018978</th>\n",
              "      <td>11068370</td>\n",
              "      <td>86569077</td>\n",
              "      <td>W</td>\n",
              "      <td>390187</td>\n",
              "      <td>Rachel</td>\n",
              "      <td>you had have to pay me a million dollars to be in the same room as biden the sleeze bag. disgust...</td>\n",
              "      <td>Kirsten Gillibrand</td>\n",
              "      <td>Congress_Democratic</td>\n",
              "      <td>0.695847</td>\n",
              "      <td>M</td>\n",
              "    </tr>\n",
              "  </tbody>\n",
              "</table>\n",
              "</div>"
            ],
            "text/plain": [
              "         original_idx     op_id op_gender  ...          op_category     probs preds\n",
              "2060436      11200190  48870736         W  ...  Congress_Democratic  0.529842     M\n",
              "1983886      11033278  86569077         W  ...  Congress_Democratic  0.700526     M\n",
              "2022583      11071975  86569077         W  ...  Congress_Democratic  0.560060     M\n",
              "1924717      10974109  86569077         W  ...  Congress_Democratic  0.631508     M\n",
              "2037193      11086585  86569077         W  ...  Congress_Democratic  0.791945     M\n",
              "2037981      11087373  86569077         W  ...  Congress_Democratic  0.734650     M\n",
              "2113460      11254440  77234050         W  ...  Congress_Republican  0.678835     M\n",
              "2153417      11294397  77234050         W  ...  Congress_Republican  0.770747     M\n",
              "2124542      11265522  77234050         W  ...  Congress_Republican  0.747467     M\n",
              "432281        3365516  76269753         W  ...  Congress_Democratic  0.871397     M\n",
              "2017558      11066950  86569077         W  ...  Congress_Democratic  0.808638     M\n",
              "1912508      10961900  86569077         W  ...  Congress_Democratic  0.757541     M\n",
              "1987322      11036714  86569077         W  ...  Congress_Democratic  0.769927     M\n",
              "2191885      11752862  74450840         W  ...  Congress_Democratic  0.789270     M\n",
              "2103328      11244308  77234050         W  ...  Congress_Republican  0.814311     M\n",
              "2013103      11062495  86569077         W  ...  Congress_Democratic  0.769633     M\n",
              "2116232      11257212  77234050         W  ...  Congress_Republican  0.655334     M\n",
              "1996034      11045426  86569077         W  ...  Congress_Democratic  0.763984     M\n",
              "2005342      11054734  86569077         W  ...  Congress_Democratic  0.902598     M\n",
              "2018978      11068370  86569077         W  ...  Congress_Democratic  0.695847     M\n",
              "\n",
              "[20 rows x 10 columns]"
            ]
          },
          "metadata": {
            "tags": []
          },
          "execution_count": 76
        }
      ]
    },
    {
      "cell_type": "code",
      "metadata": {
        "id": "qaswseIjHc8j",
        "colab_type": "code",
        "outputId": "22f5128d-7df2-4bfb-b6fc-1314d2aee19c",
        "colab": {
          "base_uri": "https://localhost:8080/",
          "height": 824
        }
      },
      "source": [
        "# most confident wrong predictions where the answer was F but they thought M\n",
        "# same as before - references to a male politician \n",
        "wrong_preds.sort_values('probs', ascending=False)[:20]"
      ],
      "execution_count": 77,
      "outputs": [
        {
          "output_type": "execute_result",
          "data": {
            "text/html": [
              "<div>\n",
              "<style scoped>\n",
              "    .dataframe tbody tr th:only-of-type {\n",
              "        vertical-align: middle;\n",
              "    }\n",
              "\n",
              "    .dataframe tbody tr th {\n",
              "        vertical-align: top;\n",
              "    }\n",
              "\n",
              "    .dataframe thead th {\n",
              "        text-align: right;\n",
              "    }\n",
              "</style>\n",
              "<table border=\"1\" class=\"dataframe\">\n",
              "  <thead>\n",
              "    <tr style=\"text-align: right;\">\n",
              "      <th></th>\n",
              "      <th>original_idx</th>\n",
              "      <th>op_id</th>\n",
              "      <th>op_gender</th>\n",
              "      <th>post_id</th>\n",
              "      <th>responder_id</th>\n",
              "      <th>response_text</th>\n",
              "      <th>op_name</th>\n",
              "      <th>op_category</th>\n",
              "      <th>probs</th>\n",
              "      <th>preds</th>\n",
              "    </tr>\n",
              "  </thead>\n",
              "  <tbody>\n",
              "    <tr>\n",
              "      <th>2067033</th>\n",
              "      <td>11206787</td>\n",
              "      <td>48870736</td>\n",
              "      <td>W</td>\n",
              "      <td>395135</td>\n",
              "      <td>Michele</td>\n",
              "      <td>thank you pronoun mccollum for standing up for immigration law reform.</td>\n",
              "      <td>Betty McCollum</td>\n",
              "      <td>Congress_Democratic</td>\n",
              "      <td>0.999967</td>\n",
              "      <td>M</td>\n",
              "    </tr>\n",
              "    <tr>\n",
              "      <th>1993131</th>\n",
              "      <td>11042523</td>\n",
              "      <td>86569077</td>\n",
              "      <td>W</td>\n",
              "      <td>389977</td>\n",
              "      <td>Colleen</td>\n",
              "      <td>you mean mr paul mark? rand opportunist paul?</td>\n",
              "      <td>Kirsten Gillibrand</td>\n",
              "      <td>Congress_Democratic</td>\n",
              "      <td>0.999907</td>\n",
              "      <td>M</td>\n",
              "    </tr>\n",
              "    <tr>\n",
              "      <th>2126233</th>\n",
              "      <td>11267213</td>\n",
              "      <td>77234050</td>\n",
              "      <td>W</td>\n",
              "      <td>399739</td>\n",
              "      <td>Marilyn</td>\n",
              "      <td>i see nothing wrong with what rand and mitch were discussing. you do not thin the dems are not d...</td>\n",
              "      <td>Cathy McMorris Rodgers</td>\n",
              "      <td>Congress_Republican</td>\n",
              "      <td>0.999891</td>\n",
              "      <td>M</td>\n",
              "    </tr>\n",
              "    <tr>\n",
              "      <th>2061378</th>\n",
              "      <td>11201132</td>\n",
              "      <td>48870736</td>\n",
              "      <td>W</td>\n",
              "      <td>394429</td>\n",
              "      <td>Patrick</td>\n",
              "      <td>thank you for your good work, pronoun mccollum</td>\n",
              "      <td>Betty McCollum</td>\n",
              "      <td>Congress_Democratic</td>\n",
              "      <td>0.999882</td>\n",
              "      <td>M</td>\n",
              "    </tr>\n",
              "    <tr>\n",
              "      <th>2061353</th>\n",
              "      <td>11201107</td>\n",
              "      <td>48870736</td>\n",
              "      <td>W</td>\n",
              "      <td>394425</td>\n",
              "      <td>Kate</td>\n",
              "      <td>thank you, rep. mccollum, for doing everything you can to stand up against corruption.</td>\n",
              "      <td>Betty McCollum</td>\n",
              "      <td>Congress_Democratic</td>\n",
              "      <td>0.999869</td>\n",
              "      <td>M</td>\n",
              "    </tr>\n",
              "    <tr>\n",
              "      <th>2045576</th>\n",
              "      <td>11094968</td>\n",
              "      <td>86569077</td>\n",
              "      <td>W</td>\n",
              "      <td>390593</td>\n",
              "      <td>Danielle</td>\n",
              "      <td>@ duncan - i benefitted because i realized i disagree with rand's view of the world. thanks for ...</td>\n",
              "      <td>Kirsten Gillibrand</td>\n",
              "      <td>Congress_Democratic</td>\n",
              "      <td>0.999868</td>\n",
              "      <td>M</td>\n",
              "    </tr>\n",
              "    <tr>\n",
              "      <th>1936262</th>\n",
              "      <td>10985654</td>\n",
              "      <td>86569077</td>\n",
              "      <td>W</td>\n",
              "      <td>389409</td>\n",
              "      <td>Colleen</td>\n",
              "      <td>your either mentally ill or you dont care for the rule of law...she is a liar, pronoun is corrup...</td>\n",
              "      <td>Kirsten Gillibrand</td>\n",
              "      <td>Congress_Democratic</td>\n",
              "      <td>0.999858</td>\n",
              "      <td>M</td>\n",
              "    </tr>\n",
              "    <tr>\n",
              "      <th>2061983</th>\n",
              "      <td>11201737</td>\n",
              "      <td>48870736</td>\n",
              "      <td>W</td>\n",
              "      <td>394492</td>\n",
              "      <td>Kimberly</td>\n",
              "      <td>excellent, thank you pronoun mccollum ! keep up the good fight -we need your voice in dc.</td>\n",
              "      <td>Betty McCollum</td>\n",
              "      <td>Congress_Democratic</td>\n",
              "      <td>0.999850</td>\n",
              "      <td>M</td>\n",
              "    </tr>\n",
              "    <tr>\n",
              "      <th>387717</th>\n",
              "      <td>3137808</td>\n",
              "      <td>23984618</td>\n",
              "      <td>W</td>\n",
              "      <td>83521</td>\n",
              "      <td>Sebastian</td>\n",
              "      <td>the original congress was all-volunteer with no pay. perhaps mr. moran should be reminded how tr...</td>\n",
              "      <td>Ann Wagner</td>\n",
              "      <td>Congress_Republican</td>\n",
              "      <td>0.999848</td>\n",
              "      <td>M</td>\n",
              "    </tr>\n",
              "    <tr>\n",
              "      <th>2067097</th>\n",
              "      <td>11206851</td>\n",
              "      <td>48870736</td>\n",
              "      <td>W</td>\n",
              "      <td>395153</td>\n",
              "      <td>Peggy</td>\n",
              "      <td>miigwech, pronoun mccollum!</td>\n",
              "      <td>Betty McCollum</td>\n",
              "      <td>Congress_Democratic</td>\n",
              "      <td>0.999838</td>\n",
              "      <td>M</td>\n",
              "    </tr>\n",
              "    <tr>\n",
              "      <th>2067449</th>\n",
              "      <td>11207203</td>\n",
              "      <td>48870736</td>\n",
              "      <td>W</td>\n",
              "      <td>395202</td>\n",
              "      <td>Children's</td>\n",
              "      <td>thank you for spending time with us, rep. mccollum!</td>\n",
              "      <td>Betty McCollum</td>\n",
              "      <td>Congress_Democratic</td>\n",
              "      <td>0.999831</td>\n",
              "      <td>M</td>\n",
              "    </tr>\n",
              "    <tr>\n",
              "      <th>1246985</th>\n",
              "      <td>7373553</td>\n",
              "      <td>94431309</td>\n",
              "      <td>W</td>\n",
              "      <td>277121</td>\n",
              "      <td>Kathleen</td>\n",
              "      <td>jamie, 33 years ago i gave birth to a beautiful little boy who had kidney problems. they did not...</td>\n",
              "      <td>Jaime Herrera Beutler</td>\n",
              "      <td>Congress_Republican</td>\n",
              "      <td>0.999824</td>\n",
              "      <td>M</td>\n",
              "    </tr>\n",
              "    <tr>\n",
              "      <th>2151112</th>\n",
              "      <td>11292092</td>\n",
              "      <td>77234050</td>\n",
              "      <td>W</td>\n",
              "      <td>400331</td>\n",
              "      <td>William</td>\n",
              "      <td>mr. grimes, pronoun says what boehner tells pronoun to say.</td>\n",
              "      <td>Cathy McMorris Rodgers</td>\n",
              "      <td>Congress_Republican</td>\n",
              "      <td>0.999811</td>\n",
              "      <td>M</td>\n",
              "    </tr>\n",
              "    <tr>\n",
              "      <th>2069384</th>\n",
              "      <td>11209138</td>\n",
              "      <td>48870736</td>\n",
              "      <td>W</td>\n",
              "      <td>396560</td>\n",
              "      <td>Kimberly</td>\n",
              "      <td>thank you pronoun mccollum for your support.</td>\n",
              "      <td>Betty McCollum</td>\n",
              "      <td>Congress_Democratic</td>\n",
              "      <td>0.999808</td>\n",
              "      <td>M</td>\n",
              "    </tr>\n",
              "    <tr>\n",
              "      <th>2066681</th>\n",
              "      <td>11206435</td>\n",
              "      <td>48870736</td>\n",
              "      <td>W</td>\n",
              "      <td>395067</td>\n",
              "      <td>Kimberly</td>\n",
              "      <td>thank you pronoun mccollum for your support .</td>\n",
              "      <td>Betty McCollum</td>\n",
              "      <td>Congress_Democratic</td>\n",
              "      <td>0.999808</td>\n",
              "      <td>M</td>\n",
              "    </tr>\n",
              "    <tr>\n",
              "      <th>2057906</th>\n",
              "      <td>11197660</td>\n",
              "      <td>48870736</td>\n",
              "      <td>W</td>\n",
              "      <td>394323</td>\n",
              "      <td>Rebecca</td>\n",
              "      <td>thank you pronoun mccollum for continuing to stand up for what is right!</td>\n",
              "      <td>Betty McCollum</td>\n",
              "      <td>Congress_Democratic</td>\n",
              "      <td>0.999802</td>\n",
              "      <td>M</td>\n",
              "    </tr>\n",
              "    <tr>\n",
              "      <th>1999557</th>\n",
              "      <td>11048949</td>\n",
              "      <td>86569077</td>\n",
              "      <td>W</td>\n",
              "      <td>390036</td>\n",
              "      <td>Donald</td>\n",
              "      <td>just tag along behind schumer.......glad pronoun has not my so called constituent...........</td>\n",
              "      <td>Kirsten Gillibrand</td>\n",
              "      <td>Congress_Democratic</td>\n",
              "      <td>0.999798</td>\n",
              "      <td>M</td>\n",
              "    </tr>\n",
              "    <tr>\n",
              "      <th>2062634</th>\n",
              "      <td>11202388</td>\n",
              "      <td>48870736</td>\n",
              "      <td>W</td>\n",
              "      <td>394708</td>\n",
              "      <td>Margy</td>\n",
              "      <td>thank you rep mccollum for your courage and steadfastness we ned gun safety not one more!</td>\n",
              "      <td>Betty McCollum</td>\n",
              "      <td>Congress_Democratic</td>\n",
              "      <td>0.999792</td>\n",
              "      <td>M</td>\n",
              "    </tr>\n",
              "    <tr>\n",
              "      <th>2063054</th>\n",
              "      <td>11202808</td>\n",
              "      <td>48870736</td>\n",
              "      <td>W</td>\n",
              "      <td>394723</td>\n",
              "      <td>Annamarie</td>\n",
              "      <td>thank you pronoun mccollum for your leadership!</td>\n",
              "      <td>Betty McCollum</td>\n",
              "      <td>Congress_Democratic</td>\n",
              "      <td>0.999781</td>\n",
              "      <td>M</td>\n",
              "    </tr>\n",
              "    <tr>\n",
              "      <th>2017090</th>\n",
              "      <td>11066482</td>\n",
              "      <td>86569077</td>\n",
              "      <td>W</td>\n",
              "      <td>390145</td>\n",
              "      <td>Jon</td>\n",
              "      <td>contrats senator gillibrand! what handsome sons u have! they look like u! :-}</td>\n",
              "      <td>Kirsten Gillibrand</td>\n",
              "      <td>Congress_Democratic</td>\n",
              "      <td>0.999779</td>\n",
              "      <td>M</td>\n",
              "    </tr>\n",
              "  </tbody>\n",
              "</table>\n",
              "</div>"
            ],
            "text/plain": [
              "         original_idx     op_id op_gender  ...          op_category     probs preds\n",
              "2067033      11206787  48870736         W  ...  Congress_Democratic  0.999967     M\n",
              "1993131      11042523  86569077         W  ...  Congress_Democratic  0.999907     M\n",
              "2126233      11267213  77234050         W  ...  Congress_Republican  0.999891     M\n",
              "2061378      11201132  48870736         W  ...  Congress_Democratic  0.999882     M\n",
              "2061353      11201107  48870736         W  ...  Congress_Democratic  0.999869     M\n",
              "2045576      11094968  86569077         W  ...  Congress_Democratic  0.999868     M\n",
              "1936262      10985654  86569077         W  ...  Congress_Democratic  0.999858     M\n",
              "2061983      11201737  48870736         W  ...  Congress_Democratic  0.999850     M\n",
              "387717        3137808  23984618         W  ...  Congress_Republican  0.999848     M\n",
              "2067097      11206851  48870736         W  ...  Congress_Democratic  0.999838     M\n",
              "2067449      11207203  48870736         W  ...  Congress_Democratic  0.999831     M\n",
              "1246985       7373553  94431309         W  ...  Congress_Republican  0.999824     M\n",
              "2151112      11292092  77234050         W  ...  Congress_Republican  0.999811     M\n",
              "2069384      11209138  48870736         W  ...  Congress_Democratic  0.999808     M\n",
              "2066681      11206435  48870736         W  ...  Congress_Democratic  0.999808     M\n",
              "2057906      11197660  48870736         W  ...  Congress_Democratic  0.999802     M\n",
              "1999557      11048949  86569077         W  ...  Congress_Democratic  0.999798     M\n",
              "2062634      11202388  48870736         W  ...  Congress_Democratic  0.999792     M\n",
              "2063054      11202808  48870736         W  ...  Congress_Democratic  0.999781     M\n",
              "2017090      11066482  86569077         W  ...  Congress_Democratic  0.999779     M\n",
              "\n",
              "[20 rows x 10 columns]"
            ]
          },
          "metadata": {
            "tags": []
          },
          "execution_count": 77
        }
      ]
    },
    {
      "cell_type": "code",
      "metadata": {
        "id": "KoJzrEOfIct2",
        "colab_type": "code",
        "outputId": "6e6df578-a82c-4d46-ad38-b38bab29c4ad",
        "colab": {
          "base_uri": "https://localhost:8080/",
          "height": 824
        }
      },
      "source": [
        "# most confident wrong predictions where the answer was F but they thought M\n",
        "# same as before - references to a male politician \n",
        "wrong_preds.sort_values('probs', ascending=True)[:20]"
      ],
      "execution_count": 78,
      "outputs": [
        {
          "output_type": "execute_result",
          "data": {
            "text/html": [
              "<div>\n",
              "<style scoped>\n",
              "    .dataframe tbody tr th:only-of-type {\n",
              "        vertical-align: middle;\n",
              "    }\n",
              "\n",
              "    .dataframe tbody tr th {\n",
              "        vertical-align: top;\n",
              "    }\n",
              "\n",
              "    .dataframe thead th {\n",
              "        text-align: right;\n",
              "    }\n",
              "</style>\n",
              "<table border=\"1\" class=\"dataframe\">\n",
              "  <thead>\n",
              "    <tr style=\"text-align: right;\">\n",
              "      <th></th>\n",
              "      <th>original_idx</th>\n",
              "      <th>op_id</th>\n",
              "      <th>op_gender</th>\n",
              "      <th>post_id</th>\n",
              "      <th>responder_id</th>\n",
              "      <th>response_text</th>\n",
              "      <th>op_name</th>\n",
              "      <th>op_category</th>\n",
              "      <th>probs</th>\n",
              "      <th>preds</th>\n",
              "    </tr>\n",
              "  </thead>\n",
              "  <tbody>\n",
              "    <tr>\n",
              "      <th>1806560</th>\n",
              "      <td>10329697</td>\n",
              "      <td>32570461</td>\n",
              "      <td>M</td>\n",
              "      <td>382375</td>\n",
              "      <td>Dave</td>\n",
              "      <td>angus king is a former governor of the state of maine. did you also make friends with former new...</td>\n",
              "      <td>Tim Kaine</td>\n",
              "      <td>Congress_Democratic</td>\n",
              "      <td>0.000025</td>\n",
              "      <td>W</td>\n",
              "    </tr>\n",
              "    <tr>\n",
              "      <th>991634</th>\n",
              "      <td>5240688</td>\n",
              "      <td>46506154</td>\n",
              "      <td>M</td>\n",
              "      <td>161317</td>\n",
              "      <td>Laura</td>\n",
              "      <td>keep the faith ms. ayotte, you are good for new hampshire and our country !! you have more suppo...</td>\n",
              "      <td>Marco Rubio</td>\n",
              "      <td>Congress_Republican</td>\n",
              "      <td>0.000025</td>\n",
              "      <td>W</td>\n",
              "    </tr>\n",
              "    <tr>\n",
              "      <th>1373869</th>\n",
              "      <td>7792163</td>\n",
              "      <td>99469231</td>\n",
              "      <td>M</td>\n",
              "      <td>296202</td>\n",
              "      <td>Michael</td>\n",
              "      <td>as the terrorist attacks abroad continue....here at home (ignorance) on the behalf of state leve...</td>\n",
              "      <td>John McCain</td>\n",
              "      <td>Congress_Republican</td>\n",
              "      <td>0.000029</td>\n",
              "      <td>W</td>\n",
              "    </tr>\n",
              "    <tr>\n",
              "      <th>1132701</th>\n",
              "      <td>5381755</td>\n",
              "      <td>46506154</td>\n",
              "      <td>M</td>\n",
              "      <td>162152</td>\n",
              "      <td>Laura</td>\n",
              "      <td>congressional candidate frank guinta did this in nh!</td>\n",
              "      <td>Marco Rubio</td>\n",
              "      <td>Congress_Republican</td>\n",
              "      <td>0.000046</td>\n",
              "      <td>W</td>\n",
              "    </tr>\n",
              "    <tr>\n",
              "      <th>1887369</th>\n",
              "      <td>10920297</td>\n",
              "      <td>10458808</td>\n",
              "      <td>M</td>\n",
              "      <td>386070</td>\n",
              "      <td>Stephen</td>\n",
              "      <td>yes yes yes. kamala. you have always been there for us!!! fantastic!</td>\n",
              "      <td>Mark Takano</td>\n",
              "      <td>Congress_Democratic</td>\n",
              "      <td>0.000052</td>\n",
              "      <td>W</td>\n",
              "    </tr>\n",
              "    <tr>\n",
              "      <th>181521</th>\n",
              "      <td>2358273</td>\n",
              "      <td>62246450</td>\n",
              "      <td>M</td>\n",
              "      <td>52502</td>\n",
              "      <td>Annie</td>\n",
              "      <td>keep going elizabeth! we support you!</td>\n",
              "      <td>Ron Wyden</td>\n",
              "      <td>Congress_Democratic</td>\n",
              "      <td>0.000055</td>\n",
              "      <td>W</td>\n",
              "    </tr>\n",
              "    <tr>\n",
              "      <th>653735</th>\n",
              "      <td>4902789</td>\n",
              "      <td>46506154</td>\n",
              "      <td>M</td>\n",
              "      <td>160224</td>\n",
              "      <td>Chris</td>\n",
              "      <td>trump has actually been relatively evenhanded in doling out cash to the two parties, but since 1...</td>\n",
              "      <td>Marco Rubio</td>\n",
              "      <td>Congress_Republican</td>\n",
              "      <td>0.000084</td>\n",
              "      <td>W</td>\n",
              "    </tr>\n",
              "    <tr>\n",
              "      <th>477131</th>\n",
              "      <td>3752147</td>\n",
              "      <td>89414884</td>\n",
              "      <td>M</td>\n",
              "      <td>127106</td>\n",
              "      <td>Mike</td>\n",
              "      <td>well, if i were the one in charge I had cut funding on everything that government has no busines...</td>\n",
              "      <td>Pete Visclosky</td>\n",
              "      <td>Congress_Democratic</td>\n",
              "      <td>0.000122</td>\n",
              "      <td>W</td>\n",
              "    </tr>\n",
              "    <tr>\n",
              "      <th>991706</th>\n",
              "      <td>5240760</td>\n",
              "      <td>46506154</td>\n",
              "      <td>M</td>\n",
              "      <td>161317</td>\n",
              "      <td>Christopher</td>\n",
              "      <td>send the senator a quick letter of support and to say thank you: http://www.ayotte.senate.gov/?p...</td>\n",
              "      <td>Marco Rubio</td>\n",
              "      <td>Congress_Republican</td>\n",
              "      <td>0.000137</td>\n",
              "      <td>W</td>\n",
              "    </tr>\n",
              "    <tr>\n",
              "      <th>1861625</th>\n",
              "      <td>10894553</td>\n",
              "      <td>10458808</td>\n",
              "      <td>M</td>\n",
              "      <td>385773</td>\n",
              "      <td>Kyle</td>\n",
              "      <td>rep. debbie dingell</td>\n",
              "      <td>Mark Takano</td>\n",
              "      <td>Congress_Democratic</td>\n",
              "      <td>0.000172</td>\n",
              "      <td>W</td>\n",
              "    </tr>\n",
              "    <tr>\n",
              "      <th>1869763</th>\n",
              "      <td>10902691</td>\n",
              "      <td>10458808</td>\n",
              "      <td>M</td>\n",
              "      <td>385776</td>\n",
              "      <td>Kelly</td>\n",
              "      <td>quality time for bernie and tulsi to work on superdelegates!</td>\n",
              "      <td>Mark Takano</td>\n",
              "      <td>Congress_Democratic</td>\n",
              "      <td>0.000212</td>\n",
              "      <td>W</td>\n",
              "    </tr>\n",
              "    <tr>\n",
              "      <th>226949</th>\n",
              "      <td>2403701</td>\n",
              "      <td>62246450</td>\n",
              "      <td>M</td>\n",
              "      <td>52863</td>\n",
              "      <td>Bryce</td>\n",
              "      <td>good luck congresswomen suzanne bonamici, we are pulling for you to be a champion for oregon's f...</td>\n",
              "      <td>Ron Wyden</td>\n",
              "      <td>Congress_Democratic</td>\n",
              "      <td>0.000220</td>\n",
              "      <td>W</td>\n",
              "    </tr>\n",
              "    <tr>\n",
              "      <th>1289539</th>\n",
              "      <td>7707833</td>\n",
              "      <td>99469231</td>\n",
              "      <td>M</td>\n",
              "      <td>296097</td>\n",
              "      <td>Angela</td>\n",
              "      <td>please do not defund the violence against women act. i am a domestic abuse survivor that was sav...</td>\n",
              "      <td>John McCain</td>\n",
              "      <td>Congress_Republican</td>\n",
              "      <td>0.000236</td>\n",
              "      <td>W</td>\n",
              "    </tr>\n",
              "    <tr>\n",
              "      <th>403721</th>\n",
              "      <td>3172957</td>\n",
              "      <td>58406454</td>\n",
              "      <td>M</td>\n",
              "      <td>90562</td>\n",
              "      <td>Randy</td>\n",
              "      <td>i do not believe there is another government official that meets with the voters as much as tim....</td>\n",
              "      <td>Tim Walberg</td>\n",
              "      <td>Congress_Republican</td>\n",
              "      <td>0.000257</td>\n",
              "      <td>W</td>\n",
              "    </tr>\n",
              "    <tr>\n",
              "      <th>1855248</th>\n",
              "      <td>10888176</td>\n",
              "      <td>10458808</td>\n",
              "      <td>M</td>\n",
              "      <td>385767</td>\n",
              "      <td>Karen</td>\n",
              "      <td>thank you representative esty, for fighting this fight for years!</td>\n",
              "      <td>Mark Takano</td>\n",
              "      <td>Congress_Democratic</td>\n",
              "      <td>0.000294</td>\n",
              "      <td>W</td>\n",
              "    </tr>\n",
              "    <tr>\n",
              "      <th>1870185</th>\n",
              "      <td>10903113</td>\n",
              "      <td>10458808</td>\n",
              "      <td>M</td>\n",
              "      <td>385776</td>\n",
              "      <td>Hannah</td>\n",
              "      <td>i see tulsi!</td>\n",
              "      <td>Mark Takano</td>\n",
              "      <td>Congress_Democratic</td>\n",
              "      <td>0.000325</td>\n",
              "      <td>W</td>\n",
              "    </tr>\n",
              "    <tr>\n",
              "      <th>991742</th>\n",
              "      <td>5240796</td>\n",
              "      <td>46506154</td>\n",
              "      <td>M</td>\n",
              "      <td>161317</td>\n",
              "      <td>Karen</td>\n",
              "      <td>stand strong senator ayotte! we are with you all the way!</td>\n",
              "      <td>Marco Rubio</td>\n",
              "      <td>Congress_Republican</td>\n",
              "      <td>0.000331</td>\n",
              "      <td>W</td>\n",
              "    </tr>\n",
              "    <tr>\n",
              "      <th>62362</th>\n",
              "      <td>2180277</td>\n",
              "      <td>38794897</td>\n",
              "      <td>M</td>\n",
              "      <td>37031</td>\n",
              "      <td>Steven</td>\n",
              "      <td>i would not hold my breath, elizabeth. in senator brown's rare replies usually involve a form le...</td>\n",
              "      <td>Sherrod Brown</td>\n",
              "      <td>Congress_Democratic</td>\n",
              "      <td>0.000399</td>\n",
              "      <td>W</td>\n",
              "    </tr>\n",
              "    <tr>\n",
              "      <th>1852153</th>\n",
              "      <td>10885081</td>\n",
              "      <td>10458808</td>\n",
              "      <td>M</td>\n",
              "      <td>385764</td>\n",
              "      <td>Ben</td>\n",
              "      <td>thank you maxine for keeping them here last night</td>\n",
              "      <td>Mark Takano</td>\n",
              "      <td>Congress_Democratic</td>\n",
              "      <td>0.000405</td>\n",
              "      <td>W</td>\n",
              "    </tr>\n",
              "    <tr>\n",
              "      <th>1195246</th>\n",
              "      <td>6641430</td>\n",
              "      <td>48816171</td>\n",
              "      <td>M</td>\n",
              "      <td>252876</td>\n",
              "      <td>Norma</td>\n",
              "      <td>no marsha is getting it free practically because people like sonia have to pay for part of marsh...</td>\n",
              "      <td>Kenny Marchant</td>\n",
              "      <td>Congress_Republican</td>\n",
              "      <td>0.000431</td>\n",
              "      <td>W</td>\n",
              "    </tr>\n",
              "  </tbody>\n",
              "</table>\n",
              "</div>"
            ],
            "text/plain": [
              "         original_idx     op_id op_gender  ...          op_category     probs preds\n",
              "1806560      10329697  32570461         M  ...  Congress_Democratic  0.000025     W\n",
              "991634        5240688  46506154         M  ...  Congress_Republican  0.000025     W\n",
              "1373869       7792163  99469231         M  ...  Congress_Republican  0.000029     W\n",
              "1132701       5381755  46506154         M  ...  Congress_Republican  0.000046     W\n",
              "1887369      10920297  10458808         M  ...  Congress_Democratic  0.000052     W\n",
              "181521        2358273  62246450         M  ...  Congress_Democratic  0.000055     W\n",
              "653735        4902789  46506154         M  ...  Congress_Republican  0.000084     W\n",
              "477131        3752147  89414884         M  ...  Congress_Democratic  0.000122     W\n",
              "991706        5240760  46506154         M  ...  Congress_Republican  0.000137     W\n",
              "1861625      10894553  10458808         M  ...  Congress_Democratic  0.000172     W\n",
              "1869763      10902691  10458808         M  ...  Congress_Democratic  0.000212     W\n",
              "226949        2403701  62246450         M  ...  Congress_Democratic  0.000220     W\n",
              "1289539       7707833  99469231         M  ...  Congress_Republican  0.000236     W\n",
              "403721        3172957  58406454         M  ...  Congress_Republican  0.000257     W\n",
              "1855248      10888176  10458808         M  ...  Congress_Democratic  0.000294     W\n",
              "1870185      10903113  10458808         M  ...  Congress_Democratic  0.000325     W\n",
              "991742        5240796  46506154         M  ...  Congress_Republican  0.000331     W\n",
              "62362         2180277  38794897         M  ...  Congress_Democratic  0.000399     W\n",
              "1852153      10885081  10458808         M  ...  Congress_Democratic  0.000405     W\n",
              "1195246       6641430  48816171         M  ...  Congress_Republican  0.000431     W\n",
              "\n",
              "[20 rows x 10 columns]"
            ]
          },
          "metadata": {
            "tags": []
          },
          "execution_count": 78
        }
      ]
    }
  ]
}

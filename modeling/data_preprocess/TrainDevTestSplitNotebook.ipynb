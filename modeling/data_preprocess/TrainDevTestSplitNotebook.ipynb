{
 "cells": [
  {
   "cell_type": "code",
   "execution_count": 149,
   "metadata": {},
   "outputs": [],
   "source": [
    "from sklearn.linear_model import LogisticRegression\n",
    "from sklearn.feature_extraction.text import HashingVectorizer\n",
    "import pandas as pd\n",
    "import numpy as np\n",
    "import random\n",
    "import copy\n",
    "import math\n",
    "import time\n",
    "import os"
   ]
  },
  {
   "cell_type": "code",
   "execution_count": 2,
   "metadata": {},
   "outputs": [],
   "source": [
    "posts = \"data//facebook_congress_posts.csv\"\n",
    "responses = \"data//facebook_congress_responses.csv\""
   ]
  },
  {
   "cell_type": "code",
   "execution_count": 48,
   "metadata": {},
   "outputs": [],
   "source": [
    "posts_df = pd.read_csv(posts)"
   ]
  },
  {
   "cell_type": "code",
   "execution_count": 4,
   "metadata": {},
   "outputs": [],
   "source": [
    "responses_df = pd.read_csv(responses)"
   ]
  },
  {
   "cell_type": "code",
   "execution_count": 49,
   "metadata": {
    "scrolled": true
   },
   "outputs": [
    {
     "data": {
      "text/html": [
       "<div>\n",
       "<style scoped>\n",
       "    .dataframe tbody tr th:only-of-type {\n",
       "        vertical-align: middle;\n",
       "    }\n",
       "\n",
       "    .dataframe tbody tr th {\n",
       "        vertical-align: top;\n",
       "    }\n",
       "\n",
       "    .dataframe thead th {\n",
       "        text-align: right;\n",
       "    }\n",
       "</style>\n",
       "<table border=\"1\" class=\"dataframe\">\n",
       "  <thead>\n",
       "    <tr style=\"text-align: right;\">\n",
       "      <th></th>\n",
       "      <th>op_id</th>\n",
       "      <th>op_gender</th>\n",
       "      <th>post_id</th>\n",
       "      <th>post_text</th>\n",
       "      <th>post_type</th>\n",
       "    </tr>\n",
       "  </thead>\n",
       "  <tbody>\n",
       "    <tr>\n",
       "      <td>0</td>\n",
       "      <td>57265377</td>\n",
       "      <td>M</td>\n",
       "      <td>0</td>\n",
       "      <td>Yesterday, my colleagues and I voted to protec...</td>\n",
       "      <td>video</td>\n",
       "    </tr>\n",
       "    <tr>\n",
       "      <td>1</td>\n",
       "      <td>57265377</td>\n",
       "      <td>M</td>\n",
       "      <td>1</td>\n",
       "      <td>Roses are red...and so is Texas. Let's keep it...</td>\n",
       "      <td>video</td>\n",
       "    </tr>\n",
       "    <tr>\n",
       "      <td>2</td>\n",
       "      <td>57265377</td>\n",
       "      <td>M</td>\n",
       "      <td>2</td>\n",
       "      <td>#TBT to this classic video. #DonkeyWhisperer</td>\n",
       "      <td>video</td>\n",
       "    </tr>\n",
       "    <tr>\n",
       "      <td>3</td>\n",
       "      <td>57265377</td>\n",
       "      <td>M</td>\n",
       "      <td>3</td>\n",
       "      <td>Since President Donald J. Trump was sworn in o...</td>\n",
       "      <td>video</td>\n",
       "    </tr>\n",
       "    <tr>\n",
       "      <td>4</td>\n",
       "      <td>57265377</td>\n",
       "      <td>M</td>\n",
       "      <td>4</td>\n",
       "      <td>Remembering our 40th president today. LIKE to ...</td>\n",
       "      <td>video</td>\n",
       "    </tr>\n",
       "  </tbody>\n",
       "</table>\n",
       "</div>"
      ],
      "text/plain": [
       "      op_id op_gender  post_id  \\\n",
       "0  57265377         M        0   \n",
       "1  57265377         M        1   \n",
       "2  57265377         M        2   \n",
       "3  57265377         M        3   \n",
       "4  57265377         M        4   \n",
       "\n",
       "                                           post_text post_type  \n",
       "0  Yesterday, my colleagues and I voted to protec...     video  \n",
       "1  Roses are red...and so is Texas. Let's keep it...     video  \n",
       "2       #TBT to this classic video. #DonkeyWhisperer     video  \n",
       "3  Since President Donald J. Trump was sworn in o...     video  \n",
       "4  Remembering our 40th president today. LIKE to ...     video  "
      ]
     },
     "execution_count": 49,
     "metadata": {},
     "output_type": "execute_result"
    }
   ],
   "source": [
    "posts_df.head()"
   ]
  },
  {
   "cell_type": "code",
   "execution_count": 7,
   "metadata": {},
   "outputs": [
    {
     "data": {
      "text/html": [
       "<div>\n",
       "<style scoped>\n",
       "    .dataframe tbody tr th:only-of-type {\n",
       "        vertical-align: middle;\n",
       "    }\n",
       "\n",
       "    .dataframe tbody tr th {\n",
       "        vertical-align: top;\n",
       "    }\n",
       "\n",
       "    .dataframe thead th {\n",
       "        text-align: right;\n",
       "    }\n",
       "</style>\n",
       "<table border=\"1\" class=\"dataframe\">\n",
       "  <thead>\n",
       "    <tr style=\"text-align: right;\">\n",
       "      <th></th>\n",
       "      <th>op_id</th>\n",
       "      <th>op_gender</th>\n",
       "      <th>post_id</th>\n",
       "      <th>responder_id</th>\n",
       "      <th>response_text</th>\n",
       "      <th>op_name</th>\n",
       "      <th>op_category</th>\n",
       "    </tr>\n",
       "  </thead>\n",
       "  <tbody>\n",
       "    <tr>\n",
       "      <td>0</td>\n",
       "      <td>57265377</td>\n",
       "      <td>M</td>\n",
       "      <td>0</td>\n",
       "      <td>Jerry</td>\n",
       "      <td>Protecting birth is not the same as protecting...</td>\n",
       "      <td>Roger Williams</td>\n",
       "      <td>Congress_Republican</td>\n",
       "    </tr>\n",
       "    <tr>\n",
       "      <td>1</td>\n",
       "      <td>57265377</td>\n",
       "      <td>M</td>\n",
       "      <td>0</td>\n",
       "      <td>Andrea</td>\n",
       "      <td>You need to protect children and leave my body...</td>\n",
       "      <td>Roger Williams</td>\n",
       "      <td>Congress_Republican</td>\n",
       "    </tr>\n",
       "    <tr>\n",
       "      <td>2</td>\n",
       "      <td>57265377</td>\n",
       "      <td>M</td>\n",
       "      <td>0</td>\n",
       "      <td>Sherry</td>\n",
       "      <td>Thank you</td>\n",
       "      <td>Roger Williams</td>\n",
       "      <td>Congress_Republican</td>\n",
       "    </tr>\n",
       "    <tr>\n",
       "      <td>3</td>\n",
       "      <td>57265377</td>\n",
       "      <td>M</td>\n",
       "      <td>0</td>\n",
       "      <td>Bob</td>\n",
       "      <td>Thank you Roger</td>\n",
       "      <td>Roger Williams</td>\n",
       "      <td>Congress_Republican</td>\n",
       "    </tr>\n",
       "    <tr>\n",
       "      <td>4</td>\n",
       "      <td>57265377</td>\n",
       "      <td>M</td>\n",
       "      <td>0</td>\n",
       "      <td>Joy</td>\n",
       "      <td>Unwanted pregnancy is a sad and unfortunate si...</td>\n",
       "      <td>Roger Williams</td>\n",
       "      <td>Congress_Republican</td>\n",
       "    </tr>\n",
       "  </tbody>\n",
       "</table>\n",
       "</div>"
      ],
      "text/plain": [
       "      op_id op_gender  post_id responder_id  \\\n",
       "0  57265377         M        0        Jerry   \n",
       "1  57265377         M        0       Andrea   \n",
       "2  57265377         M        0       Sherry   \n",
       "3  57265377         M        0          Bob   \n",
       "4  57265377         M        0          Joy   \n",
       "\n",
       "                                       response_text         op_name  \\\n",
       "0  Protecting birth is not the same as protecting...  Roger Williams   \n",
       "1  You need to protect children and leave my body...  Roger Williams   \n",
       "2                                          Thank you  Roger Williams   \n",
       "3                                    Thank you Roger  Roger Williams   \n",
       "4  Unwanted pregnancy is a sad and unfortunate si...  Roger Williams   \n",
       "\n",
       "           op_category  \n",
       "0  Congress_Republican  \n",
       "1  Congress_Republican  \n",
       "2  Congress_Republican  \n",
       "3  Congress_Republican  \n",
       "4  Congress_Republican  "
      ]
     },
     "execution_count": 7,
     "metadata": {},
     "output_type": "execute_result"
    }
   ],
   "source": [
    "responses_df.head()"
   ]
  },
  {
   "cell_type": "code",
   "execution_count": 8,
   "metadata": {},
   "outputs": [],
   "source": [
    "## add in the names that were missing initially (found from EDA notebook)\n",
    "responses_df.loc[responses_df.op_id==42721680, 'op_name'] = 'Scott Tipton'\n",
    "responses_df.loc[responses_df.op_id==44922372, 'op_name'] = 'Martin Heinrich'\n",
    "responses_df.loc[responses_df.op_id==54138093, 'op_name'] = 'Mac Thornberry'\n",
    "responses_df.loc[responses_df.op_id==96418867, 'op_name'] = 'Darren Soto'"
   ]
  },
  {
   "cell_type": "markdown",
   "metadata": {},
   "source": [
    "Split version 1: just on politician id, because what we're trying to predict is about the individual politician."
   ]
  },
  {
   "cell_type": "code",
   "execution_count": 112,
   "metadata": {},
   "outputs": [
    {
     "data": {
      "text/plain": [
       "array([84331141, 23790289,  4499588, 74629159, 33547363])"
      ]
     },
     "execution_count": 112,
     "metadata": {},
     "output_type": "execute_result"
    }
   ],
   "source": [
    "# shuffle with random seed \n",
    "all_unique_posters = responses_df['op_id'].drop_duplicates().values\n",
    "all_unique_posters2 = copy.deepcopy(all_unique_posters)\n",
    "random.Random(7).shuffle(all_unique_posters2)\n",
    "all_unique_posters2[:5]"
   ]
  },
  {
   "cell_type": "code",
   "execution_count": 113,
   "metadata": {},
   "outputs": [],
   "source": [
    "seventy_percent_split = math.floor(.7 * len(all_unique_posters))"
   ]
  },
  {
   "cell_type": "code",
   "execution_count": 114,
   "metadata": {},
   "outputs": [],
   "source": [
    "fifteen_percent_split = seventy_percent_split + math.floor(.15*len(all_unique_posters))"
   ]
  },
  {
   "cell_type": "code",
   "execution_count": 115,
   "metadata": {},
   "outputs": [
    {
     "data": {
      "text/plain": [
       "341"
      ]
     },
     "execution_count": 115,
     "metadata": {},
     "output_type": "execute_result"
    }
   ],
   "source": [
    "fifteen_percent_split"
   ]
  },
  {
   "cell_type": "code",
   "execution_count": 116,
   "metadata": {},
   "outputs": [
    {
     "data": {
      "text/plain": [
       "281"
      ]
     },
     "execution_count": 116,
     "metadata": {},
     "output_type": "execute_result"
    }
   ],
   "source": [
    "seventy_percent_split"
   ]
  },
  {
   "cell_type": "code",
   "execution_count": 117,
   "metadata": {},
   "outputs": [],
   "source": [
    "train_idxs = all_unique_posters2[:seventy_percent_split]\n",
    "test_idxs = all_unique_posters2[seventy_percent_split:fifteen_percent_split]\n",
    "dev_idxs = all_unique_posters2[fifteen_percent_split:]"
   ]
  },
  {
   "cell_type": "code",
   "execution_count": 128,
   "metadata": {},
   "outputs": [],
   "source": [
    "def determine_gender_split_of_data_subsets(idx_list, list_title):\n",
    "    posters = pd.DataFrame({'op_id': idx_list})\n",
    "    posters = posters.merge(posts_df, on='op_id')\n",
    "    posters = posters.drop_duplicates(subset='op_id')\n",
    "    percent_male = len(posters[posters.op_gender=='M']) / len(posters)\n",
    "    print(\"Proportion male in {} set: {:.3f}\".format(list_title, percent_male))"
   ]
  },
  {
   "cell_type": "code",
   "execution_count": 129,
   "metadata": {},
   "outputs": [
    {
     "name": "stdout",
     "output_type": "stream",
     "text": [
      "Proportion male in Train set: 0.776\n",
      "Proportion male in Test set: 0.717\n",
      "Proportion male in Dev set: 0.738\n"
     ]
    }
   ],
   "source": [
    "determine_gender_split_of_data_subsets(train_idxs, \"Train\")\n",
    "determine_gender_split_of_data_subsets(test_idxs, \"Test\")\n",
    "determine_gender_split_of_data_subsets(dev_idxs, \"Dev\")"
   ]
  },
  {
   "cell_type": "code",
   "execution_count": 189,
   "metadata": {},
   "outputs": [],
   "source": [
    "train_rows = responses_df[responses_df.op_id.isin(train_idxs)]"
   ]
  },
  {
   "cell_type": "code",
   "execution_count": 190,
   "metadata": {},
   "outputs": [],
   "source": [
    "test_rows = responses_df[responses_df.op_id.isin(test_idxs)]"
   ]
  },
  {
   "cell_type": "code",
   "execution_count": 191,
   "metadata": {},
   "outputs": [],
   "source": [
    "dev_rows = responses_df[responses_df.op_id.isin(dev_idxs)]"
   ]
  },
  {
   "cell_type": "code",
   "execution_count": 192,
   "metadata": {},
   "outputs": [
    {
     "name": "stdout",
     "output_type": "stream",
     "text": [
      "Proportion train: 0.712\n",
      "Proportion test: 0.122\n",
      "Proportion dev: 0.165\n"
     ]
    }
   ],
   "source": [
    "def determine_relative_dataset_sizes(train_rows, test_rows, dev_rows):\n",
    "    train_size = len(train_rows)\n",
    "    test_size = len(test_rows)\n",
    "    dev_size = len(dev_rows)\n",
    "    full_size = train_size + dev_size + test_size\n",
    "    print(\"Proportion train: {:.3f}\".format(train_size / full_size))\n",
    "    print(\"Proportion test: {:.3f}\".format(test_size / full_size))\n",
    "    print(\"Proportion dev: {:.3f}\".format(dev_size / full_size))\n",
    "    \n",
    "determine_relative_dataset_sizes(train_rows, test_rows, dev_rows)"
   ]
  },
  {
   "cell_type": "code",
   "execution_count": 194,
   "metadata": {},
   "outputs": [],
   "source": [
    "epoch = int(time.time())\n",
    "subfolder = \"data//splits_{}\".format(epoch)"
   ]
  },
  {
   "cell_type": "code",
   "execution_count": 195,
   "metadata": {},
   "outputs": [],
   "source": [
    "os.mkdir(subfolder)"
   ]
  },
  {
   "cell_type": "code",
   "execution_count": 196,
   "metadata": {},
   "outputs": [],
   "source": [
    "train_path = subfolder + \"//train.csv\"\n",
    "test_path = subfolder + \"//test.csv\"\n",
    "dev_path = subfolder + \"//dev.csv\""
   ]
  },
  {
   "cell_type": "code",
   "execution_count": 197,
   "metadata": {},
   "outputs": [],
   "source": [
    "def write_to_csv(dataset, path):\n",
    "    rows = dataset.reset_index()\n",
    "    rows.columns = ['original_idx', \n",
    "                    'op_id', \n",
    "                    'op_gender', \n",
    "                    'post_id', \n",
    "                    'responder_id', \n",
    "                    'response_text', \n",
    "                    'op_name', \n",
    "                    'op_category']\n",
    "    rows.to_csv(path)"
   ]
  },
  {
   "cell_type": "code",
   "execution_count": 198,
   "metadata": {},
   "outputs": [],
   "source": [
    "write_to_csv(dev_rows, dev_path)\n",
    "write_to_csv(train_rows, train_path)\n",
    "write_to_csv(test_rows, test_path)"
   ]
  },
  {
   "cell_type": "code",
   "execution_count": null,
   "metadata": {},
   "outputs": [],
   "source": []
  }
 ],
 "metadata": {
  "kernelspec": {
   "display_name": "Python 3",
   "language": "python",
   "name": "python3"
  },
  "language_info": {
   "codemirror_mode": {
    "name": "ipython",
    "version": 3
   },
   "file_extension": ".py",
   "mimetype": "text/x-python",
   "name": "python",
   "nbconvert_exporter": "python",
   "pygments_lexer": "ipython3",
   "version": "3.7.4"
  }
 },
 "nbformat": 4,
 "nbformat_minor": 2
}

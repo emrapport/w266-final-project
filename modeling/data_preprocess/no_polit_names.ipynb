{
  "nbformat": 4,
  "nbformat_minor": 0,
  "metadata": {
    "kernelspec": {
      "name": "python3",
      "display_name": "Python 3"
    },
    "language_info": {
      "codemirror_mode": {
        "name": "ipython",
        "version": 3
      },
      "file_extension": ".py",
      "mimetype": "text/x-python",
      "name": "python",
      "nbconvert_exporter": "python",
      "pygments_lexer": "ipython3",
      "version": "3.7.4"
    },
    "colab": {
      "name": "no_polit_names.ipynb",
      "provenance": [],
      "machine_shape": "hm",
      "include_colab_link": true
    },
    "accelerator": "TPU"
  },
  "cells": [
    {
      "cell_type": "markdown",
      "metadata": {
        "id": "view-in-github",
        "colab_type": "text"
      },
      "source": [
        "<a href=\"https://colab.research.google.com/github/emrapport/w266-final-project/blob/master/modeling/no_polit_names.ipynb\" target=\"_parent\"><img src=\"https://colab.research.google.com/assets/colab-badge.svg\" alt=\"Open In Colab\"/></a>"
      ]
    },
    {
      "cell_type": "markdown",
      "metadata": {
        "id": "ldVKPuCY1oqk",
        "colab_type": "text"
      },
      "source": [
        "## Remove names of politicians.\n",
        "\n"
      ]
    },
    {
      "cell_type": "code",
      "metadata": {
        "id": "dJtCeCgbSs0D",
        "colab_type": "code",
        "colab": {}
      },
      "source": [
        "# this notebook is based off of this blog post: \n",
        "# https://realpython.com/python-keras-text-classification/#reader-comments"
      ],
      "execution_count": 0,
      "outputs": []
    },
    {
      "cell_type": "code",
      "metadata": {
        "id": "_QYIGfoPFRZK",
        "colab_type": "code",
        "colab": {}
      },
      "source": [
        "DATASET_NAME = \"no_politicians\"\n",
        "MODEL_NAME = \"no_politicians\"\n",
        "MAX_SEQ_LENGTH = 20\n",
        "TRAINING_SET_SIZE = 4000000\n",
        "VAL_SET_SIZE = 2000000\n",
        "NUM_EPOCHS = 30\n",
        "BATCH_SIZE = 1000\n",
        "MAX_SEQUENCE_LENGTH = 20\n",
        "\n",
        "\n",
        "# I don't think we have a good reason to do this right now\n",
        "# but we might eventually \n",
        "SAVE_TOKENIZED_DATA = False"
      ],
      "execution_count": 0,
      "outputs": []
    },
    {
      "cell_type": "code",
      "metadata": {
        "id": "l0rrZSx7Ss0M",
        "colab_type": "code",
        "outputId": "15db93a5-3602-4644-fc5d-610d5fc7ef02",
        "colab": {
          "base_uri": "https://localhost:8080/",
          "height": 492
        }
      },
      "source": [
        "from sklearn.linear_model import LogisticRegression\n",
        "from sklearn.feature_extraction.text import HashingVectorizer\n",
        "from scipy.sparse import hstack, vstack\n",
        "from keras.preprocessing.text import Tokenizer\n",
        "from tensorflow.keras import Sequential, layers\n",
        "from keras.utils import plot_model\n",
        "import pandas as pd\n",
        "import numpy as np\n",
        "import copy\n",
        "import time\n",
        "import pickle\n",
        "!pip install gcsfs\n",
        "\n",
        "pd.set_option('max_colwidth', 100)"
      ],
      "execution_count": 4,
      "outputs": [
        {
          "output_type": "stream",
          "text": [
            "Using TensorFlow backend.\n"
          ],
          "name": "stderr"
        },
        {
          "output_type": "stream",
          "text": [
            "Collecting gcsfs\n",
            "\u001b[?25l  Downloading https://files.pythonhosted.org/packages/ab/92/0297f2813cb240c52e90f8587420149970565800e019e1b08ef5ad28b6d9/gcsfs-0.3.1.tar.gz (43kB)\n",
            "\r\u001b[K     |███████▋                        | 10kB 21.5MB/s eta 0:00:01\r\u001b[K     |███████████████▏                | 20kB 2.2MB/s eta 0:00:01\r\u001b[K     |██████████████████████▊         | 30kB 3.2MB/s eta 0:00:01\r\u001b[K     |██████████████████████████████▎ | 40kB 2.1MB/s eta 0:00:01\r\u001b[K     |████████████████████████████████| 51kB 2.0MB/s \n",
            "\u001b[?25hRequirement already satisfied: google-auth>=1.2 in /usr/local/lib/python3.6/dist-packages (from gcsfs) (1.4.2)\n",
            "Requirement already satisfied: google-auth-oauthlib in /usr/local/lib/python3.6/dist-packages (from gcsfs) (0.4.1)\n",
            "Requirement already satisfied: requests in /usr/local/lib/python3.6/dist-packages (from gcsfs) (2.21.0)\n",
            "Requirement already satisfied: decorator in /usr/local/lib/python3.6/dist-packages (from gcsfs) (4.4.1)\n",
            "Requirement already satisfied: fsspec>=0.2.2 in /usr/local/lib/python3.6/dist-packages (from gcsfs) (0.5.2)\n",
            "Requirement already satisfied: pyasn1-modules>=0.2.1 in /usr/local/lib/python3.6/dist-packages (from google-auth>=1.2->gcsfs) (0.2.7)\n",
            "Requirement already satisfied: six>=1.9.0 in /usr/local/lib/python3.6/dist-packages (from google-auth>=1.2->gcsfs) (1.12.0)\n",
            "Requirement already satisfied: cachetools>=2.0.0 in /usr/local/lib/python3.6/dist-packages (from google-auth>=1.2->gcsfs) (3.1.1)\n",
            "Requirement already satisfied: rsa>=3.1.4 in /usr/local/lib/python3.6/dist-packages (from google-auth>=1.2->gcsfs) (4.0)\n",
            "Requirement already satisfied: requests-oauthlib>=0.7.0 in /usr/local/lib/python3.6/dist-packages (from google-auth-oauthlib->gcsfs) (1.3.0)\n",
            "Requirement already satisfied: idna<2.9,>=2.5 in /usr/local/lib/python3.6/dist-packages (from requests->gcsfs) (2.8)\n",
            "Requirement already satisfied: chardet<3.1.0,>=3.0.2 in /usr/local/lib/python3.6/dist-packages (from requests->gcsfs) (3.0.4)\n",
            "Requirement already satisfied: urllib3<1.25,>=1.21.1 in /usr/local/lib/python3.6/dist-packages (from requests->gcsfs) (1.24.3)\n",
            "Requirement already satisfied: certifi>=2017.4.17 in /usr/local/lib/python3.6/dist-packages (from requests->gcsfs) (2019.9.11)\n",
            "Requirement already satisfied: pyasn1<0.5.0,>=0.4.6 in /usr/local/lib/python3.6/dist-packages (from pyasn1-modules>=0.2.1->google-auth>=1.2->gcsfs) (0.4.7)\n",
            "Requirement already satisfied: oauthlib>=3.0.0 in /usr/local/lib/python3.6/dist-packages (from requests-oauthlib>=0.7.0->google-auth-oauthlib->gcsfs) (3.1.0)\n",
            "Building wheels for collected packages: gcsfs\n",
            "  Building wheel for gcsfs (setup.py) ... \u001b[?25l\u001b[?25hdone\n",
            "  Created wheel for gcsfs: filename=gcsfs-0.3.1-py2.py3-none-any.whl size=17936 sha256=91299d33669d5e5265c5171173788d5ff3a4a1f4434986dc9097bf3be86a0cac\n",
            "  Stored in directory: /root/.cache/pip/wheels/9d/2b/6f/86954f0d8caa1173841e62bb780dc0f8693bd268e04a267682\n",
            "Successfully built gcsfs\n",
            "Installing collected packages: gcsfs\n",
            "Successfully installed gcsfs-0.3.1\n"
          ],
          "name": "stdout"
        }
      ]
    },
    {
      "cell_type": "code",
      "metadata": {
        "id": "lKNfUKrfUgP-",
        "colab_type": "code",
        "outputId": "2f5f526e-ff84-456a-ee0c-4c8d2f67858b",
        "colab": {
          "base_uri": "https://localhost:8080/",
          "height": 175
        }
      },
      "source": [
        "# this cell is only necessary if running in colab\n",
        "project_id = 'w266-251323'\n",
        "import uuid\n",
        "bucket_name = 'fb-congressional-data/'\n",
        "from google.colab import auth\n",
        "auth.authenticate_user()\n",
        "!gcloud config set project {project_id}"
      ],
      "execution_count": 5,
      "outputs": [
        {
          "output_type": "stream",
          "text": [
            "WARNING:tensorflow:\n",
            "The TensorFlow contrib module will not be included in TensorFlow 2.0.\n",
            "For more information, please see:\n",
            "  * https://github.com/tensorflow/community/blob/master/rfcs/20180907-contrib-sunset.md\n",
            "  * https://github.com/tensorflow/addons\n",
            "  * https://github.com/tensorflow/io (for I/O related ops)\n",
            "If you depend on functionality not listed there, please file an issue.\n",
            "\n",
            "Updated property [core/project].\n"
          ],
          "name": "stdout"
        }
      ]
    },
    {
      "cell_type": "code",
      "metadata": {
        "id": "9T7PzdLQSs0j",
        "colab_type": "code",
        "outputId": "897791f2-921c-45a9-f328-5146c2b5dcac",
        "colab": {
          "base_uri": "https://localhost:8080/",
          "height": 72
        }
      },
      "source": [
        "train_df = pd.read_csv(\"gs://fb-congressional-data/contraction_expanded_data/train.csv\", index_col=0)"
      ],
      "execution_count": 6,
      "outputs": [
        {
          "output_type": "stream",
          "text": [
            "/usr/local/lib/python3.6/dist-packages/numpy/lib/arraysetops.py:568: FutureWarning: elementwise comparison failed; returning scalar instead, but in the future will perform elementwise comparison\n",
            "  mask |= (ar1 == a)\n"
          ],
          "name": "stderr"
        }
      ]
    },
    {
      "cell_type": "code",
      "metadata": {
        "id": "0iOniVLISs0m",
        "colab_type": "code",
        "outputId": "5971019f-f07f-474e-da93-cac171c2144f",
        "colab": {
          "base_uri": "https://localhost:8080/",
          "height": 72
        }
      },
      "source": [
        "dev_df = pd.read_csv(\"gs://fb-congressional-data/contraction_expanded_data/dev.csv\", index_col=0)"
      ],
      "execution_count": 7,
      "outputs": [
        {
          "output_type": "stream",
          "text": [
            "/usr/local/lib/python3.6/dist-packages/numpy/lib/arraysetops.py:568: FutureWarning: elementwise comparison failed; returning scalar instead, but in the future will perform elementwise comparison\n",
            "  mask |= (ar1 == a)\n"
          ],
          "name": "stderr"
        }
      ]
    },
    {
      "cell_type": "code",
      "metadata": {
        "id": "dk4goOwAPXRH",
        "colab_type": "code",
        "outputId": "5bb7cedc-2ccc-4550-d339-8f037daf04d5",
        "colab": {
          "base_uri": "https://localhost:8080/",
          "height": 34
        }
      },
      "source": [
        "len(train_df)"
      ],
      "execution_count": 8,
      "outputs": [
        {
          "output_type": "execute_result",
          "data": {
            "text/plain": [
              "9879016"
            ]
          },
          "metadata": {
            "tags": []
          },
          "execution_count": 8
        }
      ]
    },
    {
      "cell_type": "code",
      "metadata": {
        "id": "6sOBM6Q6Q4Mz",
        "colab_type": "code",
        "outputId": "210f53ae-5761-4cd9-e8ff-a8c951ea447b",
        "colab": {
          "base_uri": "https://localhost:8080/",
          "height": 34
        }
      },
      "source": [
        "len(dev_df)"
      ],
      "execution_count": 9,
      "outputs": [
        {
          "output_type": "execute_result",
          "data": {
            "text/plain": [
              "2292907"
            ]
          },
          "metadata": {
            "tags": []
          },
          "execution_count": 9
        }
      ]
    },
    {
      "cell_type": "code",
      "metadata": {
        "id": "pa0X18XgNgip",
        "colab_type": "code",
        "colab": {}
      },
      "source": [
        "# Get a list of the politicians' names.\n",
        "# I am using just the names listed in the op_name series.\n",
        "polit_names = train_df['op_name']\n",
        "polit_names2 = dev_df['op_name']\n",
        "polit_names.drop_duplicates(inplace=True)\n",
        "polit_names2.drop_duplicates(inplace=True)\n",
        "\n",
        "full_names_list = polit_names.to_list() + polit_names2.to_list()\n",
        "polit_names_list = [name for names in full_names_list for name in names.split()]\n",
        "# Dedup the list again now that it's split.\n",
        "new_list = []\n",
        "for name in polit_names_list:\n",
        "    if name.lower() not in new_list:\n",
        "        new_list.append(name.lower())\n",
        "polit_names_list = new_list"
      ],
      "execution_count": 0,
      "outputs": []
    },
    {
      "cell_type": "code",
      "metadata": {
        "id": "s-GTOd_wmRzq",
        "colab_type": "code",
        "outputId": "dfa93647-be9f-45a8-c896-5d75df2e3117",
        "colab": {
          "base_uri": "https://localhost:8080/",
          "height": 34
        }
      },
      "source": [
        "len(polit_names_list)"
      ],
      "execution_count": 11,
      "outputs": [
        {
          "output_type": "execute_result",
          "data": {
            "text/plain": [
              "554"
            ]
          },
          "metadata": {
            "tags": []
          },
          "execution_count": 11
        }
      ]
    },
    {
      "cell_type": "code",
      "metadata": {
        "id": "LSf14vtQ2_6b",
        "colab_type": "code",
        "colab": {}
      },
      "source": [
        "# Remove initials and names that are words with common meaning.\n",
        "common_word_list = ['rob','blunt','king','mark','bob','jan','chuck','rod','love','sessions','buddy','mast',\n",
        "                    'bill','holding','drew','waters','gene','green','jerry','young','brat','clay','bass',\n",
        "                    'rice','jack','hatch','van','buck','tester','dick','g.','brown','fudge','dean','don',\n",
        "                    'slaughter','banks','f.','lynch','flake','sires','robin']\n",
        "new_list = []\n",
        "for name in polit_names_list:\n",
        "    if name not in common_word_list:\n",
        "        new_list.append(name)\n",
        "polit_names_list = new_list"
      ],
      "execution_count": 0,
      "outputs": []
    },
    {
      "cell_type": "code",
      "metadata": {
        "id": "ko5da-LW3rz2",
        "colab_type": "code",
        "colab": {}
      },
      "source": [
        "# from google.colab import files\n",
        "# import io\n",
        "# all_polit_names = pd.Series(polit_names_list)\n",
        "# all_polit_names.to_csv('polit_names_list.csv',encoding='utf-8-sig', header=True, index=False)\n",
        "# files.download('polit_names_list.csv')"
      ],
      "execution_count": 0,
      "outputs": []
    },
    {
      "cell_type": "code",
      "metadata": {
        "id": "W1oM4o7wtHFd",
        "colab_type": "code",
        "outputId": "305df555-32c7-4f9d-a6d2-24636fe11682",
        "colab": {
          "base_uri": "https://localhost:8080/",
          "height": 34
        }
      },
      "source": [
        "num_responses_per_post = train_df.post_id.value_counts().reset_index()\n",
        "num_responses_per_post.columns = ['post_id', 'num_responses']\n",
        "too_big_posts = num_responses_per_post[num_responses_per_post.num_responses > 50]\n",
        "posts_to_sample = too_big_posts.post_id.values\n",
        "# this gets all the rows for posts we DON'T need to sample \n",
        "new_train_df = train_df[~train_df.post_id.isin(posts_to_sample)]\n",
        "# this should be true\n",
        "assert(len(too_big_posts) + new_train_df.post_id.nunique() == train_df.post_id.nunique())\n",
        "too_big_post_rows = train_df[train_df.post_id.isin(posts_to_sample)]\n",
        "sampled_rows = too_big_post_rows.groupby('post_id').apply(lambda x: x.sample(n=50)).reset_index(drop=True)\n",
        "new_train_df = pd.concat([new_train_df, sampled_rows])\n",
        "new_train_df.shape"
      ],
      "execution_count": 14,
      "outputs": [
        {
          "output_type": "execute_result",
          "data": {
            "text/plain": [
              "(3962284, 8)"
            ]
          },
          "metadata": {
            "tags": []
          },
          "execution_count": 14
        }
      ]
    },
    {
      "cell_type": "code",
      "metadata": {
        "id": "bwNu4VTq46QG",
        "colab_type": "code",
        "outputId": "d437cf09-df06-47e7-f9db-55d6c50cbaff",
        "colab": {
          "base_uri": "https://localhost:8080/",
          "height": 52
        }
      },
      "source": [
        "start_time = time.time()\n",
        "# Remove 1 and 2 word responses from training set.\n",
        "# Split response string by spaces.\n",
        "new_train_df['split_response'] = new_train_df['response_text'].str.split()\n",
        "# Remove the rows with split responses that have length 1 or 2.\n",
        "train_df = new_train_df[new_train_df['split_response'].str.len() > 2]\n",
        "train_df.head()\n",
        "print(\"seconds to complete:\",(time.time()-start_time))\n",
        "train_df.shape"
      ],
      "execution_count": 15,
      "outputs": [
        {
          "output_type": "stream",
          "text": [
            "seconds to complete: 34.73951172828674\n"
          ],
          "name": "stdout"
        },
        {
          "output_type": "execute_result",
          "data": {
            "text/plain": [
              "(3577055, 9)"
            ]
          },
          "metadata": {
            "tags": []
          },
          "execution_count": 15
        }
      ]
    },
    {
      "cell_type": "code",
      "metadata": {
        "id": "cuC6TAks75c_",
        "colab_type": "code",
        "colab": {}
      },
      "source": [
        "from string import punctuation"
      ],
      "execution_count": 0,
      "outputs": []
    },
    {
      "cell_type": "code",
      "metadata": {
        "id": "1Pm357ESSJRj",
        "colab_type": "code",
        "colab": {}
      },
      "source": [
        "# test_df = train_df.head(10)\n",
        "# test_df = test_df.copy()\n",
        "# def replace_polit_names(response_list,names):\n",
        "#     response_list = ' '.join('politname' if i.strip(punctuation) in names else i for i in response_list.split())\n",
        "#     return response_list\n",
        "# start_time = time.time()\n",
        "# test_df['response_text'] = test_df['response_text'].astype(str).apply(replace_polit_names,args=(polit_names_list,))\n",
        "# print(\"minutes to complete:\",(time.time()-start_time)/60)\n",
        "# test_df.head(10)"
      ],
      "execution_count": 0,
      "outputs": []
    },
    {
      "cell_type": "code",
      "metadata": {
        "colab_type": "code",
        "outputId": "e2db9040-2fec-4a64-f25f-9bc2812a3120",
        "id": "AzlJyebg7bVU",
        "colab": {
          "base_uri": "https://localhost:8080/",
          "height": 685
        }
      },
      "source": [
        "# Remove political names from training set (takes about 30 min)\n",
        "from string import punctuation\n",
        "def replace_polit_names(response_list,names):\n",
        "    response_list = ' '.join('politname' if i.strip(punctuation) in names else i for i in response_list.split())\n",
        "    return response_list\n",
        "start_time = time.time()\n",
        "train_df['response_text'] = train_df['response_text'].astype(str).apply(replace_polit_names,args=(polit_names_list,))\n",
        "print(\"minutes to complete:\",(time.time()-start_time)/60)\n",
        "train_df.head(10)"
      ],
      "execution_count": 18,
      "outputs": [
        {
          "output_type": "stream",
          "text": [
            "minutes to complete: 10.930366424719493\n"
          ],
          "name": "stdout"
        },
        {
          "output_type": "stream",
          "text": [
            "/usr/local/lib/python3.6/dist-packages/ipykernel_launcher.py:6: SettingWithCopyWarning: \n",
            "A value is trying to be set on a copy of a slice from a DataFrame.\n",
            "Try using .loc[row_indexer,col_indexer] = value instead\n",
            "\n",
            "See the caveats in the documentation: http://pandas.pydata.org/pandas-docs/stable/user_guide/indexing.html#returning-a-view-versus-a-copy\n",
            "  \n"
          ],
          "name": "stderr"
        },
        {
          "output_type": "execute_result",
          "data": {
            "text/html": [
              "<div>\n",
              "<style scoped>\n",
              "    .dataframe tbody tr th:only-of-type {\n",
              "        vertical-align: middle;\n",
              "    }\n",
              "\n",
              "    .dataframe tbody tr th {\n",
              "        vertical-align: top;\n",
              "    }\n",
              "\n",
              "    .dataframe thead th {\n",
              "        text-align: right;\n",
              "    }\n",
              "</style>\n",
              "<table border=\"1\" class=\"dataframe\">\n",
              "  <thead>\n",
              "    <tr style=\"text-align: right;\">\n",
              "      <th></th>\n",
              "      <th>original_idx</th>\n",
              "      <th>op_id</th>\n",
              "      <th>op_gender</th>\n",
              "      <th>post_id</th>\n",
              "      <th>responder_id</th>\n",
              "      <th>response_text</th>\n",
              "      <th>op_name</th>\n",
              "      <th>op_category</th>\n",
              "      <th>split_response</th>\n",
              "    </tr>\n",
              "  </thead>\n",
              "  <tbody>\n",
              "    <tr>\n",
              "      <th>0</th>\n",
              "      <td>0</td>\n",
              "      <td>57265377</td>\n",
              "      <td>M</td>\n",
              "      <td>0</td>\n",
              "      <td>Jerry</td>\n",
              "      <td>protecting birth is not the same as protecting life. you may very well pledge to the former but ...</td>\n",
              "      <td>Roger Williams</td>\n",
              "      <td>Congress_Republican</td>\n",
              "      <td>[protecting, birth, is, not, the, same, as, protecting, life., you, may, very, well, pledge, to,...</td>\n",
              "    </tr>\n",
              "    <tr>\n",
              "      <th>1</th>\n",
              "      <td>1</td>\n",
              "      <td>57265377</td>\n",
              "      <td>M</td>\n",
              "      <td>0</td>\n",
              "      <td>Andrea</td>\n",
              "      <td>you need to protect children and leave my body to me.</td>\n",
              "      <td>Roger Williams</td>\n",
              "      <td>Congress_Republican</td>\n",
              "      <td>[you, need, to, protect, children, and, leave, my, body, to, me.]</td>\n",
              "    </tr>\n",
              "    <tr>\n",
              "      <th>3</th>\n",
              "      <td>3</td>\n",
              "      <td>57265377</td>\n",
              "      <td>M</td>\n",
              "      <td>0</td>\n",
              "      <td>Bob</td>\n",
              "      <td>thank you politname</td>\n",
              "      <td>Roger Williams</td>\n",
              "      <td>Congress_Republican</td>\n",
              "      <td>[thank, you, roger]</td>\n",
              "    </tr>\n",
              "    <tr>\n",
              "      <th>4</th>\n",
              "      <td>4</td>\n",
              "      <td>57265377</td>\n",
              "      <td>M</td>\n",
              "      <td>0</td>\n",
              "      <td>Joy</td>\n",
              "      <td>unwanted pregnancy is a sad and unfortunate situation for anyone to find themselves in, however,...</td>\n",
              "      <td>Roger Williams</td>\n",
              "      <td>Congress_Republican</td>\n",
              "      <td>[unwanted, pregnancy, is, a, sad, and, unfortunate, situation, for, anyone, to, find, themselves...</td>\n",
              "    </tr>\n",
              "    <tr>\n",
              "      <th>5</th>\n",
              "      <td>5</td>\n",
              "      <td>57265377</td>\n",
              "      <td>M</td>\n",
              "      <td>0</td>\n",
              "      <td>Candice</td>\n",
              "      <td>women, the \"hosts\" of the unborn babies you are so supportive of, need access to healthcare to g...</td>\n",
              "      <td>Roger Williams</td>\n",
              "      <td>Congress_Republican</td>\n",
              "      <td>[women,, the, \"hosts\", of, the, unborn, babies, you, are, so, supportive, of,, need, access, to,...</td>\n",
              "    </tr>\n",
              "    <tr>\n",
              "      <th>6</th>\n",
              "      <td>6</td>\n",
              "      <td>57265377</td>\n",
              "      <td>M</td>\n",
              "      <td>0</td>\n",
              "      <td>Cheri</td>\n",
              "      <td>i am pro choice and always will be</td>\n",
              "      <td>Roger Williams</td>\n",
              "      <td>Congress_Republican</td>\n",
              "      <td>[i, am, pro, choice, and, always, will, be]</td>\n",
              "    </tr>\n",
              "    <tr>\n",
              "      <th>7</th>\n",
              "      <td>7</td>\n",
              "      <td>57265377</td>\n",
              "      <td>M</td>\n",
              "      <td>0</td>\n",
              "      <td>Julie</td>\n",
              "      <td>thank you for taking a stand!!!!</td>\n",
              "      <td>Roger Williams</td>\n",
              "      <td>Congress_Republican</td>\n",
              "      <td>[thank, you, for, taking, a, stand!!!!]</td>\n",
              "    </tr>\n",
              "    <tr>\n",
              "      <th>8</th>\n",
              "      <td>8</td>\n",
              "      <td>57265377</td>\n",
              "      <td>M</td>\n",
              "      <td>0</td>\n",
              "      <td>Stephen</td>\n",
              "      <td>i seem to disagree with you again mr.williams. woman have a right to determine what happens to t...</td>\n",
              "      <td>Roger Williams</td>\n",
              "      <td>Congress_Republican</td>\n",
              "      <td>[i, seem, to, disagree, with, you, again, mr.williams., woman, have, a, right, to, determine, wh...</td>\n",
              "    </tr>\n",
              "    <tr>\n",
              "      <th>9</th>\n",
              "      <td>9</td>\n",
              "      <td>57265377</td>\n",
              "      <td>M</td>\n",
              "      <td>0</td>\n",
              "      <td>Tony</td>\n",
              "      <td>please demonstrate your support by providing pre- and post-natal care to these babies and their ...</td>\n",
              "      <td>Roger Williams</td>\n",
              "      <td>Congress_Republican</td>\n",
              "      <td>[please, demonstrate, your, support, by, providing, pre-, and, post-natal, care, to, these, babi...</td>\n",
              "    </tr>\n",
              "    <tr>\n",
              "      <th>10</th>\n",
              "      <td>10</td>\n",
              "      <td>57265377</td>\n",
              "      <td>M</td>\n",
              "      <td>0</td>\n",
              "      <td>Maria</td>\n",
              "      <td>thank you for protecting the sanctity of precious life .</td>\n",
              "      <td>Roger Williams</td>\n",
              "      <td>Congress_Republican</td>\n",
              "      <td>[thank, you, for, protecting, the, sanctity, of, precious, life, .]</td>\n",
              "    </tr>\n",
              "  </tbody>\n",
              "</table>\n",
              "</div>"
            ],
            "text/plain": [
              "    original_idx  ...                                                                                       split_response\n",
              "0              0  ...  [protecting, birth, is, not, the, same, as, protecting, life., you, may, very, well, pledge, to,...\n",
              "1              1  ...                                    [you, need, to, protect, children, and, leave, my, body, to, me.]\n",
              "3              3  ...                                                                                  [thank, you, roger]\n",
              "4              4  ...  [unwanted, pregnancy, is, a, sad, and, unfortunate, situation, for, anyone, to, find, themselves...\n",
              "5              5  ...  [women,, the, \"hosts\", of, the, unborn, babies, you, are, so, supportive, of,, need, access, to,...\n",
              "6              6  ...                                                          [i, am, pro, choice, and, always, will, be]\n",
              "7              7  ...                                                              [thank, you, for, taking, a, stand!!!!]\n",
              "8              8  ...  [i, seem, to, disagree, with, you, again, mr.williams., woman, have, a, right, to, determine, wh...\n",
              "9              9  ...  [please, demonstrate, your, support, by, providing, pre-, and, post-natal, care, to, these, babi...\n",
              "10            10  ...                                  [thank, you, for, protecting, the, sanctity, of, precious, life, .]\n",
              "\n",
              "[10 rows x 9 columns]"
            ]
          },
          "metadata": {
            "tags": []
          },
          "execution_count": 18
        }
      ]
    },
    {
      "cell_type": "code",
      "metadata": {
        "id": "K95juTqs5nM1",
        "colab_type": "code",
        "outputId": "ee4bc9dc-d448-4f41-f54b-05e1c0f85a72",
        "colab": {
          "base_uri": "https://localhost:8080/",
          "height": 34
        }
      },
      "source": [
        "# Remove 1 and 2 word responses from dev set.\n",
        "# Split response string by spaces.\n",
        "dev_df['split_response'] = dev_df['response_text'].str.split()\n",
        "# Remove the rows wtih split responses that have length 1 or 2.\n",
        "dev_df = dev_df[dev_df['split_response'].str.len() > 2]\n",
        "len(dev_df)"
      ],
      "execution_count": 19,
      "outputs": [
        {
          "output_type": "execute_result",
          "data": {
            "text/plain": [
              "2041945"
            ]
          },
          "metadata": {
            "tags": []
          },
          "execution_count": 19
        }
      ]
    },
    {
      "cell_type": "code",
      "metadata": {
        "id": "WIgLDfF4BtJC",
        "colab_type": "code",
        "outputId": "7cb84b48-4f7f-49b0-c3db-f338de07ccf4",
        "colab": {
          "base_uri": "https://localhost:8080/",
          "height": 529
        }
      },
      "source": [
        "start_time = time.time()\n",
        "dev_df['response_text'] = dev_df['response_text'].astype(str).apply(replace_polit_names,args=(polit_names_list,))\n",
        "print(\"minutes to complete:\",(time.time()-start_time)/60)\n",
        "dev_df.head(10)"
      ],
      "execution_count": 20,
      "outputs": [
        {
          "output_type": "stream",
          "text": [
            "minutes to complete: 6.240710179011027\n"
          ],
          "name": "stdout"
        },
        {
          "output_type": "execute_result",
          "data": {
            "text/html": [
              "<div>\n",
              "<style scoped>\n",
              "    .dataframe tbody tr th:only-of-type {\n",
              "        vertical-align: middle;\n",
              "    }\n",
              "\n",
              "    .dataframe tbody tr th {\n",
              "        vertical-align: top;\n",
              "    }\n",
              "\n",
              "    .dataframe thead th {\n",
              "        text-align: right;\n",
              "    }\n",
              "</style>\n",
              "<table border=\"1\" class=\"dataframe\">\n",
              "  <thead>\n",
              "    <tr style=\"text-align: right;\">\n",
              "      <th></th>\n",
              "      <th>original_idx</th>\n",
              "      <th>op_id</th>\n",
              "      <th>op_gender</th>\n",
              "      <th>post_id</th>\n",
              "      <th>responder_id</th>\n",
              "      <th>response_text</th>\n",
              "      <th>op_name</th>\n",
              "      <th>op_category</th>\n",
              "      <th>split_response</th>\n",
              "    </tr>\n",
              "  </thead>\n",
              "  <tbody>\n",
              "    <tr>\n",
              "      <th>0</th>\n",
              "      <td>1965080</td>\n",
              "      <td>86681682</td>\n",
              "      <td>M</td>\n",
              "      <td>29909</td>\n",
              "      <td>James</td>\n",
              "      <td>thanks for passing this ridiculous legislation. https://www.youtube.com/watch?v=-y4wd8royre</td>\n",
              "      <td>Jim Banks</td>\n",
              "      <td>Congress_Republican</td>\n",
              "      <td>[thanks, for, passing, this, ridiculous, legislation., https://www.youtube.com/watch?v=-y4wd8royre]</td>\n",
              "    </tr>\n",
              "    <tr>\n",
              "      <th>1</th>\n",
              "      <td>1965081</td>\n",
              "      <td>86681682</td>\n",
              "      <td>M</td>\n",
              "      <td>29909</td>\n",
              "      <td>Martha</td>\n",
              "      <td>handsome young man on the left. 😂 mom</td>\n",
              "      <td>Jim Banks</td>\n",
              "      <td>Congress_Republican</td>\n",
              "      <td>[handsome, young, man, on, the, left., 😂, mom]</td>\n",
              "    </tr>\n",
              "    <tr>\n",
              "      <th>2</th>\n",
              "      <td>1965082</td>\n",
              "      <td>86681682</td>\n",
              "      <td>M</td>\n",
              "      <td>29911</td>\n",
              "      <td>Preston</td>\n",
              "      <td>you are sideways!</td>\n",
              "      <td>Jim Banks</td>\n",
              "      <td>Congress_Republican</td>\n",
              "      <td>[you, are, sideways!]</td>\n",
              "    </tr>\n",
              "    <tr>\n",
              "      <th>3</th>\n",
              "      <td>1965083</td>\n",
              "      <td>86681682</td>\n",
              "      <td>M</td>\n",
              "      <td>29911</td>\n",
              "      <td>Bobby</td>\n",
              "      <td>hi congressman banks</td>\n",
              "      <td>Jim Banks</td>\n",
              "      <td>Congress_Republican</td>\n",
              "      <td>[hi, congressman, banks]</td>\n",
              "    </tr>\n",
              "    <tr>\n",
              "      <th>4</th>\n",
              "      <td>1965084</td>\n",
              "      <td>86681682</td>\n",
              "      <td>M</td>\n",
              "      <td>29911</td>\n",
              "      <td>Landon</td>\n",
              "      <td>politname i love your office. the 5th floor is for winners.</td>\n",
              "      <td>Jim Banks</td>\n",
              "      <td>Congress_Republican</td>\n",
              "      <td>[jim,, i, love, your, office., the, 5th, floor, is, for, winners.]</td>\n",
              "    </tr>\n",
              "    <tr>\n",
              "      <th>6</th>\n",
              "      <td>1965086</td>\n",
              "      <td>86681682</td>\n",
              "      <td>M</td>\n",
              "      <td>29911</td>\n",
              "      <td>Sean</td>\n",
              "      <td>it has the penthouse.</td>\n",
              "      <td>Jim Banks</td>\n",
              "      <td>Congress_Republican</td>\n",
              "      <td>[it, has, the, penthouse.]</td>\n",
              "    </tr>\n",
              "    <tr>\n",
              "      <th>7</th>\n",
              "      <td>1965087</td>\n",
              "      <td>86681682</td>\n",
              "      <td>M</td>\n",
              "      <td>29911</td>\n",
              "      <td>Preston</td>\n",
              "      <td>we are thankful for you, mr. banks!</td>\n",
              "      <td>Jim Banks</td>\n",
              "      <td>Congress_Republican</td>\n",
              "      <td>[we, are, thankful, for, you,, mr., banks!]</td>\n",
              "    </tr>\n",
              "    <tr>\n",
              "      <th>10</th>\n",
              "      <td>1965090</td>\n",
              "      <td>86681682</td>\n",
              "      <td>M</td>\n",
              "      <td>29911</td>\n",
              "      <td>Justin</td>\n",
              "      <td>looks like lots of space for activities.</td>\n",
              "      <td>Jim Banks</td>\n",
              "      <td>Congress_Republican</td>\n",
              "      <td>[looks, like, lots, of, space, for, activities.]</td>\n",
              "    </tr>\n",
              "    <tr>\n",
              "      <th>12</th>\n",
              "      <td>1965092</td>\n",
              "      <td>86681682</td>\n",
              "      <td>M</td>\n",
              "      <td>29911</td>\n",
              "      <td>Bobby</td>\n",
              "      <td>my friend tanner</td>\n",
              "      <td>Jim Banks</td>\n",
              "      <td>Congress_Republican</td>\n",
              "      <td>[my, friend, tanner]</td>\n",
              "    </tr>\n",
              "    <tr>\n",
              "      <th>13</th>\n",
              "      <td>1965093</td>\n",
              "      <td>86681682</td>\n",
              "      <td>M</td>\n",
              "      <td>29911</td>\n",
              "      <td>William</td>\n",
              "      <td>nice office, now when are you going to call for an investigation into the possible treasonable o...</td>\n",
              "      <td>Jim Banks</td>\n",
              "      <td>Congress_Republican</td>\n",
              "      <td>[nice, office,, now, when, are, you, going, to, call, for, an, investigation, into, the, possibl...</td>\n",
              "    </tr>\n",
              "  </tbody>\n",
              "</table>\n",
              "</div>"
            ],
            "text/plain": [
              "    original_idx  ...                                                                                       split_response\n",
              "0        1965080  ...  [thanks, for, passing, this, ridiculous, legislation., https://www.youtube.com/watch?v=-y4wd8royre]\n",
              "1        1965081  ...                                                       [handsome, young, man, on, the, left., 😂, mom]\n",
              "2        1965082  ...                                                                                [you, are, sideways!]\n",
              "3        1965083  ...                                                                             [hi, congressman, banks]\n",
              "4        1965084  ...                                   [jim,, i, love, your, office., the, 5th, floor, is, for, winners.]\n",
              "6        1965086  ...                                                                           [it, has, the, penthouse.]\n",
              "7        1965087  ...                                                          [we, are, thankful, for, you,, mr., banks!]\n",
              "10       1965090  ...                                                     [looks, like, lots, of, space, for, activities.]\n",
              "12       1965092  ...                                                                                 [my, friend, tanner]\n",
              "13       1965093  ...  [nice, office,, now, when, are, you, going, to, call, for, an, investigation, into, the, possibl...\n",
              "\n",
              "[10 rows x 9 columns]"
            ]
          },
          "metadata": {
            "tags": []
          },
          "execution_count": 20
        }
      ]
    },
    {
      "cell_type": "code",
      "metadata": {
        "id": "5HOBGFbSn49u",
        "colab_type": "code",
        "colab": {}
      },
      "source": [
        "# Remove the columns of lists.\n",
        "train_df = train_df.drop(['split_response'], axis=1)\n",
        "dev_df = dev_df.drop(['split_response'], axis=1)\n"
      ],
      "execution_count": 0,
      "outputs": []
    },
    {
      "cell_type": "code",
      "metadata": {
        "id": "Zq_4JxJ7o6Yi",
        "colab_type": "code",
        "outputId": "d5d55b9b-f8ff-472e-c9cb-17397cc4a39d",
        "colab": {
          "base_uri": "https://localhost:8080/",
          "height": 34
        }
      },
      "source": [
        "import gc\n",
        "gc.collect()"
      ],
      "execution_count": 22,
      "outputs": [
        {
          "output_type": "execute_result",
          "data": {
            "text/plain": [
              "33"
            ]
          },
          "metadata": {
            "tags": []
          },
          "execution_count": 22
        }
      ]
    },
    {
      "cell_type": "code",
      "metadata": {
        "id": "Zmn4i3bQpbmh",
        "colab_type": "code",
        "colab": {}
      },
      "source": [
        "# Set seeds for reproducible results.\n",
        "from numpy.random import seed\n",
        "seed(1)\n",
        "from tensorflow import set_random_seed\n",
        "set_random_seed(2)"
      ],
      "execution_count": 0,
      "outputs": []
    },
    {
      "cell_type": "code",
      "metadata": {
        "id": "MgZWntiySs0p",
        "colab_type": "code",
        "colab": {}
      },
      "source": [
        "# shuffle the data\n",
        "# be sure to do this before you extract X's and y's!!\n",
        "train_df = new_train_df.sample(frac=1)\n",
        "dev_df = dev_df.sample(frac=1)"
      ],
      "execution_count": 0,
      "outputs": []
    },
    {
      "cell_type": "code",
      "metadata": {
        "id": "1ZJxHTywg7Rq",
        "colab_type": "code",
        "outputId": "25ada72c-975f-46c5-c9fe-c56b9c866360",
        "colab": {
          "base_uri": "https://localhost:8080/",
          "height": 70
        }
      },
      "source": [
        "train_df.op_gender.value_counts()"
      ],
      "execution_count": 25,
      "outputs": [
        {
          "output_type": "execute_result",
          "data": {
            "text/plain": [
              "M    2900753\n",
              "W    1061531\n",
              "Name: op_gender, dtype: int64"
            ]
          },
          "metadata": {
            "tags": []
          },
          "execution_count": 25
        }
      ]
    },
    {
      "cell_type": "code",
      "metadata": {
        "id": "NV45ZdSzp0NJ",
        "colab_type": "code",
        "outputId": "5ad8060c-5211-4250-bc6f-4df6fae97621",
        "colab": {
          "base_uri": "https://localhost:8080/",
          "height": 70
        }
      },
      "source": [
        "dev_df.op_gender.value_counts()"
      ],
      "execution_count": 26,
      "outputs": [
        {
          "output_type": "execute_result",
          "data": {
            "text/plain": [
              "M    1731288\n",
              "W     310657\n",
              "Name: op_gender, dtype: int64"
            ]
          },
          "metadata": {
            "tags": []
          },
          "execution_count": 26
        }
      ]
    },
    {
      "cell_type": "code",
      "metadata": {
        "id": "Pjb6dx8fSs0s",
        "colab_type": "code",
        "colab": {}
      },
      "source": [
        "# Set the y values.\n",
        "y_train = train_df.op_gender.values\n",
        "y_dev = dev_df.op_gender.values"
      ],
      "execution_count": 0,
      "outputs": []
    },
    {
      "cell_type": "code",
      "metadata": {
        "id": "pBCoPKh_Ss0v",
        "colab_type": "code",
        "colab": {}
      },
      "source": [
        "# Turn y values into 0 (female) and 1 (male).\n",
        "def turn_to_ints(li):\n",
        "    final_list = []\n",
        "    for gender in li:\n",
        "        if gender=='M':\n",
        "            final_list.append(1)\n",
        "        else:\n",
        "            final_list.append(0)\n",
        "    return final_list\n",
        "            \n",
        "y_train = turn_to_ints(y_train)\n",
        "y_dev = turn_to_ints(y_dev)"
      ],
      "execution_count": 0,
      "outputs": []
    },
    {
      "cell_type": "code",
      "metadata": {
        "id": "hN9GFz6xSs0y",
        "colab_type": "code",
        "colab": {}
      },
      "source": [
        "# Convert y values to numpy arrays.\n",
        "y_train = np.asarray(y_train)\n",
        "y_dev = np.asarray(y_dev)"
      ],
      "execution_count": 0,
      "outputs": []
    },
    {
      "cell_type": "code",
      "metadata": {
        "id": "ChYxh6oPSs04",
        "colab_type": "code",
        "colab": {}
      },
      "source": [
        "def get_text_list(init_list):\n",
        "    sentences = []\n",
        "    for sentence in init_list:\n",
        "        if type(sentence) != str:\n",
        "            sentences.append(\"\")\n",
        "        else:\n",
        "            sentences.append(sentence)\n",
        "    return sentences\n",
        "\n",
        "new_sentences_train = get_text_list(train_df.response_text.values) \n",
        "new_sentences_test = get_text_list(dev_df.response_text.values)"
      ],
      "execution_count": 0,
      "outputs": []
    },
    {
      "cell_type": "code",
      "metadata": {
        "id": "1b9SE7SjSs06",
        "colab_type": "code",
        "outputId": "b0ed78a9-80e3-46f0-fd91-9ae3a73cc867",
        "colab": {
          "base_uri": "https://localhost:8080/",
          "height": 34
        }
      },
      "source": [
        "# Tokenize the sentences.\n",
        "time_start = time.time()\n",
        "\n",
        "# this is the default list of filters + apostrophe\n",
        "# added because we have dealt with common contractions, so other apostrophes should mostly be possessive \n",
        "tokenizer = Tokenizer(num_words=200000, filters='!\"\\'#$%&()*+,-./:;<=>?@[\\\\]^_`{|}~\\t\\n')\n",
        "tokenizer.fit_on_texts(new_sentences_train)\n",
        "\n",
        "X_train = tokenizer.texts_to_sequences(new_sentences_train)\n",
        "X_test = tokenizer.texts_to_sequences(new_sentences_test)\n",
        "\n",
        "vocab_size = len(tokenizer.word_index) + 1\n",
        "\n",
        "currentTime = time.gmtime(time.time() - time_start)\n",
        "\n",
        "#Convert the gmtime struct to a string\n",
        "timeStr = time.strftime(\"%M minutes, %S seconds\", currentTime)\n",
        "\n",
        "print(\"Tokenized in {}\".format(timeStr))"
      ],
      "execution_count": 31,
      "outputs": [
        {
          "output_type": "stream",
          "text": [
            "Tokenized in 05 minutes, 24 seconds\n"
          ],
          "name": "stdout"
        }
      ]
    },
    {
      "cell_type": "code",
      "metadata": {
        "id": "TyZMBAiySs0-",
        "colab_type": "code",
        "colab": {}
      },
      "source": [
        "# Pad the tokenized data so all sequences are the same length; see first cell for max length.\n",
        "# Length should be the same as in shortened response length above...\n",
        "from keras.preprocessing.sequence import pad_sequences\n",
        "\n",
        "X_train = pad_sequences(X_train, padding='post', maxlen=MAX_SEQUENCE_LENGTH)\n",
        "X_test = pad_sequences(X_test, padding='post', maxlen=MAX_SEQUENCE_LENGTH)"
      ],
      "execution_count": 0,
      "outputs": []
    },
    {
      "cell_type": "code",
      "metadata": {
        "id": "LGl1S3HySs1G",
        "colab_type": "code",
        "colab": {}
      },
      "source": [
        "if SAVE_TOKENIZED_DATA:\n",
        "  x_train_path = 'X_train_{}.pkl'.format(DATASET_NAME)\n",
        "  x_dev_path = 'X_dev_{}.pkl'.format(DATASET_NAME)\n",
        "  y_train_path = 'y_train_{}.pkl'.format(DATASET_NAME)\n",
        "  y_dev_path = 'y_dev_{}.pkl'.format(DATASET_NAME)\n",
        "\n",
        "  with open(x_train_path, 'wb') as file:\n",
        "      pickle.dump(X_train, file)   \n",
        "  with open(x_dev_path, 'wb') as file:\n",
        "      pickle.dump(X_test, file)\n",
        "  with open(y_train_path, 'wb') as file:\n",
        "      pickle.dump(y_train, file)\n",
        "  with open(y_dev_path, 'wb') as file:\n",
        "      pickle.dump(y_dev, file)\n",
        "\n",
        "  # copy to bucket\n",
        "  !gsutil cp /content/{x_train_path} gs://fb-congressional-data/test\n",
        "  !gsutil cp /content/{x_dev_path} gs://fb-congressional-data/\n",
        "  !gsutil cp /content/{y_train_path} gs://fb-congressional-data/\n",
        "  !gsutil cp /content/{y_dev_path} gs://fb-congressional-data/"
      ],
      "execution_count": 0,
      "outputs": []
    },
    {
      "cell_type": "code",
      "metadata": {
        "id": "s5AeCFGIuKIR",
        "colab_type": "code",
        "outputId": "fc54bd47-c525-4e54-b138-8f4b90c063c7",
        "colab": {
          "base_uri": "https://localhost:8080/",
          "height": 246
        }
      },
      "source": [
        "# Get the glove embeddings.\n",
        "!gsutil cp gs://fb-congressional-data/glove* /tmp/"
      ],
      "execution_count": 34,
      "outputs": [
        {
          "output_type": "stream",
          "text": [
            "Copying gs://fb-congressional-data/glove.6B.100d.txt...\n",
            "Copying gs://fb-congressional-data/glove.6B.200d.txt...\n",
            "Copying gs://fb-congressional-data/glove.6B.300d.txt...\n",
            "Copying gs://fb-congressional-data/glove.6B.50d.txt...\n",
            "/ [4 files][  2.1 GiB/  2.1 GiB]    5.8 MiB/s                                   \n",
            "==> NOTE: You are performing a sequence of gsutil operations that may\n",
            "run significantly faster if you instead use gsutil -m cp ... Please\n",
            "see the -m section under \"gsutil help options\" for further information\n",
            "about when gsutil -m can be advantageous.\n",
            "\n",
            "Copying gs://fb-congressional-data/glove.6B.zip...\n",
            "-\n",
            "Operation completed over 5 objects/2.9 GiB.                                      \n"
          ],
          "name": "stdout"
        }
      ]
    },
    {
      "cell_type": "code",
      "metadata": {
        "id": "ae5EQ7vbSs1L",
        "colab_type": "code",
        "colab": {}
      },
      "source": [
        "def create_embedding_matrix(filepath, word_index, embedding_dim):\n",
        "    vocab_size = len(word_index) + 1  # Adding again 1 because of reserved 0 index\n",
        "    embedding_matrix = np.zeros((vocab_size, embedding_dim))\n",
        "\n",
        "    with open(filepath) as f:\n",
        "        for line in f:\n",
        "            word, *vector = line.split()\n",
        "            if word in word_index:\n",
        "                idx = word_index[word] \n",
        "                embedding_matrix[idx] = np.array(\n",
        "                    vector, dtype=np.float32)[:embedding_dim]\n",
        "\n",
        "    return embedding_matrix\n",
        "\n",
        "embedding_dim = 100\n",
        "embedding_matrix = create_embedding_matrix(\n",
        "                     '/tmp/glove.6B.{}d.txt'.format(embedding_dim),\n",
        "                      tokenizer.word_index, embedding_dim)"
      ],
      "execution_count": 0,
      "outputs": []
    },
    {
      "cell_type": "code",
      "metadata": {
        "id": "kUTvp7yfut-7",
        "colab_type": "code",
        "colab": {}
      },
      "source": [
        "# trying to figure out which words are empty here\n",
        "# counter = 0\n",
        "# empty_indexes = []\n",
        "# for index, row in enumerate(embedding_matrix):\n",
        "#   if sum(row) == 0:\n",
        "#     empty_indexes.append(index)\n",
        "#     counter += 1\n",
        "#   if counter > 1000:\n",
        "#     break\n",
        "\n",
        "# for idx in empty_indexes:\n",
        "#   try:\n",
        "#     print(tokenizer.index_word[idx])\n",
        "#   except:\n",
        "#     print(\"No entry for {}\".format(idx))\n"
      ],
      "execution_count": 0,
      "outputs": []
    },
    {
      "cell_type": "code",
      "metadata": {
        "id": "UI5vn5zBSs1P",
        "colab_type": "code",
        "colab": {}
      },
      "source": [
        "# hmmmm....\n",
        "# nonzero_elements = np.count_nonzero(np.count_nonzero(embedding_matrix, axis=1))\n",
        "# nonzero_elements / vocab_size"
      ],
      "execution_count": 0,
      "outputs": []
    },
    {
      "cell_type": "code",
      "metadata": {
        "id": "EJtNke4FSs1X",
        "colab_type": "code",
        "outputId": "41a34a06-2e76-4957-ac40-988774fa6df7",
        "colab": {
          "base_uri": "https://localhost:8080/",
          "height": 34
        }
      },
      "source": [
        "embedding_matrix.shape"
      ],
      "execution_count": 37,
      "outputs": [
        {
          "output_type": "execute_result",
          "data": {
            "text/plain": [
              "(597017, 100)"
            ]
          },
          "metadata": {
            "tags": []
          },
          "execution_count": 37
        }
      ]
    },
    {
      "cell_type": "code",
      "metadata": {
        "id": "tb_yr2R9Ss1d",
        "colab_type": "code",
        "outputId": "f8a7aecd-4a3e-419f-fe85-2d751478e400",
        "colab": {
          "base_uri": "https://localhost:8080/",
          "height": 512
        }
      },
      "source": [
        "# Initialize the model.\n",
        "model = Sequential()\n",
        "model.add(layers.Embedding(vocab_size, embedding_dim, \n",
        "                           weights=[embedding_matrix], \n",
        "                           input_length=MAX_SEQUENCE_LENGTH, \n",
        "                           trainable=False))\n",
        "model.add(layers.Conv1D(128, 5, activation='relu'))\n",
        "model.add(layers.GlobalMaxPooling1D())\n",
        "model.add(layers.Dense(10, activation='relu'))\n",
        "model.add(layers.Dense(1, activation='sigmoid'))\n",
        "model.compile(optimizer='adam',\n",
        "              loss='binary_crossentropy',\n",
        "              metrics=['accuracy'])\n",
        "model.summary()"
      ],
      "execution_count": 38,
      "outputs": [
        {
          "output_type": "stream",
          "text": [
            "WARNING:tensorflow:From /usr/local/lib/python3.6/dist-packages/tensorflow_core/python/keras/initializers.py:119: calling RandomUniform.__init__ (from tensorflow.python.ops.init_ops) with dtype is deprecated and will be removed in a future version.\n",
            "Instructions for updating:\n",
            "Call initializer instance with the dtype argument instead of passing it to the constructor\n",
            "WARNING:tensorflow:From /usr/local/lib/python3.6/dist-packages/tensorflow_core/python/ops/resource_variable_ops.py:1630: calling BaseResourceVariable.__init__ (from tensorflow.python.ops.resource_variable_ops) with constraint is deprecated and will be removed in a future version.\n",
            "Instructions for updating:\n",
            "If using Keras pass *_constraint arguments to layers.\n",
            "WARNING:tensorflow:From /usr/local/lib/python3.6/dist-packages/tensorflow_core/python/ops/nn_impl.py:183: where (from tensorflow.python.ops.array_ops) is deprecated and will be removed in a future version.\n",
            "Instructions for updating:\n",
            "Use tf.where in 2.0, which has the same broadcast rule as np.where\n",
            "Model: \"sequential\"\n",
            "_________________________________________________________________\n",
            "Layer (type)                 Output Shape              Param #   \n",
            "=================================================================\n",
            "embedding (Embedding)        (None, 20, 100)           59701700  \n",
            "_________________________________________________________________\n",
            "conv1d (Conv1D)              (None, 16, 128)           64128     \n",
            "_________________________________________________________________\n",
            "global_max_pooling1d (Global (None, 128)               0         \n",
            "_________________________________________________________________\n",
            "dense (Dense)                (None, 10)                1290      \n",
            "_________________________________________________________________\n",
            "dense_1 (Dense)              (None, 1)                 11        \n",
            "=================================================================\n",
            "Total params: 59,767,129\n",
            "Trainable params: 65,429\n",
            "Non-trainable params: 59,701,700\n",
            "_________________________________________________________________\n"
          ],
          "name": "stdout"
        }
      ]
    },
    {
      "cell_type": "code",
      "metadata": {
        "id": "U_9KWVWHAAE3",
        "colab_type": "code",
        "colab": {}
      },
      "source": [
        "smaller_X_train = X_train[:TRAINING_SET_SIZE]"
      ],
      "execution_count": 0,
      "outputs": []
    },
    {
      "cell_type": "code",
      "metadata": {
        "id": "t6gn7HvuAGgQ",
        "colab_type": "code",
        "colab": {}
      },
      "source": [
        "smaller_y_train = y_train[:TRAINING_SET_SIZE]"
      ],
      "execution_count": 0,
      "outputs": []
    },
    {
      "cell_type": "code",
      "metadata": {
        "id": "uf5R6UpGDW_y",
        "colab_type": "code",
        "colab": {}
      },
      "source": [
        "smaller_X_dev = X_test[:VAL_SET_SIZE]\n",
        "smaller_y_dev = y_dev[:VAL_SET_SIZE]"
      ],
      "execution_count": 0,
      "outputs": []
    },
    {
      "cell_type": "code",
      "metadata": {
        "id": "M4dbwlaxSs1l",
        "colab_type": "code",
        "outputId": "44dec7a4-d144-40d5-9639-878cc6300d36",
        "colab": {
          "base_uri": "https://localhost:8080/",
          "height": 756
        }
      },
      "source": [
        "# Run the model.\n",
        "try:\n",
        "  time_start = time.time()\n",
        "\n",
        "  history = model.fit(X_train, y_train,\n",
        "                      epochs=20,\n",
        "                      verbose=True,\n",
        "                      validation_data=(smaller_X_dev, smaller_y_dev),\n",
        "                      batch_size=BATCH_SIZE)\n",
        "\n",
        "  currentTime = time.gmtime(time.time() - time_start)\n",
        "\n",
        "  #Convert the gmtime struct to a string\n",
        "  timeStr = time.strftime(\"%M minutes, %S seconds\", currentTime)\n",
        "\n",
        "  print(\"Trained in {}\".format(timeStr))\n",
        "\n",
        "except:\n",
        "  currentTime = time.gmtime(time.time() - time_start)\n",
        "\n",
        "  #Convert the gmtime struct to a string\n",
        "  timeStr = time.strftime(\"%M minutes, %S seconds\", currentTime)\n",
        "\n",
        "  print(\"Trained in {}\".format(timeStr))  "
      ],
      "execution_count": 42,
      "outputs": [
        {
          "output_type": "stream",
          "text": [
            "Train on 3962284 samples, validate on 2000000 samples\n",
            "Epoch 1/20\n",
            "3962284/3962284 [==============================] - 106s 27us/sample - loss: 0.5190 - acc: 0.7636 - val_loss: 0.4547 - val_acc: 0.8393\n",
            "Epoch 2/20\n",
            "3962284/3962284 [==============================] - 105s 26us/sample - loss: 0.5030 - acc: 0.7711 - val_loss: 0.4470 - val_acc: 0.8416\n",
            "Epoch 3/20\n",
            "3962284/3962284 [==============================] - 107s 27us/sample - loss: 0.4979 - acc: 0.7734 - val_loss: 0.4507 - val_acc: 0.8384\n",
            "Epoch 4/20\n",
            "3962284/3962284 [==============================] - 106s 27us/sample - loss: 0.4948 - acc: 0.7746 - val_loss: 0.4466 - val_acc: 0.8405\n",
            "Epoch 5/20\n",
            "3962284/3962284 [==============================] - 105s 26us/sample - loss: 0.4926 - acc: 0.7756 - val_loss: 0.4545 - val_acc: 0.8339\n",
            "Epoch 6/20\n",
            "3962284/3962284 [==============================] - 104s 26us/sample - loss: 0.4908 - acc: 0.7761 - val_loss: 0.4513 - val_acc: 0.8360\n",
            "Epoch 7/20\n",
            "3962284/3962284 [==============================] - 106s 27us/sample - loss: 0.4894 - acc: 0.7769 - val_loss: 0.4595 - val_acc: 0.8339\n",
            "Epoch 8/20\n",
            "3962284/3962284 [==============================] - 116s 29us/sample - loss: 0.4882 - acc: 0.7774 - val_loss: 0.4405 - val_acc: 0.8416\n",
            "Epoch 9/20\n",
            "3962284/3962284 [==============================] - 117s 29us/sample - loss: 0.4870 - acc: 0.7778 - val_loss: 0.4537 - val_acc: 0.8342\n",
            "Epoch 10/20\n",
            "3962284/3962284 [==============================] - 117s 29us/sample - loss: 0.4862 - acc: 0.7782 - val_loss: 0.4539 - val_acc: 0.8363\n",
            "Epoch 11/20\n",
            "3962284/3962284 [==============================] - 111s 28us/sample - loss: 0.4854 - acc: 0.7785 - val_loss: 0.4591 - val_acc: 0.8309\n",
            "Epoch 12/20\n",
            "3962284/3962284 [==============================] - 108s 27us/sample - loss: 0.4846 - acc: 0.7787 - val_loss: 0.4512 - val_acc: 0.8338\n",
            "Epoch 13/20\n",
            "3962284/3962284 [==============================] - 109s 27us/sample - loss: 0.4841 - acc: 0.7790 - val_loss: 0.4522 - val_acc: 0.8339\n",
            "Epoch 14/20\n",
            "3962284/3962284 [==============================] - 106s 27us/sample - loss: 0.4835 - acc: 0.7792 - val_loss: 0.4596 - val_acc: 0.8286\n",
            "Epoch 15/20\n",
            "3962284/3962284 [==============================] - 103s 26us/sample - loss: 0.4830 - acc: 0.7796 - val_loss: 0.4491 - val_acc: 0.8382\n",
            "Epoch 16/20\n",
            "3962284/3962284 [==============================] - 104s 26us/sample - loss: 0.4825 - acc: 0.7798 - val_loss: 0.4571 - val_acc: 0.8323\n",
            "Epoch 17/20\n",
            "3962284/3962284 [==============================] - 103s 26us/sample - loss: 0.4820 - acc: 0.7800 - val_loss: 0.4547 - val_acc: 0.8320\n",
            "Epoch 18/20\n",
            "3962284/3962284 [==============================] - 103s 26us/sample - loss: 0.4816 - acc: 0.7801 - val_loss: 0.4474 - val_acc: 0.8346\n",
            "Epoch 19/20\n",
            "3962284/3962284 [==============================] - 104s 26us/sample - loss: 0.4812 - acc: 0.7803 - val_loss: 0.4609 - val_acc: 0.8331\n",
            "Epoch 20/20\n",
            "3962284/3962284 [==============================] - 103s 26us/sample - loss: 0.4809 - acc: 0.7804 - val_loss: 0.4502 - val_acc: 0.8365\n",
            "Trained in 35 minutes, 41 seconds\n"
          ],
          "name": "stdout"
        }
      ]
    },
    {
      "cell_type": "code",
      "metadata": {
        "id": "h4P5Y5wgSs1o",
        "colab_type": "code",
        "outputId": "de867b3a-ffb8-413c-a2a6-4b2da7be8201",
        "colab": {
          "base_uri": "https://localhost:8080/",
          "height": 52
        }
      },
      "source": [
        "loss, accuracy = model.evaluate(X_train, y_train, verbose=False)\n",
        "print(\"Training Accuracy: {:.4f}\".format(accuracy))\n",
        "loss, accuracy = model.evaluate(X_test, y_dev, verbose=False)\n",
        "print(\"Testing Accuracy:  {:.4f}\".format(accuracy))\n"
      ],
      "execution_count": 43,
      "outputs": [
        {
          "output_type": "stream",
          "text": [
            "Training Accuracy: 0.7817\n",
            "Testing Accuracy:  0.8365\n"
          ],
          "name": "stdout"
        }
      ]
    },
    {
      "cell_type": "code",
      "metadata": {
        "id": "zZanpp-O9oiz",
        "colab_type": "code",
        "outputId": "8ef38f6d-da9e-4156-b34d-04ec5725c2ea",
        "colab": {
          "base_uri": "https://localhost:8080/",
          "height": 34
        }
      },
      "source": [
        "# ROC AUC\n",
        "from sklearn.metrics import roc_auc_score\n",
        "# predict probabilities for test set\n",
        "yhat_probs = model.predict(X_test, verbose=0)\n",
        "# reduce to 1d array\n",
        "yhat_probs = yhat_probs[:,0]\n",
        "auc = roc_auc_score(y_dev, yhat_probs)\n",
        "print('ROC AUC:', auc)\n"
      ],
      "execution_count": 44,
      "outputs": [
        {
          "output_type": "stream",
          "text": [
            "ROC AUC: 0.6054841060749251\n"
          ],
          "name": "stdout"
        }
      ]
    },
    {
      "cell_type": "code",
      "metadata": {
        "id": "L5G9XjaGJh-T",
        "colab_type": "code",
        "colab": {}
      },
      "source": [
        "# can't get this to work\n",
        "# plot_model(history)"
      ],
      "execution_count": 0,
      "outputs": []
    },
    {
      "cell_type": "code",
      "metadata": {
        "id": "ccL7n659KbQ-",
        "colab_type": "code",
        "colab": {}
      },
      "source": [
        "preds = yhat_probs # model.predict(X_test)"
      ],
      "execution_count": 0,
      "outputs": []
    },
    {
      "cell_type": "code",
      "metadata": {
        "id": "lhpB8QsgGMZ5",
        "colab_type": "code",
        "colab": {}
      },
      "source": [
        "dev_df['probs'] = preds"
      ],
      "execution_count": 0,
      "outputs": []
    },
    {
      "cell_type": "code",
      "metadata": {
        "id": "1T2IxdCMGf2e",
        "colab_type": "code",
        "colab": {}
      },
      "source": [
        "def pred_to_label(row):\n",
        "  if row['probs'] >= .5:\n",
        "    return 'M'\n",
        "  else:\n",
        "    return 'W'\n",
        "\n",
        "dev_df['preds'] = dev_df.apply(pred_to_label, axis=1)"
      ],
      "execution_count": 0,
      "outputs": []
    },
    {
      "cell_type": "code",
      "metadata": {
        "id": "NzbasnNWGg5J",
        "colab_type": "code",
        "colab": {}
      },
      "source": [
        "wrong_preds = dev_df[dev_df.op_gender!=dev_df.preds]"
      ],
      "execution_count": 0,
      "outputs": []
    },
    {
      "cell_type": "code",
      "metadata": {
        "id": "nAYve8ZhG7wt",
        "colab_type": "code",
        "outputId": "6502f62a-4cd8-42f8-b58e-6bbed32cfce5",
        "colab": {
          "base_uri": "https://localhost:8080/",
          "height": 70
        }
      },
      "source": [
        "wrong_preds.op_gender.value_counts()"
      ],
      "execution_count": 50,
      "outputs": [
        {
          "output_type": "execute_result",
          "data": {
            "text/plain": [
              "W    285802\n",
              "M     48115\n",
              "Name: op_gender, dtype: int64"
            ]
          },
          "metadata": {
            "tags": []
          },
          "execution_count": 50
        }
      ]
    },
    {
      "cell_type": "code",
      "metadata": {
        "id": "NJJrm2LxHFzN",
        "colab_type": "code",
        "outputId": "8f7825f8-7ada-4d3d-f5e3-ad19a70de66d",
        "colab": {
          "base_uri": "https://localhost:8080/",
          "height": 34
        }
      },
      "source": [
        "# total proportion of preds for women\n",
        "dev_df.preds.value_counts()['W'] / len(dev_df)"
      ],
      "execution_count": 51,
      "outputs": [
        {
          "output_type": "execute_result",
          "data": {
            "text/plain": [
              "0.035735536461559934"
            ]
          },
          "metadata": {
            "tags": []
          },
          "execution_count": 51
        }
      ]
    },
    {
      "cell_type": "code",
      "metadata": {
        "id": "SxFooJUbHVUB",
        "colab_type": "code",
        "outputId": "64c7d270-19cb-46e0-9f6f-bf7be1f09c7a",
        "colab": {
          "base_uri": "https://localhost:8080/",
          "height": 858
        }
      },
      "source": [
        "#random sample of mistakes\n",
        "wrong_preds.head(20)"
      ],
      "execution_count": 52,
      "outputs": [
        {
          "output_type": "execute_result",
          "data": {
            "text/html": [
              "<div>\n",
              "<style scoped>\n",
              "    .dataframe tbody tr th:only-of-type {\n",
              "        vertical-align: middle;\n",
              "    }\n",
              "\n",
              "    .dataframe tbody tr th {\n",
              "        vertical-align: top;\n",
              "    }\n",
              "\n",
              "    .dataframe thead th {\n",
              "        text-align: right;\n",
              "    }\n",
              "</style>\n",
              "<table border=\"1\" class=\"dataframe\">\n",
              "  <thead>\n",
              "    <tr style=\"text-align: right;\">\n",
              "      <th></th>\n",
              "      <th>original_idx</th>\n",
              "      <th>op_id</th>\n",
              "      <th>op_gender</th>\n",
              "      <th>post_id</th>\n",
              "      <th>responder_id</th>\n",
              "      <th>response_text</th>\n",
              "      <th>op_name</th>\n",
              "      <th>op_category</th>\n",
              "      <th>probs</th>\n",
              "      <th>preds</th>\n",
              "    </tr>\n",
              "  </thead>\n",
              "  <tbody>\n",
              "    <tr>\n",
              "      <th>2060436</th>\n",
              "      <td>11200190</td>\n",
              "      <td>48870736</td>\n",
              "      <td>W</td>\n",
              "      <td>394386</td>\n",
              "      <td>Grant</td>\n",
              "      <td>aca raised my health care from $600 to $1,600 per month. it is anything but affordable. politnam...</td>\n",
              "      <td>Betty McCollum</td>\n",
              "      <td>Congress_Democratic</td>\n",
              "      <td>0.794775</td>\n",
              "      <td>M</td>\n",
              "    </tr>\n",
              "    <tr>\n",
              "      <th>1983886</th>\n",
              "      <td>11033278</td>\n",
              "      <td>86569077</td>\n",
              "      <td>W</td>\n",
              "      <td>389881</td>\n",
              "      <td>Deanna</td>\n",
              "      <td>i like the idea of paid fml but i would much rather see employers raise employees income overall...</td>\n",
              "      <td>Kirsten Gillibrand</td>\n",
              "      <td>Congress_Democratic</td>\n",
              "      <td>0.753927</td>\n",
              "      <td>M</td>\n",
              "    </tr>\n",
              "    <tr>\n",
              "      <th>2022583</th>\n",
              "      <td>11071975</td>\n",
              "      <td>86569077</td>\n",
              "      <td>W</td>\n",
              "      <td>390238</td>\n",
              "      <td>Matt</td>\n",
              "      <td>thank you politname running after the latest headlines !</td>\n",
              "      <td>Kirsten Gillibrand</td>\n",
              "      <td>Congress_Democratic</td>\n",
              "      <td>0.728835</td>\n",
              "      <td>M</td>\n",
              "    </tr>\n",
              "    <tr>\n",
              "      <th>1924717</th>\n",
              "      <td>10974109</td>\n",
              "      <td>86569077</td>\n",
              "      <td>W</td>\n",
              "      <td>389341</td>\n",
              "      <td>Raelee</td>\n",
              "      <td>thank you so much for committing to voting against betsy devos.</td>\n",
              "      <td>Kirsten Gillibrand</td>\n",
              "      <td>Congress_Democratic</td>\n",
              "      <td>0.593450</td>\n",
              "      <td>M</td>\n",
              "    </tr>\n",
              "    <tr>\n",
              "      <th>2037193</th>\n",
              "      <td>11086585</td>\n",
              "      <td>86569077</td>\n",
              "      <td>W</td>\n",
              "      <td>390472</td>\n",
              "      <td>Dwight</td>\n",
              "      <td>mmmm lets see here donna karan, fashion designer and the creator of the donna karan new york and...</td>\n",
              "      <td>Kirsten Gillibrand</td>\n",
              "      <td>Congress_Democratic</td>\n",
              "      <td>0.749570</td>\n",
              "      <td>M</td>\n",
              "    </tr>\n",
              "    <tr>\n",
              "      <th>2037981</th>\n",
              "      <td>11087373</td>\n",
              "      <td>86569077</td>\n",
              "      <td>W</td>\n",
              "      <td>390484</td>\n",
              "      <td>Ron</td>\n",
              "      <td>i have no problem with ending the subsidies, but i also do not mind paying more for all goods. g...</td>\n",
              "      <td>Kirsten Gillibrand</td>\n",
              "      <td>Congress_Democratic</td>\n",
              "      <td>0.847581</td>\n",
              "      <td>M</td>\n",
              "    </tr>\n",
              "    <tr>\n",
              "      <th>435979</th>\n",
              "      <td>3580654</td>\n",
              "      <td>84716153</td>\n",
              "      <td>M</td>\n",
              "      <td>122244</td>\n",
              "      <td>Donnie</td>\n",
              "      <td>so senator, how much has she contributed to your campaign? $$$$</td>\n",
              "      <td>Jeff Flake</td>\n",
              "      <td>Congress_Republican</td>\n",
              "      <td>0.062909</td>\n",
              "      <td>W</td>\n",
              "    </tr>\n",
              "    <tr>\n",
              "      <th>2113460</th>\n",
              "      <td>11254440</td>\n",
              "      <td>77234050</td>\n",
              "      <td>W</td>\n",
              "      <td>399626</td>\n",
              "      <td>Debra</td>\n",
              "      <td>cecile charles i posted the table for you - it is for wa state</td>\n",
              "      <td>Cathy McMorris Rodgers</td>\n",
              "      <td>Congress_Republican</td>\n",
              "      <td>0.584335</td>\n",
              "      <td>M</td>\n",
              "    </tr>\n",
              "    <tr>\n",
              "      <th>2153417</th>\n",
              "      <td>11294397</td>\n",
              "      <td>77234050</td>\n",
              "      <td>W</td>\n",
              "      <td>400418</td>\n",
              "      <td>Hugh</td>\n",
              "      <td>former marine thanks you.</td>\n",
              "      <td>Cathy McMorris Rodgers</td>\n",
              "      <td>Congress_Republican</td>\n",
              "      <td>0.848941</td>\n",
              "      <td>M</td>\n",
              "    </tr>\n",
              "    <tr>\n",
              "      <th>2124542</th>\n",
              "      <td>11265522</td>\n",
              "      <td>77234050</td>\n",
              "      <td>W</td>\n",
              "      <td>399735</td>\n",
              "      <td>Robi</td>\n",
              "      <td>keep fighting the good fight</td>\n",
              "      <td>Cathy McMorris Rodgers</td>\n",
              "      <td>Congress_Republican</td>\n",
              "      <td>0.749886</td>\n",
              "      <td>M</td>\n",
              "    </tr>\n",
              "    <tr>\n",
              "      <th>432281</th>\n",
              "      <td>3365516</td>\n",
              "      <td>76269753</td>\n",
              "      <td>W</td>\n",
              "      <td>103764</td>\n",
              "      <td>Eddie</td>\n",
              "      <td>automatic weapons are already controlled under the nfa.</td>\n",
              "      <td>Dianne Feinstein</td>\n",
              "      <td>Congress_Democratic</td>\n",
              "      <td>0.903166</td>\n",
              "      <td>M</td>\n",
              "    </tr>\n",
              "    <tr>\n",
              "      <th>2017558</th>\n",
              "      <td>11066950</td>\n",
              "      <td>86569077</td>\n",
              "      <td>W</td>\n",
              "      <td>390153</td>\n",
              "      <td>Dwight</td>\n",
              "      <td>lockheed martin is laying off 123,000 workers just weeks before christmas. &gt; this needs to go fa...</td>\n",
              "      <td>Kirsten Gillibrand</td>\n",
              "      <td>Congress_Democratic</td>\n",
              "      <td>0.880702</td>\n",
              "      <td>M</td>\n",
              "    </tr>\n",
              "    <tr>\n",
              "      <th>1259523</th>\n",
              "      <td>7583337</td>\n",
              "      <td>54387439</td>\n",
              "      <td>M</td>\n",
              "      <td>291233</td>\n",
              "      <td>Craig</td>\n",
              "      <td>we need you in massachusetts politname</td>\n",
              "      <td>Ryan Zinke</td>\n",
              "      <td>Congress_Republican</td>\n",
              "      <td>0.276261</td>\n",
              "      <td>W</td>\n",
              "    </tr>\n",
              "    <tr>\n",
              "      <th>1912508</th>\n",
              "      <td>10961900</td>\n",
              "      <td>86569077</td>\n",
              "      <td>W</td>\n",
              "      <td>389338</td>\n",
              "      <td>Elizabeth</td>\n",
              "      <td>thank you, sen. politname</td>\n",
              "      <td>Kirsten Gillibrand</td>\n",
              "      <td>Congress_Democratic</td>\n",
              "      <td>0.859111</td>\n",
              "      <td>M</td>\n",
              "    </tr>\n",
              "    <tr>\n",
              "      <th>1987322</th>\n",
              "      <td>11036714</td>\n",
              "      <td>86569077</td>\n",
              "      <td>W</td>\n",
              "      <td>389924</td>\n",
              "      <td>Greg</td>\n",
              "      <td>the tea party stands for fiscal responsibility, constitutionally limited government, and free ma...</td>\n",
              "      <td>Kirsten Gillibrand</td>\n",
              "      <td>Congress_Democratic</td>\n",
              "      <td>0.732679</td>\n",
              "      <td>M</td>\n",
              "    </tr>\n",
              "    <tr>\n",
              "      <th>2191885</th>\n",
              "      <td>11752862</td>\n",
              "      <td>74450840</td>\n",
              "      <td>W</td>\n",
              "      <td>422872</td>\n",
              "      <td>Sabrina</td>\n",
              "      <td>we all have freedom of speech or expression thanks to those who serve our great country</td>\n",
              "      <td>Terri Sewell</td>\n",
              "      <td>Congress_Democratic</td>\n",
              "      <td>0.771916</td>\n",
              "      <td>M</td>\n",
              "    </tr>\n",
              "    <tr>\n",
              "      <th>2103328</th>\n",
              "      <td>11244308</td>\n",
              "      <td>77234050</td>\n",
              "      <td>W</td>\n",
              "      <td>399374</td>\n",
              "      <td>Debra</td>\n",
              "      <td>how much of this oil is going to fill our american tanks??? how much is our prices going to be a...</td>\n",
              "      <td>Cathy McMorris Rodgers</td>\n",
              "      <td>Congress_Republican</td>\n",
              "      <td>0.813082</td>\n",
              "      <td>M</td>\n",
              "    </tr>\n",
              "    <tr>\n",
              "      <th>2013103</th>\n",
              "      <td>11062495</td>\n",
              "      <td>86569077</td>\n",
              "      <td>W</td>\n",
              "      <td>390125</td>\n",
              "      <td>Shelli</td>\n",
              "      <td>bill, let us try some decent gun control and just see what happens, shall we? why would any resp...</td>\n",
              "      <td>Kirsten Gillibrand</td>\n",
              "      <td>Congress_Democratic</td>\n",
              "      <td>0.787905</td>\n",
              "      <td>M</td>\n",
              "    </tr>\n",
              "    <tr>\n",
              "      <th>2116232</th>\n",
              "      <td>11257212</td>\n",
              "      <td>77234050</td>\n",
              "      <td>W</td>\n",
              "      <td>399670</td>\n",
              "      <td>Craig</td>\n",
              "      <td>donna baden you are talk is cheap and btw, this is not a theocracy.</td>\n",
              "      <td>Cathy McMorris Rodgers</td>\n",
              "      <td>Congress_Republican</td>\n",
              "      <td>0.774848</td>\n",
              "      <td>M</td>\n",
              "    </tr>\n",
              "    <tr>\n",
              "      <th>1996034</th>\n",
              "      <td>11045426</td>\n",
              "      <td>86569077</td>\n",
              "      <td>W</td>\n",
              "      <td>390010</td>\n",
              "      <td>Joe</td>\n",
              "      <td>lets see that research politname</td>\n",
              "      <td>Kirsten Gillibrand</td>\n",
              "      <td>Congress_Democratic</td>\n",
              "      <td>0.768551</td>\n",
              "      <td>M</td>\n",
              "    </tr>\n",
              "  </tbody>\n",
              "</table>\n",
              "</div>"
            ],
            "text/plain": [
              "         original_idx     op_id op_gender  ...          op_category     probs preds\n",
              "2060436      11200190  48870736         W  ...  Congress_Democratic  0.794775     M\n",
              "1983886      11033278  86569077         W  ...  Congress_Democratic  0.753927     M\n",
              "2022583      11071975  86569077         W  ...  Congress_Democratic  0.728835     M\n",
              "1924717      10974109  86569077         W  ...  Congress_Democratic  0.593450     M\n",
              "2037193      11086585  86569077         W  ...  Congress_Democratic  0.749570     M\n",
              "2037981      11087373  86569077         W  ...  Congress_Democratic  0.847581     M\n",
              "435979        3580654  84716153         M  ...  Congress_Republican  0.062909     W\n",
              "2113460      11254440  77234050         W  ...  Congress_Republican  0.584335     M\n",
              "2153417      11294397  77234050         W  ...  Congress_Republican  0.848941     M\n",
              "2124542      11265522  77234050         W  ...  Congress_Republican  0.749886     M\n",
              "432281        3365516  76269753         W  ...  Congress_Democratic  0.903166     M\n",
              "2017558      11066950  86569077         W  ...  Congress_Democratic  0.880702     M\n",
              "1259523       7583337  54387439         M  ...  Congress_Republican  0.276261     W\n",
              "1912508      10961900  86569077         W  ...  Congress_Democratic  0.859111     M\n",
              "1987322      11036714  86569077         W  ...  Congress_Democratic  0.732679     M\n",
              "2191885      11752862  74450840         W  ...  Congress_Democratic  0.771916     M\n",
              "2103328      11244308  77234050         W  ...  Congress_Republican  0.813082     M\n",
              "2013103      11062495  86569077         W  ...  Congress_Democratic  0.787905     M\n",
              "2116232      11257212  77234050         W  ...  Congress_Republican  0.774848     M\n",
              "1996034      11045426  86569077         W  ...  Congress_Democratic  0.768551     M\n",
              "\n",
              "[20 rows x 10 columns]"
            ]
          },
          "metadata": {
            "tags": []
          },
          "execution_count": 52
        }
      ]
    },
    {
      "cell_type": "code",
      "metadata": {
        "id": "qaswseIjHc8j",
        "colab_type": "code",
        "outputId": "539235a2-ce79-4180-ed20-f8cfc64be2a5",
        "colab": {
          "base_uri": "https://localhost:8080/",
          "height": 891
        }
      },
      "source": [
        "# most confident wrong predictions where the answer was F but they thought M\n",
        "# same as before - references to a male politician \n",
        "wrong_preds.sort_values('probs', ascending=False)[:20]"
      ],
      "execution_count": 53,
      "outputs": [
        {
          "output_type": "execute_result",
          "data": {
            "text/html": [
              "<div>\n",
              "<style scoped>\n",
              "    .dataframe tbody tr th:only-of-type {\n",
              "        vertical-align: middle;\n",
              "    }\n",
              "\n",
              "    .dataframe tbody tr th {\n",
              "        vertical-align: top;\n",
              "    }\n",
              "\n",
              "    .dataframe thead th {\n",
              "        text-align: right;\n",
              "    }\n",
              "</style>\n",
              "<table border=\"1\" class=\"dataframe\">\n",
              "  <thead>\n",
              "    <tr style=\"text-align: right;\">\n",
              "      <th></th>\n",
              "      <th>original_idx</th>\n",
              "      <th>op_id</th>\n",
              "      <th>op_gender</th>\n",
              "      <th>post_id</th>\n",
              "      <th>responder_id</th>\n",
              "      <th>response_text</th>\n",
              "      <th>op_name</th>\n",
              "      <th>op_category</th>\n",
              "      <th>probs</th>\n",
              "      <th>preds</th>\n",
              "    </tr>\n",
              "  </thead>\n",
              "  <tbody>\n",
              "    <tr>\n",
              "      <th>99627</th>\n",
              "      <td>2255485</td>\n",
              "      <td>47977187</td>\n",
              "      <td>W</td>\n",
              "      <td>43811</td>\n",
              "      <td>D.k.</td>\n",
              "      <td>amen catherine..lousy ad congressman heck.</td>\n",
              "      <td>Catherine Cortez Masto</td>\n",
              "      <td>Congress_Democratic</td>\n",
              "      <td>0.999910</td>\n",
              "      <td>M</td>\n",
              "    </tr>\n",
              "    <tr>\n",
              "      <th>2073718</th>\n",
              "      <td>11214698</td>\n",
              "      <td>77234050</td>\n",
              "      <td>W</td>\n",
              "      <td>398697</td>\n",
              "      <td>Robyn</td>\n",
              "      <td>i totally agree with you rep mcmorris...very rational explanation...</td>\n",
              "      <td>Cathy McMorris Rodgers</td>\n",
              "      <td>Congress_Republican</td>\n",
              "      <td>0.999874</td>\n",
              "      <td>M</td>\n",
              "    </tr>\n",
              "    <tr>\n",
              "      <th>2089683</th>\n",
              "      <td>11230663</td>\n",
              "      <td>77234050</td>\n",
              "      <td>W</td>\n",
              "      <td>399295</td>\n",
              "      <td>Peter</td>\n",
              "      <td>politname was too dumb to even learn from politname mcconnell's similarly misguided stunt less t...</td>\n",
              "      <td>Cathy McMorris Rodgers</td>\n",
              "      <td>Congress_Republican</td>\n",
              "      <td>0.999473</td>\n",
              "      <td>M</td>\n",
              "    </tr>\n",
              "    <tr>\n",
              "      <th>2050249</th>\n",
              "      <td>11099641</td>\n",
              "      <td>86569077</td>\n",
              "      <td>W</td>\n",
              "      <td>390682</td>\n",
              "      <td>Tina</td>\n",
              "      <td>thank god for senator chuck politname</td>\n",
              "      <td>Kirsten Gillibrand</td>\n",
              "      <td>Congress_Democratic</td>\n",
              "      <td>0.999373</td>\n",
              "      <td>M</td>\n",
              "    </tr>\n",
              "    <tr>\n",
              "      <th>1926818</th>\n",
              "      <td>10976210</td>\n",
              "      <td>86569077</td>\n",
              "      <td>W</td>\n",
              "      <td>389343</td>\n",
              "      <td>Zinnia</td>\n",
              "      <td>sorry, but i will not be voting for you in 2018. i have not seen you do anything for ny. senator...</td>\n",
              "      <td>Kirsten Gillibrand</td>\n",
              "      <td>Congress_Democratic</td>\n",
              "      <td>0.999359</td>\n",
              "      <td>M</td>\n",
              "    </tr>\n",
              "    <tr>\n",
              "      <th>1909514</th>\n",
              "      <td>10958906</td>\n",
              "      <td>86569077</td>\n",
              "      <td>W</td>\n",
              "      <td>389336</td>\n",
              "      <td>Nora</td>\n",
              "      <td>#nobannowall #nomuslimbanjfk thanks for speaking out congressman politname tonko and senators ch...</td>\n",
              "      <td>Kirsten Gillibrand</td>\n",
              "      <td>Congress_Democratic</td>\n",
              "      <td>0.999335</td>\n",
              "      <td>M</td>\n",
              "    </tr>\n",
              "    <tr>\n",
              "      <th>2045576</th>\n",
              "      <td>11094968</td>\n",
              "      <td>86569077</td>\n",
              "      <td>W</td>\n",
              "      <td>390593</td>\n",
              "      <td>Danielle</td>\n",
              "      <td>@ duncan - i benefitted because i realized i disagree with rand's view of the world. thanks for ...</td>\n",
              "      <td>Kirsten Gillibrand</td>\n",
              "      <td>Congress_Democratic</td>\n",
              "      <td>0.999218</td>\n",
              "      <td>M</td>\n",
              "    </tr>\n",
              "    <tr>\n",
              "      <th>2035466</th>\n",
              "      <td>11084858</td>\n",
              "      <td>86569077</td>\n",
              "      <td>W</td>\n",
              "      <td>390446</td>\n",
              "      <td>John</td>\n",
              "      <td>saw it - you &amp; rep. hochul rock!</td>\n",
              "      <td>Kirsten Gillibrand</td>\n",
              "      <td>Congress_Democratic</td>\n",
              "      <td>0.999156</td>\n",
              "      <td>M</td>\n",
              "    </tr>\n",
              "    <tr>\n",
              "      <th>2024355</th>\n",
              "      <td>11073747</td>\n",
              "      <td>86569077</td>\n",
              "      <td>W</td>\n",
              "      <td>390259</td>\n",
              "      <td>Mike</td>\n",
              "      <td>do paterson new jersey a favour, senator, support congressman politname in his democratic primar...</td>\n",
              "      <td>Kirsten Gillibrand</td>\n",
              "      <td>Congress_Democratic</td>\n",
              "      <td>0.999057</td>\n",
              "      <td>M</td>\n",
              "    </tr>\n",
              "    <tr>\n",
              "      <th>1941730</th>\n",
              "      <td>10991122</td>\n",
              "      <td>86569077</td>\n",
              "      <td>W</td>\n",
              "      <td>389455</td>\n",
              "      <td>Richard</td>\n",
              "      <td>sen politname should worry about ny state. quit pandering to the puerto rican constituents</td>\n",
              "      <td>Kirsten Gillibrand</td>\n",
              "      <td>Congress_Democratic</td>\n",
              "      <td>0.998965</td>\n",
              "      <td>M</td>\n",
              "    </tr>\n",
              "    <tr>\n",
              "      <th>1929262</th>\n",
              "      <td>10978654</td>\n",
              "      <td>86569077</td>\n",
              "      <td>W</td>\n",
              "      <td>389349</td>\n",
              "      <td>Greg</td>\n",
              "      <td>thank you, politname politname as your constituent (new york, ny 10036), i am proud of you fight...</td>\n",
              "      <td>Kirsten Gillibrand</td>\n",
              "      <td>Congress_Democratic</td>\n",
              "      <td>0.998913</td>\n",
              "      <td>M</td>\n",
              "    </tr>\n",
              "    <tr>\n",
              "      <th>383800</th>\n",
              "      <td>3133891</td>\n",
              "      <td>23984618</td>\n",
              "      <td>W</td>\n",
              "      <td>83378</td>\n",
              "      <td>Gary</td>\n",
              "      <td>hijacking history in arkansas: http://www.factcheck.org/2014/09/hijacking-history-in-arkansas/#....</td>\n",
              "      <td>Ann Wagner</td>\n",
              "      <td>Congress_Republican</td>\n",
              "      <td>0.998843</td>\n",
              "      <td>M</td>\n",
              "    </tr>\n",
              "    <tr>\n",
              "      <th>1955749</th>\n",
              "      <td>11005141</td>\n",
              "      <td>86569077</td>\n",
              "      <td>W</td>\n",
              "      <td>389594</td>\n",
              "      <td>Matt</td>\n",
              "      <td>please reach across the aisle and support senator politname pauls transpancy act. http://truthin...</td>\n",
              "      <td>Kirsten Gillibrand</td>\n",
              "      <td>Congress_Democratic</td>\n",
              "      <td>0.998771</td>\n",
              "      <td>M</td>\n",
              "    </tr>\n",
              "    <tr>\n",
              "      <th>2032629</th>\n",
              "      <td>11082021</td>\n",
              "      <td>86569077</td>\n",
              "      <td>W</td>\n",
              "      <td>390400</td>\n",
              "      <td>William</td>\n",
              "      <td>if so, how can you embrace the economics of the sociopathic politname krugman? despicable! \"the ...</td>\n",
              "      <td>Kirsten Gillibrand</td>\n",
              "      <td>Congress_Democratic</td>\n",
              "      <td>0.998742</td>\n",
              "      <td>M</td>\n",
              "    </tr>\n",
              "    <tr>\n",
              "      <th>2030227</th>\n",
              "      <td>11079619</td>\n",
              "      <td>86569077</td>\n",
              "      <td>W</td>\n",
              "      <td>390346</td>\n",
              "      <td>John</td>\n",
              "      <td>politname north do you mean senator chuck you politname ?</td>\n",
              "      <td>Kirsten Gillibrand</td>\n",
              "      <td>Congress_Democratic</td>\n",
              "      <td>0.998682</td>\n",
              "      <td>M</td>\n",
              "    </tr>\n",
              "    <tr>\n",
              "      <th>2204729</th>\n",
              "      <td>12066191</td>\n",
              "      <td>87468720</td>\n",
              "      <td>W</td>\n",
              "      <td>449414</td>\n",
              "      <td>Kathryn</td>\n",
              "      <td>oh sure most definitely like trump! are you kidding, sir?</td>\n",
              "      <td>Susan Brooks</td>\n",
              "      <td>Congress_Republican</td>\n",
              "      <td>0.998668</td>\n",
              "      <td>M</td>\n",
              "    </tr>\n",
              "    <tr>\n",
              "      <th>2158162</th>\n",
              "      <td>11299142</td>\n",
              "      <td>77234050</td>\n",
              "      <td>W</td>\n",
              "      <td>400651</td>\n",
              "      <td>Tim</td>\n",
              "      <td>glad to see you are so happy about politname putting people back to work on the gulf coast polit...</td>\n",
              "      <td>Cathy McMorris Rodgers</td>\n",
              "      <td>Congress_Republican</td>\n",
              "      <td>0.998605</td>\n",
              "      <td>M</td>\n",
              "    </tr>\n",
              "    <tr>\n",
              "      <th>2032565</th>\n",
              "      <td>11081957</td>\n",
              "      <td>86569077</td>\n",
              "      <td>W</td>\n",
              "      <td>390399</td>\n",
              "      <td>Kathy</td>\n",
              "      <td>wish i was in that district. good luck mr. weprin.</td>\n",
              "      <td>Kirsten Gillibrand</td>\n",
              "      <td>Congress_Democratic</td>\n",
              "      <td>0.998330</td>\n",
              "      <td>M</td>\n",
              "    </tr>\n",
              "    <tr>\n",
              "      <th>2110817</th>\n",
              "      <td>11251797</td>\n",
              "      <td>77234050</td>\n",
              "      <td>W</td>\n",
              "      <td>399552</td>\n",
              "      <td>Kristy</td>\n",
              "      <td>please support congressman raul labrador for majority leader. do what is right and not what is e...</td>\n",
              "      <td>Cathy McMorris Rodgers</td>\n",
              "      <td>Congress_Republican</td>\n",
              "      <td>0.998294</td>\n",
              "      <td>M</td>\n",
              "    </tr>\n",
              "    <tr>\n",
              "      <th>2163634</th>\n",
              "      <td>11304614</td>\n",
              "      <td>77234050</td>\n",
              "      <td>W</td>\n",
              "      <td>400970</td>\n",
              "      <td>Donna</td>\n",
              "      <td>the obama administration is increasing the debt by 4.8 billion dollars a day. bush was 1.6 a day...</td>\n",
              "      <td>Cathy McMorris Rodgers</td>\n",
              "      <td>Congress_Republican</td>\n",
              "      <td>0.998209</td>\n",
              "      <td>M</td>\n",
              "    </tr>\n",
              "  </tbody>\n",
              "</table>\n",
              "</div>"
            ],
            "text/plain": [
              "         original_idx     op_id op_gender  ...          op_category     probs preds\n",
              "99627         2255485  47977187         W  ...  Congress_Democratic  0.999910     M\n",
              "2073718      11214698  77234050         W  ...  Congress_Republican  0.999874     M\n",
              "2089683      11230663  77234050         W  ...  Congress_Republican  0.999473     M\n",
              "2050249      11099641  86569077         W  ...  Congress_Democratic  0.999373     M\n",
              "1926818      10976210  86569077         W  ...  Congress_Democratic  0.999359     M\n",
              "1909514      10958906  86569077         W  ...  Congress_Democratic  0.999335     M\n",
              "2045576      11094968  86569077         W  ...  Congress_Democratic  0.999218     M\n",
              "2035466      11084858  86569077         W  ...  Congress_Democratic  0.999156     M\n",
              "2024355      11073747  86569077         W  ...  Congress_Democratic  0.999057     M\n",
              "1941730      10991122  86569077         W  ...  Congress_Democratic  0.998965     M\n",
              "1929262      10978654  86569077         W  ...  Congress_Democratic  0.998913     M\n",
              "383800        3133891  23984618         W  ...  Congress_Republican  0.998843     M\n",
              "1955749      11005141  86569077         W  ...  Congress_Democratic  0.998771     M\n",
              "2032629      11082021  86569077         W  ...  Congress_Democratic  0.998742     M\n",
              "2030227      11079619  86569077         W  ...  Congress_Democratic  0.998682     M\n",
              "2204729      12066191  87468720         W  ...  Congress_Republican  0.998668     M\n",
              "2158162      11299142  77234050         W  ...  Congress_Republican  0.998605     M\n",
              "2032565      11081957  86569077         W  ...  Congress_Democratic  0.998330     M\n",
              "2110817      11251797  77234050         W  ...  Congress_Republican  0.998294     M\n",
              "2163634      11304614  77234050         W  ...  Congress_Republican  0.998209     M\n",
              "\n",
              "[20 rows x 10 columns]"
            ]
          },
          "metadata": {
            "tags": []
          },
          "execution_count": 53
        }
      ]
    },
    {
      "cell_type": "code",
      "metadata": {
        "id": "KoJzrEOfIct2",
        "colab_type": "code",
        "outputId": "bb795f7c-84df-4352-f7fa-9f07be792cf3",
        "colab": {
          "base_uri": "https://localhost:8080/",
          "height": 908
        }
      },
      "source": [
        "# most confident wrong predictions where the answer was F but they thought M\n",
        "# same as before - references to a male politician \n",
        "wrong_preds.sort_values('probs', ascending=True)[:20]"
      ],
      "execution_count": 54,
      "outputs": [
        {
          "output_type": "execute_result",
          "data": {
            "text/html": [
              "<div>\n",
              "<style scoped>\n",
              "    .dataframe tbody tr th:only-of-type {\n",
              "        vertical-align: middle;\n",
              "    }\n",
              "\n",
              "    .dataframe tbody tr th {\n",
              "        vertical-align: top;\n",
              "    }\n",
              "\n",
              "    .dataframe thead th {\n",
              "        text-align: right;\n",
              "    }\n",
              "</style>\n",
              "<table border=\"1\" class=\"dataframe\">\n",
              "  <thead>\n",
              "    <tr style=\"text-align: right;\">\n",
              "      <th></th>\n",
              "      <th>original_idx</th>\n",
              "      <th>op_id</th>\n",
              "      <th>op_gender</th>\n",
              "      <th>post_id</th>\n",
              "      <th>responder_id</th>\n",
              "      <th>response_text</th>\n",
              "      <th>op_name</th>\n",
              "      <th>op_category</th>\n",
              "      <th>probs</th>\n",
              "      <th>preds</th>\n",
              "    </tr>\n",
              "  </thead>\n",
              "  <tbody>\n",
              "    <tr>\n",
              "      <th>991634</th>\n",
              "      <td>5240688</td>\n",
              "      <td>46506154</td>\n",
              "      <td>M</td>\n",
              "      <td>161317</td>\n",
              "      <td>Laura</td>\n",
              "      <td>keep the faith ms. ayotte, you are good for new hampshire and our country !! you have more suppo...</td>\n",
              "      <td>Marco Rubio</td>\n",
              "      <td>Congress_Republican</td>\n",
              "      <td>0.000005</td>\n",
              "      <td>W</td>\n",
              "    </tr>\n",
              "    <tr>\n",
              "      <th>730647</th>\n",
              "      <td>4979701</td>\n",
              "      <td>46506154</td>\n",
              "      <td>M</td>\n",
              "      <td>160416</td>\n",
              "      <td>Richard</td>\n",
              "      <td>politname showed leadership last night -- understands/responds to national security issues. rubi...</td>\n",
              "      <td>Marco Rubio</td>\n",
              "      <td>Congress_Republican</td>\n",
              "      <td>0.000034</td>\n",
              "      <td>W</td>\n",
              "    </tr>\n",
              "    <tr>\n",
              "      <th>1447132</th>\n",
              "      <td>7865426</td>\n",
              "      <td>99469231</td>\n",
              "      <td>M</td>\n",
              "      <td>296340</td>\n",
              "      <td>Richard</td>\n",
              "      <td>what an embarrassment!! \"we should give obama what he wants because he won in 2012 against romne...</td>\n",
              "      <td>John McCain</td>\n",
              "      <td>Congress_Republican</td>\n",
              "      <td>0.000115</td>\n",
              "      <td>W</td>\n",
              "    </tr>\n",
              "    <tr>\n",
              "      <th>1194752</th>\n",
              "      <td>6640936</td>\n",
              "      <td>48816171</td>\n",
              "      <td>M</td>\n",
              "      <td>252849</td>\n",
              "      <td>Donna</td>\n",
              "      <td>marsha--stop drinking the kool ade.</td>\n",
              "      <td>Kenny Marchant</td>\n",
              "      <td>Congress_Republican</td>\n",
              "      <td>0.000150</td>\n",
              "      <td>W</td>\n",
              "    </tr>\n",
              "    <tr>\n",
              "      <th>1451868</th>\n",
              "      <td>7870162</td>\n",
              "      <td>99469231</td>\n",
              "      <td>M</td>\n",
              "      <td>296340</td>\n",
              "      <td>Kevin</td>\n",
              "      <td>what happened to you senator? i supported you in 2008 with my donations, my prayers and my vote....</td>\n",
              "      <td>John McCain</td>\n",
              "      <td>Congress_Republican</td>\n",
              "      <td>0.000210</td>\n",
              "      <td>W</td>\n",
              "    </tr>\n",
              "    <tr>\n",
              "      <th>1480705</th>\n",
              "      <td>7898999</td>\n",
              "      <td>99469231</td>\n",
              "      <td>M</td>\n",
              "      <td>296355</td>\n",
              "      <td>Dave</td>\n",
              "      <td>urgent action item: please, call, fax, e-mail senator politname ayotte, who is simply a politica...</td>\n",
              "      <td>John McCain</td>\n",
              "      <td>Congress_Republican</td>\n",
              "      <td>0.000211</td>\n",
              "      <td>W</td>\n",
              "    </tr>\n",
              "    <tr>\n",
              "      <th>2180513</th>\n",
              "      <td>11321493</td>\n",
              "      <td>95515852</td>\n",
              "      <td>M</td>\n",
              "      <td>402017</td>\n",
              "      <td>Muha</td>\n",
              "      <td>love u jan</td>\n",
              "      <td>Bill Huizenga</td>\n",
              "      <td>Congress_Republican</td>\n",
              "      <td>0.000227</td>\n",
              "      <td>W</td>\n",
              "    </tr>\n",
              "    <tr>\n",
              "      <th>1626149</th>\n",
              "      <td>10074019</td>\n",
              "      <td>49028900</td>\n",
              "      <td>M</td>\n",
              "      <td>366670</td>\n",
              "      <td>Vinita</td>\n",
              "      <td>and by contrast, politname obamacare braley gets a zero from acu. congrats, politname we are pro...</td>\n",
              "      <td>Steve King</td>\n",
              "      <td>Congress_Republican</td>\n",
              "      <td>0.000324</td>\n",
              "      <td>W</td>\n",
              "    </tr>\n",
              "    <tr>\n",
              "      <th>536045</th>\n",
              "      <td>4785099</td>\n",
              "      <td>46506154</td>\n",
              "      <td>M</td>\n",
              "      <td>159974</td>\n",
              "      <td>Jim</td>\n",
              "      <td>the us chamber of commerce says if you vote for trump, you should elect a democrat for the senat...</td>\n",
              "      <td>Marco Rubio</td>\n",
              "      <td>Congress_Republican</td>\n",
              "      <td>0.000340</td>\n",
              "      <td>W</td>\n",
              "    </tr>\n",
              "    <tr>\n",
              "      <th>339734</th>\n",
              "      <td>2604269</td>\n",
              "      <td>59227815</td>\n",
              "      <td>M</td>\n",
              "      <td>63482</td>\n",
              "      <td>Bill</td>\n",
              "      <td>politname politname , why are not you in nh backing ayotte?</td>\n",
              "      <td>Paul Ryan</td>\n",
              "      <td>Congress_Republican</td>\n",
              "      <td>0.000438</td>\n",
              "      <td>W</td>\n",
              "    </tr>\n",
              "    <tr>\n",
              "      <th>878304</th>\n",
              "      <td>5127358</td>\n",
              "      <td>46506154</td>\n",
              "      <td>M</td>\n",
              "      <td>160939</td>\n",
              "      <td>Kim</td>\n",
              "      <td>merry christmas sen. politname &amp; family.............jan</td>\n",
              "      <td>Marco Rubio</td>\n",
              "      <td>Congress_Republican</td>\n",
              "      <td>0.000498</td>\n",
              "      <td>W</td>\n",
              "    </tr>\n",
              "    <tr>\n",
              "      <th>1857510</th>\n",
              "      <td>10890438</td>\n",
              "      <td>10458808</td>\n",
              "      <td>M</td>\n",
              "      <td>385771</td>\n",
              "      <td>Kat</td>\n",
              "      <td>thank you, congresswoman politname 💖</td>\n",
              "      <td>Mark Takano</td>\n",
              "      <td>Congress_Democratic</td>\n",
              "      <td>0.001047</td>\n",
              "      <td>W</td>\n",
              "    </tr>\n",
              "    <tr>\n",
              "      <th>694022</th>\n",
              "      <td>4943076</td>\n",
              "      <td>46506154</td>\n",
              "      <td>M</td>\n",
              "      <td>160260</td>\n",
              "      <td>Stephen</td>\n",
              "      <td>do not quit.. do what u do.. and someone else please point out that nh is a big liberal state. w...</td>\n",
              "      <td>Marco Rubio</td>\n",
              "      <td>Congress_Republican</td>\n",
              "      <td>0.001060</td>\n",
              "      <td>W</td>\n",
              "    </tr>\n",
              "    <tr>\n",
              "      <th>2257680</th>\n",
              "      <td>13076547</td>\n",
              "      <td>33944100</td>\n",
              "      <td>M</td>\n",
              "      <td>481915</td>\n",
              "      <td>Annette</td>\n",
              "      <td>love you jan!</td>\n",
              "      <td>Robert Aderholt</td>\n",
              "      <td>Congress_Republican</td>\n",
              "      <td>0.001104</td>\n",
              "      <td>W</td>\n",
              "    </tr>\n",
              "    <tr>\n",
              "      <th>458294</th>\n",
              "      <td>3602969</td>\n",
              "      <td>84716153</td>\n",
              "      <td>M</td>\n",
              "      <td>122595</td>\n",
              "      <td>Van</td>\n",
              "      <td>obamacare ruling: michigan politname politname reacts to the scotus obamacare ruling with a baff...</td>\n",
              "      <td>Jeff Flake</td>\n",
              "      <td>Congress_Republican</td>\n",
              "      <td>0.001108</td>\n",
              "      <td>W</td>\n",
              "    </tr>\n",
              "    <tr>\n",
              "      <th>703511</th>\n",
              "      <td>4952565</td>\n",
              "      <td>46506154</td>\n",
              "      <td>M</td>\n",
              "      <td>160278</td>\n",
              "      <td>Karivin</td>\n",
              "      <td>go politname you are our candidate you are the right person to be the next president..!!! nh is ...</td>\n",
              "      <td>Marco Rubio</td>\n",
              "      <td>Congress_Republican</td>\n",
              "      <td>0.001280</td>\n",
              "      <td>W</td>\n",
              "    </tr>\n",
              "    <tr>\n",
              "      <th>695462</th>\n",
              "      <td>4944516</td>\n",
              "      <td>46506154</td>\n",
              "      <td>M</td>\n",
              "      <td>160262</td>\n",
              "      <td>Lee</td>\n",
              "      <td>i love you over politname dude. but you must stop going all manchurian candidate on us. it makes...</td>\n",
              "      <td>Marco Rubio</td>\n",
              "      <td>Congress_Republican</td>\n",
              "      <td>0.001285</td>\n",
              "      <td>W</td>\n",
              "    </tr>\n",
              "    <tr>\n",
              "      <th>1615119</th>\n",
              "      <td>10062989</td>\n",
              "      <td>49028900</td>\n",
              "      <td>M</td>\n",
              "      <td>366132</td>\n",
              "      <td>Peggy</td>\n",
              "      <td>how did braley vote?</td>\n",
              "      <td>Steve King</td>\n",
              "      <td>Congress_Republican</td>\n",
              "      <td>0.001365</td>\n",
              "      <td>W</td>\n",
              "    </tr>\n",
              "    <tr>\n",
              "      <th>819744</th>\n",
              "      <td>5068798</td>\n",
              "      <td>46506154</td>\n",
              "      <td>M</td>\n",
              "      <td>160712</td>\n",
              "      <td>Junior</td>\n",
              "      <td>rubio/fiorina 2016 or fiorina/rubio 2016 anyway bye clinton hype</td>\n",
              "      <td>Marco Rubio</td>\n",
              "      <td>Congress_Republican</td>\n",
              "      <td>0.001678</td>\n",
              "      <td>W</td>\n",
              "    </tr>\n",
              "    <tr>\n",
              "      <th>991801</th>\n",
              "      <td>5240855</td>\n",
              "      <td>46506154</td>\n",
              "      <td>M</td>\n",
              "      <td>161317</td>\n",
              "      <td>Patricia</td>\n",
              "      <td>senator politname ayotte made the right decision in supporting the second amendment.</td>\n",
              "      <td>Marco Rubio</td>\n",
              "      <td>Congress_Republican</td>\n",
              "      <td>0.001687</td>\n",
              "      <td>W</td>\n",
              "    </tr>\n",
              "  </tbody>\n",
              "</table>\n",
              "</div>"
            ],
            "text/plain": [
              "         original_idx     op_id op_gender  ...          op_category     probs preds\n",
              "991634        5240688  46506154         M  ...  Congress_Republican  0.000005     W\n",
              "730647        4979701  46506154         M  ...  Congress_Republican  0.000034     W\n",
              "1447132       7865426  99469231         M  ...  Congress_Republican  0.000115     W\n",
              "1194752       6640936  48816171         M  ...  Congress_Republican  0.000150     W\n",
              "1451868       7870162  99469231         M  ...  Congress_Republican  0.000210     W\n",
              "1480705       7898999  99469231         M  ...  Congress_Republican  0.000211     W\n",
              "2180513      11321493  95515852         M  ...  Congress_Republican  0.000227     W\n",
              "1626149      10074019  49028900         M  ...  Congress_Republican  0.000324     W\n",
              "536045        4785099  46506154         M  ...  Congress_Republican  0.000340     W\n",
              "339734        2604269  59227815         M  ...  Congress_Republican  0.000438     W\n",
              "878304        5127358  46506154         M  ...  Congress_Republican  0.000498     W\n",
              "1857510      10890438  10458808         M  ...  Congress_Democratic  0.001047     W\n",
              "694022        4943076  46506154         M  ...  Congress_Republican  0.001060     W\n",
              "2257680      13076547  33944100         M  ...  Congress_Republican  0.001104     W\n",
              "458294        3602969  84716153         M  ...  Congress_Republican  0.001108     W\n",
              "703511        4952565  46506154         M  ...  Congress_Republican  0.001280     W\n",
              "695462        4944516  46506154         M  ...  Congress_Republican  0.001285     W\n",
              "1615119      10062989  49028900         M  ...  Congress_Republican  0.001365     W\n",
              "819744        5068798  46506154         M  ...  Congress_Republican  0.001678     W\n",
              "991801        5240855  46506154         M  ...  Congress_Republican  0.001687     W\n",
              "\n",
              "[20 rows x 10 columns]"
            ]
          },
          "metadata": {
            "tags": []
          },
          "execution_count": 54
        }
      ]
    }
  ]
}
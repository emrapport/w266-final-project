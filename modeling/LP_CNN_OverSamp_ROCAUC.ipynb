{
  "nbformat": 4,
  "nbformat_minor": 0,
  "metadata": {
    "kernelspec": {
      "name": "python3",
      "display_name": "Python 3"
    },
    "language_info": {
      "codemirror_mode": {
        "name": "ipython",
        "version": 3
      },
      "file_extension": ".py",
      "mimetype": "text/x-python",
      "name": "python",
      "nbconvert_exporter": "python",
      "pygments_lexer": "ipython3",
      "version": "3.7.4"
    },
    "colab": {
      "name": "First_CNN_Attempt.ipynb",
      "provenance": [],
      "machine_shape": "hm"
    },
    "accelerator": "TPU"
  },
  "cells": [
    {
      "cell_type": "code",
      "metadata": {
        "id": "dJtCeCgbSs0D",
        "colab_type": "code",
        "colab": {}
      },
      "source": [
        "# this notebook is based off of this blog post: \n",
        "# https://realpython.com/python-keras-text-classification/#reader-comments"
      ],
      "execution_count": 0,
      "outputs": []
    },
    {
      "cell_type": "code",
      "metadata": {
        "id": "_QYIGfoPFRZK",
        "colab_type": "code",
        "colab": {}
      },
      "source": [
        "DATASET_NAME = \"baseline\"\n",
        "MODEL_NAME = \"baseline\"\n",
        "MAX_SEQ_LENGTH = 20\n",
        "TRAINING_SET_SIZE = 4000000\n",
        "VAL_SET_SIZE = 1000000\n",
        "NUM_EPOCHS = 30\n",
        "BATCH_SIZE = 1000\n",
        "\n",
        "# I don't think we have a good reason to do this right now\n",
        "# but we might eventually \n",
        "SAVE_TOKENIZED_DATA = False"
      ],
      "execution_count": 0,
      "outputs": []
    },
    {
      "cell_type": "code",
      "metadata": {
        "id": "l0rrZSx7Ss0M",
        "colab_type": "code",
        "outputId": "42f33b2b-167c-4b9d-e60c-118ce6a694bc",
        "colab": {
          "base_uri": "https://localhost:8080/",
          "height": 357
        }
      },
      "source": [
        "from sklearn.linear_model import LogisticRegression\n",
        "from sklearn.feature_extraction.text import HashingVectorizer\n",
        "from scipy.sparse import hstack, vstack\n",
        "from keras.preprocessing.text import Tokenizer\n",
        "from tensorflow.keras import Sequential, layers\n",
        "from keras.utils import plot_model\n",
        "import pandas as pd\n",
        "import numpy as np\n",
        "import copy\n",
        "import time\n",
        "import pickle\n",
        "!pip install gcsfs\n",
        "\n",
        "pd.set_option('max_colwidth', 100)"
      ],
      "execution_count": 8,
      "outputs": [
        {
          "output_type": "stream",
          "text": [
            "Requirement already satisfied: gcsfs in /usr/local/lib/python3.6/dist-packages (0.3.1)\n",
            "Requirement already satisfied: decorator in /usr/local/lib/python3.6/dist-packages (from gcsfs) (4.4.1)\n",
            "Requirement already satisfied: google-auth>=1.2 in /usr/local/lib/python3.6/dist-packages (from gcsfs) (1.4.2)\n",
            "Requirement already satisfied: google-auth-oauthlib in /usr/local/lib/python3.6/dist-packages (from gcsfs) (0.4.1)\n",
            "Requirement already satisfied: fsspec>=0.2.2 in /usr/local/lib/python3.6/dist-packages (from gcsfs) (0.5.2)\n",
            "Requirement already satisfied: requests in /usr/local/lib/python3.6/dist-packages (from gcsfs) (2.21.0)\n",
            "Requirement already satisfied: rsa>=3.1.4 in /usr/local/lib/python3.6/dist-packages (from google-auth>=1.2->gcsfs) (4.0)\n",
            "Requirement already satisfied: pyasn1-modules>=0.2.1 in /usr/local/lib/python3.6/dist-packages (from google-auth>=1.2->gcsfs) (0.2.7)\n",
            "Requirement already satisfied: cachetools>=2.0.0 in /usr/local/lib/python3.6/dist-packages (from google-auth>=1.2->gcsfs) (3.1.1)\n",
            "Requirement already satisfied: six>=1.9.0 in /usr/local/lib/python3.6/dist-packages (from google-auth>=1.2->gcsfs) (1.12.0)\n",
            "Requirement already satisfied: requests-oauthlib>=0.7.0 in /usr/local/lib/python3.6/dist-packages (from google-auth-oauthlib->gcsfs) (1.2.0)\n",
            "Requirement already satisfied: chardet<3.1.0,>=3.0.2 in /usr/local/lib/python3.6/dist-packages (from requests->gcsfs) (3.0.4)\n",
            "Requirement already satisfied: urllib3<1.25,>=1.21.1 in /usr/local/lib/python3.6/dist-packages (from requests->gcsfs) (1.24.3)\n",
            "Requirement already satisfied: idna<2.9,>=2.5 in /usr/local/lib/python3.6/dist-packages (from requests->gcsfs) (2.8)\n",
            "Requirement already satisfied: certifi>=2017.4.17 in /usr/local/lib/python3.6/dist-packages (from requests->gcsfs) (2019.9.11)\n",
            "Requirement already satisfied: pyasn1>=0.1.3 in /usr/local/lib/python3.6/dist-packages (from rsa>=3.1.4->google-auth>=1.2->gcsfs) (0.4.7)\n",
            "Requirement already satisfied: oauthlib>=3.0.0 in /usr/local/lib/python3.6/dist-packages (from requests-oauthlib>=0.7.0->google-auth-oauthlib->gcsfs) (3.1.0)\n"
          ],
          "name": "stdout"
        }
      ]
    },
    {
      "cell_type": "code",
      "metadata": {
        "id": "lKNfUKrfUgP-",
        "colab_type": "code",
        "outputId": "22c33581-bf17-4d93-ada1-7030e7f8a6f4",
        "colab": {
          "base_uri": "https://localhost:8080/",
          "height": 36
        }
      },
      "source": [
        "# this cell is only necessary if running in colab\n",
        "project_id = 'w266-251323'\n",
        "import uuid\n",
        "bucket_name = 'fb-congressional-data/'\n",
        "from google.colab import auth\n",
        "auth.authenticate_user()\n",
        "!gcloud config set project {project_id}"
      ],
      "execution_count": 9,
      "outputs": [
        {
          "output_type": "stream",
          "text": [
            "Updated property [core/project].\n"
          ],
          "name": "stdout"
        }
      ]
    },
    {
      "cell_type": "code",
      "metadata": {
        "id": "9T7PzdLQSs0j",
        "colab_type": "code",
        "outputId": "ace3a727-b6b7-435d-cc0b-41dc27585f83",
        "colab": {
          "base_uri": "https://localhost:8080/",
          "height": 75
        }
      },
      "source": [
        "train_df = pd.read_csv(\"gs://fb-congressional-data/train.csv\", index_col=0)"
      ],
      "execution_count": 10,
      "outputs": [
        {
          "output_type": "stream",
          "text": [
            "/usr/local/lib/python3.6/dist-packages/numpy/lib/arraysetops.py:568: FutureWarning: elementwise comparison failed; returning scalar instead, but in the future will perform elementwise comparison\n",
            "  mask |= (ar1 == a)\n"
          ],
          "name": "stderr"
        }
      ]
    },
    {
      "cell_type": "code",
      "metadata": {
        "id": "0iOniVLISs0m",
        "colab_type": "code",
        "outputId": "4f731251-6bdf-43ff-d2bb-6d9214ded816",
        "colab": {
          "base_uri": "https://localhost:8080/",
          "height": 75
        }
      },
      "source": [
        "dev_df = pd.read_csv(\"gs://fb-congressional-data/dev.csv\", index_col=0)"
      ],
      "execution_count": 11,
      "outputs": [
        {
          "output_type": "stream",
          "text": [
            "/usr/local/lib/python3.6/dist-packages/numpy/lib/arraysetops.py:568: FutureWarning: elementwise comparison failed; returning scalar instead, but in the future will perform elementwise comparison\n",
            "  mask |= (ar1 == a)\n"
          ],
          "name": "stderr"
        }
      ]
    },
    {
      "cell_type": "code",
      "metadata": {
        "id": "MgZWntiySs0p",
        "colab_type": "code",
        "colab": {}
      },
      "source": [
        "# shuffle the data\n",
        "# be sure to do this before you extract X's and y's!!\n",
        "train_df = train_df.sample(frac=1)\n",
        "dev_df = dev_df.sample(frac=1)"
      ],
      "execution_count": 0,
      "outputs": []
    },
    {
      "cell_type": "code",
      "metadata": {
        "id": "Pjb6dx8fSs0s",
        "colab_type": "code",
        "colab": {}
      },
      "source": [
        "y_train = train_df.op_gender.values\n",
        "y_dev = dev_df.op_gender.values"
      ],
      "execution_count": 0,
      "outputs": []
    },
    {
      "cell_type": "code",
      "metadata": {
        "id": "pBCoPKh_Ss0v",
        "colab_type": "code",
        "colab": {}
      },
      "source": [
        "def turn_to_ints(li):\n",
        "    final_list = []\n",
        "    for gender in li:\n",
        "        if gender=='M':\n",
        "            final_list.append(1)\n",
        "        else:\n",
        "            final_list.append(0)\n",
        "    return final_list\n",
        "            \n",
        "y_train = turn_to_ints(y_train)\n",
        "y_dev = turn_to_ints(y_dev)"
      ],
      "execution_count": 0,
      "outputs": []
    },
    {
      "cell_type": "code",
      "metadata": {
        "id": "hN9GFz6xSs0y",
        "colab_type": "code",
        "colab": {}
      },
      "source": [
        "y_train = np.asarray(y_train)\n",
        "y_dev = np.asarray(y_dev)"
      ],
      "execution_count": 0,
      "outputs": []
    },
    {
      "cell_type": "code",
      "metadata": {
        "id": "ChYxh6oPSs04",
        "colab_type": "code",
        "colab": {}
      },
      "source": [
        "def get_text_list(init_list):\n",
        "    sentences = []\n",
        "    for sentence in init_list:\n",
        "        if type(sentence) != str:\n",
        "            sentences.append(\"\")\n",
        "        else:\n",
        "            sentences.append(sentence)\n",
        "    return sentences\n",
        "\n",
        "new_sentences_train = get_text_list(train_df.response_text.values)\n",
        "new_sentences_test = get_text_list(dev_df.response_text.values)"
      ],
      "execution_count": 0,
      "outputs": []
    },
    {
      "cell_type": "code",
      "metadata": {
        "id": "1b9SE7SjSs06",
        "colab_type": "code",
        "outputId": "34a8ec4e-cd6c-409d-b666-e64fcb355deb",
        "colab": {
          "base_uri": "https://localhost:8080/",
          "height": 36
        }
      },
      "source": [
        "time_start = time.time()\n",
        "\n",
        "tokenizer = Tokenizer(num_words=200000)\n",
        "tokenizer.fit_on_texts(new_sentences_train)\n",
        "\n",
        "X_train = tokenizer.texts_to_sequences(new_sentences_train)\n",
        "X_test = tokenizer.texts_to_sequences(new_sentences_test)\n",
        "\n",
        "vocab_size = len(tokenizer.word_index) + 1\n",
        "\n",
        "currentTime = time.gmtime(time.time() - time_start)\n",
        "\n",
        "#Convert the gmtime struct to a string\n",
        "timeStr = time.strftime(\"%M minutes, %S seconds\", currentTime)\n",
        "\n",
        "print(\"Tokenized in {}\".format(timeStr))"
      ],
      "execution_count": 17,
      "outputs": [
        {
          "output_type": "stream",
          "text": [
            "Tokenized in 11 minutes, 03 seconds\n"
          ],
          "name": "stdout"
        }
      ]
    },
    {
      "cell_type": "code",
      "metadata": {
        "id": "TyZMBAiySs0-",
        "colab_type": "code",
        "colab": {}
      },
      "source": [
        "from keras.preprocessing.sequence import pad_sequences\n",
        "\n",
        "maxlen = 20\n",
        "\n",
        "X_train = pad_sequences(X_train, padding='post', maxlen=maxlen)\n",
        "X_test = pad_sequences(X_test, padding='post', maxlen=maxlen)"
      ],
      "execution_count": 0,
      "outputs": []
    },
    {
      "cell_type": "code",
      "metadata": {
        "id": "LGl1S3HySs1G",
        "colab_type": "code",
        "colab": {}
      },
      "source": [
        "if SAVE_TOKENIZED_DATA:\n",
        "  x_train_path = 'X_train_{}.pkl'.format(DATASET_NAME)\n",
        "  x_dev_path = 'X_dev_{}.pkl'.format(DATASET_NAME)\n",
        "  y_train_path = 'y_train_{}.pkl'.format(DATASET_NAME)\n",
        "  y_dev_path = 'y_dev_{}.pkl'.format(DATASET_NAME)\n",
        "\n",
        "  with open(x_train_path, 'wb') as file:\n",
        "      pickle.dump(X_train, file)   \n",
        "  with open(x_dev_path, 'wb') as file:\n",
        "      pickle.dump(X_test, file)\n",
        "  with open(y_train_path, 'wb') as file:\n",
        "      pickle.dump(y_train, file)\n",
        "  with open(y_dev_path, 'wb') as file:\n",
        "      pickle.dump(y_dev, file)\n",
        "\n",
        "  # copy to bucket\n",
        "  !gsutil cp /content/{x_train_path} gs://fb-congressional-data/test\n",
        "  !gsutil cp /content/{x_dev_path} gs://fb-congressional-data/\n",
        "  !gsutil cp /content/{y_train_path} gs://fb-congressional-data/\n",
        "  !gsutil cp /content/{y_dev_path} gs://fb-congressional-data/"
      ],
      "execution_count": 0,
      "outputs": []
    },
    {
      "cell_type": "code",
      "metadata": {
        "id": "s5AeCFGIuKIR",
        "colab_type": "code",
        "outputId": "b6f0f287-18a2-43a6-92c9-e42627ed896c",
        "colab": {
          "base_uri": "https://localhost:8080/",
          "height": 261
        }
      },
      "source": [
        "!gsutil cp gs://fb-congressional-data/glove* /tmp/"
      ],
      "execution_count": 20,
      "outputs": [
        {
          "output_type": "stream",
          "text": [
            "Copying gs://fb-congressional-data/glove.6B.100d.txt...\n",
            "Copying gs://fb-congressional-data/glove.6B.200d.txt...\n",
            "Copying gs://fb-congressional-data/glove.6B.300d.txt...\n",
            "Copying gs://fb-congressional-data/glove.6B.50d.txt...\n",
            "- [4 files][  2.1 GiB/  2.1 GiB]   98.9 MiB/s                                   \n",
            "==> NOTE: You are performing a sequence of gsutil operations that may\n",
            "run significantly faster if you instead use gsutil -m cp ... Please\n",
            "see the -m section under \"gsutil help options\" for further information\n",
            "about when gsutil -m can be advantageous.\n",
            "\n",
            "Copying gs://fb-congressional-data/glove.6B.zip...\n",
            "\\ [5 files][  2.9 GiB/  2.9 GiB]   27.3 MiB/s                                   \n",
            "Operation completed over 5 objects/2.9 GiB.                                      \n"
          ],
          "name": "stdout"
        }
      ]
    },
    {
      "cell_type": "code",
      "metadata": {
        "id": "ae5EQ7vbSs1L",
        "colab_type": "code",
        "colab": {}
      },
      "source": [
        "def create_embedding_matrix(filepath, word_index, embedding_dim):\n",
        "    vocab_size = len(word_index) + 1  # Adding again 1 because of reserved 0 index\n",
        "    embedding_matrix = np.zeros((vocab_size, embedding_dim))\n",
        "\n",
        "    with open(filepath) as f:\n",
        "        for line in f:\n",
        "            word, *vector = line.split()\n",
        "            if word in word_index:\n",
        "                idx = word_index[word] \n",
        "                embedding_matrix[idx] = np.array(\n",
        "                    vector, dtype=np.float32)[:embedding_dim]\n",
        "\n",
        "    return embedding_matrix\n",
        "\n",
        "embedding_dim = 100\n",
        "embedding_matrix = create_embedding_matrix(\n",
        "                     '/tmp/glove.6B.{}d.txt'.format(embedding_dim),\n",
        "                      tokenizer.word_index, embedding_dim)"
      ],
      "execution_count": 0,
      "outputs": []
    },
    {
      "cell_type": "code",
      "metadata": {
        "id": "kUTvp7yfut-7",
        "colab_type": "code",
        "colab": {}
      },
      "source": [
        "# trying to figure out which words are empty here\n",
        "# counter = 0\n",
        "# empty_indexes = []\n",
        "# for index, row in enumerate(embedding_matrix):\n",
        "#   if sum(row) == 0:\n",
        "#     empty_indexes.append(index)\n",
        "#     counter += 1\n",
        "#   if counter > 1000:\n",
        "#     break\n",
        "\n",
        "# for idx in empty_indexes:\n",
        "#   try:\n",
        "#     print(tokenizer.index_word[idx])\n",
        "#   except:\n",
        "#     print(\"No entry for {}\".format(idx))\n"
      ],
      "execution_count": 0,
      "outputs": []
    },
    {
      "cell_type": "code",
      "metadata": {
        "id": "UI5vn5zBSs1P",
        "colab_type": "code",
        "outputId": "1c652361-65d2-4eda-e4f8-a085d0353981",
        "colab": {
          "base_uri": "https://localhost:8080/",
          "height": 34
        }
      },
      "source": [
        "# hmmmm....\n",
        "# nonzero_elements = np.count_nonzero(np.count_nonzero(embedding_matrix, axis=1))\n",
        "# nonzero_elements / vocab_size"
      ],
      "execution_count": 0,
      "outputs": [
        {
          "output_type": "execute_result",
          "data": {
            "text/plain": [
              "0.15381079935942088"
            ]
          },
          "metadata": {
            "tags": []
          },
          "execution_count": 22
        }
      ]
    },
    {
      "cell_type": "code",
      "metadata": {
        "id": "EJtNke4FSs1X",
        "colab_type": "code",
        "outputId": "ef96b196-ddd6-4d5c-e100-2f74d34d35e8",
        "colab": {
          "base_uri": "https://localhost:8080/",
          "height": 34
        }
      },
      "source": [
        "# embedding_matrix.shape"
      ],
      "execution_count": 0,
      "outputs": [
        {
          "output_type": "execute_result",
          "data": {
            "text/plain": [
              "(1113992, 100)"
            ]
          },
          "metadata": {
            "tags": []
          },
          "execution_count": 23
        }
      ]
    },
    {
      "cell_type": "code",
      "metadata": {
        "id": "tb_yr2R9Ss1d",
        "colab_type": "code",
        "outputId": "da4e70c9-4507-480b-b78a-71fdffb48eae",
        "colab": {
          "base_uri": "https://localhost:8080/",
          "height": 545
        }
      },
      "source": [
        "model = Sequential()\n",
        "model.add(layers.Embedding(vocab_size, embedding_dim, \n",
        "                           weights=[embedding_matrix], \n",
        "                           input_length=maxlen, \n",
        "                           trainable=False))\n",
        "model.add(layers.Conv1D(128, 5, activation='relu'))\n",
        "model.add(layers.GlobalMaxPooling1D())\n",
        "model.add(layers.Dense(10, activation='relu'))\n",
        "model.add(layers.Dense(1, activation='sigmoid'))\n",
        "model.compile(optimizer='adam',\n",
        "              loss='binary_crossentropy',\n",
        "              metrics=['accuracy'])\n",
        "model.summary()"
      ],
      "execution_count": 22,
      "outputs": [
        {
          "output_type": "stream",
          "text": [
            "WARNING:tensorflow:From /usr/local/lib/python3.6/dist-packages/tensorflow_core/python/keras/initializers.py:119: calling RandomUniform.__init__ (from tensorflow.python.ops.init_ops) with dtype is deprecated and will be removed in a future version.\n",
            "Instructions for updating:\n",
            "Call initializer instance with the dtype argument instead of passing it to the constructor\n",
            "WARNING:tensorflow:From /usr/local/lib/python3.6/dist-packages/tensorflow_core/python/ops/resource_variable_ops.py:1630: calling BaseResourceVariable.__init__ (from tensorflow.python.ops.resource_variable_ops) with constraint is deprecated and will be removed in a future version.\n",
            "Instructions for updating:\n",
            "If using Keras pass *_constraint arguments to layers.\n",
            "WARNING:tensorflow:From /usr/local/lib/python3.6/dist-packages/tensorflow_core/python/ops/nn_impl.py:183: where (from tensorflow.python.ops.array_ops) is deprecated and will be removed in a future version.\n",
            "Instructions for updating:\n",
            "Use tf.where in 2.0, which has the same broadcast rule as np.where\n",
            "Model: \"sequential\"\n",
            "_________________________________________________________________\n",
            "Layer (type)                 Output Shape              Param #   \n",
            "=================================================================\n",
            "embedding (Embedding)        (None, 20, 100)           111399200 \n",
            "_________________________________________________________________\n",
            "conv1d (Conv1D)              (None, 16, 128)           64128     \n",
            "_________________________________________________________________\n",
            "global_max_pooling1d (Global (None, 128)               0         \n",
            "_________________________________________________________________\n",
            "dense (Dense)                (None, 10)                1290      \n",
            "_________________________________________________________________\n",
            "dense_1 (Dense)              (None, 1)                 11        \n",
            "=================================================================\n",
            "Total params: 111,464,629\n",
            "Trainable params: 65,429\n",
            "Non-trainable params: 111,399,200\n",
            "_________________________________________________________________\n"
          ],
          "name": "stdout"
        }
      ]
    },
    {
      "cell_type": "code",
      "metadata": {
        "id": "U_9KWVWHAAE3",
        "colab_type": "code",
        "colab": {}
      },
      "source": [
        "smaller_X_train = X_train[:TRAINING_SET_SIZE]"
      ],
      "execution_count": 0,
      "outputs": []
    },
    {
      "cell_type": "code",
      "metadata": {
        "id": "t6gn7HvuAGgQ",
        "colab_type": "code",
        "colab": {}
      },
      "source": [
        "smaller_y_train = y_train[:TRAINING_SET_SIZE]"
      ],
      "execution_count": 0,
      "outputs": []
    },
    {
      "cell_type": "code",
      "metadata": {
        "id": "3BoBWKSc2wNk",
        "colab_type": "code",
        "colab": {
          "base_uri": "https://localhost:8080/",
          "height": 75
        },
        "outputId": "7e18d64b-0377-4516-fa86-8174f4327079"
      },
      "source": [
        "# Set up oversampling with SMOTE (Synthetic Minority Oversampling Technique)\n",
        "from imblearn.over_sampling import SMOTE\n",
        "sm = SMOTE(random_state=12, ratio = 1.0) # Willl bring final ratio to 1.0\n",
        "x_train_res, y_train_res = sm.fit_sample(smaller_X_train, smaller_y_train)\n"
      ],
      "execution_count": 0,
      "outputs": [
        {
          "output_type": "stream",
          "text": [
            "/usr/local/lib/python3.6/dist-packages/sklearn/externals/six.py:31: DeprecationWarning: The module is deprecated in version 0.21 and will be removed in version 0.23 since we've dropped support for Python 2.7. Please rely on the official version of six (https://pypi.org/project/six/).\n",
            "  \"(https://pypi.org/project/six/).\", DeprecationWarning)\n"
          ],
          "name": "stderr"
        }
      ]
    },
    {
      "cell_type": "code",
      "metadata": {
        "id": "uf5R6UpGDW_y",
        "colab_type": "code",
        "colab": {}
      },
      "source": [
        "smaller_X_dev = X_test[:VAL_SET_SIZE]\n",
        "smaller_y_dev = y_dev[:VAL_SET_SIZE]"
      ],
      "execution_count": 0,
      "outputs": []
    },
    {
      "cell_type": "code",
      "metadata": {
        "id": "M4dbwlaxSs1l",
        "colab_type": "code",
        "outputId": "9f21b9ac-a5cf-4247-f7f3-611e686c6016",
        "colab": {
          "base_uri": "https://localhost:8080/",
          "height": 1000
        }
      },
      "source": [
        "try:\n",
        "  time_start = time.time()\n",
        "\n",
        "  history = model.fit(smaller_X_train, smaller_y_train,\n",
        "                      epochs=NUM_EPOCHS,\n",
        "                      verbose=True,\n",
        "                      validation_data=(smaller_X_dev, smaller_y_dev),\n",
        "                      batch_size=BATCH_SIZE)\n",
        "\n",
        "  currentTime = time.gmtime(time.time() - time_start)\n",
        "\n",
        "  #Convert the gmtime struct to a string\n",
        "  timeStr = time.strftime(\"%M minutes, %S seconds\", currentTime)\n",
        "\n",
        "  print(\"Trained in {}\".format(timeStr))\n",
        "\n",
        "except:\n",
        "  currentTime = time.gmtime(time.time() - time_start)\n",
        "\n",
        "  #Convert the gmtime struct to a string\n",
        "  timeStr = time.strftime(\"%M minutes, %S seconds\", currentTime)\n",
        "\n",
        "  print(\"Trained in {}\".format(timeStr))  "
      ],
      "execution_count": 0,
      "outputs": [
        {
          "output_type": "stream",
          "text": [
            "Train on 4000000 samples, validate on 1000000 samples\n",
            "Epoch 1/30\n",
            "4000000/4000000 [==============================] - 103s 26us/sample - loss: 0.4809 - acc: 0.7717 - val_loss: 0.4742 - val_acc: 0.8173\n",
            "Epoch 2/30\n",
            "4000000/4000000 [==============================] - 101s 25us/sample - loss: 0.4804 - acc: 0.7718 - val_loss: 0.4662 - val_acc: 0.8198\n",
            "Epoch 3/30\n",
            "4000000/4000000 [==============================] - 102s 25us/sample - loss: 0.4800 - acc: 0.7720 - val_loss: 0.4722 - val_acc: 0.8192\n",
            "Epoch 4/30\n",
            "4000000/4000000 [==============================] - 102s 26us/sample - loss: 0.4795 - acc: 0.7723 - val_loss: 0.4767 - val_acc: 0.8142\n",
            "Epoch 5/30\n",
            "4000000/4000000 [==============================] - 103s 26us/sample - loss: 0.4792 - acc: 0.7725 - val_loss: 0.4683 - val_acc: 0.8197\n",
            "Epoch 6/30\n",
            "4000000/4000000 [==============================] - 101s 25us/sample - loss: 0.4788 - acc: 0.7726 - val_loss: 0.4705 - val_acc: 0.8190\n",
            "Epoch 7/30\n",
            "4000000/4000000 [==============================] - 100s 25us/sample - loss: 0.4785 - acc: 0.7729 - val_loss: 0.4624 - val_acc: 0.8243\n",
            "Epoch 8/30\n",
            "4000000/4000000 [==============================] - 102s 25us/sample - loss: 0.4781 - acc: 0.7729 - val_loss: 0.4783 - val_acc: 0.8120\n",
            "Epoch 9/30\n",
            "4000000/4000000 [==============================] - 101s 25us/sample - loss: 0.4778 - acc: 0.7732 - val_loss: 0.4944 - val_acc: 0.8008\n",
            "Epoch 10/30\n",
            "4000000/4000000 [==============================] - 100s 25us/sample - loss: 0.4776 - acc: 0.7732 - val_loss: 0.4701 - val_acc: 0.8209\n",
            "Epoch 11/30\n",
            "4000000/4000000 [==============================] - 102s 25us/sample - loss: 0.4773 - acc: 0.7734 - val_loss: 0.4816 - val_acc: 0.8090\n",
            "Epoch 12/30\n",
            "4000000/4000000 [==============================] - 101s 25us/sample - loss: 0.4770 - acc: 0.7735 - val_loss: 0.4719 - val_acc: 0.8159\n",
            "Epoch 13/30\n",
            "4000000/4000000 [==============================] - 102s 25us/sample - loss: 0.4768 - acc: 0.7737 - val_loss: 0.4614 - val_acc: 0.8224\n",
            "Epoch 14/30\n",
            "4000000/4000000 [==============================] - 102s 25us/sample - loss: 0.4765 - acc: 0.7738 - val_loss: 0.4740 - val_acc: 0.8152\n",
            "Epoch 15/30\n",
            "4000000/4000000 [==============================] - 101s 25us/sample - loss: 0.4763 - acc: 0.7738 - val_loss: 0.4584 - val_acc: 0.8253\n",
            "Epoch 16/30\n",
            "4000000/4000000 [==============================] - 100s 25us/sample - loss: 0.4761 - acc: 0.7740 - val_loss: 0.4864 - val_acc: 0.8079\n",
            "Epoch 17/30\n",
            "4000000/4000000 [==============================] - 101s 25us/sample - loss: 0.4758 - acc: 0.7742 - val_loss: 0.4841 - val_acc: 0.8078\n",
            "Epoch 18/30\n",
            "4000000/4000000 [==============================] - 100s 25us/sample - loss: 0.4757 - acc: 0.7742 - val_loss: 0.4695 - val_acc: 0.8169\n",
            "Epoch 19/30\n",
            "4000000/4000000 [==============================] - 100s 25us/sample - loss: 0.4755 - acc: 0.7743 - val_loss: 0.4659 - val_acc: 0.8218\n",
            "Epoch 20/30\n",
            "4000000/4000000 [==============================] - 103s 26us/sample - loss: 0.4754 - acc: 0.7744 - val_loss: 0.4793 - val_acc: 0.8126\n",
            "Epoch 21/30\n",
            "4000000/4000000 [==============================] - 101s 25us/sample - loss: 0.4752 - acc: 0.7745 - val_loss: 0.4928 - val_acc: 0.8029\n",
            "Epoch 22/30\n",
            "4000000/4000000 [==============================] - 100s 25us/sample - loss: 0.4750 - acc: 0.7745 - val_loss: 0.4784 - val_acc: 0.8137\n",
            "Epoch 23/30\n",
            "4000000/4000000 [==============================] - 102s 25us/sample - loss: 0.4748 - acc: 0.7747 - val_loss: 0.4599 - val_acc: 0.8246\n",
            "Epoch 24/30\n",
            "4000000/4000000 [==============================] - 100s 25us/sample - loss: 0.4747 - acc: 0.7747 - val_loss: 0.4789 - val_acc: 0.8127\n",
            "Epoch 25/30\n",
            "4000000/4000000 [==============================] - 102s 25us/sample - loss: 0.4745 - acc: 0.7748 - val_loss: 0.4722 - val_acc: 0.8191\n",
            "Epoch 26/30\n",
            "4000000/4000000 [==============================] - 102s 25us/sample - loss: 0.4744 - acc: 0.7749 - val_loss: 0.4745 - val_acc: 0.8148\n",
            "Epoch 27/30\n",
            "4000000/4000000 [==============================] - 100s 25us/sample - loss: 0.4743 - acc: 0.7748 - val_loss: 0.4741 - val_acc: 0.8154\n",
            "Epoch 28/30\n",
            "4000000/4000000 [==============================] - 98s 25us/sample - loss: 0.4741 - acc: 0.7749 - val_loss: 0.4771 - val_acc: 0.8126\n",
            "Epoch 29/30\n",
            "4000000/4000000 [==============================] - 102s 25us/sample - loss: 0.4740 - acc: 0.7751 - val_loss: 0.4628 - val_acc: 0.8226\n",
            "Epoch 30/30\n",
            "4000000/4000000 [==============================] - 98s 25us/sample - loss: 0.4739 - acc: 0.7751 - val_loss: 0.4691 - val_acc: 0.8177\n",
            "Trained in 50 minutes, 32 seconds\n"
          ],
          "name": "stdout"
        }
      ]
    },
    {
      "cell_type": "code",
      "metadata": {
        "id": "h4P5Y5wgSs1o",
        "colab_type": "code",
        "outputId": "5812c169-f3ac-4e51-ea22-0ed43398811f",
        "colab": {
          "base_uri": "https://localhost:8080/",
          "height": 51
        }
      },
      "source": [
        "loss, accuracy = model.evaluate(smaller_X_train, smaller_y_train, verbose=False)\n",
        "print(\"Training Accuracy: {:.4f}\".format(accuracy))\n",
        "loss, accuracy = model.evaluate(X_test, y_dev, verbose=False)\n",
        "print(\"Testing Accuracy:  {:.4f}\".format(accuracy))\n"
      ],
      "execution_count": 0,
      "outputs": [
        {
          "output_type": "stream",
          "text": [
            "Training Accuracy: 0.7765\n",
            "Testing Accuracy:  0.8178\n"
          ],
          "name": "stdout"
        }
      ]
    },
    {
      "cell_type": "code",
      "metadata": {
        "id": "L5G9XjaGJh-T",
        "colab_type": "code",
        "colab": {}
      },
      "source": [
        "# can't get this to work\n",
        "plot_model(history)"
      ],
      "execution_count": 0,
      "outputs": []
    },
    {
      "cell_type": "code",
      "metadata": {
        "id": "ccL7n659KbQ-",
        "colab_type": "code",
        "colab": {}
      },
      "source": [
        "preds = model.predict(X_test)"
      ],
      "execution_count": 0,
      "outputs": []
    },
    {
      "cell_type": "code",
      "metadata": {
        "id": "lhpB8QsgGMZ5",
        "colab_type": "code",
        "colab": {}
      },
      "source": [
        "dev_df['probs'] = preds"
      ],
      "execution_count": 0,
      "outputs": []
    },
    {
      "cell_type": "code",
      "metadata": {
        "id": "1T2IxdCMGf2e",
        "colab_type": "code",
        "colab": {}
      },
      "source": [
        "def pred_to_label(row):\n",
        "  if row['probs'] >= .5:\n",
        "    return 'M'\n",
        "  else:\n",
        "    return 'W'\n",
        "\n",
        "dev_df['preds'] = dev_df.apply(pred_to_label, axis=1)"
      ],
      "execution_count": 0,
      "outputs": []
    },
    {
      "cell_type": "code",
      "metadata": {
        "id": "NzbasnNWGg5J",
        "colab_type": "code",
        "colab": {}
      },
      "source": [
        "wrong_preds = dev_df[dev_df.op_gender!=dev_df.preds]"
      ],
      "execution_count": 0,
      "outputs": []
    },
    {
      "cell_type": "code",
      "metadata": {
        "id": "nAYve8ZhG7wt",
        "colab_type": "code",
        "outputId": "252d34d0-e89a-42b0-e8e7-d61998c9b9e2",
        "colab": {
          "base_uri": "https://localhost:8080/",
          "height": 68
        }
      },
      "source": [
        "wrong_preds.op_gender.value_counts()"
      ],
      "execution_count": 0,
      "outputs": [
        {
          "output_type": "execute_result",
          "data": {
            "text/plain": [
              "W    296541\n",
              "M    115388\n",
              "Name: op_gender, dtype: int64"
            ]
          },
          "metadata": {
            "tags": []
          },
          "execution_count": 69
        }
      ]
    },
    {
      "cell_type": "code",
      "metadata": {
        "id": "NJJrm2LxHFzN",
        "colab_type": "code",
        "outputId": "809b94b6-4eca-49ea-c640-29610537aad7",
        "colab": {
          "base_uri": "https://localhost:8080/",
          "height": 34
        }
      },
      "source": [
        "# total proportion of preds for women\n",
        "dev_df.preds.value_counts()['W'] / len(dev_df)"
      ],
      "execution_count": 0,
      "outputs": [
        {
          "output_type": "execute_result",
          "data": {
            "text/plain": [
              "0.07341074016521386"
            ]
          },
          "metadata": {
            "tags": []
          },
          "execution_count": 70
        }
      ]
    },
    {
      "cell_type": "code",
      "metadata": {
        "id": "SxFooJUbHVUB",
        "colab_type": "code",
        "outputId": "725d8b4f-4d75-4dc4-9779-8db2aab248dd",
        "colab": {
          "base_uri": "https://localhost:8080/",
          "height": 1000
        }
      },
      "source": [
        "#random sample of mistakes\n",
        "wrong_preds.head(20)"
      ],
      "execution_count": 0,
      "outputs": [
        {
          "output_type": "execute_result",
          "data": {
            "text/html": [
              "<div>\n",
              "<style scoped>\n",
              "    .dataframe tbody tr th:only-of-type {\n",
              "        vertical-align: middle;\n",
              "    }\n",
              "\n",
              "    .dataframe tbody tr th {\n",
              "        vertical-align: top;\n",
              "    }\n",
              "\n",
              "    .dataframe thead th {\n",
              "        text-align: right;\n",
              "    }\n",
              "</style>\n",
              "<table border=\"1\" class=\"dataframe\">\n",
              "  <thead>\n",
              "    <tr style=\"text-align: right;\">\n",
              "      <th></th>\n",
              "      <th>original_idx</th>\n",
              "      <th>op_id</th>\n",
              "      <th>op_gender</th>\n",
              "      <th>post_id</th>\n",
              "      <th>responder_id</th>\n",
              "      <th>response_text</th>\n",
              "      <th>op_name</th>\n",
              "      <th>op_category</th>\n",
              "      <th>preds</th>\n",
              "      <th>probs</th>\n",
              "    </tr>\n",
              "  </thead>\n",
              "  <tbody>\n",
              "    <tr>\n",
              "      <th>1977975</th>\n",
              "      <td>11027367</td>\n",
              "      <td>86569077</td>\n",
              "      <td>W</td>\n",
              "      <td>389827</td>\n",
              "      <td>Dan</td>\n",
              "      <td>I asked Senator Mark Kirk to support this and he did not. Very disappointed, considering he is m...</td>\n",
              "      <td>Kirsten Gillibrand</td>\n",
              "      <td>Congress_Democratic</td>\n",
              "      <td>M</td>\n",
              "      <td>0.861726</td>\n",
              "    </tr>\n",
              "    <tr>\n",
              "      <th>2005426</th>\n",
              "      <td>11054818</td>\n",
              "      <td>86569077</td>\n",
              "      <td>W</td>\n",
              "      <td>390085</td>\n",
              "      <td>Keith</td>\n",
              "      <td>POS! I knew she was a democrap turncoat</td>\n",
              "      <td>Kirsten Gillibrand</td>\n",
              "      <td>Congress_Democratic</td>\n",
              "      <td>M</td>\n",
              "      <td>0.692199</td>\n",
              "    </tr>\n",
              "    <tr>\n",
              "      <th>2087640</th>\n",
              "      <td>11228620</td>\n",
              "      <td>77234050</td>\n",
              "      <td>W</td>\n",
              "      <td>399295</td>\n",
              "      <td>Audrey</td>\n",
              "      <td>yes you did get stories and they were very postive,we as Americans want and deserve ACA. you hav...</td>\n",
              "      <td>Cathy McMorris Rodgers</td>\n",
              "      <td>Congress_Republican</td>\n",
              "      <td>M</td>\n",
              "      <td>0.805755</td>\n",
              "    </tr>\n",
              "    <tr>\n",
              "      <th>239790</th>\n",
              "      <td>2442996</td>\n",
              "      <td>71417411</td>\n",
              "      <td>M</td>\n",
              "      <td>54820</td>\n",
              "      <td>Jay</td>\n",
              "      <td>Why do the people of Planned Parenthood lie so much  ?</td>\n",
              "      <td>Blake Farenthold</td>\n",
              "      <td>Congress_Republican</td>\n",
              "      <td>W</td>\n",
              "      <td>0.479726</td>\n",
              "    </tr>\n",
              "    <tr>\n",
              "      <th>1936248</th>\n",
              "      <td>10985640</td>\n",
              "      <td>86569077</td>\n",
              "      <td>W</td>\n",
              "      <td>389409</td>\n",
              "      <td>Rob</td>\n",
              "      <td>Will you also please mention her illegal and scandalous history ?</td>\n",
              "      <td>Kirsten Gillibrand</td>\n",
              "      <td>Congress_Democratic</td>\n",
              "      <td>M</td>\n",
              "      <td>0.617255</td>\n",
              "    </tr>\n",
              "    <tr>\n",
              "      <th>1981930</th>\n",
              "      <td>11031322</td>\n",
              "      <td>86569077</td>\n",
              "      <td>W</td>\n",
              "      <td>389864</td>\n",
              "      <td>Rowland</td>\n",
              "      <td>You're a powerhouse. Love it!</td>\n",
              "      <td>Kirsten Gillibrand</td>\n",
              "      <td>Congress_Democratic</td>\n",
              "      <td>M</td>\n",
              "      <td>0.554559</td>\n",
              "    </tr>\n",
              "    <tr>\n",
              "      <th>397524</th>\n",
              "      <td>3147615</td>\n",
              "      <td>23984618</td>\n",
              "      <td>W</td>\n",
              "      <td>83716</td>\n",
              "      <td>Mike</td>\n",
              "      <td>More nonsense!!!</td>\n",
              "      <td>Ann Wagner</td>\n",
              "      <td>Congress_Republican</td>\n",
              "      <td>M</td>\n",
              "      <td>0.683614</td>\n",
              "    </tr>\n",
              "    <tr>\n",
              "      <th>1244834</th>\n",
              "      <td>7371402</td>\n",
              "      <td>94431309</td>\n",
              "      <td>W</td>\n",
              "      <td>277104</td>\n",
              "      <td>Beth</td>\n",
              "      <td>I am truly happy for your family.  However, your hypocrisy is mind-boggling.  You, of all people...</td>\n",
              "      <td>Jaime Herrera Beutler</td>\n",
              "      <td>Congress_Republican</td>\n",
              "      <td>M</td>\n",
              "      <td>0.619583</td>\n",
              "    </tr>\n",
              "    <tr>\n",
              "      <th>2077148</th>\n",
              "      <td>11218128</td>\n",
              "      <td>77234050</td>\n",
              "      <td>W</td>\n",
              "      <td>398827</td>\n",
              "      <td>Blainer</td>\n",
              "      <td>Are you drinking from the snake river?</td>\n",
              "      <td>Cathy McMorris Rodgers</td>\n",
              "      <td>Congress_Republican</td>\n",
              "      <td>M</td>\n",
              "      <td>0.800732</td>\n",
              "    </tr>\n",
              "    <tr>\n",
              "      <th>2000187</th>\n",
              "      <td>11049579</td>\n",
              "      <td>86569077</td>\n",
              "      <td>W</td>\n",
              "      <td>390039</td>\n",
              "      <td>Mike</td>\n",
              "      <td>Linda.  Have a common name that gets you delayed by NICS?  That's an infringement.  As MLK said ...</td>\n",
              "      <td>Kirsten Gillibrand</td>\n",
              "      <td>Congress_Democratic</td>\n",
              "      <td>M</td>\n",
              "      <td>0.771842</td>\n",
              "    </tr>\n",
              "    <tr>\n",
              "      <th>2135442</th>\n",
              "      <td>11276422</td>\n",
              "      <td>77234050</td>\n",
              "      <td>W</td>\n",
              "      <td>399871</td>\n",
              "      <td>Melinda</td>\n",
              "      <td>Universal health care does not mean more access or better care.  Having done some research on th...</td>\n",
              "      <td>Cathy McMorris Rodgers</td>\n",
              "      <td>Congress_Republican</td>\n",
              "      <td>M</td>\n",
              "      <td>0.622001</td>\n",
              "    </tr>\n",
              "    <tr>\n",
              "      <th>2151922</th>\n",
              "      <td>11292902</td>\n",
              "      <td>77234050</td>\n",
              "      <td>W</td>\n",
              "      <td>400341</td>\n",
              "      <td>John</td>\n",
              "      <td>Cathy, if you vote for these bills, you'll be no better than Obama, who doesn't seem to listen t...</td>\n",
              "      <td>Cathy McMorris Rodgers</td>\n",
              "      <td>Congress_Republican</td>\n",
              "      <td>M</td>\n",
              "      <td>0.756609</td>\n",
              "    </tr>\n",
              "    <tr>\n",
              "      <th>2056</th>\n",
              "      <td>2119971</td>\n",
              "      <td>38794897</td>\n",
              "      <td>M</td>\n",
              "      <td>36269</td>\n",
              "      <td>Ann</td>\n",
              "      <td>Thank you Senator Brown!</td>\n",
              "      <td>Sherrod Brown</td>\n",
              "      <td>Congress_Democratic</td>\n",
              "      <td>W</td>\n",
              "      <td>0.238249</td>\n",
              "    </tr>\n",
              "    <tr>\n",
              "      <th>2292592</th>\n",
              "      <td>13628257</td>\n",
              "      <td>4938109</td>\n",
              "      <td>W</td>\n",
              "      <td>529614</td>\n",
              "      <td>Pearl</td>\n",
              "      <td>So when Alan Dershowitz gave a speech containing very controversial issues and no one was there ...</td>\n",
              "      <td>Yvette Clarke</td>\n",
              "      <td>Congress_Democratic</td>\n",
              "      <td>M</td>\n",
              "      <td>0.627557</td>\n",
              "    </tr>\n",
              "    <tr>\n",
              "      <th>1159150</th>\n",
              "      <td>6090924</td>\n",
              "      <td>19189340</td>\n",
              "      <td>W</td>\n",
              "      <td>209091</td>\n",
              "      <td>Michael</td>\n",
              "      <td>gotto star going back up there , I guess Mo left</td>\n",
              "      <td>Robin Kelly</td>\n",
              "      <td>Congress_Democratic</td>\n",
              "      <td>M</td>\n",
              "      <td>0.556581</td>\n",
              "    </tr>\n",
              "    <tr>\n",
              "      <th>2011044</th>\n",
              "      <td>11060436</td>\n",
              "      <td>86569077</td>\n",
              "      <td>W</td>\n",
              "      <td>390121</td>\n",
              "      <td>Kyla</td>\n",
              "      <td>I think the bigger problem is that NYS has been consistently cutting funding on mental health, a...</td>\n",
              "      <td>Kirsten Gillibrand</td>\n",
              "      <td>Congress_Democratic</td>\n",
              "      <td>M</td>\n",
              "      <td>0.624188</td>\n",
              "    </tr>\n",
              "    <tr>\n",
              "      <th>432735</th>\n",
              "      <td>3365970</td>\n",
              "      <td>76269753</td>\n",
              "      <td>W</td>\n",
              "      <td>103782</td>\n",
              "      <td>Stephanie</td>\n",
              "      <td>I voted for you as always.</td>\n",
              "      <td>Dianne Feinstein</td>\n",
              "      <td>Congress_Democratic</td>\n",
              "      <td>M</td>\n",
              "      <td>0.500004</td>\n",
              "    </tr>\n",
              "    <tr>\n",
              "      <th>1243930</th>\n",
              "      <td>7370498</td>\n",
              "      <td>94431309</td>\n",
              "      <td>W</td>\n",
              "      <td>277072</td>\n",
              "      <td>Candy</td>\n",
              "      <td>Carl, you're a closet minded disrespecting jerk.</td>\n",
              "      <td>Jaime Herrera Beutler</td>\n",
              "      <td>Congress_Republican</td>\n",
              "      <td>M</td>\n",
              "      <td>0.546891</td>\n",
              "    </tr>\n",
              "    <tr>\n",
              "      <th>2082467</th>\n",
              "      <td>11223447</td>\n",
              "      <td>77234050</td>\n",
              "      <td>W</td>\n",
              "      <td>399190</td>\n",
              "      <td>Ali</td>\n",
              "      <td>Thank you Congresswoman Cathy McMorris Rodgers for standing by Iranian and American people as th...</td>\n",
              "      <td>Cathy McMorris Rodgers</td>\n",
              "      <td>Congress_Republican</td>\n",
              "      <td>M</td>\n",
              "      <td>0.753349</td>\n",
              "    </tr>\n",
              "    <tr>\n",
              "      <th>392403</th>\n",
              "      <td>3142494</td>\n",
              "      <td>23984618</td>\n",
              "      <td>W</td>\n",
              "      <td>83664</td>\n",
              "      <td>Damien</td>\n",
              "      <td>I would ask her how come Obama administration lie about people keeping their planes? Carmen Leon...</td>\n",
              "      <td>Ann Wagner</td>\n",
              "      <td>Congress_Republican</td>\n",
              "      <td>M</td>\n",
              "      <td>0.779602</td>\n",
              "    </tr>\n",
              "  </tbody>\n",
              "</table>\n",
              "</div>"
            ],
            "text/plain": [
              "         original_idx     op_id op_gender  ...          op_category preds     probs\n",
              "1977975      11027367  86569077         W  ...  Congress_Democratic     M  0.861726\n",
              "2005426      11054818  86569077         W  ...  Congress_Democratic     M  0.692199\n",
              "2087640      11228620  77234050         W  ...  Congress_Republican     M  0.805755\n",
              "239790        2442996  71417411         M  ...  Congress_Republican     W  0.479726\n",
              "1936248      10985640  86569077         W  ...  Congress_Democratic     M  0.617255\n",
              "1981930      11031322  86569077         W  ...  Congress_Democratic     M  0.554559\n",
              "397524        3147615  23984618         W  ...  Congress_Republican     M  0.683614\n",
              "1244834       7371402  94431309         W  ...  Congress_Republican     M  0.619583\n",
              "2077148      11218128  77234050         W  ...  Congress_Republican     M  0.800732\n",
              "2000187      11049579  86569077         W  ...  Congress_Democratic     M  0.771842\n",
              "2135442      11276422  77234050         W  ...  Congress_Republican     M  0.622001\n",
              "2151922      11292902  77234050         W  ...  Congress_Republican     M  0.756609\n",
              "2056          2119971  38794897         M  ...  Congress_Democratic     W  0.238249\n",
              "2292592      13628257   4938109         W  ...  Congress_Democratic     M  0.627557\n",
              "1159150       6090924  19189340         W  ...  Congress_Democratic     M  0.556581\n",
              "2011044      11060436  86569077         W  ...  Congress_Democratic     M  0.624188\n",
              "432735        3365970  76269753         W  ...  Congress_Democratic     M  0.500004\n",
              "1243930       7370498  94431309         W  ...  Congress_Republican     M  0.546891\n",
              "2082467      11223447  77234050         W  ...  Congress_Republican     M  0.753349\n",
              "392403        3142494  23984618         W  ...  Congress_Republican     M  0.779602\n",
              "\n",
              "[20 rows x 10 columns]"
            ]
          },
          "metadata": {
            "tags": []
          },
          "execution_count": 71
        }
      ]
    },
    {
      "cell_type": "code",
      "metadata": {
        "id": "qaswseIjHc8j",
        "colab_type": "code",
        "outputId": "9449c4cd-2aba-4269-db52-2348686371d0",
        "colab": {
          "base_uri": "https://localhost:8080/",
          "height": 1000
        }
      },
      "source": [
        "# most confident wrong predictions where the answer was F but they thought M\n",
        "# same as before - references to a male politician \n",
        "wrong_preds.sort_values('probs', ascending=False)[:20]"
      ],
      "execution_count": 0,
      "outputs": [
        {
          "output_type": "execute_result",
          "data": {
            "text/html": [
              "<div>\n",
              "<style scoped>\n",
              "    .dataframe tbody tr th:only-of-type {\n",
              "        vertical-align: middle;\n",
              "    }\n",
              "\n",
              "    .dataframe tbody tr th {\n",
              "        vertical-align: top;\n",
              "    }\n",
              "\n",
              "    .dataframe thead th {\n",
              "        text-align: right;\n",
              "    }\n",
              "</style>\n",
              "<table border=\"1\" class=\"dataframe\">\n",
              "  <thead>\n",
              "    <tr style=\"text-align: right;\">\n",
              "      <th></th>\n",
              "      <th>original_idx</th>\n",
              "      <th>op_id</th>\n",
              "      <th>op_gender</th>\n",
              "      <th>post_id</th>\n",
              "      <th>responder_id</th>\n",
              "      <th>response_text</th>\n",
              "      <th>op_name</th>\n",
              "      <th>op_category</th>\n",
              "      <th>preds</th>\n",
              "      <th>probs</th>\n",
              "    </tr>\n",
              "  </thead>\n",
              "  <tbody>\n",
              "    <tr>\n",
              "      <th>2137926</th>\n",
              "      <td>11278906</td>\n",
              "      <td>77234050</td>\n",
              "      <td>W</td>\n",
              "      <td>399910</td>\n",
              "      <td>Doug</td>\n",
              "      <td>I refuse to watch that lying POS on TV anymore.  I refuse to watch the clapping seals seated in ...</td>\n",
              "      <td>Cathy McMorris Rodgers</td>\n",
              "      <td>Congress_Republican</td>\n",
              "      <td>M</td>\n",
              "      <td>0.999883</td>\n",
              "    </tr>\n",
              "    <tr>\n",
              "      <th>1993458</th>\n",
              "      <td>11042850</td>\n",
              "      <td>86569077</td>\n",
              "      <td>W</td>\n",
              "      <td>389980</td>\n",
              "      <td>Kristin</td>\n",
              "      <td>That is why I stand by Rand.  But you must be constitutional across the bridge and back, not sel...</td>\n",
              "      <td>Kirsten Gillibrand</td>\n",
              "      <td>Congress_Democratic</td>\n",
              "      <td>M</td>\n",
              "      <td>0.999851</td>\n",
              "    </tr>\n",
              "    <tr>\n",
              "      <th>1957878</th>\n",
              "      <td>11007270</td>\n",
              "      <td>86569077</td>\n",
              "      <td>W</td>\n",
              "      <td>389621</td>\n",
              "      <td>Amy</td>\n",
              "      <td>I STAND WITH RAND!! 2016</td>\n",
              "      <td>Kirsten Gillibrand</td>\n",
              "      <td>Congress_Democratic</td>\n",
              "      <td>M</td>\n",
              "      <td>0.999807</td>\n",
              "    </tr>\n",
              "    <tr>\n",
              "      <th>2151486</th>\n",
              "      <td>11292466</td>\n",
              "      <td>77234050</td>\n",
              "      <td>W</td>\n",
              "      <td>400340</td>\n",
              "      <td>Rod</td>\n",
              "      <td>Thanks, Rep. McMorris for your continuous, unflinching fight against this oppressively Socialist...</td>\n",
              "      <td>Cathy McMorris Rodgers</td>\n",
              "      <td>Congress_Republican</td>\n",
              "      <td>M</td>\n",
              "      <td>0.999803</td>\n",
              "    </tr>\n",
              "    <tr>\n",
              "      <th>2001592</th>\n",
              "      <td>11050984</td>\n",
              "      <td>86569077</td>\n",
              "      <td>W</td>\n",
              "      <td>390046</td>\n",
              "      <td>Reaver</td>\n",
              "      <td>Stand with Rand /Cruz/Lee</td>\n",
              "      <td>Kirsten Gillibrand</td>\n",
              "      <td>Congress_Democratic</td>\n",
              "      <td>M</td>\n",
              "      <td>0.999792</td>\n",
              "    </tr>\n",
              "    <tr>\n",
              "      <th>2003832</th>\n",
              "      <td>11053224</td>\n",
              "      <td>86569077</td>\n",
              "      <td>W</td>\n",
              "      <td>390071</td>\n",
              "      <td>Susan</td>\n",
              "      <td>Yes, thank goodness for Rand Paul! Wasting the tax payers money!</td>\n",
              "      <td>Kirsten Gillibrand</td>\n",
              "      <td>Congress_Democratic</td>\n",
              "      <td>M</td>\n",
              "      <td>0.999785</td>\n",
              "    </tr>\n",
              "    <tr>\n",
              "      <th>2037175</th>\n",
              "      <td>11086567</td>\n",
              "      <td>86569077</td>\n",
              "      <td>W</td>\n",
              "      <td>390472</td>\n",
              "      <td>Matt</td>\n",
              "      <td>http://www.slate.com/blogs/blogs/weigel/archive/2011/05/26/rand-paul-s-noble-defeat-on-the-patri...</td>\n",
              "      <td>Kirsten Gillibrand</td>\n",
              "      <td>Congress_Democratic</td>\n",
              "      <td>M</td>\n",
              "      <td>0.999782</td>\n",
              "    </tr>\n",
              "    <tr>\n",
              "      <th>1993131</th>\n",
              "      <td>11042523</td>\n",
              "      <td>86569077</td>\n",
              "      <td>W</td>\n",
              "      <td>389977</td>\n",
              "      <td>Colleen</td>\n",
              "      <td>You mean Mr Paul Mark?  Rand Opportunist Paul?</td>\n",
              "      <td>Kirsten Gillibrand</td>\n",
              "      <td>Congress_Democratic</td>\n",
              "      <td>M</td>\n",
              "      <td>0.999778</td>\n",
              "    </tr>\n",
              "    <tr>\n",
              "      <th>429400</th>\n",
              "      <td>3362635</td>\n",
              "      <td>76269753</td>\n",
              "      <td>W</td>\n",
              "      <td>103747</td>\n",
              "      <td>Ivan</td>\n",
              "      <td>Do you stand with Rand?</td>\n",
              "      <td>Dianne Feinstein</td>\n",
              "      <td>Congress_Democratic</td>\n",
              "      <td>M</td>\n",
              "      <td>0.999776</td>\n",
              "    </tr>\n",
              "    <tr>\n",
              "      <th>429376</th>\n",
              "      <td>3362611</td>\n",
              "      <td>76269753</td>\n",
              "      <td>W</td>\n",
              "      <td>103747</td>\n",
              "      <td>Shane</td>\n",
              "      <td>Do you Stand with Rand?</td>\n",
              "      <td>Dianne Feinstein</td>\n",
              "      <td>Congress_Democratic</td>\n",
              "      <td>M</td>\n",
              "      <td>0.999776</td>\n",
              "    </tr>\n",
              "    <tr>\n",
              "      <th>2137789</th>\n",
              "      <td>11278769</td>\n",
              "      <td>77234050</td>\n",
              "      <td>W</td>\n",
              "      <td>399908</td>\n",
              "      <td>Rj</td>\n",
              "      <td>Per Rand Paul . . if Congress refuses to follow the laws then sweep the place clean ! !</td>\n",
              "      <td>Cathy McMorris Rodgers</td>\n",
              "      <td>Congress_Republican</td>\n",
              "      <td>M</td>\n",
              "      <td>0.999741</td>\n",
              "    </tr>\n",
              "    <tr>\n",
              "      <th>2137810</th>\n",
              "      <td>11278790</td>\n",
              "      <td>77234050</td>\n",
              "      <td>W</td>\n",
              "      <td>399908</td>\n",
              "      <td>Tim</td>\n",
              "      <td>Yeah Brad, Rand Paul is true winner. Get a grip.</td>\n",
              "      <td>Cathy McMorris Rodgers</td>\n",
              "      <td>Congress_Republican</td>\n",
              "      <td>M</td>\n",
              "      <td>0.999625</td>\n",
              "    </tr>\n",
              "    <tr>\n",
              "      <th>2050608</th>\n",
              "      <td>11100000</td>\n",
              "      <td>86569077</td>\n",
              "      <td>W</td>\n",
              "      <td>390691</td>\n",
              "      <td>Noel</td>\n",
              "      <td>My sister lost her husband cleaning up 9/11.  My sister's husband died of cancer at the age of 3...</td>\n",
              "      <td>Kirsten Gillibrand</td>\n",
              "      <td>Congress_Democratic</td>\n",
              "      <td>M</td>\n",
              "      <td>0.999598</td>\n",
              "    </tr>\n",
              "    <tr>\n",
              "      <th>2050249</th>\n",
              "      <td>11099641</td>\n",
              "      <td>86569077</td>\n",
              "      <td>W</td>\n",
              "      <td>390682</td>\n",
              "      <td>Tina</td>\n",
              "      <td>Thank God for Senator Chuck Schumer!</td>\n",
              "      <td>Kirsten Gillibrand</td>\n",
              "      <td>Congress_Democratic</td>\n",
              "      <td>M</td>\n",
              "      <td>0.999593</td>\n",
              "    </tr>\n",
              "    <tr>\n",
              "      <th>1955542</th>\n",
              "      <td>11004934</td>\n",
              "      <td>86569077</td>\n",
              "      <td>W</td>\n",
              "      <td>389590</td>\n",
              "      <td>Kathy</td>\n",
              "      <td>Thanks for standing on the side of Rand!</td>\n",
              "      <td>Kirsten Gillibrand</td>\n",
              "      <td>Congress_Democratic</td>\n",
              "      <td>M</td>\n",
              "      <td>0.999555</td>\n",
              "    </tr>\n",
              "    <tr>\n",
              "      <th>2046603</th>\n",
              "      <td>11095995</td>\n",
              "      <td>86569077</td>\n",
              "      <td>W</td>\n",
              "      <td>390605</td>\n",
              "      <td>Johnny</td>\n",
              "      <td>Thank you for making sense and explaining a little insider info on what really goes on in the mi...</td>\n",
              "      <td>Kirsten Gillibrand</td>\n",
              "      <td>Congress_Democratic</td>\n",
              "      <td>M</td>\n",
              "      <td>0.999469</td>\n",
              "    </tr>\n",
              "    <tr>\n",
              "      <th>2001490</th>\n",
              "      <td>11050882</td>\n",
              "      <td>86569077</td>\n",
              "      <td>W</td>\n",
              "      <td>390046</td>\n",
              "      <td>Jay</td>\n",
              "      <td>/ Just because you have the numbers, you can't decide to legislate away the rights of those you ...</td>\n",
              "      <td>Kirsten Gillibrand</td>\n",
              "      <td>Congress_Democratic</td>\n",
              "      <td>M</td>\n",
              "      <td>0.999465</td>\n",
              "    </tr>\n",
              "    <tr>\n",
              "      <th>380901</th>\n",
              "      <td>3130992</td>\n",
              "      <td>23984618</td>\n",
              "      <td>W</td>\n",
              "      <td>83281</td>\n",
              "      <td>Tom</td>\n",
              "      <td>Yes Obama has to sign the 11 separate appropriation bills that make up the budget  yes sir Adam ...</td>\n",
              "      <td>Ann Wagner</td>\n",
              "      <td>Congress_Republican</td>\n",
              "      <td>M</td>\n",
              "      <td>0.999460</td>\n",
              "    </tr>\n",
              "    <tr>\n",
              "      <th>1916668</th>\n",
              "      <td>10966060</td>\n",
              "      <td>86569077</td>\n",
              "      <td>W</td>\n",
              "      <td>389341</td>\n",
              "      <td>Margery</td>\n",
              "      <td>Thank you.  Our children deserve better.  Maybe you might get NC Senator Burr to vote against her.</td>\n",
              "      <td>Kirsten Gillibrand</td>\n",
              "      <td>Congress_Democratic</td>\n",
              "      <td>M</td>\n",
              "      <td>0.999455</td>\n",
              "    </tr>\n",
              "    <tr>\n",
              "      <th>2001084</th>\n",
              "      <td>11050476</td>\n",
              "      <td>86569077</td>\n",
              "      <td>W</td>\n",
              "      <td>390043</td>\n",
              "      <td>Margaret</td>\n",
              "      <td>The shooter took his mother's gun. If these guns were still banned, she wouldn't have it. Mr Ran...</td>\n",
              "      <td>Kirsten Gillibrand</td>\n",
              "      <td>Congress_Democratic</td>\n",
              "      <td>M</td>\n",
              "      <td>0.999443</td>\n",
              "    </tr>\n",
              "  </tbody>\n",
              "</table>\n",
              "</div>"
            ],
            "text/plain": [
              "         original_idx     op_id op_gender  ...          op_category preds     probs\n",
              "2137926      11278906  77234050         W  ...  Congress_Republican     M  0.999883\n",
              "1993458      11042850  86569077         W  ...  Congress_Democratic     M  0.999851\n",
              "1957878      11007270  86569077         W  ...  Congress_Democratic     M  0.999807\n",
              "2151486      11292466  77234050         W  ...  Congress_Republican     M  0.999803\n",
              "2001592      11050984  86569077         W  ...  Congress_Democratic     M  0.999792\n",
              "2003832      11053224  86569077         W  ...  Congress_Democratic     M  0.999785\n",
              "2037175      11086567  86569077         W  ...  Congress_Democratic     M  0.999782\n",
              "1993131      11042523  86569077         W  ...  Congress_Democratic     M  0.999778\n",
              "429400        3362635  76269753         W  ...  Congress_Democratic     M  0.999776\n",
              "429376        3362611  76269753         W  ...  Congress_Democratic     M  0.999776\n",
              "2137789      11278769  77234050         W  ...  Congress_Republican     M  0.999741\n",
              "2137810      11278790  77234050         W  ...  Congress_Republican     M  0.999625\n",
              "2050608      11100000  86569077         W  ...  Congress_Democratic     M  0.999598\n",
              "2050249      11099641  86569077         W  ...  Congress_Democratic     M  0.999593\n",
              "1955542      11004934  86569077         W  ...  Congress_Democratic     M  0.999555\n",
              "2046603      11095995  86569077         W  ...  Congress_Democratic     M  0.999469\n",
              "2001490      11050882  86569077         W  ...  Congress_Democratic     M  0.999465\n",
              "380901        3130992  23984618         W  ...  Congress_Republican     M  0.999460\n",
              "1916668      10966060  86569077         W  ...  Congress_Democratic     M  0.999455\n",
              "2001084      11050476  86569077         W  ...  Congress_Democratic     M  0.999443\n",
              "\n",
              "[20 rows x 10 columns]"
            ]
          },
          "metadata": {
            "tags": []
          },
          "execution_count": 72
        }
      ]
    },
    {
      "cell_type": "code",
      "metadata": {
        "id": "KoJzrEOfIct2",
        "colab_type": "code",
        "outputId": "847ceb19-ccca-46a7-c0de-a803580661b6",
        "colab": {
          "base_uri": "https://localhost:8080/",
          "height": 1000
        }
      },
      "source": [
        "# most confident wrong predictions where the answer was F but they thought M\n",
        "# same as before - references to a male politician \n",
        "wrong_preds.sort_values('probs', ascending=True)[:20]"
      ],
      "execution_count": 0,
      "outputs": [
        {
          "output_type": "execute_result",
          "data": {
            "text/html": [
              "<div>\n",
              "<style scoped>\n",
              "    .dataframe tbody tr th:only-of-type {\n",
              "        vertical-align: middle;\n",
              "    }\n",
              "\n",
              "    .dataframe tbody tr th {\n",
              "        vertical-align: top;\n",
              "    }\n",
              "\n",
              "    .dataframe thead th {\n",
              "        text-align: right;\n",
              "    }\n",
              "</style>\n",
              "<table border=\"1\" class=\"dataframe\">\n",
              "  <thead>\n",
              "    <tr style=\"text-align: right;\">\n",
              "      <th></th>\n",
              "      <th>original_idx</th>\n",
              "      <th>op_id</th>\n",
              "      <th>op_gender</th>\n",
              "      <th>post_id</th>\n",
              "      <th>responder_id</th>\n",
              "      <th>response_text</th>\n",
              "      <th>op_name</th>\n",
              "      <th>op_category</th>\n",
              "      <th>preds</th>\n",
              "      <th>probs</th>\n",
              "    </tr>\n",
              "  </thead>\n",
              "  <tbody>\n",
              "    <tr>\n",
              "      <th>1887369</th>\n",
              "      <td>10920297</td>\n",
              "      <td>10458808</td>\n",
              "      <td>M</td>\n",
              "      <td>386070</td>\n",
              "      <td>Stephen</td>\n",
              "      <td>Yes yes yes. Kamala.  You have always been there for us!!!  Fantastic!</td>\n",
              "      <td>Mark Takano</td>\n",
              "      <td>Congress_Democratic</td>\n",
              "      <td>W</td>\n",
              "      <td>0.000009</td>\n",
              "    </tr>\n",
              "    <tr>\n",
              "      <th>1667284</th>\n",
              "      <td>10169799</td>\n",
              "      <td>76267383</td>\n",
              "      <td>M</td>\n",
              "      <td>374064</td>\n",
              "      <td>Mary</td>\n",
              "      <td>God bless you Elizabeth!  You are an inspiration!</td>\n",
              "      <td>Keith Rothfus</td>\n",
              "      <td>Congress_Republican</td>\n",
              "      <td>W</td>\n",
              "      <td>0.000090</td>\n",
              "    </tr>\n",
              "    <tr>\n",
              "      <th>1604123</th>\n",
              "      <td>10051993</td>\n",
              "      <td>49028900</td>\n",
              "      <td>M</td>\n",
              "      <td>365938</td>\n",
              "      <td>Dana</td>\n",
              "      <td>Well, as opposed to worrying about calories, let's do focus on the nutritious part. Let's face i...</td>\n",
              "      <td>Steve King</td>\n",
              "      <td>Congress_Republican</td>\n",
              "      <td>W</td>\n",
              "      <td>0.000091</td>\n",
              "    </tr>\n",
              "    <tr>\n",
              "      <th>181521</th>\n",
              "      <td>2358273</td>\n",
              "      <td>62246450</td>\n",
              "      <td>M</td>\n",
              "      <td>52502</td>\n",
              "      <td>Annie</td>\n",
              "      <td>Keep going Elizabeth! We support you!</td>\n",
              "      <td>Ron Wyden</td>\n",
              "      <td>Congress_Democratic</td>\n",
              "      <td>W</td>\n",
              "      <td>0.000152</td>\n",
              "    </tr>\n",
              "    <tr>\n",
              "      <th>264413</th>\n",
              "      <td>2528948</td>\n",
              "      <td>59227815</td>\n",
              "      <td>M</td>\n",
              "      <td>63410</td>\n",
              "      <td>Rhonda</td>\n",
              "      <td>Love you, Mia Love!  Almost-aborted first Black congresswoman.</td>\n",
              "      <td>Paul Ryan</td>\n",
              "      <td>Congress_Republican</td>\n",
              "      <td>W</td>\n",
              "      <td>0.000266</td>\n",
              "    </tr>\n",
              "    <tr>\n",
              "      <th>196738</th>\n",
              "      <td>2373490</td>\n",
              "      <td>62246450</td>\n",
              "      <td>M</td>\n",
              "      <td>52658</td>\n",
              "      <td>Randy</td>\n",
              "      <td>Yay!  8-)  Call Senator Warren, too!</td>\n",
              "      <td>Ron Wyden</td>\n",
              "      <td>Congress_Democratic</td>\n",
              "      <td>W</td>\n",
              "      <td>0.000315</td>\n",
              "    </tr>\n",
              "    <tr>\n",
              "      <th>900689</th>\n",
              "      <td>5149743</td>\n",
              "      <td>46506154</td>\n",
              "      <td>M</td>\n",
              "      <td>161080</td>\n",
              "      <td>Pam</td>\n",
              "      <td>Someone take away Patty Murray's tennis shoes.   She is a thorn.   Everyone knows that the Supre...</td>\n",
              "      <td>Marco Rubio</td>\n",
              "      <td>Congress_Republican</td>\n",
              "      <td>W</td>\n",
              "      <td>0.000364</td>\n",
              "    </tr>\n",
              "    <tr>\n",
              "      <th>1703132</th>\n",
              "      <td>10208736</td>\n",
              "      <td>32185537</td>\n",
              "      <td>M</td>\n",
              "      <td>376493</td>\n",
              "      <td>Kim</td>\n",
              "      <td>Patty Murray and the Green machine are working on doing this here in WA as well.</td>\n",
              "      <td>Paul Gosar</td>\n",
              "      <td>Congress_Republican</td>\n",
              "      <td>W</td>\n",
              "      <td>0.000378</td>\n",
              "    </tr>\n",
              "    <tr>\n",
              "      <th>1065864</th>\n",
              "      <td>5314918</td>\n",
              "      <td>46506154</td>\n",
              "      <td>M</td>\n",
              "      <td>161457</td>\n",
              "      <td>Susan</td>\n",
              "      <td>Love Mia - pulling for her to have a huge win in Utah - we need you in Congress girl.</td>\n",
              "      <td>Marco Rubio</td>\n",
              "      <td>Congress_Republican</td>\n",
              "      <td>W</td>\n",
              "      <td>0.000431</td>\n",
              "    </tr>\n",
              "    <tr>\n",
              "      <th>901117</th>\n",
              "      <td>5150171</td>\n",
              "      <td>46506154</td>\n",
              "      <td>M</td>\n",
              "      <td>161080</td>\n",
              "      <td>Sandy</td>\n",
              "      <td>There she is.....Patty Murray........dumber than a box of rocks!</td>\n",
              "      <td>Marco Rubio</td>\n",
              "      <td>Congress_Republican</td>\n",
              "      <td>W</td>\n",
              "      <td>0.000432</td>\n",
              "    </tr>\n",
              "    <tr>\n",
              "      <th>1870185</th>\n",
              "      <td>10903113</td>\n",
              "      <td>10458808</td>\n",
              "      <td>M</td>\n",
              "      <td>385776</td>\n",
              "      <td>Hannah</td>\n",
              "      <td>I see Tulsi!</td>\n",
              "      <td>Mark Takano</td>\n",
              "      <td>Congress_Democratic</td>\n",
              "      <td>W</td>\n",
              "      <td>0.000438</td>\n",
              "    </tr>\n",
              "    <tr>\n",
              "      <th>1055857</th>\n",
              "      <td>5304911</td>\n",
              "      <td>46506154</td>\n",
              "      <td>M</td>\n",
              "      <td>161415</td>\n",
              "      <td>Marty</td>\n",
              "      <td>Elizabeth Warren is a REAL phony!  Vote Scott Brown in!!!</td>\n",
              "      <td>Marco Rubio</td>\n",
              "      <td>Congress_Republican</td>\n",
              "      <td>W</td>\n",
              "      <td>0.000446</td>\n",
              "    </tr>\n",
              "    <tr>\n",
              "      <th>1748590</th>\n",
              "      <td>10271727</td>\n",
              "      <td>32570461</td>\n",
              "      <td>M</td>\n",
              "      <td>382075</td>\n",
              "      <td>Christina</td>\n",
              "      <td>Thank you, Senator Kaine, for this post. More importantly, thank you for standing with Hillary. ...</td>\n",
              "      <td>Tim Kaine</td>\n",
              "      <td>Congress_Democratic</td>\n",
              "      <td>W</td>\n",
              "      <td>0.000572</td>\n",
              "    </tr>\n",
              "    <tr>\n",
              "      <th>1640623</th>\n",
              "      <td>10121482</td>\n",
              "      <td>51495713</td>\n",
              "      <td>M</td>\n",
              "      <td>370304</td>\n",
              "      <td>Cynthia</td>\n",
              "      <td>Funny..Patty Murray...We have extensive background checks in Washington State. Stop embarrassing...</td>\n",
              "      <td>Richard Shelby</td>\n",
              "      <td>Congress_Republican</td>\n",
              "      <td>W</td>\n",
              "      <td>0.000573</td>\n",
              "    </tr>\n",
              "    <tr>\n",
              "      <th>901402</th>\n",
              "      <td>5150456</td>\n",
              "      <td>46506154</td>\n",
              "      <td>M</td>\n",
              "      <td>161080</td>\n",
              "      <td>Robyn</td>\n",
              "      <td>Shame on you Patty Murray. You will never get my vote again!</td>\n",
              "      <td>Marco Rubio</td>\n",
              "      <td>Congress_Republican</td>\n",
              "      <td>W</td>\n",
              "      <td>0.000579</td>\n",
              "    </tr>\n",
              "    <tr>\n",
              "      <th>1160577</th>\n",
              "      <td>6216173</td>\n",
              "      <td>20416792</td>\n",
              "      <td>M</td>\n",
              "      <td>222328</td>\n",
              "      <td>Sandy</td>\n",
              "      <td>Is this the one Co sponsored with Rep. Mia B Love ? Thank you</td>\n",
              "      <td>Trent Kelly</td>\n",
              "      <td>Congress_Republican</td>\n",
              "      <td>W</td>\n",
              "      <td>0.000609</td>\n",
              "    </tr>\n",
              "    <tr>\n",
              "      <th>66396</th>\n",
              "      <td>2184311</td>\n",
              "      <td>38794897</td>\n",
              "      <td>M</td>\n",
              "      <td>37298</td>\n",
              "      <td>Daniel</td>\n",
              "      <td>My fellow Union Sister...represent. U.A.W. LOCAL 1112 . Thanks Senator Brown....good luck Liz......</td>\n",
              "      <td>Sherrod Brown</td>\n",
              "      <td>Congress_Democratic</td>\n",
              "      <td>W</td>\n",
              "      <td>0.000672</td>\n",
              "    </tr>\n",
              "    <tr>\n",
              "      <th>1636803</th>\n",
              "      <td>10117662</td>\n",
              "      <td>51495713</td>\n",
              "      <td>M</td>\n",
              "      <td>370156</td>\n",
              "      <td>Eva</td>\n",
              "      <td>US Representative Mia Love's speech was OUTSTANDING.  We are loving US Rep. Mia Love.  ~  L  (Al...</td>\n",
              "      <td>Richard Shelby</td>\n",
              "      <td>Congress_Republican</td>\n",
              "      <td>W</td>\n",
              "      <td>0.000687</td>\n",
              "    </tr>\n",
              "    <tr>\n",
              "      <th>887335</th>\n",
              "      <td>5136389</td>\n",
              "      <td>46506154</td>\n",
              "      <td>M</td>\n",
              "      <td>160982</td>\n",
              "      <td>Kim</td>\n",
              "      <td>absolutely Joni rocks....................jan</td>\n",
              "      <td>Marco Rubio</td>\n",
              "      <td>Congress_Republican</td>\n",
              "      <td>W</td>\n",
              "      <td>0.000687</td>\n",
              "    </tr>\n",
              "    <tr>\n",
              "      <th>2166055</th>\n",
              "      <td>11307035</td>\n",
              "      <td>95515852</td>\n",
              "      <td>M</td>\n",
              "      <td>401117</td>\n",
              "      <td>Jennifer</td>\n",
              "      <td>Happy to see Rep. Mia Love there also, enjoyed her speech at the Rally for Life in January.</td>\n",
              "      <td>Bill Huizenga</td>\n",
              "      <td>Congress_Republican</td>\n",
              "      <td>W</td>\n",
              "      <td>0.000703</td>\n",
              "    </tr>\n",
              "  </tbody>\n",
              "</table>\n",
              "</div>"
            ],
            "text/plain": [
              "         original_idx     op_id op_gender  ...          op_category preds     probs\n",
              "1887369      10920297  10458808         M  ...  Congress_Democratic     W  0.000009\n",
              "1667284      10169799  76267383         M  ...  Congress_Republican     W  0.000090\n",
              "1604123      10051993  49028900         M  ...  Congress_Republican     W  0.000091\n",
              "181521        2358273  62246450         M  ...  Congress_Democratic     W  0.000152\n",
              "264413        2528948  59227815         M  ...  Congress_Republican     W  0.000266\n",
              "196738        2373490  62246450         M  ...  Congress_Democratic     W  0.000315\n",
              "900689        5149743  46506154         M  ...  Congress_Republican     W  0.000364\n",
              "1703132      10208736  32185537         M  ...  Congress_Republican     W  0.000378\n",
              "1065864       5314918  46506154         M  ...  Congress_Republican     W  0.000431\n",
              "901117        5150171  46506154         M  ...  Congress_Republican     W  0.000432\n",
              "1870185      10903113  10458808         M  ...  Congress_Democratic     W  0.000438\n",
              "1055857       5304911  46506154         M  ...  Congress_Republican     W  0.000446\n",
              "1748590      10271727  32570461         M  ...  Congress_Democratic     W  0.000572\n",
              "1640623      10121482  51495713         M  ...  Congress_Republican     W  0.000573\n",
              "901402        5150456  46506154         M  ...  Congress_Republican     W  0.000579\n",
              "1160577       6216173  20416792         M  ...  Congress_Republican     W  0.000609\n",
              "66396         2184311  38794897         M  ...  Congress_Democratic     W  0.000672\n",
              "1636803      10117662  51495713         M  ...  Congress_Republican     W  0.000687\n",
              "887335        5136389  46506154         M  ...  Congress_Republican     W  0.000687\n",
              "2166055      11307035  95515852         M  ...  Congress_Republican     W  0.000703\n",
              "\n",
              "[20 rows x 10 columns]"
            ]
          },
          "metadata": {
            "tags": []
          },
          "execution_count": 73
        }
      ]
    }
  ]
}
{
  "nbformat": 4,
  "nbformat_minor": 0,
  "metadata": {
    "kernelspec": {
      "name": "python3",
      "display_name": "Python 3"
    },
    "language_info": {
      "codemirror_mode": {
        "name": "ipython",
        "version": 3
      },
      "file_extension": ".py",
      "mimetype": "text/x-python",
      "name": "python",
      "nbconvert_exporter": "python",
      "pygments_lexer": "ipython3",
      "version": "3.7.4"
    },
    "colab": {
      "name": "First_CNN_Attempt.ipynb",
      "provenance": [],
      "machine_shape": "hm",
      "include_colab_link": true
    },
    "accelerator": "TPU"
  },
  "cells": [
    {
      "cell_type": "markdown",
      "metadata": {
        "id": "view-in-github",
        "colab_type": "text"
      },
      "source": [
        "<a href=\"https://colab.research.google.com/github/emrapport/w266-final-project/blob/master/modeling/LP_CNN_OverSamp_ROCAUC.ipynb\" target=\"_parent\"><img src=\"https://colab.research.google.com/assets/colab-badge.svg\" alt=\"Open In Colab\"/></a>"
      ]
    },
    {
      "cell_type": "code",
      "metadata": {
        "id": "dJtCeCgbSs0D",
        "colab_type": "code",
        "colab": {}
      },
      "source": [
        "# this notebook is based off of this blog post: \n",
        "# https://realpython.com/python-keras-text-classification/#reader-comments"
      ],
      "execution_count": 0,
      "outputs": []
    },
    {
      "cell_type": "code",
      "metadata": {
        "id": "_QYIGfoPFRZK",
        "colab_type": "code",
        "colab": {}
      },
      "source": [
        "DATASET_NAME = \"oversample\"\n",
        "MODEL_NAME = \"oversample\"\n",
        "MAX_SEQ_LENGTH = 20\n",
        "TRAINING_SET_SIZE = 4000000\n",
        "VAL_SET_SIZE = 2000000\n",
        "NUM_EPOCHS = 20\n",
        "BATCH_SIZE = 1000\n",
        "MAX_SEQUENCE_LENGTH = 20\n",
        "\n",
        "\n",
        "# I don't think we have a good reason to do this right now\n",
        "# but we might eventually \n",
        "SAVE_TOKENIZED_DATA = False"
      ],
      "execution_count": 0,
      "outputs": []
    },
    {
      "cell_type": "code",
      "metadata": {
        "id": "l0rrZSx7Ss0M",
        "colab_type": "code",
        "outputId": "955e0739-730e-402f-b20d-cfa52fc59db9",
        "colab": {
          "base_uri": "https://localhost:8080/",
          "height": 545
        }
      },
      "source": [
        "from sklearn.linear_model import LogisticRegression\n",
        "from sklearn.feature_extraction.text import HashingVectorizer\n",
        "from scipy.sparse import hstack, vstack\n",
        "from keras.preprocessing.text import Tokenizer\n",
        "from tensorflow.keras import Sequential, layers\n",
        "from keras.utils import plot_model\n",
        "import pandas as pd\n",
        "import numpy as np\n",
        "import copy\n",
        "import time\n",
        "import pickle\n",
        "!pip install gcsfs\n",
        "\n",
        "pd.set_option('max_colwidth', 100)"
      ],
      "execution_count": 2,
      "outputs": [
        {
          "output_type": "stream",
          "text": [
            "Using TensorFlow backend.\n"
          ],
          "name": "stderr"
        },
        {
          "output_type": "stream",
          "text": [
            "Collecting gcsfs\n",
            "\u001b[?25l  Downloading https://files.pythonhosted.org/packages/ab/92/0297f2813cb240c52e90f8587420149970565800e019e1b08ef5ad28b6d9/gcsfs-0.3.1.tar.gz (43kB)\n",
            "\u001b[K     |████████████████████████████████| 51kB 1.3MB/s \n",
            "\u001b[?25hRequirement already satisfied: google-auth>=1.2 in /usr/local/lib/python3.6/dist-packages (from gcsfs) (1.4.2)\n",
            "Requirement already satisfied: google-auth-oauthlib in /usr/local/lib/python3.6/dist-packages (from gcsfs) (0.4.1)\n",
            "Requirement already satisfied: requests in /usr/local/lib/python3.6/dist-packages (from gcsfs) (2.21.0)\n",
            "Requirement already satisfied: decorator in /usr/local/lib/python3.6/dist-packages (from gcsfs) (4.4.1)\n",
            "Requirement already satisfied: fsspec>=0.2.2 in /usr/local/lib/python3.6/dist-packages (from gcsfs) (0.5.2)\n",
            "Requirement already satisfied: six>=1.9.0 in /usr/local/lib/python3.6/dist-packages (from google-auth>=1.2->gcsfs) (1.12.0)\n",
            "Requirement already satisfied: rsa>=3.1.4 in /usr/local/lib/python3.6/dist-packages (from google-auth>=1.2->gcsfs) (4.0)\n",
            "Requirement already satisfied: pyasn1-modules>=0.2.1 in /usr/local/lib/python3.6/dist-packages (from google-auth>=1.2->gcsfs) (0.2.7)\n",
            "Requirement already satisfied: cachetools>=2.0.0 in /usr/local/lib/python3.6/dist-packages (from google-auth>=1.2->gcsfs) (3.1.1)\n",
            "Requirement already satisfied: requests-oauthlib>=0.7.0 in /usr/local/lib/python3.6/dist-packages (from google-auth-oauthlib->gcsfs) (1.2.0)\n",
            "Requirement already satisfied: chardet<3.1.0,>=3.0.2 in /usr/local/lib/python3.6/dist-packages (from requests->gcsfs) (3.0.4)\n",
            "Requirement already satisfied: certifi>=2017.4.17 in /usr/local/lib/python3.6/dist-packages (from requests->gcsfs) (2019.9.11)\n",
            "Requirement already satisfied: urllib3<1.25,>=1.21.1 in /usr/local/lib/python3.6/dist-packages (from requests->gcsfs) (1.24.3)\n",
            "Requirement already satisfied: idna<2.9,>=2.5 in /usr/local/lib/python3.6/dist-packages (from requests->gcsfs) (2.8)\n",
            "Requirement already satisfied: pyasn1>=0.1.3 in /usr/local/lib/python3.6/dist-packages (from rsa>=3.1.4->google-auth>=1.2->gcsfs) (0.4.7)\n",
            "Requirement already satisfied: oauthlib>=3.0.0 in /usr/local/lib/python3.6/dist-packages (from requests-oauthlib>=0.7.0->google-auth-oauthlib->gcsfs) (3.1.0)\n",
            "Building wheels for collected packages: gcsfs\n",
            "  Building wheel for gcsfs (setup.py) ... \u001b[?25l\u001b[?25hdone\n",
            "  Created wheel for gcsfs: filename=gcsfs-0.3.1-py2.py3-none-any.whl size=17936 sha256=e5134d9b11ff6d60703f6a438e83ef22094299a5f50b1d823307454785bc6dff\n",
            "  Stored in directory: /root/.cache/pip/wheels/9d/2b/6f/86954f0d8caa1173841e62bb780dc0f8693bd268e04a267682\n",
            "Successfully built gcsfs\n",
            "Installing collected packages: gcsfs\n",
            "Successfully installed gcsfs-0.3.1\n"
          ],
          "name": "stdout"
        }
      ]
    },
    {
      "cell_type": "code",
      "metadata": {
        "id": "lKNfUKrfUgP-",
        "colab_type": "code",
        "outputId": "ebee14f2-efb7-4a43-8f22-7a2c581c8060",
        "colab": {
          "base_uri": "https://localhost:8080/",
          "height": 186
        }
      },
      "source": [
        "# this cell is only necessary if running in colab\n",
        "project_id = 'w266-251323'\n",
        "import uuid\n",
        "bucket_name = 'fb-congressional-data/'\n",
        "from google.colab import auth\n",
        "auth.authenticate_user()\n",
        "!gcloud config set project {project_id}"
      ],
      "execution_count": 3,
      "outputs": [
        {
          "output_type": "stream",
          "text": [
            "WARNING:tensorflow:\n",
            "The TensorFlow contrib module will not be included in TensorFlow 2.0.\n",
            "For more information, please see:\n",
            "  * https://github.com/tensorflow/community/blob/master/rfcs/20180907-contrib-sunset.md\n",
            "  * https://github.com/tensorflow/addons\n",
            "  * https://github.com/tensorflow/io (for I/O related ops)\n",
            "If you depend on functionality not listed there, please file an issue.\n",
            "\n",
            "Updated property [core/project].\n"
          ],
          "name": "stdout"
        }
      ]
    },
    {
      "cell_type": "code",
      "metadata": {
        "id": "9T7PzdLQSs0j",
        "colab_type": "code",
        "outputId": "1418e277-c10c-4fc2-8259-fa625121fb9c",
        "colab": {
          "base_uri": "https://localhost:8080/",
          "height": 75
        }
      },
      "source": [
        "train_df = pd.read_csv(\"gs://fb-congressional-data/contraction_expanded_data/train.csv\", index_col=0)"
      ],
      "execution_count": 4,
      "outputs": [
        {
          "output_type": "stream",
          "text": [
            "/usr/local/lib/python3.6/dist-packages/numpy/lib/arraysetops.py:568: FutureWarning: elementwise comparison failed; returning scalar instead, but in the future will perform elementwise comparison\n",
            "  mask |= (ar1 == a)\n"
          ],
          "name": "stderr"
        }
      ]
    },
    {
      "cell_type": "code",
      "metadata": {
        "id": "0iOniVLISs0m",
        "colab_type": "code",
        "colab": {
          "base_uri": "https://localhost:8080/",
          "height": 75
        },
        "outputId": "546d9ba9-87f8-4411-b539-385405c8fc80"
      },
      "source": [
        "dev_df = pd.read_csv(\"gs://fb-congressional-data/contraction_expanded_data/dev.csv\", index_col=0)"
      ],
      "execution_count": 5,
      "outputs": [
        {
          "output_type": "stream",
          "text": [
            "/usr/local/lib/python3.6/dist-packages/numpy/lib/arraysetops.py:568: FutureWarning: elementwise comparison failed; returning scalar instead, but in the future will perform elementwise comparison\n",
            "  mask |= (ar1 == a)\n"
          ],
          "name": "stderr"
        }
      ]
    },
    {
      "cell_type": "code",
      "metadata": {
        "id": "W1oM4o7wtHFd",
        "colab_type": "code",
        "colab": {
          "base_uri": "https://localhost:8080/",
          "height": 36
        },
        "outputId": "696eda8e-2cd7-4a06-9f79-9c79357d92d2"
      },
      "source": [
        "num_responses_per_post = train_df.post_id.value_counts().reset_index()\n",
        "num_responses_per_post.columns = ['post_id', 'num_responses']\n",
        "too_big_posts = num_responses_per_post[num_responses_per_post.num_responses > 50]\n",
        "posts_to_sample = too_big_posts.post_id.values\n",
        "# this gets all the rows for posts we DON'T need to sample \n",
        "new_train_df = train_df[~train_df.post_id.isin(posts_to_sample)]\n",
        "# this should be true\n",
        "assert(len(too_big_posts) + new_train_df.post_id.nunique() == train_df.post_id.nunique())\n",
        "too_big_post_rows = train_df[train_df.post_id.isin(posts_to_sample)]\n",
        "sampled_rows = too_big_post_rows.groupby('post_id').apply(lambda x: x.sample(n=50)).reset_index(drop=True)\n",
        "new_train_df = pd.concat([new_train_df, sampled_rows])\n",
        "new_train_df.shape"
      ],
      "execution_count": 6,
      "outputs": [
        {
          "output_type": "execute_result",
          "data": {
            "text/plain": [
              "(3962284, 8)"
            ]
          },
          "metadata": {
            "tags": []
          },
          "execution_count": 6
        }
      ]
    },
    {
      "cell_type": "code",
      "metadata": {
        "id": "MgZWntiySs0p",
        "colab_type": "code",
        "colab": {}
      },
      "source": [
        "# shuffle the data\n",
        "# be sure to do this before you extract X's and y's!!\n",
        "train_df = new_train_df.sample(frac=1)\n",
        "dev_df = dev_df.sample(frac=1)"
      ],
      "execution_count": 0,
      "outputs": []
    },
    {
      "cell_type": "code",
      "metadata": {
        "id": "1ZJxHTywg7Rq",
        "colab_type": "code",
        "colab": {
          "base_uri": "https://localhost:8080/",
          "height": 73
        },
        "outputId": "0aa4796a-0c2b-46a7-848a-58016b50ecde"
      },
      "source": [
        "train_df.op_gender.value_counts()"
      ],
      "execution_count": 8,
      "outputs": [
        {
          "output_type": "execute_result",
          "data": {
            "text/plain": [
              "M    2900753\n",
              "W    1061531\n",
              "Name: op_gender, dtype: int64"
            ]
          },
          "metadata": {
            "tags": []
          },
          "execution_count": 8
        }
      ]
    },
    {
      "cell_type": "code",
      "metadata": {
        "id": "85U7ZhlXgNs5",
        "colab_type": "code",
        "colab": {}
      },
      "source": [
        "male = train_df[train_df.op_gender=='M']\n",
        "female = train_df[train_df.op_gender=='W']"
      ],
      "execution_count": 0,
      "outputs": []
    },
    {
      "cell_type": "code",
      "metadata": {
        "id": "wvu7r5nThL1Z",
        "colab_type": "code",
        "colab": {}
      },
      "source": [
        "from sklearn.utils import resample\n",
        "\n",
        "female_upsampled = resample(female,\n",
        "                          replace=True, # sample with replacement\n",
        "                          n_samples=len(male), # match number in majority class\n",
        "                          random_state=27) # reproducible results\n"
      ],
      "execution_count": 0,
      "outputs": []
    },
    {
      "cell_type": "code",
      "metadata": {
        "id": "CtTa_cntiCKf",
        "colab_type": "code",
        "colab": {}
      },
      "source": [
        "upsampled_train = pd.concat([male,female_upsampled])"
      ],
      "execution_count": 0,
      "outputs": []
    },
    {
      "cell_type": "code",
      "metadata": {
        "id": "UTWp97j8ig6b",
        "colab_type": "code",
        "colab": {
          "base_uri": "https://localhost:8080/",
          "height": 73
        },
        "outputId": "6b20e68d-5acf-45ef-ab59-d93648ab00d7"
      },
      "source": [
        "upsampled_train.op_gender.value_counts()"
      ],
      "execution_count": 14,
      "outputs": [
        {
          "output_type": "execute_result",
          "data": {
            "text/plain": [
              "M    2900753\n",
              "W    2900753\n",
              "Name: op_gender, dtype: int64"
            ]
          },
          "metadata": {
            "tags": []
          },
          "execution_count": 14
        }
      ]
    },
    {
      "cell_type": "code",
      "metadata": {
        "id": "Pjb6dx8fSs0s",
        "colab_type": "code",
        "colab": {}
      },
      "source": [
        "y_train = upsampled_train.op_gender.values\n",
        "y_dev = dev_df.op_gender.values"
      ],
      "execution_count": 0,
      "outputs": []
    },
    {
      "cell_type": "code",
      "metadata": {
        "id": "pBCoPKh_Ss0v",
        "colab_type": "code",
        "colab": {}
      },
      "source": [
        "def turn_to_ints(li):\n",
        "    final_list = []\n",
        "    for gender in li:\n",
        "        if gender=='M':\n",
        "            final_list.append(1)\n",
        "        else:\n",
        "            final_list.append(0)\n",
        "    return final_list\n",
        "            \n",
        "y_train = turn_to_ints(y_train)\n",
        "y_dev = turn_to_ints(y_dev)"
      ],
      "execution_count": 0,
      "outputs": []
    },
    {
      "cell_type": "code",
      "metadata": {
        "id": "hN9GFz6xSs0y",
        "colab_type": "code",
        "colab": {}
      },
      "source": [
        "y_train = np.asarray(y_train)\n",
        "y_dev = np.asarray(y_dev)"
      ],
      "execution_count": 0,
      "outputs": []
    },
    {
      "cell_type": "code",
      "metadata": {
        "id": "ChYxh6oPSs04",
        "colab_type": "code",
        "colab": {}
      },
      "source": [
        "def get_text_list(init_list):\n",
        "    sentences = []\n",
        "    for sentence in init_list:\n",
        "        if type(sentence) != str:\n",
        "            sentences.append(\"\")\n",
        "        else:\n",
        "            sentences.append(sentence)\n",
        "    return sentences\n",
        "\n",
        "new_sentences_train = get_text_list(upsampled_train.response_text.values)\n",
        "new_sentences_test = get_text_list(dev_df.response_text.values)"
      ],
      "execution_count": 0,
      "outputs": []
    },
    {
      "cell_type": "code",
      "metadata": {
        "id": "1b9SE7SjSs06",
        "colab_type": "code",
        "outputId": "20bdd238-5df4-4d72-b6d9-43cacdf20f0c",
        "colab": {
          "base_uri": "https://localhost:8080/",
          "height": 36
        }
      },
      "source": [
        "time_start = time.time()\n",
        "\n",
        "# this is the default list of filters + apostrophe\n",
        "# added because we have dealt with common contractions, so other apostrophes should mostly be possessive \n",
        "tokenizer = Tokenizer(num_words=200000, filters='!\"\\'#$%&()*+,-./:;<=>?@[\\\\]^_`{|}~\\t\\n')\n",
        "tokenizer.fit_on_texts(new_sentences_train)\n",
        "\n",
        "X_train = tokenizer.texts_to_sequences(new_sentences_train)\n",
        "X_test = tokenizer.texts_to_sequences(new_sentences_test)\n",
        "\n",
        "vocab_size = len(tokenizer.word_index) + 1\n",
        "\n",
        "currentTime = time.gmtime(time.time() - time_start)\n",
        "\n",
        "#Convert the gmtime struct to a string\n",
        "timeStr = time.strftime(\"%M minutes, %S seconds\", currentTime)\n",
        "\n",
        "print(\"Tokenized in {}\".format(timeStr))"
      ],
      "execution_count": 33,
      "outputs": [
        {
          "output_type": "stream",
          "text": [
            "Tokenized in 07 minutes, 47 seconds\n"
          ],
          "name": "stdout"
        }
      ]
    },
    {
      "cell_type": "code",
      "metadata": {
        "id": "TyZMBAiySs0-",
        "colab_type": "code",
        "colab": {}
      },
      "source": [
        "from keras.preprocessing.sequence import pad_sequences\n",
        "\n",
        "X_train = pad_sequences(X_train, padding='post', maxlen=MAX_SEQUENCE_LENGTH)\n",
        "X_test = pad_sequences(X_test, padding='post', maxlen=MAX_SEQUENCE_LENGTH)"
      ],
      "execution_count": 0,
      "outputs": []
    },
    {
      "cell_type": "code",
      "metadata": {
        "id": "LGl1S3HySs1G",
        "colab_type": "code",
        "colab": {}
      },
      "source": [
        "if SAVE_TOKENIZED_DATA:\n",
        "  x_train_path = 'X_train_{}.pkl'.format(DATASET_NAME)\n",
        "  x_dev_path = 'X_dev_{}.pkl'.format(DATASET_NAME)\n",
        "  y_train_path = 'y_train_{}.pkl'.format(DATASET_NAME)\n",
        "  y_dev_path = 'y_dev_{}.pkl'.format(DATASET_NAME)\n",
        "\n",
        "  with open(x_train_path, 'wb') as file:\n",
        "      pickle.dump(X_train, file)   \n",
        "  with open(x_dev_path, 'wb') as file:\n",
        "      pickle.dump(X_test, file)\n",
        "  with open(y_train_path, 'wb') as file:\n",
        "      pickle.dump(y_train, file)\n",
        "  with open(y_dev_path, 'wb') as file:\n",
        "      pickle.dump(y_dev, file)\n",
        "\n",
        "  # copy to bucket\n",
        "  !gsutil cp /content/{x_train_path} gs://fb-congressional-data/test\n",
        "  !gsutil cp /content/{x_dev_path} gs://fb-congressional-data/\n",
        "  !gsutil cp /content/{y_train_path} gs://fb-congressional-data/\n",
        "  !gsutil cp /content/{y_dev_path} gs://fb-congressional-data/"
      ],
      "execution_count": 0,
      "outputs": []
    },
    {
      "cell_type": "code",
      "metadata": {
        "id": "s5AeCFGIuKIR",
        "colab_type": "code",
        "outputId": "6b9d0c8d-bb96-4a9b-f6fb-d96728146348",
        "colab": {
          "base_uri": "https://localhost:8080/",
          "height": 261
        }
      },
      "source": [
        "!gsutil cp gs://fb-congressional-data/glove* /tmp/"
      ],
      "execution_count": 38,
      "outputs": [
        {
          "output_type": "stream",
          "text": [
            "Copying gs://fb-congressional-data/glove.6B.100d.txt...\n",
            "Copying gs://fb-congressional-data/glove.6B.200d.txt...\n",
            "Copying gs://fb-congressional-data/glove.6B.300d.txt...\n",
            "Copying gs://fb-congressional-data/glove.6B.50d.txt...\n",
            "- [4 files][  2.1 GiB/  2.1 GiB]   46.7 MiB/s                                   \n",
            "==> NOTE: You are performing a sequence of gsutil operations that may\n",
            "run significantly faster if you instead use gsutil -m cp ... Please\n",
            "see the -m section under \"gsutil help options\" for further information\n",
            "about when gsutil -m can be advantageous.\n",
            "\n",
            "Copying gs://fb-congressional-data/glove.6B.zip...\n",
            "\\\n",
            "Operation completed over 5 objects/2.9 GiB.                                      \n"
          ],
          "name": "stdout"
        }
      ]
    },
    {
      "cell_type": "code",
      "metadata": {
        "id": "ae5EQ7vbSs1L",
        "colab_type": "code",
        "colab": {}
      },
      "source": [
        "def create_embedding_matrix(filepath, word_index, embedding_dim):\n",
        "    vocab_size = len(word_index) + 1  # Adding again 1 because of reserved 0 index\n",
        "    embedding_matrix = np.zeros((vocab_size, embedding_dim))\n",
        "\n",
        "    with open(filepath) as f:\n",
        "        for line in f:\n",
        "            word, *vector = line.split()\n",
        "            if word in word_index:\n",
        "                idx = word_index[word] \n",
        "                embedding_matrix[idx] = np.array(\n",
        "                    vector, dtype=np.float32)[:embedding_dim]\n",
        "\n",
        "    return embedding_matrix\n",
        "\n",
        "embedding_dim = 100\n",
        "embedding_matrix = create_embedding_matrix(\n",
        "                     '/tmp/glove.6B.{}d.txt'.format(embedding_dim),\n",
        "                      tokenizer.word_index, embedding_dim)"
      ],
      "execution_count": 0,
      "outputs": []
    },
    {
      "cell_type": "code",
      "metadata": {
        "id": "kUTvp7yfut-7",
        "colab_type": "code",
        "colab": {}
      },
      "source": [
        "# trying to figure out which words are empty here\n",
        "# counter = 0\n",
        "# empty_indexes = []\n",
        "# for index, row in enumerate(embedding_matrix):\n",
        "#   if sum(row) == 0:\n",
        "#     empty_indexes.append(index)\n",
        "#     counter += 1\n",
        "#   if counter > 1000:\n",
        "#     break\n",
        "\n",
        "# for idx in empty_indexes:\n",
        "#   try:\n",
        "#     print(tokenizer.index_word[idx])\n",
        "#   except:\n",
        "#     print(\"No entry for {}\".format(idx))\n"
      ],
      "execution_count": 0,
      "outputs": []
    },
    {
      "cell_type": "code",
      "metadata": {
        "id": "UI5vn5zBSs1P",
        "colab_type": "code",
        "outputId": "1c652361-65d2-4eda-e4f8-a085d0353981",
        "colab": {
          "base_uri": "https://localhost:8080/",
          "height": 34
        }
      },
      "source": [
        "# hmmmm....\n",
        "# nonzero_elements = np.count_nonzero(np.count_nonzero(embedding_matrix, axis=1))\n",
        "# nonzero_elements / vocab_size"
      ],
      "execution_count": 0,
      "outputs": [
        {
          "output_type": "execute_result",
          "data": {
            "text/plain": [
              "0.15381079935942088"
            ]
          },
          "metadata": {
            "tags": []
          },
          "execution_count": 22
        }
      ]
    },
    {
      "cell_type": "code",
      "metadata": {
        "id": "EJtNke4FSs1X",
        "colab_type": "code",
        "outputId": "cb0c62ed-3b3e-4629-cfd7-7d2e3ba3a8b9",
        "colab": {
          "base_uri": "https://localhost:8080/",
          "height": 36
        }
      },
      "source": [
        "embedding_matrix.shape"
      ],
      "execution_count": 40,
      "outputs": [
        {
          "output_type": "execute_result",
          "data": {
            "text/plain": [
              "(590572, 100)"
            ]
          },
          "metadata": {
            "tags": []
          },
          "execution_count": 40
        }
      ]
    },
    {
      "cell_type": "code",
      "metadata": {
        "id": "tb_yr2R9Ss1d",
        "colab_type": "code",
        "outputId": "0f57348d-ee2a-457f-fd81-d570c23ffb3f",
        "colab": {
          "base_uri": "https://localhost:8080/",
          "height": 355
        }
      },
      "source": [
        "model = Sequential()\n",
        "model.add(layers.Embedding(vocab_size, embedding_dim, \n",
        "                           weights=[embedding_matrix], \n",
        "                           input_length=MAX_SEQUENCE_LENGTH, \n",
        "                           trainable=False))\n",
        "model.add(layers.Conv1D(128, 5, activation='relu'))\n",
        "model.add(layers.GlobalMaxPooling1D())\n",
        "model.add(layers.Dense(10, activation='relu'))\n",
        "model.add(layers.Dense(1, activation='sigmoid'))\n",
        "model.compile(optimizer='adam',\n",
        "              loss='binary_crossentropy',\n",
        "              metrics=['accuracy'])\n",
        "model.summary()"
      ],
      "execution_count": 41,
      "outputs": [
        {
          "output_type": "stream",
          "text": [
            "Model: \"sequential_2\"\n",
            "_________________________________________________________________\n",
            "Layer (type)                 Output Shape              Param #   \n",
            "=================================================================\n",
            "embedding_2 (Embedding)      (None, 20, 100)           59057200  \n",
            "_________________________________________________________________\n",
            "conv1d_1 (Conv1D)            (None, 16, 128)           64128     \n",
            "_________________________________________________________________\n",
            "global_max_pooling1d_1 (Glob (None, 128)               0         \n",
            "_________________________________________________________________\n",
            "dense_2 (Dense)              (None, 10)                1290      \n",
            "_________________________________________________________________\n",
            "dense_3 (Dense)              (None, 1)                 11        \n",
            "=================================================================\n",
            "Total params: 59,122,629\n",
            "Trainable params: 65,429\n",
            "Non-trainable params: 59,057,200\n",
            "_________________________________________________________________\n"
          ],
          "name": "stdout"
        }
      ]
    },
    {
      "cell_type": "code",
      "metadata": {
        "id": "U_9KWVWHAAE3",
        "colab_type": "code",
        "colab": {}
      },
      "source": [
        "# smaller_X_train = X_train[:TRAINING_SET_SIZE]"
      ],
      "execution_count": 0,
      "outputs": []
    },
    {
      "cell_type": "code",
      "metadata": {
        "id": "t6gn7HvuAGgQ",
        "colab_type": "code",
        "colab": {}
      },
      "source": [
        "# smaller_y_train = y_train[:TRAINING_SET_SIZE]"
      ],
      "execution_count": 0,
      "outputs": []
    },
    {
      "cell_type": "code",
      "metadata": {
        "id": "3BoBWKSc2wNk",
        "colab_type": "code",
        "outputId": "82bf23e3-a549-46e9-fbef-e84659639cd1",
        "colab": {
          "base_uri": "https://localhost:8080/",
          "height": 75
        }
      },
      "source": [
        "# # Set up oversampling with SMOTE (Synthetic Minority Oversampling Technique)\n",
        "# from imblearn.over_sampling import SMOTE\n",
        "# sm = SMOTE(random_state=12, ratio = 1.0) # Will bring final ratio to 1.0\n",
        "# x_train_res, y_train_res = sm.fit_sample(X_train, y_train)\n"
      ],
      "execution_count": 0,
      "outputs": [
        {
          "output_type": "stream",
          "text": [
            "/usr/local/lib/python3.6/dist-packages/sklearn/externals/six.py:31: DeprecationWarning: The module is deprecated in version 0.21 and will be removed in version 0.23 since we've dropped support for Python 2.7. Please rely on the official version of six (https://pypi.org/project/six/).\n",
            "  \"(https://pypi.org/project/six/).\", DeprecationWarning)\n"
          ],
          "name": "stderr"
        }
      ]
    },
    {
      "cell_type": "code",
      "metadata": {
        "id": "uf5R6UpGDW_y",
        "colab_type": "code",
        "colab": {}
      },
      "source": [
        "smaller_X_dev = X_test[:VAL_SET_SIZE]\n",
        "smaller_y_dev = y_dev[:VAL_SET_SIZE]"
      ],
      "execution_count": 0,
      "outputs": []
    },
    {
      "cell_type": "code",
      "metadata": {
        "id": "M4dbwlaxSs1l",
        "colab_type": "code",
        "outputId": "aa074524-64ce-401c-89da-34aac98ad6a9",
        "colab": {
          "base_uri": "https://localhost:8080/",
          "height": 807
        }
      },
      "source": [
        "try:\n",
        "  time_start = time.time()\n",
        "\n",
        "  history = model.fit(X_train, y_train,\n",
        "                      epochs=NUM_EPOCHS,\n",
        "                      verbose=True,\n",
        "                      validation_data=(smaller_X_dev, smaller_y_dev),\n",
        "                      batch_size=BATCH_SIZE)\n",
        "\n",
        "  currentTime = time.gmtime(time.time() - time_start)\n",
        "\n",
        "  #Convert the gmtime struct to a string\n",
        "  timeStr = time.strftime(\"%M minutes, %S seconds\", currentTime)\n",
        "\n",
        "  print(\"Trained in {}\".format(timeStr))\n",
        "\n",
        "except:\n",
        "  currentTime = time.gmtime(time.time() - time_start)\n",
        "\n",
        "  #Convert the gmtime struct to a string\n",
        "  timeStr = time.strftime(\"%M minutes, %S seconds\", currentTime)\n",
        "\n",
        "  print(\"Trained in {}\".format(timeStr))  "
      ],
      "execution_count": 43,
      "outputs": [
        {
          "output_type": "stream",
          "text": [
            "Train on 5801506 samples, validate on 2000000 samples\n",
            "Epoch 1/20\n",
            "5801506/5801506 [==============================] - 178s 31us/sample - loss: 0.6099 - acc: 0.6288 - val_loss: 0.6775 - val_acc: 0.5831\n",
            "Epoch 2/20\n",
            "5801506/5801506 [==============================] - 190s 33us/sample - loss: 0.5914 - acc: 0.6450 - val_loss: 0.6826 - val_acc: 0.5637\n",
            "Epoch 3/20\n",
            "5801506/5801506 [==============================] - 190s 33us/sample - loss: 0.5847 - acc: 0.6512 - val_loss: 0.6273 - val_acc: 0.6452\n",
            "Epoch 4/20\n",
            "5801506/5801506 [==============================] - 195s 34us/sample - loss: 0.5805 - acc: 0.6555 - val_loss: 0.6346 - val_acc: 0.6353\n",
            "Epoch 5/20\n",
            "5801506/5801506 [==============================] - 192s 33us/sample - loss: 0.5775 - acc: 0.6583 - val_loss: 0.6320 - val_acc: 0.6447\n",
            "Epoch 6/20\n",
            "5801506/5801506 [==============================] - 191s 33us/sample - loss: 0.5752 - acc: 0.6603 - val_loss: 0.6305 - val_acc: 0.6390\n",
            "Epoch 7/20\n",
            "5801506/5801506 [==============================] - 184s 32us/sample - loss: 0.5731 - acc: 0.6622 - val_loss: 0.6577 - val_acc: 0.5991\n",
            "Epoch 8/20\n",
            "5801506/5801506 [==============================] - 180s 31us/sample - loss: 0.5716 - acc: 0.6637 - val_loss: 0.6292 - val_acc: 0.6515\n",
            "Epoch 9/20\n",
            "5801506/5801506 [==============================] - 180s 31us/sample - loss: 0.5702 - acc: 0.6648 - val_loss: 0.6249 - val_acc: 0.6446\n",
            "Epoch 10/20\n",
            "5801506/5801506 [==============================] - 169s 29us/sample - loss: 0.5690 - acc: 0.6660 - val_loss: 0.6148 - val_acc: 0.6591\n",
            "Epoch 11/20\n",
            "5801506/5801506 [==============================] - 164s 28us/sample - loss: 0.5678 - acc: 0.6669 - val_loss: 0.6780 - val_acc: 0.5632\n",
            "Epoch 12/20\n",
            "5801506/5801506 [==============================] - 166s 29us/sample - loss: 0.5669 - acc: 0.6675 - val_loss: 0.6240 - val_acc: 0.6480\n",
            "Epoch 13/20\n",
            "5801506/5801506 [==============================] - 163s 28us/sample - loss: 0.5662 - acc: 0.6681 - val_loss: 0.6887 - val_acc: 0.5708\n",
            "Epoch 14/20\n",
            "5801506/5801506 [==============================] - 163s 28us/sample - loss: 0.5654 - acc: 0.6689 - val_loss: 0.6211 - val_acc: 0.6473\n",
            "Epoch 15/20\n",
            "5801506/5801506 [==============================] - 164s 28us/sample - loss: 0.5647 - acc: 0.6694 - val_loss: 0.6454 - val_acc: 0.6214\n",
            "Epoch 16/20\n",
            "5801506/5801506 [==============================] - 165s 28us/sample - loss: 0.5640 - acc: 0.6698 - val_loss: 0.6504 - val_acc: 0.6093\n",
            "Epoch 17/20\n",
            "5801506/5801506 [==============================] - 168s 29us/sample - loss: 0.5635 - acc: 0.6702 - val_loss: 0.6185 - val_acc: 0.6553\n",
            "Epoch 18/20\n",
            "5801506/5801506 [==============================] - 165s 28us/sample - loss: 0.5629 - acc: 0.6705 - val_loss: 0.6411 - val_acc: 0.6277\n",
            "Epoch 19/20\n",
            "5801506/5801506 [==============================] - 173s 30us/sample - loss: 0.5624 - acc: 0.6711 - val_loss: 0.6466 - val_acc: 0.5994\n",
            "Epoch 20/20\n",
            "5801506/5801506 [==============================] - 175s 30us/sample - loss: 0.5620 - acc: 0.6713 - val_loss: 0.6527 - val_acc: 0.5984\n",
            "Trained in 58 minutes, 34 seconds\n"
          ],
          "name": "stdout"
        }
      ]
    },
    {
      "cell_type": "code",
      "metadata": {
        "id": "h4P5Y5wgSs1o",
        "colab_type": "code",
        "outputId": "91b8a65a-d316-4948-fdc6-1ba68b978411",
        "colab": {
          "base_uri": "https://localhost:8080/",
          "height": 55
        }
      },
      "source": [
        "loss, accuracy = model.evaluate(X_train, y_train, verbose=False)\n",
        "print(\"Training Accuracy: {:.4f}\".format(accuracy))\n",
        "loss, accuracy = model.evaluate(X_test, y_dev, verbose=False)\n",
        "print(\"Testing Accuracy:  {:.4f}\".format(accuracy))\n"
      ],
      "execution_count": 46,
      "outputs": [
        {
          "output_type": "stream",
          "text": [
            "Training Accuracy: 0.6743\n",
            "Testing Accuracy:  0.5984\n"
          ],
          "name": "stdout"
        }
      ]
    },
    {
      "cell_type": "markdown",
      "metadata": {
        "id": "AlzKBOce5P0p",
        "colab_type": "text"
      },
      "source": [
        "The same model without oversampling went up 6 percentage points from 78% male baseline to 84% testing accuracy. The oversampled model started at 50/50 (50% baseline) and went up almost 10 percentage points to 59.8%."
      ]
    },
    {
      "cell_type": "code",
      "metadata": {
        "id": "zZanpp-O9oiz",
        "colab_type": "code",
        "colab": {
          "base_uri": "https://localhost:8080/",
          "height": 36
        },
        "outputId": "0d220989-a75c-4a0a-89b0-31c68cfa1db7"
      },
      "source": [
        "# ROC AUC\n",
        "from sklearn.metrics import roc_auc_score\n",
        "# predict probabilities for test set\n",
        "yhat_probs = model.predict(X_test, verbose=0)\n",
        "# reduce to 1d array\n",
        "yhat_probs = yhat_probs[:,0]\n",
        "auc = roc_auc_score(y_dev, yhat_probs)\n",
        "print('ROC AUC:', auc)\n"
      ],
      "execution_count": 47,
      "outputs": [
        {
          "output_type": "stream",
          "text": [
            "ROC AUC: 0.6150410537798867\n"
          ],
          "name": "stdout"
        }
      ]
    },
    {
      "cell_type": "code",
      "metadata": {
        "id": "L5G9XjaGJh-T",
        "colab_type": "code",
        "colab": {}
      },
      "source": [
        "# can't get this to work\n",
        "plot_model(history)"
      ],
      "execution_count": 0,
      "outputs": []
    },
    {
      "cell_type": "code",
      "metadata": {
        "id": "ccL7n659KbQ-",
        "colab_type": "code",
        "colab": {}
      },
      "source": [
        "preds = model.predict(X_test)"
      ],
      "execution_count": 0,
      "outputs": []
    },
    {
      "cell_type": "code",
      "metadata": {
        "id": "lhpB8QsgGMZ5",
        "colab_type": "code",
        "colab": {}
      },
      "source": [
        "dev_df['probs'] = preds"
      ],
      "execution_count": 0,
      "outputs": []
    },
    {
      "cell_type": "code",
      "metadata": {
        "id": "1T2IxdCMGf2e",
        "colab_type": "code",
        "colab": {}
      },
      "source": [
        "def pred_to_label(row):\n",
        "  if row['probs'] >= .5:\n",
        "    return 'M'\n",
        "  else:\n",
        "    return 'W'\n",
        "\n",
        "dev_df['preds'] = dev_df.apply(pred_to_label, axis=1)"
      ],
      "execution_count": 0,
      "outputs": []
    },
    {
      "cell_type": "code",
      "metadata": {
        "id": "NzbasnNWGg5J",
        "colab_type": "code",
        "colab": {}
      },
      "source": [
        "wrong_preds = dev_df[dev_df.op_gender!=dev_df.preds]"
      ],
      "execution_count": 0,
      "outputs": []
    },
    {
      "cell_type": "code",
      "metadata": {
        "id": "nAYve8ZhG7wt",
        "colab_type": "code",
        "outputId": "ad9a527a-0b2e-4656-e277-d5762f8990d4",
        "colab": {
          "base_uri": "https://localhost:8080/",
          "height": 73
        }
      },
      "source": [
        "wrong_preds.op_gender.value_counts()"
      ],
      "execution_count": 52,
      "outputs": [
        {
          "output_type": "execute_result",
          "data": {
            "text/plain": [
              "M    767630\n",
              "W    153133\n",
              "Name: op_gender, dtype: int64"
            ]
          },
          "metadata": {
            "tags": []
          },
          "execution_count": 52
        }
      ]
    },
    {
      "cell_type": "code",
      "metadata": {
        "id": "NJJrm2LxHFzN",
        "colab_type": "code",
        "outputId": "4cace2ed-a5ed-499a-896a-93e6bf62b9ff",
        "colab": {
          "base_uri": "https://localhost:8080/",
          "height": 36
        }
      },
      "source": [
        "# total proportion of preds for women\n",
        "dev_df.preds.value_counts()['W'] / len(dev_df)"
      ],
      "execution_count": 53,
      "outputs": [
        {
          "output_type": "execute_result",
          "data": {
            "text/plain": [
              "0.41826074934569957"
            ]
          },
          "metadata": {
            "tags": []
          },
          "execution_count": 53
        }
      ]
    },
    {
      "cell_type": "code",
      "metadata": {
        "id": "SxFooJUbHVUB",
        "colab_type": "code",
        "outputId": "892e1dab-e5ec-4fcb-ca8d-ed22970ebcdb",
        "colab": {
          "base_uri": "https://localhost:8080/",
          "height": 1000
        }
      },
      "source": [
        "#random sample of mistakes\n",
        "wrong_preds.head(20)"
      ],
      "execution_count": 54,
      "outputs": [
        {
          "output_type": "execute_result",
          "data": {
            "text/html": [
              "<div>\n",
              "<style scoped>\n",
              "    .dataframe tbody tr th:only-of-type {\n",
              "        vertical-align: middle;\n",
              "    }\n",
              "\n",
              "    .dataframe tbody tr th {\n",
              "        vertical-align: top;\n",
              "    }\n",
              "\n",
              "    .dataframe thead th {\n",
              "        text-align: right;\n",
              "    }\n",
              "</style>\n",
              "<table border=\"1\" class=\"dataframe\">\n",
              "  <thead>\n",
              "    <tr style=\"text-align: right;\">\n",
              "      <th></th>\n",
              "      <th>original_idx</th>\n",
              "      <th>op_id</th>\n",
              "      <th>op_gender</th>\n",
              "      <th>post_id</th>\n",
              "      <th>responder_id</th>\n",
              "      <th>response_text</th>\n",
              "      <th>op_name</th>\n",
              "      <th>op_category</th>\n",
              "      <th>probs</th>\n",
              "      <th>preds</th>\n",
              "    </tr>\n",
              "  </thead>\n",
              "  <tbody>\n",
              "    <tr>\n",
              "      <th>2284830</th>\n",
              "      <td>13468292</td>\n",
              "      <td>36181883</td>\n",
              "      <td>M</td>\n",
              "      <td>517694</td>\n",
              "      <td>Rik</td>\n",
              "      <td>it was time to stop obama care before it became a law. not  72 hours before it goes into effect.</td>\n",
              "      <td>Steve Scalise</td>\n",
              "      <td>Congress_Republican</td>\n",
              "      <td>0.463311</td>\n",
              "      <td>W</td>\n",
              "    </tr>\n",
              "    <tr>\n",
              "      <th>1903877</th>\n",
              "      <td>10936805</td>\n",
              "      <td>10458808</td>\n",
              "      <td>M</td>\n",
              "      <td>386642</td>\n",
              "      <td>Christine</td>\n",
              "      <td>and let us defend women's independence form forced reproduction!</td>\n",
              "      <td>Mark Takano</td>\n",
              "      <td>Congress_Democratic</td>\n",
              "      <td>0.351873</td>\n",
              "      <td>W</td>\n",
              "    </tr>\n",
              "    <tr>\n",
              "      <th>1162442</th>\n",
              "      <td>6608626</td>\n",
              "      <td>48816171</td>\n",
              "      <td>M</td>\n",
              "      <td>252204</td>\n",
              "      <td>Carol</td>\n",
              "      <td>she has beautiful! congrats to all!</td>\n",
              "      <td>Kenny Marchant</td>\n",
              "      <td>Congress_Republican</td>\n",
              "      <td>0.340864</td>\n",
              "      <td>W</td>\n",
              "    </tr>\n",
              "    <tr>\n",
              "      <th>2124889</th>\n",
              "      <td>11265869</td>\n",
              "      <td>77234050</td>\n",
              "      <td>W</td>\n",
              "      <td>399735</td>\n",
              "      <td>Marilyn</td>\n",
              "      <td>here's another article that lists where the info comes from.  http://www.sensibleregulations.org...</td>\n",
              "      <td>Cathy McMorris Rodgers</td>\n",
              "      <td>Congress_Republican</td>\n",
              "      <td>0.873996</td>\n",
              "      <td>M</td>\n",
              "    </tr>\n",
              "    <tr>\n",
              "      <th>485376</th>\n",
              "      <td>4067575</td>\n",
              "      <td>77914417</td>\n",
              "      <td>M</td>\n",
              "      <td>140830</td>\n",
              "      <td>Mikhaila</td>\n",
              "      <td>thank you</td>\n",
              "      <td>John Garamendi</td>\n",
              "      <td>Congress_Democratic</td>\n",
              "      <td>0.435204</td>\n",
              "      <td>W</td>\n",
              "    </tr>\n",
              "    <tr>\n",
              "      <th>48345</th>\n",
              "      <td>2166260</td>\n",
              "      <td>38794897</td>\n",
              "      <td>M</td>\n",
              "      <td>36849</td>\n",
              "      <td>Pat</td>\n",
              "      <td>got my vote sherrod!  keep on keeping on...we will make the place better!!</td>\n",
              "      <td>Sherrod Brown</td>\n",
              "      <td>Congress_Democratic</td>\n",
              "      <td>0.169555</td>\n",
              "      <td>W</td>\n",
              "    </tr>\n",
              "    <tr>\n",
              "      <th>1421</th>\n",
              "      <td>2119336</td>\n",
              "      <td>38794897</td>\n",
              "      <td>M</td>\n",
              "      <td>36268</td>\n",
              "      <td>Frank</td>\n",
              "      <td>dear sherrod brown: i see you are up for re-election in 2018.  i could tell because you seem to ...</td>\n",
              "      <td>Sherrod Brown</td>\n",
              "      <td>Congress_Democratic</td>\n",
              "      <td>0.494041</td>\n",
              "      <td>W</td>\n",
              "    </tr>\n",
              "    <tr>\n",
              "      <th>593833</th>\n",
              "      <td>4842887</td>\n",
              "      <td>46506154</td>\n",
              "      <td>M</td>\n",
              "      <td>160190</td>\n",
              "      <td>Debi</td>\n",
              "      <td>beautiful family.</td>\n",
              "      <td>Marco Rubio</td>\n",
              "      <td>Congress_Republican</td>\n",
              "      <td>0.446439</td>\n",
              "      <td>W</td>\n",
              "    </tr>\n",
              "    <tr>\n",
              "      <th>788780</th>\n",
              "      <td>5037834</td>\n",
              "      <td>46506154</td>\n",
              "      <td>M</td>\n",
              "      <td>160609</td>\n",
              "      <td>Mònica</td>\n",
              "      <td>i loved everything you had to say and your presentation was great! you have my support! god bles...</td>\n",
              "      <td>Marco Rubio</td>\n",
              "      <td>Congress_Republican</td>\n",
              "      <td>0.483499</td>\n",
              "      <td>W</td>\n",
              "    </tr>\n",
              "    <tr>\n",
              "      <th>563029</th>\n",
              "      <td>4812083</td>\n",
              "      <td>46506154</td>\n",
              "      <td>M</td>\n",
              "      <td>160141</td>\n",
              "      <td>John</td>\n",
              "      <td>only until nov 2016.</td>\n",
              "      <td>Marco Rubio</td>\n",
              "      <td>Congress_Republican</td>\n",
              "      <td>0.452823</td>\n",
              "      <td>W</td>\n",
              "    </tr>\n",
              "    <tr>\n",
              "      <th>1207041</th>\n",
              "      <td>6666225</td>\n",
              "      <td>77657070</td>\n",
              "      <td>M</td>\n",
              "      <td>255398</td>\n",
              "      <td>Susan</td>\n",
              "      <td>call it the treaty that it is and what about cloture? it will put republicans back in the driver...</td>\n",
              "      <td>Mike Crapo</td>\n",
              "      <td>Congress_Republican</td>\n",
              "      <td>0.431954</td>\n",
              "      <td>W</td>\n",
              "    </tr>\n",
              "    <tr>\n",
              "      <th>1867069</th>\n",
              "      <td>10899997</td>\n",
              "      <td>10458808</td>\n",
              "      <td>M</td>\n",
              "      <td>385775</td>\n",
              "      <td>Freddy</td>\n",
              "      <td>republicans in the way!</td>\n",
              "      <td>Mark Takano</td>\n",
              "      <td>Congress_Democratic</td>\n",
              "      <td>0.448481</td>\n",
              "      <td>W</td>\n",
              "    </tr>\n",
              "    <tr>\n",
              "      <th>1892477</th>\n",
              "      <td>10925405</td>\n",
              "      <td>10458808</td>\n",
              "      <td>M</td>\n",
              "      <td>386207</td>\n",
              "      <td>Rich</td>\n",
              "      <td>landed one punch http://losangeles.cbslocal.com/2014/10/17/get-home-safe-bracelets-program-is-a-...</td>\n",
              "      <td>Mark Takano</td>\n",
              "      <td>Congress_Democratic</td>\n",
              "      <td>0.271151</td>\n",
              "      <td>W</td>\n",
              "    </tr>\n",
              "    <tr>\n",
              "      <th>2217967</th>\n",
              "      <td>12476478</td>\n",
              "      <td>40220308</td>\n",
              "      <td>M</td>\n",
              "      <td>467601</td>\n",
              "      <td>Scott</td>\n",
              "      <td>having any type of \"thoughtful discussion\" is pretty much impossible when rick perry is involved.</td>\n",
              "      <td>Joe Barton</td>\n",
              "      <td>Congress_Republican</td>\n",
              "      <td>0.494041</td>\n",
              "      <td>W</td>\n",
              "    </tr>\n",
              "    <tr>\n",
              "      <th>647676</th>\n",
              "      <td>4896730</td>\n",
              "      <td>46506154</td>\n",
              "      <td>M</td>\n",
              "      <td>160221</td>\n",
              "      <td>Geri</td>\n",
              "      <td>i am saddened and digusted by the \"jokes\" in poor taste regarding donald trump. I am done..........</td>\n",
              "      <td>Marco Rubio</td>\n",
              "      <td>Congress_Republican</td>\n",
              "      <td>0.494041</td>\n",
              "      <td>W</td>\n",
              "    </tr>\n",
              "    <tr>\n",
              "      <th>1876863</th>\n",
              "      <td>10909791</td>\n",
              "      <td>10458808</td>\n",
              "      <td>M</td>\n",
              "      <td>385781</td>\n",
              "      <td>Burt</td>\n",
              "      <td>next vp!</td>\n",
              "      <td>Mark Takano</td>\n",
              "      <td>Congress_Democratic</td>\n",
              "      <td>0.140101</td>\n",
              "      <td>W</td>\n",
              "    </tr>\n",
              "    <tr>\n",
              "      <th>270615</th>\n",
              "      <td>2535150</td>\n",
              "      <td>59227815</td>\n",
              "      <td>M</td>\n",
              "      <td>63416</td>\n",
              "      <td>Skip</td>\n",
              "      <td>see the cbo report? that is what most of america already know, you are clearly a bit slow. why d...</td>\n",
              "      <td>Paul Ryan</td>\n",
              "      <td>Congress_Republican</td>\n",
              "      <td>0.467610</td>\n",
              "      <td>W</td>\n",
              "    </tr>\n",
              "    <tr>\n",
              "      <th>1276150</th>\n",
              "      <td>7599964</td>\n",
              "      <td>54387439</td>\n",
              "      <td>M</td>\n",
              "      <td>291819</td>\n",
              "      <td>Tammie</td>\n",
              "      <td>when will you run for president? you have got my vote!</td>\n",
              "      <td>Ryan Zinke</td>\n",
              "      <td>Congress_Republican</td>\n",
              "      <td>0.439587</td>\n",
              "      <td>W</td>\n",
              "    </tr>\n",
              "    <tr>\n",
              "      <th>1124992</th>\n",
              "      <td>5374046</td>\n",
              "      <td>46506154</td>\n",
              "      <td>M</td>\n",
              "      <td>162004</td>\n",
              "      <td>Rick</td>\n",
              "      <td>hope you win marco</td>\n",
              "      <td>Marco Rubio</td>\n",
              "      <td>Congress_Republican</td>\n",
              "      <td>0.492503</td>\n",
              "      <td>W</td>\n",
              "    </tr>\n",
              "    <tr>\n",
              "      <th>2167990</th>\n",
              "      <td>11308970</td>\n",
              "      <td>95515852</td>\n",
              "      <td>M</td>\n",
              "      <td>401126</td>\n",
              "      <td>Sharron</td>\n",
              "      <td>sad day</td>\n",
              "      <td>Bill Huizenga</td>\n",
              "      <td>Congress_Republican</td>\n",
              "      <td>0.447452</td>\n",
              "      <td>W</td>\n",
              "    </tr>\n",
              "  </tbody>\n",
              "</table>\n",
              "</div>"
            ],
            "text/plain": [
              "         original_idx     op_id op_gender  ...          op_category     probs preds\n",
              "2284830      13468292  36181883         M  ...  Congress_Republican  0.463311     W\n",
              "1903877      10936805  10458808         M  ...  Congress_Democratic  0.351873     W\n",
              "1162442       6608626  48816171         M  ...  Congress_Republican  0.340864     W\n",
              "2124889      11265869  77234050         W  ...  Congress_Republican  0.873996     M\n",
              "485376        4067575  77914417         M  ...  Congress_Democratic  0.435204     W\n",
              "48345         2166260  38794897         M  ...  Congress_Democratic  0.169555     W\n",
              "1421          2119336  38794897         M  ...  Congress_Democratic  0.494041     W\n",
              "593833        4842887  46506154         M  ...  Congress_Republican  0.446439     W\n",
              "788780        5037834  46506154         M  ...  Congress_Republican  0.483499     W\n",
              "563029        4812083  46506154         M  ...  Congress_Republican  0.452823     W\n",
              "1207041       6666225  77657070         M  ...  Congress_Republican  0.431954     W\n",
              "1867069      10899997  10458808         M  ...  Congress_Democratic  0.448481     W\n",
              "1892477      10925405  10458808         M  ...  Congress_Democratic  0.271151     W\n",
              "2217967      12476478  40220308         M  ...  Congress_Republican  0.494041     W\n",
              "647676        4896730  46506154         M  ...  Congress_Republican  0.494041     W\n",
              "1876863      10909791  10458808         M  ...  Congress_Democratic  0.140101     W\n",
              "270615        2535150  59227815         M  ...  Congress_Republican  0.467610     W\n",
              "1276150       7599964  54387439         M  ...  Congress_Republican  0.439587     W\n",
              "1124992       5374046  46506154         M  ...  Congress_Republican  0.492503     W\n",
              "2167990      11308970  95515852         M  ...  Congress_Republican  0.447452     W\n",
              "\n",
              "[20 rows x 10 columns]"
            ]
          },
          "metadata": {
            "tags": []
          },
          "execution_count": 54
        }
      ]
    },
    {
      "cell_type": "code",
      "metadata": {
        "id": "qaswseIjHc8j",
        "colab_type": "code",
        "outputId": "724a5c0a-5e33-4116-c0d1-009b64a513cf",
        "colab": {
          "base_uri": "https://localhost:8080/",
          "height": 1000
        }
      },
      "source": [
        "# most confident wrong predictions where the answer was F but they thought M\n",
        "# same as before - references to a male politician \n",
        "wrong_preds.sort_values('probs', ascending=False)[:20]"
      ],
      "execution_count": 55,
      "outputs": [
        {
          "output_type": "execute_result",
          "data": {
            "text/html": [
              "<div>\n",
              "<style scoped>\n",
              "    .dataframe tbody tr th:only-of-type {\n",
              "        vertical-align: middle;\n",
              "    }\n",
              "\n",
              "    .dataframe tbody tr th {\n",
              "        vertical-align: top;\n",
              "    }\n",
              "\n",
              "    .dataframe thead th {\n",
              "        text-align: right;\n",
              "    }\n",
              "</style>\n",
              "<table border=\"1\" class=\"dataframe\">\n",
              "  <thead>\n",
              "    <tr style=\"text-align: right;\">\n",
              "      <th></th>\n",
              "      <th>original_idx</th>\n",
              "      <th>op_id</th>\n",
              "      <th>op_gender</th>\n",
              "      <th>post_id</th>\n",
              "      <th>responder_id</th>\n",
              "      <th>response_text</th>\n",
              "      <th>op_name</th>\n",
              "      <th>op_category</th>\n",
              "      <th>probs</th>\n",
              "      <th>preds</th>\n",
              "    </tr>\n",
              "  </thead>\n",
              "  <tbody>\n",
              "    <tr>\n",
              "      <th>1930513</th>\n",
              "      <td>10979905</td>\n",
              "      <td>86569077</td>\n",
              "      <td>W</td>\n",
              "      <td>389357</td>\n",
              "      <td>Jeremy</td>\n",
              "      <td>thank you senator gillibrand. just called my senator, durbin, to ask him to support your filibus...</td>\n",
              "      <td>Kirsten Gillibrand</td>\n",
              "      <td>Congress_Democratic</td>\n",
              "      <td>1.000000</td>\n",
              "      <td>M</td>\n",
              "    </tr>\n",
              "    <tr>\n",
              "      <th>2001084</th>\n",
              "      <td>11050476</td>\n",
              "      <td>86569077</td>\n",
              "      <td>W</td>\n",
              "      <td>390043</td>\n",
              "      <td>Margaret</td>\n",
              "      <td>the shooter took his mother's gun. if these guns were still banned, she would not have it. mr ra...</td>\n",
              "      <td>Kirsten Gillibrand</td>\n",
              "      <td>Congress_Democratic</td>\n",
              "      <td>1.000000</td>\n",
              "      <td>M</td>\n",
              "    </tr>\n",
              "    <tr>\n",
              "      <th>1993131</th>\n",
              "      <td>11042523</td>\n",
              "      <td>86569077</td>\n",
              "      <td>W</td>\n",
              "      <td>389977</td>\n",
              "      <td>Colleen</td>\n",
              "      <td>you mean mr paul mark?  rand opportunist paul?</td>\n",
              "      <td>Kirsten Gillibrand</td>\n",
              "      <td>Congress_Democratic</td>\n",
              "      <td>0.999999</td>\n",
              "      <td>M</td>\n",
              "    </tr>\n",
              "    <tr>\n",
              "      <th>2288789</th>\n",
              "      <td>13624454</td>\n",
              "      <td>4938109</td>\n",
              "      <td>W</td>\n",
              "      <td>528242</td>\n",
              "      <td>AnneMarie</td>\n",
              "      <td>i am writing you as a concerned voter and animal lover regarding house resolution 752 – condemni...</td>\n",
              "      <td>Yvette Clarke</td>\n",
              "      <td>Congress_Democratic</td>\n",
              "      <td>0.999999</td>\n",
              "      <td>M</td>\n",
              "    </tr>\n",
              "    <tr>\n",
              "      <th>1930430</th>\n",
              "      <td>10979822</td>\n",
              "      <td>86569077</td>\n",
              "      <td>W</td>\n",
              "      <td>389355</td>\n",
              "      <td>Andrea</td>\n",
              "      <td>this is beyond unacceptable. I had like to know what citizens can do, and what elected officials...</td>\n",
              "      <td>Kirsten Gillibrand</td>\n",
              "      <td>Congress_Democratic</td>\n",
              "      <td>0.999995</td>\n",
              "      <td>M</td>\n",
              "    </tr>\n",
              "    <tr>\n",
              "      <th>2052572</th>\n",
              "      <td>11101964</td>\n",
              "      <td>86569077</td>\n",
              "      <td>W</td>\n",
              "      <td>390749</td>\n",
              "      <td>Peter</td>\n",
              "      <td>damn, even jim inhofe is upset with bunning.</td>\n",
              "      <td>Kirsten Gillibrand</td>\n",
              "      <td>Congress_Democratic</td>\n",
              "      <td>0.999993</td>\n",
              "      <td>M</td>\n",
              "    </tr>\n",
              "    <tr>\n",
              "      <th>1992461</th>\n",
              "      <td>11041853</td>\n",
              "      <td>86569077</td>\n",
              "      <td>W</td>\n",
              "      <td>389973</td>\n",
              "      <td>Jeannie</td>\n",
              "      <td>http://www.thedailybeast.com/articles/2013/07/02/kirsten-powers-i-don-t-stand-with-wendy-davis.html</td>\n",
              "      <td>Kirsten Gillibrand</td>\n",
              "      <td>Congress_Democratic</td>\n",
              "      <td>0.999992</td>\n",
              "      <td>M</td>\n",
              "    </tr>\n",
              "    <tr>\n",
              "      <th>2038475</th>\n",
              "      <td>11087867</td>\n",
              "      <td>86569077</td>\n",
              "      <td>W</td>\n",
              "      <td>390492</td>\n",
              "      <td>Leah</td>\n",
              "      <td>i hate to be crass, but go fuck yourself al.  ~signed an elitist feminist.</td>\n",
              "      <td>Kirsten Gillibrand</td>\n",
              "      <td>Congress_Democratic</td>\n",
              "      <td>0.999991</td>\n",
              "      <td>M</td>\n",
              "    </tr>\n",
              "    <tr>\n",
              "      <th>1990692</th>\n",
              "      <td>11040084</td>\n",
              "      <td>86569077</td>\n",
              "      <td>W</td>\n",
              "      <td>389945</td>\n",
              "      <td>Mark</td>\n",
              "      <td>the people of colorado have spoken.   http://abcnews.go.com/us/wirestory/colo-lawmakers-face-rec...</td>\n",
              "      <td>Kirsten Gillibrand</td>\n",
              "      <td>Congress_Democratic</td>\n",
              "      <td>0.999991</td>\n",
              "      <td>M</td>\n",
              "    </tr>\n",
              "    <tr>\n",
              "      <th>2000968</th>\n",
              "      <td>11050360</td>\n",
              "      <td>86569077</td>\n",
              "      <td>W</td>\n",
              "      <td>390043</td>\n",
              "      <td>Matt</td>\n",
              "      <td>stand with rand or be like kirsten and give up our countries gun rights to the united nations.</td>\n",
              "      <td>Kirsten Gillibrand</td>\n",
              "      <td>Congress_Democratic</td>\n",
              "      <td>0.999990</td>\n",
              "      <td>M</td>\n",
              "    </tr>\n",
              "    <tr>\n",
              "      <th>1957878</th>\n",
              "      <td>11007270</td>\n",
              "      <td>86569077</td>\n",
              "      <td>W</td>\n",
              "      <td>389621</td>\n",
              "      <td>Amy</td>\n",
              "      <td>i stand with rand!! 2016</td>\n",
              "      <td>Kirsten Gillibrand</td>\n",
              "      <td>Congress_Democratic</td>\n",
              "      <td>0.999989</td>\n",
              "      <td>M</td>\n",
              "    </tr>\n",
              "    <tr>\n",
              "      <th>2013561</th>\n",
              "      <td>11062953</td>\n",
              "      <td>86569077</td>\n",
              "      <td>W</td>\n",
              "      <td>390130</td>\n",
              "      <td>Peter</td>\n",
              "      <td>mickey the rand bill is window dressing and does nothing. government has run amuck and is out of...</td>\n",
              "      <td>Kirsten Gillibrand</td>\n",
              "      <td>Congress_Democratic</td>\n",
              "      <td>0.999986</td>\n",
              "      <td>M</td>\n",
              "    </tr>\n",
              "    <tr>\n",
              "      <th>1944116</th>\n",
              "      <td>10993508</td>\n",
              "      <td>86569077</td>\n",
              "      <td>W</td>\n",
              "      <td>389479</td>\n",
              "      <td>Anthony</td>\n",
              "      <td>take a look at the comments!  you may not understand the people you represent!!!! c'mon kirsten ...</td>\n",
              "      <td>Kirsten Gillibrand</td>\n",
              "      <td>Congress_Democratic</td>\n",
              "      <td>0.999985</td>\n",
              "      <td>M</td>\n",
              "    </tr>\n",
              "    <tr>\n",
              "      <th>2002411</th>\n",
              "      <td>11051803</td>\n",
              "      <td>86569077</td>\n",
              "      <td>W</td>\n",
              "      <td>390054</td>\n",
              "      <td>Robert</td>\n",
              "      <td>you are the good in the world, while rand paul represents evil!</td>\n",
              "      <td>Kirsten Gillibrand</td>\n",
              "      <td>Congress_Democratic</td>\n",
              "      <td>0.999984</td>\n",
              "      <td>M</td>\n",
              "    </tr>\n",
              "    <tr>\n",
              "      <th>2137810</th>\n",
              "      <td>11278790</td>\n",
              "      <td>77234050</td>\n",
              "      <td>W</td>\n",
              "      <td>399908</td>\n",
              "      <td>Tim</td>\n",
              "      <td>yeah brad, rand paul is true winner. get a grip.</td>\n",
              "      <td>Cathy McMorris Rodgers</td>\n",
              "      <td>Congress_Republican</td>\n",
              "      <td>0.999984</td>\n",
              "      <td>M</td>\n",
              "    </tr>\n",
              "    <tr>\n",
              "      <th>1949440</th>\n",
              "      <td>10998832</td>\n",
              "      <td>86569077</td>\n",
              "      <td>W</td>\n",
              "      <td>389544</td>\n",
              "      <td>Pattie</td>\n",
              "      <td>i &lt;3 this guy!!!!!  go get 'em, jon!</td>\n",
              "      <td>Kirsten Gillibrand</td>\n",
              "      <td>Congress_Democratic</td>\n",
              "      <td>0.999984</td>\n",
              "      <td>M</td>\n",
              "    </tr>\n",
              "    <tr>\n",
              "      <th>2114169</th>\n",
              "      <td>11255149</td>\n",
              "      <td>77234050</td>\n",
              "      <td>W</td>\n",
              "      <td>399635</td>\n",
              "      <td>Jo</td>\n",
              "      <td>pray that republicans do something soon.  our country is in terrible trouble and no one seems to...</td>\n",
              "      <td>Cathy McMorris Rodgers</td>\n",
              "      <td>Congress_Republican</td>\n",
              "      <td>0.999983</td>\n",
              "      <td>M</td>\n",
              "    </tr>\n",
              "    <tr>\n",
              "      <th>374906</th>\n",
              "      <td>3124997</td>\n",
              "      <td>23984618</td>\n",
              "      <td>W</td>\n",
              "      <td>82855</td>\n",
              "      <td>Laura</td>\n",
              "      <td>when is your next town hall?  looking forward to it. http://nymag.com/daily/intelligencer/2017/0...</td>\n",
              "      <td>Ann Wagner</td>\n",
              "      <td>Congress_Republican</td>\n",
              "      <td>0.999982</td>\n",
              "      <td>M</td>\n",
              "    </tr>\n",
              "    <tr>\n",
              "      <th>2062871</th>\n",
              "      <td>11202625</td>\n",
              "      <td>48870736</td>\n",
              "      <td>W</td>\n",
              "      <td>394710</td>\n",
              "      <td>John</td>\n",
              "      <td>thank you for demanding substantive change to aid in preventing future tragedies!  we cannot con...</td>\n",
              "      <td>Betty McCollum</td>\n",
              "      <td>Congress_Democratic</td>\n",
              "      <td>0.999978</td>\n",
              "      <td>M</td>\n",
              "    </tr>\n",
              "    <tr>\n",
              "      <th>2160232</th>\n",
              "      <td>11301212</td>\n",
              "      <td>77234050</td>\n",
              "      <td>W</td>\n",
              "      <td>400756</td>\n",
              "      <td>Congresswoman</td>\n",
              "      <td>@lynette: stay tuned! @richard: please call shaughnessy in my washington, d.c. office. he will b...</td>\n",
              "      <td>Cathy McMorris Rodgers</td>\n",
              "      <td>Congress_Republican</td>\n",
              "      <td>0.999978</td>\n",
              "      <td>M</td>\n",
              "    </tr>\n",
              "  </tbody>\n",
              "</table>\n",
              "</div>"
            ],
            "text/plain": [
              "         original_idx     op_id op_gender  ...          op_category     probs preds\n",
              "1930513      10979905  86569077         W  ...  Congress_Democratic  1.000000     M\n",
              "2001084      11050476  86569077         W  ...  Congress_Democratic  1.000000     M\n",
              "1993131      11042523  86569077         W  ...  Congress_Democratic  0.999999     M\n",
              "2288789      13624454   4938109         W  ...  Congress_Democratic  0.999999     M\n",
              "1930430      10979822  86569077         W  ...  Congress_Democratic  0.999995     M\n",
              "2052572      11101964  86569077         W  ...  Congress_Democratic  0.999993     M\n",
              "1992461      11041853  86569077         W  ...  Congress_Democratic  0.999992     M\n",
              "2038475      11087867  86569077         W  ...  Congress_Democratic  0.999991     M\n",
              "1990692      11040084  86569077         W  ...  Congress_Democratic  0.999991     M\n",
              "2000968      11050360  86569077         W  ...  Congress_Democratic  0.999990     M\n",
              "1957878      11007270  86569077         W  ...  Congress_Democratic  0.999989     M\n",
              "2013561      11062953  86569077         W  ...  Congress_Democratic  0.999986     M\n",
              "1944116      10993508  86569077         W  ...  Congress_Democratic  0.999985     M\n",
              "2002411      11051803  86569077         W  ...  Congress_Democratic  0.999984     M\n",
              "2137810      11278790  77234050         W  ...  Congress_Republican  0.999984     M\n",
              "1949440      10998832  86569077         W  ...  Congress_Democratic  0.999984     M\n",
              "2114169      11255149  77234050         W  ...  Congress_Republican  0.999983     M\n",
              "374906        3124997  23984618         W  ...  Congress_Republican  0.999982     M\n",
              "2062871      11202625  48870736         W  ...  Congress_Democratic  0.999978     M\n",
              "2160232      11301212  77234050         W  ...  Congress_Republican  0.999978     M\n",
              "\n",
              "[20 rows x 10 columns]"
            ]
          },
          "metadata": {
            "tags": []
          },
          "execution_count": 55
        }
      ]
    },
    {
      "cell_type": "code",
      "metadata": {
        "id": "KoJzrEOfIct2",
        "colab_type": "code",
        "outputId": "1a34adb3-a1ff-479f-edd1-661e3cb67071",
        "colab": {
          "base_uri": "https://localhost:8080/",
          "height": 1000
        }
      },
      "source": [
        "# most confident wrong predictions where the answer was F but they thought M\n",
        "# same as before - references to a male politician \n",
        "wrong_preds.sort_values('probs', ascending=True)[:20]"
      ],
      "execution_count": 56,
      "outputs": [
        {
          "output_type": "execute_result",
          "data": {
            "text/html": [
              "<div>\n",
              "<style scoped>\n",
              "    .dataframe tbody tr th:only-of-type {\n",
              "        vertical-align: middle;\n",
              "    }\n",
              "\n",
              "    .dataframe tbody tr th {\n",
              "        vertical-align: top;\n",
              "    }\n",
              "\n",
              "    .dataframe thead th {\n",
              "        text-align: right;\n",
              "    }\n",
              "</style>\n",
              "<table border=\"1\" class=\"dataframe\">\n",
              "  <thead>\n",
              "    <tr style=\"text-align: right;\">\n",
              "      <th></th>\n",
              "      <th>original_idx</th>\n",
              "      <th>op_id</th>\n",
              "      <th>op_gender</th>\n",
              "      <th>post_id</th>\n",
              "      <th>responder_id</th>\n",
              "      <th>response_text</th>\n",
              "      <th>op_name</th>\n",
              "      <th>op_category</th>\n",
              "      <th>probs</th>\n",
              "      <th>preds</th>\n",
              "    </tr>\n",
              "  </thead>\n",
              "  <tbody>\n",
              "    <tr>\n",
              "      <th>1065864</th>\n",
              "      <td>5314918</td>\n",
              "      <td>46506154</td>\n",
              "      <td>M</td>\n",
              "      <td>161457</td>\n",
              "      <td>Susan</td>\n",
              "      <td>love mia - pulling for her to have a huge win in utah - we need you in congress girl.</td>\n",
              "      <td>Marco Rubio</td>\n",
              "      <td>Congress_Republican</td>\n",
              "      <td>0.000012</td>\n",
              "      <td>W</td>\n",
              "    </tr>\n",
              "    <tr>\n",
              "      <th>1636803</th>\n",
              "      <td>10117662</td>\n",
              "      <td>51495713</td>\n",
              "      <td>M</td>\n",
              "      <td>370156</td>\n",
              "      <td>Eva</td>\n",
              "      <td>us representative mia love's speech was outstanding.  we are loving us rep. mia love.  ~  l  (al...</td>\n",
              "      <td>Richard Shelby</td>\n",
              "      <td>Congress_Republican</td>\n",
              "      <td>0.000033</td>\n",
              "      <td>W</td>\n",
              "    </tr>\n",
              "    <tr>\n",
              "      <th>181521</th>\n",
              "      <td>2358273</td>\n",
              "      <td>62246450</td>\n",
              "      <td>M</td>\n",
              "      <td>52502</td>\n",
              "      <td>Annie</td>\n",
              "      <td>keep going elizabeth! we support you!</td>\n",
              "      <td>Ron Wyden</td>\n",
              "      <td>Congress_Democratic</td>\n",
              "      <td>0.000045</td>\n",
              "      <td>W</td>\n",
              "    </tr>\n",
              "    <tr>\n",
              "      <th>1516442</th>\n",
              "      <td>7934736</td>\n",
              "      <td>99469231</td>\n",
              "      <td>M</td>\n",
              "      <td>296388</td>\n",
              "      <td>Fred</td>\n",
              "      <td>the white house,via rice,knowingly lied to the citizens of america and the united nations.  we a...</td>\n",
              "      <td>John McCain</td>\n",
              "      <td>Congress_Republican</td>\n",
              "      <td>0.000050</td>\n",
              "      <td>W</td>\n",
              "    </tr>\n",
              "    <tr>\n",
              "      <th>232018</th>\n",
              "      <td>2408770</td>\n",
              "      <td>62246450</td>\n",
              "      <td>M</td>\n",
              "      <td>52977</td>\n",
              "      <td>Sean</td>\n",
              "      <td>i agree with lanaya. i am happy to say I am an oregonian now, but i was born and raised in misso...</td>\n",
              "      <td>Ron Wyden</td>\n",
              "      <td>Congress_Democratic</td>\n",
              "      <td>0.000053</td>\n",
              "      <td>W</td>\n",
              "    </tr>\n",
              "    <tr>\n",
              "      <th>1065840</th>\n",
              "      <td>5314894</td>\n",
              "      <td>46506154</td>\n",
              "      <td>M</td>\n",
              "      <td>161457</td>\n",
              "      <td>Manda</td>\n",
              "      <td>&lt;3 mia love!</td>\n",
              "      <td>Marco Rubio</td>\n",
              "      <td>Congress_Republican</td>\n",
              "      <td>0.000062</td>\n",
              "      <td>W</td>\n",
              "    </tr>\n",
              "    <tr>\n",
              "      <th>2180513</th>\n",
              "      <td>11321493</td>\n",
              "      <td>95515852</td>\n",
              "      <td>M</td>\n",
              "      <td>402017</td>\n",
              "      <td>Muha</td>\n",
              "      <td>love u jan</td>\n",
              "      <td>Bill Huizenga</td>\n",
              "      <td>Congress_Republican</td>\n",
              "      <td>0.000066</td>\n",
              "      <td>W</td>\n",
              "    </tr>\n",
              "    <tr>\n",
              "      <th>1238010</th>\n",
              "      <td>7364578</td>\n",
              "      <td>8140646</td>\n",
              "      <td>M</td>\n",
              "      <td>276480</td>\n",
              "      <td>Karen</td>\n",
              "      <td>wrote congresswoman granger who is my rep. hope it helps! thanks for all you are doing marc.</td>\n",
              "      <td>Marc Veasey</td>\n",
              "      <td>Congress_Democratic</td>\n",
              "      <td>0.000073</td>\n",
              "      <td>W</td>\n",
              "    </tr>\n",
              "    <tr>\n",
              "      <th>2252355</th>\n",
              "      <td>13071222</td>\n",
              "      <td>33944100</td>\n",
              "      <td>M</td>\n",
              "      <td>481577</td>\n",
              "      <td>Lisa</td>\n",
              "      <td>we would have liked to of heard your questions for hillary robert, we wish you could have been o...</td>\n",
              "      <td>Robert Aderholt</td>\n",
              "      <td>Congress_Republican</td>\n",
              "      <td>0.000088</td>\n",
              "      <td>W</td>\n",
              "    </tr>\n",
              "    <tr>\n",
              "      <th>253237</th>\n",
              "      <td>2508436</td>\n",
              "      <td>23785853</td>\n",
              "      <td>M</td>\n",
              "      <td>62379</td>\n",
              "      <td>Dustin</td>\n",
              "      <td>\"his counterpart in the united states senate?\"  you mean democrat sen. patty murray, right?</td>\n",
              "      <td>Mike Simpson</td>\n",
              "      <td>Congress_Republican</td>\n",
              "      <td>0.000090</td>\n",
              "      <td>W</td>\n",
              "    </tr>\n",
              "    <tr>\n",
              "      <th>1333741</th>\n",
              "      <td>7752035</td>\n",
              "      <td>99469231</td>\n",
              "      <td>M</td>\n",
              "      <td>296112</td>\n",
              "      <td>Brad</td>\n",
              "      <td>your a two faced hypocrite.....turned into a shameful politician, playing both sides the fence w...</td>\n",
              "      <td>John McCain</td>\n",
              "      <td>Congress_Republican</td>\n",
              "      <td>0.000103</td>\n",
              "      <td>W</td>\n",
              "    </tr>\n",
              "    <tr>\n",
              "      <th>1870185</th>\n",
              "      <td>10903113</td>\n",
              "      <td>10458808</td>\n",
              "      <td>M</td>\n",
              "      <td>385776</td>\n",
              "      <td>Hannah</td>\n",
              "      <td>i see tulsi!</td>\n",
              "      <td>Mark Takano</td>\n",
              "      <td>Congress_Democratic</td>\n",
              "      <td>0.000108</td>\n",
              "      <td>W</td>\n",
              "    </tr>\n",
              "    <tr>\n",
              "      <th>1851504</th>\n",
              "      <td>10884432</td>\n",
              "      <td>10458808</td>\n",
              "      <td>M</td>\n",
              "      <td>385755</td>\n",
              "      <td>Char</td>\n",
              "      <td>i hope everyone is listing the infractions of congress. i have a list that need to be voted out!...</td>\n",
              "      <td>Mark Takano</td>\n",
              "      <td>Congress_Democratic</td>\n",
              "      <td>0.000134</td>\n",
              "      <td>W</td>\n",
              "    </tr>\n",
              "    <tr>\n",
              "      <th>264413</th>\n",
              "      <td>2528948</td>\n",
              "      <td>59227815</td>\n",
              "      <td>M</td>\n",
              "      <td>63410</td>\n",
              "      <td>Rhonda</td>\n",
              "      <td>love you, mia love!  almost-aborted first black congresswoman.</td>\n",
              "      <td>Paul Ryan</td>\n",
              "      <td>Congress_Republican</td>\n",
              "      <td>0.000143</td>\n",
              "      <td>W</td>\n",
              "    </tr>\n",
              "    <tr>\n",
              "      <th>991634</th>\n",
              "      <td>5240688</td>\n",
              "      <td>46506154</td>\n",
              "      <td>M</td>\n",
              "      <td>161317</td>\n",
              "      <td>Laura</td>\n",
              "      <td>keep the faith ms. ayotte, you are good for new hampshire and our country !!  you have more supp...</td>\n",
              "      <td>Marco Rubio</td>\n",
              "      <td>Congress_Republican</td>\n",
              "      <td>0.000152</td>\n",
              "      <td>W</td>\n",
              "    </tr>\n",
              "    <tr>\n",
              "      <th>2257680</th>\n",
              "      <td>13076547</td>\n",
              "      <td>33944100</td>\n",
              "      <td>M</td>\n",
              "      <td>481915</td>\n",
              "      <td>Annette</td>\n",
              "      <td>love you jan!</td>\n",
              "      <td>Robert Aderholt</td>\n",
              "      <td>Congress_Republican</td>\n",
              "      <td>0.000166</td>\n",
              "      <td>W</td>\n",
              "    </tr>\n",
              "    <tr>\n",
              "      <th>1853547</th>\n",
              "      <td>10886475</td>\n",
              "      <td>10458808</td>\n",
              "      <td>M</td>\n",
              "      <td>385765</td>\n",
              "      <td>Kelly</td>\n",
              "      <td>that was not elizabeth warren that brought coffee.  that was a congresswoman elizabeth esty</td>\n",
              "      <td>Mark Takano</td>\n",
              "      <td>Congress_Democratic</td>\n",
              "      <td>0.000170</td>\n",
              "      <td>W</td>\n",
              "    </tr>\n",
              "    <tr>\n",
              "      <th>901125</th>\n",
              "      <td>5150179</td>\n",
              "      <td>46506154</td>\n",
              "      <td>M</td>\n",
              "      <td>161080</td>\n",
              "      <td>Dennis</td>\n",
              "      <td>patty murray is an embarrassment to washington state!</td>\n",
              "      <td>Marco Rubio</td>\n",
              "      <td>Congress_Republican</td>\n",
              "      <td>0.000173</td>\n",
              "      <td>W</td>\n",
              "    </tr>\n",
              "    <tr>\n",
              "      <th>1028333</th>\n",
              "      <td>5277387</td>\n",
              "      <td>46506154</td>\n",
              "      <td>M</td>\n",
              "      <td>161377</td>\n",
              "      <td>Georgina</td>\n",
              "      <td>as a latin female voter  i will never vote for someone who disrespect everything he supposed to ...</td>\n",
              "      <td>Marco Rubio</td>\n",
              "      <td>Congress_Republican</td>\n",
              "      <td>0.000190</td>\n",
              "      <td>W</td>\n",
              "    </tr>\n",
              "    <tr>\n",
              "      <th>1855248</th>\n",
              "      <td>10888176</td>\n",
              "      <td>10458808</td>\n",
              "      <td>M</td>\n",
              "      <td>385767</td>\n",
              "      <td>Karen</td>\n",
              "      <td>thank you representative esty, for fighting this fight for years!</td>\n",
              "      <td>Mark Takano</td>\n",
              "      <td>Congress_Democratic</td>\n",
              "      <td>0.000191</td>\n",
              "      <td>W</td>\n",
              "    </tr>\n",
              "  </tbody>\n",
              "</table>\n",
              "</div>"
            ],
            "text/plain": [
              "         original_idx     op_id op_gender  ...          op_category     probs preds\n",
              "1065864       5314918  46506154         M  ...  Congress_Republican  0.000012     W\n",
              "1636803      10117662  51495713         M  ...  Congress_Republican  0.000033     W\n",
              "181521        2358273  62246450         M  ...  Congress_Democratic  0.000045     W\n",
              "1516442       7934736  99469231         M  ...  Congress_Republican  0.000050     W\n",
              "232018        2408770  62246450         M  ...  Congress_Democratic  0.000053     W\n",
              "1065840       5314894  46506154         M  ...  Congress_Republican  0.000062     W\n",
              "2180513      11321493  95515852         M  ...  Congress_Republican  0.000066     W\n",
              "1238010       7364578   8140646         M  ...  Congress_Democratic  0.000073     W\n",
              "2252355      13071222  33944100         M  ...  Congress_Republican  0.000088     W\n",
              "253237        2508436  23785853         M  ...  Congress_Republican  0.000090     W\n",
              "1333741       7752035  99469231         M  ...  Congress_Republican  0.000103     W\n",
              "1870185      10903113  10458808         M  ...  Congress_Democratic  0.000108     W\n",
              "1851504      10884432  10458808         M  ...  Congress_Democratic  0.000134     W\n",
              "264413        2528948  59227815         M  ...  Congress_Republican  0.000143     W\n",
              "991634        5240688  46506154         M  ...  Congress_Republican  0.000152     W\n",
              "2257680      13076547  33944100         M  ...  Congress_Republican  0.000166     W\n",
              "1853547      10886475  10458808         M  ...  Congress_Democratic  0.000170     W\n",
              "901125        5150179  46506154         M  ...  Congress_Republican  0.000173     W\n",
              "1028333       5277387  46506154         M  ...  Congress_Republican  0.000190     W\n",
              "1855248      10888176  10458808         M  ...  Congress_Democratic  0.000191     W\n",
              "\n",
              "[20 rows x 10 columns]"
            ]
          },
          "metadata": {
            "tags": []
          },
          "execution_count": 56
        }
      ]
    }
  ]
}
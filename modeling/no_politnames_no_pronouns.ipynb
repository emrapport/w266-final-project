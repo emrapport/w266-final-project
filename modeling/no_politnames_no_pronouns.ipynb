{
  "nbformat": 4,
  "nbformat_minor": 0,
  "metadata": {
    "kernelspec": {
      "name": "python3",
      "display_name": "Python 3"
    },
    "language_info": {
      "codemirror_mode": {
        "name": "ipython",
        "version": 3
      },
      "file_extension": ".py",
      "mimetype": "text/x-python",
      "name": "python",
      "nbconvert_exporter": "python",
      "pygments_lexer": "ipython3",
      "version": "3.7.4"
    },
    "colab": {
      "name": "no_gendered_pronouns.ipynb",
      "provenance": [],
      "machine_shape": "hm",
      "include_colab_link": true
    },
    "accelerator": "TPU"
  },
  "cells": [
    {
      "cell_type": "markdown",
      "metadata": {
        "id": "view-in-github",
        "colab_type": "text"
      },
      "source": [
        "<a href=\"https://colab.research.google.com/github/emrapport/w266-final-project/blob/master/modeling/no_politnames_no_pronouns.ipynb\" target=\"_parent\"><img src=\"https://colab.research.google.com/assets/colab-badge.svg\" alt=\"Open In Colab\"/></a>"
      ]
    },
    {
      "cell_type": "markdown",
      "metadata": {
        "id": "ldVKPuCY1oqk",
        "colab_type": "text"
      },
      "source": [
        "## Remove gendered pronouns and political names.\n",
        "\n"
      ]
    },
    {
      "cell_type": "code",
      "metadata": {
        "id": "dJtCeCgbSs0D",
        "colab_type": "code",
        "colab": {}
      },
      "source": [
        "# this notebook is based off of this blog post: \n",
        "# https://realpython.com/python-keras-text-classification/#reader-comments"
      ],
      "execution_count": 0,
      "outputs": []
    },
    {
      "cell_type": "code",
      "metadata": {
        "id": "_QYIGfoPFRZK",
        "colab_type": "code",
        "colab": {}
      },
      "source": [
        "DATASET_NAME = \"no_gen_pronouns\"\n",
        "MODEL_NAME = \"no_gen_pronouns\"\n",
        "MAX_SEQ_LENGTH = 20\n",
        "TRAINING_SET_SIZE = 4000000\n",
        "VAL_SET_SIZE = 2000000\n",
        "NUM_EPOCHS = 15\n",
        "BATCH_SIZE = 1000\n",
        "MAX_SEQUENCE_LENGTH = 20\n",
        "\n",
        "\n",
        "# I don't think we have a good reason to do this right now\n",
        "# but we might eventually \n",
        "SAVE_TOKENIZED_DATA = False"
      ],
      "execution_count": 0,
      "outputs": []
    },
    {
      "cell_type": "code",
      "metadata": {
        "id": "l0rrZSx7Ss0M",
        "colab_type": "code",
        "outputId": "48c5bc98-a50e-4cff-feaa-42a9effafb83",
        "colab": {
          "base_uri": "https://localhost:8080/",
          "height": 474
        }
      },
      "source": [
        "from sklearn.linear_model import LogisticRegression\n",
        "from sklearn.feature_extraction.text import HashingVectorizer\n",
        "from scipy.sparse import hstack, vstack\n",
        "from keras.preprocessing.text import Tokenizer\n",
        "from tensorflow.keras import Sequential, layers\n",
        "from keras.utils import plot_model\n",
        "import pandas as pd\n",
        "import numpy as np\n",
        "import copy\n",
        "import time\n",
        "import pickle\n",
        "!pip install gcsfs\n",
        "\n",
        "pd.set_option('max_colwidth', 100)"
      ],
      "execution_count": 3,
      "outputs": [
        {
          "output_type": "stream",
          "text": [
            "Using TensorFlow backend.\n"
          ],
          "name": "stderr"
        },
        {
          "output_type": "stream",
          "text": [
            "Collecting gcsfs\n",
            "  Downloading https://files.pythonhosted.org/packages/65/e2/05f903ce8f77804127195cfcc1ca8b500a3157a1572dcc4b82bf5af01564/gcsfs-0.4.0-py2.py3-none-any.whl\n",
            "Requirement already satisfied: decorator in /usr/local/lib/python3.6/dist-packages (from gcsfs) (4.4.1)\n",
            "Requirement already satisfied: google-auth-oauthlib in /usr/local/lib/python3.6/dist-packages (from gcsfs) (0.4.1)\n",
            "Collecting fsspec>=0.6.0\n",
            "\u001b[?25l  Downloading https://files.pythonhosted.org/packages/4f/d9/40c970ef234cd3054c9cd6c087b92f24ea5b1209c87dcb931e28a72dbc29/fsspec-0.6.0-py3-none-any.whl (61kB)\n",
            "\u001b[K     |████████████████████████████████| 71kB 4.3MB/s \n",
            "\u001b[?25hRequirement already satisfied: requests in /usr/local/lib/python3.6/dist-packages (from gcsfs) (2.21.0)\n",
            "Requirement already satisfied: google-auth>=1.2 in /usr/local/lib/python3.6/dist-packages (from gcsfs) (1.4.2)\n",
            "Requirement already satisfied: requests-oauthlib>=0.7.0 in /usr/local/lib/python3.6/dist-packages (from google-auth-oauthlib->gcsfs) (1.3.0)\n",
            "Requirement already satisfied: certifi>=2017.4.17 in /usr/local/lib/python3.6/dist-packages (from requests->gcsfs) (2019.9.11)\n",
            "Requirement already satisfied: idna<2.9,>=2.5 in /usr/local/lib/python3.6/dist-packages (from requests->gcsfs) (2.8)\n",
            "Requirement already satisfied: chardet<3.1.0,>=3.0.2 in /usr/local/lib/python3.6/dist-packages (from requests->gcsfs) (3.0.4)\n",
            "Requirement already satisfied: urllib3<1.25,>=1.21.1 in /usr/local/lib/python3.6/dist-packages (from requests->gcsfs) (1.24.3)\n",
            "Requirement already satisfied: cachetools>=2.0.0 in /usr/local/lib/python3.6/dist-packages (from google-auth>=1.2->gcsfs) (3.1.1)\n",
            "Requirement already satisfied: six>=1.9.0 in /usr/local/lib/python3.6/dist-packages (from google-auth>=1.2->gcsfs) (1.12.0)\n",
            "Requirement already satisfied: rsa>=3.1.4 in /usr/local/lib/python3.6/dist-packages (from google-auth>=1.2->gcsfs) (4.0)\n",
            "Requirement already satisfied: pyasn1-modules>=0.2.1 in /usr/local/lib/python3.6/dist-packages (from google-auth>=1.2->gcsfs) (0.2.7)\n",
            "Requirement already satisfied: oauthlib>=3.0.0 in /usr/local/lib/python3.6/dist-packages (from requests-oauthlib>=0.7.0->google-auth-oauthlib->gcsfs) (3.1.0)\n",
            "Requirement already satisfied: pyasn1>=0.1.3 in /usr/local/lib/python3.6/dist-packages (from rsa>=3.1.4->google-auth>=1.2->gcsfs) (0.4.7)\n",
            "Installing collected packages: fsspec, gcsfs\n",
            "  Found existing installation: fsspec 0.5.2\n",
            "    Uninstalling fsspec-0.5.2:\n",
            "      Successfully uninstalled fsspec-0.5.2\n",
            "Successfully installed fsspec-0.6.0 gcsfs-0.4.0\n"
          ],
          "name": "stdout"
        }
      ]
    },
    {
      "cell_type": "code",
      "metadata": {
        "id": "lKNfUKrfUgP-",
        "colab_type": "code",
        "outputId": "1d9abcc9-7ca2-48b4-8de1-e78effcc17ea",
        "colab": {
          "base_uri": "https://localhost:8080/",
          "height": 175
        }
      },
      "source": [
        "# this cell is only necessary if running in colab\n",
        "project_id = 'w266-251323'\n",
        "import uuid\n",
        "bucket_name = 'fb-congressional-data/'\n",
        "from google.colab import auth\n",
        "auth.authenticate_user()\n",
        "!gcloud config set project {project_id}"
      ],
      "execution_count": 4,
      "outputs": [
        {
          "output_type": "stream",
          "text": [
            "WARNING:tensorflow:\n",
            "The TensorFlow contrib module will not be included in TensorFlow 2.0.\n",
            "For more information, please see:\n",
            "  * https://github.com/tensorflow/community/blob/master/rfcs/20180907-contrib-sunset.md\n",
            "  * https://github.com/tensorflow/addons\n",
            "  * https://github.com/tensorflow/io (for I/O related ops)\n",
            "If you depend on functionality not listed there, please file an issue.\n",
            "\n",
            "Updated property [core/project].\n"
          ],
          "name": "stdout"
        }
      ]
    },
    {
      "cell_type": "code",
      "metadata": {
        "id": "9T7PzdLQSs0j",
        "colab_type": "code",
        "outputId": "28aecf25-63e1-44f9-a285-b1e2f8063622",
        "colab": {
          "base_uri": "https://localhost:8080/",
          "height": 72
        }
      },
      "source": [
        "train_df = pd.read_csv(\"gs://fb-congressional-data/contraction_expanded_data/train.csv\", index_col=0)"
      ],
      "execution_count": 5,
      "outputs": [
        {
          "output_type": "stream",
          "text": [
            "/usr/local/lib/python3.6/dist-packages/numpy/lib/arraysetops.py:568: FutureWarning: elementwise comparison failed; returning scalar instead, but in the future will perform elementwise comparison\n",
            "  mask |= (ar1 == a)\n"
          ],
          "name": "stderr"
        }
      ]
    },
    {
      "cell_type": "code",
      "metadata": {
        "id": "0iOniVLISs0m",
        "colab_type": "code",
        "outputId": "73667ca7-8afd-43f6-8197-c9ea2aafaa6b",
        "colab": {
          "base_uri": "https://localhost:8080/",
          "height": 72
        }
      },
      "source": [
        "dev_df = pd.read_csv(\"gs://fb-congressional-data/contraction_expanded_data/dev.csv\", index_col=0)"
      ],
      "execution_count": 6,
      "outputs": [
        {
          "output_type": "stream",
          "text": [
            "/usr/local/lib/python3.6/dist-packages/numpy/lib/arraysetops.py:568: FutureWarning: elementwise comparison failed; returning scalar instead, but in the future will perform elementwise comparison\n",
            "  mask |= (ar1 == a)\n"
          ],
          "name": "stderr"
        }
      ]
    },
    {
      "cell_type": "code",
      "metadata": {
        "id": "dk4goOwAPXRH",
        "colab_type": "code",
        "outputId": "6122d6f3-9a43-44c7-ffe7-6a274d16f697",
        "colab": {
          "base_uri": "https://localhost:8080/",
          "height": 34
        }
      },
      "source": [
        "len(train_df)"
      ],
      "execution_count": 7,
      "outputs": [
        {
          "output_type": "execute_result",
          "data": {
            "text/plain": [
              "9879016"
            ]
          },
          "metadata": {
            "tags": []
          },
          "execution_count": 7
        }
      ]
    },
    {
      "cell_type": "code",
      "metadata": {
        "id": "6sOBM6Q6Q4Mz",
        "colab_type": "code",
        "outputId": "898c97f9-cee5-4842-ec26-94385698abcc",
        "colab": {
          "base_uri": "https://localhost:8080/",
          "height": 34
        }
      },
      "source": [
        "len(dev_df)"
      ],
      "execution_count": 8,
      "outputs": [
        {
          "output_type": "execute_result",
          "data": {
            "text/plain": [
              "2292907"
            ]
          },
          "metadata": {
            "tags": []
          },
          "execution_count": 8
        }
      ]
    },
    {
      "cell_type": "code",
      "metadata": {
        "id": "pa0X18XgNgip",
        "colab_type": "code",
        "colab": {}
      },
      "source": [
        "# Get a list of the politicians' names.\n",
        "# I am using just the names listed in the op_name series.\n",
        "polit_names = train_df['op_name']\n",
        "polit_names2 = dev_df['op_name']\n",
        "polit_names.drop_duplicates(inplace=True)\n",
        "polit_names2.drop_duplicates(inplace=True)\n",
        "\n",
        "full_names_list = polit_names.to_list() + polit_names2.to_list()\n",
        "polit_names_list = [name for names in full_names_list for name in names.split()]\n",
        "# Dedup the list again now that it's split.\n",
        "new_list = []\n",
        "for name in polit_names_list:\n",
        "    if name.lower() not in new_list:\n",
        "        new_list.append(name.lower())\n",
        "polit_names_list = new_list"
      ],
      "execution_count": 0,
      "outputs": []
    },
    {
      "cell_type": "code",
      "metadata": {
        "id": "LSf14vtQ2_6b",
        "colab_type": "code",
        "colab": {}
      },
      "source": [
        "# Remove initials and names that are words with common meaning.\n",
        "common_word_list = ['rob','blunt','king','mark','bob','jan','chuck','rod','love','sessions','buddy','mast',\n",
        "                    'bill','holding','drew','waters','gene','green','jerry','young','brat','clay','bass',\n",
        "                    'rice','jack','hatch','van','buck','tester','dick','g.','brown','fudge','dean','don',\n",
        "                    'slaughter','banks','f.','lynch','flake','sires','robin']\n",
        "new_list = []\n",
        "for name in polit_names_list:\n",
        "    if name not in common_word_list:\n",
        "        new_list.append(name)\n",
        "polit_names_list = new_list"
      ],
      "execution_count": 0,
      "outputs": []
    },
    {
      "cell_type": "code",
      "metadata": {
        "id": "W1oM4o7wtHFd",
        "colab_type": "code",
        "outputId": "8193f822-df59-4676-a986-ce92ee8e953b",
        "colab": {
          "base_uri": "https://localhost:8080/",
          "height": 34
        }
      },
      "source": [
        "num_responses_per_post = train_df.post_id.value_counts().reset_index()\n",
        "num_responses_per_post.columns = ['post_id', 'num_responses']\n",
        "too_big_posts = num_responses_per_post[num_responses_per_post.num_responses > 50]\n",
        "posts_to_sample = too_big_posts.post_id.values\n",
        "# this gets all the rows for posts we DON'T need to sample \n",
        "new_train_df = train_df[~train_df.post_id.isin(posts_to_sample)]\n",
        "# this should be true\n",
        "assert(len(too_big_posts) + new_train_df.post_id.nunique() == train_df.post_id.nunique())\n",
        "too_big_post_rows = train_df[train_df.post_id.isin(posts_to_sample)]\n",
        "sampled_rows = too_big_post_rows.groupby('post_id').apply(lambda x: x.sample(n=50)).reset_index(drop=True)\n",
        "new_train_df = pd.concat([new_train_df, sampled_rows])\n",
        "new_train_df.shape"
      ],
      "execution_count": 11,
      "outputs": [
        {
          "output_type": "execute_result",
          "data": {
            "text/plain": [
              "(3962284, 8)"
            ]
          },
          "metadata": {
            "tags": []
          },
          "execution_count": 11
        }
      ]
    },
    {
      "cell_type": "code",
      "metadata": {
        "id": "bwNu4VTq46QG",
        "colab_type": "code",
        "outputId": "d0d9aec3-7c98-4e0b-aa29-1ec1ff13e683",
        "colab": {
          "base_uri": "https://localhost:8080/",
          "height": 52
        }
      },
      "source": [
        "start_time = time.time()\n",
        "# Remove 1 and 2 word responses from training set.\n",
        "# Split response string by spaces.\n",
        "new_train_df['split_response'] = new_train_df['response_text'].str.split()\n",
        "# Remove the rows with split responses that have length 1 or 2.\n",
        "train_df = new_train_df[new_train_df['split_response'].str.len() > 2]\n",
        "train_df.head()\n",
        "print(\"seconds to complete:\",(time.time()-start_time))\n",
        "train_df.shape"
      ],
      "execution_count": 12,
      "outputs": [
        {
          "output_type": "stream",
          "text": [
            "seconds to complete: 37.71539330482483\n"
          ],
          "name": "stdout"
        },
        {
          "output_type": "execute_result",
          "data": {
            "text/plain": [
              "(3577217, 9)"
            ]
          },
          "metadata": {
            "tags": []
          },
          "execution_count": 12
        }
      ]
    },
    {
      "cell_type": "code",
      "metadata": {
        "id": "s-GTOd_wmRzq",
        "colab_type": "code",
        "colab": {}
      },
      "source": [
        "# Create a list for simple pronoun substitution.\n",
        "gen_pronouns = ['she','her','hers','congresswoman','he','his','him','congressman']"
      ],
      "execution_count": 0,
      "outputs": []
    },
    {
      "cell_type": "code",
      "metadata": {
        "id": "cuC6TAks75c_",
        "colab_type": "code",
        "colab": {}
      },
      "source": [
        "# Replace gendered pronouns with simple 'pronoun' token.\n",
        "from string import punctuation\n",
        "def replace_pronouns(response_list,gen_pronouns):\n",
        "    response_list = ' '.join('pronoun' if i.strip(punctuation) in gen_pronouns else i for i in response_list.split())\n",
        "    return response_list"
      ],
      "execution_count": 0,
      "outputs": []
    },
    {
      "cell_type": "code",
      "metadata": {
        "id": "1Pm357ESSJRj",
        "colab_type": "code",
        "outputId": "b567ca70-ab2d-4414-fac9-85e785eb6794",
        "colab": {
          "base_uri": "https://localhost:8080/",
          "height": 419
        }
      },
      "source": [
        "start_time = time.time()\n",
        "train_df['response_text'] = train_df['response_text'].astype(str).apply(replace_pronouns,args=(gen_pronouns,))\n",
        "print(\"minutes to complete:\",(time.time()-start_time)/60)\n",
        "train_df.head()"
      ],
      "execution_count": 15,
      "outputs": [
        {
          "output_type": "stream",
          "text": [
            "minutes to complete: 0.9109175006548563\n"
          ],
          "name": "stdout"
        },
        {
          "output_type": "stream",
          "text": [
            "/usr/local/lib/python3.6/dist-packages/ipykernel_launcher.py:2: SettingWithCopyWarning: \n",
            "A value is trying to be set on a copy of a slice from a DataFrame.\n",
            "Try using .loc[row_indexer,col_indexer] = value instead\n",
            "\n",
            "See the caveats in the documentation: http://pandas.pydata.org/pandas-docs/stable/user_guide/indexing.html#returning-a-view-versus-a-copy\n",
            "  \n"
          ],
          "name": "stderr"
        },
        {
          "output_type": "execute_result",
          "data": {
            "text/html": [
              "<div>\n",
              "<style scoped>\n",
              "    .dataframe tbody tr th:only-of-type {\n",
              "        vertical-align: middle;\n",
              "    }\n",
              "\n",
              "    .dataframe tbody tr th {\n",
              "        vertical-align: top;\n",
              "    }\n",
              "\n",
              "    .dataframe thead th {\n",
              "        text-align: right;\n",
              "    }\n",
              "</style>\n",
              "<table border=\"1\" class=\"dataframe\">\n",
              "  <thead>\n",
              "    <tr style=\"text-align: right;\">\n",
              "      <th></th>\n",
              "      <th>original_idx</th>\n",
              "      <th>op_id</th>\n",
              "      <th>op_gender</th>\n",
              "      <th>post_id</th>\n",
              "      <th>responder_id</th>\n",
              "      <th>response_text</th>\n",
              "      <th>op_name</th>\n",
              "      <th>op_category</th>\n",
              "      <th>split_response</th>\n",
              "    </tr>\n",
              "  </thead>\n",
              "  <tbody>\n",
              "    <tr>\n",
              "      <th>0</th>\n",
              "      <td>0</td>\n",
              "      <td>57265377</td>\n",
              "      <td>M</td>\n",
              "      <td>0</td>\n",
              "      <td>Jerry</td>\n",
              "      <td>protecting birth is not the same as protecting life. you may very well pledge to the former but ...</td>\n",
              "      <td>Roger Williams</td>\n",
              "      <td>Congress_Republican</td>\n",
              "      <td>[protecting, birth, is, not, the, same, as, protecting, life., you, may, very, well, pledge, to,...</td>\n",
              "    </tr>\n",
              "    <tr>\n",
              "      <th>1</th>\n",
              "      <td>1</td>\n",
              "      <td>57265377</td>\n",
              "      <td>M</td>\n",
              "      <td>0</td>\n",
              "      <td>Andrea</td>\n",
              "      <td>you need to protect children and leave my body to me.</td>\n",
              "      <td>Roger Williams</td>\n",
              "      <td>Congress_Republican</td>\n",
              "      <td>[you, need, to, protect, children, and, leave, my, body, to, me.]</td>\n",
              "    </tr>\n",
              "    <tr>\n",
              "      <th>3</th>\n",
              "      <td>3</td>\n",
              "      <td>57265377</td>\n",
              "      <td>M</td>\n",
              "      <td>0</td>\n",
              "      <td>Bob</td>\n",
              "      <td>thank you roger</td>\n",
              "      <td>Roger Williams</td>\n",
              "      <td>Congress_Republican</td>\n",
              "      <td>[thank, you, roger]</td>\n",
              "    </tr>\n",
              "    <tr>\n",
              "      <th>4</th>\n",
              "      <td>4</td>\n",
              "      <td>57265377</td>\n",
              "      <td>M</td>\n",
              "      <td>0</td>\n",
              "      <td>Joy</td>\n",
              "      <td>unwanted pregnancy is a sad and unfortunate situation for anyone to find themselves in, however,...</td>\n",
              "      <td>Roger Williams</td>\n",
              "      <td>Congress_Republican</td>\n",
              "      <td>[unwanted, pregnancy, is, a, sad, and, unfortunate, situation, for, anyone, to, find, themselves...</td>\n",
              "    </tr>\n",
              "    <tr>\n",
              "      <th>5</th>\n",
              "      <td>5</td>\n",
              "      <td>57265377</td>\n",
              "      <td>M</td>\n",
              "      <td>0</td>\n",
              "      <td>Candice</td>\n",
              "      <td>women, the \"hosts\" of the unborn babies you are so supportive of, need access to healthcare to g...</td>\n",
              "      <td>Roger Williams</td>\n",
              "      <td>Congress_Republican</td>\n",
              "      <td>[women,, the, \"hosts\", of, the, unborn, babies, you, are, so, supportive, of,, need, access, to,...</td>\n",
              "    </tr>\n",
              "  </tbody>\n",
              "</table>\n",
              "</div>"
            ],
            "text/plain": [
              "   original_idx  ...                                                                                       split_response\n",
              "0             0  ...  [protecting, birth, is, not, the, same, as, protecting, life., you, may, very, well, pledge, to,...\n",
              "1             1  ...                                    [you, need, to, protect, children, and, leave, my, body, to, me.]\n",
              "3             3  ...                                                                                  [thank, you, roger]\n",
              "4             4  ...  [unwanted, pregnancy, is, a, sad, and, unfortunate, situation, for, anyone, to, find, themselves...\n",
              "5             5  ...  [women,, the, \"hosts\", of, the, unborn, babies, you, are, so, supportive, of,, need, access, to,...\n",
              "\n",
              "[5 rows x 9 columns]"
            ]
          },
          "metadata": {
            "tags": []
          },
          "execution_count": 15
        }
      ]
    },
    {
      "cell_type": "code",
      "metadata": {
        "colab_type": "code",
        "id": "AzlJyebg7bVU",
        "colab": {
          "base_uri": "https://localhost:8080/",
          "height": 685
        },
        "outputId": "4ff8822b-af06-4195-9226-4b9d12219f90"
      },
      "source": [
        "# Remove political names from training set.\n",
        "from string import punctuation\n",
        "def replace_polit_names(response_list,names):\n",
        "    response_list = ' '.join('politname' if i.strip(punctuation) in names else i for i in response_list.split())\n",
        "    return response_list\n",
        "start_time = time.time()\n",
        "train_df['response_text'] = train_df['response_text'].astype(str).apply(replace_polit_names,args=(polit_names_list,))\n",
        "print(\"minutes to complete:\",(time.time()-start_time)/60)\n",
        "train_df.head(10)"
      ],
      "execution_count": 16,
      "outputs": [
        {
          "output_type": "stream",
          "text": [
            "minutes to complete: 11.199472105503082\n"
          ],
          "name": "stdout"
        },
        {
          "output_type": "stream",
          "text": [
            "/usr/local/lib/python3.6/dist-packages/ipykernel_launcher.py:6: SettingWithCopyWarning: \n",
            "A value is trying to be set on a copy of a slice from a DataFrame.\n",
            "Try using .loc[row_indexer,col_indexer] = value instead\n",
            "\n",
            "See the caveats in the documentation: http://pandas.pydata.org/pandas-docs/stable/user_guide/indexing.html#returning-a-view-versus-a-copy\n",
            "  \n"
          ],
          "name": "stderr"
        },
        {
          "output_type": "execute_result",
          "data": {
            "text/html": [
              "<div>\n",
              "<style scoped>\n",
              "    .dataframe tbody tr th:only-of-type {\n",
              "        vertical-align: middle;\n",
              "    }\n",
              "\n",
              "    .dataframe tbody tr th {\n",
              "        vertical-align: top;\n",
              "    }\n",
              "\n",
              "    .dataframe thead th {\n",
              "        text-align: right;\n",
              "    }\n",
              "</style>\n",
              "<table border=\"1\" class=\"dataframe\">\n",
              "  <thead>\n",
              "    <tr style=\"text-align: right;\">\n",
              "      <th></th>\n",
              "      <th>original_idx</th>\n",
              "      <th>op_id</th>\n",
              "      <th>op_gender</th>\n",
              "      <th>post_id</th>\n",
              "      <th>responder_id</th>\n",
              "      <th>response_text</th>\n",
              "      <th>op_name</th>\n",
              "      <th>op_category</th>\n",
              "      <th>split_response</th>\n",
              "    </tr>\n",
              "  </thead>\n",
              "  <tbody>\n",
              "    <tr>\n",
              "      <th>0</th>\n",
              "      <td>0</td>\n",
              "      <td>57265377</td>\n",
              "      <td>M</td>\n",
              "      <td>0</td>\n",
              "      <td>Jerry</td>\n",
              "      <td>protecting birth is not the same as protecting life. you may very well pledge to the former but ...</td>\n",
              "      <td>Roger Williams</td>\n",
              "      <td>Congress_Republican</td>\n",
              "      <td>[protecting, birth, is, not, the, same, as, protecting, life., you, may, very, well, pledge, to,...</td>\n",
              "    </tr>\n",
              "    <tr>\n",
              "      <th>1</th>\n",
              "      <td>1</td>\n",
              "      <td>57265377</td>\n",
              "      <td>M</td>\n",
              "      <td>0</td>\n",
              "      <td>Andrea</td>\n",
              "      <td>you need to protect children and leave my body to me.</td>\n",
              "      <td>Roger Williams</td>\n",
              "      <td>Congress_Republican</td>\n",
              "      <td>[you, need, to, protect, children, and, leave, my, body, to, me.]</td>\n",
              "    </tr>\n",
              "    <tr>\n",
              "      <th>3</th>\n",
              "      <td>3</td>\n",
              "      <td>57265377</td>\n",
              "      <td>M</td>\n",
              "      <td>0</td>\n",
              "      <td>Bob</td>\n",
              "      <td>thank you politname</td>\n",
              "      <td>Roger Williams</td>\n",
              "      <td>Congress_Republican</td>\n",
              "      <td>[thank, you, roger]</td>\n",
              "    </tr>\n",
              "    <tr>\n",
              "      <th>4</th>\n",
              "      <td>4</td>\n",
              "      <td>57265377</td>\n",
              "      <td>M</td>\n",
              "      <td>0</td>\n",
              "      <td>Joy</td>\n",
              "      <td>unwanted pregnancy is a sad and unfortunate situation for anyone to find themselves in, however,...</td>\n",
              "      <td>Roger Williams</td>\n",
              "      <td>Congress_Republican</td>\n",
              "      <td>[unwanted, pregnancy, is, a, sad, and, unfortunate, situation, for, anyone, to, find, themselves...</td>\n",
              "    </tr>\n",
              "    <tr>\n",
              "      <th>5</th>\n",
              "      <td>5</td>\n",
              "      <td>57265377</td>\n",
              "      <td>M</td>\n",
              "      <td>0</td>\n",
              "      <td>Candice</td>\n",
              "      <td>women, the \"hosts\" of the unborn babies you are so supportive of, need access to healthcare to g...</td>\n",
              "      <td>Roger Williams</td>\n",
              "      <td>Congress_Republican</td>\n",
              "      <td>[women,, the, \"hosts\", of, the, unborn, babies, you, are, so, supportive, of,, need, access, to,...</td>\n",
              "    </tr>\n",
              "    <tr>\n",
              "      <th>6</th>\n",
              "      <td>6</td>\n",
              "      <td>57265377</td>\n",
              "      <td>M</td>\n",
              "      <td>0</td>\n",
              "      <td>Cheri</td>\n",
              "      <td>i am pro choice and always will be</td>\n",
              "      <td>Roger Williams</td>\n",
              "      <td>Congress_Republican</td>\n",
              "      <td>[i, am, pro, choice, and, always, will, be]</td>\n",
              "    </tr>\n",
              "    <tr>\n",
              "      <th>7</th>\n",
              "      <td>7</td>\n",
              "      <td>57265377</td>\n",
              "      <td>M</td>\n",
              "      <td>0</td>\n",
              "      <td>Julie</td>\n",
              "      <td>thank you for taking a stand!!!!</td>\n",
              "      <td>Roger Williams</td>\n",
              "      <td>Congress_Republican</td>\n",
              "      <td>[thank, you, for, taking, a, stand!!!!]</td>\n",
              "    </tr>\n",
              "    <tr>\n",
              "      <th>8</th>\n",
              "      <td>8</td>\n",
              "      <td>57265377</td>\n",
              "      <td>M</td>\n",
              "      <td>0</td>\n",
              "      <td>Stephen</td>\n",
              "      <td>i seem to disagree with you again mr.williams. woman have a right to determine what happens to t...</td>\n",
              "      <td>Roger Williams</td>\n",
              "      <td>Congress_Republican</td>\n",
              "      <td>[i, seem, to, disagree, with, you, again, mr.williams., woman, have, a, right, to, determine, wh...</td>\n",
              "    </tr>\n",
              "    <tr>\n",
              "      <th>9</th>\n",
              "      <td>9</td>\n",
              "      <td>57265377</td>\n",
              "      <td>M</td>\n",
              "      <td>0</td>\n",
              "      <td>Tony</td>\n",
              "      <td>please demonstrate your support by providing pre- and post-natal care to these babies and their ...</td>\n",
              "      <td>Roger Williams</td>\n",
              "      <td>Congress_Republican</td>\n",
              "      <td>[please, demonstrate, your, support, by, providing, pre-, and, post-natal, care, to, these, babi...</td>\n",
              "    </tr>\n",
              "    <tr>\n",
              "      <th>10</th>\n",
              "      <td>10</td>\n",
              "      <td>57265377</td>\n",
              "      <td>M</td>\n",
              "      <td>0</td>\n",
              "      <td>Maria</td>\n",
              "      <td>thank you for protecting the sanctity of precious life .</td>\n",
              "      <td>Roger Williams</td>\n",
              "      <td>Congress_Republican</td>\n",
              "      <td>[thank, you, for, protecting, the, sanctity, of, precious, life, .]</td>\n",
              "    </tr>\n",
              "  </tbody>\n",
              "</table>\n",
              "</div>"
            ],
            "text/plain": [
              "    original_idx  ...                                                                                       split_response\n",
              "0              0  ...  [protecting, birth, is, not, the, same, as, protecting, life., you, may, very, well, pledge, to,...\n",
              "1              1  ...                                    [you, need, to, protect, children, and, leave, my, body, to, me.]\n",
              "3              3  ...                                                                                  [thank, you, roger]\n",
              "4              4  ...  [unwanted, pregnancy, is, a, sad, and, unfortunate, situation, for, anyone, to, find, themselves...\n",
              "5              5  ...  [women,, the, \"hosts\", of, the, unborn, babies, you, are, so, supportive, of,, need, access, to,...\n",
              "6              6  ...                                                          [i, am, pro, choice, and, always, will, be]\n",
              "7              7  ...                                                              [thank, you, for, taking, a, stand!!!!]\n",
              "8              8  ...  [i, seem, to, disagree, with, you, again, mr.williams., woman, have, a, right, to, determine, wh...\n",
              "9              9  ...  [please, demonstrate, your, support, by, providing, pre-, and, post-natal, care, to, these, babi...\n",
              "10            10  ...                                  [thank, you, for, protecting, the, sanctity, of, precious, life, .]\n",
              "\n",
              "[10 rows x 9 columns]"
            ]
          },
          "metadata": {
            "tags": []
          },
          "execution_count": 16
        }
      ]
    },
    {
      "cell_type": "code",
      "metadata": {
        "id": "K95juTqs5nM1",
        "colab_type": "code",
        "outputId": "cb194ef3-5db8-4506-f509-02fe1f3ff8cd",
        "colab": {
          "base_uri": "https://localhost:8080/",
          "height": 34
        }
      },
      "source": [
        "# Remove 1 and 2 word responses from dev set.\n",
        "# Split response string by spaces.\n",
        "dev_df['split_response'] = dev_df['response_text'].str.split()\n",
        "# Remove the rows wtih split responses that have length 1 or 2.\n",
        "dev_df = dev_df[dev_df['split_response'].str.len() > 2]\n",
        "len(dev_df)"
      ],
      "execution_count": 17,
      "outputs": [
        {
          "output_type": "execute_result",
          "data": {
            "text/plain": [
              "2041945"
            ]
          },
          "metadata": {
            "tags": []
          },
          "execution_count": 17
        }
      ]
    },
    {
      "cell_type": "code",
      "metadata": {
        "id": "WIgLDfF4BtJC",
        "colab_type": "code",
        "outputId": "a6272dda-472c-4b57-9fdc-e3ddc559ebf1",
        "colab": {
          "base_uri": "https://localhost:8080/",
          "height": 529
        }
      },
      "source": [
        "start_time = time.time()\n",
        "dev_df['response_text'] = dev_df['response_text'].astype(str).apply(replace_pronouns,args=(gen_pronouns,))\n",
        "dev_df['response_text'] = dev_df['response_text'].astype(str).apply(replace_polit_names,args=(polit_names_list,))\n",
        "print(\"minutes to complete:\",(time.time()-start_time)/60)\n",
        "dev_df.head(10)"
      ],
      "execution_count": 18,
      "outputs": [
        {
          "output_type": "stream",
          "text": [
            "minutes to complete: 6.91778869231542\n"
          ],
          "name": "stdout"
        },
        {
          "output_type": "execute_result",
          "data": {
            "text/html": [
              "<div>\n",
              "<style scoped>\n",
              "    .dataframe tbody tr th:only-of-type {\n",
              "        vertical-align: middle;\n",
              "    }\n",
              "\n",
              "    .dataframe tbody tr th {\n",
              "        vertical-align: top;\n",
              "    }\n",
              "\n",
              "    .dataframe thead th {\n",
              "        text-align: right;\n",
              "    }\n",
              "</style>\n",
              "<table border=\"1\" class=\"dataframe\">\n",
              "  <thead>\n",
              "    <tr style=\"text-align: right;\">\n",
              "      <th></th>\n",
              "      <th>original_idx</th>\n",
              "      <th>op_id</th>\n",
              "      <th>op_gender</th>\n",
              "      <th>post_id</th>\n",
              "      <th>responder_id</th>\n",
              "      <th>response_text</th>\n",
              "      <th>op_name</th>\n",
              "      <th>op_category</th>\n",
              "      <th>split_response</th>\n",
              "    </tr>\n",
              "  </thead>\n",
              "  <tbody>\n",
              "    <tr>\n",
              "      <th>0</th>\n",
              "      <td>1965080</td>\n",
              "      <td>86681682</td>\n",
              "      <td>M</td>\n",
              "      <td>29909</td>\n",
              "      <td>James</td>\n",
              "      <td>thanks for passing this ridiculous legislation. https://www.youtube.com/watch?v=-y4wd8royre</td>\n",
              "      <td>Jim Banks</td>\n",
              "      <td>Congress_Republican</td>\n",
              "      <td>[thanks, for, passing, this, ridiculous, legislation., https://www.youtube.com/watch?v=-y4wd8royre]</td>\n",
              "    </tr>\n",
              "    <tr>\n",
              "      <th>1</th>\n",
              "      <td>1965081</td>\n",
              "      <td>86681682</td>\n",
              "      <td>M</td>\n",
              "      <td>29909</td>\n",
              "      <td>Martha</td>\n",
              "      <td>handsome young man on the left. 😂 mom</td>\n",
              "      <td>Jim Banks</td>\n",
              "      <td>Congress_Republican</td>\n",
              "      <td>[handsome, young, man, on, the, left., 😂, mom]</td>\n",
              "    </tr>\n",
              "    <tr>\n",
              "      <th>2</th>\n",
              "      <td>1965082</td>\n",
              "      <td>86681682</td>\n",
              "      <td>M</td>\n",
              "      <td>29911</td>\n",
              "      <td>Preston</td>\n",
              "      <td>you are sideways!</td>\n",
              "      <td>Jim Banks</td>\n",
              "      <td>Congress_Republican</td>\n",
              "      <td>[you, are, sideways!]</td>\n",
              "    </tr>\n",
              "    <tr>\n",
              "      <th>3</th>\n",
              "      <td>1965083</td>\n",
              "      <td>86681682</td>\n",
              "      <td>M</td>\n",
              "      <td>29911</td>\n",
              "      <td>Bobby</td>\n",
              "      <td>hi pronoun banks</td>\n",
              "      <td>Jim Banks</td>\n",
              "      <td>Congress_Republican</td>\n",
              "      <td>[hi, congressman, banks]</td>\n",
              "    </tr>\n",
              "    <tr>\n",
              "      <th>4</th>\n",
              "      <td>1965084</td>\n",
              "      <td>86681682</td>\n",
              "      <td>M</td>\n",
              "      <td>29911</td>\n",
              "      <td>Landon</td>\n",
              "      <td>politname i love your office. the 5th floor is for winners.</td>\n",
              "      <td>Jim Banks</td>\n",
              "      <td>Congress_Republican</td>\n",
              "      <td>[jim,, i, love, your, office., the, 5th, floor, is, for, winners.]</td>\n",
              "    </tr>\n",
              "    <tr>\n",
              "      <th>6</th>\n",
              "      <td>1965086</td>\n",
              "      <td>86681682</td>\n",
              "      <td>M</td>\n",
              "      <td>29911</td>\n",
              "      <td>Sean</td>\n",
              "      <td>it has the penthouse.</td>\n",
              "      <td>Jim Banks</td>\n",
              "      <td>Congress_Republican</td>\n",
              "      <td>[it, has, the, penthouse.]</td>\n",
              "    </tr>\n",
              "    <tr>\n",
              "      <th>7</th>\n",
              "      <td>1965087</td>\n",
              "      <td>86681682</td>\n",
              "      <td>M</td>\n",
              "      <td>29911</td>\n",
              "      <td>Preston</td>\n",
              "      <td>we are thankful for you, mr. banks!</td>\n",
              "      <td>Jim Banks</td>\n",
              "      <td>Congress_Republican</td>\n",
              "      <td>[we, are, thankful, for, you,, mr., banks!]</td>\n",
              "    </tr>\n",
              "    <tr>\n",
              "      <th>10</th>\n",
              "      <td>1965090</td>\n",
              "      <td>86681682</td>\n",
              "      <td>M</td>\n",
              "      <td>29911</td>\n",
              "      <td>Justin</td>\n",
              "      <td>looks like lots of space for activities.</td>\n",
              "      <td>Jim Banks</td>\n",
              "      <td>Congress_Republican</td>\n",
              "      <td>[looks, like, lots, of, space, for, activities.]</td>\n",
              "    </tr>\n",
              "    <tr>\n",
              "      <th>12</th>\n",
              "      <td>1965092</td>\n",
              "      <td>86681682</td>\n",
              "      <td>M</td>\n",
              "      <td>29911</td>\n",
              "      <td>Bobby</td>\n",
              "      <td>my friend tanner</td>\n",
              "      <td>Jim Banks</td>\n",
              "      <td>Congress_Republican</td>\n",
              "      <td>[my, friend, tanner]</td>\n",
              "    </tr>\n",
              "    <tr>\n",
              "      <th>13</th>\n",
              "      <td>1965093</td>\n",
              "      <td>86681682</td>\n",
              "      <td>M</td>\n",
              "      <td>29911</td>\n",
              "      <td>William</td>\n",
              "      <td>nice office, now when are you going to call for an investigation into the possible treasonable o...</td>\n",
              "      <td>Jim Banks</td>\n",
              "      <td>Congress_Republican</td>\n",
              "      <td>[nice, office,, now, when, are, you, going, to, call, for, an, investigation, into, the, possibl...</td>\n",
              "    </tr>\n",
              "  </tbody>\n",
              "</table>\n",
              "</div>"
            ],
            "text/plain": [
              "    original_idx  ...                                                                                       split_response\n",
              "0        1965080  ...  [thanks, for, passing, this, ridiculous, legislation., https://www.youtube.com/watch?v=-y4wd8royre]\n",
              "1        1965081  ...                                                       [handsome, young, man, on, the, left., 😂, mom]\n",
              "2        1965082  ...                                                                                [you, are, sideways!]\n",
              "3        1965083  ...                                                                             [hi, congressman, banks]\n",
              "4        1965084  ...                                   [jim,, i, love, your, office., the, 5th, floor, is, for, winners.]\n",
              "6        1965086  ...                                                                           [it, has, the, penthouse.]\n",
              "7        1965087  ...                                                          [we, are, thankful, for, you,, mr., banks!]\n",
              "10       1965090  ...                                                     [looks, like, lots, of, space, for, activities.]\n",
              "12       1965092  ...                                                                                 [my, friend, tanner]\n",
              "13       1965093  ...  [nice, office,, now, when, are, you, going, to, call, for, an, investigation, into, the, possibl...\n",
              "\n",
              "[10 rows x 9 columns]"
            ]
          },
          "metadata": {
            "tags": []
          },
          "execution_count": 18
        }
      ]
    },
    {
      "cell_type": "code",
      "metadata": {
        "id": "5HOBGFbSn49u",
        "colab_type": "code",
        "colab": {}
      },
      "source": [
        "# Remove the columns of lists.\n",
        "train_df = train_df.drop(['split_response'], axis=1)\n",
        "dev_df = dev_df.drop(['split_response'], axis=1)\n"
      ],
      "execution_count": 0,
      "outputs": []
    },
    {
      "cell_type": "code",
      "metadata": {
        "id": "Zq_4JxJ7o6Yi",
        "colab_type": "code",
        "outputId": "f940085b-c037-4339-ba84-c71c2f507c5a",
        "colab": {
          "base_uri": "https://localhost:8080/",
          "height": 34
        }
      },
      "source": [
        "import gc\n",
        "gc.collect()"
      ],
      "execution_count": 20,
      "outputs": [
        {
          "output_type": "execute_result",
          "data": {
            "text/plain": [
              "22"
            ]
          },
          "metadata": {
            "tags": []
          },
          "execution_count": 20
        }
      ]
    },
    {
      "cell_type": "code",
      "metadata": {
        "id": "Zmn4i3bQpbmh",
        "colab_type": "code",
        "colab": {}
      },
      "source": [
        "# Set seeds for reproducible results.\n",
        "from numpy.random import seed\n",
        "seed(1)\n",
        "from tensorflow import set_random_seed\n",
        "set_random_seed(2)"
      ],
      "execution_count": 0,
      "outputs": []
    },
    {
      "cell_type": "code",
      "metadata": {
        "id": "MgZWntiySs0p",
        "colab_type": "code",
        "colab": {}
      },
      "source": [
        "# shuffle the data\n",
        "# be sure to do this before you extract X's and y's!!\n",
        "train_df = new_train_df.sample(frac=1)\n",
        "dev_df = dev_df.sample(frac=1)"
      ],
      "execution_count": 0,
      "outputs": []
    },
    {
      "cell_type": "code",
      "metadata": {
        "id": "1ZJxHTywg7Rq",
        "colab_type": "code",
        "outputId": "9d564015-c84d-427a-e4b5-1d587097491d",
        "colab": {
          "base_uri": "https://localhost:8080/",
          "height": 70
        }
      },
      "source": [
        "train_df.op_gender.value_counts()"
      ],
      "execution_count": 23,
      "outputs": [
        {
          "output_type": "execute_result",
          "data": {
            "text/plain": [
              "M    2900753\n",
              "W    1061531\n",
              "Name: op_gender, dtype: int64"
            ]
          },
          "metadata": {
            "tags": []
          },
          "execution_count": 23
        }
      ]
    },
    {
      "cell_type": "code",
      "metadata": {
        "id": "NV45ZdSzp0NJ",
        "colab_type": "code",
        "outputId": "c8846491-081d-48ea-cb39-f4b4fd24043f",
        "colab": {
          "base_uri": "https://localhost:8080/",
          "height": 70
        }
      },
      "source": [
        "dev_df.op_gender.value_counts()"
      ],
      "execution_count": 24,
      "outputs": [
        {
          "output_type": "execute_result",
          "data": {
            "text/plain": [
              "M    1731288\n",
              "W     310657\n",
              "Name: op_gender, dtype: int64"
            ]
          },
          "metadata": {
            "tags": []
          },
          "execution_count": 24
        }
      ]
    },
    {
      "cell_type": "code",
      "metadata": {
        "id": "Pjb6dx8fSs0s",
        "colab_type": "code",
        "colab": {}
      },
      "source": [
        "# Set the y values.\n",
        "y_train = train_df.op_gender.values\n",
        "y_dev = dev_df.op_gender.values"
      ],
      "execution_count": 0,
      "outputs": []
    },
    {
      "cell_type": "code",
      "metadata": {
        "id": "pBCoPKh_Ss0v",
        "colab_type": "code",
        "colab": {}
      },
      "source": [
        "# Turn y values into 0 (female) and 1 (male).\n",
        "def turn_to_ints(li):\n",
        "    final_list = []\n",
        "    for gender in li:\n",
        "        if gender=='M':\n",
        "            final_list.append(1)\n",
        "        else:\n",
        "            final_list.append(0)\n",
        "    return final_list\n",
        "            \n",
        "y_train = turn_to_ints(y_train)\n",
        "y_dev = turn_to_ints(y_dev)"
      ],
      "execution_count": 0,
      "outputs": []
    },
    {
      "cell_type": "code",
      "metadata": {
        "id": "hN9GFz6xSs0y",
        "colab_type": "code",
        "colab": {}
      },
      "source": [
        "# Convert y values to numpy arrays.\n",
        "y_train = np.asarray(y_train)\n",
        "y_dev = np.asarray(y_dev)"
      ],
      "execution_count": 0,
      "outputs": []
    },
    {
      "cell_type": "code",
      "metadata": {
        "id": "ChYxh6oPSs04",
        "colab_type": "code",
        "colab": {}
      },
      "source": [
        "def get_text_list(init_list):\n",
        "    sentences = []\n",
        "    for sentence in init_list:\n",
        "        if type(sentence) != str:\n",
        "            sentences.append(\"\")\n",
        "        else:\n",
        "            sentences.append(sentence)\n",
        "    return sentences\n",
        "\n",
        "new_sentences_train = get_text_list(train_df.response_text.values) \n",
        "new_sentences_test = get_text_list(dev_df.response_text.values)"
      ],
      "execution_count": 0,
      "outputs": []
    },
    {
      "cell_type": "code",
      "metadata": {
        "id": "1b9SE7SjSs06",
        "colab_type": "code",
        "outputId": "dd695e51-f5fd-4e8d-fb50-0b74983ade0f",
        "colab": {
          "base_uri": "https://localhost:8080/",
          "height": 34
        }
      },
      "source": [
        "# Tokenize the sentences.\n",
        "time_start = time.time()\n",
        "\n",
        "# this is the default list of filters + apostrophe\n",
        "# added because we have dealt with common contractions, so other apostrophes should mostly be possessive \n",
        "tokenizer = Tokenizer(num_words=200000, filters='!\"\\'#$%&()*+,-./:;<=>?@[\\\\]^_`{|}~\\t\\n')\n",
        "tokenizer.fit_on_texts(new_sentences_train)\n",
        "\n",
        "X_train = tokenizer.texts_to_sequences(new_sentences_train)\n",
        "X_test = tokenizer.texts_to_sequences(new_sentences_test)\n",
        "\n",
        "vocab_size = len(tokenizer.word_index) + 1\n",
        "\n",
        "currentTime = time.gmtime(time.time() - time_start)\n",
        "\n",
        "#Convert the gmtime struct to a string\n",
        "timeStr = time.strftime(\"%M minutes, %S seconds\", currentTime)\n",
        "\n",
        "print(\"Tokenized in {}\".format(timeStr))"
      ],
      "execution_count": 29,
      "outputs": [
        {
          "output_type": "stream",
          "text": [
            "Tokenized in 05 minutes, 32 seconds\n"
          ],
          "name": "stdout"
        }
      ]
    },
    {
      "cell_type": "code",
      "metadata": {
        "id": "TyZMBAiySs0-",
        "colab_type": "code",
        "colab": {}
      },
      "source": [
        "# Pad the tokenized data so all sequences are the same length; see first cell for max length.\n",
        "# Length should be the same as in shortened response length above...\n",
        "from keras.preprocessing.sequence import pad_sequences\n",
        "\n",
        "X_train = pad_sequences(X_train, padding='post', maxlen=MAX_SEQUENCE_LENGTH)\n",
        "X_test = pad_sequences(X_test, padding='post', maxlen=MAX_SEQUENCE_LENGTH)"
      ],
      "execution_count": 0,
      "outputs": []
    },
    {
      "cell_type": "code",
      "metadata": {
        "id": "LGl1S3HySs1G",
        "colab_type": "code",
        "colab": {}
      },
      "source": [
        "if SAVE_TOKENIZED_DATA:\n",
        "  x_train_path = 'X_train_{}.pkl'.format(DATASET_NAME)\n",
        "  x_dev_path = 'X_dev_{}.pkl'.format(DATASET_NAME)\n",
        "  y_train_path = 'y_train_{}.pkl'.format(DATASET_NAME)\n",
        "  y_dev_path = 'y_dev_{}.pkl'.format(DATASET_NAME)\n",
        "\n",
        "  with open(x_train_path, 'wb') as file:\n",
        "      pickle.dump(X_train, file)   \n",
        "  with open(x_dev_path, 'wb') as file:\n",
        "      pickle.dump(X_test, file)\n",
        "  with open(y_train_path, 'wb') as file:\n",
        "      pickle.dump(y_train, file)\n",
        "  with open(y_dev_path, 'wb') as file:\n",
        "      pickle.dump(y_dev, file)\n",
        "\n",
        "  # copy to bucket\n",
        "  !gsutil cp /content/{x_train_path} gs://fb-congressional-data/test\n",
        "  !gsutil cp /content/{x_dev_path} gs://fb-congressional-data/\n",
        "  !gsutil cp /content/{y_train_path} gs://fb-congressional-data/\n",
        "  !gsutil cp /content/{y_dev_path} gs://fb-congressional-data/"
      ],
      "execution_count": 0,
      "outputs": []
    },
    {
      "cell_type": "code",
      "metadata": {
        "id": "s5AeCFGIuKIR",
        "colab_type": "code",
        "outputId": "482297dc-a752-45ea-d7ba-7d1e2e952d45",
        "colab": {
          "base_uri": "https://localhost:8080/",
          "height": 246
        }
      },
      "source": [
        "# Get the glove embeddings.\n",
        "!gsutil cp gs://fb-congressional-data/glove* /tmp/"
      ],
      "execution_count": 32,
      "outputs": [
        {
          "output_type": "stream",
          "text": [
            "Copying gs://fb-congressional-data/glove.6B.100d.txt...\n",
            "Copying gs://fb-congressional-data/glove.6B.200d.txt...\n",
            "Copying gs://fb-congressional-data/glove.6B.300d.txt...\n",
            "Copying gs://fb-congressional-data/glove.6B.50d.txt...\n",
            "/ [4 files][  2.1 GiB/  2.1 GiB]   33.0 MiB/s                                   \n",
            "==> NOTE: You are performing a sequence of gsutil operations that may\n",
            "run significantly faster if you instead use gsutil -m cp ... Please\n",
            "see the -m section under \"gsutil help options\" for further information\n",
            "about when gsutil -m can be advantageous.\n",
            "\n",
            "Copying gs://fb-congressional-data/glove.6B.zip...\n",
            "\\ [5 files][  2.9 GiB/  2.9 GiB]   26.9 MiB/s                                   \n",
            "Operation completed over 5 objects/2.9 GiB.                                      \n"
          ],
          "name": "stdout"
        }
      ]
    },
    {
      "cell_type": "code",
      "metadata": {
        "id": "ae5EQ7vbSs1L",
        "colab_type": "code",
        "colab": {}
      },
      "source": [
        "def create_embedding_matrix(filepath, word_index, embedding_dim):\n",
        "    vocab_size = len(word_index) + 1  # Adding again 1 because of reserved 0 index\n",
        "    embedding_matrix = np.zeros((vocab_size, embedding_dim))\n",
        "\n",
        "    with open(filepath) as f:\n",
        "        for line in f:\n",
        "            word, *vector = line.split()\n",
        "            if word in word_index:\n",
        "                idx = word_index[word] \n",
        "                embedding_matrix[idx] = np.array(\n",
        "                    vector, dtype=np.float32)[:embedding_dim]\n",
        "\n",
        "    return embedding_matrix\n",
        "\n",
        "embedding_dim = 100\n",
        "embedding_matrix = create_embedding_matrix(\n",
        "                     '/tmp/glove.6B.{}d.txt'.format(embedding_dim),\n",
        "                      tokenizer.word_index, embedding_dim)"
      ],
      "execution_count": 0,
      "outputs": []
    },
    {
      "cell_type": "code",
      "metadata": {
        "id": "kUTvp7yfut-7",
        "colab_type": "code",
        "colab": {}
      },
      "source": [
        "# trying to figure out which words are empty here\n",
        "# counter = 0\n",
        "# empty_indexes = []\n",
        "# for index, row in enumerate(embedding_matrix):\n",
        "#   if sum(row) == 0:\n",
        "#     empty_indexes.append(index)\n",
        "#     counter += 1\n",
        "#   if counter > 1000:\n",
        "#     break\n",
        "\n",
        "# for idx in empty_indexes:\n",
        "#   try:\n",
        "#     print(tokenizer.index_word[idx])\n",
        "#   except:\n",
        "#     print(\"No entry for {}\".format(idx))\n"
      ],
      "execution_count": 0,
      "outputs": []
    },
    {
      "cell_type": "code",
      "metadata": {
        "id": "UI5vn5zBSs1P",
        "colab_type": "code",
        "colab": {}
      },
      "source": [
        "# hmmmm....\n",
        "# nonzero_elements = np.count_nonzero(np.count_nonzero(embedding_matrix, axis=1))\n",
        "# nonzero_elements / vocab_size"
      ],
      "execution_count": 0,
      "outputs": []
    },
    {
      "cell_type": "code",
      "metadata": {
        "id": "EJtNke4FSs1X",
        "colab_type": "code",
        "outputId": "4ece2986-fdbd-4ec1-b0fe-55b1a3dfcacc",
        "colab": {
          "base_uri": "https://localhost:8080/",
          "height": 34
        }
      },
      "source": [
        "embedding_matrix.shape"
      ],
      "execution_count": 35,
      "outputs": [
        {
          "output_type": "execute_result",
          "data": {
            "text/plain": [
              "(597530, 100)"
            ]
          },
          "metadata": {
            "tags": []
          },
          "execution_count": 35
        }
      ]
    },
    {
      "cell_type": "code",
      "metadata": {
        "id": "tb_yr2R9Ss1d",
        "colab_type": "code",
        "outputId": "8a3ee43f-4783-4120-e181-17d8db5a3894",
        "colab": {
          "base_uri": "https://localhost:8080/",
          "height": 512
        }
      },
      "source": [
        "# Initialize the model.\n",
        "model = Sequential()\n",
        "model.add(layers.Embedding(vocab_size, embedding_dim, \n",
        "                           weights=[embedding_matrix], \n",
        "                           input_length=MAX_SEQUENCE_LENGTH, \n",
        "                           trainable=False))\n",
        "model.add(layers.Conv1D(128, 5, activation='relu'))\n",
        "model.add(layers.GlobalMaxPooling1D())\n",
        "model.add(layers.Dense(10, activation='relu'))\n",
        "model.add(layers.Dense(1, activation='sigmoid'))\n",
        "model.compile(optimizer='adam',\n",
        "              loss='binary_crossentropy',\n",
        "              metrics=['accuracy'])\n",
        "model.summary()"
      ],
      "execution_count": 36,
      "outputs": [
        {
          "output_type": "stream",
          "text": [
            "WARNING:tensorflow:From /usr/local/lib/python3.6/dist-packages/tensorflow_core/python/keras/initializers.py:119: calling RandomUniform.__init__ (from tensorflow.python.ops.init_ops) with dtype is deprecated and will be removed in a future version.\n",
            "Instructions for updating:\n",
            "Call initializer instance with the dtype argument instead of passing it to the constructor\n",
            "WARNING:tensorflow:From /usr/local/lib/python3.6/dist-packages/tensorflow_core/python/ops/resource_variable_ops.py:1630: calling BaseResourceVariable.__init__ (from tensorflow.python.ops.resource_variable_ops) with constraint is deprecated and will be removed in a future version.\n",
            "Instructions for updating:\n",
            "If using Keras pass *_constraint arguments to layers.\n",
            "WARNING:tensorflow:From /usr/local/lib/python3.6/dist-packages/tensorflow_core/python/ops/nn_impl.py:183: where (from tensorflow.python.ops.array_ops) is deprecated and will be removed in a future version.\n",
            "Instructions for updating:\n",
            "Use tf.where in 2.0, which has the same broadcast rule as np.where\n",
            "Model: \"sequential\"\n",
            "_________________________________________________________________\n",
            "Layer (type)                 Output Shape              Param #   \n",
            "=================================================================\n",
            "embedding (Embedding)        (None, 20, 100)           59753000  \n",
            "_________________________________________________________________\n",
            "conv1d (Conv1D)              (None, 16, 128)           64128     \n",
            "_________________________________________________________________\n",
            "global_max_pooling1d (Global (None, 128)               0         \n",
            "_________________________________________________________________\n",
            "dense (Dense)                (None, 10)                1290      \n",
            "_________________________________________________________________\n",
            "dense_1 (Dense)              (None, 1)                 11        \n",
            "=================================================================\n",
            "Total params: 59,818,429\n",
            "Trainable params: 65,429\n",
            "Non-trainable params: 59,753,000\n",
            "_________________________________________________________________\n"
          ],
          "name": "stdout"
        }
      ]
    },
    {
      "cell_type": "code",
      "metadata": {
        "id": "U_9KWVWHAAE3",
        "colab_type": "code",
        "colab": {}
      },
      "source": [
        "smaller_X_train = X_train[:TRAINING_SET_SIZE]"
      ],
      "execution_count": 0,
      "outputs": []
    },
    {
      "cell_type": "code",
      "metadata": {
        "id": "t6gn7HvuAGgQ",
        "colab_type": "code",
        "colab": {}
      },
      "source": [
        "smaller_y_train = y_train[:TRAINING_SET_SIZE]"
      ],
      "execution_count": 0,
      "outputs": []
    },
    {
      "cell_type": "code",
      "metadata": {
        "id": "uf5R6UpGDW_y",
        "colab_type": "code",
        "colab": {}
      },
      "source": [
        "smaller_X_dev = X_test[:VAL_SET_SIZE]\n",
        "smaller_y_dev = y_dev[:VAL_SET_SIZE]"
      ],
      "execution_count": 0,
      "outputs": []
    },
    {
      "cell_type": "code",
      "metadata": {
        "id": "M4dbwlaxSs1l",
        "colab_type": "code",
        "outputId": "7b94d721-2758-41b5-c023-d031c3516f6a",
        "colab": {
          "base_uri": "https://localhost:8080/",
          "height": 756
        }
      },
      "source": [
        "# Run the model.\n",
        "try:\n",
        "  time_start = time.time()\n",
        "\n",
        "  history = model.fit(X_train, y_train,\n",
        "                      epochs=20,\n",
        "                      verbose=True,\n",
        "                      validation_data=(smaller_X_dev, smaller_y_dev),\n",
        "                      batch_size=BATCH_SIZE)\n",
        "\n",
        "  currentTime = time.gmtime(time.time() - time_start)\n",
        "\n",
        "  #Convert the gmtime struct to a string\n",
        "  timeStr = time.strftime(\"%M minutes, %S seconds\", currentTime)\n",
        "\n",
        "  print(\"Trained in {}\".format(timeStr))\n",
        "\n",
        "except:\n",
        "  currentTime = time.gmtime(time.time() - time_start)\n",
        "\n",
        "  #Convert the gmtime struct to a string\n",
        "  timeStr = time.strftime(\"%M minutes, %S seconds\", currentTime)\n",
        "\n",
        "  print(\"Trained in {}\".format(timeStr))  "
      ],
      "execution_count": 40,
      "outputs": [
        {
          "output_type": "stream",
          "text": [
            "Train on 3962284 samples, validate on 2000000 samples\n",
            "Epoch 1/20\n",
            "3962284/3962284 [==============================] - 118s 30us/sample - loss: 0.5190 - acc: 0.7636 - val_loss: 0.4647 - val_acc: 0.8352\n",
            "Epoch 2/20\n",
            "3962284/3962284 [==============================] - 119s 30us/sample - loss: 0.5029 - acc: 0.7713 - val_loss: 0.4531 - val_acc: 0.8418\n",
            "Epoch 3/20\n",
            "3962284/3962284 [==============================] - 118s 30us/sample - loss: 0.4979 - acc: 0.7735 - val_loss: 0.4473 - val_acc: 0.8417\n",
            "Epoch 4/20\n",
            "3962284/3962284 [==============================] - 121s 30us/sample - loss: 0.4949 - acc: 0.7746 - val_loss: 0.4577 - val_acc: 0.8366\n",
            "Epoch 5/20\n",
            "3962284/3962284 [==============================] - 120s 30us/sample - loss: 0.4926 - acc: 0.7756 - val_loss: 0.4531 - val_acc: 0.8409\n",
            "Epoch 6/20\n",
            "3962284/3962284 [==============================] - 118s 30us/sample - loss: 0.4908 - acc: 0.7763 - val_loss: 0.4479 - val_acc: 0.8387\n",
            "Epoch 7/20\n",
            "3962284/3962284 [==============================] - 120s 30us/sample - loss: 0.4893 - acc: 0.7770 - val_loss: 0.4629 - val_acc: 0.8369\n",
            "Epoch 8/20\n",
            "3962284/3962284 [==============================] - 118s 30us/sample - loss: 0.4881 - acc: 0.7775 - val_loss: 0.4492 - val_acc: 0.8397\n",
            "Epoch 9/20\n",
            "3962284/3962284 [==============================] - 118s 30us/sample - loss: 0.4869 - acc: 0.7780 - val_loss: 0.4566 - val_acc: 0.8337\n",
            "Epoch 10/20\n",
            "3962284/3962284 [==============================] - 119s 30us/sample - loss: 0.4860 - acc: 0.7783 - val_loss: 0.4593 - val_acc: 0.8338\n",
            "Epoch 11/20\n",
            "3962284/3962284 [==============================] - 117s 30us/sample - loss: 0.4852 - acc: 0.7787 - val_loss: 0.4593 - val_acc: 0.8334\n",
            "Epoch 12/20\n",
            "3962284/3962284 [==============================] - 120s 30us/sample - loss: 0.4845 - acc: 0.7790 - val_loss: 0.4554 - val_acc: 0.8351\n",
            "Epoch 13/20\n",
            "3962284/3962284 [==============================] - 118s 30us/sample - loss: 0.4839 - acc: 0.7793 - val_loss: 0.4599 - val_acc: 0.8326\n",
            "Epoch 14/20\n",
            "3962284/3962284 [==============================] - 119s 30us/sample - loss: 0.4833 - acc: 0.7795 - val_loss: 0.4513 - val_acc: 0.8372\n",
            "Epoch 15/20\n",
            "3962284/3962284 [==============================] - 119s 30us/sample - loss: 0.4827 - acc: 0.7797 - val_loss: 0.4556 - val_acc: 0.8374\n",
            "Epoch 16/20\n",
            "3962284/3962284 [==============================] - 117s 29us/sample - loss: 0.4822 - acc: 0.7799 - val_loss: 0.4577 - val_acc: 0.8351\n",
            "Epoch 17/20\n",
            "3962284/3962284 [==============================] - 116s 29us/sample - loss: 0.4818 - acc: 0.7801 - val_loss: 0.4582 - val_acc: 0.8324\n",
            "Epoch 18/20\n",
            "3962284/3962284 [==============================] - 118s 30us/sample - loss: 0.4814 - acc: 0.7803 - val_loss: 0.4523 - val_acc: 0.8360\n",
            "Epoch 19/20\n",
            "3962284/3962284 [==============================] - 116s 29us/sample - loss: 0.4810 - acc: 0.7803 - val_loss: 0.4650 - val_acc: 0.8316\n",
            "Epoch 20/20\n",
            "3962284/3962284 [==============================] - 118s 30us/sample - loss: 0.4806 - acc: 0.7806 - val_loss: 0.4562 - val_acc: 0.8338\n",
            "Trained in 39 minutes, 27 seconds\n"
          ],
          "name": "stdout"
        }
      ]
    },
    {
      "cell_type": "code",
      "metadata": {
        "id": "h4P5Y5wgSs1o",
        "colab_type": "code",
        "outputId": "21adff58-986f-4b8b-bf03-5565c7e29020",
        "colab": {
          "base_uri": "https://localhost:8080/",
          "height": 52
        }
      },
      "source": [
        "loss, accuracy = model.evaluate(X_train, y_train, verbose=False)\n",
        "print(\"Training Accuracy: {:.4f}\".format(accuracy))\n",
        "loss, accuracy = model.evaluate(X_test, y_dev, verbose=False)\n",
        "print(\"Testing Accuracy:  {:.4f}\".format(accuracy))\n"
      ],
      "execution_count": 41,
      "outputs": [
        {
          "output_type": "stream",
          "text": [
            "Training Accuracy: 0.7818\n",
            "Testing Accuracy:  0.8338\n"
          ],
          "name": "stdout"
        }
      ]
    },
    {
      "cell_type": "code",
      "metadata": {
        "id": "zZanpp-O9oiz",
        "colab_type": "code",
        "outputId": "dd64826c-b257-4bb9-de0b-f86ba117a3a9",
        "colab": {
          "base_uri": "https://localhost:8080/",
          "height": 34
        }
      },
      "source": [
        "# ROC AUC\n",
        "from sklearn.metrics import roc_auc_score\n",
        "# predict probabilities for test set\n",
        "yhat_probs = model.predict(X_test, verbose=0)\n",
        "# reduce to 1d array\n",
        "yhat_probs = yhat_probs[:,0]\n",
        "auc = roc_auc_score(y_dev, yhat_probs)\n",
        "print('ROC AUC:', auc)\n"
      ],
      "execution_count": 42,
      "outputs": [
        {
          "output_type": "stream",
          "text": [
            "ROC AUC: 0.5840498937103937\n"
          ],
          "name": "stdout"
        }
      ]
    },
    {
      "cell_type": "code",
      "metadata": {
        "id": "L5G9XjaGJh-T",
        "colab_type": "code",
        "colab": {}
      },
      "source": [
        "# can't get this to work\n",
        "# plot_model(history)"
      ],
      "execution_count": 0,
      "outputs": []
    },
    {
      "cell_type": "code",
      "metadata": {
        "id": "ccL7n659KbQ-",
        "colab_type": "code",
        "colab": {}
      },
      "source": [
        "preds = yhat_probs # model.predict(X_test)"
      ],
      "execution_count": 0,
      "outputs": []
    },
    {
      "cell_type": "code",
      "metadata": {
        "id": "lhpB8QsgGMZ5",
        "colab_type": "code",
        "colab": {}
      },
      "source": [
        "dev_df['probs'] = preds"
      ],
      "execution_count": 0,
      "outputs": []
    },
    {
      "cell_type": "code",
      "metadata": {
        "id": "1T2IxdCMGf2e",
        "colab_type": "code",
        "colab": {}
      },
      "source": [
        "def pred_to_label(row):\n",
        "  if row['probs'] >= .5:\n",
        "    return 'M'\n",
        "  else:\n",
        "    return 'W'\n",
        "\n",
        "dev_df['preds'] = dev_df.apply(pred_to_label, axis=1)"
      ],
      "execution_count": 0,
      "outputs": []
    },
    {
      "cell_type": "code",
      "metadata": {
        "id": "NzbasnNWGg5J",
        "colab_type": "code",
        "colab": {}
      },
      "source": [
        "wrong_preds = dev_df[dev_df.op_gender!=dev_df.preds]"
      ],
      "execution_count": 0,
      "outputs": []
    },
    {
      "cell_type": "code",
      "metadata": {
        "id": "nAYve8ZhG7wt",
        "colab_type": "code",
        "outputId": "2a886434-65ce-48d8-b513-6d0ce450ae36",
        "colab": {
          "base_uri": "https://localhost:8080/",
          "height": 70
        }
      },
      "source": [
        "wrong_preds.op_gender.value_counts()"
      ],
      "execution_count": 48,
      "outputs": [
        {
          "output_type": "execute_result",
          "data": {
            "text/plain": [
              "W    291763\n",
              "M     47638\n",
              "Name: op_gender, dtype: int64"
            ]
          },
          "metadata": {
            "tags": []
          },
          "execution_count": 48
        }
      ]
    },
    {
      "cell_type": "code",
      "metadata": {
        "id": "NJJrm2LxHFzN",
        "colab_type": "code",
        "outputId": "054f7c24-63e9-4a54-f84f-a85bb2f45ba9",
        "colab": {
          "base_uri": "https://localhost:8080/",
          "height": 34
        }
      },
      "source": [
        "# total proportion of preds for women\n",
        "dev_df.preds.value_counts()['W'] / len(dev_df)"
      ],
      "execution_count": 49,
      "outputs": [
        {
          "output_type": "execute_result",
          "data": {
            "text/plain": [
              "0.032582660159798625"
            ]
          },
          "metadata": {
            "tags": []
          },
          "execution_count": 49
        }
      ]
    },
    {
      "cell_type": "code",
      "metadata": {
        "id": "SxFooJUbHVUB",
        "colab_type": "code",
        "outputId": "4acb904d-4237-4b86-e17a-317ab12fbbb7",
        "colab": {
          "base_uri": "https://localhost:8080/",
          "height": 874
        }
      },
      "source": [
        "#random sample of mistakes\n",
        "wrong_preds.head(20)"
      ],
      "execution_count": 50,
      "outputs": [
        {
          "output_type": "execute_result",
          "data": {
            "text/html": [
              "<div>\n",
              "<style scoped>\n",
              "    .dataframe tbody tr th:only-of-type {\n",
              "        vertical-align: middle;\n",
              "    }\n",
              "\n",
              "    .dataframe tbody tr th {\n",
              "        vertical-align: top;\n",
              "    }\n",
              "\n",
              "    .dataframe thead th {\n",
              "        text-align: right;\n",
              "    }\n",
              "</style>\n",
              "<table border=\"1\" class=\"dataframe\">\n",
              "  <thead>\n",
              "    <tr style=\"text-align: right;\">\n",
              "      <th></th>\n",
              "      <th>original_idx</th>\n",
              "      <th>op_id</th>\n",
              "      <th>op_gender</th>\n",
              "      <th>post_id</th>\n",
              "      <th>responder_id</th>\n",
              "      <th>response_text</th>\n",
              "      <th>op_name</th>\n",
              "      <th>op_category</th>\n",
              "      <th>probs</th>\n",
              "      <th>preds</th>\n",
              "    </tr>\n",
              "  </thead>\n",
              "  <tbody>\n",
              "    <tr>\n",
              "      <th>2060436</th>\n",
              "      <td>11200190</td>\n",
              "      <td>48870736</td>\n",
              "      <td>W</td>\n",
              "      <td>394386</td>\n",
              "      <td>Grant</td>\n",
              "      <td>aca raised my health care from $600 to $1,600 per month. it is anything but affordable. politnam...</td>\n",
              "      <td>Betty McCollum</td>\n",
              "      <td>Congress_Democratic</td>\n",
              "      <td>0.714361</td>\n",
              "      <td>M</td>\n",
              "    </tr>\n",
              "    <tr>\n",
              "      <th>1983886</th>\n",
              "      <td>11033278</td>\n",
              "      <td>86569077</td>\n",
              "      <td>W</td>\n",
              "      <td>389881</td>\n",
              "      <td>Deanna</td>\n",
              "      <td>i like the idea of paid fml but i would much rather see employers raise employees income overall...</td>\n",
              "      <td>Kirsten Gillibrand</td>\n",
              "      <td>Congress_Democratic</td>\n",
              "      <td>0.772631</td>\n",
              "      <td>M</td>\n",
              "    </tr>\n",
              "    <tr>\n",
              "      <th>2022583</th>\n",
              "      <td>11071975</td>\n",
              "      <td>86569077</td>\n",
              "      <td>W</td>\n",
              "      <td>390238</td>\n",
              "      <td>Matt</td>\n",
              "      <td>thank you politname running after the latest headlines !</td>\n",
              "      <td>Kirsten Gillibrand</td>\n",
              "      <td>Congress_Democratic</td>\n",
              "      <td>0.796354</td>\n",
              "      <td>M</td>\n",
              "    </tr>\n",
              "    <tr>\n",
              "      <th>1924717</th>\n",
              "      <td>10974109</td>\n",
              "      <td>86569077</td>\n",
              "      <td>W</td>\n",
              "      <td>389341</td>\n",
              "      <td>Raelee</td>\n",
              "      <td>thank you so much for committing to voting against betsy devos.</td>\n",
              "      <td>Kirsten Gillibrand</td>\n",
              "      <td>Congress_Democratic</td>\n",
              "      <td>0.543462</td>\n",
              "      <td>M</td>\n",
              "    </tr>\n",
              "    <tr>\n",
              "      <th>2037193</th>\n",
              "      <td>11086585</td>\n",
              "      <td>86569077</td>\n",
              "      <td>W</td>\n",
              "      <td>390472</td>\n",
              "      <td>Dwight</td>\n",
              "      <td>mmmm lets see here donna karan, fashion designer and the creator of the donna karan new york and...</td>\n",
              "      <td>Kirsten Gillibrand</td>\n",
              "      <td>Congress_Democratic</td>\n",
              "      <td>0.795471</td>\n",
              "      <td>M</td>\n",
              "    </tr>\n",
              "    <tr>\n",
              "      <th>2037981</th>\n",
              "      <td>11087373</td>\n",
              "      <td>86569077</td>\n",
              "      <td>W</td>\n",
              "      <td>390484</td>\n",
              "      <td>Ron</td>\n",
              "      <td>i have no problem with ending the subsidies, but i also do not mind paying more for all goods. g...</td>\n",
              "      <td>Kirsten Gillibrand</td>\n",
              "      <td>Congress_Democratic</td>\n",
              "      <td>0.801563</td>\n",
              "      <td>M</td>\n",
              "    </tr>\n",
              "    <tr>\n",
              "      <th>2113460</th>\n",
              "      <td>11254440</td>\n",
              "      <td>77234050</td>\n",
              "      <td>W</td>\n",
              "      <td>399626</td>\n",
              "      <td>Debra</td>\n",
              "      <td>cecile charles i posted the table for you - it is for wa state</td>\n",
              "      <td>Cathy McMorris Rodgers</td>\n",
              "      <td>Congress_Republican</td>\n",
              "      <td>0.639580</td>\n",
              "      <td>M</td>\n",
              "    </tr>\n",
              "    <tr>\n",
              "      <th>2153417</th>\n",
              "      <td>11294397</td>\n",
              "      <td>77234050</td>\n",
              "      <td>W</td>\n",
              "      <td>400418</td>\n",
              "      <td>Hugh</td>\n",
              "      <td>former marine thanks you.</td>\n",
              "      <td>Cathy McMorris Rodgers</td>\n",
              "      <td>Congress_Republican</td>\n",
              "      <td>0.912951</td>\n",
              "      <td>M</td>\n",
              "    </tr>\n",
              "    <tr>\n",
              "      <th>2124542</th>\n",
              "      <td>11265522</td>\n",
              "      <td>77234050</td>\n",
              "      <td>W</td>\n",
              "      <td>399735</td>\n",
              "      <td>Robi</td>\n",
              "      <td>keep fighting the good fight</td>\n",
              "      <td>Cathy McMorris Rodgers</td>\n",
              "      <td>Congress_Republican</td>\n",
              "      <td>0.731461</td>\n",
              "      <td>M</td>\n",
              "    </tr>\n",
              "    <tr>\n",
              "      <th>432281</th>\n",
              "      <td>3365516</td>\n",
              "      <td>76269753</td>\n",
              "      <td>W</td>\n",
              "      <td>103764</td>\n",
              "      <td>Eddie</td>\n",
              "      <td>automatic weapons are already controlled under the nfa.</td>\n",
              "      <td>Dianne Feinstein</td>\n",
              "      <td>Congress_Democratic</td>\n",
              "      <td>0.955508</td>\n",
              "      <td>M</td>\n",
              "    </tr>\n",
              "    <tr>\n",
              "      <th>2017558</th>\n",
              "      <td>11066950</td>\n",
              "      <td>86569077</td>\n",
              "      <td>W</td>\n",
              "      <td>390153</td>\n",
              "      <td>Dwight</td>\n",
              "      <td>lockheed martin is laying off 123,000 workers just weeks before christmas. &gt; this needs to go fa...</td>\n",
              "      <td>Kirsten Gillibrand</td>\n",
              "      <td>Congress_Democratic</td>\n",
              "      <td>0.850419</td>\n",
              "      <td>M</td>\n",
              "    </tr>\n",
              "    <tr>\n",
              "      <th>1259523</th>\n",
              "      <td>7583337</td>\n",
              "      <td>54387439</td>\n",
              "      <td>M</td>\n",
              "      <td>291233</td>\n",
              "      <td>Craig</td>\n",
              "      <td>we need you in massachusetts politname</td>\n",
              "      <td>Ryan Zinke</td>\n",
              "      <td>Congress_Republican</td>\n",
              "      <td>0.250653</td>\n",
              "      <td>W</td>\n",
              "    </tr>\n",
              "    <tr>\n",
              "      <th>1912508</th>\n",
              "      <td>10961900</td>\n",
              "      <td>86569077</td>\n",
              "      <td>W</td>\n",
              "      <td>389338</td>\n",
              "      <td>Elizabeth</td>\n",
              "      <td>thank you, sen. politname</td>\n",
              "      <td>Kirsten Gillibrand</td>\n",
              "      <td>Congress_Democratic</td>\n",
              "      <td>0.885749</td>\n",
              "      <td>M</td>\n",
              "    </tr>\n",
              "    <tr>\n",
              "      <th>1987322</th>\n",
              "      <td>11036714</td>\n",
              "      <td>86569077</td>\n",
              "      <td>W</td>\n",
              "      <td>389924</td>\n",
              "      <td>Greg</td>\n",
              "      <td>the tea party stands for fiscal responsibility, constitutionally limited government, and free ma...</td>\n",
              "      <td>Kirsten Gillibrand</td>\n",
              "      <td>Congress_Democratic</td>\n",
              "      <td>0.903998</td>\n",
              "      <td>M</td>\n",
              "    </tr>\n",
              "    <tr>\n",
              "      <th>2191885</th>\n",
              "      <td>11752862</td>\n",
              "      <td>74450840</td>\n",
              "      <td>W</td>\n",
              "      <td>422872</td>\n",
              "      <td>Sabrina</td>\n",
              "      <td>we all have freedom of speech or expression thanks to those who serve our great country</td>\n",
              "      <td>Terri Sewell</td>\n",
              "      <td>Congress_Democratic</td>\n",
              "      <td>0.834019</td>\n",
              "      <td>M</td>\n",
              "    </tr>\n",
              "    <tr>\n",
              "      <th>2103328</th>\n",
              "      <td>11244308</td>\n",
              "      <td>77234050</td>\n",
              "      <td>W</td>\n",
              "      <td>399374</td>\n",
              "      <td>Debra</td>\n",
              "      <td>how much of this oil is going to fill our american tanks??? how much is our prices going to be a...</td>\n",
              "      <td>Cathy McMorris Rodgers</td>\n",
              "      <td>Congress_Republican</td>\n",
              "      <td>0.707448</td>\n",
              "      <td>M</td>\n",
              "    </tr>\n",
              "    <tr>\n",
              "      <th>2013103</th>\n",
              "      <td>11062495</td>\n",
              "      <td>86569077</td>\n",
              "      <td>W</td>\n",
              "      <td>390125</td>\n",
              "      <td>Shelli</td>\n",
              "      <td>bill, let us try some decent gun control and just see what happens, shall we? why would any resp...</td>\n",
              "      <td>Kirsten Gillibrand</td>\n",
              "      <td>Congress_Democratic</td>\n",
              "      <td>0.686112</td>\n",
              "      <td>M</td>\n",
              "    </tr>\n",
              "    <tr>\n",
              "      <th>2116232</th>\n",
              "      <td>11257212</td>\n",
              "      <td>77234050</td>\n",
              "      <td>W</td>\n",
              "      <td>399670</td>\n",
              "      <td>Craig</td>\n",
              "      <td>donna baden you are talk is cheap and btw, this is not a theocracy.</td>\n",
              "      <td>Cathy McMorris Rodgers</td>\n",
              "      <td>Congress_Republican</td>\n",
              "      <td>0.585660</td>\n",
              "      <td>M</td>\n",
              "    </tr>\n",
              "    <tr>\n",
              "      <th>1996034</th>\n",
              "      <td>11045426</td>\n",
              "      <td>86569077</td>\n",
              "      <td>W</td>\n",
              "      <td>390010</td>\n",
              "      <td>Joe</td>\n",
              "      <td>lets see that research politname</td>\n",
              "      <td>Kirsten Gillibrand</td>\n",
              "      <td>Congress_Democratic</td>\n",
              "      <td>0.737095</td>\n",
              "      <td>M</td>\n",
              "    </tr>\n",
              "    <tr>\n",
              "      <th>580363</th>\n",
              "      <td>4829417</td>\n",
              "      <td>46506154</td>\n",
              "      <td>M</td>\n",
              "      <td>160185</td>\n",
              "      <td>Tim</td>\n",
              "      <td>thank you politname politname for the first time in months i have something to feel good about i...</td>\n",
              "      <td>Marco Rubio</td>\n",
              "      <td>Congress_Republican</td>\n",
              "      <td>0.442157</td>\n",
              "      <td>W</td>\n",
              "    </tr>\n",
              "  </tbody>\n",
              "</table>\n",
              "</div>"
            ],
            "text/plain": [
              "         original_idx     op_id op_gender  ...          op_category     probs preds\n",
              "2060436      11200190  48870736         W  ...  Congress_Democratic  0.714361     M\n",
              "1983886      11033278  86569077         W  ...  Congress_Democratic  0.772631     M\n",
              "2022583      11071975  86569077         W  ...  Congress_Democratic  0.796354     M\n",
              "1924717      10974109  86569077         W  ...  Congress_Democratic  0.543462     M\n",
              "2037193      11086585  86569077         W  ...  Congress_Democratic  0.795471     M\n",
              "2037981      11087373  86569077         W  ...  Congress_Democratic  0.801563     M\n",
              "2113460      11254440  77234050         W  ...  Congress_Republican  0.639580     M\n",
              "2153417      11294397  77234050         W  ...  Congress_Republican  0.912951     M\n",
              "2124542      11265522  77234050         W  ...  Congress_Republican  0.731461     M\n",
              "432281        3365516  76269753         W  ...  Congress_Democratic  0.955508     M\n",
              "2017558      11066950  86569077         W  ...  Congress_Democratic  0.850419     M\n",
              "1259523       7583337  54387439         M  ...  Congress_Republican  0.250653     W\n",
              "1912508      10961900  86569077         W  ...  Congress_Democratic  0.885749     M\n",
              "1987322      11036714  86569077         W  ...  Congress_Democratic  0.903998     M\n",
              "2191885      11752862  74450840         W  ...  Congress_Democratic  0.834019     M\n",
              "2103328      11244308  77234050         W  ...  Congress_Republican  0.707448     M\n",
              "2013103      11062495  86569077         W  ...  Congress_Democratic  0.686112     M\n",
              "2116232      11257212  77234050         W  ...  Congress_Republican  0.585660     M\n",
              "1996034      11045426  86569077         W  ...  Congress_Democratic  0.737095     M\n",
              "580363        4829417  46506154         M  ...  Congress_Republican  0.442157     W\n",
              "\n",
              "[20 rows x 10 columns]"
            ]
          },
          "metadata": {
            "tags": []
          },
          "execution_count": 50
        }
      ]
    },
    {
      "cell_type": "code",
      "metadata": {
        "id": "qaswseIjHc8j",
        "colab_type": "code",
        "outputId": "4954b4d4-48e9-49aa-861d-8d03b0e32a3b",
        "colab": {
          "base_uri": "https://localhost:8080/",
          "height": 858
        }
      },
      "source": [
        "# most confident wrong predictions where the answer was F but they thought M\n",
        "# same as before - references to a male politician \n",
        "wrong_preds.sort_values('probs', ascending=False)[:20]"
      ],
      "execution_count": 51,
      "outputs": [
        {
          "output_type": "execute_result",
          "data": {
            "text/html": [
              "<div>\n",
              "<style scoped>\n",
              "    .dataframe tbody tr th:only-of-type {\n",
              "        vertical-align: middle;\n",
              "    }\n",
              "\n",
              "    .dataframe tbody tr th {\n",
              "        vertical-align: top;\n",
              "    }\n",
              "\n",
              "    .dataframe thead th {\n",
              "        text-align: right;\n",
              "    }\n",
              "</style>\n",
              "<table border=\"1\" class=\"dataframe\">\n",
              "  <thead>\n",
              "    <tr style=\"text-align: right;\">\n",
              "      <th></th>\n",
              "      <th>original_idx</th>\n",
              "      <th>op_id</th>\n",
              "      <th>op_gender</th>\n",
              "      <th>post_id</th>\n",
              "      <th>responder_id</th>\n",
              "      <th>response_text</th>\n",
              "      <th>op_name</th>\n",
              "      <th>op_category</th>\n",
              "      <th>probs</th>\n",
              "      <th>preds</th>\n",
              "    </tr>\n",
              "  </thead>\n",
              "  <tbody>\n",
              "    <tr>\n",
              "      <th>1955749</th>\n",
              "      <td>11005141</td>\n",
              "      <td>86569077</td>\n",
              "      <td>W</td>\n",
              "      <td>389594</td>\n",
              "      <td>Matt</td>\n",
              "      <td>please reach across the aisle and support senator politname pauls transpancy act. http://truthin...</td>\n",
              "      <td>Kirsten Gillibrand</td>\n",
              "      <td>Congress_Democratic</td>\n",
              "      <td>0.999981</td>\n",
              "      <td>M</td>\n",
              "    </tr>\n",
              "    <tr>\n",
              "      <th>1929262</th>\n",
              "      <td>10978654</td>\n",
              "      <td>86569077</td>\n",
              "      <td>W</td>\n",
              "      <td>389349</td>\n",
              "      <td>Greg</td>\n",
              "      <td>thank you, politname politname as your constituent (new york, ny 10036), i am proud of you fight...</td>\n",
              "      <td>Kirsten Gillibrand</td>\n",
              "      <td>Congress_Democratic</td>\n",
              "      <td>0.999974</td>\n",
              "      <td>M</td>\n",
              "    </tr>\n",
              "    <tr>\n",
              "      <th>2050249</th>\n",
              "      <td>11099641</td>\n",
              "      <td>86569077</td>\n",
              "      <td>W</td>\n",
              "      <td>390682</td>\n",
              "      <td>Tina</td>\n",
              "      <td>thank god for senator chuck politname</td>\n",
              "      <td>Kirsten Gillibrand</td>\n",
              "      <td>Congress_Democratic</td>\n",
              "      <td>0.999964</td>\n",
              "      <td>M</td>\n",
              "    </tr>\n",
              "    <tr>\n",
              "      <th>1917520</th>\n",
              "      <td>10966912</td>\n",
              "      <td>86569077</td>\n",
              "      <td>W</td>\n",
              "      <td>389341</td>\n",
              "      <td>Urayoan</td>\n",
              "      <td>amazing politname politname - fighting for everything 100% help senator chuck politname do the s...</td>\n",
              "      <td>Kirsten Gillibrand</td>\n",
              "      <td>Congress_Democratic</td>\n",
              "      <td>0.999956</td>\n",
              "      <td>M</td>\n",
              "    </tr>\n",
              "    <tr>\n",
              "      <th>1990953</th>\n",
              "      <td>11040345</td>\n",
              "      <td>86569077</td>\n",
              "      <td>W</td>\n",
              "      <td>389948</td>\n",
              "      <td>Benjamin</td>\n",
              "      <td>if only we could recall politname and pronoun lover politname http://nystateofpolitics.com/2013/...</td>\n",
              "      <td>Kirsten Gillibrand</td>\n",
              "      <td>Congress_Democratic</td>\n",
              "      <td>0.999829</td>\n",
              "      <td>M</td>\n",
              "    </tr>\n",
              "    <tr>\n",
              "      <th>374906</th>\n",
              "      <td>3124997</td>\n",
              "      <td>23984618</td>\n",
              "      <td>W</td>\n",
              "      <td>82855</td>\n",
              "      <td>Laura</td>\n",
              "      <td>when is your next town hall? looking forward to it. http://nymag.com/daily/intelligencer/2017/02...</td>\n",
              "      <td>Ann Wagner</td>\n",
              "      <td>Congress_Republican</td>\n",
              "      <td>0.999824</td>\n",
              "      <td>M</td>\n",
              "    </tr>\n",
              "    <tr>\n",
              "      <th>2026687</th>\n",
              "      <td>11076079</td>\n",
              "      <td>86569077</td>\n",
              "      <td>W</td>\n",
              "      <td>390300</td>\n",
              "      <td>Vadim</td>\n",
              "      <td>if your boss chuck scumer did not try to mess with the vawa by adding outrageous changes to it, ...</td>\n",
              "      <td>Kirsten Gillibrand</td>\n",
              "      <td>Congress_Democratic</td>\n",
              "      <td>0.999811</td>\n",
              "      <td>M</td>\n",
              "    </tr>\n",
              "    <tr>\n",
              "      <th>1932878</th>\n",
              "      <td>10982270</td>\n",
              "      <td>86569077</td>\n",
              "      <td>W</td>\n",
              "      <td>389365</td>\n",
              "      <td>Joanne</td>\n",
              "      <td>we are counting on you, chuck and politname to keep pronoun honest.</td>\n",
              "      <td>Kirsten Gillibrand</td>\n",
              "      <td>Congress_Democratic</td>\n",
              "      <td>0.999801</td>\n",
              "      <td>M</td>\n",
              "    </tr>\n",
              "    <tr>\n",
              "      <th>382912</th>\n",
              "      <td>3133003</td>\n",
              "      <td>23984618</td>\n",
              "      <td>W</td>\n",
              "      <td>83346</td>\n",
              "      <td>Lookfor</td>\n",
              "      <td>happy holidays to president barack obama, pronoun beautiful family and pronoun administration ;)...</td>\n",
              "      <td>Ann Wagner</td>\n",
              "      <td>Congress_Republican</td>\n",
              "      <td>0.999796</td>\n",
              "      <td>M</td>\n",
              "    </tr>\n",
              "    <tr>\n",
              "      <th>2125442</th>\n",
              "      <td>11266422</td>\n",
              "      <td>77234050</td>\n",
              "      <td>W</td>\n",
              "      <td>399737</td>\n",
              "      <td>Marilyn</td>\n",
              "      <td>the rand/mitch exchange is nothing different than the strategic planning the dems do.</td>\n",
              "      <td>Cathy McMorris Rodgers</td>\n",
              "      <td>Congress_Republican</td>\n",
              "      <td>0.999779</td>\n",
              "      <td>M</td>\n",
              "    </tr>\n",
              "    <tr>\n",
              "      <th>1987970</th>\n",
              "      <td>11037362</td>\n",
              "      <td>86569077</td>\n",
              "      <td>W</td>\n",
              "      <td>389928</td>\n",
              "      <td>John</td>\n",
              "      <td>boehner is a wus. pronoun always bows to right-wing pressure.</td>\n",
              "      <td>Kirsten Gillibrand</td>\n",
              "      <td>Congress_Democratic</td>\n",
              "      <td>0.999735</td>\n",
              "      <td>M</td>\n",
              "    </tr>\n",
              "    <tr>\n",
              "      <th>2043255</th>\n",
              "      <td>11092647</td>\n",
              "      <td>86569077</td>\n",
              "      <td>W</td>\n",
              "      <td>390557</td>\n",
              "      <td>Ernest</td>\n",
              "      <td>@craig ramage - just because some republican judge calls it inconstitutional it doesnt mean it i...</td>\n",
              "      <td>Kirsten Gillibrand</td>\n",
              "      <td>Congress_Democratic</td>\n",
              "      <td>0.999727</td>\n",
              "      <td>M</td>\n",
              "    </tr>\n",
              "    <tr>\n",
              "      <th>1990725</th>\n",
              "      <td>11040117</td>\n",
              "      <td>86569077</td>\n",
              "      <td>W</td>\n",
              "      <td>389946</td>\n",
              "      <td>Benjamin</td>\n",
              "      <td>if only we could recall politname and politname http://nystateofpolitics.com/2013/08/gillibrand-...</td>\n",
              "      <td>Kirsten Gillibrand</td>\n",
              "      <td>Congress_Democratic</td>\n",
              "      <td>0.999705</td>\n",
              "      <td>M</td>\n",
              "    </tr>\n",
              "    <tr>\n",
              "      <th>2061890</th>\n",
              "      <td>11201644</td>\n",
              "      <td>48870736</td>\n",
              "      <td>W</td>\n",
              "      <td>394487</td>\n",
              "      <td>Mary</td>\n",
              "      <td>stay on this, rep mccollum!❤️</td>\n",
              "      <td>Betty McCollum</td>\n",
              "      <td>Congress_Democratic</td>\n",
              "      <td>0.999662</td>\n",
              "      <td>M</td>\n",
              "    </tr>\n",
              "    <tr>\n",
              "      <th>2263146</th>\n",
              "      <td>13334483</td>\n",
              "      <td>62264117</td>\n",
              "      <td>W</td>\n",
              "      <td>512059</td>\n",
              "      <td>Nitza</td>\n",
              "      <td>thank you, hon. rep. politname dios te cuide, una servidora &lt;3</td>\n",
              "      <td>Grace Napolitano</td>\n",
              "      <td>Congress_Democratic</td>\n",
              "      <td>0.999659</td>\n",
              "      <td>M</td>\n",
              "    </tr>\n",
              "    <tr>\n",
              "      <th>2115782</th>\n",
              "      <td>11256762</td>\n",
              "      <td>77234050</td>\n",
              "      <td>W</td>\n",
              "      <td>399667</td>\n",
              "      <td>Gallego</td>\n",
              "      <td>quien te entienda que te compre hsblanos espanol....</td>\n",
              "      <td>Cathy McMorris Rodgers</td>\n",
              "      <td>Congress_Republican</td>\n",
              "      <td>0.999659</td>\n",
              "      <td>M</td>\n",
              "    </tr>\n",
              "    <tr>\n",
              "      <th>2030227</th>\n",
              "      <td>11079619</td>\n",
              "      <td>86569077</td>\n",
              "      <td>W</td>\n",
              "      <td>390346</td>\n",
              "      <td>John</td>\n",
              "      <td>politname north do you mean senator chuck you politname ?</td>\n",
              "      <td>Kirsten Gillibrand</td>\n",
              "      <td>Congress_Democratic</td>\n",
              "      <td>0.999645</td>\n",
              "      <td>M</td>\n",
              "    </tr>\n",
              "    <tr>\n",
              "      <th>2055258</th>\n",
              "      <td>11104650</td>\n",
              "      <td>86569077</td>\n",
              "      <td>W</td>\n",
              "      <td>390826</td>\n",
              "      <td>Jezzyka</td>\n",
              "      <td>keep up the amazing work, pronoun gillibrand...we are all so proud of you!! :-)</td>\n",
              "      <td>Kirsten Gillibrand</td>\n",
              "      <td>Congress_Democratic</td>\n",
              "      <td>0.999541</td>\n",
              "      <td>M</td>\n",
              "    </tr>\n",
              "    <tr>\n",
              "      <th>2159376</th>\n",
              "      <td>11300356</td>\n",
              "      <td>77234050</td>\n",
              "      <td>W</td>\n",
              "      <td>400701</td>\n",
              "      <td>Steve</td>\n",
              "      <td>excuse me, the medicare \"reforms\" were passed in 2003, when the gop controlled both houses of co...</td>\n",
              "      <td>Cathy McMorris Rodgers</td>\n",
              "      <td>Congress_Republican</td>\n",
              "      <td>0.999533</td>\n",
              "      <td>M</td>\n",
              "    </tr>\n",
              "    <tr>\n",
              "      <th>2032562</th>\n",
              "      <td>11081954</td>\n",
              "      <td>86569077</td>\n",
              "      <td>W</td>\n",
              "      <td>390399</td>\n",
              "      <td>Daniel</td>\n",
              "      <td>go weprin! politname is bad news for ny.</td>\n",
              "      <td>Kirsten Gillibrand</td>\n",
              "      <td>Congress_Democratic</td>\n",
              "      <td>0.999447</td>\n",
              "      <td>M</td>\n",
              "    </tr>\n",
              "  </tbody>\n",
              "</table>\n",
              "</div>"
            ],
            "text/plain": [
              "         original_idx     op_id op_gender  ...          op_category     probs preds\n",
              "1955749      11005141  86569077         W  ...  Congress_Democratic  0.999981     M\n",
              "1929262      10978654  86569077         W  ...  Congress_Democratic  0.999974     M\n",
              "2050249      11099641  86569077         W  ...  Congress_Democratic  0.999964     M\n",
              "1917520      10966912  86569077         W  ...  Congress_Democratic  0.999956     M\n",
              "1990953      11040345  86569077         W  ...  Congress_Democratic  0.999829     M\n",
              "374906        3124997  23984618         W  ...  Congress_Republican  0.999824     M\n",
              "2026687      11076079  86569077         W  ...  Congress_Democratic  0.999811     M\n",
              "1932878      10982270  86569077         W  ...  Congress_Democratic  0.999801     M\n",
              "382912        3133003  23984618         W  ...  Congress_Republican  0.999796     M\n",
              "2125442      11266422  77234050         W  ...  Congress_Republican  0.999779     M\n",
              "1987970      11037362  86569077         W  ...  Congress_Democratic  0.999735     M\n",
              "2043255      11092647  86569077         W  ...  Congress_Democratic  0.999727     M\n",
              "1990725      11040117  86569077         W  ...  Congress_Democratic  0.999705     M\n",
              "2061890      11201644  48870736         W  ...  Congress_Democratic  0.999662     M\n",
              "2263146      13334483  62264117         W  ...  Congress_Democratic  0.999659     M\n",
              "2115782      11256762  77234050         W  ...  Congress_Republican  0.999659     M\n",
              "2030227      11079619  86569077         W  ...  Congress_Democratic  0.999645     M\n",
              "2055258      11104650  86569077         W  ...  Congress_Democratic  0.999541     M\n",
              "2159376      11300356  77234050         W  ...  Congress_Republican  0.999533     M\n",
              "2032562      11081954  86569077         W  ...  Congress_Democratic  0.999447     M\n",
              "\n",
              "[20 rows x 10 columns]"
            ]
          },
          "metadata": {
            "tags": []
          },
          "execution_count": 51
        }
      ]
    },
    {
      "cell_type": "code",
      "metadata": {
        "id": "KoJzrEOfIct2",
        "colab_type": "code",
        "outputId": "eeb5aaaf-2bbc-4d3b-d7f0-c1e588e7591b",
        "colab": {
          "base_uri": "https://localhost:8080/",
          "height": 841
        }
      },
      "source": [
        "# most confident wrong predictions where the answer was F but they thought M\n",
        "# same as before - references to a male politician \n",
        "wrong_preds.sort_values('probs', ascending=True)[:20]"
      ],
      "execution_count": 52,
      "outputs": [
        {
          "output_type": "execute_result",
          "data": {
            "text/html": [
              "<div>\n",
              "<style scoped>\n",
              "    .dataframe tbody tr th:only-of-type {\n",
              "        vertical-align: middle;\n",
              "    }\n",
              "\n",
              "    .dataframe tbody tr th {\n",
              "        vertical-align: top;\n",
              "    }\n",
              "\n",
              "    .dataframe thead th {\n",
              "        text-align: right;\n",
              "    }\n",
              "</style>\n",
              "<table border=\"1\" class=\"dataframe\">\n",
              "  <thead>\n",
              "    <tr style=\"text-align: right;\">\n",
              "      <th></th>\n",
              "      <th>original_idx</th>\n",
              "      <th>op_id</th>\n",
              "      <th>op_gender</th>\n",
              "      <th>post_id</th>\n",
              "      <th>responder_id</th>\n",
              "      <th>response_text</th>\n",
              "      <th>op_name</th>\n",
              "      <th>op_category</th>\n",
              "      <th>probs</th>\n",
              "      <th>preds</th>\n",
              "    </tr>\n",
              "  </thead>\n",
              "  <tbody>\n",
              "    <tr>\n",
              "      <th>1132701</th>\n",
              "      <td>5381755</td>\n",
              "      <td>46506154</td>\n",
              "      <td>M</td>\n",
              "      <td>162152</td>\n",
              "      <td>Laura</td>\n",
              "      <td>congressional candidate politname guinta did this in nh!</td>\n",
              "      <td>Marco Rubio</td>\n",
              "      <td>Congress_Republican</td>\n",
              "      <td>0.000030</td>\n",
              "      <td>W</td>\n",
              "    </tr>\n",
              "    <tr>\n",
              "      <th>1051451</th>\n",
              "      <td>5300505</td>\n",
              "      <td>46506154</td>\n",
              "      <td>M</td>\n",
              "      <td>161410</td>\n",
              "      <td>Lana</td>\n",
              "      <td>rubio/mia love 2016</td>\n",
              "      <td>Marco Rubio</td>\n",
              "      <td>Congress_Republican</td>\n",
              "      <td>0.000173</td>\n",
              "      <td>W</td>\n",
              "    </tr>\n",
              "    <tr>\n",
              "      <th>1364586</th>\n",
              "      <td>7782880</td>\n",
              "      <td>99469231</td>\n",
              "      <td>M</td>\n",
              "      <td>296174</td>\n",
              "      <td>Toño</td>\n",
              "      <td>here's your latest briefing on the nagorno-karabakh conflict [germany's and turkey's tantrum aga...</td>\n",
              "      <td>John McCain</td>\n",
              "      <td>Congress_Republican</td>\n",
              "      <td>0.000222</td>\n",
              "      <td>W</td>\n",
              "    </tr>\n",
              "    <tr>\n",
              "      <th>1364650</th>\n",
              "      <td>7782944</td>\n",
              "      <td>99469231</td>\n",
              "      <td>M</td>\n",
              "      <td>296175</td>\n",
              "      <td>Toño</td>\n",
              "      <td>here's your latest briefing on the nagorno-karabakh conflict [germany's and turkey's tantrum aga...</td>\n",
              "      <td>John McCain</td>\n",
              "      <td>Congress_Republican</td>\n",
              "      <td>0.000222</td>\n",
              "      <td>W</td>\n",
              "    </tr>\n",
              "    <tr>\n",
              "      <th>1364816</th>\n",
              "      <td>7783110</td>\n",
              "      <td>99469231</td>\n",
              "      <td>M</td>\n",
              "      <td>296176</td>\n",
              "      <td>Toño</td>\n",
              "      <td>here's your latest briefing on the nagorno-karabakh conflict [germany's and turkey's tantrum aga...</td>\n",
              "      <td>John McCain</td>\n",
              "      <td>Congress_Republican</td>\n",
              "      <td>0.000222</td>\n",
              "      <td>W</td>\n",
              "    </tr>\n",
              "    <tr>\n",
              "      <th>697439</th>\n",
              "      <td>4946493</td>\n",
              "      <td>46506154</td>\n",
              "      <td>M</td>\n",
              "      <td>160266</td>\n",
              "      <td>Sharon</td>\n",
              "      <td>good luck politname nh is not the end of the road regardless. hope you kick butt though!</td>\n",
              "      <td>Marco Rubio</td>\n",
              "      <td>Congress_Republican</td>\n",
              "      <td>0.000247</td>\n",
              "      <td>W</td>\n",
              "    </tr>\n",
              "    <tr>\n",
              "      <th>991634</th>\n",
              "      <td>5240688</td>\n",
              "      <td>46506154</td>\n",
              "      <td>M</td>\n",
              "      <td>161317</td>\n",
              "      <td>Laura</td>\n",
              "      <td>keep the faith ms. ayotte, you are good for new hampshire and our country !! you have more suppo...</td>\n",
              "      <td>Marco Rubio</td>\n",
              "      <td>Congress_Republican</td>\n",
              "      <td>0.000318</td>\n",
              "      <td>W</td>\n",
              "    </tr>\n",
              "    <tr>\n",
              "      <th>1857391</th>\n",
              "      <td>10890319</td>\n",
              "      <td>10458808</td>\n",
              "      <td>M</td>\n",
              "      <td>385771</td>\n",
              "      <td>Ryann</td>\n",
              "      <td>go rep waters go!!</td>\n",
              "      <td>Mark Takano</td>\n",
              "      <td>Congress_Democratic</td>\n",
              "      <td>0.000523</td>\n",
              "      <td>W</td>\n",
              "    </tr>\n",
              "    <tr>\n",
              "      <th>487421</th>\n",
              "      <td>4069620</td>\n",
              "      <td>77914417</td>\n",
              "      <td>M</td>\n",
              "      <td>140967</td>\n",
              "      <td>Ed</td>\n",
              "      <td>thank you kristin, for all you do11</td>\n",
              "      <td>John Garamendi</td>\n",
              "      <td>Congress_Democratic</td>\n",
              "      <td>0.000849</td>\n",
              "      <td>W</td>\n",
              "    </tr>\n",
              "    <tr>\n",
              "      <th>1619440</th>\n",
              "      <td>10067310</td>\n",
              "      <td>49028900</td>\n",
              "      <td>M</td>\n",
              "      <td>366249</td>\n",
              "      <td>Pekin</td>\n",
              "      <td>kent...bet your in for rep. politname braley , another socialist pig!</td>\n",
              "      <td>Steve King</td>\n",
              "      <td>Congress_Republican</td>\n",
              "      <td>0.000934</td>\n",
              "      <td>W</td>\n",
              "    </tr>\n",
              "    <tr>\n",
              "      <th>244567</th>\n",
              "      <td>2447773</td>\n",
              "      <td>71417411</td>\n",
              "      <td>M</td>\n",
              "      <td>55745</td>\n",
              "      <td>Ann</td>\n",
              "      <td>democrats are us! obama white house ---- women paid significantly less in obama white house than...</td>\n",
              "      <td>Blake Farenthold</td>\n",
              "      <td>Congress_Republican</td>\n",
              "      <td>0.001229</td>\n",
              "      <td>W</td>\n",
              "    </tr>\n",
              "    <tr>\n",
              "      <th>1451868</th>\n",
              "      <td>7870162</td>\n",
              "      <td>99469231</td>\n",
              "      <td>M</td>\n",
              "      <td>296340</td>\n",
              "      <td>Kevin</td>\n",
              "      <td>what happened to you senator? i supported you in 2008 with my donations, my prayers and my vote....</td>\n",
              "      <td>John McCain</td>\n",
              "      <td>Congress_Republican</td>\n",
              "      <td>0.001231</td>\n",
              "      <td>W</td>\n",
              "    </tr>\n",
              "    <tr>\n",
              "      <th>991742</th>\n",
              "      <td>5240796</td>\n",
              "      <td>46506154</td>\n",
              "      <td>M</td>\n",
              "      <td>161317</td>\n",
              "      <td>Karen</td>\n",
              "      <td>stand strong senator ayotte! we are with you all the way!</td>\n",
              "      <td>Marco Rubio</td>\n",
              "      <td>Congress_Republican</td>\n",
              "      <td>0.001261</td>\n",
              "      <td>W</td>\n",
              "    </tr>\n",
              "    <tr>\n",
              "      <th>1041057</th>\n",
              "      <td>5290111</td>\n",
              "      <td>46506154</td>\n",
              "      <td>M</td>\n",
              "      <td>161390</td>\n",
              "      <td>Julie</td>\n",
              "      <td>senator politname immigration reform bill was my baby,look now obama is getting all the credit b...</td>\n",
              "      <td>Marco Rubio</td>\n",
              "      <td>Congress_Republican</td>\n",
              "      <td>0.001481</td>\n",
              "      <td>W</td>\n",
              "    </tr>\n",
              "    <tr>\n",
              "      <th>692978</th>\n",
              "      <td>4942032</td>\n",
              "      <td>46506154</td>\n",
              "      <td>M</td>\n",
              "      <td>160259</td>\n",
              "      <td>Bryan</td>\n",
              "      <td>great job in nh team marco-thanks for coming to timberland :)</td>\n",
              "      <td>Marco Rubio</td>\n",
              "      <td>Congress_Republican</td>\n",
              "      <td>0.001576</td>\n",
              "      <td>W</td>\n",
              "    </tr>\n",
              "    <tr>\n",
              "      <th>731471</th>\n",
              "      <td>4980525</td>\n",
              "      <td>46506154</td>\n",
              "      <td>M</td>\n",
              "      <td>160420</td>\n",
              "      <td>Aaron</td>\n",
              "      <td>eres una verguenza para la comunidad latina.</td>\n",
              "      <td>Marco Rubio</td>\n",
              "      <td>Congress_Republican</td>\n",
              "      <td>0.001586</td>\n",
              "      <td>W</td>\n",
              "    </tr>\n",
              "    <tr>\n",
              "      <th>1857477</th>\n",
              "      <td>10890405</td>\n",
              "      <td>10458808</td>\n",
              "      <td>M</td>\n",
              "      <td>385771</td>\n",
              "      <td>Ashley</td>\n",
              "      <td>mrs. waters is amazing</td>\n",
              "      <td>Mark Takano</td>\n",
              "      <td>Congress_Democratic</td>\n",
              "      <td>0.001712</td>\n",
              "      <td>W</td>\n",
              "    </tr>\n",
              "    <tr>\n",
              "      <th>991706</th>\n",
              "      <td>5240760</td>\n",
              "      <td>46506154</td>\n",
              "      <td>M</td>\n",
              "      <td>161317</td>\n",
              "      <td>Christopher</td>\n",
              "      <td>send the senator a quick letter of support and to say thank you: http://www.ayotte.senate.gov/?p...</td>\n",
              "      <td>Marco Rubio</td>\n",
              "      <td>Congress_Republican</td>\n",
              "      <td>0.001730</td>\n",
              "      <td>W</td>\n",
              "    </tr>\n",
              "    <tr>\n",
              "      <th>1561951</th>\n",
              "      <td>7980245</td>\n",
              "      <td>99469231</td>\n",
              "      <td>M</td>\n",
              "      <td>296741</td>\n",
              "      <td>Jerry</td>\n",
              "      <td>juan...what you refuse to get is that you are no longer relevant! flip flopping and pro-illegal ...</td>\n",
              "      <td>John McCain</td>\n",
              "      <td>Congress_Republican</td>\n",
              "      <td>0.001942</td>\n",
              "      <td>W</td>\n",
              "    </tr>\n",
              "    <tr>\n",
              "      <th>493471</th>\n",
              "      <td>4075670</td>\n",
              "      <td>77914417</td>\n",
              "      <td>M</td>\n",
              "      <td>141657</td>\n",
              "      <td>Congressman</td>\n",
              "      <td>staff: ms. diana montes-walker, pronoun politname supports comprehensive immigration reform. to ...</td>\n",
              "      <td>John Garamendi</td>\n",
              "      <td>Congress_Democratic</td>\n",
              "      <td>0.002016</td>\n",
              "      <td>W</td>\n",
              "    </tr>\n",
              "  </tbody>\n",
              "</table>\n",
              "</div>"
            ],
            "text/plain": [
              "         original_idx     op_id op_gender  ...          op_category     probs preds\n",
              "1132701       5381755  46506154         M  ...  Congress_Republican  0.000030     W\n",
              "1051451       5300505  46506154         M  ...  Congress_Republican  0.000173     W\n",
              "1364586       7782880  99469231         M  ...  Congress_Republican  0.000222     W\n",
              "1364650       7782944  99469231         M  ...  Congress_Republican  0.000222     W\n",
              "1364816       7783110  99469231         M  ...  Congress_Republican  0.000222     W\n",
              "697439        4946493  46506154         M  ...  Congress_Republican  0.000247     W\n",
              "991634        5240688  46506154         M  ...  Congress_Republican  0.000318     W\n",
              "1857391      10890319  10458808         M  ...  Congress_Democratic  0.000523     W\n",
              "487421        4069620  77914417         M  ...  Congress_Democratic  0.000849     W\n",
              "1619440      10067310  49028900         M  ...  Congress_Republican  0.000934     W\n",
              "244567        2447773  71417411         M  ...  Congress_Republican  0.001229     W\n",
              "1451868       7870162  99469231         M  ...  Congress_Republican  0.001231     W\n",
              "991742        5240796  46506154         M  ...  Congress_Republican  0.001261     W\n",
              "1041057       5290111  46506154         M  ...  Congress_Republican  0.001481     W\n",
              "692978        4942032  46506154         M  ...  Congress_Republican  0.001576     W\n",
              "731471        4980525  46506154         M  ...  Congress_Republican  0.001586     W\n",
              "1857477      10890405  10458808         M  ...  Congress_Democratic  0.001712     W\n",
              "991706        5240760  46506154         M  ...  Congress_Republican  0.001730     W\n",
              "1561951       7980245  99469231         M  ...  Congress_Republican  0.001942     W\n",
              "493471        4075670  77914417         M  ...  Congress_Democratic  0.002016     W\n",
              "\n",
              "[20 rows x 10 columns]"
            ]
          },
          "metadata": {
            "tags": []
          },
          "execution_count": 52
        }
      ]
    }
  ]
}
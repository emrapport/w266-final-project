{
  "nbformat": 4,
  "nbformat_minor": 0,
  "metadata": {
    "kernelspec": {
      "name": "python3",
      "display_name": "Python 3"
    },
    "language_info": {
      "codemirror_mode": {
        "name": "ipython",
        "version": 3
      },
      "file_extension": ".py",
      "mimetype": "text/x-python",
      "name": "python",
      "nbconvert_exporter": "python",
      "pygments_lexer": "ipython3",
      "version": "3.7.4"
    },
    "colab": {
      "name": "CNN_Status_only.ipynb",
      "provenance": [],
      "machine_shape": "hm",
      "include_colab_link": true
    },
    "accelerator": "TPU"
  },
  "cells": [
    {
      "cell_type": "markdown",
      "metadata": {
        "id": "view-in-github",
        "colab_type": "text"
      },
      "source": [
        "<a href=\"https://colab.research.google.com/github/emrapport/w266-final-project/blob/master/modeling/three_plus_word_responses.ipynb\" target=\"_parent\"><img src=\"https://colab.research.google.com/assets/colab-badge.svg\" alt=\"Open In Colab\"/></a>"
      ]
    },
    {
      "cell_type": "markdown",
      "metadata": {
        "id": "ldVKPuCY1oqk",
        "colab_type": "text"
      },
      "source": [
        "## Remove posts with only 1 or 2 words. Leave response length at 20.\n",
        "\n"
      ]
    },
    {
      "cell_type": "code",
      "metadata": {
        "id": "dJtCeCgbSs0D",
        "colab_type": "code",
        "colab": {}
      },
      "source": [
        "# this notebook is based off of this blog post: \n",
        "# https://realpython.com/python-keras-text-classification/#reader-comments"
      ],
      "execution_count": 0,
      "outputs": []
    },
    {
      "cell_type": "code",
      "metadata": {
        "id": "_QYIGfoPFRZK",
        "colab_type": "code",
        "colab": {}
      },
      "source": [
        "DATASET_NAME = \"three_plus_words\"\n",
        "MODEL_NAME = \"three_plus_words\"\n",
        "MAX_SEQ_LENGTH = 20\n",
        "TRAINING_SET_SIZE = 4000000\n",
        "VAL_SET_SIZE = 2000000\n",
        "NUM_EPOCHS = 30\n",
        "BATCH_SIZE = 1000\n",
        "MAX_SEQUENCE_LENGTH = 20\n",
        "\n",
        "\n",
        "# I don't think we have a good reason to do this right now\n",
        "# but we might eventually \n",
        "SAVE_TOKENIZED_DATA = False"
      ],
      "execution_count": 0,
      "outputs": []
    },
    {
      "cell_type": "code",
      "metadata": {
        "id": "l0rrZSx7Ss0M",
        "colab_type": "code",
        "outputId": "afaa0418-8637-43cb-eebf-4e6570bb9062",
        "colab": {
          "base_uri": "https://localhost:8080/",
          "height": 492
        }
      },
      "source": [
        "from sklearn.linear_model import LogisticRegression\n",
        "from sklearn.feature_extraction.text import HashingVectorizer\n",
        "from scipy.sparse import hstack, vstack\n",
        "from keras.preprocessing.text import Tokenizer\n",
        "from tensorflow.keras import Sequential, layers\n",
        "from keras.utils import plot_model\n",
        "import pandas as pd\n",
        "import numpy as np\n",
        "import copy\n",
        "import time\n",
        "import pickle\n",
        "!pip install gcsfs\n",
        "\n",
        "pd.set_option('max_colwidth', 100)"
      ],
      "execution_count": 2,
      "outputs": [
        {
          "output_type": "stream",
          "text": [
            "Using TensorFlow backend.\n"
          ],
          "name": "stderr"
        },
        {
          "output_type": "stream",
          "text": [
            "Collecting gcsfs\n",
            "\u001b[?25l  Downloading https://files.pythonhosted.org/packages/ab/92/0297f2813cb240c52e90f8587420149970565800e019e1b08ef5ad28b6d9/gcsfs-0.3.1.tar.gz (43kB)\n",
            "\r\u001b[K     |███████▋                        | 10kB 17.6MB/s eta 0:00:01\r\u001b[K     |███████████████▏                | 20kB 2.1MB/s eta 0:00:01\r\u001b[K     |██████████████████████▊         | 30kB 3.1MB/s eta 0:00:01\r\u001b[K     |██████████████████████████████▎ | 40kB 2.0MB/s eta 0:00:01\r\u001b[K     |████████████████████████████████| 51kB 1.9MB/s \n",
            "\u001b[?25hRequirement already satisfied: google-auth>=1.2 in /usr/local/lib/python3.6/dist-packages (from gcsfs) (1.4.2)\n",
            "Requirement already satisfied: google-auth-oauthlib in /usr/local/lib/python3.6/dist-packages (from gcsfs) (0.4.1)\n",
            "Requirement already satisfied: requests in /usr/local/lib/python3.6/dist-packages (from gcsfs) (2.21.0)\n",
            "Requirement already satisfied: decorator in /usr/local/lib/python3.6/dist-packages (from gcsfs) (4.4.1)\n",
            "Requirement already satisfied: fsspec>=0.2.2 in /usr/local/lib/python3.6/dist-packages (from gcsfs) (0.5.2)\n",
            "Requirement already satisfied: pyasn1-modules>=0.2.1 in /usr/local/lib/python3.6/dist-packages (from google-auth>=1.2->gcsfs) (0.2.7)\n",
            "Requirement already satisfied: rsa>=3.1.4 in /usr/local/lib/python3.6/dist-packages (from google-auth>=1.2->gcsfs) (4.0)\n",
            "Requirement already satisfied: six>=1.9.0 in /usr/local/lib/python3.6/dist-packages (from google-auth>=1.2->gcsfs) (1.12.0)\n",
            "Requirement already satisfied: cachetools>=2.0.0 in /usr/local/lib/python3.6/dist-packages (from google-auth>=1.2->gcsfs) (3.1.1)\n",
            "Requirement already satisfied: requests-oauthlib>=0.7.0 in /usr/local/lib/python3.6/dist-packages (from google-auth-oauthlib->gcsfs) (1.2.0)\n",
            "Requirement already satisfied: chardet<3.1.0,>=3.0.2 in /usr/local/lib/python3.6/dist-packages (from requests->gcsfs) (3.0.4)\n",
            "Requirement already satisfied: urllib3<1.25,>=1.21.1 in /usr/local/lib/python3.6/dist-packages (from requests->gcsfs) (1.24.3)\n",
            "Requirement already satisfied: certifi>=2017.4.17 in /usr/local/lib/python3.6/dist-packages (from requests->gcsfs) (2019.9.11)\n",
            "Requirement already satisfied: idna<2.9,>=2.5 in /usr/local/lib/python3.6/dist-packages (from requests->gcsfs) (2.8)\n",
            "Requirement already satisfied: pyasn1<0.5.0,>=0.4.6 in /usr/local/lib/python3.6/dist-packages (from pyasn1-modules>=0.2.1->google-auth>=1.2->gcsfs) (0.4.7)\n",
            "Requirement already satisfied: oauthlib>=3.0.0 in /usr/local/lib/python3.6/dist-packages (from requests-oauthlib>=0.7.0->google-auth-oauthlib->gcsfs) (3.1.0)\n",
            "Building wheels for collected packages: gcsfs\n",
            "  Building wheel for gcsfs (setup.py) ... \u001b[?25l\u001b[?25hdone\n",
            "  Created wheel for gcsfs: filename=gcsfs-0.3.1-py2.py3-none-any.whl size=17936 sha256=28c043e7bd383a894646d4e5089d1a4523cca3068527dc2317459a65410d662e\n",
            "  Stored in directory: /root/.cache/pip/wheels/9d/2b/6f/86954f0d8caa1173841e62bb780dc0f8693bd268e04a267682\n",
            "Successfully built gcsfs\n",
            "Installing collected packages: gcsfs\n",
            "Successfully installed gcsfs-0.3.1\n"
          ],
          "name": "stdout"
        }
      ]
    },
    {
      "cell_type": "code",
      "metadata": {
        "id": "lKNfUKrfUgP-",
        "colab_type": "code",
        "outputId": "0f898b7f-f85d-4b65-98f0-23e5eb62eb5d",
        "colab": {
          "base_uri": "https://localhost:8080/",
          "height": 175
        }
      },
      "source": [
        "# this cell is only necessary if running in colab\n",
        "project_id = 'w266-251323'\n",
        "import uuid\n",
        "bucket_name = 'fb-congressional-data/'\n",
        "from google.colab import auth\n",
        "auth.authenticate_user()\n",
        "!gcloud config set project {project_id}"
      ],
      "execution_count": 3,
      "outputs": [
        {
          "output_type": "stream",
          "text": [
            "WARNING:tensorflow:\n",
            "The TensorFlow contrib module will not be included in TensorFlow 2.0.\n",
            "For more information, please see:\n",
            "  * https://github.com/tensorflow/community/blob/master/rfcs/20180907-contrib-sunset.md\n",
            "  * https://github.com/tensorflow/addons\n",
            "  * https://github.com/tensorflow/io (for I/O related ops)\n",
            "If you depend on functionality not listed there, please file an issue.\n",
            "\n",
            "Updated property [core/project].\n"
          ],
          "name": "stdout"
        }
      ]
    },
    {
      "cell_type": "code",
      "metadata": {
        "id": "9T7PzdLQSs0j",
        "colab_type": "code",
        "outputId": "ea98e21f-2e1b-42b2-ce5b-3be9afd0b1ef",
        "colab": {
          "base_uri": "https://localhost:8080/",
          "height": 72
        }
      },
      "source": [
        "train_df = pd.read_csv(\"gs://fb-congressional-data/contraction_expanded_data/train.csv\", index_col=0)"
      ],
      "execution_count": 4,
      "outputs": [
        {
          "output_type": "stream",
          "text": [
            "/usr/local/lib/python3.6/dist-packages/numpy/lib/arraysetops.py:568: FutureWarning: elementwise comparison failed; returning scalar instead, but in the future will perform elementwise comparison\n",
            "  mask |= (ar1 == a)\n"
          ],
          "name": "stderr"
        }
      ]
    },
    {
      "cell_type": "code",
      "metadata": {
        "id": "0iOniVLISs0m",
        "colab_type": "code",
        "outputId": "4ec0a1a3-1a37-4ef0-ac83-8b8dd088cb35",
        "colab": {
          "base_uri": "https://localhost:8080/",
          "height": 72
        }
      },
      "source": [
        "dev_df = pd.read_csv(\"gs://fb-congressional-data/contraction_expanded_data/dev.csv\", index_col=0)"
      ],
      "execution_count": 5,
      "outputs": [
        {
          "output_type": "stream",
          "text": [
            "/usr/local/lib/python3.6/dist-packages/numpy/lib/arraysetops.py:568: FutureWarning: elementwise comparison failed; returning scalar instead, but in the future will perform elementwise comparison\n",
            "  mask |= (ar1 == a)\n"
          ],
          "name": "stderr"
        }
      ]
    },
    {
      "cell_type": "code",
      "metadata": {
        "id": "6sOBM6Q6Q4Mz",
        "colab_type": "code",
        "colab": {
          "base_uri": "https://localhost:8080/",
          "height": 34
        },
        "outputId": "1668328d-4376-4ff1-f380-0cda0b45bd22"
      },
      "source": [
        "len(dev_df)"
      ],
      "execution_count": 18,
      "outputs": [
        {
          "output_type": "execute_result",
          "data": {
            "text/plain": [
              "2292907"
            ]
          },
          "metadata": {
            "tags": []
          },
          "execution_count": 18
        }
      ]
    },
    {
      "cell_type": "code",
      "metadata": {
        "id": "bwNu4VTq46QG",
        "colab_type": "code",
        "colab": {
          "base_uri": "https://localhost:8080/",
          "height": 296
        },
        "outputId": "7407a493-cc12-4232-910b-aa8abda5fc12"
      },
      "source": [
        "# Remove 1 and 2 word responses from training set.\n",
        "# Split response string by spaces.\n",
        "train_df['split_response'] = train_df['response_text'].str.split()\n",
        "train_df.head()"
      ],
      "execution_count": 14,
      "outputs": [
        {
          "output_type": "execute_result",
          "data": {
            "text/html": [
              "<div>\n",
              "<style scoped>\n",
              "    .dataframe tbody tr th:only-of-type {\n",
              "        vertical-align: middle;\n",
              "    }\n",
              "\n",
              "    .dataframe tbody tr th {\n",
              "        vertical-align: top;\n",
              "    }\n",
              "\n",
              "    .dataframe thead th {\n",
              "        text-align: right;\n",
              "    }\n",
              "</style>\n",
              "<table border=\"1\" class=\"dataframe\">\n",
              "  <thead>\n",
              "    <tr style=\"text-align: right;\">\n",
              "      <th></th>\n",
              "      <th>original_idx</th>\n",
              "      <th>op_id</th>\n",
              "      <th>op_gender</th>\n",
              "      <th>post_id</th>\n",
              "      <th>responder_id</th>\n",
              "      <th>response_text</th>\n",
              "      <th>op_name</th>\n",
              "      <th>op_category</th>\n",
              "      <th>split_response</th>\n",
              "    </tr>\n",
              "  </thead>\n",
              "  <tbody>\n",
              "    <tr>\n",
              "      <th>0</th>\n",
              "      <td>0</td>\n",
              "      <td>57265377</td>\n",
              "      <td>M</td>\n",
              "      <td>0</td>\n",
              "      <td>Jerry</td>\n",
              "      <td>protecting birth is not the same as protecting life. you may very well pledge to the former but ...</td>\n",
              "      <td>Roger Williams</td>\n",
              "      <td>Congress_Republican</td>\n",
              "      <td>[protecting, birth, is, not, the, same, as, protecting, life., you, may, very, well, pledge, to,...</td>\n",
              "    </tr>\n",
              "    <tr>\n",
              "      <th>1</th>\n",
              "      <td>1</td>\n",
              "      <td>57265377</td>\n",
              "      <td>M</td>\n",
              "      <td>0</td>\n",
              "      <td>Andrea</td>\n",
              "      <td>you need to protect children and leave my body to me.</td>\n",
              "      <td>Roger Williams</td>\n",
              "      <td>Congress_Republican</td>\n",
              "      <td>[you, need, to, protect, children, and, leave, my, body, to, me.]</td>\n",
              "    </tr>\n",
              "    <tr>\n",
              "      <th>2</th>\n",
              "      <td>2</td>\n",
              "      <td>57265377</td>\n",
              "      <td>M</td>\n",
              "      <td>0</td>\n",
              "      <td>Sherry</td>\n",
              "      <td>thank you</td>\n",
              "      <td>Roger Williams</td>\n",
              "      <td>Congress_Republican</td>\n",
              "      <td>[thank, you]</td>\n",
              "    </tr>\n",
              "    <tr>\n",
              "      <th>3</th>\n",
              "      <td>3</td>\n",
              "      <td>57265377</td>\n",
              "      <td>M</td>\n",
              "      <td>0</td>\n",
              "      <td>Bob</td>\n",
              "      <td>thank you roger</td>\n",
              "      <td>Roger Williams</td>\n",
              "      <td>Congress_Republican</td>\n",
              "      <td>[thank, you, roger]</td>\n",
              "    </tr>\n",
              "    <tr>\n",
              "      <th>4</th>\n",
              "      <td>4</td>\n",
              "      <td>57265377</td>\n",
              "      <td>M</td>\n",
              "      <td>0</td>\n",
              "      <td>Joy</td>\n",
              "      <td>unwanted pregnancy is a sad and unfortunate situation for anyone to find themselves in, however,...</td>\n",
              "      <td>Roger Williams</td>\n",
              "      <td>Congress_Republican</td>\n",
              "      <td>[unwanted, pregnancy, is, a, sad, and, unfortunate, situation, for, anyone, to, find, themselves...</td>\n",
              "    </tr>\n",
              "  </tbody>\n",
              "</table>\n",
              "</div>"
            ],
            "text/plain": [
              "   original_idx  ...                                                                                       split_response\n",
              "0             0  ...  [protecting, birth, is, not, the, same, as, protecting, life., you, may, very, well, pledge, to,...\n",
              "1             1  ...                                    [you, need, to, protect, children, and, leave, my, body, to, me.]\n",
              "2             2  ...                                                                                         [thank, you]\n",
              "3             3  ...                                                                                  [thank, you, roger]\n",
              "4             4  ...  [unwanted, pregnancy, is, a, sad, and, unfortunate, situation, for, anyone, to, find, themselves...\n",
              "\n",
              "[5 rows x 9 columns]"
            ]
          },
          "metadata": {
            "tags": []
          },
          "execution_count": 14
        }
      ]
    },
    {
      "cell_type": "code",
      "metadata": {
        "id": "dk4goOwAPXRH",
        "colab_type": "code",
        "colab": {
          "base_uri": "https://localhost:8080/",
          "height": 34
        },
        "outputId": "095943af-42f6-4519-c89a-84c80998da06"
      },
      "source": [
        "len(train_df)"
      ],
      "execution_count": 15,
      "outputs": [
        {
          "output_type": "execute_result",
          "data": {
            "text/plain": [
              "9879016"
            ]
          },
          "metadata": {
            "tags": []
          },
          "execution_count": 15
        }
      ]
    },
    {
      "cell_type": "code",
      "metadata": {
        "id": "SDZQzI7RNjfW",
        "colab_type": "code",
        "colab": {
          "base_uri": "https://localhost:8080/",
          "height": 34
        },
        "outputId": "6d0c09ac-d666-49c8-e182-963ee29f9278"
      },
      "source": [
        "# Remove the split responses that have length 1 or 2.\n",
        "mask = (train_df['split_response'].str.len() > 2) \n",
        "train_df = train_df.loc[mask]\n",
        "len(train_df)"
      ],
      "execution_count": 19,
      "outputs": [
        {
          "output_type": "execute_result",
          "data": {
            "text/plain": [
              "8685575"
            ]
          },
          "metadata": {
            "tags": []
          },
          "execution_count": 19
        }
      ]
    },
    {
      "cell_type": "code",
      "metadata": {
        "id": "K95juTqs5nM1",
        "colab_type": "code",
        "outputId": "68bca39b-1371-4650-d1dd-fc1ffe33e11d",
        "colab": {
          "base_uri": "https://localhost:8080/",
          "height": 34
        }
      },
      "source": [
        "# Remove 1 and 2 word responses from dev set.\n",
        "# Split response string by spaces.\n",
        "dev_df['split_response'] = dev_df['response_text'].str.split()\n",
        "# Remove the split responses that have length 1 or 2.\n",
        "mask2 = (dev_df['split_response'].str.len() > 2) \n",
        "dev_df = dev_df.loc[mask2]\n",
        "len(dev_df)"
      ],
      "execution_count": 20,
      "outputs": [
        {
          "output_type": "execute_result",
          "data": {
            "text/plain": [
              "2041945"
            ]
          },
          "metadata": {
            "tags": []
          },
          "execution_count": 20
        }
      ]
    },
    {
      "cell_type": "code",
      "metadata": {
        "id": "0Rr_Uonq5sLV",
        "colab_type": "code",
        "outputId": "6bebac64-d2f3-40eb-fdbe-944b1d734417",
        "colab": {
          "base_uri": "https://localhost:8080/",
          "height": 34
        }
      },
      "source": [
        "len(dev_df)"
      ],
      "execution_count": 0,
      "outputs": [
        {
          "output_type": "execute_result",
          "data": {
            "text/plain": [
              "390738"
            ]
          },
          "metadata": {
            "tags": []
          },
          "execution_count": 13
        }
      ]
    },
    {
      "cell_type": "code",
      "metadata": {
        "id": "W1oM4o7wtHFd",
        "colab_type": "code",
        "outputId": "8d5e0b1a-b89f-4eba-cbb3-b10b9225599d",
        "colab": {
          "base_uri": "https://localhost:8080/",
          "height": 34
        }
      },
      "source": [
        "num_responses_per_post = train_df.post_id.value_counts().reset_index()\n",
        "num_responses_per_post.columns = ['post_id', 'num_responses']\n",
        "too_big_posts = num_responses_per_post[num_responses_per_post.num_responses > 50]\n",
        "posts_to_sample = too_big_posts.post_id.values\n",
        "# this gets all the rows for posts we DON'T need to sample \n",
        "new_train_df = train_df[~train_df.post_id.isin(posts_to_sample)]\n",
        "# this should be true\n",
        "assert(len(too_big_posts) + new_train_df.post_id.nunique() == train_df.post_id.nunique())\n",
        "too_big_post_rows = train_df[train_df.post_id.isin(posts_to_sample)]\n",
        "sampled_rows = too_big_post_rows.groupby('post_id').apply(lambda x: x.sample(n=50)).reset_index(drop=True)\n",
        "new_train_df = pd.concat([new_train_df, sampled_rows])\n",
        "new_train_df.shape"
      ],
      "execution_count": 21,
      "outputs": [
        {
          "output_type": "execute_result",
          "data": {
            "text/plain": [
              "(3721104, 9)"
            ]
          },
          "metadata": {
            "tags": []
          },
          "execution_count": 21
        }
      ]
    },
    {
      "cell_type": "code",
      "metadata": {
        "id": "MgZWntiySs0p",
        "colab_type": "code",
        "colab": {}
      },
      "source": [
        "# shuffle the data\n",
        "# be sure to do this before you extract X's and y's!!\n",
        "train_df = new_train_df.sample(frac=1)\n",
        "dev_df = dev_df.sample(frac=1)"
      ],
      "execution_count": 0,
      "outputs": []
    },
    {
      "cell_type": "code",
      "metadata": {
        "id": "1ZJxHTywg7Rq",
        "colab_type": "code",
        "outputId": "95145562-8d57-4238-fef5-9e01883842d6",
        "colab": {
          "base_uri": "https://localhost:8080/",
          "height": 70
        }
      },
      "source": [
        "train_df.op_gender.value_counts()"
      ],
      "execution_count": 23,
      "outputs": [
        {
          "output_type": "execute_result",
          "data": {
            "text/plain": [
              "M    2725461\n",
              "W     995643\n",
              "Name: op_gender, dtype: int64"
            ]
          },
          "metadata": {
            "tags": []
          },
          "execution_count": 23
        }
      ]
    },
    {
      "cell_type": "code",
      "metadata": {
        "id": "wvu7r5nThL1Z",
        "colab_type": "code",
        "colab": {}
      },
      "source": [
        "###########################\n",
        "# Execute this if want to do oversampling.\n",
        "###########################\n",
        "# from sklearn.utils import resample\n",
        "\n",
        "# male = train_df[train_df.op_gender=='M']\n",
        "# female = train_df[train_df.op_gender=='W']\n",
        "\n",
        "# female_upsampled = resample(female,\n",
        "#                           replace=True, # sample with replacement\n",
        "#                           n_samples=len(male), # match number in majority class\n",
        "#                           random_state=27) # reproducible results\n",
        "# upsampled_train = pd.concat([male,female_upsampled])\n",
        "# print(upsampled_train.op_gender.value_counts())\n"
      ],
      "execution_count": 0,
      "outputs": []
    },
    {
      "cell_type": "code",
      "metadata": {
        "id": "Pjb6dx8fSs0s",
        "colab_type": "code",
        "colab": {}
      },
      "source": [
        "# replace `train_df` with `upsampled_train` if using oversampling.\n",
        "y_train = train_df.op_gender.values\n",
        "y_dev = dev_df.op_gender.values"
      ],
      "execution_count": 0,
      "outputs": []
    },
    {
      "cell_type": "code",
      "metadata": {
        "id": "pBCoPKh_Ss0v",
        "colab_type": "code",
        "colab": {}
      },
      "source": [
        "def turn_to_ints(li):\n",
        "    final_list = []\n",
        "    for gender in li:\n",
        "        if gender=='M':\n",
        "            final_list.append(1)\n",
        "        else:\n",
        "            final_list.append(0)\n",
        "    return final_list\n",
        "            \n",
        "y_train = turn_to_ints(y_train)\n",
        "y_dev = turn_to_ints(y_dev)"
      ],
      "execution_count": 0,
      "outputs": []
    },
    {
      "cell_type": "code",
      "metadata": {
        "id": "hN9GFz6xSs0y",
        "colab_type": "code",
        "colab": {}
      },
      "source": [
        "y_train = np.asarray(y_train)\n",
        "y_dev = np.asarray(y_dev)"
      ],
      "execution_count": 0,
      "outputs": []
    },
    {
      "cell_type": "code",
      "metadata": {
        "id": "ChYxh6oPSs04",
        "colab_type": "code",
        "colab": {}
      },
      "source": [
        "def get_text_list(init_list):\n",
        "    sentences = []\n",
        "    for sentence in init_list:\n",
        "        if type(sentence) != str:\n",
        "            sentences.append(\"\")\n",
        "        else:\n",
        "            sentences.append(sentence)\n",
        "    return sentences\n",
        "\n",
        "# replace `train_df` with `upsampled_train` if using upsampling.\n",
        "new_sentences_train = get_text_list(train_df.response_text.values) \n",
        "new_sentences_test = get_text_list(dev_df.response_text.values)"
      ],
      "execution_count": 0,
      "outputs": []
    },
    {
      "cell_type": "code",
      "metadata": {
        "id": "1b9SE7SjSs06",
        "colab_type": "code",
        "outputId": "62168f37-eb05-4c74-bf15-6f83aff5cb81",
        "colab": {
          "base_uri": "https://localhost:8080/",
          "height": 34
        }
      },
      "source": [
        "time_start = time.time()\n",
        "\n",
        "# this is the default list of filters + apostrophe\n",
        "# added because we have dealt with common contractions, so other apostrophes should mostly be possessive \n",
        "tokenizer = Tokenizer(num_words=200000, filters='!\"\\'#$%&()*+,-./:;<=>?@[\\\\]^_`{|}~\\t\\n')\n",
        "tokenizer.fit_on_texts(new_sentences_train)\n",
        "\n",
        "X_train = tokenizer.texts_to_sequences(new_sentences_train)\n",
        "X_test = tokenizer.texts_to_sequences(new_sentences_test)\n",
        "\n",
        "vocab_size = len(tokenizer.word_index) + 1\n",
        "\n",
        "currentTime = time.gmtime(time.time() - time_start)\n",
        "\n",
        "#Convert the gmtime struct to a string\n",
        "timeStr = time.strftime(\"%M minutes, %S seconds\", currentTime)\n",
        "\n",
        "print(\"Tokenized in {}\".format(timeStr))"
      ],
      "execution_count": 28,
      "outputs": [
        {
          "output_type": "stream",
          "text": [
            "Tokenized in 05 minutes, 51 seconds\n"
          ],
          "name": "stdout"
        }
      ]
    },
    {
      "cell_type": "code",
      "metadata": {
        "id": "TyZMBAiySs0-",
        "colab_type": "code",
        "colab": {}
      },
      "source": [
        "from keras.preprocessing.sequence import pad_sequences\n",
        "\n",
        "X_train = pad_sequences(X_train, padding='post', maxlen=MAX_SEQUENCE_LENGTH)\n",
        "X_test = pad_sequences(X_test, padding='post', maxlen=MAX_SEQUENCE_LENGTH)"
      ],
      "execution_count": 0,
      "outputs": []
    },
    {
      "cell_type": "code",
      "metadata": {
        "id": "LGl1S3HySs1G",
        "colab_type": "code",
        "colab": {}
      },
      "source": [
        "if SAVE_TOKENIZED_DATA:\n",
        "  x_train_path = 'X_train_{}.pkl'.format(DATASET_NAME)\n",
        "  x_dev_path = 'X_dev_{}.pkl'.format(DATASET_NAME)\n",
        "  y_train_path = 'y_train_{}.pkl'.format(DATASET_NAME)\n",
        "  y_dev_path = 'y_dev_{}.pkl'.format(DATASET_NAME)\n",
        "\n",
        "  with open(x_train_path, 'wb') as file:\n",
        "      pickle.dump(X_train, file)   \n",
        "  with open(x_dev_path, 'wb') as file:\n",
        "      pickle.dump(X_test, file)\n",
        "  with open(y_train_path, 'wb') as file:\n",
        "      pickle.dump(y_train, file)\n",
        "  with open(y_dev_path, 'wb') as file:\n",
        "      pickle.dump(y_dev, file)\n",
        "\n",
        "  # copy to bucket\n",
        "  !gsutil cp /content/{x_train_path} gs://fb-congressional-data/test\n",
        "  !gsutil cp /content/{x_dev_path} gs://fb-congressional-data/\n",
        "  !gsutil cp /content/{y_train_path} gs://fb-congressional-data/\n",
        "  !gsutil cp /content/{y_dev_path} gs://fb-congressional-data/"
      ],
      "execution_count": 0,
      "outputs": []
    },
    {
      "cell_type": "code",
      "metadata": {
        "id": "s5AeCFGIuKIR",
        "colab_type": "code",
        "outputId": "3623e588-ebcc-4299-8108-9e14a7c74dee",
        "colab": {
          "base_uri": "https://localhost:8080/",
          "height": 246
        }
      },
      "source": [
        "!gsutil cp gs://fb-congressional-data/glove* /tmp/"
      ],
      "execution_count": 30,
      "outputs": [
        {
          "output_type": "stream",
          "text": [
            "Copying gs://fb-congressional-data/glove.6B.100d.txt...\n",
            "Copying gs://fb-congressional-data/glove.6B.200d.txt...\n",
            "Copying gs://fb-congressional-data/glove.6B.300d.txt...\n",
            "Copying gs://fb-congressional-data/glove.6B.50d.txt...\n",
            "\\ [4 files][  2.1 GiB/  2.1 GiB]   38.0 MiB/s                                   \n",
            "==> NOTE: You are performing a sequence of gsutil operations that may\n",
            "run significantly faster if you instead use gsutil -m cp ... Please\n",
            "see the -m section under \"gsutil help options\" for further information\n",
            "about when gsutil -m can be advantageous.\n",
            "\n",
            "Copying gs://fb-congressional-data/glove.6B.zip...\n",
            "-\n",
            "Operation completed over 5 objects/2.9 GiB.                                      \n"
          ],
          "name": "stdout"
        }
      ]
    },
    {
      "cell_type": "code",
      "metadata": {
        "id": "ae5EQ7vbSs1L",
        "colab_type": "code",
        "colab": {}
      },
      "source": [
        "def create_embedding_matrix(filepath, word_index, embedding_dim):\n",
        "    vocab_size = len(word_index) + 1  # Adding again 1 because of reserved 0 index\n",
        "    embedding_matrix = np.zeros((vocab_size, embedding_dim))\n",
        "\n",
        "    with open(filepath) as f:\n",
        "        for line in f:\n",
        "            word, *vector = line.split()\n",
        "            if word in word_index:\n",
        "                idx = word_index[word] \n",
        "                embedding_matrix[idx] = np.array(\n",
        "                    vector, dtype=np.float32)[:embedding_dim]\n",
        "\n",
        "    return embedding_matrix\n",
        "\n",
        "embedding_dim = 100\n",
        "embedding_matrix = create_embedding_matrix(\n",
        "                     '/tmp/glove.6B.{}d.txt'.format(embedding_dim),\n",
        "                      tokenizer.word_index, embedding_dim)"
      ],
      "execution_count": 0,
      "outputs": []
    },
    {
      "cell_type": "code",
      "metadata": {
        "id": "kUTvp7yfut-7",
        "colab_type": "code",
        "colab": {}
      },
      "source": [
        "# trying to figure out which words are empty here\n",
        "# counter = 0\n",
        "# empty_indexes = []\n",
        "# for index, row in enumerate(embedding_matrix):\n",
        "#   if sum(row) == 0:\n",
        "#     empty_indexes.append(index)\n",
        "#     counter += 1\n",
        "#   if counter > 1000:\n",
        "#     break\n",
        "\n",
        "# for idx in empty_indexes:\n",
        "#   try:\n",
        "#     print(tokenizer.index_word[idx])\n",
        "#   except:\n",
        "#     print(\"No entry for {}\".format(idx))\n"
      ],
      "execution_count": 0,
      "outputs": []
    },
    {
      "cell_type": "code",
      "metadata": {
        "id": "UI5vn5zBSs1P",
        "colab_type": "code",
        "outputId": "1c652361-65d2-4eda-e4f8-a085d0353981",
        "colab": {
          "base_uri": "https://localhost:8080/",
          "height": 34
        }
      },
      "source": [
        "# hmmmm....\n",
        "# nonzero_elements = np.count_nonzero(np.count_nonzero(embedding_matrix, axis=1))\n",
        "# nonzero_elements / vocab_size"
      ],
      "execution_count": 0,
      "outputs": [
        {
          "output_type": "execute_result",
          "data": {
            "text/plain": [
              "0.15381079935942088"
            ]
          },
          "metadata": {
            "tags": []
          },
          "execution_count": 22
        }
      ]
    },
    {
      "cell_type": "code",
      "metadata": {
        "id": "EJtNke4FSs1X",
        "colab_type": "code",
        "outputId": "693d7929-47cf-4669-a8d3-7c38b08d7692",
        "colab": {
          "base_uri": "https://localhost:8080/",
          "height": 34
        }
      },
      "source": [
        "embedding_matrix.shape"
      ],
      "execution_count": 32,
      "outputs": [
        {
          "output_type": "execute_result",
          "data": {
            "text/plain": [
              "(547237, 100)"
            ]
          },
          "metadata": {
            "tags": []
          },
          "execution_count": 32
        }
      ]
    },
    {
      "cell_type": "code",
      "metadata": {
        "id": "tb_yr2R9Ss1d",
        "colab_type": "code",
        "outputId": "7b46d890-7cd6-4ece-f42b-fcb42cf8ad8d",
        "colab": {
          "base_uri": "https://localhost:8080/",
          "height": 512
        }
      },
      "source": [
        "model = Sequential()\n",
        "model.add(layers.Embedding(vocab_size, embedding_dim, \n",
        "                           weights=[embedding_matrix], \n",
        "                           input_length=MAX_SEQUENCE_LENGTH, \n",
        "                           trainable=False))\n",
        "model.add(layers.Conv1D(128, 5, activation='relu'))\n",
        "model.add(layers.GlobalMaxPooling1D())\n",
        "model.add(layers.Dense(10, activation='relu'))\n",
        "model.add(layers.Dense(1, activation='sigmoid'))\n",
        "model.compile(optimizer='adam',\n",
        "              loss='binary_crossentropy',\n",
        "              metrics=['accuracy'])\n",
        "model.summary()"
      ],
      "execution_count": 33,
      "outputs": [
        {
          "output_type": "stream",
          "text": [
            "WARNING:tensorflow:From /usr/local/lib/python3.6/dist-packages/tensorflow_core/python/keras/initializers.py:119: calling RandomUniform.__init__ (from tensorflow.python.ops.init_ops) with dtype is deprecated and will be removed in a future version.\n",
            "Instructions for updating:\n",
            "Call initializer instance with the dtype argument instead of passing it to the constructor\n",
            "WARNING:tensorflow:From /usr/local/lib/python3.6/dist-packages/tensorflow_core/python/ops/resource_variable_ops.py:1630: calling BaseResourceVariable.__init__ (from tensorflow.python.ops.resource_variable_ops) with constraint is deprecated and will be removed in a future version.\n",
            "Instructions for updating:\n",
            "If using Keras pass *_constraint arguments to layers.\n",
            "WARNING:tensorflow:From /usr/local/lib/python3.6/dist-packages/tensorflow_core/python/ops/nn_impl.py:183: where (from tensorflow.python.ops.array_ops) is deprecated and will be removed in a future version.\n",
            "Instructions for updating:\n",
            "Use tf.where in 2.0, which has the same broadcast rule as np.where\n",
            "Model: \"sequential\"\n",
            "_________________________________________________________________\n",
            "Layer (type)                 Output Shape              Param #   \n",
            "=================================================================\n",
            "embedding (Embedding)        (None, 50, 100)           54723700  \n",
            "_________________________________________________________________\n",
            "conv1d (Conv1D)              (None, 46, 128)           64128     \n",
            "_________________________________________________________________\n",
            "global_max_pooling1d (Global (None, 128)               0         \n",
            "_________________________________________________________________\n",
            "dense (Dense)                (None, 10)                1290      \n",
            "_________________________________________________________________\n",
            "dense_1 (Dense)              (None, 1)                 11        \n",
            "=================================================================\n",
            "Total params: 54,789,129\n",
            "Trainable params: 65,429\n",
            "Non-trainable params: 54,723,700\n",
            "_________________________________________________________________\n"
          ],
          "name": "stdout"
        }
      ]
    },
    {
      "cell_type": "code",
      "metadata": {
        "id": "U_9KWVWHAAE3",
        "colab_type": "code",
        "colab": {}
      },
      "source": [
        "smaller_X_train = X_train[:TRAINING_SET_SIZE]"
      ],
      "execution_count": 0,
      "outputs": []
    },
    {
      "cell_type": "code",
      "metadata": {
        "id": "t6gn7HvuAGgQ",
        "colab_type": "code",
        "colab": {}
      },
      "source": [
        "smaller_y_train = y_train[:TRAINING_SET_SIZE]"
      ],
      "execution_count": 0,
      "outputs": []
    },
    {
      "cell_type": "code",
      "metadata": {
        "id": "uf5R6UpGDW_y",
        "colab_type": "code",
        "colab": {}
      },
      "source": [
        "smaller_X_dev = X_test[:VAL_SET_SIZE]\n",
        "smaller_y_dev = y_dev[:VAL_SET_SIZE]"
      ],
      "execution_count": 0,
      "outputs": []
    },
    {
      "cell_type": "code",
      "metadata": {
        "id": "M4dbwlaxSs1l",
        "colab_type": "code",
        "outputId": "05ce54ea-8e24-40a8-d500-951717afdae3",
        "colab": {
          "base_uri": "https://localhost:8080/",
          "height": 844
        }
      },
      "source": [
        "try:\n",
        "  time_start = time.time()\n",
        "\n",
        "  history = model.fit(X_train, y_train,\n",
        "                      epochs=NUM_EPOCHS,\n",
        "                      verbose=True,\n",
        "                      validation_data=(smaller_X_dev, smaller_y_dev),\n",
        "                      batch_size=BATCH_SIZE)\n",
        "\n",
        "  currentTime = time.gmtime(time.time() - time_start)\n",
        "\n",
        "  #Convert the gmtime struct to a string\n",
        "  timeStr = time.strftime(\"%M minutes, %S seconds\", currentTime)\n",
        "\n",
        "  print(\"Trained in {}\".format(timeStr))\n",
        "\n",
        "except:\n",
        "  currentTime = time.gmtime(time.time() - time_start)\n",
        "\n",
        "  #Convert the gmtime struct to a string\n",
        "  timeStr = time.strftime(\"%M minutes, %S seconds\", currentTime)\n",
        "\n",
        "  print(\"Trained in {}\".format(timeStr))  "
      ],
      "execution_count": 37,
      "outputs": [
        {
          "output_type": "stream",
          "text": [
            "Train on 3721104 samples, validate on 2000000 samples\n",
            "Epoch 1/30\n",
            "3721104/3721104 [==============================] - 222s 60us/sample - loss: 0.4935 - acc: 0.7774 - val_loss: 0.4240 - val_acc: 0.8466\n",
            "Epoch 2/30\n",
            "3721104/3721104 [==============================] - 206s 55us/sample - loss: 0.4748 - acc: 0.7860 - val_loss: 0.4287 - val_acc: 0.8424\n",
            "Epoch 3/30\n",
            "3721104/3721104 [==============================] - 207s 56us/sample - loss: 0.4693 - acc: 0.7883 - val_loss: 0.4378 - val_acc: 0.8373\n",
            "Epoch 4/30\n",
            "3721104/3721104 [==============================] - 212s 57us/sample - loss: 0.4660 - acc: 0.7896 - val_loss: 0.4266 - val_acc: 0.8415\n",
            "Epoch 5/30\n",
            "3721104/3721104 [==============================] - 224s 60us/sample - loss: 0.4635 - acc: 0.7906 - val_loss: 0.4319 - val_acc: 0.8412\n",
            "Epoch 6/30\n",
            "3721104/3721104 [==============================] - 230s 62us/sample - loss: 0.4617 - acc: 0.7913 - val_loss: 0.4413 - val_acc: 0.8363\n",
            "Epoch 7/30\n",
            "3721104/3721104 [==============================] - 230s 62us/sample - loss: 0.4602 - acc: 0.7919 - val_loss: 0.4404 - val_acc: 0.8335\n",
            "Epoch 8/30\n",
            "3721104/3721104 [==============================] - 228s 61us/sample - loss: 0.4589 - acc: 0.7924 - val_loss: 0.4592 - val_acc: 0.8257\n",
            "Epoch 9/30\n",
            "3721104/3721104 [==============================] - 201s 54us/sample - loss: 0.4577 - acc: 0.7929 - val_loss: 0.4396 - val_acc: 0.8389\n",
            "Epoch 10/30\n",
            "3721104/3721104 [==============================] - 197s 53us/sample - loss: 0.4568 - acc: 0.7933 - val_loss: 0.4300 - val_acc: 0.8446\n",
            "Epoch 11/30\n",
            "3721104/3721104 [==============================] - 197s 53us/sample - loss: 0.4561 - acc: 0.7936 - val_loss: 0.4500 - val_acc: 0.8276\n",
            "Epoch 12/30\n",
            "3721104/3721104 [==============================] - 196s 53us/sample - loss: 0.4552 - acc: 0.7939 - val_loss: 0.4484 - val_acc: 0.8325\n",
            "Epoch 13/30\n",
            "3721104/3721104 [==============================] - 198s 53us/sample - loss: 0.4545 - acc: 0.7943 - val_loss: 0.4356 - val_acc: 0.8400\n",
            "Epoch 14/30\n",
            "3721104/3721104 [==============================] - 196s 53us/sample - loss: 0.4538 - acc: 0.7945 - val_loss: 0.4412 - val_acc: 0.8344\n",
            "Epoch 15/30\n",
            "3721104/3721104 [==============================] - 199s 54us/sample - loss: 0.4533 - acc: 0.7947 - val_loss: 0.4550 - val_acc: 0.8267\n",
            "Epoch 16/30\n",
            "3721104/3721104 [==============================] - 199s 53us/sample - loss: 0.4527 - acc: 0.7949 - val_loss: 0.4647 - val_acc: 0.8193\n",
            "Epoch 17/30\n",
            "3721104/3721104 [==============================] - 201s 54us/sample - loss: 0.4523 - acc: 0.7950 - val_loss: 0.4298 - val_acc: 0.8412\n",
            "Epoch 18/30\n",
            "3721104/3721104 [==============================] - 201s 54us/sample - loss: 0.4518 - acc: 0.7952 - val_loss: 0.4474 - val_acc: 0.8335\n",
            "Epoch 19/30\n",
            "3721104/3721104 [==============================] - 198s 53us/sample - loss: 0.4514 - acc: 0.7954 - val_loss: 0.4389 - val_acc: 0.8390\n",
            "Epoch 20/30\n",
            "3721104/3721104 [==============================] - 198s 53us/sample - loss: 0.4510 - acc: 0.7957 - val_loss: 0.4485 - val_acc: 0.8309\n",
            "Epoch 21/30\n",
            "3721104/3721104 [==============================] - 199s 53us/sample - loss: 0.4506 - acc: 0.7958 - val_loss: 0.4235 - val_acc: 0.8446\n",
            "Epoch 22/30\n",
            "3721104/3721104 [==============================] - 202s 54us/sample - loss: 0.4503 - acc: 0.7959 - val_loss: 0.4449 - val_acc: 0.8365\n",
            "Epoch 23/30\n",
            "3532000/3721104 [===========================>..] - ETA: 9s - loss: 0.4498 - acc: 0.7961Buffered data was truncated after reaching the output size limit."
          ],
          "name": "stdout"
        }
      ]
    },
    {
      "cell_type": "code",
      "metadata": {
        "id": "h4P5Y5wgSs1o",
        "colab_type": "code",
        "outputId": "c6c85ba0-1c0f-4243-c86a-df11ee715210",
        "colab": {
          "base_uri": "https://localhost:8080/",
          "height": 52
        }
      },
      "source": [
        "loss, accuracy = model.evaluate(X_train, y_train, verbose=False)\n",
        "print(\"Training Accuracy: {:.4f}\".format(accuracy))\n",
        "loss, accuracy = model.evaluate(X_test, y_dev, verbose=False)\n",
        "print(\"Testing Accuracy:  {:.4f}\".format(accuracy))\n"
      ],
      "execution_count": 38,
      "outputs": [
        {
          "output_type": "stream",
          "text": [
            "Training Accuracy: 0.7986\n",
            "Testing Accuracy:  0.8327\n"
          ],
          "name": "stdout"
        }
      ]
    },
    {
      "cell_type": "code",
      "metadata": {
        "id": "zZanpp-O9oiz",
        "colab_type": "code",
        "outputId": "81ac4f6f-44e1-4f13-bec8-d30bfc488000",
        "colab": {
          "base_uri": "https://localhost:8080/",
          "height": 34
        }
      },
      "source": [
        "# ROC AUC\n",
        "from sklearn.metrics import roc_auc_score\n",
        "# predict probabilities for test set\n",
        "yhat_probs = model.predict(X_test, verbose=0)\n",
        "# reduce to 1d array\n",
        "yhat_probs = yhat_probs[:,0]\n",
        "auc = roc_auc_score(y_dev, yhat_probs)\n",
        "print('ROC AUC:', auc)\n"
      ],
      "execution_count": 39,
      "outputs": [
        {
          "output_type": "stream",
          "text": [
            "ROC AUC: 0.6385719026713498\n"
          ],
          "name": "stdout"
        }
      ]
    },
    {
      "cell_type": "code",
      "metadata": {
        "id": "L5G9XjaGJh-T",
        "colab_type": "code",
        "colab": {}
      },
      "source": [
        "# can't get this to work\n",
        "plot_model(history)"
      ],
      "execution_count": 0,
      "outputs": []
    },
    {
      "cell_type": "code",
      "metadata": {
        "id": "ccL7n659KbQ-",
        "colab_type": "code",
        "colab": {}
      },
      "source": [
        "preds = yhat_probs # model.predict(X_test)"
      ],
      "execution_count": 0,
      "outputs": []
    },
    {
      "cell_type": "code",
      "metadata": {
        "id": "lhpB8QsgGMZ5",
        "colab_type": "code",
        "colab": {}
      },
      "source": [
        "dev_df['probs'] = preds"
      ],
      "execution_count": 0,
      "outputs": []
    },
    {
      "cell_type": "code",
      "metadata": {
        "id": "1T2IxdCMGf2e",
        "colab_type": "code",
        "colab": {}
      },
      "source": [
        "def pred_to_label(row):\n",
        "  if row['probs'] >= .5:\n",
        "    return 'M'\n",
        "  else:\n",
        "    return 'W'\n",
        "\n",
        "dev_df['preds'] = dev_df.apply(pred_to_label, axis=1)"
      ],
      "execution_count": 0,
      "outputs": []
    },
    {
      "cell_type": "code",
      "metadata": {
        "id": "NzbasnNWGg5J",
        "colab_type": "code",
        "colab": {}
      },
      "source": [
        "wrong_preds = dev_df[dev_df.op_gender!=dev_df.preds]"
      ],
      "execution_count": 0,
      "outputs": []
    },
    {
      "cell_type": "code",
      "metadata": {
        "id": "nAYve8ZhG7wt",
        "colab_type": "code",
        "outputId": "d0ce3cef-dc69-4548-cb49-a664d5b9530b",
        "colab": {
          "base_uri": "https://localhost:8080/",
          "height": 70
        }
      },
      "source": [
        "wrong_preds.op_gender.value_counts()"
      ],
      "execution_count": 44,
      "outputs": [
        {
          "output_type": "execute_result",
          "data": {
            "text/plain": [
              "W    271147\n",
              "M     70449\n",
              "Name: op_gender, dtype: int64"
            ]
          },
          "metadata": {
            "tags": []
          },
          "execution_count": 44
        }
      ]
    },
    {
      "cell_type": "code",
      "metadata": {
        "id": "NJJrm2LxHFzN",
        "colab_type": "code",
        "outputId": "18e67531-83e3-4e85-b734-aa0115406db6",
        "colab": {
          "base_uri": "https://localhost:8080/",
          "height": 34
        }
      },
      "source": [
        "# total proportion of preds for women\n",
        "dev_df.preds.value_counts()['W'] / len(dev_df)"
      ],
      "execution_count": 45,
      "outputs": [
        {
          "output_type": "execute_result",
          "data": {
            "text/plain": [
              "0.053850128186606394"
            ]
          },
          "metadata": {
            "tags": []
          },
          "execution_count": 45
        }
      ]
    },
    {
      "cell_type": "code",
      "metadata": {
        "id": "SxFooJUbHVUB",
        "colab_type": "code",
        "outputId": "37c82b52-b06b-4e27-d4d3-fef5476f2911",
        "colab": {
          "base_uri": "https://localhost:8080/",
          "height": 1000
        }
      },
      "source": [
        "#random sample of mistakes\n",
        "wrong_preds.head(20)"
      ],
      "execution_count": 46,
      "outputs": [
        {
          "output_type": "execute_result",
          "data": {
            "text/html": [
              "<div>\n",
              "<style scoped>\n",
              "    .dataframe tbody tr th:only-of-type {\n",
              "        vertical-align: middle;\n",
              "    }\n",
              "\n",
              "    .dataframe tbody tr th {\n",
              "        vertical-align: top;\n",
              "    }\n",
              "\n",
              "    .dataframe thead th {\n",
              "        text-align: right;\n",
              "    }\n",
              "</style>\n",
              "<table border=\"1\" class=\"dataframe\">\n",
              "  <thead>\n",
              "    <tr style=\"text-align: right;\">\n",
              "      <th></th>\n",
              "      <th>original_idx</th>\n",
              "      <th>op_id</th>\n",
              "      <th>op_gender</th>\n",
              "      <th>post_id</th>\n",
              "      <th>responder_id</th>\n",
              "      <th>response_text</th>\n",
              "      <th>op_name</th>\n",
              "      <th>op_category</th>\n",
              "      <th>split_response</th>\n",
              "      <th>probs</th>\n",
              "      <th>preds</th>\n",
              "    </tr>\n",
              "  </thead>\n",
              "  <tbody>\n",
              "    <tr>\n",
              "      <th>303581</th>\n",
              "      <td>2568116</td>\n",
              "      <td>59227815</td>\n",
              "      <td>M</td>\n",
              "      <td>63440</td>\n",
              "      <td>Susan</td>\n",
              "      <td>go jackie go jackie russo migliaccio</td>\n",
              "      <td>Paul Ryan</td>\n",
              "      <td>Congress_Republican</td>\n",
              "      <td>[go, jackie, go, jackie, russo, migliaccio]</td>\n",
              "      <td>0.044657</td>\n",
              "      <td>W</td>\n",
              "    </tr>\n",
              "    <tr>\n",
              "      <th>1973690</th>\n",
              "      <td>11023082</td>\n",
              "      <td>86569077</td>\n",
              "      <td>W</td>\n",
              "      <td>389785</td>\n",
              "      <td>Patti</td>\n",
              "      <td>everyone should remember this when it comes time to vote - especially those students of voting age.</td>\n",
              "      <td>Kirsten Gillibrand</td>\n",
              "      <td>Congress_Democratic</td>\n",
              "      <td>[everyone, should, remember, this, when, it, comes, time, to, vote, -, especially, those, studen...</td>\n",
              "      <td>0.729613</td>\n",
              "      <td>M</td>\n",
              "    </tr>\n",
              "    <tr>\n",
              "      <th>2068120</th>\n",
              "      <td>11207874</td>\n",
              "      <td>48870736</td>\n",
              "      <td>W</td>\n",
              "      <td>395569</td>\n",
              "      <td>Matthew</td>\n",
              "      <td>is this really what this congressman is wasting her time with?  i might move to minnesota just t...</td>\n",
              "      <td>Betty McCollum</td>\n",
              "      <td>Congress_Democratic</td>\n",
              "      <td>[is, this, really, what, this, congressman, is, wasting, her, time, with?, i, might, move, to, m...</td>\n",
              "      <td>0.936863</td>\n",
              "      <td>M</td>\n",
              "    </tr>\n",
              "    <tr>\n",
              "      <th>1915656</th>\n",
              "      <td>10965048</td>\n",
              "      <td>86569077</td>\n",
              "      <td>W</td>\n",
              "      <td>389341</td>\n",
              "      <td>Stacey</td>\n",
              "      <td>thank you senator.  i only hope besides the democrats that their are republicans who realize thi...</td>\n",
              "      <td>Kirsten Gillibrand</td>\n",
              "      <td>Congress_Democratic</td>\n",
              "      <td>[thank, you, senator., i, only, hope, besides, the, democrats, that, their, are, republicans, wh...</td>\n",
              "      <td>0.734139</td>\n",
              "      <td>M</td>\n",
              "    </tr>\n",
              "    <tr>\n",
              "      <th>2021709</th>\n",
              "      <td>11071101</td>\n",
              "      <td>86569077</td>\n",
              "      <td>W</td>\n",
              "      <td>390228</td>\n",
              "      <td>Gary</td>\n",
              "      <td>not really a tax cut it just extends the bush tax cuts. as much as i do not like paying taxes cu...</td>\n",
              "      <td>Kirsten Gillibrand</td>\n",
              "      <td>Congress_Democratic</td>\n",
              "      <td>[not, really, a, tax, cut, it, just, extends, the, bush, tax, cuts., as, much, as, i, do, not, l...</td>\n",
              "      <td>0.809737</td>\n",
              "      <td>M</td>\n",
              "    </tr>\n",
              "    <tr>\n",
              "      <th>2137943</th>\n",
              "      <td>11278923</td>\n",
              "      <td>77234050</td>\n",
              "      <td>W</td>\n",
              "      <td>399911</td>\n",
              "      <td>Gordon</td>\n",
              "      <td>republicans have a spending problem, but the only time they cry about spending when democrats ar...</td>\n",
              "      <td>Cathy McMorris Rodgers</td>\n",
              "      <td>Congress_Republican</td>\n",
              "      <td>[republicans, have, a, spending, problem,, but, the, only, time, they, cry, about, spending, whe...</td>\n",
              "      <td>0.722735</td>\n",
              "      <td>M</td>\n",
              "    </tr>\n",
              "    <tr>\n",
              "      <th>1925962</th>\n",
              "      <td>10975354</td>\n",
              "      <td>86569077</td>\n",
              "      <td>W</td>\n",
              "      <td>389342</td>\n",
              "      <td>Gary</td>\n",
              "      <td>sign up for the selective service act.  if not, shut up.</td>\n",
              "      <td>Kirsten Gillibrand</td>\n",
              "      <td>Congress_Democratic</td>\n",
              "      <td>[sign, up, for, the, selective, service, act., if, not,, shut, up.]</td>\n",
              "      <td>0.723485</td>\n",
              "      <td>M</td>\n",
              "    </tr>\n",
              "    <tr>\n",
              "      <th>1086539</th>\n",
              "      <td>5335593</td>\n",
              "      <td>46506154</td>\n",
              "      <td>M</td>\n",
              "      <td>161584</td>\n",
              "      <td>Tim</td>\n",
              "      <td>americans should be entitled to the best talent in this country to lead and to recover from tran...</td>\n",
              "      <td>Marco Rubio</td>\n",
              "      <td>Congress_Republican</td>\n",
              "      <td>[americans, should, be, entitled, to, the, best, talent, in, this, country, to, lead, and, to, r...</td>\n",
              "      <td>0.485492</td>\n",
              "      <td>W</td>\n",
              "    </tr>\n",
              "    <tr>\n",
              "      <th>1995396</th>\n",
              "      <td>11044788</td>\n",
              "      <td>86569077</td>\n",
              "      <td>W</td>\n",
              "      <td>390006</td>\n",
              "      <td>Mariatou</td>\n",
              "      <td>travel mercies  for your family!</td>\n",
              "      <td>Kirsten Gillibrand</td>\n",
              "      <td>Congress_Democratic</td>\n",
              "      <td>[travel, mercies, for, your, family!]</td>\n",
              "      <td>0.789316</td>\n",
              "      <td>M</td>\n",
              "    </tr>\n",
              "    <tr>\n",
              "      <th>2161028</th>\n",
              "      <td>11302008</td>\n",
              "      <td>77234050</td>\n",
              "      <td>W</td>\n",
              "      <td>400796</td>\n",
              "      <td>Ron</td>\n",
              "      <td>support.  judging by the complaining from both sides, the compromise is just about right.  @stev...</td>\n",
              "      <td>Cathy McMorris Rodgers</td>\n",
              "      <td>Congress_Republican</td>\n",
              "      <td>[support., judging, by, the, complaining, from, both, sides,, the, compromise, is, just, about, ...</td>\n",
              "      <td>0.715549</td>\n",
              "      <td>M</td>\n",
              "    </tr>\n",
              "    <tr>\n",
              "      <th>363335</th>\n",
              "      <td>2635958</td>\n",
              "      <td>46566554</td>\n",
              "      <td>M</td>\n",
              "      <td>68066</td>\n",
              "      <td>Cindy</td>\n",
              "      <td>i also agree...the longer people get unemployment benefits, the longer they stay on unemployment...</td>\n",
              "      <td>Sam Graves</td>\n",
              "      <td>Congress_Republican</td>\n",
              "      <td>[i, also, agree...the, longer, people, get, unemployment, benefits,, the, longer, they, stay, on...</td>\n",
              "      <td>0.235109</td>\n",
              "      <td>W</td>\n",
              "    </tr>\n",
              "    <tr>\n",
              "      <th>2117357</th>\n",
              "      <td>11258337</td>\n",
              "      <td>77234050</td>\n",
              "      <td>W</td>\n",
              "      <td>399671</td>\n",
              "      <td>Thomas</td>\n",
              "      <td>you are a liar!!!  http://www.salon.com/2014/01/31/gops_obamacare_fiction_series_latest_horror_s...</td>\n",
              "      <td>Cathy McMorris Rodgers</td>\n",
              "      <td>Congress_Republican</td>\n",
              "      <td>[you, are, a, liar!!!, http://www.salon.com/2014/01/31/gops_obamacare_fiction_series_latest_horr...</td>\n",
              "      <td>0.758764</td>\n",
              "      <td>M</td>\n",
              "    </tr>\n",
              "    <tr>\n",
              "      <th>2132913</th>\n",
              "      <td>11273893</td>\n",
              "      <td>77234050</td>\n",
              "      <td>W</td>\n",
              "      <td>399805</td>\n",
              "      <td>Sharon</td>\n",
              "      <td>especially since you seem to enjoy calling others out for doing the same.  defending him is not ...</td>\n",
              "      <td>Cathy McMorris Rodgers</td>\n",
              "      <td>Congress_Republican</td>\n",
              "      <td>[especially, since, you, seem, to, enjoy, calling, others, out, for, doing, the, same., defendin...</td>\n",
              "      <td>0.769044</td>\n",
              "      <td>M</td>\n",
              "    </tr>\n",
              "    <tr>\n",
              "      <th>2288200</th>\n",
              "      <td>13623865</td>\n",
              "      <td>4938109</td>\n",
              "      <td>W</td>\n",
              "      <td>528080</td>\n",
              "      <td>Jen</td>\n",
              "      <td>i implore you to reconsider your decision to boycott the inauguration ceremony of our new presid...</td>\n",
              "      <td>Yvette Clarke</td>\n",
              "      <td>Congress_Democratic</td>\n",
              "      <td>[i, implore, you, to, reconsider, your, decision, to, boycott, the, inauguration, ceremony, of, ...</td>\n",
              "      <td>0.798239</td>\n",
              "      <td>M</td>\n",
              "    </tr>\n",
              "    <tr>\n",
              "      <th>1911700</th>\n",
              "      <td>10961092</td>\n",
              "      <td>86569077</td>\n",
              "      <td>W</td>\n",
              "      <td>389337</td>\n",
              "      <td>Joanne</td>\n",
              "      <td>dear senator gillibrand: the american people who voted all of you democrat party representatives...</td>\n",
              "      <td>Kirsten Gillibrand</td>\n",
              "      <td>Congress_Democratic</td>\n",
              "      <td>[dear, senator, gillibrand:, the, american, people, who, voted, all, of, you, democrat, party, r...</td>\n",
              "      <td>0.717800</td>\n",
              "      <td>M</td>\n",
              "    </tr>\n",
              "    <tr>\n",
              "      <th>2105198</th>\n",
              "      <td>11246178</td>\n",
              "      <td>77234050</td>\n",
              "      <td>W</td>\n",
              "      <td>399410</td>\n",
              "      <td>Nick</td>\n",
              "      <td>I am not really sure how a tennessee resident (me!) ended up on your mailing list, but over the ...</td>\n",
              "      <td>Cathy McMorris Rodgers</td>\n",
              "      <td>Congress_Republican</td>\n",
              "      <td>[I, am, not, really, sure, how, a, tennessee, resident, (me!), ended, up, on, your, mailing, lis...</td>\n",
              "      <td>0.725529</td>\n",
              "      <td>M</td>\n",
              "    </tr>\n",
              "    <tr>\n",
              "      <th>1979935</th>\n",
              "      <td>11029327</td>\n",
              "      <td>86569077</td>\n",
              "      <td>W</td>\n",
              "      <td>389846</td>\n",
              "      <td>Bethany</td>\n",
              "      <td>it shows that they really do not care about people which was reiterated in the \"farm bill act\" w...</td>\n",
              "      <td>Kirsten Gillibrand</td>\n",
              "      <td>Congress_Democratic</td>\n",
              "      <td>[it, shows, that, they, really, do, not, care, about, people, which, was, reiterated, in, the, \"...</td>\n",
              "      <td>0.724021</td>\n",
              "      <td>M</td>\n",
              "    </tr>\n",
              "    <tr>\n",
              "      <th>370605</th>\n",
              "      <td>2650901</td>\n",
              "      <td>13876473</td>\n",
              "      <td>W</td>\n",
              "      <td>69628</td>\n",
              "      <td>Marianthe</td>\n",
              "      <td>ban football; it receives billions of funding as a nonprofit, pays exorbitant salaries to owners...</td>\n",
              "      <td>Carolyn Maloney</td>\n",
              "      <td>Congress_Democratic</td>\n",
              "      <td>[ban, football;, it, receives, billions, of, funding, as, a, nonprofit,, pays, exorbitant, salar...</td>\n",
              "      <td>0.682795</td>\n",
              "      <td>M</td>\n",
              "    </tr>\n",
              "    <tr>\n",
              "      <th>2075433</th>\n",
              "      <td>11216413</td>\n",
              "      <td>77234050</td>\n",
              "      <td>W</td>\n",
              "      <td>398735</td>\n",
              "      <td>Jim</td>\n",
              "      <td>i want what these pigs get work half a year me etc etc etc and so on</td>\n",
              "      <td>Cathy McMorris Rodgers</td>\n",
              "      <td>Congress_Republican</td>\n",
              "      <td>[i, want, what, these, pigs, get, work, half, a, year, me, etc, etc, etc, and, so, on]</td>\n",
              "      <td>0.756079</td>\n",
              "      <td>M</td>\n",
              "    </tr>\n",
              "    <tr>\n",
              "      <th>2125645</th>\n",
              "      <td>11266625</td>\n",
              "      <td>77234050</td>\n",
              "      <td>W</td>\n",
              "      <td>399737</td>\n",
              "      <td>Kimokeo</td>\n",
              "      <td>classic: fund backpay for furloughed workers. that makes so much sense to me. nice free vacation...</td>\n",
              "      <td>Cathy McMorris Rodgers</td>\n",
              "      <td>Congress_Republican</td>\n",
              "      <td>[classic:, fund, backpay, for, furloughed, workers., that, makes, so, much, sense, to, me., nice...</td>\n",
              "      <td>0.732866</td>\n",
              "      <td>M</td>\n",
              "    </tr>\n",
              "  </tbody>\n",
              "</table>\n",
              "</div>"
            ],
            "text/plain": [
              "         original_idx     op_id  ...     probs  preds\n",
              "303581        2568116  59227815  ...  0.044657      W\n",
              "1973690      11023082  86569077  ...  0.729613      M\n",
              "2068120      11207874  48870736  ...  0.936863      M\n",
              "1915656      10965048  86569077  ...  0.734139      M\n",
              "2021709      11071101  86569077  ...  0.809737      M\n",
              "2137943      11278923  77234050  ...  0.722735      M\n",
              "1925962      10975354  86569077  ...  0.723485      M\n",
              "1086539       5335593  46506154  ...  0.485492      W\n",
              "1995396      11044788  86569077  ...  0.789316      M\n",
              "2161028      11302008  77234050  ...  0.715549      M\n",
              "363335        2635958  46566554  ...  0.235109      W\n",
              "2117357      11258337  77234050  ...  0.758764      M\n",
              "2132913      11273893  77234050  ...  0.769044      M\n",
              "2288200      13623865   4938109  ...  0.798239      M\n",
              "1911700      10961092  86569077  ...  0.717800      M\n",
              "2105198      11246178  77234050  ...  0.725529      M\n",
              "1979935      11029327  86569077  ...  0.724021      M\n",
              "370605        2650901  13876473  ...  0.682795      M\n",
              "2075433      11216413  77234050  ...  0.756079      M\n",
              "2125645      11266625  77234050  ...  0.732866      M\n",
              "\n",
              "[20 rows x 11 columns]"
            ]
          },
          "metadata": {
            "tags": []
          },
          "execution_count": 46
        }
      ]
    },
    {
      "cell_type": "code",
      "metadata": {
        "id": "qaswseIjHc8j",
        "colab_type": "code",
        "outputId": "f41883b2-e4e5-4b53-92d5-8365938f9855",
        "colab": {
          "base_uri": "https://localhost:8080/",
          "height": 1000
        }
      },
      "source": [
        "# most confident wrong predictions where the answer was F but they thought M\n",
        "# same as before - references to a male politician \n",
        "wrong_preds.sort_values('probs', ascending=False)[:20]"
      ],
      "execution_count": 47,
      "outputs": [
        {
          "output_type": "execute_result",
          "data": {
            "text/html": [
              "<div>\n",
              "<style scoped>\n",
              "    .dataframe tbody tr th:only-of-type {\n",
              "        vertical-align: middle;\n",
              "    }\n",
              "\n",
              "    .dataframe tbody tr th {\n",
              "        vertical-align: top;\n",
              "    }\n",
              "\n",
              "    .dataframe thead th {\n",
              "        text-align: right;\n",
              "    }\n",
              "</style>\n",
              "<table border=\"1\" class=\"dataframe\">\n",
              "  <thead>\n",
              "    <tr style=\"text-align: right;\">\n",
              "      <th></th>\n",
              "      <th>original_idx</th>\n",
              "      <th>op_id</th>\n",
              "      <th>op_gender</th>\n",
              "      <th>post_id</th>\n",
              "      <th>responder_id</th>\n",
              "      <th>response_text</th>\n",
              "      <th>op_name</th>\n",
              "      <th>op_category</th>\n",
              "      <th>split_response</th>\n",
              "      <th>probs</th>\n",
              "      <th>preds</th>\n",
              "    </tr>\n",
              "  </thead>\n",
              "  <tbody>\n",
              "    <tr>\n",
              "      <th>373648</th>\n",
              "      <td>2653944</td>\n",
              "      <td>13876473</td>\n",
              "      <td>W</td>\n",
              "      <td>70257</td>\n",
              "      <td>Donald</td>\n",
              "      <td>keep the pressure on rep maloney. rep issa is a thug and jerk.</td>\n",
              "      <td>Carolyn Maloney</td>\n",
              "      <td>Congress_Democratic</td>\n",
              "      <td>[keep, the, pressure, on, rep, maloney., rep, issa, is, a, thug, and, jerk.]</td>\n",
              "      <td>0.999977</td>\n",
              "      <td>M</td>\n",
              "    </tr>\n",
              "    <tr>\n",
              "      <th>373456</th>\n",
              "      <td>2653752</td>\n",
              "      <td>13876473</td>\n",
              "      <td>W</td>\n",
              "      <td>70137</td>\n",
              "      <td>Beth</td>\n",
              "      <td>thank you rep. maloney - your wisdom in this matter is greatly appreciated byl those who appreci...</td>\n",
              "      <td>Carolyn Maloney</td>\n",
              "      <td>Congress_Democratic</td>\n",
              "      <td>[thank, you, rep., maloney, -, your, wisdom, in, this, matter, is, greatly, appreciated, byl, th...</td>\n",
              "      <td>0.999977</td>\n",
              "      <td>M</td>\n",
              "    </tr>\n",
              "    <tr>\n",
              "      <th>373466</th>\n",
              "      <td>2653762</td>\n",
              "      <td>13876473</td>\n",
              "      <td>W</td>\n",
              "      <td>70137</td>\n",
              "      <td>Frank</td>\n",
              "      <td>thank you, rep maloney!</td>\n",
              "      <td>Carolyn Maloney</td>\n",
              "      <td>Congress_Democratic</td>\n",
              "      <td>[thank, you,, rep, maloney!]</td>\n",
              "      <td>0.999973</td>\n",
              "      <td>M</td>\n",
              "    </tr>\n",
              "    <tr>\n",
              "      <th>369249</th>\n",
              "      <td>2649545</td>\n",
              "      <td>13876473</td>\n",
              "      <td>W</td>\n",
              "      <td>69492</td>\n",
              "      <td>Hannah</td>\n",
              "      <td>thank you, rep. maloney.</td>\n",
              "      <td>Carolyn Maloney</td>\n",
              "      <td>Congress_Democratic</td>\n",
              "      <td>[thank, you,, rep., maloney.]</td>\n",
              "      <td>0.999973</td>\n",
              "      <td>M</td>\n",
              "    </tr>\n",
              "    <tr>\n",
              "      <th>373401</th>\n",
              "      <td>2653697</td>\n",
              "      <td>13876473</td>\n",
              "      <td>W</td>\n",
              "      <td>70118</td>\n",
              "      <td>Jen</td>\n",
              "      <td>yes, thank you, rep. maloney!</td>\n",
              "      <td>Carolyn Maloney</td>\n",
              "      <td>Congress_Democratic</td>\n",
              "      <td>[yes,, thank, you,, rep., maloney!]</td>\n",
              "      <td>0.999963</td>\n",
              "      <td>M</td>\n",
              "    </tr>\n",
              "    <tr>\n",
              "      <th>369109</th>\n",
              "      <td>2649405</td>\n",
              "      <td>13876473</td>\n",
              "      <td>W</td>\n",
              "      <td>69489</td>\n",
              "      <td>Noel</td>\n",
              "      <td>thank you congressman maloney</td>\n",
              "      <td>Carolyn Maloney</td>\n",
              "      <td>Congress_Democratic</td>\n",
              "      <td>[thank, you, congressman, maloney]</td>\n",
              "      <td>0.999940</td>\n",
              "      <td>M</td>\n",
              "    </tr>\n",
              "    <tr>\n",
              "      <th>1951561</th>\n",
              "      <td>11000953</td>\n",
              "      <td>86569077</td>\n",
              "      <td>W</td>\n",
              "      <td>389558</td>\n",
              "      <td>Basil</td>\n",
              "      <td>thank you senator gillibrand. please do all you can to encourage other senators to do the same. ...</td>\n",
              "      <td>Kirsten Gillibrand</td>\n",
              "      <td>Congress_Democratic</td>\n",
              "      <td>[thank, you, senator, gillibrand., please, do, all, you, can, to, encourage, other, senators, to...</td>\n",
              "      <td>0.999925</td>\n",
              "      <td>M</td>\n",
              "    </tr>\n",
              "    <tr>\n",
              "      <th>1951013</th>\n",
              "      <td>11000405</td>\n",
              "      <td>86569077</td>\n",
              "      <td>W</td>\n",
              "      <td>389558</td>\n",
              "      <td>Johanna</td>\n",
              "      <td>thank you senator gillibrand I will take an attempt at peace any day.  i will have to call senat...</td>\n",
              "      <td>Kirsten Gillibrand</td>\n",
              "      <td>Congress_Democratic</td>\n",
              "      <td>[thank, you, senator, gillibrand, I, will, take, an, attempt, at, peace, any, day., i, will, hav...</td>\n",
              "      <td>0.999913</td>\n",
              "      <td>M</td>\n",
              "    </tr>\n",
              "    <tr>\n",
              "      <th>373058</th>\n",
              "      <td>2653354</td>\n",
              "      <td>13876473</td>\n",
              "      <td>W</td>\n",
              "      <td>69956</td>\n",
              "      <td>Robert</td>\n",
              "      <td>go rep. maloney!</td>\n",
              "      <td>Carolyn Maloney</td>\n",
              "      <td>Congress_Democratic</td>\n",
              "      <td>[go, rep., maloney!]</td>\n",
              "      <td>0.999905</td>\n",
              "      <td>M</td>\n",
              "    </tr>\n",
              "    <tr>\n",
              "      <th>372789</th>\n",
              "      <td>2653085</td>\n",
              "      <td>13876473</td>\n",
              "      <td>W</td>\n",
              "      <td>69837</td>\n",
              "      <td>Sylvie</td>\n",
              "      <td>you have my support, rep maloney!</td>\n",
              "      <td>Carolyn Maloney</td>\n",
              "      <td>Congress_Democratic</td>\n",
              "      <td>[you, have, my, support,, rep, maloney!]</td>\n",
              "      <td>0.999886</td>\n",
              "      <td>M</td>\n",
              "    </tr>\n",
              "    <tr>\n",
              "      <th>369235</th>\n",
              "      <td>2649531</td>\n",
              "      <td>13876473</td>\n",
              "      <td>W</td>\n",
              "      <td>69492</td>\n",
              "      <td>Bryan</td>\n",
              "      <td>yes rep maloney!</td>\n",
              "      <td>Carolyn Maloney</td>\n",
              "      <td>Congress_Democratic</td>\n",
              "      <td>[yes, rep, maloney!]</td>\n",
              "      <td>0.999873</td>\n",
              "      <td>M</td>\n",
              "    </tr>\n",
              "    <tr>\n",
              "      <th>2037883</th>\n",
              "      <td>11087275</td>\n",
              "      <td>86569077</td>\n",
              "      <td>W</td>\n",
              "      <td>390483</td>\n",
              "      <td>Leonard</td>\n",
              "      <td>thank you sen. gillibrand. also please try to talk some sense into mary landrieux.  louisiana ma...</td>\n",
              "      <td>Kirsten Gillibrand</td>\n",
              "      <td>Congress_Democratic</td>\n",
              "      <td>[thank, you, sen., gillibrand., also, please, try, to, talk, some, sense, into, mary, landrieux....</td>\n",
              "      <td>0.999851</td>\n",
              "      <td>M</td>\n",
              "    </tr>\n",
              "    <tr>\n",
              "      <th>2001592</th>\n",
              "      <td>11050984</td>\n",
              "      <td>86569077</td>\n",
              "      <td>W</td>\n",
              "      <td>390046</td>\n",
              "      <td>Reaver</td>\n",
              "      <td>stand with rand /cruz/lee</td>\n",
              "      <td>Kirsten Gillibrand</td>\n",
              "      <td>Congress_Democratic</td>\n",
              "      <td>[stand, with, rand, /cruz/lee]</td>\n",
              "      <td>0.999824</td>\n",
              "      <td>M</td>\n",
              "    </tr>\n",
              "    <tr>\n",
              "      <th>374906</th>\n",
              "      <td>3124997</td>\n",
              "      <td>23984618</td>\n",
              "      <td>W</td>\n",
              "      <td>82855</td>\n",
              "      <td>Laura</td>\n",
              "      <td>when is your next town hall?  looking forward to it. http://nymag.com/daily/intelligencer/2017/0...</td>\n",
              "      <td>Ann Wagner</td>\n",
              "      <td>Congress_Republican</td>\n",
              "      <td>[when, is, your, next, town, hall?, looking, forward, to, it., http://nymag.com/daily/intelligen...</td>\n",
              "      <td>0.999818</td>\n",
              "      <td>M</td>\n",
              "    </tr>\n",
              "    <tr>\n",
              "      <th>2108192</th>\n",
              "      <td>11249172</td>\n",
              "      <td>77234050</td>\n",
              "      <td>W</td>\n",
              "      <td>399480</td>\n",
              "      <td>Robert</td>\n",
              "      <td>thank you, randy. i have long noted that some fellow citizens will attack rep mcmorris rogers an...</td>\n",
              "      <td>Cathy McMorris Rodgers</td>\n",
              "      <td>Congress_Republican</td>\n",
              "      <td>[thank, you,, randy., i, have, long, noted, that, some, fellow, citizens, will, attack, rep, mcm...</td>\n",
              "      <td>0.999817</td>\n",
              "      <td>M</td>\n",
              "    </tr>\n",
              "    <tr>\n",
              "      <th>1922653</th>\n",
              "      <td>10972045</td>\n",
              "      <td>86569077</td>\n",
              "      <td>W</td>\n",
              "      <td>389341</td>\n",
              "      <td>Lisa</td>\n",
              "      <td>thank you senator gillibrand!!  we need fighters like you!</td>\n",
              "      <td>Kirsten Gillibrand</td>\n",
              "      <td>Congress_Democratic</td>\n",
              "      <td>[thank, you, senator, gillibrand!!, we, need, fighters, like, you!]</td>\n",
              "      <td>0.999798</td>\n",
              "      <td>M</td>\n",
              "    </tr>\n",
              "    <tr>\n",
              "      <th>1980658</th>\n",
              "      <td>11030050</td>\n",
              "      <td>86569077</td>\n",
              "      <td>W</td>\n",
              "      <td>389852</td>\n",
              "      <td>George</td>\n",
              "      <td>can we keep the senate and take back the house this fall? i sure hope so. grimes will take ky</td>\n",
              "      <td>Kirsten Gillibrand</td>\n",
              "      <td>Congress_Democratic</td>\n",
              "      <td>[can, we, keep, the, senate, and, take, back, the, house, this, fall?, i, sure, hope, so., grime...</td>\n",
              "      <td>0.999796</td>\n",
              "      <td>M</td>\n",
              "    </tr>\n",
              "    <tr>\n",
              "      <th>2135947</th>\n",
              "      <td>11276927</td>\n",
              "      <td>77234050</td>\n",
              "      <td>W</td>\n",
              "      <td>399884</td>\n",
              "      <td>Patricia</td>\n",
              "      <td>linda mchenry, friend justin amash who explains every bill he votes on and gives his reasoning f...</td>\n",
              "      <td>Cathy McMorris Rodgers</td>\n",
              "      <td>Congress_Republican</td>\n",
              "      <td>[linda, mchenry,, friend, justin, amash, who, explains, every, bill, he, votes, on, and, gives, ...</td>\n",
              "      <td>0.999791</td>\n",
              "      <td>M</td>\n",
              "    </tr>\n",
              "    <tr>\n",
              "      <th>1910342</th>\n",
              "      <td>10959734</td>\n",
              "      <td>86569077</td>\n",
              "      <td>W</td>\n",
              "      <td>389337</td>\n",
              "      <td>Nancy</td>\n",
              "      <td>thank you congressman jerry nadler!</td>\n",
              "      <td>Kirsten Gillibrand</td>\n",
              "      <td>Congress_Democratic</td>\n",
              "      <td>[thank, you, congressman, jerry, nadler!]</td>\n",
              "      <td>0.999757</td>\n",
              "      <td>M</td>\n",
              "    </tr>\n",
              "    <tr>\n",
              "      <th>2045646</th>\n",
              "      <td>11095038</td>\n",
              "      <td>86569077</td>\n",
              "      <td>W</td>\n",
              "      <td>390593</td>\n",
              "      <td>Nelle</td>\n",
              "      <td>thank you, senator gillibrand!  you rock!  too bad senator schumer did not stick up for us too!!</td>\n",
              "      <td>Kirsten Gillibrand</td>\n",
              "      <td>Congress_Democratic</td>\n",
              "      <td>[thank, you,, senator, gillibrand!, you, rock!, too, bad, senator, schumer, did, not, stick, up,...</td>\n",
              "      <td>0.999757</td>\n",
              "      <td>M</td>\n",
              "    </tr>\n",
              "  </tbody>\n",
              "</table>\n",
              "</div>"
            ],
            "text/plain": [
              "         original_idx     op_id  ...     probs  preds\n",
              "373648        2653944  13876473  ...  0.999977      M\n",
              "373456        2653752  13876473  ...  0.999977      M\n",
              "373466        2653762  13876473  ...  0.999973      M\n",
              "369249        2649545  13876473  ...  0.999973      M\n",
              "373401        2653697  13876473  ...  0.999963      M\n",
              "369109        2649405  13876473  ...  0.999940      M\n",
              "1951561      11000953  86569077  ...  0.999925      M\n",
              "1951013      11000405  86569077  ...  0.999913      M\n",
              "373058        2653354  13876473  ...  0.999905      M\n",
              "372789        2653085  13876473  ...  0.999886      M\n",
              "369235        2649531  13876473  ...  0.999873      M\n",
              "2037883      11087275  86569077  ...  0.999851      M\n",
              "2001592      11050984  86569077  ...  0.999824      M\n",
              "374906        3124997  23984618  ...  0.999818      M\n",
              "2108192      11249172  77234050  ...  0.999817      M\n",
              "1922653      10972045  86569077  ...  0.999798      M\n",
              "1980658      11030050  86569077  ...  0.999796      M\n",
              "2135947      11276927  77234050  ...  0.999791      M\n",
              "1910342      10959734  86569077  ...  0.999757      M\n",
              "2045646      11095038  86569077  ...  0.999757      M\n",
              "\n",
              "[20 rows x 11 columns]"
            ]
          },
          "metadata": {
            "tags": []
          },
          "execution_count": 47
        }
      ]
    },
    {
      "cell_type": "code",
      "metadata": {
        "id": "KoJzrEOfIct2",
        "colab_type": "code",
        "outputId": "f4febbe7-866c-4580-a25c-494161b11265",
        "colab": {
          "base_uri": "https://localhost:8080/",
          "height": 1000
        }
      },
      "source": [
        "# most confident wrong predictions where the answer was F but they thought M\n",
        "# same as before - references to a male politician \n",
        "wrong_preds.sort_values('probs', ascending=True)[:20]"
      ],
      "execution_count": 48,
      "outputs": [
        {
          "output_type": "execute_result",
          "data": {
            "text/html": [
              "<div>\n",
              "<style scoped>\n",
              "    .dataframe tbody tr th:only-of-type {\n",
              "        vertical-align: middle;\n",
              "    }\n",
              "\n",
              "    .dataframe tbody tr th {\n",
              "        vertical-align: top;\n",
              "    }\n",
              "\n",
              "    .dataframe thead th {\n",
              "        text-align: right;\n",
              "    }\n",
              "</style>\n",
              "<table border=\"1\" class=\"dataframe\">\n",
              "  <thead>\n",
              "    <tr style=\"text-align: right;\">\n",
              "      <th></th>\n",
              "      <th>original_idx</th>\n",
              "      <th>op_id</th>\n",
              "      <th>op_gender</th>\n",
              "      <th>post_id</th>\n",
              "      <th>responder_id</th>\n",
              "      <th>response_text</th>\n",
              "      <th>op_name</th>\n",
              "      <th>op_category</th>\n",
              "      <th>split_response</th>\n",
              "      <th>probs</th>\n",
              "      <th>preds</th>\n",
              "    </tr>\n",
              "  </thead>\n",
              "  <tbody>\n",
              "    <tr>\n",
              "      <th>887235</th>\n",
              "      <td>5136289</td>\n",
              "      <td>46506154</td>\n",
              "      <td>M</td>\n",
              "      <td>160981</td>\n",
              "      <td>Sven</td>\n",
              "      <td>trash scott brown all you want, but he is infinitely better in the senate than jeanne shaheen. j...</td>\n",
              "      <td>Marco Rubio</td>\n",
              "      <td>Congress_Republican</td>\n",
              "      <td>[trash, scott, brown, all, you, want,, but, he, is, infinitely, better, in, the, senate, than, j...</td>\n",
              "      <td>0.000005</td>\n",
              "      <td>W</td>\n",
              "    </tr>\n",
              "    <tr>\n",
              "      <th>888623</th>\n",
              "      <td>5137677</td>\n",
              "      <td>46506154</td>\n",
              "      <td>M</td>\n",
              "      <td>160997</td>\n",
              "      <td>Adam</td>\n",
              "      <td>lmao at the libs on here!!!  to much obama kool aid you drank in the past.  here in iowa joni ha...</td>\n",
              "      <td>Marco Rubio</td>\n",
              "      <td>Congress_Republican</td>\n",
              "      <td>[lmao, at, the, libs, on, here!!!, to, much, obama, kool, aid, you, drank, in, the, past., here,...</td>\n",
              "      <td>0.000014</td>\n",
              "      <td>W</td>\n",
              "    </tr>\n",
              "    <tr>\n",
              "      <th>1870185</th>\n",
              "      <td>10903113</td>\n",
              "      <td>10458808</td>\n",
              "      <td>M</td>\n",
              "      <td>385776</td>\n",
              "      <td>Hannah</td>\n",
              "      <td>i see tulsi!</td>\n",
              "      <td>Mark Takano</td>\n",
              "      <td>Congress_Democratic</td>\n",
              "      <td>[i, see, tulsi!]</td>\n",
              "      <td>0.000039</td>\n",
              "      <td>W</td>\n",
              "    </tr>\n",
              "    <tr>\n",
              "      <th>536045</th>\n",
              "      <td>4785099</td>\n",
              "      <td>46506154</td>\n",
              "      <td>M</td>\n",
              "      <td>159974</td>\n",
              "      <td>Jim</td>\n",
              "      <td>the us chamber of commerce says if you vote for trump, you should elect a democrat for the senat...</td>\n",
              "      <td>Marco Rubio</td>\n",
              "      <td>Congress_Republican</td>\n",
              "      <td>[the, us, chamber, of, commerce, says, if, you, vote, for, trump,, you, should, elect, a, democr...</td>\n",
              "      <td>0.000042</td>\n",
              "      <td>W</td>\n",
              "    </tr>\n",
              "    <tr>\n",
              "      <th>1855248</th>\n",
              "      <td>10888176</td>\n",
              "      <td>10458808</td>\n",
              "      <td>M</td>\n",
              "      <td>385767</td>\n",
              "      <td>Karen</td>\n",
              "      <td>thank you representative esty, for fighting this fight for years!</td>\n",
              "      <td>Mark Takano</td>\n",
              "      <td>Congress_Democratic</td>\n",
              "      <td>[thank, you, representative, esty,, for, fighting, this, fight, for, years!]</td>\n",
              "      <td>0.000044</td>\n",
              "      <td>W</td>\n",
              "    </tr>\n",
              "    <tr>\n",
              "      <th>226949</th>\n",
              "      <td>2403701</td>\n",
              "      <td>62246450</td>\n",
              "      <td>M</td>\n",
              "      <td>52863</td>\n",
              "      <td>Bryce</td>\n",
              "      <td>good luck congresswomen suzanne bonamici, we are pulling for you to be a champion for oregon's f...</td>\n",
              "      <td>Ron Wyden</td>\n",
              "      <td>Congress_Democratic</td>\n",
              "      <td>[good, luck, congresswomen, suzanne, bonamici,, we, are, pulling, for, you, to, be, a, champion,...</td>\n",
              "      <td>0.000052</td>\n",
              "      <td>W</td>\n",
              "    </tr>\n",
              "    <tr>\n",
              "      <th>889876</th>\n",
              "      <td>5138930</td>\n",
              "      <td>46506154</td>\n",
              "      <td>M</td>\n",
              "      <td>161005</td>\n",
              "      <td>Laurie</td>\n",
              "      <td>saw them tonight ...they were great! go scott! cannot wait to vote for you in 4 weeks; send shah...</td>\n",
              "      <td>Marco Rubio</td>\n",
              "      <td>Congress_Republican</td>\n",
              "      <td>[saw, them, tonight, ...they, were, great!, go, scott!, cannot, wait, to, vote, for, you, in, 4,...</td>\n",
              "      <td>0.000052</td>\n",
              "      <td>W</td>\n",
              "    </tr>\n",
              "    <tr>\n",
              "      <th>197830</th>\n",
              "      <td>2374582</td>\n",
              "      <td>62246450</td>\n",
              "      <td>M</td>\n",
              "      <td>52667</td>\n",
              "      <td>Darrell</td>\n",
              "      <td>tensions are running high between debbie wasserman schultz and tulsi gabbard. the democratic deb...</td>\n",
              "      <td>Ron Wyden</td>\n",
              "      <td>Congress_Democratic</td>\n",
              "      <td>[tensions, are, running, high, between, debbie, wasserman, schultz, and, tulsi, gabbard., the, d...</td>\n",
              "      <td>0.000070</td>\n",
              "      <td>W</td>\n",
              "    </tr>\n",
              "    <tr>\n",
              "      <th>1887369</th>\n",
              "      <td>10920297</td>\n",
              "      <td>10458808</td>\n",
              "      <td>M</td>\n",
              "      <td>386070</td>\n",
              "      <td>Stephen</td>\n",
              "      <td>yes yes yes. kamala.  you have always been there for us!!!  fantastic!</td>\n",
              "      <td>Mark Takano</td>\n",
              "      <td>Congress_Democratic</td>\n",
              "      <td>[yes, yes, yes., kamala., you, have, always, been, there, for, us!!!, fantastic!]</td>\n",
              "      <td>0.000091</td>\n",
              "      <td>W</td>\n",
              "    </tr>\n",
              "    <tr>\n",
              "      <th>303931</th>\n",
              "      <td>2568466</td>\n",
              "      <td>59227815</td>\n",
              "      <td>M</td>\n",
              "      <td>63440</td>\n",
              "      <td>Harvetta</td>\n",
              "      <td>how about the emolument clause of the constitution where it saids that no one will accept foreig...</td>\n",
              "      <td>Paul Ryan</td>\n",
              "      <td>Congress_Republican</td>\n",
              "      <td>[how, about, the, emolument, clause, of, the, constitution, where, it, saids, that, no, one, wil...</td>\n",
              "      <td>0.000100</td>\n",
              "      <td>W</td>\n",
              "    </tr>\n",
              "    <tr>\n",
              "      <th>1099796</th>\n",
              "      <td>5348850</td>\n",
              "      <td>46506154</td>\n",
              "      <td>M</td>\n",
              "      <td>161705</td>\n",
              "      <td>Sarah</td>\n",
              "      <td>I am not even in florida (from wa) and I am so happy for you!  i wish that you had been running ...</td>\n",
              "      <td>Marco Rubio</td>\n",
              "      <td>Congress_Republican</td>\n",
              "      <td>[I, am, not, even, in, florida, (from, wa), and, I, am, so, happy, for, you!, i, wish, that, you...</td>\n",
              "      <td>0.000113</td>\n",
              "      <td>W</td>\n",
              "    </tr>\n",
              "    <tr>\n",
              "      <th>181521</th>\n",
              "      <td>2358273</td>\n",
              "      <td>62246450</td>\n",
              "      <td>M</td>\n",
              "      <td>52502</td>\n",
              "      <td>Annie</td>\n",
              "      <td>keep going elizabeth! we support you!</td>\n",
              "      <td>Ron Wyden</td>\n",
              "      <td>Congress_Democratic</td>\n",
              "      <td>[keep, going, elizabeth!, we, support, you!]</td>\n",
              "      <td>0.000126</td>\n",
              "      <td>W</td>\n",
              "    </tr>\n",
              "    <tr>\n",
              "      <th>1852153</th>\n",
              "      <td>10885081</td>\n",
              "      <td>10458808</td>\n",
              "      <td>M</td>\n",
              "      <td>385764</td>\n",
              "      <td>Ben</td>\n",
              "      <td>thank you maxine for keeping them here last night</td>\n",
              "      <td>Mark Takano</td>\n",
              "      <td>Congress_Democratic</td>\n",
              "      <td>[thank, you, maxine, for, keeping, them, here, last, night]</td>\n",
              "      <td>0.000127</td>\n",
              "      <td>W</td>\n",
              "    </tr>\n",
              "    <tr>\n",
              "      <th>1667284</th>\n",
              "      <td>10169799</td>\n",
              "      <td>76267383</td>\n",
              "      <td>M</td>\n",
              "      <td>374064</td>\n",
              "      <td>Mary</td>\n",
              "      <td>god bless you elizabeth!  you are an inspiration!</td>\n",
              "      <td>Keith Rothfus</td>\n",
              "      <td>Congress_Republican</td>\n",
              "      <td>[god, bless, you, elizabeth!, you, are, an, inspiration!]</td>\n",
              "      <td>0.000139</td>\n",
              "      <td>W</td>\n",
              "    </tr>\n",
              "    <tr>\n",
              "      <th>1861625</th>\n",
              "      <td>10894553</td>\n",
              "      <td>10458808</td>\n",
              "      <td>M</td>\n",
              "      <td>385773</td>\n",
              "      <td>Kyle</td>\n",
              "      <td>rep. debbie dingell</td>\n",
              "      <td>Mark Takano</td>\n",
              "      <td>Congress_Democratic</td>\n",
              "      <td>[rep., debbie, dingell]</td>\n",
              "      <td>0.000142</td>\n",
              "      <td>W</td>\n",
              "    </tr>\n",
              "    <tr>\n",
              "      <th>912479</th>\n",
              "      <td>5161533</td>\n",
              "      <td>46506154</td>\n",
              "      <td>M</td>\n",
              "      <td>161121</td>\n",
              "      <td>Cheryl</td>\n",
              "      <td>love marco rubio, good luck joni!!!</td>\n",
              "      <td>Marco Rubio</td>\n",
              "      <td>Congress_Republican</td>\n",
              "      <td>[love, marco, rubio,, good, luck, joni!!!]</td>\n",
              "      <td>0.000158</td>\n",
              "      <td>W</td>\n",
              "    </tr>\n",
              "    <tr>\n",
              "      <th>887546</th>\n",
              "      <td>5136600</td>\n",
              "      <td>46506154</td>\n",
              "      <td>M</td>\n",
              "      <td>160986</td>\n",
              "      <td>Kim</td>\n",
              "      <td>good luck joni...................jan</td>\n",
              "      <td>Marco Rubio</td>\n",
              "      <td>Congress_Republican</td>\n",
              "      <td>[good, luck, joni...................jan]</td>\n",
              "      <td>0.000166</td>\n",
              "      <td>W</td>\n",
              "    </tr>\n",
              "    <tr>\n",
              "      <th>912465</th>\n",
              "      <td>5161519</td>\n",
              "      <td>46506154</td>\n",
              "      <td>M</td>\n",
              "      <td>161121</td>\n",
              "      <td>Clark</td>\n",
              "      <td>go joni go!</td>\n",
              "      <td>Marco Rubio</td>\n",
              "      <td>Congress_Republican</td>\n",
              "      <td>[go, joni, go!]</td>\n",
              "      <td>0.000209</td>\n",
              "      <td>W</td>\n",
              "    </tr>\n",
              "    <tr>\n",
              "      <th>912485</th>\n",
              "      <td>5161539</td>\n",
              "      <td>46506154</td>\n",
              "      <td>M</td>\n",
              "      <td>161121</td>\n",
              "      <td>Marian</td>\n",
              "      <td>go joni, go.</td>\n",
              "      <td>Marco Rubio</td>\n",
              "      <td>Congress_Republican</td>\n",
              "      <td>[go, joni,, go.]</td>\n",
              "      <td>0.000209</td>\n",
              "      <td>W</td>\n",
              "    </tr>\n",
              "    <tr>\n",
              "      <th>912793</th>\n",
              "      <td>5161847</td>\n",
              "      <td>46506154</td>\n",
              "      <td>M</td>\n",
              "      <td>161125</td>\n",
              "      <td>Timothy</td>\n",
              "      <td>I am with you all the way joni keep up the conservative fight</td>\n",
              "      <td>Marco Rubio</td>\n",
              "      <td>Congress_Republican</td>\n",
              "      <td>[I, am, with, you, all, the, way, joni, keep, up, the, conservative, fight]</td>\n",
              "      <td>0.000247</td>\n",
              "      <td>W</td>\n",
              "    </tr>\n",
              "  </tbody>\n",
              "</table>\n",
              "</div>"
            ],
            "text/plain": [
              "         original_idx     op_id  ...     probs  preds\n",
              "887235        5136289  46506154  ...  0.000005      W\n",
              "888623        5137677  46506154  ...  0.000014      W\n",
              "1870185      10903113  10458808  ...  0.000039      W\n",
              "536045        4785099  46506154  ...  0.000042      W\n",
              "1855248      10888176  10458808  ...  0.000044      W\n",
              "226949        2403701  62246450  ...  0.000052      W\n",
              "889876        5138930  46506154  ...  0.000052      W\n",
              "197830        2374582  62246450  ...  0.000070      W\n",
              "1887369      10920297  10458808  ...  0.000091      W\n",
              "303931        2568466  59227815  ...  0.000100      W\n",
              "1099796       5348850  46506154  ...  0.000113      W\n",
              "181521        2358273  62246450  ...  0.000126      W\n",
              "1852153      10885081  10458808  ...  0.000127      W\n",
              "1667284      10169799  76267383  ...  0.000139      W\n",
              "1861625      10894553  10458808  ...  0.000142      W\n",
              "912479        5161533  46506154  ...  0.000158      W\n",
              "887546        5136600  46506154  ...  0.000166      W\n",
              "912465        5161519  46506154  ...  0.000209      W\n",
              "912485        5161539  46506154  ...  0.000209      W\n",
              "912793        5161847  46506154  ...  0.000247      W\n",
              "\n",
              "[20 rows x 11 columns]"
            ]
          },
          "metadata": {
            "tags": []
          },
          "execution_count": 48
        }
      ]
    }
  ]
}
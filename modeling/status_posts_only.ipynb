{
  "nbformat": 4,
  "nbformat_minor": 0,
  "metadata": {
    "kernelspec": {
      "name": "python3",
      "display_name": "Python 3"
    },
    "language_info": {
      "codemirror_mode": {
        "name": "ipython",
        "version": 3
      },
      "file_extension": ".py",
      "mimetype": "text/x-python",
      "name": "python",
      "nbconvert_exporter": "python",
      "pygments_lexer": "ipython3",
      "version": "3.7.4"
    },
    "colab": {
      "name": "CNN_Status_only.ipynb",
      "provenance": [],
      "machine_shape": "hm",
      "include_colab_link": true
    },
    "accelerator": "TPU"
  },
  "cells": [
    {
      "cell_type": "markdown",
      "metadata": {
        "id": "view-in-github",
        "colab_type": "text"
      },
      "source": [
        "<a href=\"https://colab.research.google.com/github/emrapport/w266-final-project/blob/master/modeling/status_posts_only.ipynb\" target=\"_parent\"><img src=\"https://colab.research.google.com/assets/colab-badge.svg\" alt=\"Open In Colab\"/></a>"
      ]
    },
    {
      "cell_type": "markdown",
      "metadata": {
        "id": "ldVKPuCY1oqk",
        "colab_type": "text"
      },
      "source": [
        "## Looking at responses to just Status posts\n",
        "\n"
      ]
    },
    {
      "cell_type": "code",
      "metadata": {
        "id": "dJtCeCgbSs0D",
        "colab_type": "code",
        "colab": {}
      },
      "source": [
        "# this notebook is based off of this blog post: \n",
        "# https://realpython.com/python-keras-text-classification/#reader-comments"
      ],
      "execution_count": 0,
      "outputs": []
    },
    {
      "cell_type": "code",
      "metadata": {
        "id": "_QYIGfoPFRZK",
        "colab_type": "code",
        "colab": {}
      },
      "source": [
        "DATASET_NAME = \"status_posts\"\n",
        "MODEL_NAME = \"status_posts\"\n",
        "MAX_SEQ_LENGTH = 20\n",
        "TRAINING_SET_SIZE = 4000000\n",
        "VAL_SET_SIZE = 2000000\n",
        "NUM_EPOCHS = 20\n",
        "BATCH_SIZE = 1000\n",
        "MAX_SEQUENCE_LENGTH = 20\n",
        "\n",
        "\n",
        "# I don't think we have a good reason to do this right now\n",
        "# but we might eventually \n",
        "SAVE_TOKENIZED_DATA = False"
      ],
      "execution_count": 0,
      "outputs": []
    },
    {
      "cell_type": "code",
      "metadata": {
        "id": "l0rrZSx7Ss0M",
        "colab_type": "code",
        "outputId": "19944215-4db0-4def-f776-d4ceeb503e4e",
        "colab": {
          "base_uri": "https://localhost:8080/",
          "height": 476
        }
      },
      "source": [
        "from sklearn.linear_model import LogisticRegression\n",
        "from sklearn.feature_extraction.text import HashingVectorizer\n",
        "from scipy.sparse import hstack, vstack\n",
        "from keras.preprocessing.text import Tokenizer\n",
        "from tensorflow.keras import Sequential, layers\n",
        "from keras.utils import plot_model\n",
        "import pandas as pd\n",
        "import numpy as np\n",
        "import copy\n",
        "import time\n",
        "import pickle\n",
        "!pip install gcsfs\n",
        "\n",
        "pd.set_option('max_colwidth', 100)"
      ],
      "execution_count": 0,
      "outputs": [
        {
          "output_type": "stream",
          "text": [
            "Using TensorFlow backend.\n"
          ],
          "name": "stderr"
        },
        {
          "output_type": "stream",
          "text": [
            "Collecting gcsfs\n",
            "\u001b[?25l  Downloading https://files.pythonhosted.org/packages/ab/92/0297f2813cb240c52e90f8587420149970565800e019e1b08ef5ad28b6d9/gcsfs-0.3.1.tar.gz (43kB)\n",
            "\r\u001b[K     |███████▋                        | 10kB 22.4MB/s eta 0:00:01\r\u001b[K     |███████████████▏                | 20kB 2.2MB/s eta 0:00:01\r\u001b[K     |██████████████████████▊         | 30kB 3.2MB/s eta 0:00:01\r\u001b[K     |██████████████████████████████▎ | 40kB 2.1MB/s eta 0:00:01\r\u001b[K     |████████████████████████████████| 51kB 2.1MB/s \n",
            "\u001b[?25hRequirement already satisfied: google-auth>=1.2 in /usr/local/lib/python3.6/dist-packages (from gcsfs) (1.4.2)\n",
            "Requirement already satisfied: google-auth-oauthlib in /usr/local/lib/python3.6/dist-packages (from gcsfs) (0.4.1)\n",
            "Requirement already satisfied: requests in /usr/local/lib/python3.6/dist-packages (from gcsfs) (2.21.0)\n",
            "Requirement already satisfied: decorator in /usr/local/lib/python3.6/dist-packages (from gcsfs) (4.4.1)\n",
            "Requirement already satisfied: fsspec>=0.2.2 in /usr/local/lib/python3.6/dist-packages (from gcsfs) (0.5.2)\n",
            "Requirement already satisfied: rsa>=3.1.4 in /usr/local/lib/python3.6/dist-packages (from google-auth>=1.2->gcsfs) (4.0)\n",
            "Requirement already satisfied: six>=1.9.0 in /usr/local/lib/python3.6/dist-packages (from google-auth>=1.2->gcsfs) (1.12.0)\n",
            "Requirement already satisfied: pyasn1-modules>=0.2.1 in /usr/local/lib/python3.6/dist-packages (from google-auth>=1.2->gcsfs) (0.2.7)\n",
            "Requirement already satisfied: cachetools>=2.0.0 in /usr/local/lib/python3.6/dist-packages (from google-auth>=1.2->gcsfs) (3.1.1)\n",
            "Requirement already satisfied: requests-oauthlib>=0.7.0 in /usr/local/lib/python3.6/dist-packages (from google-auth-oauthlib->gcsfs) (1.2.0)\n",
            "Requirement already satisfied: idna<2.9,>=2.5 in /usr/local/lib/python3.6/dist-packages (from requests->gcsfs) (2.8)\n",
            "Requirement already satisfied: certifi>=2017.4.17 in /usr/local/lib/python3.6/dist-packages (from requests->gcsfs) (2019.9.11)\n",
            "Requirement already satisfied: urllib3<1.25,>=1.21.1 in /usr/local/lib/python3.6/dist-packages (from requests->gcsfs) (1.24.3)\n",
            "Requirement already satisfied: chardet<3.1.0,>=3.0.2 in /usr/local/lib/python3.6/dist-packages (from requests->gcsfs) (3.0.4)\n",
            "Requirement already satisfied: pyasn1>=0.1.3 in /usr/local/lib/python3.6/dist-packages (from rsa>=3.1.4->google-auth>=1.2->gcsfs) (0.4.7)\n",
            "Requirement already satisfied: oauthlib>=3.0.0 in /usr/local/lib/python3.6/dist-packages (from requests-oauthlib>=0.7.0->google-auth-oauthlib->gcsfs) (3.1.0)\n",
            "Building wheels for collected packages: gcsfs\n",
            "  Building wheel for gcsfs (setup.py) ... \u001b[?25l\u001b[?25hdone\n",
            "  Created wheel for gcsfs: filename=gcsfs-0.3.1-py2.py3-none-any.whl size=17936 sha256=07ef382f7f0feec8c362ddedd6419660795a7844c793b3daead74fcbfc29a864\n",
            "  Stored in directory: /root/.cache/pip/wheels/9d/2b/6f/86954f0d8caa1173841e62bb780dc0f8693bd268e04a267682\n",
            "Successfully built gcsfs\n",
            "Installing collected packages: gcsfs\n",
            "Successfully installed gcsfs-0.3.1\n"
          ],
          "name": "stdout"
        }
      ]
    },
    {
      "cell_type": "code",
      "metadata": {
        "id": "lKNfUKrfUgP-",
        "colab_type": "code",
        "outputId": "0ed580e3-5d28-4f7a-a74a-cb294679e874",
        "colab": {
          "base_uri": "https://localhost:8080/",
          "height": 170
        }
      },
      "source": [
        "# this cell is only necessary if running in colab\n",
        "project_id = 'w266-251323'\n",
        "import uuid\n",
        "bucket_name = 'fb-congressional-data/'\n",
        "from google.colab import auth\n",
        "auth.authenticate_user()\n",
        "!gcloud config set project {project_id}"
      ],
      "execution_count": 0,
      "outputs": [
        {
          "output_type": "stream",
          "text": [
            "WARNING:tensorflow:\n",
            "The TensorFlow contrib module will not be included in TensorFlow 2.0.\n",
            "For more information, please see:\n",
            "  * https://github.com/tensorflow/community/blob/master/rfcs/20180907-contrib-sunset.md\n",
            "  * https://github.com/tensorflow/addons\n",
            "  * https://github.com/tensorflow/io (for I/O related ops)\n",
            "If you depend on functionality not listed there, please file an issue.\n",
            "\n",
            "Updated property [core/project].\n"
          ],
          "name": "stdout"
        }
      ]
    },
    {
      "cell_type": "code",
      "metadata": {
        "id": "3jX0p23Y0L6H",
        "colab_type": "code",
        "outputId": "0655c714-c7b7-4d0e-89da-84ae20f01715",
        "colab": {
          "resources": {
            "http://localhost:8080/nbextensions/google.colab/files.js": {
              "data": "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",
              "ok": true,
              "headers": [
                [
                  "content-type",
                  "application/javascript"
                ]
              ],
              "status": 200,
              "status_text": ""
            }
          },
          "base_uri": "https://localhost:8080/",
          "height": 74
        }
      },
      "source": [
        "from google.colab import files \n",
        "uploaded = files.upload() \n"
      ],
      "execution_count": 0,
      "outputs": [
        {
          "output_type": "display_data",
          "data": {
            "text/html": [
              "\n",
              "     <input type=\"file\" id=\"files-acfb091c-42f4-4e3b-becb-8fe3609c9329\" name=\"files[]\" multiple disabled />\n",
              "     <output id=\"result-acfb091c-42f4-4e3b-becb-8fe3609c9329\">\n",
              "      Upload widget is only available when the cell has been executed in the\n",
              "      current browser session. Please rerun this cell to enable.\n",
              "      </output>\n",
              "      <script src=\"/nbextensions/google.colab/files.js\"></script> "
            ],
            "text/plain": [
              "<IPython.core.display.HTML object>"
            ]
          },
          "metadata": {
            "tags": []
          }
        },
        {
          "output_type": "stream",
          "text": [
            "Saving facebook_congress_posts.csv to facebook_congress_posts.csv\n"
          ],
          "name": "stdout"
        }
      ]
    },
    {
      "cell_type": "code",
      "metadata": {
        "id": "n39QIh560a_x",
        "colab_type": "code",
        "colab": {}
      },
      "source": [
        "import io \n",
        "posts = pd.read_csv(io.BytesIO(uploaded['facebook_congress_posts.csv'])) \n"
      ],
      "execution_count": 0,
      "outputs": []
    },
    {
      "cell_type": "code",
      "metadata": {
        "id": "DvcBrgGG4CFz",
        "colab_type": "code",
        "outputId": "c814d695-ce6d-44c2-db0c-155b842fd852",
        "colab": {
          "base_uri": "https://localhost:8080/",
          "height": 204
        }
      },
      "source": [
        "status_posts = posts[posts['post_type']=='status']\n",
        "status_posts.head()"
      ],
      "execution_count": 0,
      "outputs": [
        {
          "output_type": "execute_result",
          "data": {
            "text/html": [
              "<div>\n",
              "<style scoped>\n",
              "    .dataframe tbody tr th:only-of-type {\n",
              "        vertical-align: middle;\n",
              "    }\n",
              "\n",
              "    .dataframe tbody tr th {\n",
              "        vertical-align: top;\n",
              "    }\n",
              "\n",
              "    .dataframe thead th {\n",
              "        text-align: right;\n",
              "    }\n",
              "</style>\n",
              "<table border=\"1\" class=\"dataframe\">\n",
              "  <thead>\n",
              "    <tr style=\"text-align: right;\">\n",
              "      <th></th>\n",
              "      <th>op_id</th>\n",
              "      <th>op_gender</th>\n",
              "      <th>post_id</th>\n",
              "      <th>post_text</th>\n",
              "      <th>post_type</th>\n",
              "    </tr>\n",
              "  </thead>\n",
              "  <tbody>\n",
              "    <tr>\n",
              "      <th>8</th>\n",
              "      <td>57265377</td>\n",
              "      <td>M</td>\n",
              "      <td>8</td>\n",
              "      <td>President Trump has just nominated judge Neil Gorsuch to the Supreme Court. His strong academic ...</td>\n",
              "      <td>status</td>\n",
              "    </tr>\n",
              "    <tr>\n",
              "      <th>13</th>\n",
              "      <td>57265377</td>\n",
              "      <td>M</td>\n",
              "      <td>13</td>\n",
              "      <td>I'll be joining The Sean Hannity Show from the GOP policy retreat in Philadelphia at 3:30pm CT. ...</td>\n",
              "      <td>status</td>\n",
              "    </tr>\n",
              "    <tr>\n",
              "      <th>171</th>\n",
              "      <td>57265377</td>\n",
              "      <td>M</td>\n",
              "      <td>171</td>\n",
              "      <td>I salute my friend, Ted Cruz on standing strong for conservatism and running a campaign founded ...</td>\n",
              "      <td>status</td>\n",
              "    </tr>\n",
              "    <tr>\n",
              "      <th>230</th>\n",
              "      <td>57265377</td>\n",
              "      <td>M</td>\n",
              "      <td>230</td>\n",
              "      <td>Happy to be at #CPAC in Washington D.C. We'll be broadcasting LIVE in 15 minutes! Stay tuned.</td>\n",
              "      <td>status</td>\n",
              "    </tr>\n",
              "    <tr>\n",
              "      <th>252</th>\n",
              "      <td>57265377</td>\n",
              "      <td>M</td>\n",
              "      <td>252</td>\n",
              "      <td>No one fought harder for strict constructionism than Antonin Scalia. As a jurist, he was profoun...</td>\n",
              "      <td>status</td>\n",
              "    </tr>\n",
              "  </tbody>\n",
              "</table>\n",
              "</div>"
            ],
            "text/plain": [
              "        op_id  ... post_type\n",
              "8    57265377  ...    status\n",
              "13   57265377  ...    status\n",
              "171  57265377  ...    status\n",
              "230  57265377  ...    status\n",
              "252  57265377  ...    status\n",
              "\n",
              "[5 rows x 5 columns]"
            ]
          },
          "metadata": {
            "tags": []
          },
          "execution_count": 7
        }
      ]
    },
    {
      "cell_type": "code",
      "metadata": {
        "id": "tvs2_Pxh4Jtm",
        "colab_type": "code",
        "colab": {}
      },
      "source": [
        "status_post_ids = status_posts['post_id'].to_list()"
      ],
      "execution_count": 0,
      "outputs": []
    },
    {
      "cell_type": "code",
      "metadata": {
        "id": "9T7PzdLQSs0j",
        "colab_type": "code",
        "outputId": "9f73726a-a331-4963-ffb0-22d6279698b8",
        "colab": {
          "base_uri": "https://localhost:8080/",
          "height": 51
        }
      },
      "source": [
        "train_df = pd.read_csv(\"gs://fb-congressional-data/contraction_expanded_data/train.csv\", index_col=0)"
      ],
      "execution_count": 0,
      "outputs": [
        {
          "output_type": "stream",
          "text": [
            "/usr/local/lib/python3.6/dist-packages/numpy/lib/arraysetops.py:568: FutureWarning: elementwise comparison failed; returning scalar instead, but in the future will perform elementwise comparison\n",
            "  mask |= (ar1 == a)\n"
          ],
          "name": "stderr"
        }
      ]
    },
    {
      "cell_type": "code",
      "metadata": {
        "id": "0iOniVLISs0m",
        "colab_type": "code",
        "outputId": "cf0b1ae2-7482-4faf-cf8e-f1d3635d744d",
        "colab": {
          "base_uri": "https://localhost:8080/",
          "height": 51
        }
      },
      "source": [
        "dev_df = pd.read_csv(\"gs://fb-congressional-data/contraction_expanded_data/dev.csv\", index_col=0)"
      ],
      "execution_count": 0,
      "outputs": [
        {
          "output_type": "stream",
          "text": [
            "/usr/local/lib/python3.6/dist-packages/numpy/lib/arraysetops.py:568: FutureWarning: elementwise comparison failed; returning scalar instead, but in the future will perform elementwise comparison\n",
            "  mask |= (ar1 == a)\n"
          ],
          "name": "stderr"
        }
      ]
    },
    {
      "cell_type": "code",
      "metadata": {
        "id": "bwNu4VTq46QG",
        "colab_type": "code",
        "colab": {}
      },
      "source": [
        "train_df = train_df[train_df['post_id'].isin(status_post_ids)]\n",
        "dev_df = dev_df[dev_df['post_id'].isin(status_post_ids)]"
      ],
      "execution_count": 0,
      "outputs": []
    },
    {
      "cell_type": "code",
      "metadata": {
        "id": "K95juTqs5nM1",
        "colab_type": "code",
        "outputId": "11cf5d39-5079-42a3-dce4-aef2f6a0d61e",
        "colab": {
          "base_uri": "https://localhost:8080/",
          "height": 34
        }
      },
      "source": [
        "len(train_df)"
      ],
      "execution_count": 0,
      "outputs": [
        {
          "output_type": "execute_result",
          "data": {
            "text/plain": [
              "1944161"
            ]
          },
          "metadata": {
            "tags": []
          },
          "execution_count": 12
        }
      ]
    },
    {
      "cell_type": "code",
      "metadata": {
        "id": "0Rr_Uonq5sLV",
        "colab_type": "code",
        "outputId": "6bebac64-d2f3-40eb-fdbe-944b1d734417",
        "colab": {
          "base_uri": "https://localhost:8080/",
          "height": 34
        }
      },
      "source": [
        "len(dev_df)"
      ],
      "execution_count": 0,
      "outputs": [
        {
          "output_type": "execute_result",
          "data": {
            "text/plain": [
              "390738"
            ]
          },
          "metadata": {
            "tags": []
          },
          "execution_count": 13
        }
      ]
    },
    {
      "cell_type": "code",
      "metadata": {
        "id": "W1oM4o7wtHFd",
        "colab_type": "code",
        "outputId": "b81e629d-35d0-4707-b86d-ae84fd23c687",
        "colab": {
          "base_uri": "https://localhost:8080/",
          "height": 34
        }
      },
      "source": [
        "num_responses_per_post = train_df.post_id.value_counts().reset_index()\n",
        "num_responses_per_post.columns = ['post_id', 'num_responses']\n",
        "too_big_posts = num_responses_per_post[num_responses_per_post.num_responses > 50]\n",
        "posts_to_sample = too_big_posts.post_id.values\n",
        "# this gets all the rows for posts we DON'T need to sample \n",
        "new_train_df = train_df[~train_df.post_id.isin(posts_to_sample)]\n",
        "# this should be true\n",
        "assert(len(too_big_posts) + new_train_df.post_id.nunique() == train_df.post_id.nunique())\n",
        "too_big_post_rows = train_df[train_df.post_id.isin(posts_to_sample)]\n",
        "sampled_rows = too_big_post_rows.groupby('post_id').apply(lambda x: x.sample(n=50)).reset_index(drop=True)\n",
        "new_train_df = pd.concat([new_train_df, sampled_rows])\n",
        "new_train_df.shape"
      ],
      "execution_count": 0,
      "outputs": [
        {
          "output_type": "execute_result",
          "data": {
            "text/plain": [
              "(768673, 8)"
            ]
          },
          "metadata": {
            "tags": []
          },
          "execution_count": 14
        }
      ]
    },
    {
      "cell_type": "code",
      "metadata": {
        "id": "MgZWntiySs0p",
        "colab_type": "code",
        "colab": {}
      },
      "source": [
        "# shuffle the data\n",
        "# be sure to do this before you extract X's and y's!!\n",
        "train_df = new_train_df.sample(frac=1)\n",
        "dev_df = dev_df.sample(frac=1)"
      ],
      "execution_count": 0,
      "outputs": []
    },
    {
      "cell_type": "code",
      "metadata": {
        "id": "1ZJxHTywg7Rq",
        "colab_type": "code",
        "outputId": "85a68d5c-7ea3-45ef-e560-7bd25fb8c7e6",
        "colab": {
          "base_uri": "https://localhost:8080/",
          "height": 68
        }
      },
      "source": [
        "train_df.op_gender.value_counts()"
      ],
      "execution_count": 0,
      "outputs": [
        {
          "output_type": "execute_result",
          "data": {
            "text/plain": [
              "M    582285\n",
              "W    186388\n",
              "Name: op_gender, dtype: int64"
            ]
          },
          "metadata": {
            "tags": []
          },
          "execution_count": 16
        }
      ]
    },
    {
      "cell_type": "code",
      "metadata": {
        "id": "wvu7r5nThL1Z",
        "colab_type": "code",
        "colab": {}
      },
      "source": [
        "###########################\n",
        "# Execute this if want to do upsampling.\n",
        "###########################\n",
        "# from sklearn.utils import resample\n",
        "\n",
        "# male = train_df[train_df.op_gender=='M']\n",
        "# female = train_df[train_df.op_gender=='W']\n",
        "\n",
        "# female_upsampled = resample(female,\n",
        "#                           replace=True, # sample with replacement\n",
        "#                           n_samples=len(male), # match number in majority class\n",
        "#                           random_state=27) # reproducible results\n",
        "# upsampled_train = pd.concat([male,female_upsampled])\n",
        "# print(upsampled_train.op_gender.value_counts())\n"
      ],
      "execution_count": 0,
      "outputs": []
    },
    {
      "cell_type": "code",
      "metadata": {
        "id": "Pjb6dx8fSs0s",
        "colab_type": "code",
        "colab": {}
      },
      "source": [
        "# replace `train_df` with `upsampled_train` if using upsampling.\n",
        "y_train = train_df.op_gender.values\n",
        "y_dev = dev_df.op_gender.values"
      ],
      "execution_count": 0,
      "outputs": []
    },
    {
      "cell_type": "code",
      "metadata": {
        "id": "pBCoPKh_Ss0v",
        "colab_type": "code",
        "colab": {}
      },
      "source": [
        "def turn_to_ints(li):\n",
        "    final_list = []\n",
        "    for gender in li:\n",
        "        if gender=='M':\n",
        "            final_list.append(1)\n",
        "        else:\n",
        "            final_list.append(0)\n",
        "    return final_list\n",
        "            \n",
        "y_train = turn_to_ints(y_train)\n",
        "y_dev = turn_to_ints(y_dev)"
      ],
      "execution_count": 0,
      "outputs": []
    },
    {
      "cell_type": "code",
      "metadata": {
        "id": "hN9GFz6xSs0y",
        "colab_type": "code",
        "colab": {}
      },
      "source": [
        "y_train = np.asarray(y_train)\n",
        "y_dev = np.asarray(y_dev)"
      ],
      "execution_count": 0,
      "outputs": []
    },
    {
      "cell_type": "code",
      "metadata": {
        "id": "ChYxh6oPSs04",
        "colab_type": "code",
        "colab": {}
      },
      "source": [
        "def get_text_list(init_list):\n",
        "    sentences = []\n",
        "    for sentence in init_list:\n",
        "        if type(sentence) != str:\n",
        "            sentences.append(\"\")\n",
        "        else:\n",
        "            sentences.append(sentence)\n",
        "    return sentences\n",
        "\n",
        "# replace `train_df` with `upsampled_train` if using upsampling.\n",
        "new_sentences_train = get_text_list(train_df.response_text.values) \n",
        "new_sentences_test = get_text_list(dev_df.response_text.values)"
      ],
      "execution_count": 0,
      "outputs": []
    },
    {
      "cell_type": "code",
      "metadata": {
        "id": "1b9SE7SjSs06",
        "colab_type": "code",
        "outputId": "9717d92a-a758-4592-d1b6-c5d3a0948d8e",
        "colab": {
          "base_uri": "https://localhost:8080/",
          "height": 34
        }
      },
      "source": [
        "time_start = time.time()\n",
        "\n",
        "# this is the default list of filters + apostrophe\n",
        "# added because we have dealt with common contractions, so other apostrophes should mostly be possessive \n",
        "tokenizer = Tokenizer(num_words=200000, filters='!\"\\'#$%&()*+,-./:;<=>?@[\\\\]^_`{|}~\\t\\n')\n",
        "tokenizer.fit_on_texts(new_sentences_train)\n",
        "\n",
        "X_train = tokenizer.texts_to_sequences(new_sentences_train)\n",
        "X_test = tokenizer.texts_to_sequences(new_sentences_test)\n",
        "\n",
        "vocab_size = len(tokenizer.word_index) + 1\n",
        "\n",
        "currentTime = time.gmtime(time.time() - time_start)\n",
        "\n",
        "#Convert the gmtime struct to a string\n",
        "timeStr = time.strftime(\"%M minutes, %S seconds\", currentTime)\n",
        "\n",
        "print(\"Tokenized in {}\".format(timeStr))"
      ],
      "execution_count": 0,
      "outputs": [
        {
          "output_type": "stream",
          "text": [
            "Tokenized in 00 minutes, 55 seconds\n"
          ],
          "name": "stdout"
        }
      ]
    },
    {
      "cell_type": "code",
      "metadata": {
        "id": "TyZMBAiySs0-",
        "colab_type": "code",
        "colab": {}
      },
      "source": [
        "from keras.preprocessing.sequence import pad_sequences\n",
        "\n",
        "X_train = pad_sequences(X_train, padding='post', maxlen=MAX_SEQUENCE_LENGTH)\n",
        "X_test = pad_sequences(X_test, padding='post', maxlen=MAX_SEQUENCE_LENGTH)"
      ],
      "execution_count": 0,
      "outputs": []
    },
    {
      "cell_type": "code",
      "metadata": {
        "id": "LGl1S3HySs1G",
        "colab_type": "code",
        "colab": {}
      },
      "source": [
        "if SAVE_TOKENIZED_DATA:\n",
        "  x_train_path = 'X_train_{}.pkl'.format(DATASET_NAME)\n",
        "  x_dev_path = 'X_dev_{}.pkl'.format(DATASET_NAME)\n",
        "  y_train_path = 'y_train_{}.pkl'.format(DATASET_NAME)\n",
        "  y_dev_path = 'y_dev_{}.pkl'.format(DATASET_NAME)\n",
        "\n",
        "  with open(x_train_path, 'wb') as file:\n",
        "      pickle.dump(X_train, file)   \n",
        "  with open(x_dev_path, 'wb') as file:\n",
        "      pickle.dump(X_test, file)\n",
        "  with open(y_train_path, 'wb') as file:\n",
        "      pickle.dump(y_train, file)\n",
        "  with open(y_dev_path, 'wb') as file:\n",
        "      pickle.dump(y_dev, file)\n",
        "\n",
        "  # copy to bucket\n",
        "  !gsutil cp /content/{x_train_path} gs://fb-congressional-data/test\n",
        "  !gsutil cp /content/{x_dev_path} gs://fb-congressional-data/\n",
        "  !gsutil cp /content/{y_train_path} gs://fb-congressional-data/\n",
        "  !gsutil cp /content/{y_dev_path} gs://fb-congressional-data/"
      ],
      "execution_count": 0,
      "outputs": []
    },
    {
      "cell_type": "code",
      "metadata": {
        "id": "s5AeCFGIuKIR",
        "colab_type": "code",
        "outputId": "e9e68674-cbbc-4d13-b757-f20616977ebc",
        "colab": {
          "base_uri": "https://localhost:8080/",
          "height": 238
        }
      },
      "source": [
        "!gsutil cp gs://fb-congressional-data/glove* /tmp/"
      ],
      "execution_count": 0,
      "outputs": [
        {
          "output_type": "stream",
          "text": [
            "Copying gs://fb-congressional-data/glove.6B.100d.txt...\n",
            "Copying gs://fb-congressional-data/glove.6B.200d.txt...\n",
            "Copying gs://fb-congressional-data/glove.6B.300d.txt...\n",
            "Copying gs://fb-congressional-data/glove.6B.50d.txt...\n",
            "| [4 files][  2.1 GiB/  2.1 GiB]   31.7 MiB/s                                   \n",
            "==> NOTE: You are performing a sequence of gsutil operations that may\n",
            "run significantly faster if you instead use gsutil -m cp ... Please\n",
            "see the -m section under \"gsutil help options\" for further information\n",
            "about when gsutil -m can be advantageous.\n",
            "\n",
            "Copying gs://fb-congressional-data/glove.6B.zip...\n",
            "- [5 files][  2.9 GiB/  2.9 GiB]   20.6 MiB/s                                   \n",
            "Operation completed over 5 objects/2.9 GiB.                                      \n"
          ],
          "name": "stdout"
        }
      ]
    },
    {
      "cell_type": "code",
      "metadata": {
        "id": "ae5EQ7vbSs1L",
        "colab_type": "code",
        "colab": {}
      },
      "source": [
        "def create_embedding_matrix(filepath, word_index, embedding_dim):\n",
        "    vocab_size = len(word_index) + 1  # Adding again 1 because of reserved 0 index\n",
        "    embedding_matrix = np.zeros((vocab_size, embedding_dim))\n",
        "\n",
        "    with open(filepath) as f:\n",
        "        for line in f:\n",
        "            word, *vector = line.split()\n",
        "            if word in word_index:\n",
        "                idx = word_index[word] \n",
        "                embedding_matrix[idx] = np.array(\n",
        "                    vector, dtype=np.float32)[:embedding_dim]\n",
        "\n",
        "    return embedding_matrix\n",
        "\n",
        "embedding_dim = 100\n",
        "embedding_matrix = create_embedding_matrix(\n",
        "                     '/tmp/glove.6B.{}d.txt'.format(embedding_dim),\n",
        "                      tokenizer.word_index, embedding_dim)"
      ],
      "execution_count": 0,
      "outputs": []
    },
    {
      "cell_type": "code",
      "metadata": {
        "id": "kUTvp7yfut-7",
        "colab_type": "code",
        "colab": {}
      },
      "source": [
        "# trying to figure out which words are empty here\n",
        "# counter = 0\n",
        "# empty_indexes = []\n",
        "# for index, row in enumerate(embedding_matrix):\n",
        "#   if sum(row) == 0:\n",
        "#     empty_indexes.append(index)\n",
        "#     counter += 1\n",
        "#   if counter > 1000:\n",
        "#     break\n",
        "\n",
        "# for idx in empty_indexes:\n",
        "#   try:\n",
        "#     print(tokenizer.index_word[idx])\n",
        "#   except:\n",
        "#     print(\"No entry for {}\".format(idx))\n"
      ],
      "execution_count": 0,
      "outputs": []
    },
    {
      "cell_type": "code",
      "metadata": {
        "id": "UI5vn5zBSs1P",
        "colab_type": "code",
        "outputId": "1c652361-65d2-4eda-e4f8-a085d0353981",
        "colab": {
          "base_uri": "https://localhost:8080/",
          "height": 34
        }
      },
      "source": [
        "# hmmmm....\n",
        "# nonzero_elements = np.count_nonzero(np.count_nonzero(embedding_matrix, axis=1))\n",
        "# nonzero_elements / vocab_size"
      ],
      "execution_count": 0,
      "outputs": [
        {
          "output_type": "execute_result",
          "data": {
            "text/plain": [
              "0.15381079935942088"
            ]
          },
          "metadata": {
            "tags": []
          },
          "execution_count": 22
        }
      ]
    },
    {
      "cell_type": "code",
      "metadata": {
        "id": "EJtNke4FSs1X",
        "colab_type": "code",
        "outputId": "91fdfc88-ed42-41e8-fdb3-3bd7acfeb389",
        "colab": {
          "base_uri": "https://localhost:8080/",
          "height": 34
        }
      },
      "source": [
        "embedding_matrix.shape"
      ],
      "execution_count": 0,
      "outputs": [
        {
          "output_type": "execute_result",
          "data": {
            "text/plain": [
              "(199977, 100)"
            ]
          },
          "metadata": {
            "tags": []
          },
          "execution_count": 26
        }
      ]
    },
    {
      "cell_type": "code",
      "metadata": {
        "id": "tb_yr2R9Ss1d",
        "colab_type": "code",
        "outputId": "deb4b4d1-28f9-4b3c-8da5-143b6719e451",
        "colab": {
          "base_uri": "https://localhost:8080/",
          "height": 496
        }
      },
      "source": [
        "model = Sequential()\n",
        "model.add(layers.Embedding(vocab_size, embedding_dim, \n",
        "                           weights=[embedding_matrix], \n",
        "                           input_length=MAX_SEQUENCE_LENGTH, \n",
        "                           trainable=False))\n",
        "model.add(layers.Conv1D(128, 5, activation='relu'))\n",
        "model.add(layers.GlobalMaxPooling1D())\n",
        "model.add(layers.Dense(10, activation='relu'))\n",
        "model.add(layers.Dense(1, activation='sigmoid'))\n",
        "model.compile(optimizer='adam',\n",
        "              loss='binary_crossentropy',\n",
        "              metrics=['accuracy'])\n",
        "model.summary()"
      ],
      "execution_count": 0,
      "outputs": [
        {
          "output_type": "stream",
          "text": [
            "WARNING:tensorflow:From /usr/local/lib/python3.6/dist-packages/tensorflow_core/python/keras/initializers.py:119: calling RandomUniform.__init__ (from tensorflow.python.ops.init_ops) with dtype is deprecated and will be removed in a future version.\n",
            "Instructions for updating:\n",
            "Call initializer instance with the dtype argument instead of passing it to the constructor\n",
            "WARNING:tensorflow:From /usr/local/lib/python3.6/dist-packages/tensorflow_core/python/ops/resource_variable_ops.py:1630: calling BaseResourceVariable.__init__ (from tensorflow.python.ops.resource_variable_ops) with constraint is deprecated and will be removed in a future version.\n",
            "Instructions for updating:\n",
            "If using Keras pass *_constraint arguments to layers.\n",
            "WARNING:tensorflow:From /usr/local/lib/python3.6/dist-packages/tensorflow_core/python/ops/nn_impl.py:183: where (from tensorflow.python.ops.array_ops) is deprecated and will be removed in a future version.\n",
            "Instructions for updating:\n",
            "Use tf.where in 2.0, which has the same broadcast rule as np.where\n",
            "Model: \"sequential\"\n",
            "_________________________________________________________________\n",
            "Layer (type)                 Output Shape              Param #   \n",
            "=================================================================\n",
            "embedding (Embedding)        (None, 20, 100)           19997700  \n",
            "_________________________________________________________________\n",
            "conv1d (Conv1D)              (None, 16, 128)           64128     \n",
            "_________________________________________________________________\n",
            "global_max_pooling1d (Global (None, 128)               0         \n",
            "_________________________________________________________________\n",
            "dense (Dense)                (None, 10)                1290      \n",
            "_________________________________________________________________\n",
            "dense_1 (Dense)              (None, 1)                 11        \n",
            "=================================================================\n",
            "Total params: 20,063,129\n",
            "Trainable params: 65,429\n",
            "Non-trainable params: 19,997,700\n",
            "_________________________________________________________________\n"
          ],
          "name": "stdout"
        }
      ]
    },
    {
      "cell_type": "code",
      "metadata": {
        "id": "U_9KWVWHAAE3",
        "colab_type": "code",
        "colab": {}
      },
      "source": [
        "# smaller_X_train = X_train[:TRAINING_SET_SIZE]"
      ],
      "execution_count": 0,
      "outputs": []
    },
    {
      "cell_type": "code",
      "metadata": {
        "id": "t6gn7HvuAGgQ",
        "colab_type": "code",
        "colab": {}
      },
      "source": [
        "# smaller_y_train = y_train[:TRAINING_SET_SIZE]"
      ],
      "execution_count": 0,
      "outputs": []
    },
    {
      "cell_type": "code",
      "metadata": {
        "id": "3BoBWKSc2wNk",
        "colab_type": "code",
        "outputId": "82bf23e3-a549-46e9-fbef-e84659639cd1",
        "colab": {
          "base_uri": "https://localhost:8080/",
          "height": 75
        }
      },
      "source": [
        "# # Set up oversampling with SMOTE (Synthetic Minority Oversampling Technique)\n",
        "# from imblearn.over_sampling import SMOTE\n",
        "# sm = SMOTE(random_state=12, ratio = 1.0) # Will bring final ratio to 1.0\n",
        "# x_train_res, y_train_res = sm.fit_sample(X_train, y_train)\n"
      ],
      "execution_count": 0,
      "outputs": [
        {
          "output_type": "stream",
          "text": [
            "/usr/local/lib/python3.6/dist-packages/sklearn/externals/six.py:31: DeprecationWarning: The module is deprecated in version 0.21 and will be removed in version 0.23 since we've dropped support for Python 2.7. Please rely on the official version of six (https://pypi.org/project/six/).\n",
            "  \"(https://pypi.org/project/six/).\", DeprecationWarning)\n"
          ],
          "name": "stderr"
        }
      ]
    },
    {
      "cell_type": "code",
      "metadata": {
        "id": "uf5R6UpGDW_y",
        "colab_type": "code",
        "colab": {}
      },
      "source": [
        "smaller_X_dev = X_test[:VAL_SET_SIZE]\n",
        "smaller_y_dev = y_dev[:VAL_SET_SIZE]"
      ],
      "execution_count": 0,
      "outputs": []
    },
    {
      "cell_type": "code",
      "metadata": {
        "id": "M4dbwlaxSs1l",
        "colab_type": "code",
        "outputId": "0500dbf0-3107-4c0a-8291-91d89e6a74f3",
        "colab": {
          "base_uri": "https://localhost:8080/",
          "height": 731
        }
      },
      "source": [
        "try:\n",
        "  time_start = time.time()\n",
        "\n",
        "  history = model.fit(X_train, y_train,\n",
        "                      epochs=NUM_EPOCHS,\n",
        "                      verbose=True,\n",
        "                      validation_data=(smaller_X_dev, smaller_y_dev),\n",
        "                      batch_size=BATCH_SIZE)\n",
        "\n",
        "  currentTime = time.gmtime(time.time() - time_start)\n",
        "\n",
        "  #Convert the gmtime struct to a string\n",
        "  timeStr = time.strftime(\"%M minutes, %S seconds\", currentTime)\n",
        "\n",
        "  print(\"Trained in {}\".format(timeStr))\n",
        "\n",
        "except:\n",
        "  currentTime = time.gmtime(time.time() - time_start)\n",
        "\n",
        "  #Convert the gmtime struct to a string\n",
        "  timeStr = time.strftime(\"%M minutes, %S seconds\", currentTime)\n",
        "\n",
        "  print(\"Trained in {}\".format(timeStr))  "
      ],
      "execution_count": 0,
      "outputs": [
        {
          "output_type": "stream",
          "text": [
            "Train on 768673 samples, validate on 390738 samples\n",
            "Epoch 1/20\n",
            "768673/768673 [==============================] - 20s 26us/sample - loss: 0.5190 - acc: 0.7714 - val_loss: 0.5092 - val_acc: 0.7780\n",
            "Epoch 2/20\n",
            "768673/768673 [==============================] - 19s 25us/sample - loss: 0.4928 - acc: 0.7848 - val_loss: 0.5098 - val_acc: 0.7776\n",
            "Epoch 3/20\n",
            "768673/768673 [==============================] - 20s 25us/sample - loss: 0.4826 - acc: 0.7884 - val_loss: 0.5218 - val_acc: 0.7700\n",
            "Epoch 4/20\n",
            "768673/768673 [==============================] - 19s 25us/sample - loss: 0.4753 - acc: 0.7907 - val_loss: 0.5164 - val_acc: 0.7725\n",
            "Epoch 5/20\n",
            "768673/768673 [==============================] - 21s 27us/sample - loss: 0.4683 - acc: 0.7931 - val_loss: 0.5253 - val_acc: 0.7797\n",
            "Epoch 6/20\n",
            "768673/768673 [==============================] - 20s 25us/sample - loss: 0.4630 - acc: 0.7948 - val_loss: 0.5264 - val_acc: 0.7658\n",
            "Epoch 7/20\n",
            "768673/768673 [==============================] - 20s 26us/sample - loss: 0.4575 - acc: 0.7965 - val_loss: 0.5266 - val_acc: 0.7670\n",
            "Epoch 8/20\n",
            "768673/768673 [==============================] - 20s 26us/sample - loss: 0.4543 - acc: 0.7981 - val_loss: 0.5286 - val_acc: 0.7669\n",
            "Epoch 9/20\n",
            "768673/768673 [==============================] - 20s 26us/sample - loss: 0.4492 - acc: 0.7998 - val_loss: 0.5330 - val_acc: 0.7628\n",
            "Epoch 10/20\n",
            "768673/768673 [==============================] - 21s 28us/sample - loss: 0.4464 - acc: 0.8009 - val_loss: 0.5343 - val_acc: 0.7621\n",
            "Epoch 11/20\n",
            "768673/768673 [==============================] - 24s 31us/sample - loss: 0.4433 - acc: 0.8020 - val_loss: 0.5396 - val_acc: 0.7620\n",
            "Epoch 12/20\n",
            "768673/768673 [==============================] - 23s 30us/sample - loss: 0.4410 - acc: 0.8032 - val_loss: 0.5403 - val_acc: 0.7643\n",
            "Epoch 13/20\n",
            "768673/768673 [==============================] - 23s 30us/sample - loss: 0.4385 - acc: 0.8042 - val_loss: 0.5446 - val_acc: 0.7572\n",
            "Epoch 14/20\n",
            "768673/768673 [==============================] - 23s 30us/sample - loss: 0.4360 - acc: 0.8051 - val_loss: 0.5467 - val_acc: 0.7598\n",
            "Epoch 15/20\n",
            "768673/768673 [==============================] - 23s 29us/sample - loss: 0.4349 - acc: 0.8059 - val_loss: 0.5572 - val_acc: 0.7689\n",
            "Epoch 16/20\n",
            "768673/768673 [==============================] - 22s 29us/sample - loss: 0.4330 - acc: 0.8066 - val_loss: 0.5544 - val_acc: 0.7663\n",
            "Epoch 17/20\n",
            "768673/768673 [==============================] - 22s 29us/sample - loss: 0.4307 - acc: 0.8073 - val_loss: 0.5566 - val_acc: 0.7563\n",
            "Epoch 18/20\n",
            "768673/768673 [==============================] - 23s 29us/sample - loss: 0.4293 - acc: 0.8082 - val_loss: 0.5568 - val_acc: 0.7668\n",
            "Epoch 19/20\n",
            "768673/768673 [==============================] - 24s 31us/sample - loss: 0.4286 - acc: 0.8080 - val_loss: 0.5582 - val_acc: 0.7643\n",
            "Epoch 20/20\n",
            "768673/768673 [==============================] - 25s 33us/sample - loss: 0.4267 - acc: 0.8095 - val_loss: 0.5647 - val_acc: 0.7539\n",
            "Trained in 07 minutes, 11 seconds\n"
          ],
          "name": "stdout"
        }
      ]
    },
    {
      "cell_type": "code",
      "metadata": {
        "id": "h4P5Y5wgSs1o",
        "colab_type": "code",
        "outputId": "363c58ba-719b-4848-a796-3132815bbc3b",
        "colab": {
          "base_uri": "https://localhost:8080/",
          "height": 51
        }
      },
      "source": [
        "loss, accuracy = model.evaluate(X_train, y_train, verbose=False)\n",
        "print(\"Training Accuracy: {:.4f}\".format(accuracy))\n",
        "loss, accuracy = model.evaluate(X_test, y_dev, verbose=False)\n",
        "print(\"Testing Accuracy:  {:.4f}\".format(accuracy))\n"
      ],
      "execution_count": 0,
      "outputs": [
        {
          "output_type": "stream",
          "text": [
            "Training Accuracy: 0.8150\n",
            "Testing Accuracy:  0.7539\n"
          ],
          "name": "stdout"
        }
      ]
    },
    {
      "cell_type": "code",
      "metadata": {
        "id": "zZanpp-O9oiz",
        "colab_type": "code",
        "outputId": "90c0ea93-d026-4b56-95cd-c4e1e416c1a8",
        "colab": {
          "base_uri": "https://localhost:8080/",
          "height": 34
        }
      },
      "source": [
        "# ROC AUC\n",
        "from sklearn.metrics import roc_auc_score\n",
        "# predict probabilities for test set\n",
        "yhat_probs = model.predict(X_test, verbose=0)\n",
        "# reduce to 1d array\n",
        "yhat_probs = yhat_probs[:,0]\n",
        "auc = roc_auc_score(y_dev, yhat_probs)\n",
        "print('ROC AUC:', auc)\n"
      ],
      "execution_count": 0,
      "outputs": [
        {
          "output_type": "stream",
          "text": [
            "ROC AUC: 0.5967712633434398\n"
          ],
          "name": "stdout"
        }
      ]
    },
    {
      "cell_type": "code",
      "metadata": {
        "id": "L5G9XjaGJh-T",
        "colab_type": "code",
        "colab": {}
      },
      "source": [
        "# can't get this to work\n",
        "plot_model(history)"
      ],
      "execution_count": 0,
      "outputs": []
    },
    {
      "cell_type": "code",
      "metadata": {
        "id": "ccL7n659KbQ-",
        "colab_type": "code",
        "colab": {}
      },
      "source": [
        "preds = yhat_probs # model.predict(X_test)"
      ],
      "execution_count": 0,
      "outputs": []
    },
    {
      "cell_type": "code",
      "metadata": {
        "id": "lhpB8QsgGMZ5",
        "colab_type": "code",
        "colab": {}
      },
      "source": [
        "dev_df['probs'] = preds"
      ],
      "execution_count": 0,
      "outputs": []
    },
    {
      "cell_type": "code",
      "metadata": {
        "id": "1T2IxdCMGf2e",
        "colab_type": "code",
        "colab": {}
      },
      "source": [
        "def pred_to_label(row):\n",
        "  if row['probs'] >= .5:\n",
        "    return 'M'\n",
        "  else:\n",
        "    return 'W'\n",
        "\n",
        "dev_df['preds'] = dev_df.apply(pred_to_label, axis=1)"
      ],
      "execution_count": 0,
      "outputs": []
    },
    {
      "cell_type": "code",
      "metadata": {
        "id": "NzbasnNWGg5J",
        "colab_type": "code",
        "colab": {}
      },
      "source": [
        "wrong_preds = dev_df[dev_df.op_gender!=dev_df.preds]"
      ],
      "execution_count": 0,
      "outputs": []
    },
    {
      "cell_type": "code",
      "metadata": {
        "id": "nAYve8ZhG7wt",
        "colab_type": "code",
        "outputId": "81e38b11-e3a3-4a63-f713-da18ef709f86",
        "colab": {
          "base_uri": "https://localhost:8080/",
          "height": 68
        }
      },
      "source": [
        "wrong_preds.op_gender.value_counts()"
      ],
      "execution_count": 0,
      "outputs": [
        {
          "output_type": "execute_result",
          "data": {
            "text/plain": [
              "W    75367\n",
              "M    20794\n",
              "Name: op_gender, dtype: int64"
            ]
          },
          "metadata": {
            "tags": []
          },
          "execution_count": 36
        }
      ]
    },
    {
      "cell_type": "code",
      "metadata": {
        "id": "NJJrm2LxHFzN",
        "colab_type": "code",
        "outputId": "98a49b65-d488-4f4e-fc55-9adb18d0fbf3",
        "colab": {
          "base_uri": "https://localhost:8080/",
          "height": 34
        }
      },
      "source": [
        "# total proportion of preds for women\n",
        "dev_df.preds.value_counts()['W'] / len(dev_df)"
      ],
      "execution_count": 0,
      "outputs": [
        {
          "output_type": "execute_result",
          "data": {
            "text/plain": [
              "0.08080862368134147"
            ]
          },
          "metadata": {
            "tags": []
          },
          "execution_count": 37
        }
      ]
    },
    {
      "cell_type": "code",
      "metadata": {
        "id": "SxFooJUbHVUB",
        "colab_type": "code",
        "outputId": "7a9b188d-672b-4c96-e95b-5b8f898115e4",
        "colab": {
          "base_uri": "https://localhost:8080/",
          "height": 669
        }
      },
      "source": [
        "#random sample of mistakes\n",
        "wrong_preds.head(20)"
      ],
      "execution_count": 0,
      "outputs": [
        {
          "output_type": "execute_result",
          "data": {
            "text/html": [
              "<div>\n",
              "<style scoped>\n",
              "    .dataframe tbody tr th:only-of-type {\n",
              "        vertical-align: middle;\n",
              "    }\n",
              "\n",
              "    .dataframe tbody tr th {\n",
              "        vertical-align: top;\n",
              "    }\n",
              "\n",
              "    .dataframe thead th {\n",
              "        text-align: right;\n",
              "    }\n",
              "</style>\n",
              "<table border=\"1\" class=\"dataframe\">\n",
              "  <thead>\n",
              "    <tr style=\"text-align: right;\">\n",
              "      <th></th>\n",
              "      <th>original_idx</th>\n",
              "      <th>op_id</th>\n",
              "      <th>op_gender</th>\n",
              "      <th>post_id</th>\n",
              "      <th>responder_id</th>\n",
              "      <th>response_text</th>\n",
              "      <th>op_name</th>\n",
              "      <th>op_category</th>\n",
              "      <th>probs</th>\n",
              "      <th>preds</th>\n",
              "    </tr>\n",
              "  </thead>\n",
              "  <tbody>\n",
              "    <tr>\n",
              "      <th>2039381</th>\n",
              "      <td>11088773</td>\n",
              "      <td>86569077</td>\n",
              "      <td>W</td>\n",
              "      <td>390505</td>\n",
              "      <td>Loïc</td>\n",
              "      <td>matt, middle age is over... u know today women are independant...</td>\n",
              "      <td>Kirsten Gillibrand</td>\n",
              "      <td>Congress_Democratic</td>\n",
              "      <td>0.900663</td>\n",
              "      <td>M</td>\n",
              "    </tr>\n",
              "    <tr>\n",
              "      <th>2191586</th>\n",
              "      <td>11752563</td>\n",
              "      <td>74450840</td>\n",
              "      <td>W</td>\n",
              "      <td>422861</td>\n",
              "      <td>Tonya</td>\n",
              "      <td>he has not targeting religion. why do not ya'll stop, read and listen.</td>\n",
              "      <td>Terri Sewell</td>\n",
              "      <td>Congress_Democratic</td>\n",
              "      <td>0.897356</td>\n",
              "      <td>M</td>\n",
              "    </tr>\n",
              "    <tr>\n",
              "      <th>1740985</th>\n",
              "      <td>10264122</td>\n",
              "      <td>32570461</td>\n",
              "      <td>M</td>\n",
              "      <td>382056</td>\n",
              "      <td>Leslie</td>\n",
              "      <td>yes. thank you trying to hold her accountable</td>\n",
              "      <td>Tim Kaine</td>\n",
              "      <td>Congress_Democratic</td>\n",
              "      <td>0.498100</td>\n",
              "      <td>W</td>\n",
              "    </tr>\n",
              "    <tr>\n",
              "      <th>1156788</th>\n",
              "      <td>6088562</td>\n",
              "      <td>19189340</td>\n",
              "      <td>W</td>\n",
              "      <td>208601</td>\n",
              "      <td>Lori</td>\n",
              "      <td>much appreciated by this american.</td>\n",
              "      <td>Robin Kelly</td>\n",
              "      <td>Congress_Democratic</td>\n",
              "      <td>0.778372</td>\n",
              "      <td>M</td>\n",
              "    </tr>\n",
              "    <tr>\n",
              "      <th>2009845</th>\n",
              "      <td>11059237</td>\n",
              "      <td>86569077</td>\n",
              "      <td>W</td>\n",
              "      <td>390114</td>\n",
              "      <td>Barbara</td>\n",
              "      <td>keeping you in my thoughts and prayers!</td>\n",
              "      <td>Kirsten Gillibrand</td>\n",
              "      <td>Congress_Democratic</td>\n",
              "      <td>0.541975</td>\n",
              "      <td>M</td>\n",
              "    </tr>\n",
              "    <tr>\n",
              "      <th>2155647</th>\n",
              "      <td>11296627</td>\n",
              "      <td>77234050</td>\n",
              "      <td>W</td>\n",
              "      <td>400525</td>\n",
              "      <td>Andrew</td>\n",
              "      <td>great to see you and brian last night!!</td>\n",
              "      <td>Cathy McMorris Rodgers</td>\n",
              "      <td>Congress_Republican</td>\n",
              "      <td>0.890616</td>\n",
              "      <td>M</td>\n",
              "    </tr>\n",
              "    <tr>\n",
              "      <th>2164603</th>\n",
              "      <td>11305583</td>\n",
              "      <td>77234050</td>\n",
              "      <td>W</td>\n",
              "      <td>401053</td>\n",
              "      <td>Anne</td>\n",
              "      <td>yes fiscal responsibility. vote out thr tax and spend liberals come nov.</td>\n",
              "      <td>Cathy McMorris Rodgers</td>\n",
              "      <td>Congress_Republican</td>\n",
              "      <td>0.861994</td>\n",
              "      <td>M</td>\n",
              "    </tr>\n",
              "    <tr>\n",
              "      <th>1917154</th>\n",
              "      <td>10966546</td>\n",
              "      <td>86569077</td>\n",
              "      <td>W</td>\n",
              "      <td>389341</td>\n",
              "      <td>Kristen</td>\n",
              "      <td>thank you!</td>\n",
              "      <td>Kirsten Gillibrand</td>\n",
              "      <td>Congress_Democratic</td>\n",
              "      <td>0.667581</td>\n",
              "      <td>M</td>\n",
              "    </tr>\n",
              "    <tr>\n",
              "      <th>1900572</th>\n",
              "      <td>10933500</td>\n",
              "      <td>10458808</td>\n",
              "      <td>M</td>\n",
              "      <td>386556</td>\n",
              "      <td>Kris</td>\n",
              "      <td>typical republican tactic they have used wedge issues for years to turn us against each other</td>\n",
              "      <td>Mark Takano</td>\n",
              "      <td>Congress_Democratic</td>\n",
              "      <td>0.426479</td>\n",
              "      <td>W</td>\n",
              "    </tr>\n",
              "    <tr>\n",
              "      <th>2166885</th>\n",
              "      <td>11307865</td>\n",
              "      <td>95515852</td>\n",
              "      <td>M</td>\n",
              "      <td>401126</td>\n",
              "      <td>Scott</td>\n",
              "      <td>only reason she will get in cause of the vice pres's vote. total bullshit</td>\n",
              "      <td>Bill Huizenga</td>\n",
              "      <td>Congress_Republican</td>\n",
              "      <td>0.371532</td>\n",
              "      <td>W</td>\n",
              "    </tr>\n",
              "    <tr>\n",
              "      <th>2007097</th>\n",
              "      <td>11056489</td>\n",
              "      <td>86569077</td>\n",
              "      <td>W</td>\n",
              "      <td>390101</td>\n",
              "      <td>Beatrice</td>\n",
              "      <td>thank you!!</td>\n",
              "      <td>Kirsten Gillibrand</td>\n",
              "      <td>Congress_Democratic</td>\n",
              "      <td>0.667581</td>\n",
              "      <td>M</td>\n",
              "    </tr>\n",
              "    <tr>\n",
              "      <th>1925332</th>\n",
              "      <td>10974724</td>\n",
              "      <td>86569077</td>\n",
              "      <td>W</td>\n",
              "      <td>389341</td>\n",
              "      <td>Sandy</td>\n",
              "      <td>thank you so much, senator!  we need people like you to get us through these next few years.</td>\n",
              "      <td>Kirsten Gillibrand</td>\n",
              "      <td>Congress_Democratic</td>\n",
              "      <td>0.557830</td>\n",
              "      <td>M</td>\n",
              "    </tr>\n",
              "    <tr>\n",
              "      <th>1966059</th>\n",
              "      <td>11015451</td>\n",
              "      <td>86569077</td>\n",
              "      <td>W</td>\n",
              "      <td>389689</td>\n",
              "      <td>Frazer</td>\n",
              "      <td>and you your horses are feed by hay and grains and you cut by hand.</td>\n",
              "      <td>Kirsten Gillibrand</td>\n",
              "      <td>Congress_Democratic</td>\n",
              "      <td>0.984966</td>\n",
              "      <td>M</td>\n",
              "    </tr>\n",
              "    <tr>\n",
              "      <th>2113981</th>\n",
              "      <td>11254961</td>\n",
              "      <td>77234050</td>\n",
              "      <td>W</td>\n",
              "      <td>399632</td>\n",
              "      <td>Marilyn</td>\n",
              "      <td>yay, only around 850,000 of those that signed up and paid were the previously uninsured the aca ...</td>\n",
              "      <td>Cathy McMorris Rodgers</td>\n",
              "      <td>Congress_Republican</td>\n",
              "      <td>0.615297</td>\n",
              "      <td>M</td>\n",
              "    </tr>\n",
              "    <tr>\n",
              "      <th>2052794</th>\n",
              "      <td>11102186</td>\n",
              "      <td>86569077</td>\n",
              "      <td>W</td>\n",
              "      <td>390753</td>\n",
              "      <td>Joan</td>\n",
              "      <td>the only way to go is medicare..or perhaps even better converage..medicaid..medicare is not good...</td>\n",
              "      <td>Kirsten Gillibrand</td>\n",
              "      <td>Congress_Democratic</td>\n",
              "      <td>0.976413</td>\n",
              "      <td>M</td>\n",
              "    </tr>\n",
              "    <tr>\n",
              "      <th>500324</th>\n",
              "      <td>4144989</td>\n",
              "      <td>3795296</td>\n",
              "      <td>W</td>\n",
              "      <td>150575</td>\n",
              "      <td>Karyn</td>\n",
              "      <td>they certainly should not be getting paid while they have their little hissy fits.  grow up and ...</td>\n",
              "      <td>Lois Frankel</td>\n",
              "      <td>Congress_Democratic</td>\n",
              "      <td>0.822643</td>\n",
              "      <td>M</td>\n",
              "    </tr>\n",
              "    <tr>\n",
              "      <th>2135800</th>\n",
              "      <td>11276780</td>\n",
              "      <td>77234050</td>\n",
              "      <td>W</td>\n",
              "      <td>399883</td>\n",
              "      <td>Patricia</td>\n",
              "      <td>makes me wonder  if there is life after death   all we do is work and pay taxes  and if we are v...</td>\n",
              "      <td>Cathy McMorris Rodgers</td>\n",
              "      <td>Congress_Republican</td>\n",
              "      <td>0.857889</td>\n",
              "      <td>M</td>\n",
              "    </tr>\n",
              "    <tr>\n",
              "      <th>2017780</th>\n",
              "      <td>11067172</td>\n",
              "      <td>86569077</td>\n",
              "      <td>W</td>\n",
              "      <td>390161</td>\n",
              "      <td>Patti</td>\n",
              "      <td>lindenhurst is my hometown.  my heart is breaking from the reports and pictures coming out of th...</td>\n",
              "      <td>Kirsten Gillibrand</td>\n",
              "      <td>Congress_Democratic</td>\n",
              "      <td>0.878731</td>\n",
              "      <td>M</td>\n",
              "    </tr>\n",
              "    <tr>\n",
              "      <th>2054225</th>\n",
              "      <td>11103617</td>\n",
              "      <td>86569077</td>\n",
              "      <td>W</td>\n",
              "      <td>390790</td>\n",
              "      <td>TeresaLynn</td>\n",
              "      <td>hope many will read all the above comments.  would be good \"to agree to disagree\" without callin...</td>\n",
              "      <td>Kirsten Gillibrand</td>\n",
              "      <td>Congress_Democratic</td>\n",
              "      <td>0.745559</td>\n",
              "      <td>M</td>\n",
              "    </tr>\n",
              "    <tr>\n",
              "      <th>1824945</th>\n",
              "      <td>10348082</td>\n",
              "      <td>55333293</td>\n",
              "      <td>M</td>\n",
              "      <td>383307</td>\n",
              "      <td>Leonard</td>\n",
              "      <td>absolutely agree this calls for an immediate moratorium on all untested prescription pharmaceuti...</td>\n",
              "      <td>Peter DeFazio</td>\n",
              "      <td>Congress_Democratic</td>\n",
              "      <td>0.365301</td>\n",
              "      <td>W</td>\n",
              "    </tr>\n",
              "  </tbody>\n",
              "</table>\n",
              "</div>"
            ],
            "text/plain": [
              "         original_idx     op_id op_gender  ...          op_category     probs preds\n",
              "2039381      11088773  86569077         W  ...  Congress_Democratic  0.900663     M\n",
              "2191586      11752563  74450840         W  ...  Congress_Democratic  0.897356     M\n",
              "1740985      10264122  32570461         M  ...  Congress_Democratic  0.498100     W\n",
              "1156788       6088562  19189340         W  ...  Congress_Democratic  0.778372     M\n",
              "2009845      11059237  86569077         W  ...  Congress_Democratic  0.541975     M\n",
              "2155647      11296627  77234050         W  ...  Congress_Republican  0.890616     M\n",
              "2164603      11305583  77234050         W  ...  Congress_Republican  0.861994     M\n",
              "1917154      10966546  86569077         W  ...  Congress_Democratic  0.667581     M\n",
              "1900572      10933500  10458808         M  ...  Congress_Democratic  0.426479     W\n",
              "2166885      11307865  95515852         M  ...  Congress_Republican  0.371532     W\n",
              "2007097      11056489  86569077         W  ...  Congress_Democratic  0.667581     M\n",
              "1925332      10974724  86569077         W  ...  Congress_Democratic  0.557830     M\n",
              "1966059      11015451  86569077         W  ...  Congress_Democratic  0.984966     M\n",
              "2113981      11254961  77234050         W  ...  Congress_Republican  0.615297     M\n",
              "2052794      11102186  86569077         W  ...  Congress_Democratic  0.976413     M\n",
              "500324        4144989   3795296         W  ...  Congress_Democratic  0.822643     M\n",
              "2135800      11276780  77234050         W  ...  Congress_Republican  0.857889     M\n",
              "2017780      11067172  86569077         W  ...  Congress_Democratic  0.878731     M\n",
              "2054225      11103617  86569077         W  ...  Congress_Democratic  0.745559     M\n",
              "1824945      10348082  55333293         M  ...  Congress_Democratic  0.365301     W\n",
              "\n",
              "[20 rows x 10 columns]"
            ]
          },
          "metadata": {
            "tags": []
          },
          "execution_count": 38
        }
      ]
    },
    {
      "cell_type": "code",
      "metadata": {
        "id": "qaswseIjHc8j",
        "colab_type": "code",
        "outputId": "ebf12bdc-d975-4873-f459-75d0fec92c0c",
        "colab": {
          "base_uri": "https://localhost:8080/",
          "height": 669
        }
      },
      "source": [
        "# most confident wrong predictions where the answer was F but they thought M\n",
        "# same as before - references to a male politician \n",
        "wrong_preds.sort_values('probs', ascending=False)[:20]"
      ],
      "execution_count": 0,
      "outputs": [
        {
          "output_type": "execute_result",
          "data": {
            "text/html": [
              "<div>\n",
              "<style scoped>\n",
              "    .dataframe tbody tr th:only-of-type {\n",
              "        vertical-align: middle;\n",
              "    }\n",
              "\n",
              "    .dataframe tbody tr th {\n",
              "        vertical-align: top;\n",
              "    }\n",
              "\n",
              "    .dataframe thead th {\n",
              "        text-align: right;\n",
              "    }\n",
              "</style>\n",
              "<table border=\"1\" class=\"dataframe\">\n",
              "  <thead>\n",
              "    <tr style=\"text-align: right;\">\n",
              "      <th></th>\n",
              "      <th>original_idx</th>\n",
              "      <th>op_id</th>\n",
              "      <th>op_gender</th>\n",
              "      <th>post_id</th>\n",
              "      <th>responder_id</th>\n",
              "      <th>response_text</th>\n",
              "      <th>op_name</th>\n",
              "      <th>op_category</th>\n",
              "      <th>probs</th>\n",
              "      <th>preds</th>\n",
              "    </tr>\n",
              "  </thead>\n",
              "  <tbody>\n",
              "    <tr>\n",
              "      <th>1912412</th>\n",
              "      <td>10961804</td>\n",
              "      <td>86569077</td>\n",
              "      <td>W</td>\n",
              "      <td>389338</td>\n",
              "      <td>Kristie</td>\n",
              "      <td>the president's job is to keep this country safe.  kirsten gillibrand - have you listened to the...</td>\n",
              "      <td>Kirsten Gillibrand</td>\n",
              "      <td>Congress_Democratic</td>\n",
              "      <td>0.999693</td>\n",
              "      <td>M</td>\n",
              "    </tr>\n",
              "    <tr>\n",
              "      <th>2050759</th>\n",
              "      <td>11100151</td>\n",
              "      <td>86569077</td>\n",
              "      <td>W</td>\n",
              "      <td>390697</td>\n",
              "      <td>Andrew</td>\n",
              "      <td>hay dave farns----- are you for real go back to your glen beck crap pumping spuddum and stop bre...</td>\n",
              "      <td>Kirsten Gillibrand</td>\n",
              "      <td>Congress_Democratic</td>\n",
              "      <td>0.999638</td>\n",
              "      <td>M</td>\n",
              "    </tr>\n",
              "    <tr>\n",
              "      <th>2292114</th>\n",
              "      <td>13627779</td>\n",
              "      <td>4938109</td>\n",
              "      <td>W</td>\n",
              "      <td>529470</td>\n",
              "      <td>Dona</td>\n",
              "      <td>what are we going to do?  i usually look at specific issues and where i stand on them and vote a...</td>\n",
              "      <td>Yvette Clarke</td>\n",
              "      <td>Congress_Democratic</td>\n",
              "      <td>0.999526</td>\n",
              "      <td>M</td>\n",
              "    </tr>\n",
              "    <tr>\n",
              "      <th>2154850</th>\n",
              "      <td>11295830</td>\n",
              "      <td>77234050</td>\n",
              "      <td>W</td>\n",
              "      <td>400490</td>\n",
              "      <td>Ron</td>\n",
              "      <td>give up your bush fixation, nathan.  it has unhealthy.</td>\n",
              "      <td>Cathy McMorris Rodgers</td>\n",
              "      <td>Congress_Republican</td>\n",
              "      <td>0.999490</td>\n",
              "      <td>M</td>\n",
              "    </tr>\n",
              "    <tr>\n",
              "      <th>2007087</th>\n",
              "      <td>11056479</td>\n",
              "      <td>86569077</td>\n",
              "      <td>W</td>\n",
              "      <td>390101</td>\n",
              "      <td>Donna</td>\n",
              "      <td>it will take a decade to rebuild. sandy was worse to ny/nj than andrew was to florida.god be wit...</td>\n",
              "      <td>Kirsten Gillibrand</td>\n",
              "      <td>Congress_Democratic</td>\n",
              "      <td>0.999415</td>\n",
              "      <td>M</td>\n",
              "    </tr>\n",
              "    <tr>\n",
              "      <th>2151553</th>\n",
              "      <td>11292533</td>\n",
              "      <td>77234050</td>\n",
              "      <td>W</td>\n",
              "      <td>400340</td>\n",
              "      <td>Nathan</td>\n",
              "      <td>emm peecchh heeemm!!  the job-killing, foriegn born tyranous usurper just swallowed 1 million jo...</td>\n",
              "      <td>Cathy McMorris Rodgers</td>\n",
              "      <td>Congress_Republican</td>\n",
              "      <td>0.999414</td>\n",
              "      <td>M</td>\n",
              "    </tr>\n",
              "    <tr>\n",
              "      <th>2127121</th>\n",
              "      <td>11268101</td>\n",
              "      <td>77234050</td>\n",
              "      <td>W</td>\n",
              "      <td>399741</td>\n",
              "      <td>Judith</td>\n",
              "      <td>did not you hear mr. paul, \"we do not live in a democracy we love in a republic\". :)</td>\n",
              "      <td>Cathy McMorris Rodgers</td>\n",
              "      <td>Congress_Republican</td>\n",
              "      <td>0.999380</td>\n",
              "      <td>M</td>\n",
              "    </tr>\n",
              "    <tr>\n",
              "      <th>2140993</th>\n",
              "      <td>11281973</td>\n",
              "      <td>77234050</td>\n",
              "      <td>W</td>\n",
              "      <td>399960</td>\n",
              "      <td>Rob</td>\n",
              "      <td>probably because they are not conservatives, nathan.  neocons outing neocons is kinda entertaini...</td>\n",
              "      <td>Cathy McMorris Rodgers</td>\n",
              "      <td>Congress_Republican</td>\n",
              "      <td>0.999265</td>\n",
              "      <td>M</td>\n",
              "    </tr>\n",
              "    <tr>\n",
              "      <th>2103705</th>\n",
              "      <td>11244685</td>\n",
              "      <td>77234050</td>\n",
              "      <td>W</td>\n",
              "      <td>399379</td>\n",
              "      <td>Angel</td>\n",
              "      <td>thanks for not even considering the batwing crazy louie.</td>\n",
              "      <td>Cathy McMorris Rodgers</td>\n",
              "      <td>Congress_Republican</td>\n",
              "      <td>0.999248</td>\n",
              "      <td>M</td>\n",
              "    </tr>\n",
              "    <tr>\n",
              "      <th>1921115</th>\n",
              "      <td>10970507</td>\n",
              "      <td>86569077</td>\n",
              "      <td>W</td>\n",
              "      <td>389341</td>\n",
              "      <td>Matt</td>\n",
              "      <td>love love love betsy. john king and arne duncan!!!! buhbye!!!!!</td>\n",
              "      <td>Kirsten Gillibrand</td>\n",
              "      <td>Congress_Democratic</td>\n",
              "      <td>0.999240</td>\n",
              "      <td>M</td>\n",
              "    </tr>\n",
              "    <tr>\n",
              "      <th>1920747</th>\n",
              "      <td>10970139</td>\n",
              "      <td>86569077</td>\n",
              "      <td>W</td>\n",
              "      <td>389341</td>\n",
              "      <td>Stefany</td>\n",
              "      <td>she was only put up for nomination because her brother erik prince of blackwater has trumps ear....</td>\n",
              "      <td>Kirsten Gillibrand</td>\n",
              "      <td>Congress_Democratic</td>\n",
              "      <td>0.999217</td>\n",
              "      <td>M</td>\n",
              "    </tr>\n",
              "    <tr>\n",
              "      <th>2143740</th>\n",
              "      <td>11284720</td>\n",
              "      <td>77234050</td>\n",
              "      <td>W</td>\n",
              "      <td>400058</td>\n",
              "      <td>Efrem</td>\n",
              "      <td>you first jim.  yea, i pine for the good ole days of america before the welfare/welfare?surveill...</td>\n",
              "      <td>Cathy McMorris Rodgers</td>\n",
              "      <td>Congress_Republican</td>\n",
              "      <td>0.999194</td>\n",
              "      <td>M</td>\n",
              "    </tr>\n",
              "    <tr>\n",
              "      <th>2036120</th>\n",
              "      <td>11085512</td>\n",
              "      <td>86569077</td>\n",
              "      <td>W</td>\n",
              "      <td>390456</td>\n",
              "      <td>Dwight</td>\n",
              "      <td>hey the dick releases 30 million barrels but shut down off shore drilling what a dick</td>\n",
              "      <td>Kirsten Gillibrand</td>\n",
              "      <td>Congress_Democratic</td>\n",
              "      <td>0.999185</td>\n",
              "      <td>M</td>\n",
              "    </tr>\n",
              "    <tr>\n",
              "      <th>1920915</th>\n",
              "      <td>10970307</td>\n",
              "      <td>86569077</td>\n",
              "      <td>W</td>\n",
              "      <td>389341</td>\n",
              "      <td>Cindy</td>\n",
              "      <td>action of the day! call congress to ask them to block the nomination of betsy devos for secretar...</td>\n",
              "      <td>Kirsten Gillibrand</td>\n",
              "      <td>Congress_Democratic</td>\n",
              "      <td>0.999185</td>\n",
              "      <td>M</td>\n",
              "    </tr>\n",
              "    <tr>\n",
              "      <th>2160281</th>\n",
              "      <td>11301261</td>\n",
              "      <td>77234050</td>\n",
              "      <td>W</td>\n",
              "      <td>400760</td>\n",
              "      <td>John</td>\n",
              "      <td>i see your favorite heckler parke thomas still has not found something constructive to do with h...</td>\n",
              "      <td>Cathy McMorris Rodgers</td>\n",
              "      <td>Congress_Republican</td>\n",
              "      <td>0.999171</td>\n",
              "      <td>M</td>\n",
              "    </tr>\n",
              "    <tr>\n",
              "      <th>1920410</th>\n",
              "      <td>10969802</td>\n",
              "      <td>86569077</td>\n",
              "      <td>W</td>\n",
              "      <td>389341</td>\n",
              "      <td>Sherri</td>\n",
              "      <td>the vote to confirm betsy devos as secretary of education has been delayed til 10 a.m. jan. 31. ...</td>\n",
              "      <td>Kirsten Gillibrand</td>\n",
              "      <td>Congress_Democratic</td>\n",
              "      <td>0.999146</td>\n",
              "      <td>M</td>\n",
              "    </tr>\n",
              "    <tr>\n",
              "      <th>1921999</th>\n",
              "      <td>10971391</td>\n",
              "      <td>86569077</td>\n",
              "      <td>W</td>\n",
              "      <td>389341</td>\n",
              "      <td>Kathy</td>\n",
              "      <td>the vote to confirm betsy devos as sec of education was delayed due to outpouring of resistance....</td>\n",
              "      <td>Kirsten Gillibrand</td>\n",
              "      <td>Congress_Democratic</td>\n",
              "      <td>0.999146</td>\n",
              "      <td>M</td>\n",
              "    </tr>\n",
              "    <tr>\n",
              "      <th>1922079</th>\n",
              "      <td>10971471</td>\n",
              "      <td>86569077</td>\n",
              "      <td>W</td>\n",
              "      <td>389341</td>\n",
              "      <td>Jen</td>\n",
              "      <td>the vote to confirm betsy devos as sec of education was delayed due to outpouring of resistance....</td>\n",
              "      <td>Kirsten Gillibrand</td>\n",
              "      <td>Congress_Democratic</td>\n",
              "      <td>0.999146</td>\n",
              "      <td>M</td>\n",
              "    </tr>\n",
              "    <tr>\n",
              "      <th>2043652</th>\n",
              "      <td>11093044</td>\n",
              "      <td>86569077</td>\n",
              "      <td>W</td>\n",
              "      <td>390563</td>\n",
              "      <td>Glenn</td>\n",
              "      <td>just called my congressman- tom reed- and expressed my displeasure at his vote. we want more hea...</td>\n",
              "      <td>Kirsten Gillibrand</td>\n",
              "      <td>Congress_Democratic</td>\n",
              "      <td>0.999129</td>\n",
              "      <td>M</td>\n",
              "    </tr>\n",
              "    <tr>\n",
              "      <th>97603</th>\n",
              "      <td>2253461</td>\n",
              "      <td>47977187</td>\n",
              "      <td>W</td>\n",
              "      <td>43598</td>\n",
              "      <td>David</td>\n",
              "      <td>hey senator, you need to establish your dc contact information.  all i get when i google you is ...</td>\n",
              "      <td>Catherine Cortez Masto</td>\n",
              "      <td>Congress_Democratic</td>\n",
              "      <td>0.999087</td>\n",
              "      <td>M</td>\n",
              "    </tr>\n",
              "  </tbody>\n",
              "</table>\n",
              "</div>"
            ],
            "text/plain": [
              "         original_idx     op_id op_gender  ...          op_category     probs preds\n",
              "1912412      10961804  86569077         W  ...  Congress_Democratic  0.999693     M\n",
              "2050759      11100151  86569077         W  ...  Congress_Democratic  0.999638     M\n",
              "2292114      13627779   4938109         W  ...  Congress_Democratic  0.999526     M\n",
              "2154850      11295830  77234050         W  ...  Congress_Republican  0.999490     M\n",
              "2007087      11056479  86569077         W  ...  Congress_Democratic  0.999415     M\n",
              "2151553      11292533  77234050         W  ...  Congress_Republican  0.999414     M\n",
              "2127121      11268101  77234050         W  ...  Congress_Republican  0.999380     M\n",
              "2140993      11281973  77234050         W  ...  Congress_Republican  0.999265     M\n",
              "2103705      11244685  77234050         W  ...  Congress_Republican  0.999248     M\n",
              "1921115      10970507  86569077         W  ...  Congress_Democratic  0.999240     M\n",
              "1920747      10970139  86569077         W  ...  Congress_Democratic  0.999217     M\n",
              "2143740      11284720  77234050         W  ...  Congress_Republican  0.999194     M\n",
              "2036120      11085512  86569077         W  ...  Congress_Democratic  0.999185     M\n",
              "1920915      10970307  86569077         W  ...  Congress_Democratic  0.999185     M\n",
              "2160281      11301261  77234050         W  ...  Congress_Republican  0.999171     M\n",
              "1920410      10969802  86569077         W  ...  Congress_Democratic  0.999146     M\n",
              "1921999      10971391  86569077         W  ...  Congress_Democratic  0.999146     M\n",
              "1922079      10971471  86569077         W  ...  Congress_Democratic  0.999146     M\n",
              "2043652      11093044  86569077         W  ...  Congress_Democratic  0.999129     M\n",
              "97603         2253461  47977187         W  ...  Congress_Democratic  0.999087     M\n",
              "\n",
              "[20 rows x 10 columns]"
            ]
          },
          "metadata": {
            "tags": []
          },
          "execution_count": 39
        }
      ]
    },
    {
      "cell_type": "code",
      "metadata": {
        "id": "KoJzrEOfIct2",
        "colab_type": "code",
        "outputId": "977e7083-584d-4906-aca9-84381c7085d1",
        "colab": {
          "base_uri": "https://localhost:8080/",
          "height": 669
        }
      },
      "source": [
        "# most confident wrong predictions where the answer was F but they thought M\n",
        "# same as before - references to a male politician \n",
        "wrong_preds.sort_values('probs', ascending=True)[:20]"
      ],
      "execution_count": 0,
      "outputs": [
        {
          "output_type": "execute_result",
          "data": {
            "text/html": [
              "<div>\n",
              "<style scoped>\n",
              "    .dataframe tbody tr th:only-of-type {\n",
              "        vertical-align: middle;\n",
              "    }\n",
              "\n",
              "    .dataframe tbody tr th {\n",
              "        vertical-align: top;\n",
              "    }\n",
              "\n",
              "    .dataframe thead th {\n",
              "        text-align: right;\n",
              "    }\n",
              "</style>\n",
              "<table border=\"1\" class=\"dataframe\">\n",
              "  <thead>\n",
              "    <tr style=\"text-align: right;\">\n",
              "      <th></th>\n",
              "      <th>original_idx</th>\n",
              "      <th>op_id</th>\n",
              "      <th>op_gender</th>\n",
              "      <th>post_id</th>\n",
              "      <th>responder_id</th>\n",
              "      <th>response_text</th>\n",
              "      <th>op_name</th>\n",
              "      <th>op_category</th>\n",
              "      <th>probs</th>\n",
              "      <th>preds</th>\n",
              "    </tr>\n",
              "  </thead>\n",
              "  <tbody>\n",
              "    <tr>\n",
              "      <th>2286672</th>\n",
              "      <td>13470134</td>\n",
              "      <td>36181883</td>\n",
              "      <td>M</td>\n",
              "      <td>517866</td>\n",
              "      <td>Mario</td>\n",
              "      <td>ola primo steve scalise dos  estados unidos,esta na hora de se candidatar como presidente dos es...</td>\n",
              "      <td>Steve Scalise</td>\n",
              "      <td>Congress_Republican</td>\n",
              "      <td>0.000617</td>\n",
              "      <td>W</td>\n",
              "    </tr>\n",
              "    <tr>\n",
              "      <th>1058592</th>\n",
              "      <td>5307646</td>\n",
              "      <td>46506154</td>\n",
              "      <td>M</td>\n",
              "      <td>161416</td>\n",
              "      <td>Raimundo</td>\n",
              "      <td>felizmente todo esta ahora como debe. mis saludos personales para ti, para jennifer, y para cada...</td>\n",
              "      <td>Marco Rubio</td>\n",
              "      <td>Congress_Republican</td>\n",
              "      <td>0.000776</td>\n",
              "      <td>W</td>\n",
              "    </tr>\n",
              "    <tr>\n",
              "      <th>589151</th>\n",
              "      <td>4838205</td>\n",
              "      <td>46506154</td>\n",
              "      <td>M</td>\n",
              "      <td>160187</td>\n",
              "      <td>Gladys</td>\n",
              "      <td>https://oiganoticias.com/2016/04/11/senador-de-estados-unidos-busca-evitar-que-terrorista-de-las...</td>\n",
              "      <td>Marco Rubio</td>\n",
              "      <td>Congress_Republican</td>\n",
              "      <td>0.001281</td>\n",
              "      <td>W</td>\n",
              "    </tr>\n",
              "    <tr>\n",
              "      <th>1058302</th>\n",
              "      <td>5307356</td>\n",
              "      <td>46506154</td>\n",
              "      <td>M</td>\n",
              "      <td>161416</td>\n",
              "      <td>Segundo</td>\n",
              "      <td>estimado senador marco rubio mis oraciones, las de mi familia y de toda la comunidad nicaraguens...</td>\n",
              "      <td>Marco Rubio</td>\n",
              "      <td>Congress_Republican</td>\n",
              "      <td>0.001495</td>\n",
              "      <td>W</td>\n",
              "    </tr>\n",
              "    <tr>\n",
              "      <th>1900921</th>\n",
              "      <td>10933849</td>\n",
              "      <td>10458808</td>\n",
              "      <td>M</td>\n",
              "      <td>386563</td>\n",
              "      <td>Jahaziel</td>\n",
              "      <td>o q diferencia ve q bonito es saber ingles asi si le entendi hasta parece q hablo en español jul...</td>\n",
              "      <td>Mark Takano</td>\n",
              "      <td>Congress_Democratic</td>\n",
              "      <td>0.001864</td>\n",
              "      <td>W</td>\n",
              "    </tr>\n",
              "    <tr>\n",
              "      <th>1419037</th>\n",
              "      <td>7837331</td>\n",
              "      <td>99469231</td>\n",
              "      <td>M</td>\n",
              "      <td>296316</td>\n",
              "      <td>Бойко</td>\n",
              "      <td>американската субкултура напоследък ни засипва в артефакти на психиатрично творчество, които за ...</td>\n",
              "      <td>John McCain</td>\n",
              "      <td>Congress_Republican</td>\n",
              "      <td>0.002304</td>\n",
              "      <td>W</td>\n",
              "    </tr>\n",
              "    <tr>\n",
              "      <th>1581041</th>\n",
              "      <td>7999335</td>\n",
              "      <td>99469231</td>\n",
              "      <td>M</td>\n",
              "      <td>297004</td>\n",
              "      <td>John</td>\n",
              "      <td>free the pow/mia from viet nam now !!!</td>\n",
              "      <td>John McCain</td>\n",
              "      <td>Congress_Republican</td>\n",
              "      <td>0.002445</td>\n",
              "      <td>W</td>\n",
              "    </tr>\n",
              "    <tr>\n",
              "      <th>1322094</th>\n",
              "      <td>7740388</td>\n",
              "      <td>99469231</td>\n",
              "      <td>M</td>\n",
              "      <td>296101</td>\n",
              "      <td>Barbara</td>\n",
              "      <td>thank you , debbie</td>\n",
              "      <td>John McCain</td>\n",
              "      <td>Congress_Republican</td>\n",
              "      <td>0.002568</td>\n",
              "      <td>W</td>\n",
              "    </tr>\n",
              "    <tr>\n",
              "      <th>572168</th>\n",
              "      <td>4821222</td>\n",
              "      <td>46506154</td>\n",
              "      <td>M</td>\n",
              "      <td>160159</td>\n",
              "      <td>Larry</td>\n",
              "      <td>if you vote for roberts stabenow i cannot vote for you!</td>\n",
              "      <td>Marco Rubio</td>\n",
              "      <td>Congress_Republican</td>\n",
              "      <td>0.002595</td>\n",
              "      <td>W</td>\n",
              "    </tr>\n",
              "    <tr>\n",
              "      <th>1582479</th>\n",
              "      <td>8000773</td>\n",
              "      <td>99469231</td>\n",
              "      <td>M</td>\n",
              "      <td>297010</td>\n",
              "      <td>Matt</td>\n",
              "      <td>minnesota gophers</td>\n",
              "      <td>John McCain</td>\n",
              "      <td>Congress_Republican</td>\n",
              "      <td>0.002598</td>\n",
              "      <td>W</td>\n",
              "    </tr>\n",
              "    <tr>\n",
              "      <th>180028</th>\n",
              "      <td>2356780</td>\n",
              "      <td>62246450</td>\n",
              "      <td>M</td>\n",
              "      <td>52495</td>\n",
              "      <td>Kayla</td>\n",
              "      <td>please do everything you can to keep pruitt and perry from being approved.  thank you, kayla sta...</td>\n",
              "      <td>Ron Wyden</td>\n",
              "      <td>Congress_Democratic</td>\n",
              "      <td>0.002637</td>\n",
              "      <td>W</td>\n",
              "    </tr>\n",
              "    <tr>\n",
              "      <th>141619</th>\n",
              "      <td>2297477</td>\n",
              "      <td>89989833</td>\n",
              "      <td>M</td>\n",
              "      <td>49295</td>\n",
              "      <td>Helen</td>\n",
              "      <td>well said marvin butch owen... i sooo agree with you ...</td>\n",
              "      <td>Ted Poe</td>\n",
              "      <td>Congress_Republican</td>\n",
              "      <td>0.002717</td>\n",
              "      <td>W</td>\n",
              "    </tr>\n",
              "    <tr>\n",
              "      <th>75584</th>\n",
              "      <td>2193499</td>\n",
              "      <td>38794897</td>\n",
              "      <td>M</td>\n",
              "      <td>37938</td>\n",
              "      <td>Don</td>\n",
              "      <td>you go sherrod...you are our shinning star.</td>\n",
              "      <td>Sherrod Brown</td>\n",
              "      <td>Congress_Democratic</td>\n",
              "      <td>0.003437</td>\n",
              "      <td>W</td>\n",
              "    </tr>\n",
              "    <tr>\n",
              "      <th>1365651</th>\n",
              "      <td>7783945</td>\n",
              "      <td>99469231</td>\n",
              "      <td>M</td>\n",
              "      <td>296185</td>\n",
              "      <td>Vittoria</td>\n",
              "      <td>i am not sure who answers for the senator, but would like to ask....what do you think of donald ...</td>\n",
              "      <td>John McCain</td>\n",
              "      <td>Congress_Republican</td>\n",
              "      <td>0.003547</td>\n",
              "      <td>W</td>\n",
              "    </tr>\n",
              "    <tr>\n",
              "      <th>1524496</th>\n",
              "      <td>7942790</td>\n",
              "      <td>99469231</td>\n",
              "      <td>M</td>\n",
              "      <td>296395</td>\n",
              "      <td>Andee</td>\n",
              "      <td>my dad capt. bruce a nystrom was shot down dec. 6, 1966. mia. you are a very brave man and i hav...</td>\n",
              "      <td>John McCain</td>\n",
              "      <td>Congress_Republican</td>\n",
              "      <td>0.004706</td>\n",
              "      <td>W</td>\n",
              "    </tr>\n",
              "    <tr>\n",
              "      <th>37731</th>\n",
              "      <td>2155646</td>\n",
              "      <td>38794897</td>\n",
              "      <td>M</td>\n",
              "      <td>36741</td>\n",
              "      <td>Ronnie</td>\n",
              "      <td>thanks sherrod. from the snow belt!</td>\n",
              "      <td>Sherrod Brown</td>\n",
              "      <td>Congress_Democratic</td>\n",
              "      <td>0.004751</td>\n",
              "      <td>W</td>\n",
              "    </tr>\n",
              "    <tr>\n",
              "      <th>1323993</th>\n",
              "      <td>7742287</td>\n",
              "      <td>99469231</td>\n",
              "      <td>M</td>\n",
              "      <td>296103</td>\n",
              "      <td>Bernardi</td>\n",
              "      <td>you should move to the democ rats - obama lama ding dong - thank you and good night</td>\n",
              "      <td>John McCain</td>\n",
              "      <td>Congress_Republican</td>\n",
              "      <td>0.004772</td>\n",
              "      <td>W</td>\n",
              "    </tr>\n",
              "    <tr>\n",
              "      <th>1812367</th>\n",
              "      <td>10335504</td>\n",
              "      <td>32570461</td>\n",
              "      <td>M</td>\n",
              "      <td>382419</td>\n",
              "      <td>Sarah</td>\n",
              "      <td>big thanks @jackie williams , for willingness and be ready to drive people to go vote !  drive f...</td>\n",
              "      <td>Tim Kaine</td>\n",
              "      <td>Congress_Democratic</td>\n",
              "      <td>0.004885</td>\n",
              "      <td>W</td>\n",
              "    </tr>\n",
              "    <tr>\n",
              "      <th>634967</th>\n",
              "      <td>4884021</td>\n",
              "      <td>46506154</td>\n",
              "      <td>M</td>\n",
              "      <td>160214</td>\n",
              "      <td>Maria</td>\n",
              "      <td>mis respeto para nancy reagan, ejemplo de bondad y amabilidad, que en paz descanse</td>\n",
              "      <td>Marco Rubio</td>\n",
              "      <td>Congress_Republican</td>\n",
              "      <td>0.004886</td>\n",
              "      <td>W</td>\n",
              "    </tr>\n",
              "    <tr>\n",
              "      <th>164975</th>\n",
              "      <td>2320833</td>\n",
              "      <td>89989833</td>\n",
              "      <td>M</td>\n",
              "      <td>49699</td>\n",
              "      <td>Bob</td>\n",
              "      <td>@ gypsy red...well said, madam...</td>\n",
              "      <td>Ted Poe</td>\n",
              "      <td>Congress_Republican</td>\n",
              "      <td>0.004962</td>\n",
              "      <td>W</td>\n",
              "    </tr>\n",
              "  </tbody>\n",
              "</table>\n",
              "</div>"
            ],
            "text/plain": [
              "         original_idx     op_id op_gender  ...          op_category     probs preds\n",
              "2286672      13470134  36181883         M  ...  Congress_Republican  0.000617     W\n",
              "1058592       5307646  46506154         M  ...  Congress_Republican  0.000776     W\n",
              "589151        4838205  46506154         M  ...  Congress_Republican  0.001281     W\n",
              "1058302       5307356  46506154         M  ...  Congress_Republican  0.001495     W\n",
              "1900921      10933849  10458808         M  ...  Congress_Democratic  0.001864     W\n",
              "1419037       7837331  99469231         M  ...  Congress_Republican  0.002304     W\n",
              "1581041       7999335  99469231         M  ...  Congress_Republican  0.002445     W\n",
              "1322094       7740388  99469231         M  ...  Congress_Republican  0.002568     W\n",
              "572168        4821222  46506154         M  ...  Congress_Republican  0.002595     W\n",
              "1582479       8000773  99469231         M  ...  Congress_Republican  0.002598     W\n",
              "180028        2356780  62246450         M  ...  Congress_Democratic  0.002637     W\n",
              "141619        2297477  89989833         M  ...  Congress_Republican  0.002717     W\n",
              "75584         2193499  38794897         M  ...  Congress_Democratic  0.003437     W\n",
              "1365651       7783945  99469231         M  ...  Congress_Republican  0.003547     W\n",
              "1524496       7942790  99469231         M  ...  Congress_Republican  0.004706     W\n",
              "37731         2155646  38794897         M  ...  Congress_Democratic  0.004751     W\n",
              "1323993       7742287  99469231         M  ...  Congress_Republican  0.004772     W\n",
              "1812367      10335504  32570461         M  ...  Congress_Democratic  0.004885     W\n",
              "634967        4884021  46506154         M  ...  Congress_Republican  0.004886     W\n",
              "164975        2320833  89989833         M  ...  Congress_Republican  0.004962     W\n",
              "\n",
              "[20 rows x 10 columns]"
            ]
          },
          "metadata": {
            "tags": []
          },
          "execution_count": 40
        }
      ]
    }
  ]
}

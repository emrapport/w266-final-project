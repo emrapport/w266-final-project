{
  "nbformat": 4,
  "nbformat_minor": 0,
  "metadata": {
    "kernelspec": {
      "name": "python3",
      "display_name": "Python 3"
    },
    "language_info": {
      "codemirror_mode": {
        "name": "ipython",
        "version": 3
      },
      "file_extension": ".py",
      "mimetype": "text/x-python",
      "name": "python",
      "nbconvert_exporter": "python",
      "pygments_lexer": "ipython3",
      "version": "3.7.4"
    },
    "colab": {
      "name": "three_plus_word_responses.ipynb",
      "provenance": [],
      "machine_shape": "hm",
      "include_colab_link": true
    },
    "accelerator": "TPU"
  },
  "cells": [
    {
      "cell_type": "markdown",
      "metadata": {
        "id": "view-in-github",
        "colab_type": "text"
      },
      "source": [
        "<a href=\"https://colab.research.google.com/github/emrapport/w266-final-project/blob/master/modeling/three_plus_word_resp_2nd_split.ipynb\" target=\"_parent\"><img src=\"https://colab.research.google.com/assets/colab-badge.svg\" alt=\"Open In Colab\"/></a>"
      ]
    },
    {
      "cell_type": "markdown",
      "metadata": {
        "id": "ldVKPuCY1oqk",
        "colab_type": "text"
      },
      "source": [
        "## Remove posts with only 1 or 2 words. Leave response length at 20.\n",
        "\n"
      ]
    },
    {
      "cell_type": "code",
      "metadata": {
        "id": "dJtCeCgbSs0D",
        "colab_type": "code",
        "colab": {}
      },
      "source": [
        "# this notebook is based off of this blog post: \n",
        "# https://realpython.com/python-keras-text-classification/#reader-comments"
      ],
      "execution_count": 0,
      "outputs": []
    },
    {
      "cell_type": "code",
      "metadata": {
        "id": "_QYIGfoPFRZK",
        "colab_type": "code",
        "colab": {}
      },
      "source": [
        "DATASET_NAME = \"three_plus_words\"\n",
        "MODEL_NAME = \"three_plus_words\"\n",
        "MAX_SEQ_LENGTH = 20\n",
        "TRAINING_SET_SIZE = 4000000\n",
        "VAL_SET_SIZE = 2000000\n",
        "NUM_EPOCHS = 30\n",
        "BATCH_SIZE = 1000\n",
        "MAX_SEQUENCE_LENGTH = 20\n",
        "\n",
        "\n",
        "# I don't think we have a good reason to do this right now\n",
        "# but we might eventually \n",
        "SAVE_TOKENIZED_DATA = False"
      ],
      "execution_count": 0,
      "outputs": []
    },
    {
      "cell_type": "code",
      "metadata": {
        "id": "l0rrZSx7Ss0M",
        "colab_type": "code",
        "outputId": "291e48ad-0622-466b-d765-3ec6d9a44f0c",
        "colab": {
          "base_uri": "https://localhost:8080/",
          "height": 316
        }
      },
      "source": [
        "from sklearn.linear_model import LogisticRegression\n",
        "from sklearn.feature_extraction.text import HashingVectorizer\n",
        "from scipy.sparse import hstack, vstack\n",
        "from keras.preprocessing.text import Tokenizer\n",
        "from tensorflow.keras import Sequential, layers\n",
        "from keras.utils import plot_model\n",
        "import pandas as pd\n",
        "import numpy as np\n",
        "import copy\n",
        "import time\n",
        "import pickle\n",
        "import random\n",
        "import math\n",
        "import os\n",
        "!pip install gcsfs\n",
        "\n",
        "pd.set_option('max_colwidth', 100)\n",
        "\n"
      ],
      "execution_count": 24,
      "outputs": [
        {
          "output_type": "stream",
          "text": [
            "Requirement already satisfied: gcsfs in /usr/local/lib/python3.6/dist-packages (0.4.0)\n",
            "Requirement already satisfied: fsspec>=0.6.0 in /usr/local/lib/python3.6/dist-packages (from gcsfs) (0.6.0)\n",
            "Requirement already satisfied: decorator in /usr/local/lib/python3.6/dist-packages (from gcsfs) (4.4.1)\n",
            "Requirement already satisfied: requests in /usr/local/lib/python3.6/dist-packages (from gcsfs) (2.21.0)\n",
            "Requirement already satisfied: google-auth-oauthlib in /usr/local/lib/python3.6/dist-packages (from gcsfs) (0.4.1)\n",
            "Requirement already satisfied: google-auth>=1.2 in /usr/local/lib/python3.6/dist-packages (from gcsfs) (1.4.2)\n",
            "Requirement already satisfied: chardet<3.1.0,>=3.0.2 in /usr/local/lib/python3.6/dist-packages (from requests->gcsfs) (3.0.4)\n",
            "Requirement already satisfied: certifi>=2017.4.17 in /usr/local/lib/python3.6/dist-packages (from requests->gcsfs) (2019.9.11)\n",
            "Requirement already satisfied: idna<2.9,>=2.5 in /usr/local/lib/python3.6/dist-packages (from requests->gcsfs) (2.8)\n",
            "Requirement already satisfied: urllib3<1.25,>=1.21.1 in /usr/local/lib/python3.6/dist-packages (from requests->gcsfs) (1.24.3)\n",
            "Requirement already satisfied: requests-oauthlib>=0.7.0 in /usr/local/lib/python3.6/dist-packages (from google-auth-oauthlib->gcsfs) (1.3.0)\n",
            "Requirement already satisfied: pyasn1-modules>=0.2.1 in /usr/local/lib/python3.6/dist-packages (from google-auth>=1.2->gcsfs) (0.2.7)\n",
            "Requirement already satisfied: rsa>=3.1.4 in /usr/local/lib/python3.6/dist-packages (from google-auth>=1.2->gcsfs) (4.0)\n",
            "Requirement already satisfied: six>=1.9.0 in /usr/local/lib/python3.6/dist-packages (from google-auth>=1.2->gcsfs) (1.12.0)\n",
            "Requirement already satisfied: cachetools>=2.0.0 in /usr/local/lib/python3.6/dist-packages (from google-auth>=1.2->gcsfs) (3.1.1)\n",
            "Requirement already satisfied: oauthlib>=3.0.0 in /usr/local/lib/python3.6/dist-packages (from requests-oauthlib>=0.7.0->google-auth-oauthlib->gcsfs) (3.1.0)\n",
            "Requirement already satisfied: pyasn1<0.5.0,>=0.4.6 in /usr/local/lib/python3.6/dist-packages (from pyasn1-modules>=0.2.1->google-auth>=1.2->gcsfs) (0.4.7)\n"
          ],
          "name": "stdout"
        }
      ]
    },
    {
      "cell_type": "code",
      "metadata": {
        "id": "lKNfUKrfUgP-",
        "colab_type": "code",
        "outputId": "788cd8e9-321f-46e2-a129-027ef2ee8b39",
        "colab": {
          "base_uri": "https://localhost:8080/",
          "height": 175
        }
      },
      "source": [
        "# this cell is only necessary if running in colab\n",
        "project_id = 'w266-251323'\n",
        "import uuid\n",
        "bucket_name = 'fb-congressional-data/'\n",
        "from google.colab import auth\n",
        "auth.authenticate_user()\n",
        "!gcloud config set project {project_id}"
      ],
      "execution_count": 3,
      "outputs": [
        {
          "output_type": "stream",
          "text": [
            "WARNING:tensorflow:\n",
            "The TensorFlow contrib module will not be included in TensorFlow 2.0.\n",
            "For more information, please see:\n",
            "  * https://github.com/tensorflow/community/blob/master/rfcs/20180907-contrib-sunset.md\n",
            "  * https://github.com/tensorflow/addons\n",
            "  * https://github.com/tensorflow/io (for I/O related ops)\n",
            "If you depend on functionality not listed there, please file an issue.\n",
            "\n",
            "Updated property [core/project].\n"
          ],
          "name": "stdout"
        }
      ]
    },
    {
      "cell_type": "code",
      "metadata": {
        "id": "9T7PzdLQSs0j",
        "colab_type": "code",
        "outputId": "8ee31efb-b921-42b1-f149-9e5eda6f2c8a",
        "colab": {
          "base_uri": "https://localhost:8080/",
          "height": 72
        }
      },
      "source": [
        "train_df = pd.read_csv(\"gs://fb-congressional-data/contraction_expanded_data/train.csv\", index_col=0)"
      ],
      "execution_count": 4,
      "outputs": [
        {
          "output_type": "stream",
          "text": [
            "/usr/local/lib/python3.6/dist-packages/numpy/lib/arraysetops.py:568: FutureWarning: elementwise comparison failed; returning scalar instead, but in the future will perform elementwise comparison\n",
            "  mask |= (ar1 == a)\n"
          ],
          "name": "stderr"
        }
      ]
    },
    {
      "cell_type": "code",
      "metadata": {
        "id": "0iOniVLISs0m",
        "colab_type": "code",
        "outputId": "9dc68375-4e10-4fff-e5be-7d5d86de51de",
        "colab": {
          "base_uri": "https://localhost:8080/",
          "height": 72
        }
      },
      "source": [
        "dev_df = pd.read_csv(\"gs://fb-congressional-data/contraction_expanded_data/dev.csv\", index_col=0)"
      ],
      "execution_count": 5,
      "outputs": [
        {
          "output_type": "stream",
          "text": [
            "/usr/local/lib/python3.6/dist-packages/numpy/lib/arraysetops.py:568: FutureWarning: elementwise comparison failed; returning scalar instead, but in the future will perform elementwise comparison\n",
            "  mask |= (ar1 == a)\n"
          ],
          "name": "stderr"
        }
      ]
    },
    {
      "cell_type": "code",
      "metadata": {
        "id": "5j1nacIwgerr",
        "colab_type": "code",
        "colab": {
          "base_uri": "https://localhost:8080/",
          "height": 72
        },
        "outputId": "c6e7aea1-fda0-4b7a-cc7f-acab585761fd"
      },
      "source": [
        "test_df = pd.read_csv(\"gs://fb-congressional-data/contraction_expanded_data/test.csv\", index_col=0)"
      ],
      "execution_count": 14,
      "outputs": [
        {
          "output_type": "stream",
          "text": [
            "/usr/local/lib/python3.6/dist-packages/numpy/lib/arraysetops.py:568: FutureWarning: elementwise comparison failed; returning scalar instead, but in the future will perform elementwise comparison\n",
            "  mask |= (ar1 == a)\n"
          ],
          "name": "stderr"
        }
      ]
    },
    {
      "cell_type": "code",
      "metadata": {
        "id": "XI4vb7xhh07o",
        "colab_type": "code",
        "colab": {
          "base_uri": "https://localhost:8080/",
          "height": 195
        },
        "outputId": "ba55e00b-40f4-4354-82a4-58a48a2b9e96"
      },
      "source": [
        "test_df.head()"
      ],
      "execution_count": 16,
      "outputs": [
        {
          "output_type": "execute_result",
          "data": {
            "text/html": [
              "<div>\n",
              "<style scoped>\n",
              "    .dataframe tbody tr th:only-of-type {\n",
              "        vertical-align: middle;\n",
              "    }\n",
              "\n",
              "    .dataframe tbody tr th {\n",
              "        vertical-align: top;\n",
              "    }\n",
              "\n",
              "    .dataframe thead th {\n",
              "        text-align: right;\n",
              "    }\n",
              "</style>\n",
              "<table border=\"1\" class=\"dataframe\">\n",
              "  <thead>\n",
              "    <tr style=\"text-align: right;\">\n",
              "      <th></th>\n",
              "      <th>original_idx</th>\n",
              "      <th>op_id</th>\n",
              "      <th>op_gender</th>\n",
              "      <th>post_id</th>\n",
              "      <th>responder_id</th>\n",
              "      <th>response_text</th>\n",
              "      <th>op_name</th>\n",
              "      <th>op_category</th>\n",
              "    </tr>\n",
              "  </thead>\n",
              "  <tbody>\n",
              "    <tr>\n",
              "      <th>0</th>\n",
              "      <td>1682766</td>\n",
              "      <td>78379937</td>\n",
              "      <td>W</td>\n",
              "      <td>21367</td>\n",
              "      <td>Tonia</td>\n",
              "      <td>jacky thank you for addressing this very troubling news! please demand a full independent invest...</td>\n",
              "      <td>Jacky Rosen</td>\n",
              "      <td>Congress_Democratic</td>\n",
              "    </tr>\n",
              "    <tr>\n",
              "      <th>1</th>\n",
              "      <td>1682767</td>\n",
              "      <td>78379937</td>\n",
              "      <td>W</td>\n",
              "      <td>21367</td>\n",
              "      <td>Michancy</td>\n",
              "      <td>agreed!  the russian connection to this administration must be fully investigated. flynn is the ...</td>\n",
              "      <td>Jacky Rosen</td>\n",
              "      <td>Congress_Democratic</td>\n",
              "    </tr>\n",
              "    <tr>\n",
              "      <th>2</th>\n",
              "      <td>1682768</td>\n",
              "      <td>78379937</td>\n",
              "      <td>W</td>\n",
              "      <td>21367</td>\n",
              "      <td>Andrea</td>\n",
              "      <td>please push chaffez and cummings to look into this!</td>\n",
              "      <td>Jacky Rosen</td>\n",
              "      <td>Congress_Democratic</td>\n",
              "    </tr>\n",
              "    <tr>\n",
              "      <th>3</th>\n",
              "      <td>1682769</td>\n",
              "      <td>78379937</td>\n",
              "      <td>W</td>\n",
              "      <td>21367</td>\n",
              "      <td>Tina</td>\n",
              "      <td>i could not agree more!</td>\n",
              "      <td>Jacky Rosen</td>\n",
              "      <td>Congress_Democratic</td>\n",
              "    </tr>\n",
              "    <tr>\n",
              "      <th>4</th>\n",
              "      <td>1682770</td>\n",
              "      <td>78379937</td>\n",
              "      <td>W</td>\n",
              "      <td>21368</td>\n",
              "      <td>Cathy</td>\n",
              "      <td>i imagine that is followed by \"when qualifited.\"</td>\n",
              "      <td>Jacky Rosen</td>\n",
              "      <td>Congress_Democratic</td>\n",
              "    </tr>\n",
              "  </tbody>\n",
              "</table>\n",
              "</div>"
            ],
            "text/plain": [
              "   original_idx     op_id  ...      op_name          op_category\n",
              "0       1682766  78379937  ...  Jacky Rosen  Congress_Democratic\n",
              "1       1682767  78379937  ...  Jacky Rosen  Congress_Democratic\n",
              "2       1682768  78379937  ...  Jacky Rosen  Congress_Democratic\n",
              "3       1682769  78379937  ...  Jacky Rosen  Congress_Democratic\n",
              "4       1682770  78379937  ...  Jacky Rosen  Congress_Democratic\n",
              "\n",
              "[5 rows x 8 columns]"
            ]
          },
          "metadata": {
            "tags": []
          },
          "execution_count": 16
        }
      ]
    },
    {
      "cell_type": "code",
      "metadata": {
        "id": "Gzv6Q7SSwG5q",
        "colab_type": "code",
        "colab": {}
      },
      "source": [
        "all_responses = pd.concat([train_df,test_df,dev_df])"
      ],
      "execution_count": 0,
      "outputs": []
    },
    {
      "cell_type": "code",
      "metadata": {
        "colab_type": "code",
        "id": "Ub08QeEzh38c",
        "colab": {}
      },
      "source": [
        "all_unique_posters_train = train_df['op_id'].drop_duplicates().values\n",
        "all_unique_posters_dev = dev_df['op_id'].drop_duplicates().values\n",
        "all_unique_posters_test = test_df['op_id'].drop_duplicates().values\n",
        "all_unique_posters_train"
      ],
      "execution_count": 0,
      "outputs": []
    },
    {
      "cell_type": "code",
      "metadata": {
        "id": "6sOBM6Q6Q4Mz",
        "colab_type": "code",
        "outputId": "6406da1b-5393-4c6a-b4f8-ed0951f06d2a",
        "colab": {
          "base_uri": "https://localhost:8080/",
          "height": 34
        }
      },
      "source": [
        "all_unique_posters = np.concatenate((all_unique_posters_train,all_unique_posters_dev,all_unique_posters_test))\n",
        "len(all_unique_posters)"
      ],
      "execution_count": 22,
      "outputs": [
        {
          "output_type": "execute_result",
          "data": {
            "text/plain": [
              "402"
            ]
          },
          "metadata": {
            "tags": []
          },
          "execution_count": 22
        }
      ]
    },
    {
      "cell_type": "code",
      "metadata": {
        "id": "bwNu4VTq46QG",
        "colab_type": "code",
        "outputId": "36325f87-585f-4734-ea0f-c14e6baf14d3",
        "colab": {
          "base_uri": "https://localhost:8080/",
          "height": 34
        }
      },
      "source": [
        "# shuffle with random seed \n",
        "all_unique_posters2 = copy.deepcopy(all_unique_posters)\n",
        "random.Random(7).shuffle(all_unique_posters2)\n",
        "all_unique_posters2[:5]"
      ],
      "execution_count": 25,
      "outputs": [
        {
          "output_type": "execute_result",
          "data": {
            "text/plain": [
              "array([92713922, 38408437,  3812062,  3613205, 49930535])"
            ]
          },
          "metadata": {
            "tags": []
          },
          "execution_count": 25
        }
      ]
    },
    {
      "cell_type": "code",
      "metadata": {
        "id": "dk4goOwAPXRH",
        "colab_type": "code",
        "colab": {}
      },
      "source": [
        "# Create indices for 70-15-15 split.\n",
        "seventy_percent_split = math.floor(.7 * len(all_unique_posters))\n",
        "fifteen_percent_split = seventy_percent_split + math.floor(.15*len(all_unique_posters))\n",
        "train_idxs = all_unique_posters2[:seventy_percent_split]\n",
        "test_idxs = all_unique_posters2[seventy_percent_split:fifteen_percent_split]\n",
        "dev_idxs = all_unique_posters2[fifteen_percent_split:]"
      ],
      "execution_count": 0,
      "outputs": []
    },
    {
      "cell_type": "code",
      "metadata": {
        "id": "SDZQzI7RNjfW",
        "colab_type": "code",
        "colab": {}
      },
      "source": [
        "def determine_gender_split_of_data_subsets(idx_list, list_title):\n",
        "    posters = pd.DataFrame({'op_id': idx_list})\n",
        "    posters = posters.merge(all_responses[['op_id','op_gender']], on='op_id')\n",
        "    posters = posters.drop_duplicates(subset='op_id')\n",
        "    percent_male = len(posters[posters.op_gender=='M']) / len(posters)\n",
        "    print(\"Proportion male in {} set: {:.3f}\".format(list_title, percent_male))"
      ],
      "execution_count": 0,
      "outputs": []
    },
    {
      "cell_type": "code",
      "metadata": {
        "id": "K95juTqs5nM1",
        "colab_type": "code",
        "outputId": "88752a85-b9c0-4beb-bd72-cf29a00eb3c2",
        "colab": {
          "base_uri": "https://localhost:8080/",
          "height": 70
        }
      },
      "source": [
        "determine_gender_split_of_data_subsets(train_idxs, \"Train\")\n",
        "determine_gender_split_of_data_subsets(test_idxs, \"Test\")\n",
        "determine_gender_split_of_data_subsets(dev_idxs, \"Dev\")"
      ],
      "execution_count": 33,
      "outputs": [
        {
          "output_type": "stream",
          "text": [
            "Proportion male in Train set: 0.747\n",
            "Proportion male in Test set: 0.800\n",
            "Proportion male in Dev set: 0.787\n"
          ],
          "name": "stdout"
        }
      ]
    },
    {
      "cell_type": "code",
      "metadata": {
        "id": "0Rr_Uonq5sLV",
        "colab_type": "code",
        "colab": {}
      },
      "source": [
        "train_rows = all_responses[all_responses.op_id.isin(train_idxs)]\n",
        "test_rows = all_responses[all_responses.op_id.isin(test_idxs)]\n",
        "dev_rows = all_responses[all_responses.op_id.isin(dev_idxs)]"
      ],
      "execution_count": 0,
      "outputs": []
    },
    {
      "cell_type": "code",
      "metadata": {
        "id": "W1oM4o7wtHFd",
        "colab_type": "code",
        "outputId": "692afae7-38c5-4990-836c-eb5da4cb554f",
        "colab": {
          "base_uri": "https://localhost:8080/",
          "height": 70
        }
      },
      "source": [
        "def determine_relative_dataset_sizes(train_rows, test_rows, dev_rows):\n",
        "    train_size = len(train_rows)\n",
        "    test_size = len(test_rows)\n",
        "    dev_size = len(dev_rows)\n",
        "    full_size = train_size + dev_size + test_size\n",
        "    print(\"Proportion train: {:.3f}\".format(train_size / full_size))\n",
        "    print(\"Proportion test: {:.3f}\".format(test_size / full_size))\n",
        "    print(\"Proportion dev: {:.3f}\".format(dev_size / full_size))\n",
        "    \n",
        "determine_relative_dataset_sizes(train_rows, test_rows, dev_rows)"
      ],
      "execution_count": 36,
      "outputs": [
        {
          "output_type": "stream",
          "text": [
            "Proportion train: 0.767\n",
            "Proportion test: 0.087\n",
            "Proportion dev: 0.145\n"
          ],
          "name": "stdout"
        }
      ]
    },
    {
      "cell_type": "code",
      "metadata": {
        "id": "bszUG8StACEF",
        "colab_type": "code",
        "colab": {}
      },
      "source": [
        "train_df = train_rows\n",
        "dev_df = dev_rows"
      ],
      "execution_count": 0,
      "outputs": []
    },
    {
      "cell_type": "code",
      "metadata": {
        "id": "gc2NxODX_1vv",
        "colab_type": "code",
        "colab": {
          "base_uri": "https://localhost:8080/",
          "height": 140
        },
        "outputId": "378b5ca5-451b-4198-ea03-3172964ef193"
      },
      "source": [
        "# Remove 1 and 2 word responses from train set.\n",
        "# Split response string by spaces.\n",
        "train_df['split_response'] = train_df['response_text'].str.split()\n",
        "# Remove the split responses that have length 1 or 2.\n",
        "mask = (train_df['split_response'].str.len() > 2) \n",
        "train_df = train_df.loc[mask]\n",
        "len(train_df)"
      ],
      "execution_count": 39,
      "outputs": [
        {
          "output_type": "stream",
          "text": [
            "/usr/local/lib/python3.6/dist-packages/ipykernel_launcher.py:1: SettingWithCopyWarning: \n",
            "A value is trying to be set on a copy of a slice from a DataFrame.\n",
            "Try using .loc[row_indexer,col_indexer] = value instead\n",
            "\n",
            "See the caveats in the documentation: http://pandas.pydata.org/pandas-docs/stable/user_guide/indexing.html#returning-a-view-versus-a-copy\n",
            "  \"\"\"Entry point for launching an IPython kernel.\n"
          ],
          "name": "stderr"
        },
        {
          "output_type": "execute_result",
          "data": {
            "text/plain": [
              "9348779"
            ]
          },
          "metadata": {
            "tags": []
          },
          "execution_count": 39
        }
      ]
    },
    {
      "cell_type": "code",
      "metadata": {
        "id": "GiMGRDzY_zKg",
        "colab_type": "code",
        "colab": {
          "base_uri": "https://localhost:8080/",
          "height": 140
        },
        "outputId": "25cf6a61-ef6e-47cd-e9df-bcb51af3ae0d"
      },
      "source": [
        "# Remove 1 and 2 word responses from dev set.\n",
        "# Split response string by spaces.\n",
        "dev_df['split_response'] = dev_df['response_text'].str.split()\n",
        "# Remove the split responses that have length 1 or 2.\n",
        "mask2 = (dev_df['split_response'].str.len() > 2) \n",
        "dev_df = dev_df.loc[mask2]\n",
        "len(dev_df)"
      ],
      "execution_count": 40,
      "outputs": [
        {
          "output_type": "stream",
          "text": [
            "/usr/local/lib/python3.6/dist-packages/ipykernel_launcher.py:1: SettingWithCopyWarning: \n",
            "A value is trying to be set on a copy of a slice from a DataFrame.\n",
            "Try using .loc[row_indexer,col_indexer] = value instead\n",
            "\n",
            "See the caveats in the documentation: http://pandas.pydata.org/pandas-docs/stable/user_guide/indexing.html#returning-a-view-versus-a-copy\n",
            "  \"\"\"Entry point for launching an IPython kernel.\n"
          ],
          "name": "stderr"
        },
        {
          "output_type": "execute_result",
          "data": {
            "text/plain": [
              "1815559"
            ]
          },
          "metadata": {
            "tags": []
          },
          "execution_count": 40
        }
      ]
    },
    {
      "cell_type": "code",
      "metadata": {
        "id": "S26kgdZ_AkjY",
        "colab_type": "code",
        "colab": {
          "base_uri": "https://localhost:8080/",
          "height": 34
        },
        "outputId": "3bf0af17-4be5-41ab-8791-4b3a19acaf94"
      },
      "source": [
        "# Limit the number of responses per post to 50.\n",
        "num_responses_per_post = train_df.post_id.value_counts().reset_index()\n",
        "num_responses_per_post.columns = ['post_id', 'num_responses']\n",
        "too_big_posts = num_responses_per_post[num_responses_per_post.num_responses > 50]\n",
        "posts_to_sample = too_big_posts.post_id.values\n",
        "# this gets all the rows for posts we DON'T need to sample \n",
        "new_train_df = train_df[~train_df.post_id.isin(posts_to_sample)]\n",
        "# this should be true\n",
        "assert(len(too_big_posts) + new_train_df.post_id.nunique() == train_df.post_id.nunique())\n",
        "too_big_post_rows = train_df[train_df.post_id.isin(posts_to_sample)]\n",
        "sampled_rows = too_big_post_rows.groupby('post_id').apply(lambda x: x.sample(n=50)).reset_index(drop=True)\n",
        "new_train_df = pd.concat([new_train_df, sampled_rows])\n",
        "new_train_df.shape"
      ],
      "execution_count": 41,
      "outputs": [
        {
          "output_type": "execute_result",
          "data": {
            "text/plain": [
              "(3831551, 9)"
            ]
          },
          "metadata": {
            "tags": []
          },
          "execution_count": 41
        }
      ]
    },
    {
      "cell_type": "code",
      "metadata": {
        "id": "pX5YDzKFA-Ae",
        "colab_type": "code",
        "colab": {
          "base_uri": "https://localhost:8080/",
          "height": 34
        },
        "outputId": "05942897-c225-4202-fb26-69070aaae599"
      },
      "source": [
        "import gc\n",
        "gc.collect()"
      ],
      "execution_count": 75,
      "outputs": [
        {
          "output_type": "execute_result",
          "data": {
            "text/plain": [
              "41"
            ]
          },
          "metadata": {
            "tags": []
          },
          "execution_count": 75
        }
      ]
    },
    {
      "cell_type": "code",
      "metadata": {
        "id": "jT4xoHcDJQVw",
        "colab_type": "code",
        "colab": {}
      },
      "source": [
        "# Set seeds for reproducible results.\n",
        "from numpy.random import seed\n",
        "seed(1)\n",
        "from tensorflow import set_random_seed\n",
        "set_random_seed(2)"
      ],
      "execution_count": 0,
      "outputs": []
    },
    {
      "cell_type": "code",
      "metadata": {
        "id": "MgZWntiySs0p",
        "colab_type": "code",
        "colab": {}
      },
      "source": [
        "# shuffle the data\n",
        "# be sure to do this before you extract X's and y's!!\n",
        "train_df = new_train_df.sample(frac=1)\n",
        "dev_df = dev_df.sample(frac=1)"
      ],
      "execution_count": 0,
      "outputs": []
    },
    {
      "cell_type": "code",
      "metadata": {
        "id": "1ZJxHTywg7Rq",
        "colab_type": "code",
        "outputId": "b4209722-a0d9-4cca-838a-c2ef5907c9a0",
        "colab": {
          "base_uri": "https://localhost:8080/",
          "height": 70
        }
      },
      "source": [
        "train_df.op_gender.value_counts()"
      ],
      "execution_count": 46,
      "outputs": [
        {
          "output_type": "execute_result",
          "data": {
            "text/plain": [
              "M    2755275\n",
              "W    1076276\n",
              "Name: op_gender, dtype: int64"
            ]
          },
          "metadata": {
            "tags": []
          },
          "execution_count": 46
        }
      ]
    },
    {
      "cell_type": "code",
      "metadata": {
        "id": "kC70Y5RXJlHI",
        "colab_type": "code",
        "outputId": "a10fd94d-7e80-4050-b1c3-67c6098da8f9",
        "colab": {
          "base_uri": "https://localhost:8080/",
          "height": 70
        }
      },
      "source": [
        "dev_df.op_gender.value_counts()"
      ],
      "execution_count": 47,
      "outputs": [
        {
          "output_type": "execute_result",
          "data": {
            "text/plain": [
              "M    1494771\n",
              "W     320788\n",
              "Name: op_gender, dtype: int64"
            ]
          },
          "metadata": {
            "tags": []
          },
          "execution_count": 47
        }
      ]
    },
    {
      "cell_type": "code",
      "metadata": {
        "id": "wvu7r5nThL1Z",
        "colab_type": "code",
        "colab": {}
      },
      "source": [
        "###########################\n",
        "# Execute this if want to do oversampling.\n",
        "###########################\n",
        "# from sklearn.utils import resample\n",
        "\n",
        "# male = train_df[train_df.op_gender=='M']\n",
        "# female = train_df[train_df.op_gender=='W']\n",
        "\n",
        "# female_upsampled = resample(female,\n",
        "#                           replace=True, # sample with replacement\n",
        "#                           n_samples=len(male), # match number in majority class\n",
        "#                           random_state=27) # reproducible results\n",
        "# upsampled_train = pd.concat([male,female_upsampled])\n",
        "# print(upsampled_train.op_gender.value_counts())\n"
      ],
      "execution_count": 0,
      "outputs": []
    },
    {
      "cell_type": "code",
      "metadata": {
        "id": "Pjb6dx8fSs0s",
        "colab_type": "code",
        "colab": {}
      },
      "source": [
        "# replace `train_df` with `upsampled_train` if using oversampling.\n",
        "y_train = train_df.op_gender.values\n",
        "y_dev = dev_df.op_gender.values"
      ],
      "execution_count": 0,
      "outputs": []
    },
    {
      "cell_type": "code",
      "metadata": {
        "id": "pBCoPKh_Ss0v",
        "colab_type": "code",
        "colab": {}
      },
      "source": [
        "def turn_to_ints(li):\n",
        "    final_list = []\n",
        "    for gender in li:\n",
        "        if gender=='M':\n",
        "            final_list.append(1)\n",
        "        else:\n",
        "            final_list.append(0)\n",
        "    return final_list\n",
        "            \n",
        "y_train = turn_to_ints(y_train)\n",
        "y_dev = turn_to_ints(y_dev)"
      ],
      "execution_count": 0,
      "outputs": []
    },
    {
      "cell_type": "code",
      "metadata": {
        "id": "hN9GFz6xSs0y",
        "colab_type": "code",
        "colab": {}
      },
      "source": [
        "y_train = np.asarray(y_train)\n",
        "y_dev = np.asarray(y_dev)"
      ],
      "execution_count": 0,
      "outputs": []
    },
    {
      "cell_type": "code",
      "metadata": {
        "id": "ChYxh6oPSs04",
        "colab_type": "code",
        "colab": {}
      },
      "source": [
        "def get_text_list(init_list):\n",
        "    sentences = []\n",
        "    for sentence in init_list:\n",
        "        if type(sentence) != str:\n",
        "            sentences.append(\"\")\n",
        "        else:\n",
        "            sentences.append(sentence)\n",
        "    return sentences\n",
        "\n",
        "# replace `train_df` with `upsampled_train` if using upsampling.\n",
        "new_sentences_train = get_text_list(train_df.response_text.values) \n",
        "new_sentences_test = get_text_list(dev_df.response_text.values)"
      ],
      "execution_count": 0,
      "outputs": []
    },
    {
      "cell_type": "code",
      "metadata": {
        "id": "1b9SE7SjSs06",
        "colab_type": "code",
        "outputId": "46d2d358-1d12-4547-c613-5bde317fb415",
        "colab": {
          "base_uri": "https://localhost:8080/",
          "height": 34
        }
      },
      "source": [
        "time_start = time.time()\n",
        "\n",
        "# this is the default list of filters + apostrophe\n",
        "# added because we have dealt with common contractions, so other apostrophes should mostly be possessive \n",
        "tokenizer = Tokenizer(num_words=200000, filters='!\"\\'#$%&()*+,-./:;<=>?@[\\\\]^_`{|}~\\t\\n')\n",
        "tokenizer.fit_on_texts(new_sentences_train)\n",
        "\n",
        "X_train = tokenizer.texts_to_sequences(new_sentences_train)\n",
        "X_test = tokenizer.texts_to_sequences(new_sentences_test)\n",
        "\n",
        "vocab_size = len(tokenizer.word_index) + 1\n",
        "\n",
        "currentTime = time.gmtime(time.time() - time_start)\n",
        "\n",
        "#Convert the gmtime struct to a string\n",
        "timeStr = time.strftime(\"%M minutes, %S seconds\", currentTime)\n",
        "\n",
        "print(\"Tokenized in {}\".format(timeStr))"
      ],
      "execution_count": 52,
      "outputs": [
        {
          "output_type": "stream",
          "text": [
            "Tokenized in 05 minutes, 05 seconds\n"
          ],
          "name": "stdout"
        }
      ]
    },
    {
      "cell_type": "code",
      "metadata": {
        "id": "TyZMBAiySs0-",
        "colab_type": "code",
        "colab": {}
      },
      "source": [
        "from keras.preprocessing.sequence import pad_sequences\n",
        "\n",
        "X_train = pad_sequences(X_train, padding='post', maxlen=MAX_SEQUENCE_LENGTH)\n",
        "X_test = pad_sequences(X_test, padding='post', maxlen=MAX_SEQUENCE_LENGTH)"
      ],
      "execution_count": 0,
      "outputs": []
    },
    {
      "cell_type": "code",
      "metadata": {
        "id": "LGl1S3HySs1G",
        "colab_type": "code",
        "colab": {}
      },
      "source": [
        "if SAVE_TOKENIZED_DATA:\n",
        "  x_train_path = 'X_train_{}.pkl'.format(DATASET_NAME)\n",
        "  x_dev_path = 'X_dev_{}.pkl'.format(DATASET_NAME)\n",
        "  y_train_path = 'y_train_{}.pkl'.format(DATASET_NAME)\n",
        "  y_dev_path = 'y_dev_{}.pkl'.format(DATASET_NAME)\n",
        "\n",
        "  with open(x_train_path, 'wb') as file:\n",
        "      pickle.dump(X_train, file)   \n",
        "  with open(x_dev_path, 'wb') as file:\n",
        "      pickle.dump(X_test, file)\n",
        "  with open(y_train_path, 'wb') as file:\n",
        "      pickle.dump(y_train, file)\n",
        "  with open(y_dev_path, 'wb') as file:\n",
        "      pickle.dump(y_dev, file)\n",
        "\n",
        "  # copy to bucket\n",
        "  !gsutil cp /content/{x_train_path} gs://fb-congressional-data/test\n",
        "  !gsutil cp /content/{x_dev_path} gs://fb-congressional-data/\n",
        "  !gsutil cp /content/{y_train_path} gs://fb-congressional-data/\n",
        "  !gsutil cp /content/{y_dev_path} gs://fb-congressional-data/"
      ],
      "execution_count": 0,
      "outputs": []
    },
    {
      "cell_type": "code",
      "metadata": {
        "id": "s5AeCFGIuKIR",
        "colab_type": "code",
        "outputId": "3e876b00-9a93-4334-eafa-fc32f9e18b1c",
        "colab": {
          "base_uri": "https://localhost:8080/",
          "height": 246
        }
      },
      "source": [
        "!gsutil cp gs://fb-congressional-data/glove* /tmp/"
      ],
      "execution_count": 55,
      "outputs": [
        {
          "output_type": "stream",
          "text": [
            "Copying gs://fb-congressional-data/glove.6B.100d.txt...\n",
            "Copying gs://fb-congressional-data/glove.6B.200d.txt...\n",
            "Copying gs://fb-congressional-data/glove.6B.300d.txt...\n",
            "Copying gs://fb-congressional-data/glove.6B.50d.txt...\n",
            "- [4 files][  2.1 GiB/  2.1 GiB]    5.1 MiB/s                                   \n",
            "==> NOTE: You are performing a sequence of gsutil operations that may\n",
            "run significantly faster if you instead use gsutil -m cp ... Please\n",
            "see the -m section under \"gsutil help options\" for further information\n",
            "about when gsutil -m can be advantageous.\n",
            "\n",
            "Copying gs://fb-congressional-data/glove.6B.zip...\n",
            "\\\n",
            "Operation completed over 5 objects/2.9 GiB.                                      \n"
          ],
          "name": "stdout"
        }
      ]
    },
    {
      "cell_type": "code",
      "metadata": {
        "id": "ae5EQ7vbSs1L",
        "colab_type": "code",
        "colab": {}
      },
      "source": [
        "def create_embedding_matrix(filepath, word_index, embedding_dim):\n",
        "    vocab_size = len(word_index) + 1  # Adding again 1 because of reserved 0 index\n",
        "    embedding_matrix = np.zeros((vocab_size, embedding_dim))\n",
        "\n",
        "    with open(filepath) as f:\n",
        "        for line in f:\n",
        "            word, *vector = line.split()\n",
        "            if word in word_index:\n",
        "                idx = word_index[word] \n",
        "                embedding_matrix[idx] = np.array(\n",
        "                    vector, dtype=np.float32)[:embedding_dim]\n",
        "\n",
        "    return embedding_matrix\n",
        "\n",
        "embedding_dim = 100\n",
        "embedding_matrix = create_embedding_matrix(\n",
        "                     '/tmp/glove.6B.{}d.txt'.format(embedding_dim),\n",
        "                      tokenizer.word_index, embedding_dim)"
      ],
      "execution_count": 0,
      "outputs": []
    },
    {
      "cell_type": "code",
      "metadata": {
        "id": "kUTvp7yfut-7",
        "colab_type": "code",
        "colab": {}
      },
      "source": [
        "# trying to figure out which words are empty here\n",
        "# counter = 0\n",
        "# empty_indexes = []\n",
        "# for index, row in enumerate(embedding_matrix):\n",
        "#   if sum(row) == 0:\n",
        "#     empty_indexes.append(index)\n",
        "#     counter += 1\n",
        "#   if counter > 1000:\n",
        "#     break\n",
        "\n",
        "# for idx in empty_indexes:\n",
        "#   try:\n",
        "#     print(tokenizer.index_word[idx])\n",
        "#   except:\n",
        "#     print(\"No entry for {}\".format(idx))\n"
      ],
      "execution_count": 0,
      "outputs": []
    },
    {
      "cell_type": "code",
      "metadata": {
        "id": "UI5vn5zBSs1P",
        "colab_type": "code",
        "colab": {}
      },
      "source": [
        "# hmmmm....\n",
        "# nonzero_elements = np.count_nonzero(np.count_nonzero(embedding_matrix, axis=1))\n",
        "# nonzero_elements / vocab_size"
      ],
      "execution_count": 0,
      "outputs": []
    },
    {
      "cell_type": "code",
      "metadata": {
        "id": "EJtNke4FSs1X",
        "colab_type": "code",
        "outputId": "3f3a5275-e96d-463a-acc4-ce92f6e82ce6",
        "colab": {
          "base_uri": "https://localhost:8080/",
          "height": 34
        }
      },
      "source": [
        "embedding_matrix.shape"
      ],
      "execution_count": 58,
      "outputs": [
        {
          "output_type": "execute_result",
          "data": {
            "text/plain": [
              "(578459, 100)"
            ]
          },
          "metadata": {
            "tags": []
          },
          "execution_count": 58
        }
      ]
    },
    {
      "cell_type": "code",
      "metadata": {
        "id": "tb_yr2R9Ss1d",
        "colab_type": "code",
        "outputId": "ca1ed7ed-6cfa-4979-8e62-80ddc429d731",
        "colab": {
          "base_uri": "https://localhost:8080/",
          "height": 512
        }
      },
      "source": [
        "model = Sequential()\n",
        "model.add(layers.Embedding(vocab_size, embedding_dim, \n",
        "                           weights=[embedding_matrix], \n",
        "                           input_length=MAX_SEQUENCE_LENGTH, \n",
        "                           trainable=False))\n",
        "model.add(layers.Conv1D(128, 5, activation='relu'))\n",
        "model.add(layers.GlobalMaxPooling1D())\n",
        "model.add(layers.Dense(10, activation='relu'))\n",
        "model.add(layers.Dense(1, activation='sigmoid'))\n",
        "model.compile(optimizer='adam',\n",
        "              loss='binary_crossentropy',\n",
        "              metrics=['accuracy'])\n",
        "model.summary()"
      ],
      "execution_count": 59,
      "outputs": [
        {
          "output_type": "stream",
          "text": [
            "WARNING:tensorflow:From /usr/local/lib/python3.6/dist-packages/tensorflow_core/python/keras/initializers.py:119: calling RandomUniform.__init__ (from tensorflow.python.ops.init_ops) with dtype is deprecated and will be removed in a future version.\n",
            "Instructions for updating:\n",
            "Call initializer instance with the dtype argument instead of passing it to the constructor\n",
            "WARNING:tensorflow:From /usr/local/lib/python3.6/dist-packages/tensorflow_core/python/ops/resource_variable_ops.py:1630: calling BaseResourceVariable.__init__ (from tensorflow.python.ops.resource_variable_ops) with constraint is deprecated and will be removed in a future version.\n",
            "Instructions for updating:\n",
            "If using Keras pass *_constraint arguments to layers.\n",
            "WARNING:tensorflow:From /usr/local/lib/python3.6/dist-packages/tensorflow_core/python/ops/nn_impl.py:183: where (from tensorflow.python.ops.array_ops) is deprecated and will be removed in a future version.\n",
            "Instructions for updating:\n",
            "Use tf.where in 2.0, which has the same broadcast rule as np.where\n",
            "Model: \"sequential\"\n",
            "_________________________________________________________________\n",
            "Layer (type)                 Output Shape              Param #   \n",
            "=================================================================\n",
            "embedding (Embedding)        (None, 20, 100)           57845900  \n",
            "_________________________________________________________________\n",
            "conv1d (Conv1D)              (None, 16, 128)           64128     \n",
            "_________________________________________________________________\n",
            "global_max_pooling1d (Global (None, 128)               0         \n",
            "_________________________________________________________________\n",
            "dense (Dense)                (None, 10)                1290      \n",
            "_________________________________________________________________\n",
            "dense_1 (Dense)              (None, 1)                 11        \n",
            "=================================================================\n",
            "Total params: 57,911,329\n",
            "Trainable params: 65,429\n",
            "Non-trainable params: 57,845,900\n",
            "_________________________________________________________________\n"
          ],
          "name": "stdout"
        }
      ]
    },
    {
      "cell_type": "code",
      "metadata": {
        "id": "U_9KWVWHAAE3",
        "colab_type": "code",
        "colab": {}
      },
      "source": [
        "smaller_X_train = X_train[:TRAINING_SET_SIZE]"
      ],
      "execution_count": 0,
      "outputs": []
    },
    {
      "cell_type": "code",
      "metadata": {
        "id": "t6gn7HvuAGgQ",
        "colab_type": "code",
        "colab": {}
      },
      "source": [
        "smaller_y_train = y_train[:TRAINING_SET_SIZE]"
      ],
      "execution_count": 0,
      "outputs": []
    },
    {
      "cell_type": "code",
      "metadata": {
        "id": "uf5R6UpGDW_y",
        "colab_type": "code",
        "colab": {}
      },
      "source": [
        "smaller_X_dev = X_test[:VAL_SET_SIZE]\n",
        "smaller_y_dev = y_dev[:VAL_SET_SIZE]"
      ],
      "execution_count": 0,
      "outputs": []
    },
    {
      "cell_type": "code",
      "metadata": {
        "id": "M4dbwlaxSs1l",
        "colab_type": "code",
        "outputId": "1f22fae9-9cf1-4bbf-a4a2-5f471d8ef78b",
        "colab": {
          "base_uri": "https://localhost:8080/",
          "height": 1000
        }
      },
      "source": [
        "try:\n",
        "  time_start = time.time()\n",
        "\n",
        "  history = model.fit(X_train, y_train,\n",
        "                      epochs=NUM_EPOCHS,\n",
        "                      verbose=True,\n",
        "                      validation_data=(smaller_X_dev, smaller_y_dev),\n",
        "                      batch_size=BATCH_SIZE)\n",
        "\n",
        "  currentTime = time.gmtime(time.time() - time_start)\n",
        "\n",
        "  #Convert the gmtime struct to a string\n",
        "  timeStr = time.strftime(\"%M minutes, %S seconds\", currentTime)\n",
        "\n",
        "  print(\"Trained in {}\".format(timeStr))\n",
        "\n",
        "except:\n",
        "  currentTime = time.gmtime(time.time() - time_start)\n",
        "\n",
        "  #Convert the gmtime struct to a string\n",
        "  timeStr = time.strftime(\"%M minutes, %S seconds\", currentTime)\n",
        "\n",
        "  print(\"Trained in {}\".format(timeStr))  "
      ],
      "execution_count": 63,
      "outputs": [
        {
          "output_type": "stream",
          "text": [
            "Train on 3831551 samples, validate on 1815559 samples\n",
            "Epoch 1/30\n",
            "3831551/3831551 [==============================] - 102s 27us/sample - loss: 0.5294 - acc: 0.7522 - val_loss: 0.4512 - val_acc: 0.8240\n",
            "Epoch 2/30\n",
            "3831551/3831551 [==============================] - 103s 27us/sample - loss: 0.5132 - acc: 0.7598 - val_loss: 0.4541 - val_acc: 0.8256\n",
            "Epoch 3/30\n",
            "3831551/3831551 [==============================] - 104s 27us/sample - loss: 0.5077 - acc: 0.7625 - val_loss: 0.4500 - val_acc: 0.8218\n",
            "Epoch 4/30\n",
            "3831551/3831551 [==============================] - 106s 28us/sample - loss: 0.5044 - acc: 0.7640 - val_loss: 0.4524 - val_acc: 0.8248\n",
            "Epoch 5/30\n",
            "3831551/3831551 [==============================] - 112s 29us/sample - loss: 0.5019 - acc: 0.7651 - val_loss: 0.4503 - val_acc: 0.8217\n",
            "Epoch 6/30\n",
            "3831551/3831551 [==============================] - 105s 27us/sample - loss: 0.5001 - acc: 0.7659 - val_loss: 0.4463 - val_acc: 0.8259\n",
            "Epoch 7/30\n",
            "3831551/3831551 [==============================] - 105s 27us/sample - loss: 0.4985 - acc: 0.7665 - val_loss: 0.4580 - val_acc: 0.8208\n",
            "Epoch 8/30\n",
            "3831551/3831551 [==============================] - 107s 28us/sample - loss: 0.4973 - acc: 0.7669 - val_loss: 0.4467 - val_acc: 0.8243\n",
            "Epoch 9/30\n",
            "3831551/3831551 [==============================] - 104s 27us/sample - loss: 0.4962 - acc: 0.7675 - val_loss: 0.4445 - val_acc: 0.8244\n",
            "Epoch 10/30\n",
            "3831551/3831551 [==============================] - 104s 27us/sample - loss: 0.4952 - acc: 0.7679 - val_loss: 0.4508 - val_acc: 0.8255\n",
            "Epoch 11/30\n",
            "3831551/3831551 [==============================] - 106s 28us/sample - loss: 0.4944 - acc: 0.7682 - val_loss: 0.4542 - val_acc: 0.8201\n",
            "Epoch 12/30\n",
            "3831551/3831551 [==============================] - 104s 27us/sample - loss: 0.4936 - acc: 0.7686 - val_loss: 0.4543 - val_acc: 0.8211\n",
            "Epoch 13/30\n",
            "3831551/3831551 [==============================] - 104s 27us/sample - loss: 0.4929 - acc: 0.7689 - val_loss: 0.4530 - val_acc: 0.8218\n",
            "Epoch 14/30\n",
            "3831551/3831551 [==============================] - 106s 28us/sample - loss: 0.4923 - acc: 0.7691 - val_loss: 0.4500 - val_acc: 0.8230\n",
            "Epoch 15/30\n",
            "3831551/3831551 [==============================] - 104s 27us/sample - loss: 0.4918 - acc: 0.7694 - val_loss: 0.4427 - val_acc: 0.8255\n",
            "Epoch 16/30\n",
            "3831551/3831551 [==============================] - 103s 27us/sample - loss: 0.4913 - acc: 0.7695 - val_loss: 0.4560 - val_acc: 0.8194\n",
            "Epoch 17/30\n",
            "3831551/3831551 [==============================] - 106s 28us/sample - loss: 0.4908 - acc: 0.7698 - val_loss: 0.4507 - val_acc: 0.8213\n",
            "Epoch 18/30\n",
            "3831551/3831551 [==============================] - 104s 27us/sample - loss: 0.4904 - acc: 0.7701 - val_loss: 0.4545 - val_acc: 0.8191\n",
            "Epoch 19/30\n",
            "3831551/3831551 [==============================] - 103s 27us/sample - loss: 0.4900 - acc: 0.7702 - val_loss: 0.4526 - val_acc: 0.8234\n",
            "Epoch 20/30\n",
            "3831551/3831551 [==============================] - 105s 28us/sample - loss: 0.4896 - acc: 0.7705 - val_loss: 0.4606 - val_acc: 0.8183\n",
            "Epoch 21/30\n",
            "3831551/3831551 [==============================] - 102s 27us/sample - loss: 0.4892 - acc: 0.7706 - val_loss: 0.4569 - val_acc: 0.8188\n",
            "Epoch 22/30\n",
            "3831551/3831551 [==============================] - 101s 26us/sample - loss: 0.4889 - acc: 0.7707 - val_loss: 0.4530 - val_acc: 0.8210\n",
            "Epoch 23/30\n",
            "3831551/3831551 [==============================] - 103s 27us/sample - loss: 0.4886 - acc: 0.7709 - val_loss: 0.4546 - val_acc: 0.8206\n",
            "Epoch 24/30\n",
            "3831551/3831551 [==============================] - 121s 31us/sample - loss: 0.4882 - acc: 0.7711 - val_loss: 0.4517 - val_acc: 0.8226\n",
            "Epoch 25/30\n",
            "3831551/3831551 [==============================] - 118s 31us/sample - loss: 0.4880 - acc: 0.7711 - val_loss: 0.4556 - val_acc: 0.8188\n",
            "Epoch 26/30\n",
            "3831551/3831551 [==============================] - 107s 28us/sample - loss: 0.4877 - acc: 0.7713 - val_loss: 0.4569 - val_acc: 0.8201\n",
            "Epoch 27/30\n",
            "3831551/3831551 [==============================] - 137s 36us/sample - loss: 0.4874 - acc: 0.7713 - val_loss: 0.4576 - val_acc: 0.8200\n",
            "Epoch 28/30\n",
            "3831551/3831551 [==============================] - 117s 31us/sample - loss: 0.4872 - acc: 0.7714 - val_loss: 0.4548 - val_acc: 0.8205\n",
            "Epoch 29/30\n",
            "3831551/3831551 [==============================] - 105s 27us/sample - loss: 0.4870 - acc: 0.7716 - val_loss: 0.4530 - val_acc: 0.8210\n",
            "Epoch 30/30\n",
            "3831551/3831551 [==============================] - 107s 28us/sample - loss: 0.4867 - acc: 0.7717 - val_loss: 0.4573 - val_acc: 0.8185\n",
            "Trained in 53 minutes, 35 seconds\n"
          ],
          "name": "stdout"
        }
      ]
    },
    {
      "cell_type": "code",
      "metadata": {
        "id": "h4P5Y5wgSs1o",
        "colab_type": "code",
        "outputId": "4c0cc335-20a4-409f-d8ba-3b2a22f8de29",
        "colab": {
          "base_uri": "https://localhost:8080/",
          "height": 52
        }
      },
      "source": [
        "loss, accuracy = model.evaluate(X_train, y_train, verbose=False)\n",
        "print(\"Training Accuracy: {:.4f}\".format(accuracy))\n",
        "loss, accuracy = model.evaluate(X_test, y_dev, verbose=False)\n",
        "print(\"Testing Accuracy:  {:.4f}\".format(accuracy))\n"
      ],
      "execution_count": 64,
      "outputs": [
        {
          "output_type": "stream",
          "text": [
            "Training Accuracy: 0.7735\n",
            "Testing Accuracy:  0.8185\n"
          ],
          "name": "stdout"
        }
      ]
    },
    {
      "cell_type": "code",
      "metadata": {
        "id": "zZanpp-O9oiz",
        "colab_type": "code",
        "outputId": "239d80fa-4c54-49ac-e936-312fe2eef3a1",
        "colab": {
          "base_uri": "https://localhost:8080/",
          "height": 34
        }
      },
      "source": [
        "# ROC AUC\n",
        "from sklearn.metrics import roc_auc_score\n",
        "# predict probabilities for test set\n",
        "yhat_probs = model.predict(X_test, verbose=0)\n",
        "# reduce to 1d array\n",
        "yhat_probs = yhat_probs[:,0]\n",
        "auc = roc_auc_score(y_dev, yhat_probs)\n",
        "print('ROC AUC:', auc)\n"
      ],
      "execution_count": 65,
      "outputs": [
        {
          "output_type": "stream",
          "text": [
            "ROC AUC: 0.6682940344838586\n"
          ],
          "name": "stdout"
        }
      ]
    },
    {
      "cell_type": "code",
      "metadata": {
        "id": "ccL7n659KbQ-",
        "colab_type": "code",
        "colab": {}
      },
      "source": [
        "preds = yhat_probs # model.predict(X_test)"
      ],
      "execution_count": 0,
      "outputs": []
    },
    {
      "cell_type": "code",
      "metadata": {
        "id": "lhpB8QsgGMZ5",
        "colab_type": "code",
        "colab": {}
      },
      "source": [
        "dev_df['probs'] = preds"
      ],
      "execution_count": 0,
      "outputs": []
    },
    {
      "cell_type": "code",
      "metadata": {
        "id": "1T2IxdCMGf2e",
        "colab_type": "code",
        "colab": {}
      },
      "source": [
        "def pred_to_label(row):\n",
        "  if row['probs'] >= .5:\n",
        "    return 'M'\n",
        "  else:\n",
        "    return 'W'\n",
        "\n",
        "dev_df['preds'] = dev_df.apply(pred_to_label, axis=1)"
      ],
      "execution_count": 0,
      "outputs": []
    },
    {
      "cell_type": "code",
      "metadata": {
        "id": "NzbasnNWGg5J",
        "colab_type": "code",
        "colab": {}
      },
      "source": [
        "wrong_preds = dev_df[dev_df.op_gender!=dev_df.preds]"
      ],
      "execution_count": 0,
      "outputs": []
    },
    {
      "cell_type": "code",
      "metadata": {
        "id": "nAYve8ZhG7wt",
        "colab_type": "code",
        "outputId": "47f62e12-0c55-4365-d105-845b6fbe449f",
        "colab": {
          "base_uri": "https://localhost:8080/",
          "height": 70
        }
      },
      "source": [
        "wrong_preds.op_gender.value_counts()"
      ],
      "execution_count": 70,
      "outputs": [
        {
          "output_type": "execute_result",
          "data": {
            "text/plain": [
              "W    273736\n",
              "M     55808\n",
              "Name: op_gender, dtype: int64"
            ]
          },
          "metadata": {
            "tags": []
          },
          "execution_count": 70
        }
      ]
    },
    {
      "cell_type": "code",
      "metadata": {
        "id": "NJJrm2LxHFzN",
        "colab_type": "code",
        "outputId": "5d7000e8-399f-409f-89b1-742fc19f1054",
        "colab": {
          "base_uri": "https://localhost:8080/",
          "height": 34
        }
      },
      "source": [
        "# total proportion of preds for women\n",
        "dev_df.preds.value_counts()['W'] / len(dev_df)"
      ],
      "execution_count": 71,
      "outputs": [
        {
          "output_type": "execute_result",
          "data": {
            "text/plain": [
              "0.0566547272768332"
            ]
          },
          "metadata": {
            "tags": []
          },
          "execution_count": 71
        }
      ]
    },
    {
      "cell_type": "code",
      "metadata": {
        "id": "SxFooJUbHVUB",
        "colab_type": "code",
        "outputId": "31ff1b82-51eb-4c16-dfd6-87fc844d6e4d",
        "colab": {
          "base_uri": "https://localhost:8080/",
          "height": 1000
        }
      },
      "source": [
        "#random sample of mistakes\n",
        "wrong_preds.head(20)"
      ],
      "execution_count": 72,
      "outputs": [
        {
          "output_type": "execute_result",
          "data": {
            "text/html": [
              "<div>\n",
              "<style scoped>\n",
              "    .dataframe tbody tr th:only-of-type {\n",
              "        vertical-align: middle;\n",
              "    }\n",
              "\n",
              "    .dataframe tbody tr th {\n",
              "        vertical-align: top;\n",
              "    }\n",
              "\n",
              "    .dataframe thead th {\n",
              "        text-align: right;\n",
              "    }\n",
              "</style>\n",
              "<table border=\"1\" class=\"dataframe\">\n",
              "  <thead>\n",
              "    <tr style=\"text-align: right;\">\n",
              "      <th></th>\n",
              "      <th>original_idx</th>\n",
              "      <th>op_id</th>\n",
              "      <th>op_gender</th>\n",
              "      <th>post_id</th>\n",
              "      <th>responder_id</th>\n",
              "      <th>response_text</th>\n",
              "      <th>op_name</th>\n",
              "      <th>op_category</th>\n",
              "      <th>split_response</th>\n",
              "      <th>probs</th>\n",
              "      <th>preds</th>\n",
              "    </tr>\n",
              "  </thead>\n",
              "  <tbody>\n",
              "    <tr>\n",
              "      <th>1956642</th>\n",
              "      <td>11006034</td>\n",
              "      <td>86569077</td>\n",
              "      <td>W</td>\n",
              "      <td>389607</td>\n",
              "      <td>Janet</td>\n",
              "      <td>i plan to watch it on demand tonight. john is awesome. and senator gilibrand, if you like and tr...</td>\n",
              "      <td>Kirsten Gillibrand</td>\n",
              "      <td>Congress_Democratic</td>\n",
              "      <td>[i, plan, to, watch, it, on, demand, tonight., john, is, awesome., and, senator, gilibrand,, if,...</td>\n",
              "      <td>0.888917</td>\n",
              "      <td>M</td>\n",
              "    </tr>\n",
              "    <tr>\n",
              "      <th>4689002</th>\n",
              "      <td>6270599</td>\n",
              "      <td>17141989</td>\n",
              "      <td>W</td>\n",
              "      <td>229988</td>\n",
              "      <td>Dominique</td>\n",
              "      <td>kayleigh louise pitts</td>\n",
              "      <td>Maxine Waters</td>\n",
              "      <td>Congress_Democratic</td>\n",
              "      <td>[kayleigh, louise, pitts]</td>\n",
              "      <td>0.740280</td>\n",
              "      <td>M</td>\n",
              "    </tr>\n",
              "    <tr>\n",
              "      <th>3235012</th>\n",
              "      <td>4013777</td>\n",
              "      <td>53750474</td>\n",
              "      <td>W</td>\n",
              "      <td>135955</td>\n",
              "      <td>Diana</td>\n",
              "      <td>you are doing a great job!!!</td>\n",
              "      <td>Carol Shea-Porter</td>\n",
              "      <td>Congress_Democratic</td>\n",
              "      <td>[you, are, doing, a, great, job!!!]</td>\n",
              "      <td>0.651075</td>\n",
              "      <td>M</td>\n",
              "    </tr>\n",
              "    <tr>\n",
              "      <th>2031661</th>\n",
              "      <td>2104837</td>\n",
              "      <td>56883970</td>\n",
              "      <td>W</td>\n",
              "      <td>35038</td>\n",
              "      <td>Jim</td>\n",
              "      <td>tim, you better start caring, and soon....</td>\n",
              "      <td>Diane Black</td>\n",
              "      <td>Congress_Republican</td>\n",
              "      <td>[tim,, you, better, start, caring,, and, soon....]</td>\n",
              "      <td>0.917917</td>\n",
              "      <td>M</td>\n",
              "    </tr>\n",
              "    <tr>\n",
              "      <th>1995656</th>\n",
              "      <td>11045048</td>\n",
              "      <td>86569077</td>\n",
              "      <td>W</td>\n",
              "      <td>390009</td>\n",
              "      <td>Jon</td>\n",
              "      <td>i like the warrent plan better. and what makes anyone think that conservative colleges have any ...</td>\n",
              "      <td>Kirsten Gillibrand</td>\n",
              "      <td>Congress_Democratic</td>\n",
              "      <td>[i, like, the, warrent, plan, better., and, what, makes, anyone, think, that, conservative, coll...</td>\n",
              "      <td>0.628119</td>\n",
              "      <td>M</td>\n",
              "    </tr>\n",
              "    <tr>\n",
              "      <th>7633338</th>\n",
              "      <td>10672726</td>\n",
              "      <td>94031602</td>\n",
              "      <td>M</td>\n",
              "      <td>384028</td>\n",
              "      <td>Jim</td>\n",
              "      <td>\"she does not have a track record of leadership or trustworthiness. she has not the woman for th...</td>\n",
              "      <td>Trey Gowdy</td>\n",
              "      <td>Congress_Republican</td>\n",
              "      <td>[\"she, does, not, have, a, track, record, of, leadership, or, trustworthiness., she, has, not, t...</td>\n",
              "      <td>0.441523</td>\n",
              "      <td>W</td>\n",
              "    </tr>\n",
              "    <tr>\n",
              "      <th>2009399</th>\n",
              "      <td>11058791</td>\n",
              "      <td>86569077</td>\n",
              "      <td>W</td>\n",
              "      <td>390113</td>\n",
              "      <td>Maila</td>\n",
              "      <td>wonderful picture. I am dave connors grandmothe- in- law so follow your progress. if i lived in ...</td>\n",
              "      <td>Kirsten Gillibrand</td>\n",
              "      <td>Congress_Democratic</td>\n",
              "      <td>[wonderful, picture., I, am, dave, connors, grandmothe-, in-, law, so, follow, your, progress., ...</td>\n",
              "      <td>0.656824</td>\n",
              "      <td>M</td>\n",
              "    </tr>\n",
              "    <tr>\n",
              "      <th>2004498</th>\n",
              "      <td>11053890</td>\n",
              "      <td>86569077</td>\n",
              "      <td>W</td>\n",
              "      <td>390078</td>\n",
              "      <td>Ann</td>\n",
              "      <td>would passing the era help us all?</td>\n",
              "      <td>Kirsten Gillibrand</td>\n",
              "      <td>Congress_Democratic</td>\n",
              "      <td>[would, passing, the, era, help, us, all?]</td>\n",
              "      <td>0.622804</td>\n",
              "      <td>M</td>\n",
              "    </tr>\n",
              "    <tr>\n",
              "      <th>7349015</th>\n",
              "      <td>10388403</td>\n",
              "      <td>94031602</td>\n",
              "      <td>M</td>\n",
              "      <td>383858</td>\n",
              "      <td>Tammy</td>\n",
              "      <td>thank you, happy thanksgiving!</td>\n",
              "      <td>Trey Gowdy</td>\n",
              "      <td>Congress_Republican</td>\n",
              "      <td>[thank, you,, happy, thanksgiving!]</td>\n",
              "      <td>0.484340</td>\n",
              "      <td>W</td>\n",
              "    </tr>\n",
              "    <tr>\n",
              "      <th>8328681</th>\n",
              "      <td>11811872</td>\n",
              "      <td>8332544</td>\n",
              "      <td>M</td>\n",
              "      <td>430573</td>\n",
              "      <td>Margie</td>\n",
              "      <td>where is the governor of california?</td>\n",
              "      <td>Doug LaMalfa</td>\n",
              "      <td>Congress_Republican</td>\n",
              "      <td>[where, is, the, governor, of, california?]</td>\n",
              "      <td>0.392192</td>\n",
              "      <td>W</td>\n",
              "    </tr>\n",
              "    <tr>\n",
              "      <th>262196</th>\n",
              "      <td>2526731</td>\n",
              "      <td>59227815</td>\n",
              "      <td>M</td>\n",
              "      <td>63409</td>\n",
              "      <td>Robert</td>\n",
              "      <td>because most of us saw our children's heart beat at 6 weeks into pregnancy</td>\n",
              "      <td>Paul Ryan</td>\n",
              "      <td>Congress_Republican</td>\n",
              "      <td>[because, most, of, us, saw, our, children's, heart, beat, at, 6, weeks, into, pregnancy]</td>\n",
              "      <td>0.406914</td>\n",
              "      <td>W</td>\n",
              "    </tr>\n",
              "    <tr>\n",
              "      <th>2044842</th>\n",
              "      <td>2118018</td>\n",
              "      <td>56883970</td>\n",
              "      <td>W</td>\n",
              "      <td>36045</td>\n",
              "      <td>Martin</td>\n",
              "      <td>great diane!  i never saw our old rep unless some reporter trapped him in the hall on his way to...</td>\n",
              "      <td>Diane Black</td>\n",
              "      <td>Congress_Republican</td>\n",
              "      <td>[great, diane!, i, never, saw, our, old, rep, unless, some, reporter, trapped, him, in, the, hal...</td>\n",
              "      <td>0.772350</td>\n",
              "      <td>M</td>\n",
              "    </tr>\n",
              "    <tr>\n",
              "      <th>7563674</th>\n",
              "      <td>10603062</td>\n",
              "      <td>94031602</td>\n",
              "      <td>M</td>\n",
              "      <td>383988</td>\n",
              "      <td>Bryan</td>\n",
              "      <td>get 'em, gowdy! i want you to be our next attorney general! then you can really clean up washing...</td>\n",
              "      <td>Trey Gowdy</td>\n",
              "      <td>Congress_Republican</td>\n",
              "      <td>[get, 'em,, gowdy!, i, want, you, to, be, our, next, attorney, general!, then, you, can, really,...</td>\n",
              "      <td>0.240388</td>\n",
              "      <td>W</td>\n",
              "    </tr>\n",
              "    <tr>\n",
              "      <th>2034903</th>\n",
              "      <td>11084295</td>\n",
              "      <td>86569077</td>\n",
              "      <td>W</td>\n",
              "      <td>390436</td>\n",
              "      <td>John</td>\n",
              "      <td>most families will tell you that when times are tough that they either need to adjust their spen...</td>\n",
              "      <td>Kirsten Gillibrand</td>\n",
              "      <td>Congress_Democratic</td>\n",
              "      <td>[most, families, will, tell, you, that, when, times, are, tough, that, they, either, need, to, a...</td>\n",
              "      <td>0.737578</td>\n",
              "      <td>M</td>\n",
              "    </tr>\n",
              "    <tr>\n",
              "      <th>2001031</th>\n",
              "      <td>11050423</td>\n",
              "      <td>86569077</td>\n",
              "      <td>W</td>\n",
              "      <td>390043</td>\n",
              "      <td>Mark</td>\n",
              "      <td>lets see how many more traitorous arlen specters that will stand with you marxists senator</td>\n",
              "      <td>Kirsten Gillibrand</td>\n",
              "      <td>Congress_Democratic</td>\n",
              "      <td>[lets, see, how, many, more, traitorous, arlen, specters, that, will, stand, with, you, marxists...</td>\n",
              "      <td>0.895307</td>\n",
              "      <td>M</td>\n",
              "    </tr>\n",
              "    <tr>\n",
              "      <th>9708423</th>\n",
              "      <td>13637337</td>\n",
              "      <td>67024958</td>\n",
              "      <td>M</td>\n",
              "      <td>530366</td>\n",
              "      <td>Bruce</td>\n",
              "      <td>people can figure out when someone not being fair with you senator blumenthal. not sure of other...</td>\n",
              "      <td>Richard Blumenthal</td>\n",
              "      <td>Congress_Democratic</td>\n",
              "      <td>[people, can, figure, out, when, someone, not, being, fair, with, you, senator, blumenthal., not...</td>\n",
              "      <td>0.132983</td>\n",
              "      <td>W</td>\n",
              "    </tr>\n",
              "    <tr>\n",
              "      <th>2028858</th>\n",
              "      <td>2102034</td>\n",
              "      <td>56883970</td>\n",
              "      <td>W</td>\n",
              "      <td>34944</td>\n",
              "      <td>Mary</td>\n",
              "      <td>republic are carrying this country to third world levels.</td>\n",
              "      <td>Diane Black</td>\n",
              "      <td>Congress_Republican</td>\n",
              "      <td>[republic, are, carrying, this, country, to, third, world, levels.]</td>\n",
              "      <td>0.850683</td>\n",
              "      <td>M</td>\n",
              "    </tr>\n",
              "    <tr>\n",
              "      <th>2845057</th>\n",
              "      <td>3618416</td>\n",
              "      <td>3080550</td>\n",
              "      <td>W</td>\n",
              "      <td>123027</td>\n",
              "      <td>Bob</td>\n",
              "      <td>congressman mcsally please press to have the a-10 put back into production. crank out about 2000...</td>\n",
              "      <td>Martha McSally</td>\n",
              "      <td>Congress_Republican</td>\n",
              "      <td>[congressman, mcsally, please, press, to, have, the, a-10, put, back, into, production., crank, ...</td>\n",
              "      <td>0.754003</td>\n",
              "      <td>M</td>\n",
              "    </tr>\n",
              "    <tr>\n",
              "      <th>2015210</th>\n",
              "      <td>2088386</td>\n",
              "      <td>56883970</td>\n",
              "      <td>W</td>\n",
              "      <td>34417</td>\n",
              "      <td>Noreen</td>\n",
              "      <td>starting over is not an option. fixing the problems that arise are what you should be working on...</td>\n",
              "      <td>Diane Black</td>\n",
              "      <td>Congress_Republican</td>\n",
              "      <td>[starting, over, is, not, an, option., fixing, the, problems, that, arise, are, what, you, shoul...</td>\n",
              "      <td>0.549436</td>\n",
              "      <td>M</td>\n",
              "    </tr>\n",
              "    <tr>\n",
              "      <th>1952256</th>\n",
              "      <td>11001648</td>\n",
              "      <td>86569077</td>\n",
              "      <td>W</td>\n",
              "      <td>389559</td>\n",
              "      <td>Ben</td>\n",
              "      <td>how is it partisan to support a bill to end the funding to an organization that takes the body p...</td>\n",
              "      <td>Kirsten Gillibrand</td>\n",
              "      <td>Congress_Democratic</td>\n",
              "      <td>[how, is, it, partisan, to, support, a, bill, to, end, the, funding, to, an, organization, that,...</td>\n",
              "      <td>0.545235</td>\n",
              "      <td>M</td>\n",
              "    </tr>\n",
              "  </tbody>\n",
              "</table>\n",
              "</div>"
            ],
            "text/plain": [
              "         original_idx     op_id  ...     probs  preds\n",
              "1956642      11006034  86569077  ...  0.888917      M\n",
              "4689002       6270599  17141989  ...  0.740280      M\n",
              "3235012       4013777  53750474  ...  0.651075      M\n",
              "2031661       2104837  56883970  ...  0.917917      M\n",
              "1995656      11045048  86569077  ...  0.628119      M\n",
              "7633338      10672726  94031602  ...  0.441523      W\n",
              "2009399      11058791  86569077  ...  0.656824      M\n",
              "2004498      11053890  86569077  ...  0.622804      M\n",
              "7349015      10388403  94031602  ...  0.484340      W\n",
              "8328681      11811872   8332544  ...  0.392192      W\n",
              "262196        2526731  59227815  ...  0.406914      W\n",
              "2044842       2118018  56883970  ...  0.772350      M\n",
              "7563674      10603062  94031602  ...  0.240388      W\n",
              "2034903      11084295  86569077  ...  0.737578      M\n",
              "2001031      11050423  86569077  ...  0.895307      M\n",
              "9708423      13637337  67024958  ...  0.132983      W\n",
              "2028858       2102034  56883970  ...  0.850683      M\n",
              "2845057       3618416   3080550  ...  0.754003      M\n",
              "2015210       2088386  56883970  ...  0.549436      M\n",
              "1952256      11001648  86569077  ...  0.545235      M\n",
              "\n",
              "[20 rows x 11 columns]"
            ]
          },
          "metadata": {
            "tags": []
          },
          "execution_count": 72
        }
      ]
    },
    {
      "cell_type": "code",
      "metadata": {
        "id": "qaswseIjHc8j",
        "colab_type": "code",
        "outputId": "08c386e3-38a3-4796-e28d-74b41ae878d5",
        "colab": {
          "base_uri": "https://localhost:8080/",
          "height": 1000
        }
      },
      "source": [
        "# most confident wrong predictions where the answer was F but they thought M\n",
        "# same as before - references to a male politician \n",
        "wrong_preds.sort_values('probs', ascending=False)[:20]"
      ],
      "execution_count": 73,
      "outputs": [
        {
          "output_type": "execute_result",
          "data": {
            "text/html": [
              "<div>\n",
              "<style scoped>\n",
              "    .dataframe tbody tr th:only-of-type {\n",
              "        vertical-align: middle;\n",
              "    }\n",
              "\n",
              "    .dataframe tbody tr th {\n",
              "        vertical-align: top;\n",
              "    }\n",
              "\n",
              "    .dataframe thead th {\n",
              "        text-align: right;\n",
              "    }\n",
              "</style>\n",
              "<table border=\"1\" class=\"dataframe\">\n",
              "  <thead>\n",
              "    <tr style=\"text-align: right;\">\n",
              "      <th></th>\n",
              "      <th>original_idx</th>\n",
              "      <th>op_id</th>\n",
              "      <th>op_gender</th>\n",
              "      <th>post_id</th>\n",
              "      <th>responder_id</th>\n",
              "      <th>response_text</th>\n",
              "      <th>op_name</th>\n",
              "      <th>op_category</th>\n",
              "      <th>split_response</th>\n",
              "      <th>probs</th>\n",
              "      <th>preds</th>\n",
              "    </tr>\n",
              "  </thead>\n",
              "  <tbody>\n",
              "    <tr>\n",
              "      <th>1951491</th>\n",
              "      <td>11000883</td>\n",
              "      <td>86569077</td>\n",
              "      <td>W</td>\n",
              "      <td>389558</td>\n",
              "      <td>Sergio</td>\n",
              "      <td>thank you for doing so over mr. schumer. you are a real patriot!</td>\n",
              "      <td>Kirsten Gillibrand</td>\n",
              "      <td>Congress_Democratic</td>\n",
              "      <td>[thank, you, for, doing, so, over, mr., schumer., you, are, a, real, patriot!]</td>\n",
              "      <td>0.999968</td>\n",
              "      <td>M</td>\n",
              "    </tr>\n",
              "    <tr>\n",
              "      <th>4701022</th>\n",
              "      <td>6282619</td>\n",
              "      <td>17141989</td>\n",
              "      <td>W</td>\n",
              "      <td>230167</td>\n",
              "      <td>Gloria</td>\n",
              "      <td>love the work you &amp; congressman pascrell do &amp; do carry on&gt;&gt;smiles</td>\n",
              "      <td>Maxine Waters</td>\n",
              "      <td>Congress_Democratic</td>\n",
              "      <td>[love, the, work, you, &amp;, congressman, pascrell, do, &amp;, do, carry, on&gt;&gt;smiles]</td>\n",
              "      <td>0.999904</td>\n",
              "      <td>M</td>\n",
              "    </tr>\n",
              "    <tr>\n",
              "      <th>4321879</th>\n",
              "      <td>5824733</td>\n",
              "      <td>10588553</td>\n",
              "      <td>W</td>\n",
              "      <td>193358</td>\n",
              "      <td>Lee</td>\n",
              "      <td>rand is wayyy off base...but let him split the repukes! go rand go   lol</td>\n",
              "      <td>Claire McCaskill</td>\n",
              "      <td>Congress_Democratic</td>\n",
              "      <td>[rand, is, wayyy, off, base...but, let, him, split, the, repukes!, go, rand, go, lol]</td>\n",
              "      <td>0.999897</td>\n",
              "      <td>M</td>\n",
              "    </tr>\n",
              "    <tr>\n",
              "      <th>4679751</th>\n",
              "      <td>6261348</td>\n",
              "      <td>17141989</td>\n",
              "      <td>W</td>\n",
              "      <td>229967</td>\n",
              "      <td>Rose</td>\n",
              "      <td>please urge your republican senators to put national security ahead of party politics and take t...</td>\n",
              "      <td>Maxine Waters</td>\n",
              "      <td>Congress_Democratic</td>\n",
              "      <td>[please, urge, your, republican, senators, to, put, national, security, ahead, of, party, politi...</td>\n",
              "      <td>0.999896</td>\n",
              "      <td>M</td>\n",
              "    </tr>\n",
              "    <tr>\n",
              "      <th>2091275</th>\n",
              "      <td>2351736</td>\n",
              "      <td>82045172</td>\n",
              "      <td>W</td>\n",
              "      <td>52334</td>\n",
              "      <td>Cisco</td>\n",
              "      <td>good luck to you, issa, chaffetz, and polis today!</td>\n",
              "      <td>Zoe Lofgren</td>\n",
              "      <td>Congress_Democratic</td>\n",
              "      <td>[good, luck, to, you,, issa,, chaffetz,, and, polis, today!]</td>\n",
              "      <td>0.999875</td>\n",
              "      <td>M</td>\n",
              "    </tr>\n",
              "    <tr>\n",
              "      <th>1951070</th>\n",
              "      <td>11000462</td>\n",
              "      <td>86569077</td>\n",
              "      <td>W</td>\n",
              "      <td>389558</td>\n",
              "      <td>Lynn</td>\n",
              "      <td>thanks for being braver than sen. schumer</td>\n",
              "      <td>Kirsten Gillibrand</td>\n",
              "      <td>Congress_Democratic</td>\n",
              "      <td>[thanks, for, being, braver, than, sen., schumer]</td>\n",
              "      <td>0.999829</td>\n",
              "      <td>M</td>\n",
              "    </tr>\n",
              "    <tr>\n",
              "      <th>2025835</th>\n",
              "      <td>11075227</td>\n",
              "      <td>86569077</td>\n",
              "      <td>W</td>\n",
              "      <td>390288</td>\n",
              "      <td>Bonnie</td>\n",
              "      <td>re mtp:  even though michelle bachmann was rude and off-point you presented a calm and reasoned ...</td>\n",
              "      <td>Kirsten Gillibrand</td>\n",
              "      <td>Congress_Democratic</td>\n",
              "      <td>[re, mtp:, even, though, michelle, bachmann, was, rude, and, off-point, you, presented, a, calm,...</td>\n",
              "      <td>0.999788</td>\n",
              "      <td>M</td>\n",
              "    </tr>\n",
              "    <tr>\n",
              "      <th>2860133</th>\n",
              "      <td>3633492</td>\n",
              "      <td>3080550</td>\n",
              "      <td>W</td>\n",
              "      <td>123606</td>\n",
              "      <td>Tiny</td>\n",
              "      <td>from miap &amp; patriot guard riders thank you for your time and effort  &amp; support.  lindsey helping...</td>\n",
              "      <td>Martha McSally</td>\n",
              "      <td>Congress_Republican</td>\n",
              "      <td>[from, miap, &amp;, patriot, guard, riders, thank, you, for, your, time, and, effort, &amp;, support., l...</td>\n",
              "      <td>0.999783</td>\n",
              "      <td>M</td>\n",
              "    </tr>\n",
              "    <tr>\n",
              "      <th>4342170</th>\n",
              "      <td>5845024</td>\n",
              "      <td>10588553</td>\n",
              "      <td>W</td>\n",
              "      <td>193450</td>\n",
              "      <td>Carl</td>\n",
              "      <td>this happened before and yes, there are people who actually believe this crap - more than you th...</td>\n",
              "      <td>Claire McCaskill</td>\n",
              "      <td>Congress_Democratic</td>\n",
              "      <td>[this, happened, before, and, yes,, there, are, people, who, actually, believe, this, crap, -, m...</td>\n",
              "      <td>0.999779</td>\n",
              "      <td>M</td>\n",
              "    </tr>\n",
              "    <tr>\n",
              "      <th>2037406</th>\n",
              "      <td>2110582</td>\n",
              "      <td>56883970</td>\n",
              "      <td>W</td>\n",
              "      <td>35314</td>\n",
              "      <td>Howard</td>\n",
              "      <td>thank you for standing with senator paul. i wish we had at least one tennessee senator who would...</td>\n",
              "      <td>Diane Black</td>\n",
              "      <td>Congress_Republican</td>\n",
              "      <td>[thank, you, for, standing, with, senator, paul., i, wish, we, had, at, least, one, tennessee, s...</td>\n",
              "      <td>0.999764</td>\n",
              "      <td>M</td>\n",
              "    </tr>\n",
              "    <tr>\n",
              "      <th>2021108</th>\n",
              "      <td>2094284</td>\n",
              "      <td>56883970</td>\n",
              "      <td>W</td>\n",
              "      <td>34712</td>\n",
              "      <td>Karen</td>\n",
              "      <td>people really need to know everything that is included in or attached to bills before they criti...</td>\n",
              "      <td>Diane Black</td>\n",
              "      <td>Congress_Republican</td>\n",
              "      <td>[people, really, need, to, know, everything, that, is, included, in, or, attached, to, bills, be...</td>\n",
              "      <td>0.999754</td>\n",
              "      <td>M</td>\n",
              "    </tr>\n",
              "    <tr>\n",
              "      <th>369165</th>\n",
              "      <td>2649461</td>\n",
              "      <td>13876473</td>\n",
              "      <td>W</td>\n",
              "      <td>69489</td>\n",
              "      <td>Dirk</td>\n",
              "      <td>keep fighting the good fight, rep. maloney! we need it. (11102)</td>\n",
              "      <td>Carolyn Maloney</td>\n",
              "      <td>Congress_Democratic</td>\n",
              "      <td>[keep, fighting, the, good, fight,, rep., maloney!, we, need, it., (11102)]</td>\n",
              "      <td>0.999745</td>\n",
              "      <td>M</td>\n",
              "    </tr>\n",
              "    <tr>\n",
              "      <th>4697373</th>\n",
              "      <td>6278970</td>\n",
              "      <td>17141989</td>\n",
              "      <td>W</td>\n",
              "      <td>230101</td>\n",
              "      <td>Marie</td>\n",
              "      <td>arkansas should recall tom cotton.</td>\n",
              "      <td>Maxine Waters</td>\n",
              "      <td>Congress_Democratic</td>\n",
              "      <td>[arkansas, should, recall, tom, cotton.]</td>\n",
              "      <td>0.999738</td>\n",
              "      <td>M</td>\n",
              "    </tr>\n",
              "    <tr>\n",
              "      <th>2031939</th>\n",
              "      <td>2105115</td>\n",
              "      <td>56883970</td>\n",
              "      <td>W</td>\n",
              "      <td>35048</td>\n",
              "      <td>Skyler</td>\n",
              "      <td>thank you, congressman diane black for standing with the american people.</td>\n",
              "      <td>Diane Black</td>\n",
              "      <td>Congress_Republican</td>\n",
              "      <td>[thank, you,, congressman, diane, black, for, standing, with, the, american, people.]</td>\n",
              "      <td>0.999735</td>\n",
              "      <td>M</td>\n",
              "    </tr>\n",
              "    <tr>\n",
              "      <th>1985172</th>\n",
              "      <td>11034564</td>\n",
              "      <td>86569077</td>\n",
              "      <td>W</td>\n",
              "      <td>389898</td>\n",
              "      <td>Carolyn</td>\n",
              "      <td>thank you, senator cory booker, and congratulations, new jersey, for making this excellent choic...</td>\n",
              "      <td>Kirsten Gillibrand</td>\n",
              "      <td>Congress_Democratic</td>\n",
              "      <td>[thank, you,, senator, cory, booker,, and, congratulations,, new, jersey,, for, making, this, ex...</td>\n",
              "      <td>0.999713</td>\n",
              "      <td>M</td>\n",
              "    </tr>\n",
              "    <tr>\n",
              "      <th>4321778</th>\n",
              "      <td>5824632</td>\n",
              "      <td>10588553</td>\n",
              "      <td>W</td>\n",
              "      <td>193358</td>\n",
              "      <td>Brian</td>\n",
              "      <td>where are the jobs, senator rand?</td>\n",
              "      <td>Claire McCaskill</td>\n",
              "      <td>Congress_Democratic</td>\n",
              "      <td>[where, are, the, jobs,, senator, rand?]</td>\n",
              "      <td>0.999697</td>\n",
              "      <td>M</td>\n",
              "    </tr>\n",
              "    <tr>\n",
              "      <th>2030470</th>\n",
              "      <td>11079862</td>\n",
              "      <td>86569077</td>\n",
              "      <td>W</td>\n",
              "      <td>390350</td>\n",
              "      <td>John</td>\n",
              "      <td>senator i believe ted nugent should challenge you or senator chuck you schumer for your senate s...</td>\n",
              "      <td>Kirsten Gillibrand</td>\n",
              "      <td>Congress_Democratic</td>\n",
              "      <td>[senator, i, believe, ted, nugent, should, challenge, you, or, senator, chuck, you, schumer, for...</td>\n",
              "      <td>0.999681</td>\n",
              "      <td>M</td>\n",
              "    </tr>\n",
              "    <tr>\n",
              "      <th>4321800</th>\n",
              "      <td>5824654</td>\n",
              "      <td>10588553</td>\n",
              "      <td>W</td>\n",
              "      <td>193358</td>\n",
              "      <td>Gary</td>\n",
              "      <td>do not think that rand paul is one i would choose for pres.</td>\n",
              "      <td>Claire McCaskill</td>\n",
              "      <td>Congress_Democratic</td>\n",
              "      <td>[do, not, think, that, rand, paul, is, one, i, would, choose, for, pres.]</td>\n",
              "      <td>0.999668</td>\n",
              "      <td>M</td>\n",
              "    </tr>\n",
              "    <tr>\n",
              "      <th>2043255</th>\n",
              "      <td>11092647</td>\n",
              "      <td>86569077</td>\n",
              "      <td>W</td>\n",
              "      <td>390557</td>\n",
              "      <td>Ernest</td>\n",
              "      <td>@craig ramage - just because some republican judge calls it inconstitutional it doesnt mean it i...</td>\n",
              "      <td>Kirsten Gillibrand</td>\n",
              "      <td>Congress_Democratic</td>\n",
              "      <td>[@craig, ramage, -, just, because, some, republican, judge, calls, it, inconstitutional, it, doe...</td>\n",
              "      <td>0.999668</td>\n",
              "      <td>M</td>\n",
              "    </tr>\n",
              "    <tr>\n",
              "      <th>1916823</th>\n",
              "      <td>10966215</td>\n",
              "      <td>86569077</td>\n",
              "      <td>W</td>\n",
              "      <td>389341</td>\n",
              "      <td>Monica</td>\n",
              "      <td>thank you for standing with your concerned constituents not only against betsy devos but all of ...</td>\n",
              "      <td>Kirsten Gillibrand</td>\n",
              "      <td>Congress_Democratic</td>\n",
              "      <td>[thank, you, for, standing, with, your, concerned, constituents, not, only, against, betsy, devo...</td>\n",
              "      <td>0.999653</td>\n",
              "      <td>M</td>\n",
              "    </tr>\n",
              "  </tbody>\n",
              "</table>\n",
              "</div>"
            ],
            "text/plain": [
              "         original_idx     op_id  ...     probs  preds\n",
              "1951491      11000883  86569077  ...  0.999968      M\n",
              "4701022       6282619  17141989  ...  0.999904      M\n",
              "4321879       5824733  10588553  ...  0.999897      M\n",
              "4679751       6261348  17141989  ...  0.999896      M\n",
              "2091275       2351736  82045172  ...  0.999875      M\n",
              "1951070      11000462  86569077  ...  0.999829      M\n",
              "2025835      11075227  86569077  ...  0.999788      M\n",
              "2860133       3633492   3080550  ...  0.999783      M\n",
              "4342170       5845024  10588553  ...  0.999779      M\n",
              "2037406       2110582  56883970  ...  0.999764      M\n",
              "2021108       2094284  56883970  ...  0.999754      M\n",
              "369165        2649461  13876473  ...  0.999745      M\n",
              "4697373       6278970  17141989  ...  0.999738      M\n",
              "2031939       2105115  56883970  ...  0.999735      M\n",
              "1985172      11034564  86569077  ...  0.999713      M\n",
              "4321778       5824632  10588553  ...  0.999697      M\n",
              "2030470      11079862  86569077  ...  0.999681      M\n",
              "4321800       5824654  10588553  ...  0.999668      M\n",
              "2043255      11092647  86569077  ...  0.999668      M\n",
              "1916823      10966215  86569077  ...  0.999653      M\n",
              "\n",
              "[20 rows x 11 columns]"
            ]
          },
          "metadata": {
            "tags": []
          },
          "execution_count": 73
        }
      ]
    },
    {
      "cell_type": "code",
      "metadata": {
        "id": "KoJzrEOfIct2",
        "colab_type": "code",
        "outputId": "4a809b43-81bb-4320-8c55-3c547dcd5b3c",
        "colab": {
          "base_uri": "https://localhost:8080/",
          "height": 1000
        }
      },
      "source": [
        "# most confident wrong predictions where the answer was F but they thought M\n",
        "# same as before - references to a male politician \n",
        "wrong_preds.sort_values('probs', ascending=True)[:20]"
      ],
      "execution_count": 74,
      "outputs": [
        {
          "output_type": "execute_result",
          "data": {
            "text/html": [
              "<div>\n",
              "<style scoped>\n",
              "    .dataframe tbody tr th:only-of-type {\n",
              "        vertical-align: middle;\n",
              "    }\n",
              "\n",
              "    .dataframe tbody tr th {\n",
              "        vertical-align: top;\n",
              "    }\n",
              "\n",
              "    .dataframe thead th {\n",
              "        text-align: right;\n",
              "    }\n",
              "</style>\n",
              "<table border=\"1\" class=\"dataframe\">\n",
              "  <thead>\n",
              "    <tr style=\"text-align: right;\">\n",
              "      <th></th>\n",
              "      <th>original_idx</th>\n",
              "      <th>op_id</th>\n",
              "      <th>op_gender</th>\n",
              "      <th>post_id</th>\n",
              "      <th>responder_id</th>\n",
              "      <th>response_text</th>\n",
              "      <th>op_name</th>\n",
              "      <th>op_category</th>\n",
              "      <th>split_response</th>\n",
              "      <th>probs</th>\n",
              "      <th>preds</th>\n",
              "    </tr>\n",
              "  </thead>\n",
              "  <tbody>\n",
              "    <tr>\n",
              "      <th>5588873</th>\n",
              "      <td>7404540</td>\n",
              "      <td>25380823</td>\n",
              "      <td>M</td>\n",
              "      <td>280541</td>\n",
              "      <td>Nadine</td>\n",
              "      <td>\"the first female campaign manager of either major party to win a presidential general election ...</td>\n",
              "      <td>Dave Brat</td>\n",
              "      <td>Congress_Republican</td>\n",
              "      <td>[\"the, first, female, campaign, manager, of, either, major, party, to, win, a, presidential, gen...</td>\n",
              "      <td>0.000024</td>\n",
              "      <td>W</td>\n",
              "    </tr>\n",
              "    <tr>\n",
              "      <th>3295306</th>\n",
              "      <td>4095002</td>\n",
              "      <td>59295258</td>\n",
              "      <td>M</td>\n",
              "      <td>144748</td>\n",
              "      <td>Brenda</td>\n",
              "      <td>could you run again marsha blackheart?</td>\n",
              "      <td>Steve Cohen</td>\n",
              "      <td>Congress_Democratic</td>\n",
              "      <td>[could, you, run, again, marsha, blackheart?]</td>\n",
              "      <td>0.000048</td>\n",
              "      <td>W</td>\n",
              "    </tr>\n",
              "    <tr>\n",
              "      <th>7412742</th>\n",
              "      <td>10452130</td>\n",
              "      <td>94031602</td>\n",
              "      <td>M</td>\n",
              "      <td>383895</td>\n",
              "      <td>Carrie</td>\n",
              "      <td>thank you constance,,,,america needs more people like you</td>\n",
              "      <td>Trey Gowdy</td>\n",
              "      <td>Congress_Republican</td>\n",
              "      <td>[thank, you, constance,,,,america, needs, more, people, like, you]</td>\n",
              "      <td>0.000082</td>\n",
              "      <td>W</td>\n",
              "    </tr>\n",
              "    <tr>\n",
              "      <th>4396006</th>\n",
              "      <td>5921673</td>\n",
              "      <td>91743222</td>\n",
              "      <td>M</td>\n",
              "      <td>200953</td>\n",
              "      <td>Pastores</td>\n",
              "      <td>rosa harris wounded worrier program dc 703-554-4697. she is the coordinator for the wwp  walter ...</td>\n",
              "      <td>Brian Mast</td>\n",
              "      <td>Congress_Republican</td>\n",
              "      <td>[rosa, harris, wounded, worrier, program, dc, 703-554-4697., she, is, the, coordinator, for, the...</td>\n",
              "      <td>0.000196</td>\n",
              "      <td>W</td>\n",
              "    </tr>\n",
              "    <tr>\n",
              "      <th>9708052</th>\n",
              "      <td>13636966</td>\n",
              "      <td>67024958</td>\n",
              "      <td>M</td>\n",
              "      <td>530350</td>\n",
              "      <td>Sharon</td>\n",
              "      <td>you have us in your corner and ready to work with you in any way we can.   together we are stron...</td>\n",
              "      <td>Richard Blumenthal</td>\n",
              "      <td>Congress_Democratic</td>\n",
              "      <td>[you, have, us, in, your, corner, and, ready, to, work, with, you, in, any, way, we, can., toget...</td>\n",
              "      <td>0.000256</td>\n",
              "      <td>W</td>\n",
              "    </tr>\n",
              "    <tr>\n",
              "      <th>9707280</th>\n",
              "      <td>13636194</td>\n",
              "      <td>67024958</td>\n",
              "      <td>M</td>\n",
              "      <td>530340</td>\n",
              "      <td>Sarah</td>\n",
              "      <td>dear senator blumenthal,   many of our brace young men and women who have served this nation are...</td>\n",
              "      <td>Richard Blumenthal</td>\n",
              "      <td>Congress_Democratic</td>\n",
              "      <td>[dear, senator, blumenthal,, many, of, our, brace, young, men, and, women, who, have, served, th...</td>\n",
              "      <td>0.000269</td>\n",
              "      <td>W</td>\n",
              "    </tr>\n",
              "    <tr>\n",
              "      <th>7835122</th>\n",
              "      <td>10939333</td>\n",
              "      <td>25181563</td>\n",
              "      <td>M</td>\n",
              "      <td>387009</td>\n",
              "      <td>Suzanne</td>\n",
              "      <td>happy birthday, steny!  hope this new year in your life is as special as you are! huge birthday ...</td>\n",
              "      <td>Steny Hoyer</td>\n",
              "      <td>Congress_Democratic</td>\n",
              "      <td>[happy, birthday,, steny!, hope, this, new, year, in, your, life, is, as, special, as, you, are!...</td>\n",
              "      <td>0.000284</td>\n",
              "      <td>W</td>\n",
              "    </tr>\n",
              "    <tr>\n",
              "      <th>9717118</th>\n",
              "      <td>13646032</td>\n",
              "      <td>67024958</td>\n",
              "      <td>M</td>\n",
              "      <td>530611</td>\n",
              "      <td>Kathy</td>\n",
              "      <td>stop the nuke deal...it has sick that they are going to police themselves. do something other th...</td>\n",
              "      <td>Richard Blumenthal</td>\n",
              "      <td>Congress_Democratic</td>\n",
              "      <td>[stop, the, nuke, deal...it, has, sick, that, they, are, going, to, police, themselves., do, som...</td>\n",
              "      <td>0.000289</td>\n",
              "      <td>W</td>\n",
              "    </tr>\n",
              "    <tr>\n",
              "      <th>5673941</th>\n",
              "      <td>7642761</td>\n",
              "      <td>12336661</td>\n",
              "      <td>M</td>\n",
              "      <td>295066</td>\n",
              "      <td>Justin</td>\n",
              "      <td>i do but i live in spokane, wa. bummer, well wishes cap't higgins! hope you win and make it to dc!</td>\n",
              "      <td>Clay Higgins</td>\n",
              "      <td>Congress_Republican</td>\n",
              "      <td>[i, do, but, i, live, in, spokane,, wa., bummer,, well, wishes, cap't, higgins!, hope, you, win,...</td>\n",
              "      <td>0.000301</td>\n",
              "      <td>W</td>\n",
              "    </tr>\n",
              "    <tr>\n",
              "      <th>7364884</th>\n",
              "      <td>10404272</td>\n",
              "      <td>94031602</td>\n",
              "      <td>M</td>\n",
              "      <td>383866</td>\n",
              "      <td>Bob</td>\n",
              "      <td>if you have had a positive impact on just one life in this world, then you have done it right in...</td>\n",
              "      <td>Trey Gowdy</td>\n",
              "      <td>Congress_Republican</td>\n",
              "      <td>[if, you, have, had, a, positive, impact, on, just, one, life, in, this, world,, then, you, have...</td>\n",
              "      <td>0.000331</td>\n",
              "      <td>W</td>\n",
              "    </tr>\n",
              "    <tr>\n",
              "      <th>264413</th>\n",
              "      <td>2528948</td>\n",
              "      <td>59227815</td>\n",
              "      <td>M</td>\n",
              "      <td>63410</td>\n",
              "      <td>Rhonda</td>\n",
              "      <td>love you, mia love!  almost-aborted first black congresswoman.</td>\n",
              "      <td>Paul Ryan</td>\n",
              "      <td>Congress_Republican</td>\n",
              "      <td>[love, you,, mia, love!, almost-aborted, first, black, congresswoman.]</td>\n",
              "      <td>0.000344</td>\n",
              "      <td>W</td>\n",
              "    </tr>\n",
              "    <tr>\n",
              "      <th>66396</th>\n",
              "      <td>2184311</td>\n",
              "      <td>38794897</td>\n",
              "      <td>M</td>\n",
              "      <td>37298</td>\n",
              "      <td>Daniel</td>\n",
              "      <td>my fellow union sister...represent. u.a.w. local 1112 . thanks senator brown....good luck liz......</td>\n",
              "      <td>Sherrod Brown</td>\n",
              "      <td>Congress_Democratic</td>\n",
              "      <td>[my, fellow, union, sister...represent., u.a.w., local, 1112, ., thanks, senator, brown....good,...</td>\n",
              "      <td>0.000361</td>\n",
              "      <td>W</td>\n",
              "    </tr>\n",
              "    <tr>\n",
              "      <th>7525353</th>\n",
              "      <td>10564741</td>\n",
              "      <td>94031602</td>\n",
              "      <td>M</td>\n",
              "      <td>383969</td>\n",
              "      <td>Elizabeth</td>\n",
              "      <td>doing a good job. elizabeth aten</td>\n",
              "      <td>Trey Gowdy</td>\n",
              "      <td>Congress_Republican</td>\n",
              "      <td>[doing, a, good, job., elizabeth, aten]</td>\n",
              "      <td>0.000402</td>\n",
              "      <td>W</td>\n",
              "    </tr>\n",
              "    <tr>\n",
              "      <th>1025073</th>\n",
              "      <td>9364529</td>\n",
              "      <td>50909248</td>\n",
              "      <td>M</td>\n",
              "      <td>339241</td>\n",
              "      <td>A.</td>\n",
              "      <td>no reflection on you jaime, i just love the line....happy thanksgiving</td>\n",
              "      <td>Donald McEachin</td>\n",
              "      <td>Congress_Democratic</td>\n",
              "      <td>[no, reflection, on, you, jaime,, i, just, love, the, line....happy, thanksgiving]</td>\n",
              "      <td>0.000438</td>\n",
              "      <td>W</td>\n",
              "    </tr>\n",
              "    <tr>\n",
              "      <th>2098180</th>\n",
              "      <td>2418197</td>\n",
              "      <td>70015828</td>\n",
              "      <td>M</td>\n",
              "      <td>53244</td>\n",
              "      <td>George</td>\n",
              "      <td>thanks you senator collins</td>\n",
              "      <td>Angus King</td>\n",
              "      <td>Congress_Independent</td>\n",
              "      <td>[thanks, you, senator, collins]</td>\n",
              "      <td>0.000472</td>\n",
              "      <td>W</td>\n",
              "    </tr>\n",
              "    <tr>\n",
              "      <th>257595</th>\n",
              "      <td>3469976</td>\n",
              "      <td>42011381</td>\n",
              "      <td>M</td>\n",
              "      <td>111913</td>\n",
              "      <td>Dodie</td>\n",
              "      <td>so why has not congress done anything?  i agree with debbie, please retire.  you are an embarras...</td>\n",
              "      <td>Mike Coffman</td>\n",
              "      <td>Congress_Republican</td>\n",
              "      <td>[so, why, has, not, congress, done, anything?, i, agree, with, debbie,, please, retire., you, ar...</td>\n",
              "      <td>0.000506</td>\n",
              "      <td>W</td>\n",
              "    </tr>\n",
              "    <tr>\n",
              "      <th>1663256</th>\n",
              "      <td>10165771</td>\n",
              "      <td>76267383</td>\n",
              "      <td>M</td>\n",
              "      <td>373607</td>\n",
              "      <td>Dave</td>\n",
              "      <td>mr. rothfus was completely mia for the steelworkers at ati. simple fact.</td>\n",
              "      <td>Keith Rothfus</td>\n",
              "      <td>Congress_Republican</td>\n",
              "      <td>[mr., rothfus, was, completely, mia, for, the, steelworkers, at, ati., simple, fact.]</td>\n",
              "      <td>0.000544</td>\n",
              "      <td>W</td>\n",
              "    </tr>\n",
              "    <tr>\n",
              "      <th>7807502</th>\n",
              "      <td>10846890</td>\n",
              "      <td>94031602</td>\n",
              "      <td>M</td>\n",
              "      <td>384179</td>\n",
              "      <td>Chris</td>\n",
              "      <td>i do wish you where from alabama. could you take representative martha roby under your wing? tha...</td>\n",
              "      <td>Trey Gowdy</td>\n",
              "      <td>Congress_Republican</td>\n",
              "      <td>[i, do, wish, you, where, from, alabama., could, you, take, representative, martha, roby, under,...</td>\n",
              "      <td>0.000581</td>\n",
              "      <td>W</td>\n",
              "    </tr>\n",
              "    <tr>\n",
              "      <th>378158</th>\n",
              "      <td>6092259</td>\n",
              "      <td>39064513</td>\n",
              "      <td>M</td>\n",
              "      <td>209528</td>\n",
              "      <td>Dana</td>\n",
              "      <td>i love you elizabeth warren!! you go girl!!!</td>\n",
              "      <td>Earl Blumenauer</td>\n",
              "      <td>Congress_Democratic</td>\n",
              "      <td>[i, love, you, elizabeth, warren!!, you, go, girl!!!]</td>\n",
              "      <td>0.000629</td>\n",
              "      <td>W</td>\n",
              "    </tr>\n",
              "    <tr>\n",
              "      <th>7397387</th>\n",
              "      <td>10436775</td>\n",
              "      <td>94031602</td>\n",
              "      <td>M</td>\n",
              "      <td>383884</td>\n",
              "      <td>Matt</td>\n",
              "      <td>get em' jackie!</td>\n",
              "      <td>Trey Gowdy</td>\n",
              "      <td>Congress_Republican</td>\n",
              "      <td>[get, em', jackie!]</td>\n",
              "      <td>0.000651</td>\n",
              "      <td>W</td>\n",
              "    </tr>\n",
              "  </tbody>\n",
              "</table>\n",
              "</div>"
            ],
            "text/plain": [
              "         original_idx     op_id  ...     probs  preds\n",
              "5588873       7404540  25380823  ...  0.000024      W\n",
              "3295306       4095002  59295258  ...  0.000048      W\n",
              "7412742      10452130  94031602  ...  0.000082      W\n",
              "4396006       5921673  91743222  ...  0.000196      W\n",
              "9708052      13636966  67024958  ...  0.000256      W\n",
              "9707280      13636194  67024958  ...  0.000269      W\n",
              "7835122      10939333  25181563  ...  0.000284      W\n",
              "9717118      13646032  67024958  ...  0.000289      W\n",
              "5673941       7642761  12336661  ...  0.000301      W\n",
              "7364884      10404272  94031602  ...  0.000331      W\n",
              "264413        2528948  59227815  ...  0.000344      W\n",
              "66396         2184311  38794897  ...  0.000361      W\n",
              "7525353      10564741  94031602  ...  0.000402      W\n",
              "1025073       9364529  50909248  ...  0.000438      W\n",
              "2098180       2418197  70015828  ...  0.000472      W\n",
              "257595        3469976  42011381  ...  0.000506      W\n",
              "1663256      10165771  76267383  ...  0.000544      W\n",
              "7807502      10846890  94031602  ...  0.000581      W\n",
              "378158        6092259  39064513  ...  0.000629      W\n",
              "7397387      10436775  94031602  ...  0.000651      W\n",
              "\n",
              "[20 rows x 11 columns]"
            ]
          },
          "metadata": {
            "tags": []
          },
          "execution_count": 74
        }
      ]
    }
  ]
}
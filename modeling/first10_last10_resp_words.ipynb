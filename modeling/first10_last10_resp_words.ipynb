{
  "nbformat": 4,
  "nbformat_minor": 0,
  "metadata": {
    "kernelspec": {
      "name": "python3",
      "display_name": "Python 3"
    },
    "language_info": {
      "codemirror_mode": {
        "name": "ipython",
        "version": 3
      },
      "file_extension": ".py",
      "mimetype": "text/x-python",
      "name": "python",
      "nbconvert_exporter": "python",
      "pygments_lexer": "ipython3",
      "version": "3.7.4"
    },
    "colab": {
      "name": "first10_last10_resp_words.ipynb",
      "provenance": [],
      "machine_shape": "hm",
      "include_colab_link": true
    },
    "accelerator": "TPU"
  },
  "cells": [
    {
      "cell_type": "markdown",
      "metadata": {
        "id": "view-in-github",
        "colab_type": "text"
      },
      "source": [
        "<a href=\"https://colab.research.google.com/github/emrapport/w266-final-project/blob/master/modeling/first10_last10_resp_words.ipynb\" target=\"_parent\"><img src=\"https://colab.research.google.com/assets/colab-badge.svg\" alt=\"Open In Colab\"/></a>"
      ]
    },
    {
      "cell_type": "markdown",
      "metadata": {
        "id": "ldVKPuCY1oqk",
        "colab_type": "text"
      },
      "source": [
        "## Remove posts with only 1 or 2 words. Sample first 10 words, bottom 10 words instead of first 20 words.\n",
        "\n"
      ]
    },
    {
      "cell_type": "code",
      "metadata": {
        "id": "dJtCeCgbSs0D",
        "colab_type": "code",
        "colab": {}
      },
      "source": [
        "# this notebook is based off of this blog post: \n",
        "# https://realpython.com/python-keras-text-classification/#reader-comments"
      ],
      "execution_count": 0,
      "outputs": []
    },
    {
      "cell_type": "code",
      "metadata": {
        "id": "_QYIGfoPFRZK",
        "colab_type": "code",
        "colab": {}
      },
      "source": [
        "DATASET_NAME = \"three_plus_words\"\n",
        "MODEL_NAME = \"three_plus_words\"\n",
        "MAX_SEQ_LENGTH = 20\n",
        "TRAINING_SET_SIZE = 4000000\n",
        "VAL_SET_SIZE = 2000000\n",
        "NUM_EPOCHS = 30\n",
        "BATCH_SIZE = 1000\n",
        "MAX_SEQUENCE_LENGTH = 20\n",
        "\n",
        "\n",
        "# I don't think we have a good reason to do this right now\n",
        "# but we might eventually \n",
        "SAVE_TOKENIZED_DATA = False"
      ],
      "execution_count": 0,
      "outputs": []
    },
    {
      "cell_type": "code",
      "metadata": {
        "id": "l0rrZSx7Ss0M",
        "colab_type": "code",
        "outputId": "1890d9b9-54f7-4571-8a06-82d0db7fb808",
        "colab": {
          "base_uri": "https://localhost:8080/",
          "height": 492
        }
      },
      "source": [
        "from sklearn.linear_model import LogisticRegression\n",
        "from sklearn.feature_extraction.text import HashingVectorizer\n",
        "from scipy.sparse import hstack, vstack\n",
        "from keras.preprocessing.text import Tokenizer\n",
        "from tensorflow.keras import Sequential, layers\n",
        "from keras.utils import plot_model\n",
        "import pandas as pd\n",
        "import numpy as np\n",
        "import copy\n",
        "import time\n",
        "import pickle\n",
        "!pip install gcsfs\n",
        "\n",
        "pd.set_option('max_colwidth', 100)"
      ],
      "execution_count": 2,
      "outputs": [
        {
          "output_type": "stream",
          "text": [
            "Using TensorFlow backend.\n"
          ],
          "name": "stderr"
        },
        {
          "output_type": "stream",
          "text": [
            "Collecting gcsfs\n",
            "\u001b[?25l  Downloading https://files.pythonhosted.org/packages/ab/92/0297f2813cb240c52e90f8587420149970565800e019e1b08ef5ad28b6d9/gcsfs-0.3.1.tar.gz (43kB)\n",
            "\r\u001b[K     |███████▋                        | 10kB 14.9MB/s eta 0:00:01\r\u001b[K     |███████████████▏                | 20kB 2.2MB/s eta 0:00:01\r\u001b[K     |██████████████████████▊         | 30kB 3.2MB/s eta 0:00:01\r\u001b[K     |██████████████████████████████▎ | 40kB 2.1MB/s eta 0:00:01\r\u001b[K     |████████████████████████████████| 51kB 1.7MB/s \n",
            "\u001b[?25hRequirement already satisfied: google-auth>=1.2 in /usr/local/lib/python3.6/dist-packages (from gcsfs) (1.4.2)\n",
            "Requirement already satisfied: google-auth-oauthlib in /usr/local/lib/python3.6/dist-packages (from gcsfs) (0.4.1)\n",
            "Requirement already satisfied: requests in /usr/local/lib/python3.6/dist-packages (from gcsfs) (2.21.0)\n",
            "Requirement already satisfied: decorator in /usr/local/lib/python3.6/dist-packages (from gcsfs) (4.4.1)\n",
            "Requirement already satisfied: fsspec>=0.2.2 in /usr/local/lib/python3.6/dist-packages (from gcsfs) (0.5.2)\n",
            "Requirement already satisfied: cachetools>=2.0.0 in /usr/local/lib/python3.6/dist-packages (from google-auth>=1.2->gcsfs) (3.1.1)\n",
            "Requirement already satisfied: rsa>=3.1.4 in /usr/local/lib/python3.6/dist-packages (from google-auth>=1.2->gcsfs) (4.0)\n",
            "Requirement already satisfied: pyasn1-modules>=0.2.1 in /usr/local/lib/python3.6/dist-packages (from google-auth>=1.2->gcsfs) (0.2.7)\n",
            "Requirement already satisfied: six>=1.9.0 in /usr/local/lib/python3.6/dist-packages (from google-auth>=1.2->gcsfs) (1.12.0)\n",
            "Requirement already satisfied: requests-oauthlib>=0.7.0 in /usr/local/lib/python3.6/dist-packages (from google-auth-oauthlib->gcsfs) (1.2.0)\n",
            "Requirement already satisfied: chardet<3.1.0,>=3.0.2 in /usr/local/lib/python3.6/dist-packages (from requests->gcsfs) (3.0.4)\n",
            "Requirement already satisfied: certifi>=2017.4.17 in /usr/local/lib/python3.6/dist-packages (from requests->gcsfs) (2019.9.11)\n",
            "Requirement already satisfied: urllib3<1.25,>=1.21.1 in /usr/local/lib/python3.6/dist-packages (from requests->gcsfs) (1.24.3)\n",
            "Requirement already satisfied: idna<2.9,>=2.5 in /usr/local/lib/python3.6/dist-packages (from requests->gcsfs) (2.8)\n",
            "Requirement already satisfied: pyasn1>=0.1.3 in /usr/local/lib/python3.6/dist-packages (from rsa>=3.1.4->google-auth>=1.2->gcsfs) (0.4.7)\n",
            "Requirement already satisfied: oauthlib>=3.0.0 in /usr/local/lib/python3.6/dist-packages (from requests-oauthlib>=0.7.0->google-auth-oauthlib->gcsfs) (3.1.0)\n",
            "Building wheels for collected packages: gcsfs\n",
            "  Building wheel for gcsfs (setup.py) ... \u001b[?25l\u001b[?25hdone\n",
            "  Created wheel for gcsfs: filename=gcsfs-0.3.1-py2.py3-none-any.whl size=17936 sha256=ad384dfc0366cf3d6923ae074b2b5aa9da9a19a68c32180ee1dc2d8b808372cb\n",
            "  Stored in directory: /root/.cache/pip/wheels/9d/2b/6f/86954f0d8caa1173841e62bb780dc0f8693bd268e04a267682\n",
            "Successfully built gcsfs\n",
            "Installing collected packages: gcsfs\n",
            "Successfully installed gcsfs-0.3.1\n"
          ],
          "name": "stdout"
        }
      ]
    },
    {
      "cell_type": "code",
      "metadata": {
        "id": "lKNfUKrfUgP-",
        "colab_type": "code",
        "outputId": "0a48c9db-7933-4483-8375-1457d7a457c0",
        "colab": {
          "base_uri": "https://localhost:8080/",
          "height": 175
        }
      },
      "source": [
        "# this cell is only necessary if running in colab\n",
        "project_id = 'w266-251323'\n",
        "import uuid\n",
        "bucket_name = 'fb-congressional-data/'\n",
        "from google.colab import auth\n",
        "auth.authenticate_user()\n",
        "!gcloud config set project {project_id}"
      ],
      "execution_count": 3,
      "outputs": [
        {
          "output_type": "stream",
          "text": [
            "WARNING:tensorflow:\n",
            "The TensorFlow contrib module will not be included in TensorFlow 2.0.\n",
            "For more information, please see:\n",
            "  * https://github.com/tensorflow/community/blob/master/rfcs/20180907-contrib-sunset.md\n",
            "  * https://github.com/tensorflow/addons\n",
            "  * https://github.com/tensorflow/io (for I/O related ops)\n",
            "If you depend on functionality not listed there, please file an issue.\n",
            "\n",
            "Updated property [core/project].\n"
          ],
          "name": "stdout"
        }
      ]
    },
    {
      "cell_type": "code",
      "metadata": {
        "id": "9T7PzdLQSs0j",
        "colab_type": "code",
        "outputId": "56c92c57-abad-45ac-c2f0-195c10674b76",
        "colab": {
          "base_uri": "https://localhost:8080/",
          "height": 72
        }
      },
      "source": [
        "train_df = pd.read_csv(\"gs://fb-congressional-data/contraction_expanded_data/train.csv\", index_col=0)"
      ],
      "execution_count": 4,
      "outputs": [
        {
          "output_type": "stream",
          "text": [
            "/usr/local/lib/python3.6/dist-packages/numpy/lib/arraysetops.py:568: FutureWarning: elementwise comparison failed; returning scalar instead, but in the future will perform elementwise comparison\n",
            "  mask |= (ar1 == a)\n"
          ],
          "name": "stderr"
        }
      ]
    },
    {
      "cell_type": "code",
      "metadata": {
        "id": "0iOniVLISs0m",
        "colab_type": "code",
        "outputId": "77993253-ad06-4352-aa63-ac6dc7ad4eba",
        "colab": {
          "base_uri": "https://localhost:8080/",
          "height": 72
        }
      },
      "source": [
        "dev_df = pd.read_csv(\"gs://fb-congressional-data/contraction_expanded_data/dev.csv\", index_col=0)"
      ],
      "execution_count": 5,
      "outputs": [
        {
          "output_type": "stream",
          "text": [
            "/usr/local/lib/python3.6/dist-packages/numpy/lib/arraysetops.py:568: FutureWarning: elementwise comparison failed; returning scalar instead, but in the future will perform elementwise comparison\n",
            "  mask |= (ar1 == a)\n"
          ],
          "name": "stderr"
        }
      ]
    },
    {
      "cell_type": "code",
      "metadata": {
        "id": "dk4goOwAPXRH",
        "colab_type": "code",
        "outputId": "505510aa-bbde-411e-98c7-364f6c556ab4",
        "colab": {
          "base_uri": "https://localhost:8080/",
          "height": 34
        }
      },
      "source": [
        "len(train_df)"
      ],
      "execution_count": 6,
      "outputs": [
        {
          "output_type": "execute_result",
          "data": {
            "text/plain": [
              "9879016"
            ]
          },
          "metadata": {
            "tags": []
          },
          "execution_count": 6
        }
      ]
    },
    {
      "cell_type": "code",
      "metadata": {
        "id": "6sOBM6Q6Q4Mz",
        "colab_type": "code",
        "outputId": "79a2cdfb-9f9f-4155-c418-18149da05a94",
        "colab": {
          "base_uri": "https://localhost:8080/",
          "height": 34
        }
      },
      "source": [
        "len(dev_df)"
      ],
      "execution_count": 7,
      "outputs": [
        {
          "output_type": "execute_result",
          "data": {
            "text/plain": [
              "2292907"
            ]
          },
          "metadata": {
            "tags": []
          },
          "execution_count": 7
        }
      ]
    },
    {
      "cell_type": "code",
      "metadata": {
        "id": "bwNu4VTq46QG",
        "colab_type": "code",
        "outputId": "031b075e-b13c-4fc3-a0d1-e8ca264814d5",
        "colab": {
          "base_uri": "https://localhost:8080/",
          "height": 296
        }
      },
      "source": [
        "# Remove 1 and 2 word responses from training set.\n",
        "# Split response string by spaces.\n",
        "train_df['split_response'] = train_df['response_text'].str.split()\n",
        "# Remove the split responses that have length 1 or 2.\n",
        "train_df = train_df[train_df['split_response'].str.len() > 2]\n",
        "train_df.head()"
      ],
      "execution_count": 8,
      "outputs": [
        {
          "output_type": "execute_result",
          "data": {
            "text/html": [
              "<div>\n",
              "<style scoped>\n",
              "    .dataframe tbody tr th:only-of-type {\n",
              "        vertical-align: middle;\n",
              "    }\n",
              "\n",
              "    .dataframe tbody tr th {\n",
              "        vertical-align: top;\n",
              "    }\n",
              "\n",
              "    .dataframe thead th {\n",
              "        text-align: right;\n",
              "    }\n",
              "</style>\n",
              "<table border=\"1\" class=\"dataframe\">\n",
              "  <thead>\n",
              "    <tr style=\"text-align: right;\">\n",
              "      <th></th>\n",
              "      <th>original_idx</th>\n",
              "      <th>op_id</th>\n",
              "      <th>op_gender</th>\n",
              "      <th>post_id</th>\n",
              "      <th>responder_id</th>\n",
              "      <th>response_text</th>\n",
              "      <th>op_name</th>\n",
              "      <th>op_category</th>\n",
              "      <th>split_response</th>\n",
              "    </tr>\n",
              "  </thead>\n",
              "  <tbody>\n",
              "    <tr>\n",
              "      <th>0</th>\n",
              "      <td>0</td>\n",
              "      <td>57265377</td>\n",
              "      <td>M</td>\n",
              "      <td>0</td>\n",
              "      <td>Jerry</td>\n",
              "      <td>protecting birth is not the same as protecting life. you may very well pledge to the former but ...</td>\n",
              "      <td>Roger Williams</td>\n",
              "      <td>Congress_Republican</td>\n",
              "      <td>[protecting, birth, is, not, the, same, as, protecting, life., you, may, very, well, pledge, to,...</td>\n",
              "    </tr>\n",
              "    <tr>\n",
              "      <th>1</th>\n",
              "      <td>1</td>\n",
              "      <td>57265377</td>\n",
              "      <td>M</td>\n",
              "      <td>0</td>\n",
              "      <td>Andrea</td>\n",
              "      <td>you need to protect children and leave my body to me.</td>\n",
              "      <td>Roger Williams</td>\n",
              "      <td>Congress_Republican</td>\n",
              "      <td>[you, need, to, protect, children, and, leave, my, body, to, me.]</td>\n",
              "    </tr>\n",
              "    <tr>\n",
              "      <th>2</th>\n",
              "      <td>2</td>\n",
              "      <td>57265377</td>\n",
              "      <td>M</td>\n",
              "      <td>0</td>\n",
              "      <td>Sherry</td>\n",
              "      <td>thank you</td>\n",
              "      <td>Roger Williams</td>\n",
              "      <td>Congress_Republican</td>\n",
              "      <td>[thank, you]</td>\n",
              "    </tr>\n",
              "    <tr>\n",
              "      <th>3</th>\n",
              "      <td>3</td>\n",
              "      <td>57265377</td>\n",
              "      <td>M</td>\n",
              "      <td>0</td>\n",
              "      <td>Bob</td>\n",
              "      <td>thank you roger</td>\n",
              "      <td>Roger Williams</td>\n",
              "      <td>Congress_Republican</td>\n",
              "      <td>[thank, you, roger]</td>\n",
              "    </tr>\n",
              "    <tr>\n",
              "      <th>4</th>\n",
              "      <td>4</td>\n",
              "      <td>57265377</td>\n",
              "      <td>M</td>\n",
              "      <td>0</td>\n",
              "      <td>Joy</td>\n",
              "      <td>unwanted pregnancy is a sad and unfortunate situation for anyone to find themselves in, however,...</td>\n",
              "      <td>Roger Williams</td>\n",
              "      <td>Congress_Republican</td>\n",
              "      <td>[unwanted, pregnancy, is, a, sad, and, unfortunate, situation, for, anyone, to, find, themselves...</td>\n",
              "    </tr>\n",
              "  </tbody>\n",
              "</table>\n",
              "</div>"
            ],
            "text/plain": [
              "   original_idx  ...                                                                                       split_response\n",
              "0             0  ...  [protecting, birth, is, not, the, same, as, protecting, life., you, may, very, well, pledge, to,...\n",
              "1             1  ...                                    [you, need, to, protect, children, and, leave, my, body, to, me.]\n",
              "2             2  ...                                                                                         [thank, you]\n",
              "3             3  ...                                                                                  [thank, you, roger]\n",
              "4             4  ...  [unwanted, pregnancy, is, a, sad, and, unfortunate, situation, for, anyone, to, find, themselves...\n",
              "\n",
              "[5 rows x 9 columns]"
            ]
          },
          "metadata": {
            "tags": []
          },
          "execution_count": 8
        }
      ]
    },
    {
      "cell_type": "code",
      "metadata": {
        "id": "xE-DVhwSJD0O",
        "colab_type": "code",
        "colab": {
          "base_uri": "https://localhost:8080/",
          "height": 296
        },
        "outputId": "eece3e4c-c608-4fe7-b813-6d14f743423e"
      },
      "source": [
        "train_df.head()"
      ],
      "execution_count": 10,
      "outputs": [
        {
          "output_type": "execute_result",
          "data": {
            "text/html": [
              "<div>\n",
              "<style scoped>\n",
              "    .dataframe tbody tr th:only-of-type {\n",
              "        vertical-align: middle;\n",
              "    }\n",
              "\n",
              "    .dataframe tbody tr th {\n",
              "        vertical-align: top;\n",
              "    }\n",
              "\n",
              "    .dataframe thead th {\n",
              "        text-align: right;\n",
              "    }\n",
              "</style>\n",
              "<table border=\"1\" class=\"dataframe\">\n",
              "  <thead>\n",
              "    <tr style=\"text-align: right;\">\n",
              "      <th></th>\n",
              "      <th>original_idx</th>\n",
              "      <th>op_id</th>\n",
              "      <th>op_gender</th>\n",
              "      <th>post_id</th>\n",
              "      <th>responder_id</th>\n",
              "      <th>response_text</th>\n",
              "      <th>op_name</th>\n",
              "      <th>op_category</th>\n",
              "      <th>split_response</th>\n",
              "    </tr>\n",
              "  </thead>\n",
              "  <tbody>\n",
              "    <tr>\n",
              "      <th>0</th>\n",
              "      <td>0</td>\n",
              "      <td>57265377</td>\n",
              "      <td>M</td>\n",
              "      <td>0</td>\n",
              "      <td>Jerry</td>\n",
              "      <td>protecting birth is not the same as protecting life. you may very well pledge to the former but ...</td>\n",
              "      <td>Roger Williams</td>\n",
              "      <td>Congress_Republican</td>\n",
              "      <td>[protecting, birth, is, not, the, same, as, protecting, life., you, may, very, well, pledge, to,...</td>\n",
              "    </tr>\n",
              "    <tr>\n",
              "      <th>1</th>\n",
              "      <td>1</td>\n",
              "      <td>57265377</td>\n",
              "      <td>M</td>\n",
              "      <td>0</td>\n",
              "      <td>Andrea</td>\n",
              "      <td>you need to protect children and leave my body to me.</td>\n",
              "      <td>Roger Williams</td>\n",
              "      <td>Congress_Republican</td>\n",
              "      <td>[you, need, to, protect, children, and, leave, my, body, to, me.]</td>\n",
              "    </tr>\n",
              "    <tr>\n",
              "      <th>3</th>\n",
              "      <td>3</td>\n",
              "      <td>57265377</td>\n",
              "      <td>M</td>\n",
              "      <td>0</td>\n",
              "      <td>Bob</td>\n",
              "      <td>thank you roger</td>\n",
              "      <td>Roger Williams</td>\n",
              "      <td>Congress_Republican</td>\n",
              "      <td>[thank, you, roger]</td>\n",
              "    </tr>\n",
              "    <tr>\n",
              "      <th>4</th>\n",
              "      <td>4</td>\n",
              "      <td>57265377</td>\n",
              "      <td>M</td>\n",
              "      <td>0</td>\n",
              "      <td>Joy</td>\n",
              "      <td>unwanted pregnancy is a sad and unfortunate situation for anyone to find themselves in, however,...</td>\n",
              "      <td>Roger Williams</td>\n",
              "      <td>Congress_Republican</td>\n",
              "      <td>[unwanted, pregnancy, is, a, sad, and, unfortunate, situation, for, anyone, to, find, themselves...</td>\n",
              "    </tr>\n",
              "    <tr>\n",
              "      <th>5</th>\n",
              "      <td>5</td>\n",
              "      <td>57265377</td>\n",
              "      <td>M</td>\n",
              "      <td>0</td>\n",
              "      <td>Candice</td>\n",
              "      <td>women, the \"hosts\" of the unborn babies you are so supportive of, need access to healthcare to g...</td>\n",
              "      <td>Roger Williams</td>\n",
              "      <td>Congress_Republican</td>\n",
              "      <td>[women,, the, \"hosts\", of, the, unborn, babies, you, are, so, supportive, of,, need, access, to,...</td>\n",
              "    </tr>\n",
              "  </tbody>\n",
              "</table>\n",
              "</div>"
            ],
            "text/plain": [
              "   original_idx  ...                                                                                       split_response\n",
              "0             0  ...  [protecting, birth, is, not, the, same, as, protecting, life., you, may, very, well, pledge, to,...\n",
              "1             1  ...                                    [you, need, to, protect, children, and, leave, my, body, to, me.]\n",
              "3             3  ...                                                                                  [thank, you, roger]\n",
              "4             4  ...  [unwanted, pregnancy, is, a, sad, and, unfortunate, situation, for, anyone, to, find, themselves...\n",
              "5             5  ...  [women,, the, \"hosts\", of, the, unborn, babies, you, are, so, supportive, of,, need, access, to,...\n",
              "\n",
              "[5 rows x 9 columns]"
            ]
          },
          "metadata": {
            "tags": []
          },
          "execution_count": 10
        }
      ]
    },
    {
      "cell_type": "code",
      "metadata": {
        "id": "LIv_5tprMl_9",
        "colab_type": "code",
        "colab": {}
      },
      "source": [
        "def get_short_response(series_list,length=20):\n",
        "  '''Take a list of strings and a goal max length. Return the goal length list\n",
        "  taken half from the beginning of the orginal list and half from the end of \n",
        "  the original list.'''\n",
        "  if len(series_list) > length:\n",
        "    new_list = series_list[:length//2] + series_list[-length//2:]\n",
        "    return new_list\n",
        "  else:\n",
        "    return series_list"
      ],
      "execution_count": 0,
      "outputs": []
    },
    {
      "cell_type": "code",
      "metadata": {
        "id": "OL09VZaPQuX1",
        "colab_type": "code",
        "colab": {}
      },
      "source": [
        "train_df['short_response'] = train_df['split_response'].apply(get_short_response)"
      ],
      "execution_count": 0,
      "outputs": []
    },
    {
      "cell_type": "code",
      "metadata": {
        "id": "ScEs4G1tRSXx",
        "colab_type": "code",
        "colab": {
          "base_uri": "https://localhost:8080/",
          "height": 346
        },
        "outputId": "a2fe9412-743c-4f9c-9366-61e09eb87bd0"
      },
      "source": [
        "train_df.head()\n"
      ],
      "execution_count": 50,
      "outputs": [
        {
          "output_type": "execute_result",
          "data": {
            "text/html": [
              "<div>\n",
              "<style scoped>\n",
              "    .dataframe tbody tr th:only-of-type {\n",
              "        vertical-align: middle;\n",
              "    }\n",
              "\n",
              "    .dataframe tbody tr th {\n",
              "        vertical-align: top;\n",
              "    }\n",
              "\n",
              "    .dataframe thead th {\n",
              "        text-align: right;\n",
              "    }\n",
              "</style>\n",
              "<table border=\"1\" class=\"dataframe\">\n",
              "  <thead>\n",
              "    <tr style=\"text-align: right;\">\n",
              "      <th></th>\n",
              "      <th>original_idx</th>\n",
              "      <th>op_id</th>\n",
              "      <th>op_gender</th>\n",
              "      <th>post_id</th>\n",
              "      <th>responder_id</th>\n",
              "      <th>response_text</th>\n",
              "      <th>op_name</th>\n",
              "      <th>op_category</th>\n",
              "      <th>split_response</th>\n",
              "      <th>short_response</th>\n",
              "    </tr>\n",
              "  </thead>\n",
              "  <tbody>\n",
              "    <tr>\n",
              "      <th>0</th>\n",
              "      <td>0</td>\n",
              "      <td>57265377</td>\n",
              "      <td>M</td>\n",
              "      <td>0</td>\n",
              "      <td>Jerry</td>\n",
              "      <td>protecting birth is not the same as protecting life. you may very well pledge to the former but ...</td>\n",
              "      <td>Roger Williams</td>\n",
              "      <td>Congress_Republican</td>\n",
              "      <td>[protecting, birth, is, not, the, same, as, protecting, life., you, may, very, well, pledge, to,...</td>\n",
              "      <td>[protecting, birth, is, not, the, same, as, protecting, life., you, to, the, former, but, you, f...</td>\n",
              "    </tr>\n",
              "    <tr>\n",
              "      <th>1</th>\n",
              "      <td>1</td>\n",
              "      <td>57265377</td>\n",
              "      <td>M</td>\n",
              "      <td>0</td>\n",
              "      <td>Andrea</td>\n",
              "      <td>you need to protect children and leave my body to me.</td>\n",
              "      <td>Roger Williams</td>\n",
              "      <td>Congress_Republican</td>\n",
              "      <td>[you, need, to, protect, children, and, leave, my, body, to, me.]</td>\n",
              "      <td>[you, need, to, protect, children, and, leave, my, body, to, me.]</td>\n",
              "    </tr>\n",
              "    <tr>\n",
              "      <th>3</th>\n",
              "      <td>3</td>\n",
              "      <td>57265377</td>\n",
              "      <td>M</td>\n",
              "      <td>0</td>\n",
              "      <td>Bob</td>\n",
              "      <td>thank you roger</td>\n",
              "      <td>Roger Williams</td>\n",
              "      <td>Congress_Republican</td>\n",
              "      <td>[thank, you, roger]</td>\n",
              "      <td>[thank, you, roger]</td>\n",
              "    </tr>\n",
              "    <tr>\n",
              "      <th>4</th>\n",
              "      <td>4</td>\n",
              "      <td>57265377</td>\n",
              "      <td>M</td>\n",
              "      <td>0</td>\n",
              "      <td>Joy</td>\n",
              "      <td>unwanted pregnancy is a sad and unfortunate situation for anyone to find themselves in, however,...</td>\n",
              "      <td>Roger Williams</td>\n",
              "      <td>Congress_Republican</td>\n",
              "      <td>[unwanted, pregnancy, is, a, sad, and, unfortunate, situation, for, anyone, to, find, themselves...</td>\n",
              "      <td>[unwanted, pregnancy, is, a, sad, and, unfortunate, situation, for, anyone, support, should, tak...</td>\n",
              "    </tr>\n",
              "    <tr>\n",
              "      <th>5</th>\n",
              "      <td>5</td>\n",
              "      <td>57265377</td>\n",
              "      <td>M</td>\n",
              "      <td>0</td>\n",
              "      <td>Candice</td>\n",
              "      <td>women, the \"hosts\" of the unborn babies you are so supportive of, need access to healthcare to g...</td>\n",
              "      <td>Roger Williams</td>\n",
              "      <td>Congress_Republican</td>\n",
              "      <td>[women,, the, \"hosts\", of, the, unborn, babies, you, are, so, supportive, of,, need, access, to,...</td>\n",
              "      <td>[women,, the, \"hosts\", of, the, unborn, babies, you, are, so, nations., how, does, this, help?, ...</td>\n",
              "    </tr>\n",
              "  </tbody>\n",
              "</table>\n",
              "</div>"
            ],
            "text/plain": [
              "   original_idx  ...                                                                                       short_response\n",
              "0             0  ...  [protecting, birth, is, not, the, same, as, protecting, life., you, to, the, former, but, you, f...\n",
              "1             1  ...                                    [you, need, to, protect, children, and, leave, my, body, to, me.]\n",
              "3             3  ...                                                                                  [thank, you, roger]\n",
              "4             4  ...  [unwanted, pregnancy, is, a, sad, and, unfortunate, situation, for, anyone, support, should, tak...\n",
              "5             5  ...  [women,, the, \"hosts\", of, the, unborn, babies, you, are, so, nations., how, does, this, help?, ...\n",
              "\n",
              "[5 rows x 10 columns]"
            ]
          },
          "metadata": {
            "tags": []
          },
          "execution_count": 50
        }
      ]
    },
    {
      "cell_type": "code",
      "metadata": {
        "id": "K95juTqs5nM1",
        "colab_type": "code",
        "outputId": "312022be-9a4f-4bd0-94d1-3bd08ac71f5e",
        "colab": {
          "base_uri": "https://localhost:8080/",
          "height": 34
        }
      },
      "source": [
        "# Remove 1 and 2 word responses from dev set.\n",
        "# Split response string by spaces.\n",
        "dev_df['split_response'] = dev_df['response_text'].str.split()\n",
        "# Remove the split responses that have length 1 or 2.\n",
        "dev_df = dev_df[dev_df['split_response'].str.len() > 2]\n",
        "len(dev_df)"
      ],
      "execution_count": 44,
      "outputs": [
        {
          "output_type": "execute_result",
          "data": {
            "text/plain": [
              "2041945"
            ]
          },
          "metadata": {
            "tags": []
          },
          "execution_count": 44
        }
      ]
    },
    {
      "cell_type": "code",
      "metadata": {
        "id": "juAj2mf5jL-7",
        "colab_type": "code",
        "colab": {}
      },
      "source": [
        "# Shorten the lists to the max length (using 20 for now)\n",
        "dev_df['short_response'] = dev_df['split_response'].apply(get_short_response)"
      ],
      "execution_count": 0,
      "outputs": []
    },
    {
      "cell_type": "code",
      "metadata": {
        "id": "Nejo7LG-jY-F",
        "colab_type": "code",
        "colab": {}
      },
      "source": [
        "# Turn the list back into one string.\n",
        "dev_df['response_text'] = dev_df['short_response'].str.join(' ')"
      ],
      "execution_count": 0,
      "outputs": []
    },
    {
      "cell_type": "code",
      "metadata": {
        "id": "OOUNK4wfny7d",
        "colab_type": "code",
        "colab": {}
      },
      "source": [
        "# Turn the list back into one string.\n",
        "train_df['response_text'] = train_df['short_response'].str.join(' ')"
      ],
      "execution_count": 0,
      "outputs": []
    },
    {
      "cell_type": "code",
      "metadata": {
        "id": "5HOBGFbSn49u",
        "colab_type": "code",
        "colab": {}
      },
      "source": [
        "# Remove the columns of lists.\n",
        "train_df = train_df.drop(['short_response','split_response'], axis=1)\n",
        "dev_df = dev_df.drop(['short_response','split_response'], axis=1)\n"
      ],
      "execution_count": 0,
      "outputs": []
    },
    {
      "cell_type": "code",
      "metadata": {
        "id": "TUXb8EyLkb_a",
        "colab_type": "code",
        "colab": {
          "base_uri": "https://localhost:8080/",
          "height": 195
        },
        "outputId": "e367ff78-75fb-4f1c-bf68-976c4aff2747"
      },
      "source": [
        "dev_df.head()"
      ],
      "execution_count": 67,
      "outputs": [
        {
          "output_type": "execute_result",
          "data": {
            "text/html": [
              "<div>\n",
              "<style scoped>\n",
              "    .dataframe tbody tr th:only-of-type {\n",
              "        vertical-align: middle;\n",
              "    }\n",
              "\n",
              "    .dataframe tbody tr th {\n",
              "        vertical-align: top;\n",
              "    }\n",
              "\n",
              "    .dataframe thead th {\n",
              "        text-align: right;\n",
              "    }\n",
              "</style>\n",
              "<table border=\"1\" class=\"dataframe\">\n",
              "  <thead>\n",
              "    <tr style=\"text-align: right;\">\n",
              "      <th></th>\n",
              "      <th>original_idx</th>\n",
              "      <th>op_id</th>\n",
              "      <th>op_gender</th>\n",
              "      <th>post_id</th>\n",
              "      <th>responder_id</th>\n",
              "      <th>response_text</th>\n",
              "      <th>op_name</th>\n",
              "      <th>op_category</th>\n",
              "    </tr>\n",
              "  </thead>\n",
              "  <tbody>\n",
              "    <tr>\n",
              "      <th>0</th>\n",
              "      <td>1965080</td>\n",
              "      <td>86681682</td>\n",
              "      <td>M</td>\n",
              "      <td>29909</td>\n",
              "      <td>James</td>\n",
              "      <td>thanks for passing this ridiculous legislation. https://www.youtube.com/watch?v=-y4wd8royre</td>\n",
              "      <td>Jim Banks</td>\n",
              "      <td>Congress_Republican</td>\n",
              "    </tr>\n",
              "    <tr>\n",
              "      <th>1</th>\n",
              "      <td>1965081</td>\n",
              "      <td>86681682</td>\n",
              "      <td>M</td>\n",
              "      <td>29909</td>\n",
              "      <td>Martha</td>\n",
              "      <td>handsome young man on the left. 😂 mom</td>\n",
              "      <td>Jim Banks</td>\n",
              "      <td>Congress_Republican</td>\n",
              "    </tr>\n",
              "    <tr>\n",
              "      <th>2</th>\n",
              "      <td>1965082</td>\n",
              "      <td>86681682</td>\n",
              "      <td>M</td>\n",
              "      <td>29911</td>\n",
              "      <td>Preston</td>\n",
              "      <td>you are sideways!</td>\n",
              "      <td>Jim Banks</td>\n",
              "      <td>Congress_Republican</td>\n",
              "    </tr>\n",
              "    <tr>\n",
              "      <th>3</th>\n",
              "      <td>1965083</td>\n",
              "      <td>86681682</td>\n",
              "      <td>M</td>\n",
              "      <td>29911</td>\n",
              "      <td>Bobby</td>\n",
              "      <td>hi congressman banks</td>\n",
              "      <td>Jim Banks</td>\n",
              "      <td>Congress_Republican</td>\n",
              "    </tr>\n",
              "    <tr>\n",
              "      <th>4</th>\n",
              "      <td>1965084</td>\n",
              "      <td>86681682</td>\n",
              "      <td>M</td>\n",
              "      <td>29911</td>\n",
              "      <td>Landon</td>\n",
              "      <td>jim, i love your office. the 5th floor is for winners.</td>\n",
              "      <td>Jim Banks</td>\n",
              "      <td>Congress_Republican</td>\n",
              "    </tr>\n",
              "  </tbody>\n",
              "</table>\n",
              "</div>"
            ],
            "text/plain": [
              "   original_idx     op_id  ...    op_name          op_category\n",
              "0       1965080  86681682  ...  Jim Banks  Congress_Republican\n",
              "1       1965081  86681682  ...  Jim Banks  Congress_Republican\n",
              "2       1965082  86681682  ...  Jim Banks  Congress_Republican\n",
              "3       1965083  86681682  ...  Jim Banks  Congress_Republican\n",
              "4       1965084  86681682  ...  Jim Banks  Congress_Republican\n",
              "\n",
              "[5 rows x 8 columns]"
            ]
          },
          "metadata": {
            "tags": []
          },
          "execution_count": 67
        }
      ]
    },
    {
      "cell_type": "code",
      "metadata": {
        "id": "Zq_4JxJ7o6Yi",
        "colab_type": "code",
        "colab": {
          "base_uri": "https://localhost:8080/",
          "height": 34
        },
        "outputId": "e6e96081-214d-46d4-cf2a-68f806db2af4"
      },
      "source": [
        "import gc\n",
        "gc.collect()"
      ],
      "execution_count": 68,
      "outputs": [
        {
          "output_type": "execute_result",
          "data": {
            "text/plain": [
              "1027"
            ]
          },
          "metadata": {
            "tags": []
          },
          "execution_count": 68
        }
      ]
    },
    {
      "cell_type": "code",
      "metadata": {
        "id": "0Rr_Uonq5sLV",
        "colab_type": "code",
        "outputId": "f55a27de-ac54-4fd0-f768-08a2e69dfe1a",
        "colab": {
          "base_uri": "https://localhost:8080/",
          "height": 34
        }
      },
      "source": [
        "len(train_df)"
      ],
      "execution_count": 45,
      "outputs": [
        {
          "output_type": "execute_result",
          "data": {
            "text/plain": [
              "8685575"
            ]
          },
          "metadata": {
            "tags": []
          },
          "execution_count": 45
        }
      ]
    },
    {
      "cell_type": "code",
      "metadata": {
        "id": "W1oM4o7wtHFd",
        "colab_type": "code",
        "outputId": "dea2123a-1d06-4bd4-d120-11daea65f124",
        "colab": {
          "base_uri": "https://localhost:8080/",
          "height": 34
        }
      },
      "source": [
        "num_responses_per_post = train_df.post_id.value_counts().reset_index()\n",
        "num_responses_per_post.columns = ['post_id', 'num_responses']\n",
        "too_big_posts = num_responses_per_post[num_responses_per_post.num_responses > 50]\n",
        "posts_to_sample = too_big_posts.post_id.values\n",
        "# this gets all the rows for posts we DON'T need to sample \n",
        "new_train_df = train_df[~train_df.post_id.isin(posts_to_sample)]\n",
        "# this should be true\n",
        "assert(len(too_big_posts) + new_train_df.post_id.nunique() == train_df.post_id.nunique())\n",
        "too_big_post_rows = train_df[train_df.post_id.isin(posts_to_sample)]\n",
        "sampled_rows = too_big_post_rows.groupby('post_id').apply(lambda x: x.sample(n=50)).reset_index(drop=True)\n",
        "new_train_df = pd.concat([new_train_df, sampled_rows])\n",
        "new_train_df.shape"
      ],
      "execution_count": 69,
      "outputs": [
        {
          "output_type": "execute_result",
          "data": {
            "text/plain": [
              "(3721104, 8)"
            ]
          },
          "metadata": {
            "tags": []
          },
          "execution_count": 69
        }
      ]
    },
    {
      "cell_type": "code",
      "metadata": {
        "id": "Zmn4i3bQpbmh",
        "colab_type": "code",
        "colab": {}
      },
      "source": [
        "# Set seeds for reproducible results.\n",
        "from numpy.random import seed\n",
        "seed(1)\n",
        "from tensorflow import set_random_seed\n",
        "set_random_seed(2)"
      ],
      "execution_count": 0,
      "outputs": []
    },
    {
      "cell_type": "code",
      "metadata": {
        "id": "MgZWntiySs0p",
        "colab_type": "code",
        "colab": {}
      },
      "source": [
        "# shuffle the data\n",
        "# be sure to do this before you extract X's and y's!!\n",
        "train_df = new_train_df.sample(frac=1)\n",
        "dev_df = dev_df.sample(frac=1)"
      ],
      "execution_count": 0,
      "outputs": []
    },
    {
      "cell_type": "code",
      "metadata": {
        "id": "1ZJxHTywg7Rq",
        "colab_type": "code",
        "outputId": "b97f4f4a-c8d0-443c-ea3a-2c75268bd241",
        "colab": {
          "base_uri": "https://localhost:8080/",
          "height": 70
        }
      },
      "source": [
        "train_df.op_gender.value_counts()"
      ],
      "execution_count": 72,
      "outputs": [
        {
          "output_type": "execute_result",
          "data": {
            "text/plain": [
              "M    2725461\n",
              "W     995643\n",
              "Name: op_gender, dtype: int64"
            ]
          },
          "metadata": {
            "tags": []
          },
          "execution_count": 72
        }
      ]
    },
    {
      "cell_type": "code",
      "metadata": {
        "id": "NV45ZdSzp0NJ",
        "colab_type": "code",
        "colab": {
          "base_uri": "https://localhost:8080/",
          "height": 70
        },
        "outputId": "f3f066c4-2cea-4901-c78d-4d2526d4b169"
      },
      "source": [
        "dev_df.op_gender.value_counts()"
      ],
      "execution_count": 73,
      "outputs": [
        {
          "output_type": "execute_result",
          "data": {
            "text/plain": [
              "M    1731288\n",
              "W     310657\n",
              "Name: op_gender, dtype: int64"
            ]
          },
          "metadata": {
            "tags": []
          },
          "execution_count": 73
        }
      ]
    },
    {
      "cell_type": "code",
      "metadata": {
        "id": "Pjb6dx8fSs0s",
        "colab_type": "code",
        "colab": {}
      },
      "source": [
        "# Set the y values.\n",
        "y_train = train_df.op_gender.values\n",
        "y_dev = dev_df.op_gender.values"
      ],
      "execution_count": 0,
      "outputs": []
    },
    {
      "cell_type": "code",
      "metadata": {
        "id": "pBCoPKh_Ss0v",
        "colab_type": "code",
        "colab": {}
      },
      "source": [
        "# Turn y values into 0 (female) and 1 (male).\n",
        "def turn_to_ints(li):\n",
        "    final_list = []\n",
        "    for gender in li:\n",
        "        if gender=='M':\n",
        "            final_list.append(1)\n",
        "        else:\n",
        "            final_list.append(0)\n",
        "    return final_list\n",
        "            \n",
        "y_train = turn_to_ints(y_train)\n",
        "y_dev = turn_to_ints(y_dev)"
      ],
      "execution_count": 0,
      "outputs": []
    },
    {
      "cell_type": "code",
      "metadata": {
        "id": "hN9GFz6xSs0y",
        "colab_type": "code",
        "colab": {}
      },
      "source": [
        "# Convert y values to numpy arrays.\n",
        "y_train = np.asarray(y_train)\n",
        "y_dev = np.asarray(y_dev)"
      ],
      "execution_count": 0,
      "outputs": []
    },
    {
      "cell_type": "code",
      "metadata": {
        "id": "ChYxh6oPSs04",
        "colab_type": "code",
        "colab": {}
      },
      "source": [
        "\n",
        "def get_text_list(init_list):\n",
        "    sentences = []\n",
        "    for sentence in init_list:\n",
        "        if type(sentence) != str:\n",
        "            sentences.append(\"\")\n",
        "        else:\n",
        "            sentences.append(sentence)\n",
        "    return sentences\n",
        "\n",
        "new_sentences_train = get_text_list(train_df.response_text.values) \n",
        "new_sentences_test = get_text_list(dev_df.response_text.values)"
      ],
      "execution_count": 0,
      "outputs": []
    },
    {
      "cell_type": "code",
      "metadata": {
        "id": "1b9SE7SjSs06",
        "colab_type": "code",
        "outputId": "440ad5de-e8bc-4e2a-e920-e7637b9e59c3",
        "colab": {
          "base_uri": "https://localhost:8080/",
          "height": 34
        }
      },
      "source": [
        "# Tokenize the sentences.\n",
        "time_start = time.time()\n",
        "\n",
        "# this is the default list of filters + apostrophe\n",
        "# added because we have dealt with common contractions, so other apostrophes should mostly be possessive \n",
        "tokenizer = Tokenizer(num_words=200000, filters='!\"\\'#$%&()*+,-./:;<=>?@[\\\\]^_`{|}~\\t\\n')\n",
        "tokenizer.fit_on_texts(new_sentences_train)\n",
        "\n",
        "X_train = tokenizer.texts_to_sequences(new_sentences_train)\n",
        "X_test = tokenizer.texts_to_sequences(new_sentences_test)\n",
        "\n",
        "vocab_size = len(tokenizer.word_index) + 1\n",
        "\n",
        "currentTime = time.gmtime(time.time() - time_start)\n",
        "\n",
        "#Convert the gmtime struct to a string\n",
        "timeStr = time.strftime(\"%M minutes, %S seconds\", currentTime)\n",
        "\n",
        "print(\"Tokenized in {}\".format(timeStr))"
      ],
      "execution_count": 78,
      "outputs": [
        {
          "output_type": "stream",
          "text": [
            "Tokenized in 03 minutes, 45 seconds\n"
          ],
          "name": "stdout"
        }
      ]
    },
    {
      "cell_type": "code",
      "metadata": {
        "id": "TyZMBAiySs0-",
        "colab_type": "code",
        "colab": {}
      },
      "source": [
        "# Pad the tokenized data so all sequences are the same length; see first cell for max length.\n",
        "# Length should be the same as in shortened response length above...\n",
        "from keras.preprocessing.sequence import pad_sequences\n",
        "\n",
        "X_train = pad_sequences(X_train, padding='post', maxlen=MAX_SEQUENCE_LENGTH)\n",
        "X_test = pad_sequences(X_test, padding='post', maxlen=MAX_SEQUENCE_LENGTH)"
      ],
      "execution_count": 0,
      "outputs": []
    },
    {
      "cell_type": "code",
      "metadata": {
        "id": "LGl1S3HySs1G",
        "colab_type": "code",
        "colab": {}
      },
      "source": [
        "if SAVE_TOKENIZED_DATA:\n",
        "  x_train_path = 'X_train_{}.pkl'.format(DATASET_NAME)\n",
        "  x_dev_path = 'X_dev_{}.pkl'.format(DATASET_NAME)\n",
        "  y_train_path = 'y_train_{}.pkl'.format(DATASET_NAME)\n",
        "  y_dev_path = 'y_dev_{}.pkl'.format(DATASET_NAME)\n",
        "\n",
        "  with open(x_train_path, 'wb') as file:\n",
        "      pickle.dump(X_train, file)   \n",
        "  with open(x_dev_path, 'wb') as file:\n",
        "      pickle.dump(X_test, file)\n",
        "  with open(y_train_path, 'wb') as file:\n",
        "      pickle.dump(y_train, file)\n",
        "  with open(y_dev_path, 'wb') as file:\n",
        "      pickle.dump(y_dev, file)\n",
        "\n",
        "  # copy to bucket\n",
        "  !gsutil cp /content/{x_train_path} gs://fb-congressional-data/test\n",
        "  !gsutil cp /content/{x_dev_path} gs://fb-congressional-data/\n",
        "  !gsutil cp /content/{y_train_path} gs://fb-congressional-data/\n",
        "  !gsutil cp /content/{y_dev_path} gs://fb-congressional-data/"
      ],
      "execution_count": 0,
      "outputs": []
    },
    {
      "cell_type": "code",
      "metadata": {
        "id": "s5AeCFGIuKIR",
        "colab_type": "code",
        "outputId": "5542eb70-1c60-4859-a903-7a80abac6a75",
        "colab": {
          "base_uri": "https://localhost:8080/",
          "height": 246
        }
      },
      "source": [
        "# Get the glove embeddings.\n",
        "!gsutil cp gs://fb-congressional-data/glove* /tmp/"
      ],
      "execution_count": 80,
      "outputs": [
        {
          "output_type": "stream",
          "text": [
            "Copying gs://fb-congressional-data/glove.6B.100d.txt...\n",
            "Copying gs://fb-congressional-data/glove.6B.200d.txt...\n",
            "Copying gs://fb-congressional-data/glove.6B.300d.txt...\n",
            "Copying gs://fb-congressional-data/glove.6B.50d.txt...\n",
            "| [4 files][  2.1 GiB/  2.1 GiB]   57.1 MiB/s                                   \n",
            "==> NOTE: You are performing a sequence of gsutil operations that may\n",
            "run significantly faster if you instead use gsutil -m cp ... Please\n",
            "see the -m section under \"gsutil help options\" for further information\n",
            "about when gsutil -m can be advantageous.\n",
            "\n",
            "Copying gs://fb-congressional-data/glove.6B.zip...\n",
            "\\\n",
            "Operation completed over 5 objects/2.9 GiB.                                      \n"
          ],
          "name": "stdout"
        }
      ]
    },
    {
      "cell_type": "code",
      "metadata": {
        "id": "ae5EQ7vbSs1L",
        "colab_type": "code",
        "colab": {}
      },
      "source": [
        "def create_embedding_matrix(filepath, word_index, embedding_dim):\n",
        "    vocab_size = len(word_index) + 1  # Adding again 1 because of reserved 0 index\n",
        "    embedding_matrix = np.zeros((vocab_size, embedding_dim))\n",
        "\n",
        "    with open(filepath) as f:\n",
        "        for line in f:\n",
        "            word, *vector = line.split()\n",
        "            if word in word_index:\n",
        "                idx = word_index[word] \n",
        "                embedding_matrix[idx] = np.array(\n",
        "                    vector, dtype=np.float32)[:embedding_dim]\n",
        "\n",
        "    return embedding_matrix\n",
        "\n",
        "embedding_dim = 100\n",
        "embedding_matrix = create_embedding_matrix(\n",
        "                     '/tmp/glove.6B.{}d.txt'.format(embedding_dim),\n",
        "                      tokenizer.word_index, embedding_dim)"
      ],
      "execution_count": 0,
      "outputs": []
    },
    {
      "cell_type": "code",
      "metadata": {
        "id": "kUTvp7yfut-7",
        "colab_type": "code",
        "colab": {}
      },
      "source": [
        "# trying to figure out which words are empty here\n",
        "# counter = 0\n",
        "# empty_indexes = []\n",
        "# for index, row in enumerate(embedding_matrix):\n",
        "#   if sum(row) == 0:\n",
        "#     empty_indexes.append(index)\n",
        "#     counter += 1\n",
        "#   if counter > 1000:\n",
        "#     break\n",
        "\n",
        "# for idx in empty_indexes:\n",
        "#   try:\n",
        "#     print(tokenizer.index_word[idx])\n",
        "#   except:\n",
        "#     print(\"No entry for {}\".format(idx))\n"
      ],
      "execution_count": 0,
      "outputs": []
    },
    {
      "cell_type": "code",
      "metadata": {
        "id": "UI5vn5zBSs1P",
        "colab_type": "code",
        "outputId": "1c652361-65d2-4eda-e4f8-a085d0353981",
        "colab": {
          "base_uri": "https://localhost:8080/",
          "height": 34
        }
      },
      "source": [
        "# hmmmm....\n",
        "# nonzero_elements = np.count_nonzero(np.count_nonzero(embedding_matrix, axis=1))\n",
        "# nonzero_elements / vocab_size"
      ],
      "execution_count": 0,
      "outputs": [
        {
          "output_type": "execute_result",
          "data": {
            "text/plain": [
              "0.15381079935942088"
            ]
          },
          "metadata": {
            "tags": []
          },
          "execution_count": 22
        }
      ]
    },
    {
      "cell_type": "code",
      "metadata": {
        "id": "EJtNke4FSs1X",
        "colab_type": "code",
        "outputId": "9d59a928-93eb-4bd0-df5f-12440a0d78e3",
        "colab": {
          "base_uri": "https://localhost:8080/",
          "height": 34
        }
      },
      "source": [
        "embedding_matrix.shape"
      ],
      "execution_count": 82,
      "outputs": [
        {
          "output_type": "execute_result",
          "data": {
            "text/plain": [
              "(397277, 100)"
            ]
          },
          "metadata": {
            "tags": []
          },
          "execution_count": 82
        }
      ]
    },
    {
      "cell_type": "code",
      "metadata": {
        "id": "tb_yr2R9Ss1d",
        "colab_type": "code",
        "outputId": "a8a85c78-7cdd-472b-d8cc-9da44f2119ed",
        "colab": {
          "base_uri": "https://localhost:8080/",
          "height": 512
        }
      },
      "source": [
        "# Initialize the model.\n",
        "model = Sequential()\n",
        "model.add(layers.Embedding(vocab_size, embedding_dim, \n",
        "                           weights=[embedding_matrix], \n",
        "                           input_length=MAX_SEQUENCE_LENGTH, \n",
        "                           trainable=False))\n",
        "model.add(layers.Conv1D(128, 5, activation='relu'))\n",
        "model.add(layers.GlobalMaxPooling1D())\n",
        "model.add(layers.Dense(10, activation='relu'))\n",
        "model.add(layers.Dense(1, activation='sigmoid'))\n",
        "model.compile(optimizer='adam',\n",
        "              loss='binary_crossentropy',\n",
        "              metrics=['accuracy'])\n",
        "model.summary()"
      ],
      "execution_count": 83,
      "outputs": [
        {
          "output_type": "stream",
          "text": [
            "WARNING:tensorflow:From /usr/local/lib/python3.6/dist-packages/tensorflow_core/python/keras/initializers.py:119: calling RandomUniform.__init__ (from tensorflow.python.ops.init_ops) with dtype is deprecated and will be removed in a future version.\n",
            "Instructions for updating:\n",
            "Call initializer instance with the dtype argument instead of passing it to the constructor\n",
            "WARNING:tensorflow:From /usr/local/lib/python3.6/dist-packages/tensorflow_core/python/ops/resource_variable_ops.py:1630: calling BaseResourceVariable.__init__ (from tensorflow.python.ops.resource_variable_ops) with constraint is deprecated and will be removed in a future version.\n",
            "Instructions for updating:\n",
            "If using Keras pass *_constraint arguments to layers.\n",
            "WARNING:tensorflow:From /usr/local/lib/python3.6/dist-packages/tensorflow_core/python/ops/nn_impl.py:183: where (from tensorflow.python.ops.array_ops) is deprecated and will be removed in a future version.\n",
            "Instructions for updating:\n",
            "Use tf.where in 2.0, which has the same broadcast rule as np.where\n",
            "Model: \"sequential\"\n",
            "_________________________________________________________________\n",
            "Layer (type)                 Output Shape              Param #   \n",
            "=================================================================\n",
            "embedding (Embedding)        (None, 20, 100)           39727700  \n",
            "_________________________________________________________________\n",
            "conv1d (Conv1D)              (None, 16, 128)           64128     \n",
            "_________________________________________________________________\n",
            "global_max_pooling1d (Global (None, 128)               0         \n",
            "_________________________________________________________________\n",
            "dense (Dense)                (None, 10)                1290      \n",
            "_________________________________________________________________\n",
            "dense_1 (Dense)              (None, 1)                 11        \n",
            "=================================================================\n",
            "Total params: 39,793,129\n",
            "Trainable params: 65,429\n",
            "Non-trainable params: 39,727,700\n",
            "_________________________________________________________________\n"
          ],
          "name": "stdout"
        }
      ]
    },
    {
      "cell_type": "code",
      "metadata": {
        "id": "U_9KWVWHAAE3",
        "colab_type": "code",
        "colab": {}
      },
      "source": [
        "smaller_X_train = X_train[:TRAINING_SET_SIZE]"
      ],
      "execution_count": 0,
      "outputs": []
    },
    {
      "cell_type": "code",
      "metadata": {
        "id": "t6gn7HvuAGgQ",
        "colab_type": "code",
        "colab": {}
      },
      "source": [
        "smaller_y_train = y_train[:TRAINING_SET_SIZE]"
      ],
      "execution_count": 0,
      "outputs": []
    },
    {
      "cell_type": "code",
      "metadata": {
        "id": "uf5R6UpGDW_y",
        "colab_type": "code",
        "colab": {}
      },
      "source": [
        "smaller_X_dev = X_test[:VAL_SET_SIZE]\n",
        "smaller_y_dev = y_dev[:VAL_SET_SIZE]"
      ],
      "execution_count": 0,
      "outputs": []
    },
    {
      "cell_type": "code",
      "metadata": {
        "id": "M4dbwlaxSs1l",
        "colab_type": "code",
        "outputId": "3ced1274-b88c-48fe-eca8-d0b35681b83a",
        "colab": {
          "base_uri": "https://localhost:8080/",
          "height": 1000
        }
      },
      "source": [
        "# Run the model.\n",
        "try:\n",
        "  time_start = time.time()\n",
        "\n",
        "  history = model.fit(X_train, y_train,\n",
        "                      epochs=NUM_EPOCHS,\n",
        "                      verbose=True,\n",
        "                      validation_data=(smaller_X_dev, smaller_y_dev),\n",
        "                      batch_size=BATCH_SIZE)\n",
        "\n",
        "  currentTime = time.gmtime(time.time() - time_start)\n",
        "\n",
        "  #Convert the gmtime struct to a string\n",
        "  timeStr = time.strftime(\"%M minutes, %S seconds\", currentTime)\n",
        "\n",
        "  print(\"Trained in {}\".format(timeStr))\n",
        "\n",
        "except:\n",
        "  currentTime = time.gmtime(time.time() - time_start)\n",
        "\n",
        "  #Convert the gmtime struct to a string\n",
        "  timeStr = time.strftime(\"%M minutes, %S seconds\", currentTime)\n",
        "\n",
        "  print(\"Trained in {}\".format(timeStr))  "
      ],
      "execution_count": 87,
      "outputs": [
        {
          "output_type": "stream",
          "text": [
            "Train on 3721104 samples, validate on 2000000 samples\n",
            "Epoch 1/30\n",
            "3721104/3721104 [==============================] - 119s 32us/sample - loss: 0.4986 - acc: 0.7746 - val_loss: 0.4242 - val_acc: 0.8470\n",
            "Epoch 2/30\n",
            "3721104/3721104 [==============================] - 121s 33us/sample - loss: 0.4788 - acc: 0.7838 - val_loss: 0.4258 - val_acc: 0.8452\n",
            "Epoch 3/30\n",
            "3721104/3721104 [==============================] - 125s 33us/sample - loss: 0.4729 - acc: 0.7864 - val_loss: 0.4338 - val_acc: 0.8440\n",
            "Epoch 4/30\n",
            "3721104/3721104 [==============================] - 123s 33us/sample - loss: 0.4693 - acc: 0.7878 - val_loss: 0.4337 - val_acc: 0.8436\n",
            "Epoch 5/30\n",
            "3721104/3721104 [==============================] - 125s 33us/sample - loss: 0.4668 - acc: 0.7890 - val_loss: 0.4383 - val_acc: 0.8397\n",
            "Epoch 6/30\n",
            "3721104/3721104 [==============================] - 120s 32us/sample - loss: 0.4648 - acc: 0.7898 - val_loss: 0.4318 - val_acc: 0.8413\n",
            "Epoch 7/30\n",
            "3721104/3721104 [==============================] - 123s 33us/sample - loss: 0.4632 - acc: 0.7904 - val_loss: 0.4440 - val_acc: 0.8377\n",
            "Epoch 8/30\n",
            "3721104/3721104 [==============================] - 120s 32us/sample - loss: 0.4619 - acc: 0.7909 - val_loss: 0.4492 - val_acc: 0.8342\n",
            "Epoch 9/30\n",
            "3721104/3721104 [==============================] - 121s 32us/sample - loss: 0.4607 - acc: 0.7913 - val_loss: 0.4453 - val_acc: 0.8347\n",
            "Epoch 10/30\n",
            "3721104/3721104 [==============================] - 121s 33us/sample - loss: 0.4597 - acc: 0.7918 - val_loss: 0.4591 - val_acc: 0.8283\n",
            "Epoch 11/30\n",
            "3721104/3721104 [==============================] - 121s 32us/sample - loss: 0.4588 - acc: 0.7921 - val_loss: 0.4322 - val_acc: 0.8408\n",
            "Epoch 12/30\n",
            "3721104/3721104 [==============================] - 124s 33us/sample - loss: 0.4580 - acc: 0.7926 - val_loss: 0.4466 - val_acc: 0.8342\n",
            "Epoch 13/30\n",
            "3721104/3721104 [==============================] - 126s 34us/sample - loss: 0.4573 - acc: 0.7928 - val_loss: 0.4432 - val_acc: 0.8346\n",
            "Epoch 14/30\n",
            "3721104/3721104 [==============================] - 126s 34us/sample - loss: 0.4566 - acc: 0.7930 - val_loss: 0.4544 - val_acc: 0.8283\n",
            "Epoch 15/30\n",
            "3721104/3721104 [==============================] - 126s 34us/sample - loss: 0.4560 - acc: 0.7932 - val_loss: 0.4442 - val_acc: 0.8346\n",
            "Epoch 16/30\n",
            "3721104/3721104 [==============================] - 124s 33us/sample - loss: 0.4554 - acc: 0.7935 - val_loss: 0.4390 - val_acc: 0.8383\n",
            "Epoch 17/30\n",
            "3721104/3721104 [==============================] - 126s 34us/sample - loss: 0.4549 - acc: 0.7938 - val_loss: 0.4348 - val_acc: 0.8404\n",
            "Epoch 18/30\n",
            "3721104/3721104 [==============================] - 124s 33us/sample - loss: 0.4545 - acc: 0.7940 - val_loss: 0.4422 - val_acc: 0.8361\n",
            "Epoch 19/30\n",
            "3721104/3721104 [==============================] - 125s 34us/sample - loss: 0.4541 - acc: 0.7942 - val_loss: 0.4539 - val_acc: 0.8290\n",
            "Epoch 20/30\n",
            "3721104/3721104 [==============================] - 126s 34us/sample - loss: 0.4536 - acc: 0.7943 - val_loss: 0.4556 - val_acc: 0.8284\n",
            "Epoch 21/30\n",
            "3721104/3721104 [==============================] - 128s 34us/sample - loss: 0.4532 - acc: 0.7945 - val_loss: 0.4406 - val_acc: 0.8376\n",
            "Epoch 22/30\n",
            "3721104/3721104 [==============================] - 128s 34us/sample - loss: 0.4529 - acc: 0.7946 - val_loss: 0.4410 - val_acc: 0.8355\n",
            "Epoch 23/30\n",
            "3721104/3721104 [==============================] - 138s 37us/sample - loss: 0.4526 - acc: 0.7948 - val_loss: 0.4418 - val_acc: 0.8354\n",
            "Epoch 24/30\n",
            "3721104/3721104 [==============================] - 129s 35us/sample - loss: 0.4522 - acc: 0.7949 - val_loss: 0.4518 - val_acc: 0.8305\n",
            "Epoch 25/30\n",
            "3721104/3721104 [==============================] - 128s 34us/sample - loss: 0.4520 - acc: 0.7950 - val_loss: 0.4474 - val_acc: 0.8329\n",
            "Epoch 26/30\n",
            "3721104/3721104 [==============================] - 126s 34us/sample - loss: 0.4517 - acc: 0.7950 - val_loss: 0.4462 - val_acc: 0.8334\n",
            "Epoch 27/30\n",
            "3721104/3721104 [==============================] - 127s 34us/sample - loss: 0.4514 - acc: 0.7953 - val_loss: 0.4399 - val_acc: 0.8373\n",
            "Epoch 28/30\n",
            "3721104/3721104 [==============================] - 127s 34us/sample - loss: 0.4511 - acc: 0.7954 - val_loss: 0.4595 - val_acc: 0.8249\n",
            "Epoch 29/30\n",
            "3721104/3721104 [==============================] - 128s 34us/sample - loss: 0.4508 - acc: 0.7955 - val_loss: 0.4406 - val_acc: 0.8374\n",
            "Epoch 30/30\n",
            "3721104/3721104 [==============================] - 125s 34us/sample - loss: 0.4506 - acc: 0.7956 - val_loss: 0.4511 - val_acc: 0.8309\n",
            "Trained in 02 minutes, 29 seconds\n"
          ],
          "name": "stdout"
        }
      ]
    },
    {
      "cell_type": "code",
      "metadata": {
        "id": "h4P5Y5wgSs1o",
        "colab_type": "code",
        "outputId": "de4f282f-bb43-4a74-a4d0-ea7489e528b4",
        "colab": {
          "base_uri": "https://localhost:8080/",
          "height": 52
        }
      },
      "source": [
        "loss, accuracy = model.evaluate(X_train, y_train, verbose=False)\n",
        "print(\"Training Accuracy: {:.4f}\".format(accuracy))\n",
        "loss, accuracy = model.evaluate(X_test, y_dev, verbose=False)\n",
        "print(\"Testing Accuracy:  {:.4f}\".format(accuracy))\n"
      ],
      "execution_count": 88,
      "outputs": [
        {
          "output_type": "stream",
          "text": [
            "Training Accuracy: 0.7972\n",
            "Testing Accuracy:  0.8309\n"
          ],
          "name": "stdout"
        }
      ]
    },
    {
      "cell_type": "code",
      "metadata": {
        "id": "zZanpp-O9oiz",
        "colab_type": "code",
        "outputId": "bf0fbeb6-ee8a-43a3-e3d7-122a305ced75",
        "colab": {
          "base_uri": "https://localhost:8080/",
          "height": 34
        }
      },
      "source": [
        "# ROC AUC\n",
        "from sklearn.metrics import roc_auc_score\n",
        "# predict probabilities for test set\n",
        "yhat_probs = model.predict(X_test, verbose=0)\n",
        "# reduce to 1d array\n",
        "yhat_probs = yhat_probs[:,0]\n",
        "auc = roc_auc_score(y_dev, yhat_probs)\n",
        "print('ROC AUC:', auc)\n"
      ],
      "execution_count": 89,
      "outputs": [
        {
          "output_type": "stream",
          "text": [
            "ROC AUC: 0.6422263363556837\n"
          ],
          "name": "stdout"
        }
      ]
    },
    {
      "cell_type": "code",
      "metadata": {
        "id": "L5G9XjaGJh-T",
        "colab_type": "code",
        "colab": {}
      },
      "source": [
        "# can't get this to work\n",
        "plot_model(history)"
      ],
      "execution_count": 0,
      "outputs": []
    },
    {
      "cell_type": "code",
      "metadata": {
        "id": "ccL7n659KbQ-",
        "colab_type": "code",
        "colab": {}
      },
      "source": [
        "preds = yhat_probs # model.predict(X_test)"
      ],
      "execution_count": 0,
      "outputs": []
    },
    {
      "cell_type": "code",
      "metadata": {
        "id": "lhpB8QsgGMZ5",
        "colab_type": "code",
        "colab": {}
      },
      "source": [
        "dev_df['probs'] = preds"
      ],
      "execution_count": 0,
      "outputs": []
    },
    {
      "cell_type": "code",
      "metadata": {
        "id": "1T2IxdCMGf2e",
        "colab_type": "code",
        "colab": {}
      },
      "source": [
        "def pred_to_label(row):\n",
        "  if row['probs'] >= .5:\n",
        "    return 'M'\n",
        "  else:\n",
        "    return 'W'\n",
        "\n",
        "dev_df['preds'] = dev_df.apply(pred_to_label, axis=1)"
      ],
      "execution_count": 0,
      "outputs": []
    },
    {
      "cell_type": "code",
      "metadata": {
        "id": "NzbasnNWGg5J",
        "colab_type": "code",
        "colab": {}
      },
      "source": [
        "wrong_preds = dev_df[dev_df.op_gender!=dev_df.preds]"
      ],
      "execution_count": 0,
      "outputs": []
    },
    {
      "cell_type": "code",
      "metadata": {
        "id": "nAYve8ZhG7wt",
        "colab_type": "code",
        "outputId": "eadaed7b-2b29-4d6a-c630-da480a6f3bd9",
        "colab": {
          "base_uri": "https://localhost:8080/",
          "height": 70
        }
      },
      "source": [
        "wrong_preds.op_gender.value_counts()"
      ],
      "execution_count": 94,
      "outputs": [
        {
          "output_type": "execute_result",
          "data": {
            "text/plain": [
              "W    265848\n",
              "M     79437\n",
              "Name: op_gender, dtype: int64"
            ]
          },
          "metadata": {
            "tags": []
          },
          "execution_count": 94
        }
      ]
    },
    {
      "cell_type": "code",
      "metadata": {
        "id": "NJJrm2LxHFzN",
        "colab_type": "code",
        "outputId": "854ac128-5d9e-4718-f0e4-ce23dd02ddcc",
        "colab": {
          "base_uri": "https://localhost:8080/",
          "height": 34
        }
      },
      "source": [
        "# total proportion of preds for women\n",
        "dev_df.preds.value_counts()['W'] / len(dev_df)"
      ],
      "execution_count": 95,
      "outputs": [
        {
          "output_type": "execute_result",
          "data": {
            "text/plain": [
              "0.06084688862824415"
            ]
          },
          "metadata": {
            "tags": []
          },
          "execution_count": 95
        }
      ]
    },
    {
      "cell_type": "code",
      "metadata": {
        "id": "SxFooJUbHVUB",
        "colab_type": "code",
        "outputId": "c6265b60-455b-492b-e5f4-dfa95f2f06cb",
        "colab": {
          "base_uri": "https://localhost:8080/",
          "height": 790
        }
      },
      "source": [
        "#random sample of mistakes\n",
        "wrong_preds.head(20)"
      ],
      "execution_count": 96,
      "outputs": [
        {
          "output_type": "execute_result",
          "data": {
            "text/html": [
              "<div>\n",
              "<style scoped>\n",
              "    .dataframe tbody tr th:only-of-type {\n",
              "        vertical-align: middle;\n",
              "    }\n",
              "\n",
              "    .dataframe tbody tr th {\n",
              "        vertical-align: top;\n",
              "    }\n",
              "\n",
              "    .dataframe thead th {\n",
              "        text-align: right;\n",
              "    }\n",
              "</style>\n",
              "<table border=\"1\" class=\"dataframe\">\n",
              "  <thead>\n",
              "    <tr style=\"text-align: right;\">\n",
              "      <th></th>\n",
              "      <th>original_idx</th>\n",
              "      <th>op_id</th>\n",
              "      <th>op_gender</th>\n",
              "      <th>post_id</th>\n",
              "      <th>responder_id</th>\n",
              "      <th>response_text</th>\n",
              "      <th>op_name</th>\n",
              "      <th>op_category</th>\n",
              "      <th>probs</th>\n",
              "      <th>preds</th>\n",
              "    </tr>\n",
              "  </thead>\n",
              "  <tbody>\n",
              "    <tr>\n",
              "      <th>1882270</th>\n",
              "      <td>10915198</td>\n",
              "      <td>10458808</td>\n",
              "      <td>M</td>\n",
              "      <td>385893</td>\n",
              "      <td>Nvfl</td>\n",
              "      <td>natural vegetables &amp; fruits storage pvt. ltd. is engaged in vegetables &amp; fruits storage pvt.ltd....</td>\n",
              "      <td>Mark Takano</td>\n",
              "      <td>Congress_Democratic</td>\n",
              "      <td>0.238675</td>\n",
              "      <td>W</td>\n",
              "    </tr>\n",
              "    <tr>\n",
              "      <th>1721675</th>\n",
              "      <td>10227279</td>\n",
              "      <td>32185537</td>\n",
              "      <td>M</td>\n",
              "      <td>377134</td>\n",
              "      <td>Margaret</td>\n",
              "      <td>nancy pelosi will never give up her jet.</td>\n",
              "      <td>Paul Gosar</td>\n",
              "      <td>Congress_Republican</td>\n",
              "      <td>0.475433</td>\n",
              "      <td>W</td>\n",
              "    </tr>\n",
              "    <tr>\n",
              "      <th>2163125</th>\n",
              "      <td>11304105</td>\n",
              "      <td>77234050</td>\n",
              "      <td>W</td>\n",
              "      <td>400925</td>\n",
              "      <td>Linda</td>\n",
              "      <td>\"getting gov't out of the way so business can make profit\"??.......like that has worked so well ...</td>\n",
              "      <td>Cathy McMorris Rodgers</td>\n",
              "      <td>Congress_Republican</td>\n",
              "      <td>0.703766</td>\n",
              "      <td>M</td>\n",
              "    </tr>\n",
              "    <tr>\n",
              "      <th>1840917</th>\n",
              "      <td>10873845</td>\n",
              "      <td>77721801</td>\n",
              "      <td>W</td>\n",
              "      <td>384959</td>\n",
              "      <td>Steve</td>\n",
              "      <td>thank you! hang in there!!!</td>\n",
              "      <td>Anna Eshoo</td>\n",
              "      <td>Congress_Democratic</td>\n",
              "      <td>0.750185</td>\n",
              "      <td>M</td>\n",
              "    </tr>\n",
              "    <tr>\n",
              "      <th>1955514</th>\n",
              "      <td>11004906</td>\n",
              "      <td>86569077</td>\n",
              "      <td>W</td>\n",
              "      <td>389590</td>\n",
              "      <td>Steven</td>\n",
              "      <td>liberal lynch mobs. they are everywhere!</td>\n",
              "      <td>Kirsten Gillibrand</td>\n",
              "      <td>Congress_Democratic</td>\n",
              "      <td>0.761195</td>\n",
              "      <td>M</td>\n",
              "    </tr>\n",
              "    <tr>\n",
              "      <th>1989428</th>\n",
              "      <td>11038820</td>\n",
              "      <td>86569077</td>\n",
              "      <td>W</td>\n",
              "      <td>389932</td>\n",
              "      <td>Rob</td>\n",
              "      <td>is this not a state issue?</td>\n",
              "      <td>Kirsten Gillibrand</td>\n",
              "      <td>Congress_Democratic</td>\n",
              "      <td>0.729927</td>\n",
              "      <td>M</td>\n",
              "    </tr>\n",
              "    <tr>\n",
              "      <th>1990841</th>\n",
              "      <td>11040233</td>\n",
              "      <td>86569077</td>\n",
              "      <td>W</td>\n",
              "      <td>389948</td>\n",
              "      <td>James</td>\n",
              "      <td>how many of those were seized under stop and frisk? the streets are orderly and clean, but at wh...</td>\n",
              "      <td>Kirsten Gillibrand</td>\n",
              "      <td>Congress_Democratic</td>\n",
              "      <td>0.840429</td>\n",
              "      <td>M</td>\n",
              "    </tr>\n",
              "    <tr>\n",
              "      <th>392010</th>\n",
              "      <td>3142101</td>\n",
              "      <td>23984618</td>\n",
              "      <td>W</td>\n",
              "      <td>83655</td>\n",
              "      <td>Eric</td>\n",
              "      <td>a nice gesture, but the aha needs to be repealed. going to continue to be an anchor on the economy.</td>\n",
              "      <td>Ann Wagner</td>\n",
              "      <td>Congress_Republican</td>\n",
              "      <td>0.753048</td>\n",
              "      <td>M</td>\n",
              "    </tr>\n",
              "    <tr>\n",
              "      <th>379921</th>\n",
              "      <td>3130012</td>\n",
              "      <td>23984618</td>\n",
              "      <td>W</td>\n",
              "      <td>83220</td>\n",
              "      <td>Sue</td>\n",
              "      <td>people act so shocked at pp... really??? this has been and complaining does nothing, getting on ...</td>\n",
              "      <td>Ann Wagner</td>\n",
              "      <td>Congress_Republican</td>\n",
              "      <td>0.635268</td>\n",
              "      <td>M</td>\n",
              "    </tr>\n",
              "    <tr>\n",
              "      <th>2123686</th>\n",
              "      <td>11264666</td>\n",
              "      <td>77234050</td>\n",
              "      <td>W</td>\n",
              "      <td>399732</td>\n",
              "      <td>Amy</td>\n",
              "      <td>as an american &amp; given his track record...i would not president to do the right thing for americ...</td>\n",
              "      <td>Cathy McMorris Rodgers</td>\n",
              "      <td>Congress_Republican</td>\n",
              "      <td>0.800028</td>\n",
              "      <td>M</td>\n",
              "    </tr>\n",
              "    <tr>\n",
              "      <th>401442</th>\n",
              "      <td>3151533</td>\n",
              "      <td>23984618</td>\n",
              "      <td>W</td>\n",
              "      <td>83941</td>\n",
              "      <td>Jane</td>\n",
              "      <td>i love these politicians who live in an ivory tower....</td>\n",
              "      <td>Ann Wagner</td>\n",
              "      <td>Congress_Republican</td>\n",
              "      <td>0.809797</td>\n",
              "      <td>M</td>\n",
              "    </tr>\n",
              "    <tr>\n",
              "      <th>372234</th>\n",
              "      <td>2652530</td>\n",
              "      <td>13876473</td>\n",
              "      <td>W</td>\n",
              "      <td>69802</td>\n",
              "      <td>Shane</td>\n",
              "      <td>i am very concerned that the moran amendment might be article explaining how this happened two y...</td>\n",
              "      <td>Carolyn Maloney</td>\n",
              "      <td>Congress_Democratic</td>\n",
              "      <td>0.845230</td>\n",
              "      <td>M</td>\n",
              "    </tr>\n",
              "    <tr>\n",
              "      <th>122246</th>\n",
              "      <td>2278104</td>\n",
              "      <td>89989833</td>\n",
              "      <td>M</td>\n",
              "      <td>48241</td>\n",
              "      <td>Gwen</td>\n",
              "      <td>rip sweet girl. our hero!!</td>\n",
              "      <td>Ted Poe</td>\n",
              "      <td>Congress_Republican</td>\n",
              "      <td>0.485284</td>\n",
              "      <td>W</td>\n",
              "    </tr>\n",
              "    <tr>\n",
              "      <th>605112</th>\n",
              "      <td>4854166</td>\n",
              "      <td>46506154</td>\n",
              "      <td>M</td>\n",
              "      <td>160194</td>\n",
              "      <td>Roy</td>\n",
              "      <td>good luck marco! in ohio voting for the governor. hope you have a win!</td>\n",
              "      <td>Marco Rubio</td>\n",
              "      <td>Congress_Republican</td>\n",
              "      <td>0.038243</td>\n",
              "      <td>W</td>\n",
              "    </tr>\n",
              "    <tr>\n",
              "      <th>53589</th>\n",
              "      <td>2171504</td>\n",
              "      <td>38794897</td>\n",
              "      <td>M</td>\n",
              "      <td>36865</td>\n",
              "      <td>David</td>\n",
              "      <td>tell us about saving the auto industry!!! like honda, ford, only saved a poorly managed gm, not ...</td>\n",
              "      <td>Sherrod Brown</td>\n",
              "      <td>Congress_Democratic</td>\n",
              "      <td>0.471789</td>\n",
              "      <td>W</td>\n",
              "    </tr>\n",
              "    <tr>\n",
              "      <th>399290</th>\n",
              "      <td>3149381</td>\n",
              "      <td>23984618</td>\n",
              "      <td>W</td>\n",
              "      <td>83768</td>\n",
              "      <td>Carolyn</td>\n",
              "      <td>give obamacare a chance!</td>\n",
              "      <td>Ann Wagner</td>\n",
              "      <td>Congress_Republican</td>\n",
              "      <td>0.791529</td>\n",
              "      <td>M</td>\n",
              "    </tr>\n",
              "    <tr>\n",
              "      <th>1113414</th>\n",
              "      <td>5362468</td>\n",
              "      <td>46506154</td>\n",
              "      <td>M</td>\n",
              "      <td>161844</td>\n",
              "      <td>Carrie</td>\n",
              "      <td>vote for marco!!!!!!!!!! do not let crist win!!!</td>\n",
              "      <td>Marco Rubio</td>\n",
              "      <td>Congress_Republican</td>\n",
              "      <td>0.433334</td>\n",
              "      <td>W</td>\n",
              "    </tr>\n",
              "    <tr>\n",
              "      <th>207146</th>\n",
              "      <td>2383898</td>\n",
              "      <td>62246450</td>\n",
              "      <td>M</td>\n",
              "      <td>52698</td>\n",
              "      <td>Joseph</td>\n",
              "      <td>i really like woman. really like them. now i want who are you to judge me or the kids, correct.</td>\n",
              "      <td>Ron Wyden</td>\n",
              "      <td>Congress_Democratic</td>\n",
              "      <td>0.341806</td>\n",
              "      <td>W</td>\n",
              "    </tr>\n",
              "    <tr>\n",
              "      <th>795583</th>\n",
              "      <td>5044637</td>\n",
              "      <td>46506154</td>\n",
              "      <td>M</td>\n",
              "      <td>160638</td>\n",
              "      <td>Daisy</td>\n",
              "      <td>well done marco !</td>\n",
              "      <td>Marco Rubio</td>\n",
              "      <td>Congress_Republican</td>\n",
              "      <td>0.382754</td>\n",
              "      <td>W</td>\n",
              "    </tr>\n",
              "    <tr>\n",
              "      <th>1958027</th>\n",
              "      <td>11007419</td>\n",
              "      <td>86569077</td>\n",
              "      <td>W</td>\n",
              "      <td>389621</td>\n",
              "      <td>Edward</td>\n",
              "      <td>you ask what she ever did for her country? \" not wear dresses\"</td>\n",
              "      <td>Kirsten Gillibrand</td>\n",
              "      <td>Congress_Democratic</td>\n",
              "      <td>0.708599</td>\n",
              "      <td>M</td>\n",
              "    </tr>\n",
              "  </tbody>\n",
              "</table>\n",
              "</div>"
            ],
            "text/plain": [
              "         original_idx     op_id op_gender  ...          op_category     probs preds\n",
              "1882270      10915198  10458808         M  ...  Congress_Democratic  0.238675     W\n",
              "1721675      10227279  32185537         M  ...  Congress_Republican  0.475433     W\n",
              "2163125      11304105  77234050         W  ...  Congress_Republican  0.703766     M\n",
              "1840917      10873845  77721801         W  ...  Congress_Democratic  0.750185     M\n",
              "1955514      11004906  86569077         W  ...  Congress_Democratic  0.761195     M\n",
              "1989428      11038820  86569077         W  ...  Congress_Democratic  0.729927     M\n",
              "1990841      11040233  86569077         W  ...  Congress_Democratic  0.840429     M\n",
              "392010        3142101  23984618         W  ...  Congress_Republican  0.753048     M\n",
              "379921        3130012  23984618         W  ...  Congress_Republican  0.635268     M\n",
              "2123686      11264666  77234050         W  ...  Congress_Republican  0.800028     M\n",
              "401442        3151533  23984618         W  ...  Congress_Republican  0.809797     M\n",
              "372234        2652530  13876473         W  ...  Congress_Democratic  0.845230     M\n",
              "122246        2278104  89989833         M  ...  Congress_Republican  0.485284     W\n",
              "605112        4854166  46506154         M  ...  Congress_Republican  0.038243     W\n",
              "53589         2171504  38794897         M  ...  Congress_Democratic  0.471789     W\n",
              "399290        3149381  23984618         W  ...  Congress_Republican  0.791529     M\n",
              "1113414       5362468  46506154         M  ...  Congress_Republican  0.433334     W\n",
              "207146        2383898  62246450         M  ...  Congress_Democratic  0.341806     W\n",
              "795583        5044637  46506154         M  ...  Congress_Republican  0.382754     W\n",
              "1958027      11007419  86569077         W  ...  Congress_Democratic  0.708599     M\n",
              "\n",
              "[20 rows x 10 columns]"
            ]
          },
          "metadata": {
            "tags": []
          },
          "execution_count": 96
        }
      ]
    },
    {
      "cell_type": "code",
      "metadata": {
        "id": "qaswseIjHc8j",
        "colab_type": "code",
        "outputId": "12e19e71-da56-485e-dd79-515777fc757d",
        "colab": {
          "base_uri": "https://localhost:8080/",
          "height": 925
        }
      },
      "source": [
        "# most confident wrong predictions where the answer was F but they thought M\n",
        "# same as before - references to a male politician \n",
        "wrong_preds.sort_values('probs', ascending=False)[:20]"
      ],
      "execution_count": 97,
      "outputs": [
        {
          "output_type": "execute_result",
          "data": {
            "text/html": [
              "<div>\n",
              "<style scoped>\n",
              "    .dataframe tbody tr th:only-of-type {\n",
              "        vertical-align: middle;\n",
              "    }\n",
              "\n",
              "    .dataframe tbody tr th {\n",
              "        vertical-align: top;\n",
              "    }\n",
              "\n",
              "    .dataframe thead th {\n",
              "        text-align: right;\n",
              "    }\n",
              "</style>\n",
              "<table border=\"1\" class=\"dataframe\">\n",
              "  <thead>\n",
              "    <tr style=\"text-align: right;\">\n",
              "      <th></th>\n",
              "      <th>original_idx</th>\n",
              "      <th>op_id</th>\n",
              "      <th>op_gender</th>\n",
              "      <th>post_id</th>\n",
              "      <th>responder_id</th>\n",
              "      <th>response_text</th>\n",
              "      <th>op_name</th>\n",
              "      <th>op_category</th>\n",
              "      <th>probs</th>\n",
              "      <th>preds</th>\n",
              "    </tr>\n",
              "  </thead>\n",
              "  <tbody>\n",
              "    <tr>\n",
              "      <th>1993131</th>\n",
              "      <td>11042523</td>\n",
              "      <td>86569077</td>\n",
              "      <td>W</td>\n",
              "      <td>389977</td>\n",
              "      <td>Colleen</td>\n",
              "      <td>you mean mr paul mark? rand opportunist paul?</td>\n",
              "      <td>Kirsten Gillibrand</td>\n",
              "      <td>Congress_Democratic</td>\n",
              "      <td>0.999985</td>\n",
              "      <td>M</td>\n",
              "    </tr>\n",
              "    <tr>\n",
              "      <th>2192307</th>\n",
              "      <td>11753284</td>\n",
              "      <td>74450840</td>\n",
              "      <td>W</td>\n",
              "      <td>422932</td>\n",
              "      <td>Lim</td>\n",
              "      <td>dear representative sewell, please help pass house resolution 752, end the voice of voiceless by...</td>\n",
              "      <td>Terri Sewell</td>\n",
              "      <td>Congress_Democratic</td>\n",
              "      <td>0.999944</td>\n",
              "      <td>M</td>\n",
              "    </tr>\n",
              "    <tr>\n",
              "      <th>2060145</th>\n",
              "      <td>11199899</td>\n",
              "      <td>48870736</td>\n",
              "      <td>W</td>\n",
              "      <td>394371</td>\n",
              "      <td>Barbara</td>\n",
              "      <td>thank. you, rep. mccollum. it is a privilege to have working, conscientious rep. thanks for your...</td>\n",
              "      <td>Betty McCollum</td>\n",
              "      <td>Congress_Democratic</td>\n",
              "      <td>0.999940</td>\n",
              "      <td>M</td>\n",
              "    </tr>\n",
              "    <tr>\n",
              "      <th>2013561</th>\n",
              "      <td>11062953</td>\n",
              "      <td>86569077</td>\n",
              "      <td>W</td>\n",
              "      <td>390130</td>\n",
              "      <td>Peter</td>\n",
              "      <td>mickey the rand bill is window dressing and does nothing. government has run amuck and is out of...</td>\n",
              "      <td>Kirsten Gillibrand</td>\n",
              "      <td>Congress_Democratic</td>\n",
              "      <td>0.999917</td>\n",
              "      <td>M</td>\n",
              "    </tr>\n",
              "    <tr>\n",
              "      <th>1956025</th>\n",
              "      <td>11005417</td>\n",
              "      <td>86569077</td>\n",
              "      <td>W</td>\n",
              "      <td>389599</td>\n",
              "      <td>Edward</td>\n",
              "      <td>thank you brian for posting sen gillibrand's bill that will eliminate hatred &amp; make family possi...</td>\n",
              "      <td>Kirsten Gillibrand</td>\n",
              "      <td>Congress_Democratic</td>\n",
              "      <td>0.999908</td>\n",
              "      <td>M</td>\n",
              "    </tr>\n",
              "    <tr>\n",
              "      <th>2103912</th>\n",
              "      <td>11244892</td>\n",
              "      <td>77234050</td>\n",
              "      <td>W</td>\n",
              "      <td>399380</td>\n",
              "      <td>Mark</td>\n",
              "      <td>let us listen to what louie gohmert has to say about the vote for speaker... http://youtu.be/wkj...</td>\n",
              "      <td>Cathy McMorris Rodgers</td>\n",
              "      <td>Congress_Republican</td>\n",
              "      <td>0.999904</td>\n",
              "      <td>M</td>\n",
              "    </tr>\n",
              "    <tr>\n",
              "      <th>2007177</th>\n",
              "      <td>11056569</td>\n",
              "      <td>86569077</td>\n",
              "      <td>W</td>\n",
              "      <td>390102</td>\n",
              "      <td>Matt</td>\n",
              "      <td>im not siding w inhofe (whatever his name is), just wondering where are my fellow anti war prote...</td>\n",
              "      <td>Kirsten Gillibrand</td>\n",
              "      <td>Congress_Democratic</td>\n",
              "      <td>0.999881</td>\n",
              "      <td>M</td>\n",
              "    </tr>\n",
              "    <tr>\n",
              "      <th>1996129</th>\n",
              "      <td>11045521</td>\n",
              "      <td>86569077</td>\n",
              "      <td>W</td>\n",
              "      <td>390010</td>\n",
              "      <td>Betsy</td>\n",
              "      <td>senator schumer: I am a ny voter and #imarch because reform to fuel innovation and job growth, a...</td>\n",
              "      <td>Kirsten Gillibrand</td>\n",
              "      <td>Congress_Democratic</td>\n",
              "      <td>0.999855</td>\n",
              "      <td>M</td>\n",
              "    </tr>\n",
              "    <tr>\n",
              "      <th>2134840</th>\n",
              "      <td>11275820</td>\n",
              "      <td>77234050</td>\n",
              "      <td>W</td>\n",
              "      <td>399849</td>\n",
              "      <td>Michele</td>\n",
              "      <td>congressman mcmorris: what are you going to do about this? we elected you to help represent us n...</td>\n",
              "      <td>Cathy McMorris Rodgers</td>\n",
              "      <td>Congress_Republican</td>\n",
              "      <td>0.999838</td>\n",
              "      <td>M</td>\n",
              "    </tr>\n",
              "    <tr>\n",
              "      <th>2001015</th>\n",
              "      <td>11050407</td>\n",
              "      <td>86569077</td>\n",
              "      <td>W</td>\n",
              "      <td>390043</td>\n",
              "      <td>Cheryl</td>\n",
              "      <td>here is the list of senators threatening to filibuster: rand you are against their stand, email,...</td>\n",
              "      <td>Kirsten Gillibrand</td>\n",
              "      <td>Congress_Democratic</td>\n",
              "      <td>0.999826</td>\n",
              "      <td>M</td>\n",
              "    </tr>\n",
              "    <tr>\n",
              "      <th>1921218</th>\n",
              "      <td>10970610</td>\n",
              "      <td>86569077</td>\n",
              "      <td>W</td>\n",
              "      <td>389341</td>\n",
              "      <td>Chris</td>\n",
              "      <td>get senator schumer to join you! we are watching him rubber stamping other unqualified candidate...</td>\n",
              "      <td>Kirsten Gillibrand</td>\n",
              "      <td>Congress_Democratic</td>\n",
              "      <td>0.999783</td>\n",
              "      <td>M</td>\n",
              "    </tr>\n",
              "    <tr>\n",
              "      <th>2061920</th>\n",
              "      <td>11201674</td>\n",
              "      <td>48870736</td>\n",
              "      <td>W</td>\n",
              "      <td>394490</td>\n",
              "      <td>Kimberly</td>\n",
              "      <td>thank you congress mccollum- keep up the god fight!</td>\n",
              "      <td>Betty McCollum</td>\n",
              "      <td>Congress_Democratic</td>\n",
              "      <td>0.999779</td>\n",
              "      <td>M</td>\n",
              "    </tr>\n",
              "    <tr>\n",
              "      <th>2112300</th>\n",
              "      <td>11253280</td>\n",
              "      <td>77234050</td>\n",
              "      <td>W</td>\n",
              "      <td>399599</td>\n",
              "      <td>Alan</td>\n",
              "      <td>rep. mcmorris rogers: here is a \"talking point you might those campaign statements were based on...</td>\n",
              "      <td>Cathy McMorris Rodgers</td>\n",
              "      <td>Congress_Republican</td>\n",
              "      <td>0.999774</td>\n",
              "      <td>M</td>\n",
              "    </tr>\n",
              "    <tr>\n",
              "      <th>395434</th>\n",
              "      <td>3145525</td>\n",
              "      <td>23984618</td>\n",
              "      <td>W</td>\n",
              "      <td>83707</td>\n",
              "      <td>Sean</td>\n",
              "      <td>chris van hollen actually held up the registered resolution he boehner. showing up for photo-op ...</td>\n",
              "      <td>Ann Wagner</td>\n",
              "      <td>Congress_Republican</td>\n",
              "      <td>0.999770</td>\n",
              "      <td>M</td>\n",
              "    </tr>\n",
              "    <tr>\n",
              "      <th>2065706</th>\n",
              "      <td>11205460</td>\n",
              "      <td>48870736</td>\n",
              "      <td>W</td>\n",
              "      <td>394998</td>\n",
              "      <td>Maggie</td>\n",
              "      <td>thank you sen. mccollum. it has not always easy standing you are doing the right things for the ...</td>\n",
              "      <td>Betty McCollum</td>\n",
              "      <td>Congress_Democratic</td>\n",
              "      <td>0.999769</td>\n",
              "      <td>M</td>\n",
              "    </tr>\n",
              "    <tr>\n",
              "      <th>1997594</th>\n",
              "      <td>11046986</td>\n",
              "      <td>86569077</td>\n",
              "      <td>W</td>\n",
              "      <td>390027</td>\n",
              "      <td>Ron</td>\n",
              "      <td>congratulations to congressman mark sanford</td>\n",
              "      <td>Kirsten Gillibrand</td>\n",
              "      <td>Congress_Democratic</td>\n",
              "      <td>0.999767</td>\n",
              "      <td>M</td>\n",
              "    </tr>\n",
              "    <tr>\n",
              "      <th>2029336</th>\n",
              "      <td>11078728</td>\n",
              "      <td>86569077</td>\n",
              "      <td>W</td>\n",
              "      <td>390336</td>\n",
              "      <td>Mitchell</td>\n",
              "      <td>kill it! you, schumer, even al franken have forever tainted for president if you had run, this t...</td>\n",
              "      <td>Kirsten Gillibrand</td>\n",
              "      <td>Congress_Democratic</td>\n",
              "      <td>0.999759</td>\n",
              "      <td>M</td>\n",
              "    </tr>\n",
              "    <tr>\n",
              "      <th>2055016</th>\n",
              "      <td>11104408</td>\n",
              "      <td>86569077</td>\n",
              "      <td>W</td>\n",
              "      <td>390815</td>\n",
              "      <td>Hanford</td>\n",
              "      <td>... we in the bflo./niagara lgbt community thank-you sen. gillibrand for supporting-our-causes!!!</td>\n",
              "      <td>Kirsten Gillibrand</td>\n",
              "      <td>Congress_Democratic</td>\n",
              "      <td>0.999744</td>\n",
              "      <td>M</td>\n",
              "    </tr>\n",
              "    <tr>\n",
              "      <th>1945550</th>\n",
              "      <td>10994942</td>\n",
              "      <td>86569077</td>\n",
              "      <td>W</td>\n",
              "      <td>389489</td>\n",
              "      <td>Nancy</td>\n",
              "      <td>jon stewart, i salute you, sir; you have been the thank you, senator gillibrand, for your hard w...</td>\n",
              "      <td>Kirsten Gillibrand</td>\n",
              "      <td>Congress_Democratic</td>\n",
              "      <td>0.999739</td>\n",
              "      <td>M</td>\n",
              "    </tr>\n",
              "    <tr>\n",
              "      <th>2152779</th>\n",
              "      <td>11293759</td>\n",
              "      <td>77234050</td>\n",
              "      <td>W</td>\n",
              "      <td>400373</td>\n",
              "      <td>Gheorghe</td>\n",
              "      <td>ed, thank you. parke, thank you for the thoughtful words are cool too. g. (a bit more refreshing...</td>\n",
              "      <td>Cathy McMorris Rodgers</td>\n",
              "      <td>Congress_Republican</td>\n",
              "      <td>0.999725</td>\n",
              "      <td>M</td>\n",
              "    </tr>\n",
              "  </tbody>\n",
              "</table>\n",
              "</div>"
            ],
            "text/plain": [
              "         original_idx     op_id op_gender  ...          op_category     probs preds\n",
              "1993131      11042523  86569077         W  ...  Congress_Democratic  0.999985     M\n",
              "2192307      11753284  74450840         W  ...  Congress_Democratic  0.999944     M\n",
              "2060145      11199899  48870736         W  ...  Congress_Democratic  0.999940     M\n",
              "2013561      11062953  86569077         W  ...  Congress_Democratic  0.999917     M\n",
              "1956025      11005417  86569077         W  ...  Congress_Democratic  0.999908     M\n",
              "2103912      11244892  77234050         W  ...  Congress_Republican  0.999904     M\n",
              "2007177      11056569  86569077         W  ...  Congress_Democratic  0.999881     M\n",
              "1996129      11045521  86569077         W  ...  Congress_Democratic  0.999855     M\n",
              "2134840      11275820  77234050         W  ...  Congress_Republican  0.999838     M\n",
              "2001015      11050407  86569077         W  ...  Congress_Democratic  0.999826     M\n",
              "1921218      10970610  86569077         W  ...  Congress_Democratic  0.999783     M\n",
              "2061920      11201674  48870736         W  ...  Congress_Democratic  0.999779     M\n",
              "2112300      11253280  77234050         W  ...  Congress_Republican  0.999774     M\n",
              "395434        3145525  23984618         W  ...  Congress_Republican  0.999770     M\n",
              "2065706      11205460  48870736         W  ...  Congress_Democratic  0.999769     M\n",
              "1997594      11046986  86569077         W  ...  Congress_Democratic  0.999767     M\n",
              "2029336      11078728  86569077         W  ...  Congress_Democratic  0.999759     M\n",
              "2055016      11104408  86569077         W  ...  Congress_Democratic  0.999744     M\n",
              "1945550      10994942  86569077         W  ...  Congress_Democratic  0.999739     M\n",
              "2152779      11293759  77234050         W  ...  Congress_Republican  0.999725     M\n",
              "\n",
              "[20 rows x 10 columns]"
            ]
          },
          "metadata": {
            "tags": []
          },
          "execution_count": 97
        }
      ]
    },
    {
      "cell_type": "code",
      "metadata": {
        "id": "KoJzrEOfIct2",
        "colab_type": "code",
        "outputId": "bd077ae1-7c1d-4c26-bdc9-314b247714f6",
        "colab": {
          "base_uri": "https://localhost:8080/",
          "height": 908
        }
      },
      "source": [
        "# most confident wrong predictions where the answer was F but they thought M\n",
        "# same as before - references to a male politician \n",
        "wrong_preds.sort_values('probs', ascending=True)[:20]"
      ],
      "execution_count": 98,
      "outputs": [
        {
          "output_type": "execute_result",
          "data": {
            "text/html": [
              "<div>\n",
              "<style scoped>\n",
              "    .dataframe tbody tr th:only-of-type {\n",
              "        vertical-align: middle;\n",
              "    }\n",
              "\n",
              "    .dataframe tbody tr th {\n",
              "        vertical-align: top;\n",
              "    }\n",
              "\n",
              "    .dataframe thead th {\n",
              "        text-align: right;\n",
              "    }\n",
              "</style>\n",
              "<table border=\"1\" class=\"dataframe\">\n",
              "  <thead>\n",
              "    <tr style=\"text-align: right;\">\n",
              "      <th></th>\n",
              "      <th>original_idx</th>\n",
              "      <th>op_id</th>\n",
              "      <th>op_gender</th>\n",
              "      <th>post_id</th>\n",
              "      <th>responder_id</th>\n",
              "      <th>response_text</th>\n",
              "      <th>op_name</th>\n",
              "      <th>op_category</th>\n",
              "      <th>probs</th>\n",
              "      <th>preds</th>\n",
              "    </tr>\n",
              "  </thead>\n",
              "  <tbody>\n",
              "    <tr>\n",
              "      <th>1640623</th>\n",
              "      <td>10121482</td>\n",
              "      <td>51495713</td>\n",
              "      <td>M</td>\n",
              "      <td>370304</td>\n",
              "      <td>Cynthia</td>\n",
              "      <td>funny..patty murray...we have extensive background checks in washington state. stop embarrassing...</td>\n",
              "      <td>Richard Shelby</td>\n",
              "      <td>Congress_Republican</td>\n",
              "      <td>0.000019</td>\n",
              "      <td>W</td>\n",
              "    </tr>\n",
              "    <tr>\n",
              "      <th>1132701</th>\n",
              "      <td>5381755</td>\n",
              "      <td>46506154</td>\n",
              "      <td>M</td>\n",
              "      <td>162152</td>\n",
              "      <td>Laura</td>\n",
              "      <td>congressional candidate frank guinta did this in nh!</td>\n",
              "      <td>Marco Rubio</td>\n",
              "      <td>Congress_Republican</td>\n",
              "      <td>0.000025</td>\n",
              "      <td>W</td>\n",
              "    </tr>\n",
              "    <tr>\n",
              "      <th>70362</th>\n",
              "      <td>2188277</td>\n",
              "      <td>38794897</td>\n",
              "      <td>M</td>\n",
              "      <td>37613</td>\n",
              "      <td>Vic</td>\n",
              "      <td>thank you congresswoman marcy kaptur. http://www.youtube.com/watch?v=njs4uo8f2r8&amp;feature=youtu.be</td>\n",
              "      <td>Sherrod Brown</td>\n",
              "      <td>Congress_Democratic</td>\n",
              "      <td>0.000037</td>\n",
              "      <td>W</td>\n",
              "    </tr>\n",
              "    <tr>\n",
              "      <th>1816966</th>\n",
              "      <td>10340103</td>\n",
              "      <td>32570461</td>\n",
              "      <td>M</td>\n",
              "      <td>382759</td>\n",
              "      <td>William</td>\n",
              "      <td>to 7.3% so i think amy you need to pull state and gave kaine a balanced budget which he destroyed.</td>\n",
              "      <td>Tim Kaine</td>\n",
              "      <td>Congress_Democratic</td>\n",
              "      <td>0.000046</td>\n",
              "      <td>W</td>\n",
              "    </tr>\n",
              "    <tr>\n",
              "      <th>1861625</th>\n",
              "      <td>10894553</td>\n",
              "      <td>10458808</td>\n",
              "      <td>M</td>\n",
              "      <td>385773</td>\n",
              "      <td>Kyle</td>\n",
              "      <td>rep. debbie dingell</td>\n",
              "      <td>Mark Takano</td>\n",
              "      <td>Congress_Democratic</td>\n",
              "      <td>0.000048</td>\n",
              "      <td>W</td>\n",
              "    </tr>\n",
              "    <tr>\n",
              "      <th>1887369</th>\n",
              "      <td>10920297</td>\n",
              "      <td>10458808</td>\n",
              "      <td>M</td>\n",
              "      <td>386070</td>\n",
              "      <td>Stephen</td>\n",
              "      <td>yes yes yes. kamala. you have always been there for us!!! fantastic!</td>\n",
              "      <td>Mark Takano</td>\n",
              "      <td>Congress_Democratic</td>\n",
              "      <td>0.000053</td>\n",
              "      <td>W</td>\n",
              "    </tr>\n",
              "    <tr>\n",
              "      <th>7861</th>\n",
              "      <td>2125776</td>\n",
              "      <td>38794897</td>\n",
              "      <td>M</td>\n",
              "      <td>36283</td>\n",
              "      <td>Chuck</td>\n",
              "      <td>here's something that makes me sad: maggie hassan always says &amp; maggie &amp; other progressive leade...</td>\n",
              "      <td>Sherrod Brown</td>\n",
              "      <td>Congress_Democratic</td>\n",
              "      <td>0.000054</td>\n",
              "      <td>W</td>\n",
              "    </tr>\n",
              "    <tr>\n",
              "      <th>1832684</th>\n",
              "      <td>10355821</td>\n",
              "      <td>55333293</td>\n",
              "      <td>M</td>\n",
              "      <td>383482</td>\n",
              "      <td>Glen</td>\n",
              "      <td>i would very much like to see my congresswoman suzanne tpp. it is a bad deal for american worker...</td>\n",
              "      <td>Peter DeFazio</td>\n",
              "      <td>Congress_Democratic</td>\n",
              "      <td>0.000055</td>\n",
              "      <td>W</td>\n",
              "    </tr>\n",
              "    <tr>\n",
              "      <th>1165810</th>\n",
              "      <td>6611994</td>\n",
              "      <td>48816171</td>\n",
              "      <td>M</td>\n",
              "      <td>252464</td>\n",
              "      <td>Danny</td>\n",
              "      <td>keep up the good work kenny! marsha in year 1 by the end of the year for $1 trillion spent</td>\n",
              "      <td>Kenny Marchant</td>\n",
              "      <td>Congress_Republican</td>\n",
              "      <td>0.000056</td>\n",
              "      <td>W</td>\n",
              "    </tr>\n",
              "    <tr>\n",
              "      <th>2166055</th>\n",
              "      <td>11307035</td>\n",
              "      <td>95515852</td>\n",
              "      <td>M</td>\n",
              "      <td>401117</td>\n",
              "      <td>Jennifer</td>\n",
              "      <td>happy to see rep. mia love there also, enjoyed her speech at the rally for life in january.</td>\n",
              "      <td>Bill Huizenga</td>\n",
              "      <td>Congress_Republican</td>\n",
              "      <td>0.000061</td>\n",
              "      <td>W</td>\n",
              "    </tr>\n",
              "    <tr>\n",
              "      <th>1835635</th>\n",
              "      <td>10358772</td>\n",
              "      <td>55333293</td>\n",
              "      <td>M</td>\n",
              "      <td>383538</td>\n",
              "      <td>Cecelia</td>\n",
              "      <td>and, what is rep. congresswoman suzanne bonamici doing?</td>\n",
              "      <td>Peter DeFazio</td>\n",
              "      <td>Congress_Democratic</td>\n",
              "      <td>0.000063</td>\n",
              "      <td>W</td>\n",
              "    </tr>\n",
              "    <tr>\n",
              "      <th>1516936</th>\n",
              "      <td>7935230</td>\n",
              "      <td>99469231</td>\n",
              "      <td>M</td>\n",
              "      <td>296388</td>\n",
              "      <td>Lynda</td>\n",
              "      <td>well gee, marsha...feelings are very much mutual ! thank you...would not want a liberal to be my...</td>\n",
              "      <td>John McCain</td>\n",
              "      <td>Congress_Republican</td>\n",
              "      <td>0.000079</td>\n",
              "      <td>W</td>\n",
              "    </tr>\n",
              "    <tr>\n",
              "      <th>890357</th>\n",
              "      <td>5139411</td>\n",
              "      <td>46506154</td>\n",
              "      <td>M</td>\n",
              "      <td>161009</td>\n",
              "      <td>Morena</td>\n",
              "      <td>not if it kamala harris from california.</td>\n",
              "      <td>Marco Rubio</td>\n",
              "      <td>Congress_Republican</td>\n",
              "      <td>0.000080</td>\n",
              "      <td>W</td>\n",
              "    </tr>\n",
              "    <tr>\n",
              "      <th>1870185</th>\n",
              "      <td>10903113</td>\n",
              "      <td>10458808</td>\n",
              "      <td>M</td>\n",
              "      <td>385776</td>\n",
              "      <td>Hannah</td>\n",
              "      <td>i see tulsi!</td>\n",
              "      <td>Mark Takano</td>\n",
              "      <td>Congress_Democratic</td>\n",
              "      <td>0.000097</td>\n",
              "      <td>W</td>\n",
              "    </tr>\n",
              "    <tr>\n",
              "      <th>1855248</th>\n",
              "      <td>10888176</td>\n",
              "      <td>10458808</td>\n",
              "      <td>M</td>\n",
              "      <td>385767</td>\n",
              "      <td>Karen</td>\n",
              "      <td>thank you representative esty, for fighting this fight for years!</td>\n",
              "      <td>Mark Takano</td>\n",
              "      <td>Congress_Democratic</td>\n",
              "      <td>0.000100</td>\n",
              "      <td>W</td>\n",
              "    </tr>\n",
              "    <tr>\n",
              "      <th>1857510</th>\n",
              "      <td>10890438</td>\n",
              "      <td>10458808</td>\n",
              "      <td>M</td>\n",
              "      <td>385771</td>\n",
              "      <td>Kat</td>\n",
              "      <td>thank you, congresswoman pelosi! 💖</td>\n",
              "      <td>Mark Takano</td>\n",
              "      <td>Congress_Democratic</td>\n",
              "      <td>0.000108</td>\n",
              "      <td>W</td>\n",
              "    </tr>\n",
              "    <tr>\n",
              "      <th>203474</th>\n",
              "      <td>2380226</td>\n",
              "      <td>62246450</td>\n",
              "      <td>M</td>\n",
              "      <td>52684</td>\n",
              "      <td>Sandra</td>\n",
              "      <td>wyden, you are a huge huge embarrassment and that is you or congresswoman suzanne bonamici again...</td>\n",
              "      <td>Ron Wyden</td>\n",
              "      <td>Congress_Democratic</td>\n",
              "      <td>0.000120</td>\n",
              "      <td>W</td>\n",
              "    </tr>\n",
              "    <tr>\n",
              "      <th>1852153</th>\n",
              "      <td>10885081</td>\n",
              "      <td>10458808</td>\n",
              "      <td>M</td>\n",
              "      <td>385764</td>\n",
              "      <td>Ben</td>\n",
              "      <td>thank you maxine for keeping them here last night</td>\n",
              "      <td>Mark Takano</td>\n",
              "      <td>Congress_Democratic</td>\n",
              "      <td>0.000121</td>\n",
              "      <td>W</td>\n",
              "    </tr>\n",
              "    <tr>\n",
              "      <th>901402</th>\n",
              "      <td>5150456</td>\n",
              "      <td>46506154</td>\n",
              "      <td>M</td>\n",
              "      <td>161080</td>\n",
              "      <td>Robyn</td>\n",
              "      <td>shame on you patty murray. you will never get my vote again!</td>\n",
              "      <td>Marco Rubio</td>\n",
              "      <td>Congress_Republican</td>\n",
              "      <td>0.000132</td>\n",
              "      <td>W</td>\n",
              "    </tr>\n",
              "    <tr>\n",
              "      <th>893976</th>\n",
              "      <td>5143030</td>\n",
              "      <td>46506154</td>\n",
              "      <td>M</td>\n",
              "      <td>161049</td>\n",
              "      <td>Jeannie</td>\n",
              "      <td>go joni go......go get em!</td>\n",
              "      <td>Marco Rubio</td>\n",
              "      <td>Congress_Republican</td>\n",
              "      <td>0.000144</td>\n",
              "      <td>W</td>\n",
              "    </tr>\n",
              "  </tbody>\n",
              "</table>\n",
              "</div>"
            ],
            "text/plain": [
              "         original_idx     op_id op_gender  ...          op_category     probs preds\n",
              "1640623      10121482  51495713         M  ...  Congress_Republican  0.000019     W\n",
              "1132701       5381755  46506154         M  ...  Congress_Republican  0.000025     W\n",
              "70362         2188277  38794897         M  ...  Congress_Democratic  0.000037     W\n",
              "1816966      10340103  32570461         M  ...  Congress_Democratic  0.000046     W\n",
              "1861625      10894553  10458808         M  ...  Congress_Democratic  0.000048     W\n",
              "1887369      10920297  10458808         M  ...  Congress_Democratic  0.000053     W\n",
              "7861          2125776  38794897         M  ...  Congress_Democratic  0.000054     W\n",
              "1832684      10355821  55333293         M  ...  Congress_Democratic  0.000055     W\n",
              "1165810       6611994  48816171         M  ...  Congress_Republican  0.000056     W\n",
              "2166055      11307035  95515852         M  ...  Congress_Republican  0.000061     W\n",
              "1835635      10358772  55333293         M  ...  Congress_Democratic  0.000063     W\n",
              "1516936       7935230  99469231         M  ...  Congress_Republican  0.000079     W\n",
              "890357        5139411  46506154         M  ...  Congress_Republican  0.000080     W\n",
              "1870185      10903113  10458808         M  ...  Congress_Democratic  0.000097     W\n",
              "1855248      10888176  10458808         M  ...  Congress_Democratic  0.000100     W\n",
              "1857510      10890438  10458808         M  ...  Congress_Democratic  0.000108     W\n",
              "203474        2380226  62246450         M  ...  Congress_Democratic  0.000120     W\n",
              "1852153      10885081  10458808         M  ...  Congress_Democratic  0.000121     W\n",
              "901402        5150456  46506154         M  ...  Congress_Republican  0.000132     W\n",
              "893976        5143030  46506154         M  ...  Congress_Republican  0.000144     W\n",
              "\n",
              "[20 rows x 10 columns]"
            ]
          },
          "metadata": {
            "tags": []
          },
          "execution_count": 98
        }
      ]
    }
  ]
}

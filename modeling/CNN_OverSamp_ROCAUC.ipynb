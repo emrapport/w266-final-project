{
  "nbformat": 4,
  "nbformat_minor": 0,
  "metadata": {
    "kernelspec": {
      "name": "python3",
      "display_name": "Python 3"
    },
    "language_info": {
      "codemirror_mode": {
        "name": "ipython",
        "version": 3
      },
      "file_extension": ".py",
      "mimetype": "text/x-python",
      "name": "python",
      "nbconvert_exporter": "python",
      "pygments_lexer": "ipython3",
      "version": "3.7.4"
    },
    "colab": {
      "name": "First_CNN_Attempt.ipynb",
      "provenance": [],
      "machine_shape": "hm",
      "include_colab_link": true
    },
    "accelerator": "TPU"
  },
  "cells": [
    {
      "cell_type": "markdown",
      "metadata": {
        "id": "view-in-github",
        "colab_type": "text"
      },
      "source": [
        "<a href=\"https://colab.research.google.com/github/emrapport/w266-final-project/blob/master/modeling/CNN_OverSamp_ROCAUC.ipynb\" target=\"_parent\"><img src=\"https://colab.research.google.com/assets/colab-badge.svg\" alt=\"Open In Colab\"/></a>"
      ]
    },
    {
      "cell_type": "code",
      "metadata": {
        "id": "dJtCeCgbSs0D",
        "colab_type": "code",
        "colab": {}
      },
      "source": [
        "# this notebook is based off of this blog post: \n",
        "# https://realpython.com/python-keras-text-classification/#reader-comments"
      ],
      "execution_count": 0,
      "outputs": []
    },
    {
      "cell_type": "code",
      "metadata": {
        "id": "_QYIGfoPFRZK",
        "colab_type": "code",
        "colab": {}
      },
      "source": [
        "DATASET_NAME = \"oversample\"\n",
        "MODEL_NAME = \"oversample\"\n",
        "MAX_SEQ_LENGTH = 20\n",
        "TRAINING_SET_SIZE = 4000000\n",
        "VAL_SET_SIZE = 2000000\n",
        "NUM_EPOCHS = 15\n",
        "BATCH_SIZE = 1000\n",
        "MAX_SEQUENCE_LENGTH = 20\n",
        "\n",
        "\n",
        "# I don't think we have a good reason to do this right now\n",
        "# but we might eventually \n",
        "SAVE_TOKENIZED_DATA = False"
      ],
      "execution_count": 0,
      "outputs": []
    },
    {
      "cell_type": "code",
      "metadata": {
        "id": "l0rrZSx7Ss0M",
        "colab_type": "code",
        "outputId": "d828c020-ad04-4932-e032-e4e41816337b",
        "colab": {
          "base_uri": "https://localhost:8080/",
          "height": 474
        }
      },
      "source": [
        "from sklearn.linear_model import LogisticRegression\n",
        "from sklearn.feature_extraction.text import HashingVectorizer\n",
        "from scipy.sparse import hstack, vstack\n",
        "from keras.preprocessing.text import Tokenizer\n",
        "from tensorflow.keras import Sequential, layers\n",
        "from keras.utils import plot_model\n",
        "import pandas as pd\n",
        "import numpy as np\n",
        "import copy\n",
        "import time\n",
        "import pickle\n",
        "!pip install gcsfs\n",
        "\n",
        "pd.set_option('max_colwidth', 100)"
      ],
      "execution_count": 2,
      "outputs": [
        {
          "output_type": "stream",
          "text": [
            "Using TensorFlow backend.\n"
          ],
          "name": "stderr"
        },
        {
          "output_type": "stream",
          "text": [
            "Collecting gcsfs\n",
            "  Downloading https://files.pythonhosted.org/packages/65/e2/05f903ce8f77804127195cfcc1ca8b500a3157a1572dcc4b82bf5af01564/gcsfs-0.4.0-py2.py3-none-any.whl\n",
            "Requirement already satisfied: google-auth>=1.2 in /usr/local/lib/python3.6/dist-packages (from gcsfs) (1.4.2)\n",
            "Requirement already satisfied: google-auth-oauthlib in /usr/local/lib/python3.6/dist-packages (from gcsfs) (0.4.1)\n",
            "Requirement already satisfied: requests in /usr/local/lib/python3.6/dist-packages (from gcsfs) (2.21.0)\n",
            "Collecting fsspec>=0.6.0\n",
            "\u001b[?25l  Downloading https://files.pythonhosted.org/packages/4f/d9/40c970ef234cd3054c9cd6c087b92f24ea5b1209c87dcb931e28a72dbc29/fsspec-0.6.0-py3-none-any.whl (61kB)\n",
            "\u001b[K     |████████████████████████████████| 71kB 4.6MB/s \n",
            "\u001b[?25hRequirement already satisfied: decorator in /usr/local/lib/python3.6/dist-packages (from gcsfs) (4.4.1)\n",
            "Requirement already satisfied: pyasn1-modules>=0.2.1 in /usr/local/lib/python3.6/dist-packages (from google-auth>=1.2->gcsfs) (0.2.7)\n",
            "Requirement already satisfied: cachetools>=2.0.0 in /usr/local/lib/python3.6/dist-packages (from google-auth>=1.2->gcsfs) (3.1.1)\n",
            "Requirement already satisfied: six>=1.9.0 in /usr/local/lib/python3.6/dist-packages (from google-auth>=1.2->gcsfs) (1.12.0)\n",
            "Requirement already satisfied: rsa>=3.1.4 in /usr/local/lib/python3.6/dist-packages (from google-auth>=1.2->gcsfs) (4.0)\n",
            "Requirement already satisfied: requests-oauthlib>=0.7.0 in /usr/local/lib/python3.6/dist-packages (from google-auth-oauthlib->gcsfs) (1.3.0)\n",
            "Requirement already satisfied: certifi>=2017.4.17 in /usr/local/lib/python3.6/dist-packages (from requests->gcsfs) (2019.9.11)\n",
            "Requirement already satisfied: urllib3<1.25,>=1.21.1 in /usr/local/lib/python3.6/dist-packages (from requests->gcsfs) (1.24.3)\n",
            "Requirement already satisfied: idna<2.9,>=2.5 in /usr/local/lib/python3.6/dist-packages (from requests->gcsfs) (2.8)\n",
            "Requirement already satisfied: chardet<3.1.0,>=3.0.2 in /usr/local/lib/python3.6/dist-packages (from requests->gcsfs) (3.0.4)\n",
            "Requirement already satisfied: pyasn1<0.5.0,>=0.4.6 in /usr/local/lib/python3.6/dist-packages (from pyasn1-modules>=0.2.1->google-auth>=1.2->gcsfs) (0.4.7)\n",
            "Requirement already satisfied: oauthlib>=3.0.0 in /usr/local/lib/python3.6/dist-packages (from requests-oauthlib>=0.7.0->google-auth-oauthlib->gcsfs) (3.1.0)\n",
            "Installing collected packages: fsspec, gcsfs\n",
            "  Found existing installation: fsspec 0.5.2\n",
            "    Uninstalling fsspec-0.5.2:\n",
            "      Successfully uninstalled fsspec-0.5.2\n",
            "Successfully installed fsspec-0.6.0 gcsfs-0.4.0\n"
          ],
          "name": "stdout"
        }
      ]
    },
    {
      "cell_type": "code",
      "metadata": {
        "id": "lKNfUKrfUgP-",
        "colab_type": "code",
        "outputId": "70e91f70-a695-4aa1-a025-6148177d32b6",
        "colab": {
          "base_uri": "https://localhost:8080/",
          "height": 175
        }
      },
      "source": [
        "# this cell is only necessary if running in colab\n",
        "project_id = 'w266-251323'\n",
        "import uuid\n",
        "bucket_name = 'fb-congressional-data/'\n",
        "from google.colab import auth\n",
        "auth.authenticate_user()\n",
        "!gcloud config set project {project_id}"
      ],
      "execution_count": 3,
      "outputs": [
        {
          "output_type": "stream",
          "text": [
            "WARNING:tensorflow:\n",
            "The TensorFlow contrib module will not be included in TensorFlow 2.0.\n",
            "For more information, please see:\n",
            "  * https://github.com/tensorflow/community/blob/master/rfcs/20180907-contrib-sunset.md\n",
            "  * https://github.com/tensorflow/addons\n",
            "  * https://github.com/tensorflow/io (for I/O related ops)\n",
            "If you depend on functionality not listed there, please file an issue.\n",
            "\n",
            "Updated property [core/project].\n"
          ],
          "name": "stdout"
        }
      ]
    },
    {
      "cell_type": "code",
      "metadata": {
        "id": "9T7PzdLQSs0j",
        "colab_type": "code",
        "outputId": "6bf4c365-f264-4b80-e89d-93f4056bc5f1",
        "colab": {
          "base_uri": "https://localhost:8080/",
          "height": 72
        }
      },
      "source": [
        "train_df = pd.read_csv(\"gs://fb-congressional-data/contraction_expanded_data/train.csv\", index_col=0)"
      ],
      "execution_count": 4,
      "outputs": [
        {
          "output_type": "stream",
          "text": [
            "/usr/local/lib/python3.6/dist-packages/numpy/lib/arraysetops.py:568: FutureWarning: elementwise comparison failed; returning scalar instead, but in the future will perform elementwise comparison\n",
            "  mask |= (ar1 == a)\n"
          ],
          "name": "stderr"
        }
      ]
    },
    {
      "cell_type": "code",
      "metadata": {
        "id": "0iOniVLISs0m",
        "colab_type": "code",
        "outputId": "798aab41-5663-45a8-c838-4f254f33b1d8",
        "colab": {
          "base_uri": "https://localhost:8080/",
          "height": 72
        }
      },
      "source": [
        "dev_df = pd.read_csv(\"gs://fb-congressional-data/contraction_expanded_data/dev.csv\", index_col=0)"
      ],
      "execution_count": 5,
      "outputs": [
        {
          "output_type": "stream",
          "text": [
            "/usr/local/lib/python3.6/dist-packages/numpy/lib/arraysetops.py:568: FutureWarning: elementwise comparison failed; returning scalar instead, but in the future will perform elementwise comparison\n",
            "  mask |= (ar1 == a)\n"
          ],
          "name": "stderr"
        }
      ]
    },
    {
      "cell_type": "code",
      "metadata": {
        "id": "W1oM4o7wtHFd",
        "colab_type": "code",
        "outputId": "9658356e-973c-408f-e0cc-21badd7adc6e",
        "colab": {
          "base_uri": "https://localhost:8080/",
          "height": 34
        }
      },
      "source": [
        "num_responses_per_post = train_df.post_id.value_counts().reset_index()\n",
        "num_responses_per_post.columns = ['post_id', 'num_responses']\n",
        "too_big_posts = num_responses_per_post[num_responses_per_post.num_responses > 50]\n",
        "posts_to_sample = too_big_posts.post_id.values\n",
        "# this gets all the rows for posts we DON'T need to sample \n",
        "new_train_df = train_df[~train_df.post_id.isin(posts_to_sample)]\n",
        "# this should be true\n",
        "assert(len(too_big_posts) + new_train_df.post_id.nunique() == train_df.post_id.nunique())\n",
        "too_big_post_rows = train_df[train_df.post_id.isin(posts_to_sample)]\n",
        "sampled_rows = too_big_post_rows.groupby('post_id').apply(lambda x: x.sample(n=50)).reset_index(drop=True)\n",
        "new_train_df = pd.concat([new_train_df, sampled_rows])\n",
        "new_train_df.shape"
      ],
      "execution_count": 6,
      "outputs": [
        {
          "output_type": "execute_result",
          "data": {
            "text/plain": [
              "(3962284, 8)"
            ]
          },
          "metadata": {
            "tags": []
          },
          "execution_count": 6
        }
      ]
    },
    {
      "cell_type": "code",
      "metadata": {
        "id": "1bJTZgn41ptd",
        "colab_type": "code",
        "colab": {}
      },
      "source": [
        "# Set seeds for reproducible results.\n",
        "from numpy.random import seed\n",
        "seed(1)\n",
        "from tensorflow import set_random_seed\n",
        "set_random_seed(2)"
      ],
      "execution_count": 0,
      "outputs": []
    },
    {
      "cell_type": "code",
      "metadata": {
        "id": "MgZWntiySs0p",
        "colab_type": "code",
        "colab": {}
      },
      "source": [
        "# shuffle the data\n",
        "# be sure to do this before you extract X's and y's!!\n",
        "train_df = new_train_df.sample(frac=1)\n",
        "dev_df = dev_df.sample(frac=1)"
      ],
      "execution_count": 0,
      "outputs": []
    },
    {
      "cell_type": "code",
      "metadata": {
        "id": "1ZJxHTywg7Rq",
        "colab_type": "code",
        "outputId": "1cf86bd2-54c6-4b66-c6cd-71dabec6f469",
        "colab": {
          "base_uri": "https://localhost:8080/",
          "height": 70
        }
      },
      "source": [
        "train_df.op_gender.value_counts()"
      ],
      "execution_count": 9,
      "outputs": [
        {
          "output_type": "execute_result",
          "data": {
            "text/plain": [
              "M    2900753\n",
              "W    1061531\n",
              "Name: op_gender, dtype: int64"
            ]
          },
          "metadata": {
            "tags": []
          },
          "execution_count": 9
        }
      ]
    },
    {
      "cell_type": "code",
      "metadata": {
        "id": "TeiBaUc31ORv",
        "colab_type": "code",
        "colab": {
          "base_uri": "https://localhost:8080/",
          "height": 70
        },
        "outputId": "47bde092-b9e7-4a89-b723-318c272ce40c"
      },
      "source": [
        "dev_df.op_gender.value_counts()"
      ],
      "execution_count": 10,
      "outputs": [
        {
          "output_type": "execute_result",
          "data": {
            "text/plain": [
              "M    1948371\n",
              "W     344536\n",
              "Name: op_gender, dtype: int64"
            ]
          },
          "metadata": {
            "tags": []
          },
          "execution_count": 10
        }
      ]
    },
    {
      "cell_type": "code",
      "metadata": {
        "id": "85U7ZhlXgNs5",
        "colab_type": "code",
        "colab": {}
      },
      "source": [
        "male = train_df[train_df.op_gender=='M']\n",
        "female = train_df[train_df.op_gender=='W']"
      ],
      "execution_count": 0,
      "outputs": []
    },
    {
      "cell_type": "code",
      "metadata": {
        "id": "wvu7r5nThL1Z",
        "colab_type": "code",
        "colab": {}
      },
      "source": [
        "from sklearn.utils import resample\n",
        "\n",
        "female_upsampled = resample(female,\n",
        "                          replace=True, # sample with replacement\n",
        "                          n_samples=len(male), # match number in majority class\n",
        "                          random_state=27) # reproducible results\n"
      ],
      "execution_count": 0,
      "outputs": []
    },
    {
      "cell_type": "code",
      "metadata": {
        "id": "CtTa_cntiCKf",
        "colab_type": "code",
        "colab": {}
      },
      "source": [
        "upsampled_train = pd.concat([male,female_upsampled])"
      ],
      "execution_count": 0,
      "outputs": []
    },
    {
      "cell_type": "code",
      "metadata": {
        "id": "UTWp97j8ig6b",
        "colab_type": "code",
        "outputId": "49e15415-40ea-47ea-dd71-d4924c4dcae0",
        "colab": {
          "base_uri": "https://localhost:8080/",
          "height": 70
        }
      },
      "source": [
        "upsampled_train.op_gender.value_counts()"
      ],
      "execution_count": 14,
      "outputs": [
        {
          "output_type": "execute_result",
          "data": {
            "text/plain": [
              "W    2900753\n",
              "M    2900753\n",
              "Name: op_gender, dtype: int64"
            ]
          },
          "metadata": {
            "tags": []
          },
          "execution_count": 14
        }
      ]
    },
    {
      "cell_type": "code",
      "metadata": {
        "id": "Pjb6dx8fSs0s",
        "colab_type": "code",
        "colab": {}
      },
      "source": [
        "y_train = upsampled_train.op_gender.values\n",
        "y_dev = dev_df.op_gender.values"
      ],
      "execution_count": 0,
      "outputs": []
    },
    {
      "cell_type": "code",
      "metadata": {
        "id": "pBCoPKh_Ss0v",
        "colab_type": "code",
        "colab": {}
      },
      "source": [
        "def turn_to_ints(li):\n",
        "    final_list = []\n",
        "    for gender in li:\n",
        "        if gender=='M':\n",
        "            final_list.append(1)\n",
        "        else:\n",
        "            final_list.append(0)\n",
        "    return final_list\n",
        "            \n",
        "y_train = turn_to_ints(y_train)\n",
        "y_dev = turn_to_ints(y_dev)"
      ],
      "execution_count": 0,
      "outputs": []
    },
    {
      "cell_type": "code",
      "metadata": {
        "id": "hN9GFz6xSs0y",
        "colab_type": "code",
        "colab": {}
      },
      "source": [
        "y_train = np.asarray(y_train)\n",
        "y_dev = np.asarray(y_dev)"
      ],
      "execution_count": 0,
      "outputs": []
    },
    {
      "cell_type": "code",
      "metadata": {
        "id": "ChYxh6oPSs04",
        "colab_type": "code",
        "colab": {}
      },
      "source": [
        "def get_text_list(init_list):\n",
        "    sentences = []\n",
        "    for sentence in init_list:\n",
        "        if type(sentence) != str:\n",
        "            sentences.append(\"\")\n",
        "        else:\n",
        "            sentences.append(sentence)\n",
        "    return sentences\n",
        "\n",
        "new_sentences_train = get_text_list(upsampled_train.response_text.values)\n",
        "new_sentences_test = get_text_list(dev_df.response_text.values)"
      ],
      "execution_count": 0,
      "outputs": []
    },
    {
      "cell_type": "code",
      "metadata": {
        "id": "1b9SE7SjSs06",
        "colab_type": "code",
        "outputId": "38cacda6-a88d-42d8-e441-8414d06a54c9",
        "colab": {
          "base_uri": "https://localhost:8080/",
          "height": 34
        }
      },
      "source": [
        "time_start = time.time()\n",
        "\n",
        "# this is the default list of filters + apostrophe\n",
        "# added because we have dealt with common contractions, so other apostrophes should mostly be possessive \n",
        "tokenizer = Tokenizer(num_words=200000, filters='!\"\\'#$%&()*+,-./:;<=>?@[\\\\]^_`{|}~\\t\\n')\n",
        "tokenizer.fit_on_texts(new_sentences_train)\n",
        "\n",
        "X_train = tokenizer.texts_to_sequences(new_sentences_train)\n",
        "X_test = tokenizer.texts_to_sequences(new_sentences_test)\n",
        "\n",
        "vocab_size = len(tokenizer.word_index) + 1\n",
        "\n",
        "currentTime = time.gmtime(time.time() - time_start)\n",
        "\n",
        "#Convert the gmtime struct to a string\n",
        "timeStr = time.strftime(\"%M minutes, %S seconds\", currentTime)\n",
        "\n",
        "print(\"Tokenized in {}\".format(timeStr))"
      ],
      "execution_count": 19,
      "outputs": [
        {
          "output_type": "stream",
          "text": [
            "Tokenized in 07 minutes, 00 seconds\n"
          ],
          "name": "stdout"
        }
      ]
    },
    {
      "cell_type": "code",
      "metadata": {
        "id": "TyZMBAiySs0-",
        "colab_type": "code",
        "colab": {}
      },
      "source": [
        "from keras.preprocessing.sequence import pad_sequences\n",
        "\n",
        "X_train = pad_sequences(X_train, padding='post', maxlen=MAX_SEQUENCE_LENGTH)\n",
        "X_test = pad_sequences(X_test, padding='post', maxlen=MAX_SEQUENCE_LENGTH)"
      ],
      "execution_count": 0,
      "outputs": []
    },
    {
      "cell_type": "code",
      "metadata": {
        "id": "LGl1S3HySs1G",
        "colab_type": "code",
        "colab": {}
      },
      "source": [
        "if SAVE_TOKENIZED_DATA:\n",
        "  x_train_path = 'X_train_{}.pkl'.format(DATASET_NAME)\n",
        "  x_dev_path = 'X_dev_{}.pkl'.format(DATASET_NAME)\n",
        "  y_train_path = 'y_train_{}.pkl'.format(DATASET_NAME)\n",
        "  y_dev_path = 'y_dev_{}.pkl'.format(DATASET_NAME)\n",
        "\n",
        "  with open(x_train_path, 'wb') as file:\n",
        "      pickle.dump(X_train, file)   \n",
        "  with open(x_dev_path, 'wb') as file:\n",
        "      pickle.dump(X_test, file)\n",
        "  with open(y_train_path, 'wb') as file:\n",
        "      pickle.dump(y_train, file)\n",
        "  with open(y_dev_path, 'wb') as file:\n",
        "      pickle.dump(y_dev, file)\n",
        "\n",
        "  # copy to bucket\n",
        "  !gsutil cp /content/{x_train_path} gs://fb-congressional-data/test\n",
        "  !gsutil cp /content/{x_dev_path} gs://fb-congressional-data/\n",
        "  !gsutil cp /content/{y_train_path} gs://fb-congressional-data/\n",
        "  !gsutil cp /content/{y_dev_path} gs://fb-congressional-data/"
      ],
      "execution_count": 0,
      "outputs": []
    },
    {
      "cell_type": "code",
      "metadata": {
        "id": "s5AeCFGIuKIR",
        "colab_type": "code",
        "outputId": "2de670e3-410f-497b-f292-859fa962e45f",
        "colab": {
          "base_uri": "https://localhost:8080/",
          "height": 246
        }
      },
      "source": [
        "!gsutil cp gs://fb-congressional-data/glove* /tmp/"
      ],
      "execution_count": 22,
      "outputs": [
        {
          "output_type": "stream",
          "text": [
            "Copying gs://fb-congressional-data/glove.6B.100d.txt...\n",
            "Copying gs://fb-congressional-data/glove.6B.200d.txt...\n",
            "Copying gs://fb-congressional-data/glove.6B.300d.txt...\n",
            "Copying gs://fb-congressional-data/glove.6B.50d.txt...\n",
            "\\ [4 files][  2.1 GiB/  2.1 GiB]   85.3 MiB/s                                   \n",
            "==> NOTE: You are performing a sequence of gsutil operations that may\n",
            "run significantly faster if you instead use gsutil -m cp ... Please\n",
            "see the -m section under \"gsutil help options\" for further information\n",
            "about when gsutil -m can be advantageous.\n",
            "\n",
            "Copying gs://fb-congressional-data/glove.6B.zip...\n",
            "/\n",
            "Operation completed over 5 objects/2.9 GiB.                                      \n"
          ],
          "name": "stdout"
        }
      ]
    },
    {
      "cell_type": "code",
      "metadata": {
        "id": "ae5EQ7vbSs1L",
        "colab_type": "code",
        "colab": {}
      },
      "source": [
        "def create_embedding_matrix(filepath, word_index, embedding_dim):\n",
        "    vocab_size = len(word_index) + 1  # Adding again 1 because of reserved 0 index\n",
        "    embedding_matrix = np.zeros((vocab_size, embedding_dim))\n",
        "\n",
        "    with open(filepath) as f:\n",
        "        for line in f:\n",
        "            word, *vector = line.split()\n",
        "            if word in word_index:\n",
        "                idx = word_index[word] \n",
        "                embedding_matrix[idx] = np.array(\n",
        "                    vector, dtype=np.float32)[:embedding_dim]\n",
        "\n",
        "    return embedding_matrix\n",
        "\n",
        "embedding_dim = 100\n",
        "embedding_matrix = create_embedding_matrix(\n",
        "                     '/tmp/glove.6B.{}d.txt'.format(embedding_dim),\n",
        "                      tokenizer.word_index, embedding_dim)"
      ],
      "execution_count": 0,
      "outputs": []
    },
    {
      "cell_type": "code",
      "metadata": {
        "id": "kUTvp7yfut-7",
        "colab_type": "code",
        "colab": {}
      },
      "source": [
        "# trying to figure out which words are empty here\n",
        "# counter = 0\n",
        "# empty_indexes = []\n",
        "# for index, row in enumerate(embedding_matrix):\n",
        "#   if sum(row) == 0:\n",
        "#     empty_indexes.append(index)\n",
        "#     counter += 1\n",
        "#   if counter > 1000:\n",
        "#     break\n",
        "\n",
        "# for idx in empty_indexes:\n",
        "#   try:\n",
        "#     print(tokenizer.index_word[idx])\n",
        "#   except:\n",
        "#     print(\"No entry for {}\".format(idx))\n"
      ],
      "execution_count": 0,
      "outputs": []
    },
    {
      "cell_type": "code",
      "metadata": {
        "id": "UI5vn5zBSs1P",
        "colab_type": "code",
        "colab": {}
      },
      "source": [
        "# hmmmm....\n",
        "# nonzero_elements = np.count_nonzero(np.count_nonzero(embedding_matrix, axis=1))\n",
        "# nonzero_elements / vocab_size"
      ],
      "execution_count": 0,
      "outputs": []
    },
    {
      "cell_type": "code",
      "metadata": {
        "id": "EJtNke4FSs1X",
        "colab_type": "code",
        "outputId": "fb4f42f6-aac6-4c77-e3c5-5ce03b2f9c81",
        "colab": {
          "base_uri": "https://localhost:8080/",
          "height": 34
        }
      },
      "source": [
        "embedding_matrix.shape"
      ],
      "execution_count": 25,
      "outputs": [
        {
          "output_type": "execute_result",
          "data": {
            "text/plain": [
              "(590946, 100)"
            ]
          },
          "metadata": {
            "tags": []
          },
          "execution_count": 25
        }
      ]
    },
    {
      "cell_type": "code",
      "metadata": {
        "id": "tb_yr2R9Ss1d",
        "colab_type": "code",
        "outputId": "8fd8a4a3-4077-424c-dfce-d27ca9b1aaba",
        "colab": {
          "base_uri": "https://localhost:8080/",
          "height": 512
        }
      },
      "source": [
        "model = Sequential()\n",
        "model.add(layers.Embedding(vocab_size, embedding_dim, \n",
        "                           weights=[embedding_matrix], \n",
        "                           input_length=MAX_SEQUENCE_LENGTH, \n",
        "                           trainable=False))\n",
        "model.add(layers.Conv1D(128, 5, activation='relu'))\n",
        "model.add(layers.GlobalMaxPooling1D())\n",
        "model.add(layers.Dense(10, activation='relu'))\n",
        "model.add(layers.Dense(1, activation='sigmoid'))\n",
        "model.compile(optimizer='adam',\n",
        "              loss='binary_crossentropy',\n",
        "              metrics=['accuracy'])\n",
        "model.summary()"
      ],
      "execution_count": 26,
      "outputs": [
        {
          "output_type": "stream",
          "text": [
            "WARNING:tensorflow:From /usr/local/lib/python3.6/dist-packages/tensorflow_core/python/keras/initializers.py:119: calling RandomUniform.__init__ (from tensorflow.python.ops.init_ops) with dtype is deprecated and will be removed in a future version.\n",
            "Instructions for updating:\n",
            "Call initializer instance with the dtype argument instead of passing it to the constructor\n",
            "WARNING:tensorflow:From /usr/local/lib/python3.6/dist-packages/tensorflow_core/python/ops/resource_variable_ops.py:1630: calling BaseResourceVariable.__init__ (from tensorflow.python.ops.resource_variable_ops) with constraint is deprecated and will be removed in a future version.\n",
            "Instructions for updating:\n",
            "If using Keras pass *_constraint arguments to layers.\n",
            "WARNING:tensorflow:From /usr/local/lib/python3.6/dist-packages/tensorflow_core/python/ops/nn_impl.py:183: where (from tensorflow.python.ops.array_ops) is deprecated and will be removed in a future version.\n",
            "Instructions for updating:\n",
            "Use tf.where in 2.0, which has the same broadcast rule as np.where\n",
            "Model: \"sequential\"\n",
            "_________________________________________________________________\n",
            "Layer (type)                 Output Shape              Param #   \n",
            "=================================================================\n",
            "embedding (Embedding)        (None, 20, 100)           59094600  \n",
            "_________________________________________________________________\n",
            "conv1d (Conv1D)              (None, 16, 128)           64128     \n",
            "_________________________________________________________________\n",
            "global_max_pooling1d (Global (None, 128)               0         \n",
            "_________________________________________________________________\n",
            "dense (Dense)                (None, 10)                1290      \n",
            "_________________________________________________________________\n",
            "dense_1 (Dense)              (None, 1)                 11        \n",
            "=================================================================\n",
            "Total params: 59,160,029\n",
            "Trainable params: 65,429\n",
            "Non-trainable params: 59,094,600\n",
            "_________________________________________________________________\n"
          ],
          "name": "stdout"
        }
      ]
    },
    {
      "cell_type": "code",
      "metadata": {
        "id": "U_9KWVWHAAE3",
        "colab_type": "code",
        "colab": {}
      },
      "source": [
        "# smaller_X_train = X_train[:TRAINING_SET_SIZE]"
      ],
      "execution_count": 0,
      "outputs": []
    },
    {
      "cell_type": "code",
      "metadata": {
        "id": "t6gn7HvuAGgQ",
        "colab_type": "code",
        "colab": {}
      },
      "source": [
        "# smaller_y_train = y_train[:TRAINING_SET_SIZE]"
      ],
      "execution_count": 0,
      "outputs": []
    },
    {
      "cell_type": "code",
      "metadata": {
        "id": "3BoBWKSc2wNk",
        "colab_type": "code",
        "colab": {}
      },
      "source": [
        "# # Set up oversampling with SMOTE (Synthetic Minority Oversampling Technique)\n",
        "# from imblearn.over_sampling import SMOTE\n",
        "# sm = SMOTE(random_state=12, ratio = 1.0) # Will bring final ratio to 1.0\n",
        "# x_train_res, y_train_res = sm.fit_sample(X_train, y_train)\n"
      ],
      "execution_count": 0,
      "outputs": []
    },
    {
      "cell_type": "code",
      "metadata": {
        "id": "uf5R6UpGDW_y",
        "colab_type": "code",
        "colab": {}
      },
      "source": [
        "smaller_X_dev = X_test[:VAL_SET_SIZE]\n",
        "smaller_y_dev = y_dev[:VAL_SET_SIZE]"
      ],
      "execution_count": 0,
      "outputs": []
    },
    {
      "cell_type": "code",
      "metadata": {
        "id": "M4dbwlaxSs1l",
        "colab_type": "code",
        "outputId": "068af898-8649-4548-de27-f4e132ae604c",
        "colab": {
          "base_uri": "https://localhost:8080/",
          "height": 580
        }
      },
      "source": [
        "try:\n",
        "  time_start = time.time()\n",
        "\n",
        "  history = model.fit(X_train, y_train,\n",
        "                      epochs=NUM_EPOCHS,\n",
        "                      verbose=True,\n",
        "                      validation_data=(smaller_X_dev, smaller_y_dev),\n",
        "                      batch_size=BATCH_SIZE)\n",
        "\n",
        "  currentTime = time.gmtime(time.time() - time_start)\n",
        "\n",
        "  #Convert the gmtime struct to a string\n",
        "  timeStr = time.strftime(\"%M minutes, %S seconds\", currentTime)\n",
        "\n",
        "  print(\"Trained in {}\".format(timeStr))\n",
        "\n",
        "except:\n",
        "  currentTime = time.gmtime(time.time() - time_start)\n",
        "\n",
        "  #Convert the gmtime struct to a string\n",
        "  timeStr = time.strftime(\"%M minutes, %S seconds\", currentTime)\n",
        "\n",
        "  print(\"Trained in {}\".format(timeStr))  "
      ],
      "execution_count": 30,
      "outputs": [
        {
          "output_type": "stream",
          "text": [
            "Train on 5801506 samples, validate on 2000000 samples\n",
            "Epoch 1/15\n",
            "5801506/5801506 [==============================] - 152s 26us/sample - loss: 0.6088 - acc: 0.6300 - val_loss: 0.6300 - val_acc: 0.6483\n",
            "Epoch 2/15\n",
            "5801506/5801506 [==============================] - 156s 27us/sample - loss: 0.5907 - acc: 0.6460 - val_loss: 0.6264 - val_acc: 0.6541\n",
            "Epoch 3/15\n",
            "5801506/5801506 [==============================] - 153s 26us/sample - loss: 0.5841 - acc: 0.6523 - val_loss: 0.6310 - val_acc: 0.6484\n",
            "Epoch 4/15\n",
            "5801506/5801506 [==============================] - 154s 26us/sample - loss: 0.5799 - acc: 0.6564 - val_loss: 0.6075 - val_acc: 0.6803\n",
            "Epoch 5/15\n",
            "5801506/5801506 [==============================] - 152s 26us/sample - loss: 0.5768 - acc: 0.6595 - val_loss: 0.6176 - val_acc: 0.6643\n",
            "Epoch 6/15\n",
            "5801506/5801506 [==============================] - 153s 26us/sample - loss: 0.5745 - acc: 0.6618 - val_loss: 0.6340 - val_acc: 0.6350\n",
            "Epoch 7/15\n",
            "5801506/5801506 [==============================] - 153s 26us/sample - loss: 0.5726 - acc: 0.6636 - val_loss: 0.6700 - val_acc: 0.5928\n",
            "Epoch 8/15\n",
            "5801506/5801506 [==============================] - 153s 26us/sample - loss: 0.5710 - acc: 0.6650 - val_loss: 0.6172 - val_acc: 0.6703\n",
            "Epoch 9/15\n",
            "5801506/5801506 [==============================] - 153s 26us/sample - loss: 0.5697 - acc: 0.6661 - val_loss: 0.6567 - val_acc: 0.6123\n",
            "Epoch 10/15\n",
            "5801506/5801506 [==============================] - 156s 27us/sample - loss: 0.5686 - acc: 0.6673 - val_loss: 0.6338 - val_acc: 0.6476\n",
            "Epoch 11/15\n",
            "5801506/5801506 [==============================] - 156s 27us/sample - loss: 0.5676 - acc: 0.6681 - val_loss: 0.6042 - val_acc: 0.6795\n",
            "Epoch 12/15\n",
            "5801506/5801506 [==============================] - 158s 27us/sample - loss: 0.5666 - acc: 0.6689 - val_loss: 0.6369 - val_acc: 0.6247\n",
            "Epoch 13/15\n",
            "5801506/5801506 [==============================] - 155s 27us/sample - loss: 0.5659 - acc: 0.6695 - val_loss: 0.6174 - val_acc: 0.6634\n",
            "Epoch 14/15\n",
            "5801506/5801506 [==============================] - 157s 27us/sample - loss: 0.5652 - acc: 0.6701 - val_loss: 0.6248 - val_acc: 0.6497\n",
            "Epoch 15/15\n",
            "5801506/5801506 [==============================] - 158s 27us/sample - loss: 0.5645 - acc: 0.6707 - val_loss: 0.6450 - val_acc: 0.6260\n",
            "Trained in 38 minutes, 38 seconds\n"
          ],
          "name": "stdout"
        }
      ]
    },
    {
      "cell_type": "code",
      "metadata": {
        "id": "h4P5Y5wgSs1o",
        "colab_type": "code",
        "outputId": "4f37e2a3-fd43-4e23-8725-6b31b14d5b02",
        "colab": {
          "base_uri": "https://localhost:8080/",
          "height": 52
        }
      },
      "source": [
        "loss, accuracy = model.evaluate(X_train, y_train, verbose=False)\n",
        "print(\"Training Accuracy: {:.4f}\".format(accuracy))\n",
        "loss, accuracy = model.evaluate(X_test, y_dev, verbose=False)\n",
        "print(\"Testing Accuracy:  {:.4f}\".format(accuracy))\n"
      ],
      "execution_count": 31,
      "outputs": [
        {
          "output_type": "stream",
          "text": [
            "Training Accuracy: 0.6746\n",
            "Testing Accuracy:  0.6260\n"
          ],
          "name": "stdout"
        }
      ]
    },
    {
      "cell_type": "code",
      "metadata": {
        "id": "zZanpp-O9oiz",
        "colab_type": "code",
        "outputId": "b0dc9f07-0ce2-449e-dcc0-6b4d4f1d7d1e",
        "colab": {
          "base_uri": "https://localhost:8080/",
          "height": 34
        }
      },
      "source": [
        "# ROC AUC\n",
        "from sklearn.metrics import roc_auc_score\n",
        "# predict probabilities for test set\n",
        "yhat_probs = model.predict(X_test, verbose=0)\n",
        "# reduce to 1d array\n",
        "yhat_probs = yhat_probs[:,0]\n",
        "auc = roc_auc_score(y_dev, yhat_probs)\n",
        "print('ROC AUC:', auc)\n"
      ],
      "execution_count": 32,
      "outputs": [
        {
          "output_type": "stream",
          "text": [
            "ROC AUC: 0.6154624515067939\n"
          ],
          "name": "stdout"
        }
      ]
    },
    {
      "cell_type": "code",
      "metadata": {
        "id": "ccL7n659KbQ-",
        "colab_type": "code",
        "colab": {}
      },
      "source": [
        "preds = model.predict(X_test)"
      ],
      "execution_count": 0,
      "outputs": []
    },
    {
      "cell_type": "code",
      "metadata": {
        "id": "lhpB8QsgGMZ5",
        "colab_type": "code",
        "colab": {}
      },
      "source": [
        "dev_df['probs'] = preds"
      ],
      "execution_count": 0,
      "outputs": []
    },
    {
      "cell_type": "code",
      "metadata": {
        "id": "1T2IxdCMGf2e",
        "colab_type": "code",
        "colab": {}
      },
      "source": [
        "def pred_to_label(row):\n",
        "  if row['probs'] >= .5:\n",
        "    return 'M'\n",
        "  else:\n",
        "    return 'W'\n",
        "\n",
        "dev_df['preds'] = dev_df.apply(pred_to_label, axis=1)"
      ],
      "execution_count": 0,
      "outputs": []
    },
    {
      "cell_type": "code",
      "metadata": {
        "id": "NzbasnNWGg5J",
        "colab_type": "code",
        "colab": {}
      },
      "source": [
        "wrong_preds = dev_df[dev_df.op_gender!=dev_df.preds]"
      ],
      "execution_count": 0,
      "outputs": []
    },
    {
      "cell_type": "code",
      "metadata": {
        "id": "nAYve8ZhG7wt",
        "colab_type": "code",
        "outputId": "080e7513-16eb-431e-c9d0-3ef416152a4e",
        "colab": {
          "base_uri": "https://localhost:8080/",
          "height": 70
        }
      },
      "source": [
        "wrong_preds.op_gender.value_counts()"
      ],
      "execution_count": 38,
      "outputs": [
        {
          "output_type": "execute_result",
          "data": {
            "text/plain": [
              "M    689618\n",
              "W    167946\n",
              "Name: op_gender, dtype: int64"
            ]
          },
          "metadata": {
            "tags": []
          },
          "execution_count": 38
        }
      ]
    },
    {
      "cell_type": "code",
      "metadata": {
        "id": "NJJrm2LxHFzN",
        "colab_type": "code",
        "outputId": "4f80eb97-ea0c-4f8b-fa94-f536dbcb8d50",
        "colab": {
          "base_uri": "https://localhost:8080/",
          "height": 34
        }
      },
      "source": [
        "# total proportion of preds for women\n",
        "dev_df.preds.value_counts()['W'] / len(dev_df)"
      ],
      "execution_count": 39,
      "outputs": [
        {
          "output_type": "execute_result",
          "data": {
            "text/plain": [
              "0.37777720596605097"
            ]
          },
          "metadata": {
            "tags": []
          },
          "execution_count": 39
        }
      ]
    },
    {
      "cell_type": "code",
      "metadata": {
        "id": "SxFooJUbHVUB",
        "colab_type": "code",
        "outputId": "5ffaadb3-06a9-4dbd-b2f0-a62d7066f775",
        "colab": {
          "base_uri": "https://localhost:8080/",
          "height": 891
        }
      },
      "source": [
        "#random sample of mistakes\n",
        "wrong_preds.head(20)"
      ],
      "execution_count": 40,
      "outputs": [
        {
          "output_type": "execute_result",
          "data": {
            "text/html": [
              "<div>\n",
              "<style scoped>\n",
              "    .dataframe tbody tr th:only-of-type {\n",
              "        vertical-align: middle;\n",
              "    }\n",
              "\n",
              "    .dataframe tbody tr th {\n",
              "        vertical-align: top;\n",
              "    }\n",
              "\n",
              "    .dataframe thead th {\n",
              "        text-align: right;\n",
              "    }\n",
              "</style>\n",
              "<table border=\"1\" class=\"dataframe\">\n",
              "  <thead>\n",
              "    <tr style=\"text-align: right;\">\n",
              "      <th></th>\n",
              "      <th>original_idx</th>\n",
              "      <th>op_id</th>\n",
              "      <th>op_gender</th>\n",
              "      <th>post_id</th>\n",
              "      <th>responder_id</th>\n",
              "      <th>response_text</th>\n",
              "      <th>op_name</th>\n",
              "      <th>op_category</th>\n",
              "      <th>probs</th>\n",
              "      <th>preds</th>\n",
              "    </tr>\n",
              "  </thead>\n",
              "  <tbody>\n",
              "    <tr>\n",
              "      <th>1142204</th>\n",
              "      <td>5858762</td>\n",
              "      <td>12888814</td>\n",
              "      <td>M</td>\n",
              "      <td>194526</td>\n",
              "      <td>Mirelle</td>\n",
              "      <td>thanks!</td>\n",
              "      <td>Don Beyer</td>\n",
              "      <td>Congress_Democratic</td>\n",
              "      <td>0.461200</td>\n",
              "      <td>W</td>\n",
              "    </tr>\n",
              "    <tr>\n",
              "      <th>70350</th>\n",
              "      <td>2188265</td>\n",
              "      <td>38794897</td>\n",
              "      <td>M</td>\n",
              "      <td>37611</td>\n",
              "      <td>Debbie</td>\n",
              "      <td>as always mr. brown is there for the people.</td>\n",
              "      <td>Sherrod Brown</td>\n",
              "      <td>Congress_Democratic</td>\n",
              "      <td>0.346689</td>\n",
              "      <td>W</td>\n",
              "    </tr>\n",
              "    <tr>\n",
              "      <th>421831</th>\n",
              "      <td>3242170</td>\n",
              "      <td>18430916</td>\n",
              "      <td>M</td>\n",
              "      <td>99378</td>\n",
              "      <td>Samantha</td>\n",
              "      <td>i admired you since my teens dear sr! thanks for all these years helping the cuban people</td>\n",
              "      <td>Bob Menendez</td>\n",
              "      <td>Congress_Democratic</td>\n",
              "      <td>0.361926</td>\n",
              "      <td>W</td>\n",
              "    </tr>\n",
              "    <tr>\n",
              "      <th>702008</th>\n",
              "      <td>4951062</td>\n",
              "      <td>46506154</td>\n",
              "      <td>M</td>\n",
              "      <td>160274</td>\n",
              "      <td>Barbara</td>\n",
              "      <td>good luck at the debates!</td>\n",
              "      <td>Marco Rubio</td>\n",
              "      <td>Congress_Republican</td>\n",
              "      <td>0.362442</td>\n",
              "      <td>W</td>\n",
              "    </tr>\n",
              "    <tr>\n",
              "      <th>1269008</th>\n",
              "      <td>7592822</td>\n",
              "      <td>54387439</td>\n",
              "      <td>M</td>\n",
              "      <td>291539</td>\n",
              "      <td>Terry</td>\n",
              "      <td>my, how politically correct seals have become. we wouldnt want the best person for the job , now...</td>\n",
              "      <td>Ryan Zinke</td>\n",
              "      <td>Congress_Republican</td>\n",
              "      <td>0.265777</td>\n",
              "      <td>W</td>\n",
              "    </tr>\n",
              "    <tr>\n",
              "      <th>651195</th>\n",
              "      <td>4900249</td>\n",
              "      <td>46506154</td>\n",
              "      <td>M</td>\n",
              "      <td>160223</td>\n",
              "      <td>Joe</td>\n",
              "      <td>look who is the con-artist,  rubio, a guy from old cuban descendent. if you bring a turkey fom c...</td>\n",
              "      <td>Marco Rubio</td>\n",
              "      <td>Congress_Republican</td>\n",
              "      <td>0.214419</td>\n",
              "      <td>W</td>\n",
              "    </tr>\n",
              "    <tr>\n",
              "      <th>136223</th>\n",
              "      <td>2292081</td>\n",
              "      <td>89989833</td>\n",
              "      <td>M</td>\n",
              "      <td>49092</td>\n",
              "      <td>Brownie</td>\n",
              "      <td>you guys get off it and start demanding action!  please!  this is ridiculous.</td>\n",
              "      <td>Ted Poe</td>\n",
              "      <td>Congress_Republican</td>\n",
              "      <td>0.443442</td>\n",
              "      <td>W</td>\n",
              "    </tr>\n",
              "    <tr>\n",
              "      <th>780163</th>\n",
              "      <td>5029217</td>\n",
              "      <td>46506154</td>\n",
              "      <td>M</td>\n",
              "      <td>160592</td>\n",
              "      <td>William</td>\n",
              "      <td>do you listen to the critics? address those concerns? the mudslinging? it will only get more int...</td>\n",
              "      <td>Marco Rubio</td>\n",
              "      <td>Congress_Republican</td>\n",
              "      <td>0.401647</td>\n",
              "      <td>W</td>\n",
              "    </tr>\n",
              "    <tr>\n",
              "      <th>1329507</th>\n",
              "      <td>7747801</td>\n",
              "      <td>99469231</td>\n",
              "      <td>M</td>\n",
              "      <td>296108</td>\n",
              "      <td>Teresa</td>\n",
              "      <td>finally thank you for speaking up even if it is not popular with your party. you are a \"hero\" wh...</td>\n",
              "      <td>John McCain</td>\n",
              "      <td>Congress_Republican</td>\n",
              "      <td>0.379763</td>\n",
              "      <td>W</td>\n",
              "    </tr>\n",
              "    <tr>\n",
              "      <th>679458</th>\n",
              "      <td>4928512</td>\n",
              "      <td>46506154</td>\n",
              "      <td>M</td>\n",
              "      <td>160235</td>\n",
              "      <td>Shay</td>\n",
              "      <td>you are a worthless lying establishment fraud.</td>\n",
              "      <td>Marco Rubio</td>\n",
              "      <td>Congress_Republican</td>\n",
              "      <td>0.311604</td>\n",
              "      <td>W</td>\n",
              "    </tr>\n",
              "    <tr>\n",
              "      <th>2191043</th>\n",
              "      <td>11332023</td>\n",
              "      <td>95515852</td>\n",
              "      <td>M</td>\n",
              "      <td>403516</td>\n",
              "      <td>Rick</td>\n",
              "      <td>sure, i can speculate!  how about from several years of underfunding and cutting funds for schoo...</td>\n",
              "      <td>Bill Huizenga</td>\n",
              "      <td>Congress_Republican</td>\n",
              "      <td>0.495019</td>\n",
              "      <td>W</td>\n",
              "    </tr>\n",
              "    <tr>\n",
              "      <th>1922064</th>\n",
              "      <td>10971456</td>\n",
              "      <td>86569077</td>\n",
              "      <td>W</td>\n",
              "      <td>389341</td>\n",
              "      <td>Jen</td>\n",
              "      <td>thank you senator gillibrand for voting against betsy devos' nomination.</td>\n",
              "      <td>Kirsten Gillibrand</td>\n",
              "      <td>Congress_Democratic</td>\n",
              "      <td>0.845517</td>\n",
              "      <td>M</td>\n",
              "    </tr>\n",
              "    <tr>\n",
              "      <th>31189</th>\n",
              "      <td>2149104</td>\n",
              "      <td>38794897</td>\n",
              "      <td>M</td>\n",
              "      <td>36577</td>\n",
              "      <td>Ghassan</td>\n",
              "      <td>do not attack our country syria, your country at the wrong side, our army protect our country fr...</td>\n",
              "      <td>Sherrod Brown</td>\n",
              "      <td>Congress_Democratic</td>\n",
              "      <td>0.421798</td>\n",
              "      <td>W</td>\n",
              "    </tr>\n",
              "    <tr>\n",
              "      <th>1538245</th>\n",
              "      <td>7956539</td>\n",
              "      <td>99469231</td>\n",
              "      <td>M</td>\n",
              "      <td>296502</td>\n",
              "      <td>Bryan</td>\n",
              "      <td>could use you and your team in the inland northwest ....</td>\n",
              "      <td>John McCain</td>\n",
              "      <td>Congress_Republican</td>\n",
              "      <td>0.411799</td>\n",
              "      <td>W</td>\n",
              "    </tr>\n",
              "    <tr>\n",
              "      <th>1799691</th>\n",
              "      <td>10322828</td>\n",
              "      <td>32570461</td>\n",
              "      <td>M</td>\n",
              "      <td>382330</td>\n",
              "      <td>Deborah</td>\n",
              "      <td>thank you ... i work with homeless citizens/familis most who are homeless because their paycheck...</td>\n",
              "      <td>Tim Kaine</td>\n",
              "      <td>Congress_Democratic</td>\n",
              "      <td>0.435211</td>\n",
              "      <td>W</td>\n",
              "    </tr>\n",
              "    <tr>\n",
              "      <th>961642</th>\n",
              "      <td>5210696</td>\n",
              "      <td>46506154</td>\n",
              "      <td>M</td>\n",
              "      <td>161294</td>\n",
              "      <td>Adam</td>\n",
              "      <td>rubio, i would damn sure be hesitant of anyone you are promoting after your recent amnesty debac...</td>\n",
              "      <td>Marco Rubio</td>\n",
              "      <td>Congress_Republican</td>\n",
              "      <td>0.493069</td>\n",
              "      <td>W</td>\n",
              "    </tr>\n",
              "    <tr>\n",
              "      <th>344725</th>\n",
              "      <td>2609260</td>\n",
              "      <td>59227815</td>\n",
              "      <td>M</td>\n",
              "      <td>63488</td>\n",
              "      <td>Barbara</td>\n",
              "      <td>your such an a- - you refuse to support trump so that means your for hillary and you think the w...</td>\n",
              "      <td>Paul Ryan</td>\n",
              "      <td>Congress_Republican</td>\n",
              "      <td>0.390061</td>\n",
              "      <td>W</td>\n",
              "    </tr>\n",
              "    <tr>\n",
              "      <th>1515270</th>\n",
              "      <td>7933564</td>\n",
              "      <td>99469231</td>\n",
              "      <td>M</td>\n",
              "      <td>296385</td>\n",
              "      <td>John</td>\n",
              "      <td>sir, i ask you to take a stand on mansanto and their creeping agricultural take over. also the m...</td>\n",
              "      <td>John McCain</td>\n",
              "      <td>Congress_Republican</td>\n",
              "      <td>0.424179</td>\n",
              "      <td>W</td>\n",
              "    </tr>\n",
              "    <tr>\n",
              "      <th>1317292</th>\n",
              "      <td>7735586</td>\n",
              "      <td>99469231</td>\n",
              "      <td>M</td>\n",
              "      <td>296101</td>\n",
              "      <td>Libby</td>\n",
              "      <td>i did not vote for you, but i must say i am grateful for your unwavering service to our country....</td>\n",
              "      <td>John McCain</td>\n",
              "      <td>Congress_Republican</td>\n",
              "      <td>0.404973</td>\n",
              "      <td>W</td>\n",
              "    </tr>\n",
              "    <tr>\n",
              "      <th>1951454</th>\n",
              "      <td>11000846</td>\n",
              "      <td>86569077</td>\n",
              "      <td>W</td>\n",
              "      <td>389558</td>\n",
              "      <td>John</td>\n",
              "      <td>thank you for your support of the p5+1 nuclear agreement with iran. you have demonstrated a real...</td>\n",
              "      <td>Kirsten Gillibrand</td>\n",
              "      <td>Congress_Democratic</td>\n",
              "      <td>0.592341</td>\n",
              "      <td>M</td>\n",
              "    </tr>\n",
              "  </tbody>\n",
              "</table>\n",
              "</div>"
            ],
            "text/plain": [
              "         original_idx     op_id op_gender  ...          op_category     probs preds\n",
              "1142204       5858762  12888814         M  ...  Congress_Democratic  0.461200     W\n",
              "70350         2188265  38794897         M  ...  Congress_Democratic  0.346689     W\n",
              "421831        3242170  18430916         M  ...  Congress_Democratic  0.361926     W\n",
              "702008        4951062  46506154         M  ...  Congress_Republican  0.362442     W\n",
              "1269008       7592822  54387439         M  ...  Congress_Republican  0.265777     W\n",
              "651195        4900249  46506154         M  ...  Congress_Republican  0.214419     W\n",
              "136223        2292081  89989833         M  ...  Congress_Republican  0.443442     W\n",
              "780163        5029217  46506154         M  ...  Congress_Republican  0.401647     W\n",
              "1329507       7747801  99469231         M  ...  Congress_Republican  0.379763     W\n",
              "679458        4928512  46506154         M  ...  Congress_Republican  0.311604     W\n",
              "2191043      11332023  95515852         M  ...  Congress_Republican  0.495019     W\n",
              "1922064      10971456  86569077         W  ...  Congress_Democratic  0.845517     M\n",
              "31189         2149104  38794897         M  ...  Congress_Democratic  0.421798     W\n",
              "1538245       7956539  99469231         M  ...  Congress_Republican  0.411799     W\n",
              "1799691      10322828  32570461         M  ...  Congress_Democratic  0.435211     W\n",
              "961642        5210696  46506154         M  ...  Congress_Republican  0.493069     W\n",
              "344725        2609260  59227815         M  ...  Congress_Republican  0.390061     W\n",
              "1515270       7933564  99469231         M  ...  Congress_Republican  0.424179     W\n",
              "1317292       7735586  99469231         M  ...  Congress_Republican  0.404973     W\n",
              "1951454      11000846  86569077         W  ...  Congress_Democratic  0.592341     M\n",
              "\n",
              "[20 rows x 10 columns]"
            ]
          },
          "metadata": {
            "tags": []
          },
          "execution_count": 40
        }
      ]
    },
    {
      "cell_type": "code",
      "metadata": {
        "id": "qaswseIjHc8j",
        "colab_type": "code",
        "outputId": "f497109a-8095-4687-ecc2-05e40e4eb212",
        "colab": {
          "base_uri": "https://localhost:8080/",
          "height": 858
        }
      },
      "source": [
        "# most confident wrong predictions where the answer was F but they thought M\n",
        "# same as before - references to a male politician \n",
        "wrong_preds.sort_values('probs', ascending=False)[:20]"
      ],
      "execution_count": 41,
      "outputs": [
        {
          "output_type": "execute_result",
          "data": {
            "text/html": [
              "<div>\n",
              "<style scoped>\n",
              "    .dataframe tbody tr th:only-of-type {\n",
              "        vertical-align: middle;\n",
              "    }\n",
              "\n",
              "    .dataframe tbody tr th {\n",
              "        vertical-align: top;\n",
              "    }\n",
              "\n",
              "    .dataframe thead th {\n",
              "        text-align: right;\n",
              "    }\n",
              "</style>\n",
              "<table border=\"1\" class=\"dataframe\">\n",
              "  <thead>\n",
              "    <tr style=\"text-align: right;\">\n",
              "      <th></th>\n",
              "      <th>original_idx</th>\n",
              "      <th>op_id</th>\n",
              "      <th>op_gender</th>\n",
              "      <th>post_id</th>\n",
              "      <th>responder_id</th>\n",
              "      <th>response_text</th>\n",
              "      <th>op_name</th>\n",
              "      <th>op_category</th>\n",
              "      <th>probs</th>\n",
              "      <th>preds</th>\n",
              "    </tr>\n",
              "  </thead>\n",
              "  <tbody>\n",
              "    <tr>\n",
              "      <th>1981700</th>\n",
              "      <td>11031092</td>\n",
              "      <td>86569077</td>\n",
              "      <td>W</td>\n",
              "      <td>389862</td>\n",
              "      <td>Dana</td>\n",
              "      <td>we could use this theory in bloomgburg, ny!!! local government corruption &amp; violations against a...</td>\n",
              "      <td>Kirsten Gillibrand</td>\n",
              "      <td>Congress_Democratic</td>\n",
              "      <td>0.999999</td>\n",
              "      <td>M</td>\n",
              "    </tr>\n",
              "    <tr>\n",
              "      <th>1981701</th>\n",
              "      <td>11031093</td>\n",
              "      <td>86569077</td>\n",
              "      <td>W</td>\n",
              "      <td>389862</td>\n",
              "      <td>Dana</td>\n",
              "      <td>we could use this theory in bloomgburg, ny!!! local government corruption &amp; violations against a...</td>\n",
              "      <td>Kirsten Gillibrand</td>\n",
              "      <td>Congress_Democratic</td>\n",
              "      <td>0.999999</td>\n",
              "      <td>M</td>\n",
              "    </tr>\n",
              "    <tr>\n",
              "      <th>387238</th>\n",
              "      <td>3137329</td>\n",
              "      <td>23984618</td>\n",
              "      <td>W</td>\n",
              "      <td>83488</td>\n",
              "      <td>Raymond</td>\n",
              "      <td>http://crooksandliars.com/2014/05/rep-mckeon-benghazi-evidence-contradicts [[share]]</td>\n",
              "      <td>Ann Wagner</td>\n",
              "      <td>Congress_Republican</td>\n",
              "      <td>0.999999</td>\n",
              "      <td>M</td>\n",
              "    </tr>\n",
              "    <tr>\n",
              "      <th>2043255</th>\n",
              "      <td>11092647</td>\n",
              "      <td>86569077</td>\n",
              "      <td>W</td>\n",
              "      <td>390557</td>\n",
              "      <td>Ernest</td>\n",
              "      <td>@craig ramage - just because some republican judge calls it inconstitutional it doesnt mean it i...</td>\n",
              "      <td>Kirsten Gillibrand</td>\n",
              "      <td>Congress_Democratic</td>\n",
              "      <td>0.999998</td>\n",
              "      <td>M</td>\n",
              "    </tr>\n",
              "    <tr>\n",
              "      <th>1995885</th>\n",
              "      <td>11045277</td>\n",
              "      <td>86569077</td>\n",
              "      <td>W</td>\n",
              "      <td>390010</td>\n",
              "      <td>James</td>\n",
              "      <td>never give up, never surrender! gillibrand 2016</td>\n",
              "      <td>Kirsten Gillibrand</td>\n",
              "      <td>Congress_Democratic</td>\n",
              "      <td>0.999988</td>\n",
              "      <td>M</td>\n",
              "    </tr>\n",
              "    <tr>\n",
              "      <th>2123572</th>\n",
              "      <td>11264552</td>\n",
              "      <td>77234050</td>\n",
              "      <td>W</td>\n",
              "      <td>399731</td>\n",
              "      <td>Carol</td>\n",
              "      <td>http://samuel-warde.com/2013/10/house-gop-busted-senator-van-hollen-conveniently-changing-law-vi...</td>\n",
              "      <td>Cathy McMorris Rodgers</td>\n",
              "      <td>Congress_Republican</td>\n",
              "      <td>0.999983</td>\n",
              "      <td>M</td>\n",
              "    </tr>\n",
              "    <tr>\n",
              "      <th>427436</th>\n",
              "      <td>3360671</td>\n",
              "      <td>76269753</td>\n",
              "      <td>W</td>\n",
              "      <td>103742</td>\n",
              "      <td>Виктор</td>\n",
              "      <td>http://www.bohemian.com/northbay/senator-warbucks/content?oid=2181485 [[share]]</td>\n",
              "      <td>Dianne Feinstein</td>\n",
              "      <td>Congress_Democratic</td>\n",
              "      <td>0.999974</td>\n",
              "      <td>M</td>\n",
              "    </tr>\n",
              "    <tr>\n",
              "      <th>429155</th>\n",
              "      <td>3362390</td>\n",
              "      <td>76269753</td>\n",
              "      <td>W</td>\n",
              "      <td>103745</td>\n",
              "      <td>Виктор</td>\n",
              "      <td>http://www.bohemian.com/northbay/senator-warbucks/content?oid=2181485 [[share]]</td>\n",
              "      <td>Dianne Feinstein</td>\n",
              "      <td>Congress_Democratic</td>\n",
              "      <td>0.999974</td>\n",
              "      <td>M</td>\n",
              "    </tr>\n",
              "    <tr>\n",
              "      <th>1930513</th>\n",
              "      <td>10979905</td>\n",
              "      <td>86569077</td>\n",
              "      <td>W</td>\n",
              "      <td>389357</td>\n",
              "      <td>Jeremy</td>\n",
              "      <td>thank you senator gillibrand. just called my senator, durbin, to ask him to support your filibus...</td>\n",
              "      <td>Kirsten Gillibrand</td>\n",
              "      <td>Congress_Democratic</td>\n",
              "      <td>0.999952</td>\n",
              "      <td>M</td>\n",
              "    </tr>\n",
              "    <tr>\n",
              "      <th>2051378</th>\n",
              "      <td>11100770</td>\n",
              "      <td>86569077</td>\n",
              "      <td>W</td>\n",
              "      <td>390722</td>\n",
              "      <td>John</td>\n",
              "      <td>franken / gillibrand 2016</td>\n",
              "      <td>Kirsten Gillibrand</td>\n",
              "      <td>Congress_Democratic</td>\n",
              "      <td>0.999951</td>\n",
              "      <td>M</td>\n",
              "    </tr>\n",
              "    <tr>\n",
              "      <th>2051010</th>\n",
              "      <td>11100402</td>\n",
              "      <td>86569077</td>\n",
              "      <td>W</td>\n",
              "      <td>390708</td>\n",
              "      <td>John</td>\n",
              "      <td>franken / gillibrand 2016.</td>\n",
              "      <td>Kirsten Gillibrand</td>\n",
              "      <td>Congress_Democratic</td>\n",
              "      <td>0.999951</td>\n",
              "      <td>M</td>\n",
              "    </tr>\n",
              "    <tr>\n",
              "      <th>2050895</th>\n",
              "      <td>11100287</td>\n",
              "      <td>86569077</td>\n",
              "      <td>W</td>\n",
              "      <td>390703</td>\n",
              "      <td>John</td>\n",
              "      <td>franken - gillibrand 2016</td>\n",
              "      <td>Kirsten Gillibrand</td>\n",
              "      <td>Congress_Democratic</td>\n",
              "      <td>0.999951</td>\n",
              "      <td>M</td>\n",
              "    </tr>\n",
              "    <tr>\n",
              "      <th>1993131</th>\n",
              "      <td>11042523</td>\n",
              "      <td>86569077</td>\n",
              "      <td>W</td>\n",
              "      <td>389977</td>\n",
              "      <td>Colleen</td>\n",
              "      <td>you mean mr paul mark?  rand opportunist paul?</td>\n",
              "      <td>Kirsten Gillibrand</td>\n",
              "      <td>Congress_Democratic</td>\n",
              "      <td>0.999940</td>\n",
              "      <td>M</td>\n",
              "    </tr>\n",
              "    <tr>\n",
              "      <th>2080365</th>\n",
              "      <td>11221345</td>\n",
              "      <td>77234050</td>\n",
              "      <td>W</td>\n",
              "      <td>399141</td>\n",
              "      <td>Janet</td>\n",
              "      <td>what is the status on reauthorizing and fully funding zadroga?</td>\n",
              "      <td>Cathy McMorris Rodgers</td>\n",
              "      <td>Congress_Republican</td>\n",
              "      <td>0.999931</td>\n",
              "      <td>M</td>\n",
              "    </tr>\n",
              "    <tr>\n",
              "      <th>398184</th>\n",
              "      <td>3148275</td>\n",
              "      <td>23984618</td>\n",
              "      <td>W</td>\n",
              "      <td>83728</td>\n",
              "      <td>Ann</td>\n",
              "      <td>http://www.huffingtonpost.com/2013/09/18/lindsey-graham-tea-party-obamacare_n_3944833.html?ref=t...</td>\n",
              "      <td>Ann Wagner</td>\n",
              "      <td>Congress_Republican</td>\n",
              "      <td>0.999923</td>\n",
              "      <td>M</td>\n",
              "    </tr>\n",
              "    <tr>\n",
              "      <th>2125442</th>\n",
              "      <td>11266422</td>\n",
              "      <td>77234050</td>\n",
              "      <td>W</td>\n",
              "      <td>399737</td>\n",
              "      <td>Marilyn</td>\n",
              "      <td>the rand/mitch exchange is nothing different than the strategic planning the dems do.</td>\n",
              "      <td>Cathy McMorris Rodgers</td>\n",
              "      <td>Congress_Republican</td>\n",
              "      <td>0.999921</td>\n",
              "      <td>M</td>\n",
              "    </tr>\n",
              "    <tr>\n",
              "      <th>2029268</th>\n",
              "      <td>11078660</td>\n",
              "      <td>86569077</td>\n",
              "      <td>W</td>\n",
              "      <td>390336</td>\n",
              "      <td>John</td>\n",
              "      <td>you voted for the ndaa, senator gillibrand.  you know nothing about freedom.</td>\n",
              "      <td>Kirsten Gillibrand</td>\n",
              "      <td>Congress_Democratic</td>\n",
              "      <td>0.999914</td>\n",
              "      <td>M</td>\n",
              "    </tr>\n",
              "    <tr>\n",
              "      <th>2049851</th>\n",
              "      <td>11099243</td>\n",
              "      <td>86569077</td>\n",
              "      <td>W</td>\n",
              "      <td>390676</td>\n",
              "      <td>Timothy</td>\n",
              "      <td>wow, ms. gillibrand - you sure have a lot of seditious teabagging anti-american right-wing troll...</td>\n",
              "      <td>Kirsten Gillibrand</td>\n",
              "      <td>Congress_Democratic</td>\n",
              "      <td>0.999904</td>\n",
              "      <td>M</td>\n",
              "    </tr>\n",
              "    <tr>\n",
              "      <th>1946409</th>\n",
              "      <td>10995801</td>\n",
              "      <td>86569077</td>\n",
              "      <td>W</td>\n",
              "      <td>389503</td>\n",
              "      <td>Marsha</td>\n",
              "      <td>I am pretty sure my congressman  (higgins-buffalo) is in favor! not so sure about the other wny ...</td>\n",
              "      <td>Kirsten Gillibrand</td>\n",
              "      <td>Congress_Democratic</td>\n",
              "      <td>0.999889</td>\n",
              "      <td>M</td>\n",
              "    </tr>\n",
              "    <tr>\n",
              "      <th>1909060</th>\n",
              "      <td>10958452</td>\n",
              "      <td>86569077</td>\n",
              "      <td>W</td>\n",
              "      <td>389335</td>\n",
              "      <td>Marilyn</td>\n",
              "      <td>and you lie for sen schumer. hmmm, interesting...</td>\n",
              "      <td>Kirsten Gillibrand</td>\n",
              "      <td>Congress_Democratic</td>\n",
              "      <td>0.999872</td>\n",
              "      <td>M</td>\n",
              "    </tr>\n",
              "  </tbody>\n",
              "</table>\n",
              "</div>"
            ],
            "text/plain": [
              "         original_idx     op_id op_gender  ...          op_category     probs preds\n",
              "1981700      11031092  86569077         W  ...  Congress_Democratic  0.999999     M\n",
              "1981701      11031093  86569077         W  ...  Congress_Democratic  0.999999     M\n",
              "387238        3137329  23984618         W  ...  Congress_Republican  0.999999     M\n",
              "2043255      11092647  86569077         W  ...  Congress_Democratic  0.999998     M\n",
              "1995885      11045277  86569077         W  ...  Congress_Democratic  0.999988     M\n",
              "2123572      11264552  77234050         W  ...  Congress_Republican  0.999983     M\n",
              "427436        3360671  76269753         W  ...  Congress_Democratic  0.999974     M\n",
              "429155        3362390  76269753         W  ...  Congress_Democratic  0.999974     M\n",
              "1930513      10979905  86569077         W  ...  Congress_Democratic  0.999952     M\n",
              "2051378      11100770  86569077         W  ...  Congress_Democratic  0.999951     M\n",
              "2051010      11100402  86569077         W  ...  Congress_Democratic  0.999951     M\n",
              "2050895      11100287  86569077         W  ...  Congress_Democratic  0.999951     M\n",
              "1993131      11042523  86569077         W  ...  Congress_Democratic  0.999940     M\n",
              "2080365      11221345  77234050         W  ...  Congress_Republican  0.999931     M\n",
              "398184        3148275  23984618         W  ...  Congress_Republican  0.999923     M\n",
              "2125442      11266422  77234050         W  ...  Congress_Republican  0.999921     M\n",
              "2029268      11078660  86569077         W  ...  Congress_Democratic  0.999914     M\n",
              "2049851      11099243  86569077         W  ...  Congress_Democratic  0.999904     M\n",
              "1946409      10995801  86569077         W  ...  Congress_Democratic  0.999889     M\n",
              "1909060      10958452  86569077         W  ...  Congress_Democratic  0.999872     M\n",
              "\n",
              "[20 rows x 10 columns]"
            ]
          },
          "metadata": {
            "tags": []
          },
          "execution_count": 41
        }
      ]
    },
    {
      "cell_type": "code",
      "metadata": {
        "id": "KoJzrEOfIct2",
        "colab_type": "code",
        "outputId": "85e56d6e-e7f9-4ba3-aa7a-b7110a5e8982",
        "colab": {
          "base_uri": "https://localhost:8080/",
          "height": 942
        }
      },
      "source": [
        "# most confident wrong predictions where the answer was F but they thought M\n",
        "# same as before - references to a male politician \n",
        "wrong_preds.sort_values('probs', ascending=True)[:20]"
      ],
      "execution_count": 42,
      "outputs": [
        {
          "output_type": "execute_result",
          "data": {
            "text/html": [
              "<div>\n",
              "<style scoped>\n",
              "    .dataframe tbody tr th:only-of-type {\n",
              "        vertical-align: middle;\n",
              "    }\n",
              "\n",
              "    .dataframe tbody tr th {\n",
              "        vertical-align: top;\n",
              "    }\n",
              "\n",
              "    .dataframe thead th {\n",
              "        text-align: right;\n",
              "    }\n",
              "</style>\n",
              "<table border=\"1\" class=\"dataframe\">\n",
              "  <thead>\n",
              "    <tr style=\"text-align: right;\">\n",
              "      <th></th>\n",
              "      <th>original_idx</th>\n",
              "      <th>op_id</th>\n",
              "      <th>op_gender</th>\n",
              "      <th>post_id</th>\n",
              "      <th>responder_id</th>\n",
              "      <th>response_text</th>\n",
              "      <th>op_name</th>\n",
              "      <th>op_category</th>\n",
              "      <th>probs</th>\n",
              "      <th>preds</th>\n",
              "    </tr>\n",
              "  </thead>\n",
              "  <tbody>\n",
              "    <tr>\n",
              "      <th>90369</th>\n",
              "      <td>2208284</td>\n",
              "      <td>38794897</td>\n",
              "      <td>M</td>\n",
              "      <td>38359</td>\n",
              "      <td>Mb</td>\n",
              "      <td>well, steve, do not you know that when people complain about congress, they ususally are not com...</td>\n",
              "      <td>Sherrod Brown</td>\n",
              "      <td>Congress_Democratic</td>\n",
              "      <td>0.000009</td>\n",
              "      <td>W</td>\n",
              "    </tr>\n",
              "    <tr>\n",
              "      <th>991634</th>\n",
              "      <td>5240688</td>\n",
              "      <td>46506154</td>\n",
              "      <td>M</td>\n",
              "      <td>161317</td>\n",
              "      <td>Laura</td>\n",
              "      <td>keep the faith ms. ayotte, you are good for new hampshire and our country !!  you have more supp...</td>\n",
              "      <td>Marco Rubio</td>\n",
              "      <td>Congress_Republican</td>\n",
              "      <td>0.000019</td>\n",
              "      <td>W</td>\n",
              "    </tr>\n",
              "    <tr>\n",
              "      <th>887546</th>\n",
              "      <td>5136600</td>\n",
              "      <td>46506154</td>\n",
              "      <td>M</td>\n",
              "      <td>160986</td>\n",
              "      <td>Kim</td>\n",
              "      <td>good luck joni...................jan</td>\n",
              "      <td>Marco Rubio</td>\n",
              "      <td>Congress_Republican</td>\n",
              "      <td>0.000059</td>\n",
              "      <td>W</td>\n",
              "    </tr>\n",
              "    <tr>\n",
              "      <th>889894</th>\n",
              "      <td>5138948</td>\n",
              "      <td>46506154</td>\n",
              "      <td>M</td>\n",
              "      <td>161005</td>\n",
              "      <td>Sven</td>\n",
              "      <td>please send jeanne shaheen back to minnesota.</td>\n",
              "      <td>Marco Rubio</td>\n",
              "      <td>Congress_Republican</td>\n",
              "      <td>0.000060</td>\n",
              "      <td>W</td>\n",
              "    </tr>\n",
              "    <tr>\n",
              "      <th>1160577</th>\n",
              "      <td>6216173</td>\n",
              "      <td>20416792</td>\n",
              "      <td>M</td>\n",
              "      <td>222328</td>\n",
              "      <td>Sandy</td>\n",
              "      <td>is this the one co sponsored with rep. mia b love ? thank you</td>\n",
              "      <td>Trent Kelly</td>\n",
              "      <td>Congress_Republican</td>\n",
              "      <td>0.000069</td>\n",
              "      <td>W</td>\n",
              "    </tr>\n",
              "    <tr>\n",
              "      <th>1132701</th>\n",
              "      <td>5381755</td>\n",
              "      <td>46506154</td>\n",
              "      <td>M</td>\n",
              "      <td>162152</td>\n",
              "      <td>Laura</td>\n",
              "      <td>congressional candidate frank guinta did this in nh!</td>\n",
              "      <td>Marco Rubio</td>\n",
              "      <td>Congress_Republican</td>\n",
              "      <td>0.000094</td>\n",
              "      <td>W</td>\n",
              "    </tr>\n",
              "    <tr>\n",
              "      <th>2180513</th>\n",
              "      <td>11321493</td>\n",
              "      <td>95515852</td>\n",
              "      <td>M</td>\n",
              "      <td>402017</td>\n",
              "      <td>Muha</td>\n",
              "      <td>love u jan</td>\n",
              "      <td>Bill Huizenga</td>\n",
              "      <td>Congress_Republican</td>\n",
              "      <td>0.000104</td>\n",
              "      <td>W</td>\n",
              "    </tr>\n",
              "    <tr>\n",
              "      <th>900111</th>\n",
              "      <td>5149165</td>\n",
              "      <td>46506154</td>\n",
              "      <td>M</td>\n",
              "      <td>161080</td>\n",
              "      <td>Teresa</td>\n",
              "      <td>patty murray has declared a war on women and religion. shame on her!!</td>\n",
              "      <td>Marco Rubio</td>\n",
              "      <td>Congress_Republican</td>\n",
              "      <td>0.000115</td>\n",
              "      <td>W</td>\n",
              "    </tr>\n",
              "    <tr>\n",
              "      <th>709620</th>\n",
              "      <td>4958674</td>\n",
              "      <td>46506154</td>\n",
              "      <td>M</td>\n",
              "      <td>160284</td>\n",
              "      <td>David</td>\n",
              "      <td>puppeteers of the unsustainable establishment need to retire from politricks and stop making dec...</td>\n",
              "      <td>Marco Rubio</td>\n",
              "      <td>Congress_Republican</td>\n",
              "      <td>0.000116</td>\n",
              "      <td>W</td>\n",
              "    </tr>\n",
              "    <tr>\n",
              "      <th>2204222</th>\n",
              "      <td>11908399</td>\n",
              "      <td>17310</td>\n",
              "      <td>M</td>\n",
              "      <td>440152</td>\n",
              "      <td>Carlos</td>\n",
              "      <td>http://petitions.moveon.org/sign/senator-stabenow-support</td>\n",
              "      <td>Sander Levin</td>\n",
              "      <td>Congress_Democratic</td>\n",
              "      <td>0.000121</td>\n",
              "      <td>W</td>\n",
              "    </tr>\n",
              "    <tr>\n",
              "      <th>696041</th>\n",
              "      <td>4945095</td>\n",
              "      <td>46506154</td>\n",
              "      <td>M</td>\n",
              "      <td>160263</td>\n",
              "      <td>Susan</td>\n",
              "      <td>marco !!!  best of luck today -- i wish i lived in nh so i could vote for you --- you are amazin...</td>\n",
              "      <td>Marco Rubio</td>\n",
              "      <td>Congress_Republican</td>\n",
              "      <td>0.000129</td>\n",
              "      <td>W</td>\n",
              "    </tr>\n",
              "    <tr>\n",
              "      <th>901117</th>\n",
              "      <td>5150171</td>\n",
              "      <td>46506154</td>\n",
              "      <td>M</td>\n",
              "      <td>161080</td>\n",
              "      <td>Sandy</td>\n",
              "      <td>there she is.....patty murray........dumber than a box of rocks!</td>\n",
              "      <td>Marco Rubio</td>\n",
              "      <td>Congress_Republican</td>\n",
              "      <td>0.000139</td>\n",
              "      <td>W</td>\n",
              "    </tr>\n",
              "    <tr>\n",
              "      <th>1869763</th>\n",
              "      <td>10902691</td>\n",
              "      <td>10458808</td>\n",
              "      <td>M</td>\n",
              "      <td>385776</td>\n",
              "      <td>Kelly</td>\n",
              "      <td>quality time for bernie and tulsi to work on superdelegates!</td>\n",
              "      <td>Mark Takano</td>\n",
              "      <td>Congress_Democratic</td>\n",
              "      <td>0.000159</td>\n",
              "      <td>W</td>\n",
              "    </tr>\n",
              "    <tr>\n",
              "      <th>900487</th>\n",
              "      <td>5149541</td>\n",
              "      <td>46506154</td>\n",
              "      <td>M</td>\n",
              "      <td>161080</td>\n",
              "      <td>Michael</td>\n",
              "      <td>somebody will have to convince me that patty murray is a woman.</td>\n",
              "      <td>Marco Rubio</td>\n",
              "      <td>Congress_Republican</td>\n",
              "      <td>0.000161</td>\n",
              "      <td>W</td>\n",
              "    </tr>\n",
              "    <tr>\n",
              "      <th>1855248</th>\n",
              "      <td>10888176</td>\n",
              "      <td>10458808</td>\n",
              "      <td>M</td>\n",
              "      <td>385767</td>\n",
              "      <td>Karen</td>\n",
              "      <td>thank you representative esty, for fighting this fight for years!</td>\n",
              "      <td>Mark Takano</td>\n",
              "      <td>Congress_Democratic</td>\n",
              "      <td>0.000168</td>\n",
              "      <td>W</td>\n",
              "    </tr>\n",
              "    <tr>\n",
              "      <th>15031</th>\n",
              "      <td>2132946</td>\n",
              "      <td>38794897</td>\n",
              "      <td>M</td>\n",
              "      <td>36338</td>\n",
              "      <td>Tasha</td>\n",
              "      <td>sherrod brown, please endorse senator sanders for president!  #berniesanders2016</td>\n",
              "      <td>Sherrod Brown</td>\n",
              "      <td>Congress_Democratic</td>\n",
              "      <td>0.000176</td>\n",
              "      <td>W</td>\n",
              "    </tr>\n",
              "    <tr>\n",
              "      <th>1806560</th>\n",
              "      <td>10329697</td>\n",
              "      <td>32570461</td>\n",
              "      <td>M</td>\n",
              "      <td>382375</td>\n",
              "      <td>Dave</td>\n",
              "      <td>angus king is a former governor of the state of maine. did you also make friends with former new...</td>\n",
              "      <td>Tim Kaine</td>\n",
              "      <td>Congress_Democratic</td>\n",
              "      <td>0.000180</td>\n",
              "      <td>W</td>\n",
              "    </tr>\n",
              "    <tr>\n",
              "      <th>181521</th>\n",
              "      <td>2358273</td>\n",
              "      <td>62246450</td>\n",
              "      <td>M</td>\n",
              "      <td>52502</td>\n",
              "      <td>Annie</td>\n",
              "      <td>keep going elizabeth! we support you!</td>\n",
              "      <td>Ron Wyden</td>\n",
              "      <td>Congress_Democratic</td>\n",
              "      <td>0.000180</td>\n",
              "      <td>W</td>\n",
              "    </tr>\n",
              "    <tr>\n",
              "      <th>1870185</th>\n",
              "      <td>10903113</td>\n",
              "      <td>10458808</td>\n",
              "      <td>M</td>\n",
              "      <td>385776</td>\n",
              "      <td>Hannah</td>\n",
              "      <td>i see tulsi!</td>\n",
              "      <td>Mark Takano</td>\n",
              "      <td>Congress_Democratic</td>\n",
              "      <td>0.000185</td>\n",
              "      <td>W</td>\n",
              "    </tr>\n",
              "    <tr>\n",
              "      <th>1771059</th>\n",
              "      <td>10294196</td>\n",
              "      <td>32570461</td>\n",
              "      <td>M</td>\n",
              "      <td>382168</td>\n",
              "      <td>Cee</td>\n",
              "      <td>waiting for my ballot.  voting clinton/kaine, kamala harris and bryan caforio!  straight blue!</td>\n",
              "      <td>Tim Kaine</td>\n",
              "      <td>Congress_Democratic</td>\n",
              "      <td>0.000196</td>\n",
              "      <td>W</td>\n",
              "    </tr>\n",
              "  </tbody>\n",
              "</table>\n",
              "</div>"
            ],
            "text/plain": [
              "         original_idx     op_id op_gender  ...          op_category     probs preds\n",
              "90369         2208284  38794897         M  ...  Congress_Democratic  0.000009     W\n",
              "991634        5240688  46506154         M  ...  Congress_Republican  0.000019     W\n",
              "887546        5136600  46506154         M  ...  Congress_Republican  0.000059     W\n",
              "889894        5138948  46506154         M  ...  Congress_Republican  0.000060     W\n",
              "1160577       6216173  20416792         M  ...  Congress_Republican  0.000069     W\n",
              "1132701       5381755  46506154         M  ...  Congress_Republican  0.000094     W\n",
              "2180513      11321493  95515852         M  ...  Congress_Republican  0.000104     W\n",
              "900111        5149165  46506154         M  ...  Congress_Republican  0.000115     W\n",
              "709620        4958674  46506154         M  ...  Congress_Republican  0.000116     W\n",
              "2204222      11908399     17310         M  ...  Congress_Democratic  0.000121     W\n",
              "696041        4945095  46506154         M  ...  Congress_Republican  0.000129     W\n",
              "901117        5150171  46506154         M  ...  Congress_Republican  0.000139     W\n",
              "1869763      10902691  10458808         M  ...  Congress_Democratic  0.000159     W\n",
              "900487        5149541  46506154         M  ...  Congress_Republican  0.000161     W\n",
              "1855248      10888176  10458808         M  ...  Congress_Democratic  0.000168     W\n",
              "15031         2132946  38794897         M  ...  Congress_Democratic  0.000176     W\n",
              "1806560      10329697  32570461         M  ...  Congress_Democratic  0.000180     W\n",
              "181521        2358273  62246450         M  ...  Congress_Democratic  0.000180     W\n",
              "1870185      10903113  10458808         M  ...  Congress_Democratic  0.000185     W\n",
              "1771059      10294196  32570461         M  ...  Congress_Democratic  0.000196     W\n",
              "\n",
              "[20 rows x 10 columns]"
            ]
          },
          "metadata": {
            "tags": []
          },
          "execution_count": 42
        }
      ]
    }
  ]
}
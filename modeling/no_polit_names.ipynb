{
  "nbformat": 4,
  "nbformat_minor": 0,
  "metadata": {
    "kernelspec": {
      "name": "python3",
      "display_name": "Python 3"
    },
    "language_info": {
      "codemirror_mode": {
        "name": "ipython",
        "version": 3
      },
      "file_extension": ".py",
      "mimetype": "text/x-python",
      "name": "python",
      "nbconvert_exporter": "python",
      "pygments_lexer": "ipython3",
      "version": "3.7.4"
    },
    "colab": {
      "name": "no_polit_names.ipynb",
      "provenance": [],
      "machine_shape": "hm",
      "include_colab_link": true
    },
    "accelerator": "TPU"
  },
  "cells": [
    {
      "cell_type": "markdown",
      "metadata": {
        "id": "view-in-github",
        "colab_type": "text"
      },
      "source": [
        "<a href=\"https://colab.research.google.com/github/emrapport/w266-final-project/blob/master/modeling/no_polit_names.ipynb\" target=\"_parent\"><img src=\"https://colab.research.google.com/assets/colab-badge.svg\" alt=\"Open In Colab\"/></a>"
      ]
    },
    {
      "cell_type": "markdown",
      "metadata": {
        "id": "ldVKPuCY1oqk",
        "colab_type": "text"
      },
      "source": [
        "## Remove names of politicians.\n",
        "\n"
      ]
    },
    {
      "cell_type": "code",
      "metadata": {
        "id": "dJtCeCgbSs0D",
        "colab_type": "code",
        "colab": {}
      },
      "source": [
        "# this notebook is based off of this blog post: \n",
        "# https://realpython.com/python-keras-text-classification/#reader-comments"
      ],
      "execution_count": 0,
      "outputs": []
    },
    {
      "cell_type": "code",
      "metadata": {
        "id": "_QYIGfoPFRZK",
        "colab_type": "code",
        "colab": {}
      },
      "source": [
        "DATASET_NAME = \"no_politicians\"\n",
        "MODEL_NAME = \"no_politicians\"\n",
        "MAX_SEQ_LENGTH = 20\n",
        "TRAINING_SET_SIZE = 4000000\n",
        "VAL_SET_SIZE = 2000000\n",
        "NUM_EPOCHS = 30\n",
        "BATCH_SIZE = 1000\n",
        "MAX_SEQUENCE_LENGTH = 20\n",
        "\n",
        "\n",
        "# I don't think we have a good reason to do this right now\n",
        "# but we might eventually \n",
        "SAVE_TOKENIZED_DATA = False"
      ],
      "execution_count": 0,
      "outputs": []
    },
    {
      "cell_type": "code",
      "metadata": {
        "id": "l0rrZSx7Ss0M",
        "colab_type": "code",
        "outputId": "80fa1b1a-c133-411b-94e8-a67497554a29",
        "colab": {
          "base_uri": "https://localhost:8080/",
          "height": 316
        }
      },
      "source": [
        "from sklearn.linear_model import LogisticRegression\n",
        "from sklearn.feature_extraction.text import HashingVectorizer\n",
        "from scipy.sparse import hstack, vstack\n",
        "from keras.preprocessing.text import Tokenizer\n",
        "from tensorflow.keras import Sequential, layers\n",
        "from keras.utils import plot_model\n",
        "import pandas as pd\n",
        "import numpy as np\n",
        "import copy\n",
        "import time\n",
        "import pickle\n",
        "!pip install gcsfs\n",
        "\n",
        "pd.set_option('max_colwidth', 100)"
      ],
      "execution_count": 64,
      "outputs": [
        {
          "output_type": "stream",
          "text": [
            "Requirement already satisfied: gcsfs in /usr/local/lib/python3.6/dist-packages (0.3.1)\n",
            "Requirement already satisfied: fsspec>=0.2.2 in /usr/local/lib/python3.6/dist-packages (from gcsfs) (0.5.2)\n",
            "Requirement already satisfied: requests in /usr/local/lib/python3.6/dist-packages (from gcsfs) (2.21.0)\n",
            "Requirement already satisfied: google-auth>=1.2 in /usr/local/lib/python3.6/dist-packages (from gcsfs) (1.4.2)\n",
            "Requirement already satisfied: decorator in /usr/local/lib/python3.6/dist-packages (from gcsfs) (4.4.1)\n",
            "Requirement already satisfied: google-auth-oauthlib in /usr/local/lib/python3.6/dist-packages (from gcsfs) (0.4.1)\n",
            "Requirement already satisfied: chardet<3.1.0,>=3.0.2 in /usr/local/lib/python3.6/dist-packages (from requests->gcsfs) (3.0.4)\n",
            "Requirement already satisfied: certifi>=2017.4.17 in /usr/local/lib/python3.6/dist-packages (from requests->gcsfs) (2019.9.11)\n",
            "Requirement already satisfied: urllib3<1.25,>=1.21.1 in /usr/local/lib/python3.6/dist-packages (from requests->gcsfs) (1.24.3)\n",
            "Requirement already satisfied: idna<2.9,>=2.5 in /usr/local/lib/python3.6/dist-packages (from requests->gcsfs) (2.8)\n",
            "Requirement already satisfied: six>=1.9.0 in /usr/local/lib/python3.6/dist-packages (from google-auth>=1.2->gcsfs) (1.12.0)\n",
            "Requirement already satisfied: rsa>=3.1.4 in /usr/local/lib/python3.6/dist-packages (from google-auth>=1.2->gcsfs) (4.0)\n",
            "Requirement already satisfied: cachetools>=2.0.0 in /usr/local/lib/python3.6/dist-packages (from google-auth>=1.2->gcsfs) (3.1.1)\n",
            "Requirement already satisfied: pyasn1-modules>=0.2.1 in /usr/local/lib/python3.6/dist-packages (from google-auth>=1.2->gcsfs) (0.2.7)\n",
            "Requirement already satisfied: requests-oauthlib>=0.7.0 in /usr/local/lib/python3.6/dist-packages (from google-auth-oauthlib->gcsfs) (1.3.0)\n",
            "Requirement already satisfied: pyasn1>=0.1.3 in /usr/local/lib/python3.6/dist-packages (from rsa>=3.1.4->google-auth>=1.2->gcsfs) (0.4.7)\n",
            "Requirement already satisfied: oauthlib>=3.0.0 in /usr/local/lib/python3.6/dist-packages (from requests-oauthlib>=0.7.0->google-auth-oauthlib->gcsfs) (3.1.0)\n"
          ],
          "name": "stdout"
        }
      ]
    },
    {
      "cell_type": "code",
      "metadata": {
        "id": "lKNfUKrfUgP-",
        "colab_type": "code",
        "outputId": "ab4f3d92-371f-4345-ff4f-f3912b2ffcb1",
        "colab": {
          "base_uri": "https://localhost:8080/",
          "height": 34
        }
      },
      "source": [
        "# this cell is only necessary if running in colab\n",
        "project_id = 'w266-251323'\n",
        "import uuid\n",
        "bucket_name = 'fb-congressional-data/'\n",
        "from google.colab import auth\n",
        "auth.authenticate_user()\n",
        "!gcloud config set project {project_id}"
      ],
      "execution_count": 65,
      "outputs": [
        {
          "output_type": "stream",
          "text": [
            "Updated property [core/project].\n"
          ],
          "name": "stdout"
        }
      ]
    },
    {
      "cell_type": "code",
      "metadata": {
        "id": "9T7PzdLQSs0j",
        "colab_type": "code",
        "outputId": "f9d430a6-0c48-4998-c72f-7af5c40a3065",
        "colab": {
          "base_uri": "https://localhost:8080/",
          "height": 72
        }
      },
      "source": [
        "train_df = pd.read_csv(\"gs://fb-congressional-data/contraction_expanded_data/train.csv\", index_col=0)"
      ],
      "execution_count": 4,
      "outputs": [
        {
          "output_type": "stream",
          "text": [
            "/usr/local/lib/python3.6/dist-packages/numpy/lib/arraysetops.py:568: FutureWarning: elementwise comparison failed; returning scalar instead, but in the future will perform elementwise comparison\n",
            "  mask |= (ar1 == a)\n"
          ],
          "name": "stderr"
        }
      ]
    },
    {
      "cell_type": "code",
      "metadata": {
        "id": "0iOniVLISs0m",
        "colab_type": "code",
        "outputId": "97e83c6d-e3cf-45db-8012-d10cf542756e",
        "colab": {
          "base_uri": "https://localhost:8080/",
          "height": 72
        }
      },
      "source": [
        "dev_df = pd.read_csv(\"gs://fb-congressional-data/contraction_expanded_data/dev.csv\", index_col=0)"
      ],
      "execution_count": 5,
      "outputs": [
        {
          "output_type": "stream",
          "text": [
            "/usr/local/lib/python3.6/dist-packages/numpy/lib/arraysetops.py:568: FutureWarning: elementwise comparison failed; returning scalar instead, but in the future will perform elementwise comparison\n",
            "  mask |= (ar1 == a)\n"
          ],
          "name": "stderr"
        }
      ]
    },
    {
      "cell_type": "code",
      "metadata": {
        "id": "dk4goOwAPXRH",
        "colab_type": "code",
        "outputId": "505510aa-bbde-411e-98c7-364f6c556ab4",
        "colab": {
          "base_uri": "https://localhost:8080/",
          "height": 34
        }
      },
      "source": [
        "len(train_df)"
      ],
      "execution_count": 0,
      "outputs": [
        {
          "output_type": "execute_result",
          "data": {
            "text/plain": [
              "9879016"
            ]
          },
          "metadata": {
            "tags": []
          },
          "execution_count": 6
        }
      ]
    },
    {
      "cell_type": "code",
      "metadata": {
        "id": "6sOBM6Q6Q4Mz",
        "colab_type": "code",
        "outputId": "79a2cdfb-9f9f-4155-c418-18149da05a94",
        "colab": {
          "base_uri": "https://localhost:8080/",
          "height": 34
        }
      },
      "source": [
        "len(dev_df)"
      ],
      "execution_count": 0,
      "outputs": [
        {
          "output_type": "execute_result",
          "data": {
            "text/plain": [
              "2292907"
            ]
          },
          "metadata": {
            "tags": []
          },
          "execution_count": 7
        }
      ]
    },
    {
      "cell_type": "code",
      "metadata": {
        "id": "pa0X18XgNgip",
        "colab_type": "code",
        "colab": {}
      },
      "source": [
        "# Get a list of the politicians' names.\n",
        "# I am using just the names listed in the op_name series.\n",
        "polit_names = train_df['op_name']\n",
        "polit_names2 = dev_df['op_name']\n",
        "polit_names.drop_duplicates(inplace=True)\n",
        "polit_names2.drop_duplicates(inplace=True)\n",
        "\n",
        "full_names_list = polit_names.to_list() + polit_names2.to_list()\n",
        "polit_names_list = [name for names in full_names_list for name in names.split()]\n",
        "# Dedup the list again now that it's split.\n",
        "new_list = []\n",
        "for name in polit_names_list:\n",
        "    if name.lower() not in new_list:\n",
        "        new_list.append(name.lower())\n",
        "polit_names_list = new_list"
      ],
      "execution_count": 0,
      "outputs": []
    },
    {
      "cell_type": "code",
      "metadata": {
        "id": "s-GTOd_wmRzq",
        "colab_type": "code",
        "outputId": "0105b9df-c7b3-47f4-b24d-c3d8fa3ef864",
        "colab": {
          "base_uri": "https://localhost:8080/",
          "height": 34
        }
      },
      "source": [
        "len(polit_names_list)"
      ],
      "execution_count": 25,
      "outputs": [
        {
          "output_type": "execute_result",
          "data": {
            "text/plain": [
              "512"
            ]
          },
          "metadata": {
            "tags": []
          },
          "execution_count": 25
        }
      ]
    },
    {
      "cell_type": "code",
      "metadata": {
        "id": "LSf14vtQ2_6b",
        "colab_type": "code",
        "colab": {}
      },
      "source": [
        "# Remove initials and names that are words with common meaning.\n",
        "common_word_list = ['rob','blunt','king','mark','bob','jan','chuck','rod','love','sessions','buddy','mast',\n",
        "                    'bill','holding','drew','waters','gene','green','jerry','young','brat','clay','bass',\n",
        "                    'rice','jack','hatch','van','buck','tester','dick','g.','brown','fudge','dean','don',\n",
        "                    'slaughter','banks','f.','lynch','flake','sires','robin']\n",
        "new_list = []\n",
        "for name in polit_names_list:\n",
        "    if name not in common_word_list:\n",
        "        new_list.append(name)\n",
        "polit_names_list = new_list"
      ],
      "execution_count": 0,
      "outputs": []
    },
    {
      "cell_type": "code",
      "metadata": {
        "id": "ko5da-LW3rz2",
        "colab_type": "code",
        "colab": {}
      },
      "source": [
        "# from google.colab import files\n",
        "# import io\n",
        "# all_polit_names = pd.Series(polit_names_list)\n",
        "# all_polit_names.to_csv('polit_names_list.csv',encoding='utf-8-sig', header=True, index=False)\n",
        "# files.download('polit_names_list.csv')"
      ],
      "execution_count": 0,
      "outputs": []
    },
    {
      "cell_type": "code",
      "metadata": {
        "id": "W1oM4o7wtHFd",
        "colab_type": "code",
        "outputId": "7b7ad290-9180-4a52-c294-a9f80952140a",
        "colab": {
          "base_uri": "https://localhost:8080/",
          "height": 34
        }
      },
      "source": [
        "num_responses_per_post = train_df.post_id.value_counts().reset_index()\n",
        "num_responses_per_post.columns = ['post_id', 'num_responses']\n",
        "too_big_posts = num_responses_per_post[num_responses_per_post.num_responses > 50]\n",
        "posts_to_sample = too_big_posts.post_id.values\n",
        "# this gets all the rows for posts we DON'T need to sample \n",
        "new_train_df = train_df[~train_df.post_id.isin(posts_to_sample)]\n",
        "# this should be true\n",
        "assert(len(too_big_posts) + new_train_df.post_id.nunique() == train_df.post_id.nunique())\n",
        "too_big_post_rows = train_df[train_df.post_id.isin(posts_to_sample)]\n",
        "sampled_rows = too_big_post_rows.groupby('post_id').apply(lambda x: x.sample(n=50)).reset_index(drop=True)\n",
        "new_train_df = pd.concat([new_train_df, sampled_rows])\n",
        "new_train_df.shape"
      ],
      "execution_count": 26,
      "outputs": [
        {
          "output_type": "execute_result",
          "data": {
            "text/plain": [
              "(3962284, 8)"
            ]
          },
          "metadata": {
            "tags": []
          },
          "execution_count": 26
        }
      ]
    },
    {
      "cell_type": "code",
      "metadata": {
        "id": "bwNu4VTq46QG",
        "colab_type": "code",
        "outputId": "c941679e-6aeb-4fbd-b722-7bb5f1465ebb",
        "colab": {
          "base_uri": "https://localhost:8080/",
          "height": 52
        }
      },
      "source": [
        "start_time = time.time()\n",
        "# Remove 1 and 2 word responses from training set.\n",
        "# Split response string by spaces.\n",
        "new_train_df['split_response'] = new_train_df['response_text'].str.split()\n",
        "# Remove the rows with split responses that have length 1 or 2.\n",
        "train_df = new_train_df[new_train_df['split_response'].str.len() > 2]\n",
        "train_df.head()\n",
        "print(\"seconds to complete:\",(time.time()-start_time))\n",
        "train_df.shape"
      ],
      "execution_count": 27,
      "outputs": [
        {
          "output_type": "stream",
          "text": [
            "seconds to complete: 39.6574432849884\n"
          ],
          "name": "stdout"
        },
        {
          "output_type": "execute_result",
          "data": {
            "text/plain": [
              "(3576863, 9)"
            ]
          },
          "metadata": {
            "tags": []
          },
          "execution_count": 27
        }
      ]
    },
    {
      "cell_type": "code",
      "metadata": {
        "id": "cuC6TAks75c_",
        "colab_type": "code",
        "colab": {}
      },
      "source": [
        "from string import punctuation"
      ],
      "execution_count": 0,
      "outputs": []
    },
    {
      "cell_type": "code",
      "metadata": {
        "id": "1Pm357ESSJRj",
        "colab_type": "code",
        "colab": {
          "base_uri": "https://localhost:8080/",
          "height": 361
        },
        "outputId": "0d342709-b243-4160-ddd4-f3ff4b27121e"
      },
      "source": [
        "# test_df = train_df.head(10)\n",
        "# test_df = test_df.copy()\n",
        "# def replace_polit_names(response_list,names):\n",
        "#     response_list = ' '.join('politname' if i.strip(punctuation) in names else i for i in response_list.split())\n",
        "#     return response_list\n",
        "# start_time = time.time()\n",
        "# test_df['response_text'] = test_df['response_text'].astype(str).apply(replace_polit_names,args=(polit_names_list,))\n",
        "# print(\"minutes to complete:\",(time.time()-start_time)/60)\n",
        "# test_df.head(10)"
      ],
      "execution_count": 22,
      "outputs": [
        {
          "output_type": "stream",
          "text": [
            "minutes to complete: 4.4182936350504556e-05\n"
          ],
          "name": "stdout"
        },
        {
          "output_type": "execute_result",
          "data": {
            "text/html": [
              "<div>\n",
              "<style scoped>\n",
              "    .dataframe tbody tr th:only-of-type {\n",
              "        vertical-align: middle;\n",
              "    }\n",
              "\n",
              "    .dataframe tbody tr th {\n",
              "        vertical-align: top;\n",
              "    }\n",
              "\n",
              "    .dataframe thead th {\n",
              "        text-align: right;\n",
              "    }\n",
              "</style>\n",
              "<table border=\"1\" class=\"dataframe\">\n",
              "  <thead>\n",
              "    <tr style=\"text-align: right;\">\n",
              "      <th></th>\n",
              "      <th>original_idx</th>\n",
              "      <th>op_id</th>\n",
              "      <th>op_gender</th>\n",
              "      <th>post_id</th>\n",
              "      <th>responder_id</th>\n",
              "      <th>response_text</th>\n",
              "      <th>op_name</th>\n",
              "      <th>op_category</th>\n",
              "    </tr>\n",
              "  </thead>\n",
              "  <tbody>\n",
              "    <tr>\n",
              "      <th>0</th>\n",
              "      <td>0</td>\n",
              "      <td>57265377</td>\n",
              "      <td>M</td>\n",
              "      <td>0</td>\n",
              "      <td>Jerry</td>\n",
              "      <td>protecting birth is not the same as protecting life. you may very well pledge to the former but ...</td>\n",
              "      <td>Roger Williams</td>\n",
              "      <td>Congress_Republican</td>\n",
              "    </tr>\n",
              "    <tr>\n",
              "      <th>1</th>\n",
              "      <td>1</td>\n",
              "      <td>57265377</td>\n",
              "      <td>M</td>\n",
              "      <td>0</td>\n",
              "      <td>Andrea</td>\n",
              "      <td>you need to protect children and leave my body to me.</td>\n",
              "      <td>Roger Williams</td>\n",
              "      <td>Congress_Republican</td>\n",
              "    </tr>\n",
              "    <tr>\n",
              "      <th>2</th>\n",
              "      <td>2</td>\n",
              "      <td>57265377</td>\n",
              "      <td>M</td>\n",
              "      <td>0</td>\n",
              "      <td>Sherry</td>\n",
              "      <td>thank you</td>\n",
              "      <td>Roger Williams</td>\n",
              "      <td>Congress_Republican</td>\n",
              "    </tr>\n",
              "    <tr>\n",
              "      <th>3</th>\n",
              "      <td>3</td>\n",
              "      <td>57265377</td>\n",
              "      <td>M</td>\n",
              "      <td>0</td>\n",
              "      <td>Bob</td>\n",
              "      <td>thank you politname</td>\n",
              "      <td>Roger Williams</td>\n",
              "      <td>Congress_Republican</td>\n",
              "    </tr>\n",
              "    <tr>\n",
              "      <th>4</th>\n",
              "      <td>4</td>\n",
              "      <td>57265377</td>\n",
              "      <td>M</td>\n",
              "      <td>0</td>\n",
              "      <td>Joy</td>\n",
              "      <td>unwanted pregnancy is a sad and unfortunate situation for anyone to find themselves in, however,...</td>\n",
              "      <td>Roger Williams</td>\n",
              "      <td>Congress_Republican</td>\n",
              "    </tr>\n",
              "    <tr>\n",
              "      <th>5</th>\n",
              "      <td>5</td>\n",
              "      <td>57265377</td>\n",
              "      <td>M</td>\n",
              "      <td>0</td>\n",
              "      <td>Candice</td>\n",
              "      <td>women, the \"hosts\" of the unborn babies you are so supportive of, need access to healthcare to g...</td>\n",
              "      <td>Roger Williams</td>\n",
              "      <td>Congress_Republican</td>\n",
              "    </tr>\n",
              "    <tr>\n",
              "      <th>6</th>\n",
              "      <td>6</td>\n",
              "      <td>57265377</td>\n",
              "      <td>M</td>\n",
              "      <td>0</td>\n",
              "      <td>Cheri</td>\n",
              "      <td>i am pro choice and always will be</td>\n",
              "      <td>Roger Williams</td>\n",
              "      <td>Congress_Republican</td>\n",
              "    </tr>\n",
              "    <tr>\n",
              "      <th>7</th>\n",
              "      <td>7</td>\n",
              "      <td>57265377</td>\n",
              "      <td>M</td>\n",
              "      <td>0</td>\n",
              "      <td>Julie</td>\n",
              "      <td>thank you for taking a stand!!!!</td>\n",
              "      <td>Roger Williams</td>\n",
              "      <td>Congress_Republican</td>\n",
              "    </tr>\n",
              "    <tr>\n",
              "      <th>8</th>\n",
              "      <td>8</td>\n",
              "      <td>57265377</td>\n",
              "      <td>M</td>\n",
              "      <td>0</td>\n",
              "      <td>Stephen</td>\n",
              "      <td>i seem to disagree with you again mr.williams. woman have a right to determine what happens to t...</td>\n",
              "      <td>Roger Williams</td>\n",
              "      <td>Congress_Republican</td>\n",
              "    </tr>\n",
              "    <tr>\n",
              "      <th>9</th>\n",
              "      <td>9</td>\n",
              "      <td>57265377</td>\n",
              "      <td>M</td>\n",
              "      <td>0</td>\n",
              "      <td>Tony</td>\n",
              "      <td>please demonstrate your support by providing pre- and post-natal care to these babies and their ...</td>\n",
              "      <td>Roger Williams</td>\n",
              "      <td>Congress_Republican</td>\n",
              "    </tr>\n",
              "  </tbody>\n",
              "</table>\n",
              "</div>"
            ],
            "text/plain": [
              "   original_idx     op_id  ...         op_name          op_category\n",
              "0             0  57265377  ...  Roger Williams  Congress_Republican\n",
              "1             1  57265377  ...  Roger Williams  Congress_Republican\n",
              "2             2  57265377  ...  Roger Williams  Congress_Republican\n",
              "3             3  57265377  ...  Roger Williams  Congress_Republican\n",
              "4             4  57265377  ...  Roger Williams  Congress_Republican\n",
              "5             5  57265377  ...  Roger Williams  Congress_Republican\n",
              "6             6  57265377  ...  Roger Williams  Congress_Republican\n",
              "7             7  57265377  ...  Roger Williams  Congress_Republican\n",
              "8             8  57265377  ...  Roger Williams  Congress_Republican\n",
              "9             9  57265377  ...  Roger Williams  Congress_Republican\n",
              "\n",
              "[10 rows x 8 columns]"
            ]
          },
          "metadata": {
            "tags": []
          },
          "execution_count": 22
        }
      ]
    },
    {
      "cell_type": "code",
      "metadata": {
        "colab_type": "code",
        "outputId": "4b366a74-1edf-46a9-d60e-7b2a3fc91b52",
        "id": "AzlJyebg7bVU",
        "colab": {
          "base_uri": "https://localhost:8080/",
          "height": 685
        }
      },
      "source": [
        "# Remove political names from training set (takes about 30 min)\n",
        "from string import punctuation\n",
        "def replace_polit_names(response_list,names):\n",
        "    response_list = ' '.join('politname' if i.strip(punctuation) in names else i for i in response_list.split())\n",
        "    return response_list\n",
        "start_time = time.time()\n",
        "train_df['response_text'] = train_df['response_text'].astype(str).apply(replace_polit_names,args=(polit_names_list,))\n",
        "print(\"minutes to complete:\",(time.time()-start_time)/60)\n",
        "train_df.head(10)"
      ],
      "execution_count": 28,
      "outputs": [
        {
          "output_type": "stream",
          "text": [
            "minutes to complete: 11.142263487974803\n"
          ],
          "name": "stdout"
        },
        {
          "output_type": "stream",
          "text": [
            "/usr/local/lib/python3.6/dist-packages/ipykernel_launcher.py:6: SettingWithCopyWarning: \n",
            "A value is trying to be set on a copy of a slice from a DataFrame.\n",
            "Try using .loc[row_indexer,col_indexer] = value instead\n",
            "\n",
            "See the caveats in the documentation: http://pandas.pydata.org/pandas-docs/stable/user_guide/indexing.html#returning-a-view-versus-a-copy\n",
            "  \n"
          ],
          "name": "stderr"
        },
        {
          "output_type": "execute_result",
          "data": {
            "text/html": [
              "<div>\n",
              "<style scoped>\n",
              "    .dataframe tbody tr th:only-of-type {\n",
              "        vertical-align: middle;\n",
              "    }\n",
              "\n",
              "    .dataframe tbody tr th {\n",
              "        vertical-align: top;\n",
              "    }\n",
              "\n",
              "    .dataframe thead th {\n",
              "        text-align: right;\n",
              "    }\n",
              "</style>\n",
              "<table border=\"1\" class=\"dataframe\">\n",
              "  <thead>\n",
              "    <tr style=\"text-align: right;\">\n",
              "      <th></th>\n",
              "      <th>original_idx</th>\n",
              "      <th>op_id</th>\n",
              "      <th>op_gender</th>\n",
              "      <th>post_id</th>\n",
              "      <th>responder_id</th>\n",
              "      <th>response_text</th>\n",
              "      <th>op_name</th>\n",
              "      <th>op_category</th>\n",
              "      <th>split_response</th>\n",
              "    </tr>\n",
              "  </thead>\n",
              "  <tbody>\n",
              "    <tr>\n",
              "      <th>0</th>\n",
              "      <td>0</td>\n",
              "      <td>57265377</td>\n",
              "      <td>M</td>\n",
              "      <td>0</td>\n",
              "      <td>Jerry</td>\n",
              "      <td>protecting birth is not the same as protecting life. you may very well pledge to the former but ...</td>\n",
              "      <td>Roger Williams</td>\n",
              "      <td>Congress_Republican</td>\n",
              "      <td>[protecting, birth, is, not, the, same, as, protecting, life., you, may, very, well, pledge, to,...</td>\n",
              "    </tr>\n",
              "    <tr>\n",
              "      <th>1</th>\n",
              "      <td>1</td>\n",
              "      <td>57265377</td>\n",
              "      <td>M</td>\n",
              "      <td>0</td>\n",
              "      <td>Andrea</td>\n",
              "      <td>you need to protect children and leave my body to me.</td>\n",
              "      <td>Roger Williams</td>\n",
              "      <td>Congress_Republican</td>\n",
              "      <td>[you, need, to, protect, children, and, leave, my, body, to, me.]</td>\n",
              "    </tr>\n",
              "    <tr>\n",
              "      <th>3</th>\n",
              "      <td>3</td>\n",
              "      <td>57265377</td>\n",
              "      <td>M</td>\n",
              "      <td>0</td>\n",
              "      <td>Bob</td>\n",
              "      <td>thank you politname</td>\n",
              "      <td>Roger Williams</td>\n",
              "      <td>Congress_Republican</td>\n",
              "      <td>[thank, you, roger]</td>\n",
              "    </tr>\n",
              "    <tr>\n",
              "      <th>4</th>\n",
              "      <td>4</td>\n",
              "      <td>57265377</td>\n",
              "      <td>M</td>\n",
              "      <td>0</td>\n",
              "      <td>Joy</td>\n",
              "      <td>unwanted pregnancy is a sad and unfortunate situation for anyone to find themselves in, however,...</td>\n",
              "      <td>Roger Williams</td>\n",
              "      <td>Congress_Republican</td>\n",
              "      <td>[unwanted, pregnancy, is, a, sad, and, unfortunate, situation, for, anyone, to, find, themselves...</td>\n",
              "    </tr>\n",
              "    <tr>\n",
              "      <th>5</th>\n",
              "      <td>5</td>\n",
              "      <td>57265377</td>\n",
              "      <td>M</td>\n",
              "      <td>0</td>\n",
              "      <td>Candice</td>\n",
              "      <td>women, the \"hosts\" of the unborn babies you are so supportive of, need access to healthcare to g...</td>\n",
              "      <td>Roger Williams</td>\n",
              "      <td>Congress_Republican</td>\n",
              "      <td>[women,, the, \"hosts\", of, the, unborn, babies, you, are, so, supportive, of,, need, access, to,...</td>\n",
              "    </tr>\n",
              "    <tr>\n",
              "      <th>6</th>\n",
              "      <td>6</td>\n",
              "      <td>57265377</td>\n",
              "      <td>M</td>\n",
              "      <td>0</td>\n",
              "      <td>Cheri</td>\n",
              "      <td>i am pro choice and always will be</td>\n",
              "      <td>Roger Williams</td>\n",
              "      <td>Congress_Republican</td>\n",
              "      <td>[i, am, pro, choice, and, always, will, be]</td>\n",
              "    </tr>\n",
              "    <tr>\n",
              "      <th>7</th>\n",
              "      <td>7</td>\n",
              "      <td>57265377</td>\n",
              "      <td>M</td>\n",
              "      <td>0</td>\n",
              "      <td>Julie</td>\n",
              "      <td>thank you for taking a stand!!!!</td>\n",
              "      <td>Roger Williams</td>\n",
              "      <td>Congress_Republican</td>\n",
              "      <td>[thank, you, for, taking, a, stand!!!!]</td>\n",
              "    </tr>\n",
              "    <tr>\n",
              "      <th>8</th>\n",
              "      <td>8</td>\n",
              "      <td>57265377</td>\n",
              "      <td>M</td>\n",
              "      <td>0</td>\n",
              "      <td>Stephen</td>\n",
              "      <td>i seem to disagree with you again mr.williams. woman have a right to determine what happens to t...</td>\n",
              "      <td>Roger Williams</td>\n",
              "      <td>Congress_Republican</td>\n",
              "      <td>[i, seem, to, disagree, with, you, again, mr.williams., woman, have, a, right, to, determine, wh...</td>\n",
              "    </tr>\n",
              "    <tr>\n",
              "      <th>9</th>\n",
              "      <td>9</td>\n",
              "      <td>57265377</td>\n",
              "      <td>M</td>\n",
              "      <td>0</td>\n",
              "      <td>Tony</td>\n",
              "      <td>please demonstrate your support by providing pre- and post-natal care to these babies and their ...</td>\n",
              "      <td>Roger Williams</td>\n",
              "      <td>Congress_Republican</td>\n",
              "      <td>[please, demonstrate, your, support, by, providing, pre-, and, post-natal, care, to, these, babi...</td>\n",
              "    </tr>\n",
              "    <tr>\n",
              "      <th>10</th>\n",
              "      <td>10</td>\n",
              "      <td>57265377</td>\n",
              "      <td>M</td>\n",
              "      <td>0</td>\n",
              "      <td>Maria</td>\n",
              "      <td>thank you for protecting the sanctity of precious life .</td>\n",
              "      <td>Roger Williams</td>\n",
              "      <td>Congress_Republican</td>\n",
              "      <td>[thank, you, for, protecting, the, sanctity, of, precious, life, .]</td>\n",
              "    </tr>\n",
              "  </tbody>\n",
              "</table>\n",
              "</div>"
            ],
            "text/plain": [
              "    original_idx  ...                                                                                       split_response\n",
              "0              0  ...  [protecting, birth, is, not, the, same, as, protecting, life., you, may, very, well, pledge, to,...\n",
              "1              1  ...                                    [you, need, to, protect, children, and, leave, my, body, to, me.]\n",
              "3              3  ...                                                                                  [thank, you, roger]\n",
              "4              4  ...  [unwanted, pregnancy, is, a, sad, and, unfortunate, situation, for, anyone, to, find, themselves...\n",
              "5              5  ...  [women,, the, \"hosts\", of, the, unborn, babies, you, are, so, supportive, of,, need, access, to,...\n",
              "6              6  ...                                                          [i, am, pro, choice, and, always, will, be]\n",
              "7              7  ...                                                              [thank, you, for, taking, a, stand!!!!]\n",
              "8              8  ...  [i, seem, to, disagree, with, you, again, mr.williams., woman, have, a, right, to, determine, wh...\n",
              "9              9  ...  [please, demonstrate, your, support, by, providing, pre-, and, post-natal, care, to, these, babi...\n",
              "10            10  ...                                  [thank, you, for, protecting, the, sanctity, of, precious, life, .]\n",
              "\n",
              "[10 rows x 9 columns]"
            ]
          },
          "metadata": {
            "tags": []
          },
          "execution_count": 28
        }
      ]
    },
    {
      "cell_type": "code",
      "metadata": {
        "id": "K95juTqs5nM1",
        "colab_type": "code",
        "outputId": "92bf7672-387a-48e4-a982-1e4989d3848b",
        "colab": {
          "base_uri": "https://localhost:8080/",
          "height": 34
        }
      },
      "source": [
        "# Remove 1 and 2 word responses from dev set.\n",
        "# Split response string by spaces.\n",
        "dev_df['split_response'] = dev_df['response_text'].str.split()\n",
        "# Remove the rows wtih split responses that have length 1 or 2.\n",
        "dev_df = dev_df[dev_df['split_response'].str.len() > 2]\n",
        "len(dev_df)"
      ],
      "execution_count": 29,
      "outputs": [
        {
          "output_type": "execute_result",
          "data": {
            "text/plain": [
              "2041945"
            ]
          },
          "metadata": {
            "tags": []
          },
          "execution_count": 29
        }
      ]
    },
    {
      "cell_type": "code",
      "metadata": {
        "id": "WIgLDfF4BtJC",
        "colab_type": "code",
        "colab": {
          "base_uri": "https://localhost:8080/",
          "height": 529
        },
        "outputId": "1fc483b2-4aba-4bdc-9b8c-c2591dfec291"
      },
      "source": [
        "start_time = time.time()\n",
        "dev_df['response_text'] = dev_df['response_text'].astype(str).apply(replace_polit_names,args=(polit_names_list,))\n",
        "print(\"minutes to complete:\",(time.time()-start_time)/60)\n",
        "dev_df.head(10)"
      ],
      "execution_count": 30,
      "outputs": [
        {
          "output_type": "stream",
          "text": [
            "minutes to complete: 6.37832027276357\n"
          ],
          "name": "stdout"
        },
        {
          "output_type": "execute_result",
          "data": {
            "text/html": [
              "<div>\n",
              "<style scoped>\n",
              "    .dataframe tbody tr th:only-of-type {\n",
              "        vertical-align: middle;\n",
              "    }\n",
              "\n",
              "    .dataframe tbody tr th {\n",
              "        vertical-align: top;\n",
              "    }\n",
              "\n",
              "    .dataframe thead th {\n",
              "        text-align: right;\n",
              "    }\n",
              "</style>\n",
              "<table border=\"1\" class=\"dataframe\">\n",
              "  <thead>\n",
              "    <tr style=\"text-align: right;\">\n",
              "      <th></th>\n",
              "      <th>original_idx</th>\n",
              "      <th>op_id</th>\n",
              "      <th>op_gender</th>\n",
              "      <th>post_id</th>\n",
              "      <th>responder_id</th>\n",
              "      <th>response_text</th>\n",
              "      <th>op_name</th>\n",
              "      <th>op_category</th>\n",
              "      <th>split_response</th>\n",
              "    </tr>\n",
              "  </thead>\n",
              "  <tbody>\n",
              "    <tr>\n",
              "      <th>0</th>\n",
              "      <td>1965080</td>\n",
              "      <td>86681682</td>\n",
              "      <td>M</td>\n",
              "      <td>29909</td>\n",
              "      <td>James</td>\n",
              "      <td>thanks for passing this ridiculous legislation. https://www.youtube.com/watch?v=-y4wd8royre</td>\n",
              "      <td>Jim Banks</td>\n",
              "      <td>Congress_Republican</td>\n",
              "      <td>[thanks, for, passing, this, ridiculous, legislation., https://www.youtube.com/watch?v=-y4wd8royre]</td>\n",
              "    </tr>\n",
              "    <tr>\n",
              "      <th>1</th>\n",
              "      <td>1965081</td>\n",
              "      <td>86681682</td>\n",
              "      <td>M</td>\n",
              "      <td>29909</td>\n",
              "      <td>Martha</td>\n",
              "      <td>handsome young man on the left. 😂 mom</td>\n",
              "      <td>Jim Banks</td>\n",
              "      <td>Congress_Republican</td>\n",
              "      <td>[handsome, young, man, on, the, left., 😂, mom]</td>\n",
              "    </tr>\n",
              "    <tr>\n",
              "      <th>2</th>\n",
              "      <td>1965082</td>\n",
              "      <td>86681682</td>\n",
              "      <td>M</td>\n",
              "      <td>29911</td>\n",
              "      <td>Preston</td>\n",
              "      <td>you are sideways!</td>\n",
              "      <td>Jim Banks</td>\n",
              "      <td>Congress_Republican</td>\n",
              "      <td>[you, are, sideways!]</td>\n",
              "    </tr>\n",
              "    <tr>\n",
              "      <th>3</th>\n",
              "      <td>1965083</td>\n",
              "      <td>86681682</td>\n",
              "      <td>M</td>\n",
              "      <td>29911</td>\n",
              "      <td>Bobby</td>\n",
              "      <td>hi congressman banks</td>\n",
              "      <td>Jim Banks</td>\n",
              "      <td>Congress_Republican</td>\n",
              "      <td>[hi, congressman, banks]</td>\n",
              "    </tr>\n",
              "    <tr>\n",
              "      <th>4</th>\n",
              "      <td>1965084</td>\n",
              "      <td>86681682</td>\n",
              "      <td>M</td>\n",
              "      <td>29911</td>\n",
              "      <td>Landon</td>\n",
              "      <td>politname i love your office. the 5th floor is for winners.</td>\n",
              "      <td>Jim Banks</td>\n",
              "      <td>Congress_Republican</td>\n",
              "      <td>[jim,, i, love, your, office., the, 5th, floor, is, for, winners.]</td>\n",
              "    </tr>\n",
              "    <tr>\n",
              "      <th>6</th>\n",
              "      <td>1965086</td>\n",
              "      <td>86681682</td>\n",
              "      <td>M</td>\n",
              "      <td>29911</td>\n",
              "      <td>Sean</td>\n",
              "      <td>it has the penthouse.</td>\n",
              "      <td>Jim Banks</td>\n",
              "      <td>Congress_Republican</td>\n",
              "      <td>[it, has, the, penthouse.]</td>\n",
              "    </tr>\n",
              "    <tr>\n",
              "      <th>7</th>\n",
              "      <td>1965087</td>\n",
              "      <td>86681682</td>\n",
              "      <td>M</td>\n",
              "      <td>29911</td>\n",
              "      <td>Preston</td>\n",
              "      <td>we are thankful for you, mr. banks!</td>\n",
              "      <td>Jim Banks</td>\n",
              "      <td>Congress_Republican</td>\n",
              "      <td>[we, are, thankful, for, you,, mr., banks!]</td>\n",
              "    </tr>\n",
              "    <tr>\n",
              "      <th>10</th>\n",
              "      <td>1965090</td>\n",
              "      <td>86681682</td>\n",
              "      <td>M</td>\n",
              "      <td>29911</td>\n",
              "      <td>Justin</td>\n",
              "      <td>looks like lots of space for activities.</td>\n",
              "      <td>Jim Banks</td>\n",
              "      <td>Congress_Republican</td>\n",
              "      <td>[looks, like, lots, of, space, for, activities.]</td>\n",
              "    </tr>\n",
              "    <tr>\n",
              "      <th>12</th>\n",
              "      <td>1965092</td>\n",
              "      <td>86681682</td>\n",
              "      <td>M</td>\n",
              "      <td>29911</td>\n",
              "      <td>Bobby</td>\n",
              "      <td>my friend tanner</td>\n",
              "      <td>Jim Banks</td>\n",
              "      <td>Congress_Republican</td>\n",
              "      <td>[my, friend, tanner]</td>\n",
              "    </tr>\n",
              "    <tr>\n",
              "      <th>13</th>\n",
              "      <td>1965093</td>\n",
              "      <td>86681682</td>\n",
              "      <td>M</td>\n",
              "      <td>29911</td>\n",
              "      <td>William</td>\n",
              "      <td>nice office, now when are you going to call for an investigation into the possible treasonable o...</td>\n",
              "      <td>Jim Banks</td>\n",
              "      <td>Congress_Republican</td>\n",
              "      <td>[nice, office,, now, when, are, you, going, to, call, for, an, investigation, into, the, possibl...</td>\n",
              "    </tr>\n",
              "  </tbody>\n",
              "</table>\n",
              "</div>"
            ],
            "text/plain": [
              "    original_idx  ...                                                                                       split_response\n",
              "0        1965080  ...  [thanks, for, passing, this, ridiculous, legislation., https://www.youtube.com/watch?v=-y4wd8royre]\n",
              "1        1965081  ...                                                       [handsome, young, man, on, the, left., 😂, mom]\n",
              "2        1965082  ...                                                                                [you, are, sideways!]\n",
              "3        1965083  ...                                                                             [hi, congressman, banks]\n",
              "4        1965084  ...                                   [jim,, i, love, your, office., the, 5th, floor, is, for, winners.]\n",
              "6        1965086  ...                                                                           [it, has, the, penthouse.]\n",
              "7        1965087  ...                                                          [we, are, thankful, for, you,, mr., banks!]\n",
              "10       1965090  ...                                                     [looks, like, lots, of, space, for, activities.]\n",
              "12       1965092  ...                                                                                 [my, friend, tanner]\n",
              "13       1965093  ...  [nice, office,, now, when, are, you, going, to, call, for, an, investigation, into, the, possibl...\n",
              "\n",
              "[10 rows x 9 columns]"
            ]
          },
          "metadata": {
            "tags": []
          },
          "execution_count": 30
        }
      ]
    },
    {
      "cell_type": "code",
      "metadata": {
        "id": "5HOBGFbSn49u",
        "colab_type": "code",
        "colab": {}
      },
      "source": [
        "# Remove the columns of lists.\n",
        "train_df = train_df.drop(['split_response'], axis=1)\n",
        "dev_df = dev_df.drop(['split_response'], axis=1)\n"
      ],
      "execution_count": 0,
      "outputs": []
    },
    {
      "cell_type": "code",
      "metadata": {
        "id": "Zq_4JxJ7o6Yi",
        "colab_type": "code",
        "outputId": "0ba547cf-f082-4ee8-e551-385dd077a8cf",
        "colab": {
          "base_uri": "https://localhost:8080/",
          "height": 34
        }
      },
      "source": [
        "import gc\n",
        "gc.collect()"
      ],
      "execution_count": 32,
      "outputs": [
        {
          "output_type": "execute_result",
          "data": {
            "text/plain": [
              "22"
            ]
          },
          "metadata": {
            "tags": []
          },
          "execution_count": 32
        }
      ]
    },
    {
      "cell_type": "code",
      "metadata": {
        "id": "Zmn4i3bQpbmh",
        "colab_type": "code",
        "colab": {}
      },
      "source": [
        "# Set seeds for reproducible results.\n",
        "from numpy.random import seed\n",
        "seed(1)\n",
        "from tensorflow import set_random_seed\n",
        "set_random_seed(2)"
      ],
      "execution_count": 0,
      "outputs": []
    },
    {
      "cell_type": "code",
      "metadata": {
        "id": "MgZWntiySs0p",
        "colab_type": "code",
        "colab": {}
      },
      "source": [
        "# shuffle the data\n",
        "# be sure to do this before you extract X's and y's!!\n",
        "train_df = new_train_df.sample(frac=1)\n",
        "dev_df = dev_df.sample(frac=1)"
      ],
      "execution_count": 0,
      "outputs": []
    },
    {
      "cell_type": "code",
      "metadata": {
        "id": "1ZJxHTywg7Rq",
        "colab_type": "code",
        "outputId": "1cc574bc-5406-4574-c151-dbca34143473",
        "colab": {
          "base_uri": "https://localhost:8080/",
          "height": 70
        }
      },
      "source": [
        "train_df.op_gender.value_counts()"
      ],
      "execution_count": 27,
      "outputs": [
        {
          "output_type": "execute_result",
          "data": {
            "text/plain": [
              "M    2625221\n",
              "W     951632\n",
              "Name: op_gender, dtype: int64"
            ]
          },
          "metadata": {
            "tags": []
          },
          "execution_count": 27
        }
      ]
    },
    {
      "cell_type": "code",
      "metadata": {
        "id": "NV45ZdSzp0NJ",
        "colab_type": "code",
        "outputId": "da2d6a94-d007-4d66-b006-0ba9111274f9",
        "colab": {
          "base_uri": "https://localhost:8080/",
          "height": 70
        }
      },
      "source": [
        "dev_df.op_gender.value_counts()"
      ],
      "execution_count": 26,
      "outputs": [
        {
          "output_type": "execute_result",
          "data": {
            "text/plain": [
              "M    1731288\n",
              "W     310657\n",
              "Name: op_gender, dtype: int64"
            ]
          },
          "metadata": {
            "tags": []
          },
          "execution_count": 26
        }
      ]
    },
    {
      "cell_type": "code",
      "metadata": {
        "id": "Pjb6dx8fSs0s",
        "colab_type": "code",
        "colab": {}
      },
      "source": [
        "# Set the y values.\n",
        "y_train = train_df.op_gender.values\n",
        "y_dev = dev_df.op_gender.values"
      ],
      "execution_count": 0,
      "outputs": []
    },
    {
      "cell_type": "code",
      "metadata": {
        "id": "pBCoPKh_Ss0v",
        "colab_type": "code",
        "colab": {}
      },
      "source": [
        "# Turn y values into 0 (female) and 1 (male).\n",
        "def turn_to_ints(li):\n",
        "    final_list = []\n",
        "    for gender in li:\n",
        "        if gender=='M':\n",
        "            final_list.append(1)\n",
        "        else:\n",
        "            final_list.append(0)\n",
        "    return final_list\n",
        "            \n",
        "y_train = turn_to_ints(y_train)\n",
        "y_dev = turn_to_ints(y_dev)"
      ],
      "execution_count": 0,
      "outputs": []
    },
    {
      "cell_type": "code",
      "metadata": {
        "id": "hN9GFz6xSs0y",
        "colab_type": "code",
        "colab": {}
      },
      "source": [
        "# Convert y values to numpy arrays.\n",
        "y_train = np.asarray(y_train)\n",
        "y_dev = np.asarray(y_dev)"
      ],
      "execution_count": 0,
      "outputs": []
    },
    {
      "cell_type": "code",
      "metadata": {
        "id": "ChYxh6oPSs04",
        "colab_type": "code",
        "colab": {}
      },
      "source": [
        "def get_text_list(init_list):\n",
        "    sentences = []\n",
        "    for sentence in init_list:\n",
        "        if type(sentence) != str:\n",
        "            sentences.append(\"\")\n",
        "        else:\n",
        "            sentences.append(sentence)\n",
        "    return sentences\n",
        "\n",
        "new_sentences_train = get_text_list(train_df.response_text.values) \n",
        "new_sentences_test = get_text_list(dev_df.response_text.values)"
      ],
      "execution_count": 0,
      "outputs": []
    },
    {
      "cell_type": "code",
      "metadata": {
        "id": "1b9SE7SjSs06",
        "colab_type": "code",
        "outputId": "22ab1f47-136e-4b21-e152-552d42a37471",
        "colab": {
          "base_uri": "https://localhost:8080/",
          "height": 34
        }
      },
      "source": [
        "# Tokenize the sentences.\n",
        "time_start = time.time()\n",
        "\n",
        "# this is the default list of filters + apostrophe\n",
        "# added because we have dealt with common contractions, so other apostrophes should mostly be possessive \n",
        "tokenizer = Tokenizer(num_words=200000, filters='!\"\\'#$%&()*+,-./:;<=>?@[\\\\]^_`{|}~\\t\\n')\n",
        "tokenizer.fit_on_texts(new_sentences_train)\n",
        "\n",
        "X_train = tokenizer.texts_to_sequences(new_sentences_train)\n",
        "X_test = tokenizer.texts_to_sequences(new_sentences_test)\n",
        "\n",
        "vocab_size = len(tokenizer.word_index) + 1\n",
        "\n",
        "currentTime = time.gmtime(time.time() - time_start)\n",
        "\n",
        "#Convert the gmtime struct to a string\n",
        "timeStr = time.strftime(\"%M minutes, %S seconds\", currentTime)\n",
        "\n",
        "print(\"Tokenized in {}\".format(timeStr))"
      ],
      "execution_count": 40,
      "outputs": [
        {
          "output_type": "stream",
          "text": [
            "Tokenized in 05 minutes, 35 seconds\n"
          ],
          "name": "stdout"
        }
      ]
    },
    {
      "cell_type": "code",
      "metadata": {
        "id": "TyZMBAiySs0-",
        "colab_type": "code",
        "colab": {}
      },
      "source": [
        "# Pad the tokenized data so all sequences are the same length; see first cell for max length.\n",
        "# Length should be the same as in shortened response length above...\n",
        "from keras.preprocessing.sequence import pad_sequences\n",
        "\n",
        "X_train = pad_sequences(X_train, padding='post', maxlen=MAX_SEQUENCE_LENGTH)\n",
        "X_test = pad_sequences(X_test, padding='post', maxlen=MAX_SEQUENCE_LENGTH)"
      ],
      "execution_count": 0,
      "outputs": []
    },
    {
      "cell_type": "code",
      "metadata": {
        "id": "LGl1S3HySs1G",
        "colab_type": "code",
        "colab": {}
      },
      "source": [
        "if SAVE_TOKENIZED_DATA:\n",
        "  x_train_path = 'X_train_{}.pkl'.format(DATASET_NAME)\n",
        "  x_dev_path = 'X_dev_{}.pkl'.format(DATASET_NAME)\n",
        "  y_train_path = 'y_train_{}.pkl'.format(DATASET_NAME)\n",
        "  y_dev_path = 'y_dev_{}.pkl'.format(DATASET_NAME)\n",
        "\n",
        "  with open(x_train_path, 'wb') as file:\n",
        "      pickle.dump(X_train, file)   \n",
        "  with open(x_dev_path, 'wb') as file:\n",
        "      pickle.dump(X_test, file)\n",
        "  with open(y_train_path, 'wb') as file:\n",
        "      pickle.dump(y_train, file)\n",
        "  with open(y_dev_path, 'wb') as file:\n",
        "      pickle.dump(y_dev, file)\n",
        "\n",
        "  # copy to bucket\n",
        "  !gsutil cp /content/{x_train_path} gs://fb-congressional-data/test\n",
        "  !gsutil cp /content/{x_dev_path} gs://fb-congressional-data/\n",
        "  !gsutil cp /content/{y_train_path} gs://fb-congressional-data/\n",
        "  !gsutil cp /content/{y_dev_path} gs://fb-congressional-data/"
      ],
      "execution_count": 0,
      "outputs": []
    },
    {
      "cell_type": "code",
      "metadata": {
        "id": "s5AeCFGIuKIR",
        "colab_type": "code",
        "outputId": "6a3a565f-f0b2-4144-a21a-e29003d37049",
        "colab": {
          "base_uri": "https://localhost:8080/",
          "height": 246
        }
      },
      "source": [
        "# Get the glove embeddings.\n",
        "!gsutil cp gs://fb-congressional-data/glove* /tmp/"
      ],
      "execution_count": 43,
      "outputs": [
        {
          "output_type": "stream",
          "text": [
            "Copying gs://fb-congressional-data/glove.6B.100d.txt...\n",
            "Copying gs://fb-congressional-data/glove.6B.200d.txt...\n",
            "Copying gs://fb-congressional-data/glove.6B.300d.txt...\n",
            "Copying gs://fb-congressional-data/glove.6B.50d.txt...\n",
            "\\ [4 files][  2.1 GiB/  2.1 GiB]   90.7 MiB/s                                   \n",
            "==> NOTE: You are performing a sequence of gsutil operations that may\n",
            "run significantly faster if you instead use gsutil -m cp ... Please\n",
            "see the -m section under \"gsutil help options\" for further information\n",
            "about when gsutil -m can be advantageous.\n",
            "\n",
            "Copying gs://fb-congressional-data/glove.6B.zip...\n",
            "/\n",
            "Operation completed over 5 objects/2.9 GiB.                                      \n"
          ],
          "name": "stdout"
        }
      ]
    },
    {
      "cell_type": "code",
      "metadata": {
        "id": "ae5EQ7vbSs1L",
        "colab_type": "code",
        "colab": {}
      },
      "source": [
        "def create_embedding_matrix(filepath, word_index, embedding_dim):\n",
        "    vocab_size = len(word_index) + 1  # Adding again 1 because of reserved 0 index\n",
        "    embedding_matrix = np.zeros((vocab_size, embedding_dim))\n",
        "\n",
        "    with open(filepath) as f:\n",
        "        for line in f:\n",
        "            word, *vector = line.split()\n",
        "            if word in word_index:\n",
        "                idx = word_index[word] \n",
        "                embedding_matrix[idx] = np.array(\n",
        "                    vector, dtype=np.float32)[:embedding_dim]\n",
        "\n",
        "    return embedding_matrix\n",
        "\n",
        "embedding_dim = 100\n",
        "embedding_matrix = create_embedding_matrix(\n",
        "                     '/tmp/glove.6B.{}d.txt'.format(embedding_dim),\n",
        "                      tokenizer.word_index, embedding_dim)"
      ],
      "execution_count": 0,
      "outputs": []
    },
    {
      "cell_type": "code",
      "metadata": {
        "id": "kUTvp7yfut-7",
        "colab_type": "code",
        "colab": {}
      },
      "source": [
        "# trying to figure out which words are empty here\n",
        "# counter = 0\n",
        "# empty_indexes = []\n",
        "# for index, row in enumerate(embedding_matrix):\n",
        "#   if sum(row) == 0:\n",
        "#     empty_indexes.append(index)\n",
        "#     counter += 1\n",
        "#   if counter > 1000:\n",
        "#     break\n",
        "\n",
        "# for idx in empty_indexes:\n",
        "#   try:\n",
        "#     print(tokenizer.index_word[idx])\n",
        "#   except:\n",
        "#     print(\"No entry for {}\".format(idx))\n"
      ],
      "execution_count": 0,
      "outputs": []
    },
    {
      "cell_type": "code",
      "metadata": {
        "id": "UI5vn5zBSs1P",
        "colab_type": "code",
        "colab": {}
      },
      "source": [
        "# hmmmm....\n",
        "# nonzero_elements = np.count_nonzero(np.count_nonzero(embedding_matrix, axis=1))\n",
        "# nonzero_elements / vocab_size"
      ],
      "execution_count": 0,
      "outputs": []
    },
    {
      "cell_type": "code",
      "metadata": {
        "id": "EJtNke4FSs1X",
        "colab_type": "code",
        "outputId": "4ba4575b-e88a-4a14-d48a-606a053f8166",
        "colab": {
          "base_uri": "https://localhost:8080/",
          "height": 34
        }
      },
      "source": [
        "embedding_matrix.shape"
      ],
      "execution_count": 46,
      "outputs": [
        {
          "output_type": "execute_result",
          "data": {
            "text/plain": [
              "(598373, 100)"
            ]
          },
          "metadata": {
            "tags": []
          },
          "execution_count": 46
        }
      ]
    },
    {
      "cell_type": "code",
      "metadata": {
        "id": "tb_yr2R9Ss1d",
        "colab_type": "code",
        "outputId": "d8d16f54-a38e-4fa5-b213-efb05e8e6fac",
        "colab": {
          "base_uri": "https://localhost:8080/",
          "height": 512
        }
      },
      "source": [
        "# Initialize the model.\n",
        "model = Sequential()\n",
        "model.add(layers.Embedding(vocab_size, embedding_dim, \n",
        "                           weights=[embedding_matrix], \n",
        "                           input_length=MAX_SEQUENCE_LENGTH, \n",
        "                           trainable=False))\n",
        "model.add(layers.Conv1D(128, 5, activation='relu'))\n",
        "model.add(layers.GlobalMaxPooling1D())\n",
        "model.add(layers.Dense(10, activation='relu'))\n",
        "model.add(layers.Dense(1, activation='sigmoid'))\n",
        "model.compile(optimizer='adam',\n",
        "              loss='binary_crossentropy',\n",
        "              metrics=['accuracy'])\n",
        "model.summary()"
      ],
      "execution_count": 47,
      "outputs": [
        {
          "output_type": "stream",
          "text": [
            "WARNING:tensorflow:From /usr/local/lib/python3.6/dist-packages/tensorflow_core/python/keras/initializers.py:119: calling RandomUniform.__init__ (from tensorflow.python.ops.init_ops) with dtype is deprecated and will be removed in a future version.\n",
            "Instructions for updating:\n",
            "Call initializer instance with the dtype argument instead of passing it to the constructor\n",
            "WARNING:tensorflow:From /usr/local/lib/python3.6/dist-packages/tensorflow_core/python/ops/resource_variable_ops.py:1630: calling BaseResourceVariable.__init__ (from tensorflow.python.ops.resource_variable_ops) with constraint is deprecated and will be removed in a future version.\n",
            "Instructions for updating:\n",
            "If using Keras pass *_constraint arguments to layers.\n",
            "WARNING:tensorflow:From /usr/local/lib/python3.6/dist-packages/tensorflow_core/python/ops/nn_impl.py:183: where (from tensorflow.python.ops.array_ops) is deprecated and will be removed in a future version.\n",
            "Instructions for updating:\n",
            "Use tf.where in 2.0, which has the same broadcast rule as np.where\n",
            "Model: \"sequential\"\n",
            "_________________________________________________________________\n",
            "Layer (type)                 Output Shape              Param #   \n",
            "=================================================================\n",
            "embedding (Embedding)        (None, 20, 100)           59837300  \n",
            "_________________________________________________________________\n",
            "conv1d (Conv1D)              (None, 16, 128)           64128     \n",
            "_________________________________________________________________\n",
            "global_max_pooling1d (Global (None, 128)               0         \n",
            "_________________________________________________________________\n",
            "dense (Dense)                (None, 10)                1290      \n",
            "_________________________________________________________________\n",
            "dense_1 (Dense)              (None, 1)                 11        \n",
            "=================================================================\n",
            "Total params: 59,902,729\n",
            "Trainable params: 65,429\n",
            "Non-trainable params: 59,837,300\n",
            "_________________________________________________________________\n"
          ],
          "name": "stdout"
        }
      ]
    },
    {
      "cell_type": "code",
      "metadata": {
        "id": "U_9KWVWHAAE3",
        "colab_type": "code",
        "colab": {}
      },
      "source": [
        "smaller_X_train = X_train[:TRAINING_SET_SIZE]"
      ],
      "execution_count": 0,
      "outputs": []
    },
    {
      "cell_type": "code",
      "metadata": {
        "id": "t6gn7HvuAGgQ",
        "colab_type": "code",
        "colab": {}
      },
      "source": [
        "smaller_y_train = y_train[:TRAINING_SET_SIZE]"
      ],
      "execution_count": 0,
      "outputs": []
    },
    {
      "cell_type": "code",
      "metadata": {
        "id": "uf5R6UpGDW_y",
        "colab_type": "code",
        "colab": {}
      },
      "source": [
        "smaller_X_dev = X_test[:VAL_SET_SIZE]\n",
        "smaller_y_dev = y_dev[:VAL_SET_SIZE]"
      ],
      "execution_count": 0,
      "outputs": []
    },
    {
      "cell_type": "code",
      "metadata": {
        "id": "M4dbwlaxSs1l",
        "colab_type": "code",
        "outputId": "af60786c-0dfb-4b0d-ac74-2963229acf8e",
        "colab": {
          "base_uri": "https://localhost:8080/",
          "height": 756
        }
      },
      "source": [
        "# Run the model.\n",
        "try:\n",
        "  time_start = time.time()\n",
        "\n",
        "  history = model.fit(X_train, y_train,\n",
        "                      epochs=20,\n",
        "                      verbose=True,\n",
        "                      validation_data=(smaller_X_dev, smaller_y_dev),\n",
        "                      batch_size=BATCH_SIZE)\n",
        "\n",
        "  currentTime = time.gmtime(time.time() - time_start)\n",
        "\n",
        "  #Convert the gmtime struct to a string\n",
        "  timeStr = time.strftime(\"%M minutes, %S seconds\", currentTime)\n",
        "\n",
        "  print(\"Trained in {}\".format(timeStr))\n",
        "\n",
        "except:\n",
        "  currentTime = time.gmtime(time.time() - time_start)\n",
        "\n",
        "  #Convert the gmtime struct to a string\n",
        "  timeStr = time.strftime(\"%M minutes, %S seconds\", currentTime)\n",
        "\n",
        "  print(\"Trained in {}\".format(timeStr))  "
      ],
      "execution_count": 51,
      "outputs": [
        {
          "output_type": "stream",
          "text": [
            "Train on 3962284 samples, validate on 2000000 samples\n",
            "Epoch 1/20\n",
            "3962284/3962284 [==============================] - 116s 29us/sample - loss: 8.2791e-04 - acc: 1.0000 - val_loss: 6.4449e-07 - val_acc: 1.0000\n",
            "Epoch 2/20\n",
            "3962284/3962284 [==============================] - 116s 29us/sample - loss: 1.3128e-06 - acc: 1.0000 - val_loss: 4.3882e-08 - val_acc: 1.0000\n",
            "Epoch 3/20\n",
            "3962284/3962284 [==============================] - 120s 30us/sample - loss: 1.0518e-07 - acc: 1.0000 - val_loss: 4.3680e-09 - val_acc: 1.0000\n",
            "Epoch 4/20\n",
            "3962284/3962284 [==============================] - 114s 29us/sample - loss: 1.1089e-08 - acc: 1.0000 - val_loss: 5.2528e-10 - val_acc: 1.0000\n",
            "Epoch 5/20\n",
            "3962284/3962284 [==============================] - 113s 29us/sample - loss: 1.5022e-09 - acc: 1.0000 - val_loss: 9.3907e-11 - val_acc: 1.0000\n",
            "Epoch 6/20\n",
            "3962284/3962284 [==============================] - 114s 29us/sample - loss: 3.2707e-10 - acc: 1.0000 - val_loss: 2.8364e-11 - val_acc: 1.0000\n",
            "Epoch 7/20\n",
            "3962284/3962284 [==============================] - 114s 29us/sample - loss: 1.2082e-10 - acc: 1.0000 - val_loss: 1.3420e-11 - val_acc: 1.0000\n",
            "Epoch 8/20\n",
            "3962284/3962284 [==============================] - 115s 29us/sample - loss: 6.5534e-11 - acc: 1.0000 - val_loss: 8.3436e-12 - val_acc: 1.0000\n",
            "Epoch 9/20\n",
            "3962284/3962284 [==============================] - 113s 29us/sample - loss: 4.3905e-11 - acc: 1.0000 - val_loss: 5.9882e-12 - val_acc: 1.0000\n",
            "Epoch 10/20\n",
            "3962284/3962284 [==============================] - 116s 29us/sample - loss: 3.2835e-11 - acc: 1.0000 - val_loss: 4.6516e-12 - val_acc: 1.0000\n",
            "Epoch 11/20\n",
            "3962284/3962284 [==============================] - 114s 29us/sample - loss: 2.6160e-11 - acc: 1.0000 - val_loss: 3.7947e-12 - val_acc: 1.0000\n",
            "Epoch 12/20\n",
            "3962284/3962284 [==============================] - 116s 29us/sample - loss: 2.1704e-11 - acc: 1.0000 - val_loss: 3.1991e-12 - val_acc: 1.0000\n",
            "Epoch 13/20\n",
            "3962284/3962284 [==============================] - 113s 29us/sample - loss: 1.8523e-11 - acc: 1.0000 - val_loss: 2.7621e-12 - val_acc: 1.0000\n",
            "Epoch 14/20\n",
            "3962284/3962284 [==============================] - 115s 29us/sample - loss: 1.6139e-11 - acc: 1.0000 - val_loss: 2.4278e-12 - val_acc: 1.0000\n",
            "Epoch 15/20\n",
            "3962284/3962284 [==============================] - 114s 29us/sample - loss: 1.4289e-11 - acc: 1.0000 - val_loss: 2.1647e-12 - val_acc: 1.0000\n",
            "Epoch 16/20\n",
            "3962284/3962284 [==============================] - 116s 29us/sample - loss: 1.2814e-11 - acc: 1.0000 - val_loss: 1.9522e-12 - val_acc: 1.0000\n",
            "Epoch 17/20\n",
            "3962284/3962284 [==============================] - 114s 29us/sample - loss: 1.1609e-11 - acc: 1.0000 - val_loss: 1.7762e-12 - val_acc: 1.0000\n",
            "Epoch 18/20\n",
            "3962284/3962284 [==============================] - 118s 30us/sample - loss: 1.0602e-11 - acc: 1.0000 - val_loss: 1.6282e-12 - val_acc: 1.0000\n",
            "Epoch 19/20\n",
            "3962284/3962284 [==============================] - 115s 29us/sample - loss: 9.7517e-12 - acc: 1.0000 - val_loss: 1.5025e-12 - val_acc: 1.0000\n",
            "Epoch 20/20\n",
            "3962284/3962284 [==============================] - 116s 29us/sample - loss: 9.0264e-12 - acc: 1.0000 - val_loss: 1.3950e-12 - val_acc: 1.0000\n",
            "Trained in 38 minutes, 21 seconds\n"
          ],
          "name": "stdout"
        }
      ]
    },
    {
      "cell_type": "code",
      "metadata": {
        "id": "h4P5Y5wgSs1o",
        "colab_type": "code",
        "outputId": "db4a073c-b341-48ce-9f52-ac91c5edd4c4",
        "colab": {
          "base_uri": "https://localhost:8080/",
          "height": 52
        }
      },
      "source": [
        "loss, accuracy = model.evaluate(X_train, y_train, verbose=False)\n",
        "print(\"Training Accuracy: {:.4f}\".format(accuracy))\n",
        "loss, accuracy = model.evaluate(X_test, y_dev, verbose=False)\n",
        "print(\"Testing Accuracy:  {:.4f}\".format(accuracy))\n"
      ],
      "execution_count": 52,
      "outputs": [
        {
          "output_type": "stream",
          "text": [
            "Training Accuracy: 1.0000\n",
            "Testing Accuracy:  1.0000\n"
          ],
          "name": "stdout"
        }
      ]
    },
    {
      "cell_type": "code",
      "metadata": {
        "id": "zZanpp-O9oiz",
        "colab_type": "code",
        "outputId": "2fe7d095-9a28-4155-e879-4bcb0d698352",
        "colab": {
          "base_uri": "https://localhost:8080/",
          "height": 367
        }
      },
      "source": [
        "# ROC AUC\n",
        "from sklearn.metrics import roc_auc_score\n",
        "# predict probabilities for test set\n",
        "yhat_probs = model.predict(X_test, verbose=0)\n",
        "# reduce to 1d array\n",
        "yhat_probs = yhat_probs[:,0]\n",
        "auc = roc_auc_score(y_dev, yhat_probs)\n",
        "print('ROC AUC:', auc)\n"
      ],
      "execution_count": 53,
      "outputs": [
        {
          "output_type": "error",
          "ename": "ValueError",
          "evalue": "ignored",
          "traceback": [
            "\u001b[0;31m---------------------------------------------------------------------------\u001b[0m",
            "\u001b[0;31mValueError\u001b[0m                                Traceback (most recent call last)",
            "\u001b[0;32m<ipython-input-53-76f4cfeb71ae>\u001b[0m in \u001b[0;36m<module>\u001b[0;34m()\u001b[0m\n\u001b[1;32m      4\u001b[0m \u001b[0;31m# reduce to 1d array\u001b[0m\u001b[0;34m\u001b[0m\u001b[0;34m\u001b[0m\u001b[0;34m\u001b[0m\u001b[0m\n\u001b[1;32m      5\u001b[0m \u001b[0myhat_probs\u001b[0m \u001b[0;34m=\u001b[0m \u001b[0myhat_probs\u001b[0m\u001b[0;34m[\u001b[0m\u001b[0;34m:\u001b[0m\u001b[0;34m,\u001b[0m\u001b[0;36m0\u001b[0m\u001b[0;34m]\u001b[0m\u001b[0;34m\u001b[0m\u001b[0;34m\u001b[0m\u001b[0m\n\u001b[0;32m----> 6\u001b[0;31m \u001b[0mauc\u001b[0m \u001b[0;34m=\u001b[0m \u001b[0mroc_auc_score\u001b[0m\u001b[0;34m(\u001b[0m\u001b[0my_dev\u001b[0m\u001b[0;34m,\u001b[0m \u001b[0myhat_probs\u001b[0m\u001b[0;34m)\u001b[0m\u001b[0;34m\u001b[0m\u001b[0;34m\u001b[0m\u001b[0m\n\u001b[0m\u001b[1;32m      7\u001b[0m \u001b[0mprint\u001b[0m\u001b[0;34m(\u001b[0m\u001b[0;34m'ROC AUC:'\u001b[0m\u001b[0;34m,\u001b[0m \u001b[0mauc\u001b[0m\u001b[0;34m)\u001b[0m\u001b[0;34m\u001b[0m\u001b[0;34m\u001b[0m\u001b[0m\n",
            "\u001b[0;32m/usr/local/lib/python3.6/dist-packages/sklearn/metrics/ranking.py\u001b[0m in \u001b[0;36mroc_auc_score\u001b[0;34m(y_true, y_score, average, sample_weight, max_fpr)\u001b[0m\n\u001b[1;32m    353\u001b[0m     return _average_binary_score(\n\u001b[1;32m    354\u001b[0m         \u001b[0m_binary_roc_auc_score\u001b[0m\u001b[0;34m,\u001b[0m \u001b[0my_true\u001b[0m\u001b[0;34m,\u001b[0m \u001b[0my_score\u001b[0m\u001b[0;34m,\u001b[0m \u001b[0maverage\u001b[0m\u001b[0;34m,\u001b[0m\u001b[0;34m\u001b[0m\u001b[0;34m\u001b[0m\u001b[0m\n\u001b[0;32m--> 355\u001b[0;31m         sample_weight=sample_weight)\n\u001b[0m\u001b[1;32m    356\u001b[0m \u001b[0;34m\u001b[0m\u001b[0m\n\u001b[1;32m    357\u001b[0m \u001b[0;34m\u001b[0m\u001b[0m\n",
            "\u001b[0;32m/usr/local/lib/python3.6/dist-packages/sklearn/metrics/base.py\u001b[0m in \u001b[0;36m_average_binary_score\u001b[0;34m(binary_metric, y_true, y_score, average, sample_weight)\u001b[0m\n\u001b[1;32m     74\u001b[0m \u001b[0;34m\u001b[0m\u001b[0m\n\u001b[1;32m     75\u001b[0m     \u001b[0;32mif\u001b[0m \u001b[0my_type\u001b[0m \u001b[0;34m==\u001b[0m \u001b[0;34m\"binary\"\u001b[0m\u001b[0;34m:\u001b[0m\u001b[0;34m\u001b[0m\u001b[0;34m\u001b[0m\u001b[0m\n\u001b[0;32m---> 76\u001b[0;31m         \u001b[0;32mreturn\u001b[0m \u001b[0mbinary_metric\u001b[0m\u001b[0;34m(\u001b[0m\u001b[0my_true\u001b[0m\u001b[0;34m,\u001b[0m \u001b[0my_score\u001b[0m\u001b[0;34m,\u001b[0m \u001b[0msample_weight\u001b[0m\u001b[0;34m=\u001b[0m\u001b[0msample_weight\u001b[0m\u001b[0;34m)\u001b[0m\u001b[0;34m\u001b[0m\u001b[0;34m\u001b[0m\u001b[0m\n\u001b[0m\u001b[1;32m     77\u001b[0m \u001b[0;34m\u001b[0m\u001b[0m\n\u001b[1;32m     78\u001b[0m     \u001b[0mcheck_consistent_length\u001b[0m\u001b[0;34m(\u001b[0m\u001b[0my_true\u001b[0m\u001b[0;34m,\u001b[0m \u001b[0my_score\u001b[0m\u001b[0;34m,\u001b[0m \u001b[0msample_weight\u001b[0m\u001b[0;34m)\u001b[0m\u001b[0;34m\u001b[0m\u001b[0;34m\u001b[0m\u001b[0m\n",
            "\u001b[0;32m/usr/local/lib/python3.6/dist-packages/sklearn/metrics/ranking.py\u001b[0m in \u001b[0;36m_binary_roc_auc_score\u001b[0;34m(y_true, y_score, sample_weight)\u001b[0m\n\u001b[1;32m    321\u001b[0m     \u001b[0;32mdef\u001b[0m \u001b[0m_binary_roc_auc_score\u001b[0m\u001b[0;34m(\u001b[0m\u001b[0my_true\u001b[0m\u001b[0;34m,\u001b[0m \u001b[0my_score\u001b[0m\u001b[0;34m,\u001b[0m \u001b[0msample_weight\u001b[0m\u001b[0;34m=\u001b[0m\u001b[0;32mNone\u001b[0m\u001b[0;34m)\u001b[0m\u001b[0;34m:\u001b[0m\u001b[0;34m\u001b[0m\u001b[0;34m\u001b[0m\u001b[0m\n\u001b[1;32m    322\u001b[0m         \u001b[0;32mif\u001b[0m \u001b[0mlen\u001b[0m\u001b[0;34m(\u001b[0m\u001b[0mnp\u001b[0m\u001b[0;34m.\u001b[0m\u001b[0munique\u001b[0m\u001b[0;34m(\u001b[0m\u001b[0my_true\u001b[0m\u001b[0;34m)\u001b[0m\u001b[0;34m)\u001b[0m \u001b[0;34m!=\u001b[0m \u001b[0;36m2\u001b[0m\u001b[0;34m:\u001b[0m\u001b[0;34m\u001b[0m\u001b[0;34m\u001b[0m\u001b[0m\n\u001b[0;32m--> 323\u001b[0;31m             raise ValueError(\"Only one class present in y_true. ROC AUC score \"\n\u001b[0m\u001b[1;32m    324\u001b[0m                              \"is not defined in that case.\")\n\u001b[1;32m    325\u001b[0m \u001b[0;34m\u001b[0m\u001b[0m\n",
            "\u001b[0;31mValueError\u001b[0m: Only one class present in y_true. ROC AUC score is not defined in that case."
          ]
        }
      ]
    },
    {
      "cell_type": "code",
      "metadata": {
        "id": "L5G9XjaGJh-T",
        "colab_type": "code",
        "colab": {}
      },
      "source": [
        "# can't get this to work\n",
        "# plot_model(history)"
      ],
      "execution_count": 0,
      "outputs": []
    },
    {
      "cell_type": "code",
      "metadata": {
        "id": "ccL7n659KbQ-",
        "colab_type": "code",
        "colab": {}
      },
      "source": [
        "preds = yhat_probs # model.predict(X_test)"
      ],
      "execution_count": 0,
      "outputs": []
    },
    {
      "cell_type": "code",
      "metadata": {
        "id": "lhpB8QsgGMZ5",
        "colab_type": "code",
        "colab": {}
      },
      "source": [
        "dev_df['probs'] = preds"
      ],
      "execution_count": 0,
      "outputs": []
    },
    {
      "cell_type": "code",
      "metadata": {
        "id": "1T2IxdCMGf2e",
        "colab_type": "code",
        "colab": {}
      },
      "source": [
        "def pred_to_label(row):\n",
        "  if row['probs'] >= .5:\n",
        "    return 'M'\n",
        "  else:\n",
        "    return 'W'\n",
        "\n",
        "dev_df['preds'] = dev_df.apply(pred_to_label, axis=1)"
      ],
      "execution_count": 0,
      "outputs": []
    },
    {
      "cell_type": "code",
      "metadata": {
        "id": "NzbasnNWGg5J",
        "colab_type": "code",
        "colab": {}
      },
      "source": [
        "wrong_preds = dev_df[dev_df.op_gender!=dev_df.preds]"
      ],
      "execution_count": 0,
      "outputs": []
    },
    {
      "cell_type": "code",
      "metadata": {
        "id": "nAYve8ZhG7wt",
        "colab_type": "code",
        "outputId": "2af6674f-66c5-40bd-af36-e0cda946f4e7",
        "colab": {
          "base_uri": "https://localhost:8080/",
          "height": 52
        }
      },
      "source": [
        "wrong_preds.op_gender.value_counts()"
      ],
      "execution_count": 58,
      "outputs": [
        {
          "output_type": "execute_result",
          "data": {
            "text/plain": [
              "M    1731288\n",
              "Name: op_gender, dtype: int64"
            ]
          },
          "metadata": {
            "tags": []
          },
          "execution_count": 58
        }
      ]
    },
    {
      "cell_type": "code",
      "metadata": {
        "id": "NJJrm2LxHFzN",
        "colab_type": "code",
        "outputId": "517e5feb-bcbe-4e56-8b27-abf68a089e98",
        "colab": {
          "base_uri": "https://localhost:8080/",
          "height": 34
        }
      },
      "source": [
        "# total proportion of preds for women\n",
        "dev_df.preds.value_counts()['W'] / len(dev_df)"
      ],
      "execution_count": 59,
      "outputs": [
        {
          "output_type": "execute_result",
          "data": {
            "text/plain": [
              "1.0"
            ]
          },
          "metadata": {
            "tags": []
          },
          "execution_count": 59
        }
      ]
    },
    {
      "cell_type": "code",
      "metadata": {
        "id": "SxFooJUbHVUB",
        "colab_type": "code",
        "outputId": "42daeb2a-b19e-487a-c399-bb42ad4f1542",
        "colab": {
          "base_uri": "https://localhost:8080/",
          "height": 874
        }
      },
      "source": [
        "#random sample of mistakes\n",
        "wrong_preds.head(20)"
      ],
      "execution_count": 60,
      "outputs": [
        {
          "output_type": "execute_result",
          "data": {
            "text/html": [
              "<div>\n",
              "<style scoped>\n",
              "    .dataframe tbody tr th:only-of-type {\n",
              "        vertical-align: middle;\n",
              "    }\n",
              "\n",
              "    .dataframe tbody tr th {\n",
              "        vertical-align: top;\n",
              "    }\n",
              "\n",
              "    .dataframe thead th {\n",
              "        text-align: right;\n",
              "    }\n",
              "</style>\n",
              "<table border=\"1\" class=\"dataframe\">\n",
              "  <thead>\n",
              "    <tr style=\"text-align: right;\">\n",
              "      <th></th>\n",
              "      <th>original_idx</th>\n",
              "      <th>op_id</th>\n",
              "      <th>op_gender</th>\n",
              "      <th>post_id</th>\n",
              "      <th>responder_id</th>\n",
              "      <th>response_text</th>\n",
              "      <th>op_name</th>\n",
              "      <th>op_category</th>\n",
              "      <th>probs</th>\n",
              "      <th>preds</th>\n",
              "    </tr>\n",
              "  </thead>\n",
              "  <tbody>\n",
              "    <tr>\n",
              "      <th>1212538</th>\n",
              "      <td>6671722</td>\n",
              "      <td>77657070</td>\n",
              "      <td>M</td>\n",
              "      <td>255777</td>\n",
              "      <td>Joe</td>\n",
              "      <td>have another glass of kool-aid, \"freedumb guy\".</td>\n",
              "      <td>Mike Crapo</td>\n",
              "      <td>Congress_Republican</td>\n",
              "      <td>0.0</td>\n",
              "      <td>W</td>\n",
              "    </tr>\n",
              "    <tr>\n",
              "      <th>1804342</th>\n",
              "      <td>10327479</td>\n",
              "      <td>32570461</td>\n",
              "      <td>M</td>\n",
              "      <td>382365</td>\n",
              "      <td>Deborah</td>\n",
              "      <td>do not know you, sen. politname therefore i have no idea whether you can answer this or not, but...</td>\n",
              "      <td>Tim Kaine</td>\n",
              "      <td>Congress_Democratic</td>\n",
              "      <td>0.0</td>\n",
              "      <td>W</td>\n",
              "    </tr>\n",
              "    <tr>\n",
              "      <th>1830247</th>\n",
              "      <td>10353384</td>\n",
              "      <td>55333293</td>\n",
              "      <td>M</td>\n",
              "      <td>383427</td>\n",
              "      <td>Toni</td>\n",
              "      <td>oh good for you politname stand strong.</td>\n",
              "      <td>Peter DeFazio</td>\n",
              "      <td>Congress_Democratic</td>\n",
              "      <td>0.0</td>\n",
              "      <td>W</td>\n",
              "    </tr>\n",
              "    <tr>\n",
              "      <th>129810</th>\n",
              "      <td>2285668</td>\n",
              "      <td>89989833</td>\n",
              "      <td>M</td>\n",
              "      <td>48913</td>\n",
              "      <td>Leisa</td>\n",
              "      <td>unless u have served your country on front lines or as a sniper or team seal 6 no one has a righ...</td>\n",
              "      <td>Ted Poe</td>\n",
              "      <td>Congress_Republican</td>\n",
              "      <td>0.0</td>\n",
              "      <td>W</td>\n",
              "    </tr>\n",
              "    <tr>\n",
              "      <th>785857</th>\n",
              "      <td>5034911</td>\n",
              "      <td>46506154</td>\n",
              "      <td>M</td>\n",
              "      <td>160605</td>\n",
              "      <td>Jeff</td>\n",
              "      <td>you came prepared the other night, sir. shout out back from a regular guy in tampa bay😎</td>\n",
              "      <td>Marco Rubio</td>\n",
              "      <td>Congress_Republican</td>\n",
              "      <td>0.0</td>\n",
              "      <td>W</td>\n",
              "    </tr>\n",
              "    <tr>\n",
              "      <th>2193870</th>\n",
              "      <td>11836609</td>\n",
              "      <td>92368226</td>\n",
              "      <td>M</td>\n",
              "      <td>433405</td>\n",
              "      <td>Michele</td>\n",
              "      <td>i am a native californian and i read about this a few weeks ago in my home town news paper . i w...</td>\n",
              "      <td>Michael McCaul</td>\n",
              "      <td>Congress_Republican</td>\n",
              "      <td>0.0</td>\n",
              "      <td>W</td>\n",
              "    </tr>\n",
              "    <tr>\n",
              "      <th>2244590</th>\n",
              "      <td>12503101</td>\n",
              "      <td>40220308</td>\n",
              "      <td>M</td>\n",
              "      <td>469309</td>\n",
              "      <td>Scott</td>\n",
              "      <td>here is how unconstitutional \"earmarks\" are abused lori. latino museum panel shovels tax dollars...</td>\n",
              "      <td>Joe Barton</td>\n",
              "      <td>Congress_Republican</td>\n",
              "      <td>0.0</td>\n",
              "      <td>W</td>\n",
              "    </tr>\n",
              "    <tr>\n",
              "      <th>815094</th>\n",
              "      <td>5064148</td>\n",
              "      <td>46506154</td>\n",
              "      <td>M</td>\n",
              "      <td>160692</td>\n",
              "      <td>Muriel</td>\n",
              "      <td>iran should definitely be #1 then planned parenthood</td>\n",
              "      <td>Marco Rubio</td>\n",
              "      <td>Congress_Republican</td>\n",
              "      <td>0.0</td>\n",
              "      <td>W</td>\n",
              "    </tr>\n",
              "    <tr>\n",
              "      <th>1103205</th>\n",
              "      <td>5352259</td>\n",
              "      <td>46506154</td>\n",
              "      <td>M</td>\n",
              "      <td>161717</td>\n",
              "      <td>Taylor</td>\n",
              "      <td>politname politname is just more of the same.... unless these politicians are talking about the ...</td>\n",
              "      <td>Marco Rubio</td>\n",
              "      <td>Congress_Republican</td>\n",
              "      <td>0.0</td>\n",
              "      <td>W</td>\n",
              "    </tr>\n",
              "    <tr>\n",
              "      <th>185345</th>\n",
              "      <td>2362097</td>\n",
              "      <td>62246450</td>\n",
              "      <td>M</td>\n",
              "      <td>52522</td>\n",
              "      <td>Dona</td>\n",
              "      <td>disturbing to say the least. history has a way of repeating itself which is more disturbing. gas...</td>\n",
              "      <td>Ron Wyden</td>\n",
              "      <td>Congress_Democratic</td>\n",
              "      <td>0.0</td>\n",
              "      <td>W</td>\n",
              "    </tr>\n",
              "    <tr>\n",
              "      <th>312521</th>\n",
              "      <td>2577056</td>\n",
              "      <td>59227815</td>\n",
              "      <td>M</td>\n",
              "      <td>63440</td>\n",
              "      <td>Francine</td>\n",
              "      <td>lets not vote for trump and vote you out also</td>\n",
              "      <td>Paul Ryan</td>\n",
              "      <td>Congress_Republican</td>\n",
              "      <td>0.0</td>\n",
              "      <td>W</td>\n",
              "    </tr>\n",
              "    <tr>\n",
              "      <th>1462312</th>\n",
              "      <td>7880606</td>\n",
              "      <td>99469231</td>\n",
              "      <td>M</td>\n",
              "      <td>296344</td>\n",
              "      <td>Sean</td>\n",
              "      <td>r.i.p. bud !!!!!</td>\n",
              "      <td>John McCain</td>\n",
              "      <td>Congress_Republican</td>\n",
              "      <td>0.0</td>\n",
              "      <td>W</td>\n",
              "    </tr>\n",
              "    <tr>\n",
              "      <th>1204350</th>\n",
              "      <td>6663534</td>\n",
              "      <td>77657070</td>\n",
              "      <td>M</td>\n",
              "      <td>255144</td>\n",
              "      <td>SueEllen</td>\n",
              "      <td>thank you for taking a stand. this is the last straw. trump is a danger to us all. i read commen...</td>\n",
              "      <td>Mike Crapo</td>\n",
              "      <td>Congress_Republican</td>\n",
              "      <td>0.0</td>\n",
              "      <td>W</td>\n",
              "    </tr>\n",
              "    <tr>\n",
              "      <th>498563</th>\n",
              "      <td>4080762</td>\n",
              "      <td>77914417</td>\n",
              "      <td>M</td>\n",
              "      <td>142967</td>\n",
              "      <td>Gregg</td>\n",
              "      <td>republicans have financial astuteness? bite your tongue, carla. can it be any more clear that th...</td>\n",
              "      <td>John Garamendi</td>\n",
              "      <td>Congress_Democratic</td>\n",
              "      <td>0.0</td>\n",
              "      <td>W</td>\n",
              "    </tr>\n",
              "    <tr>\n",
              "      <th>35708</th>\n",
              "      <td>2153623</td>\n",
              "      <td>38794897</td>\n",
              "      <td>M</td>\n",
              "      <td>36695</td>\n",
              "      <td>Don</td>\n",
              "      <td>more liberal feel good crap from this buffoon.</td>\n",
              "      <td>Sherrod Brown</td>\n",
              "      <td>Congress_Democratic</td>\n",
              "      <td>0.0</td>\n",
              "      <td>W</td>\n",
              "    </tr>\n",
              "    <tr>\n",
              "      <th>625547</th>\n",
              "      <td>4874601</td>\n",
              "      <td>46506154</td>\n",
              "      <td>M</td>\n",
              "      <td>160208</td>\n",
              "      <td>Billy</td>\n",
              "      <td>https://m.youtube.com/watch?v=csimbknbavk politname is for the gang of 8 bill. he does not direc...</td>\n",
              "      <td>Marco Rubio</td>\n",
              "      <td>Congress_Republican</td>\n",
              "      <td>0.0</td>\n",
              "      <td>W</td>\n",
              "    </tr>\n",
              "    <tr>\n",
              "      <th>1131311</th>\n",
              "      <td>5380365</td>\n",
              "      <td>46506154</td>\n",
              "      <td>M</td>\n",
              "      <td>162120</td>\n",
              "      <td>Adam</td>\n",
              "      <td>well yes, but i believe romney has changed his stance on many of those issues to a more conserva...</td>\n",
              "      <td>Marco Rubio</td>\n",
              "      <td>Congress_Republican</td>\n",
              "      <td>0.0</td>\n",
              "      <td>W</td>\n",
              "    </tr>\n",
              "    <tr>\n",
              "      <th>53079</th>\n",
              "      <td>2170994</td>\n",
              "      <td>38794897</td>\n",
              "      <td>M</td>\n",
              "      <td>36862</td>\n",
              "      <td>Gail</td>\n",
              "      <td>proud of you senator brown. already voted for you.</td>\n",
              "      <td>Sherrod Brown</td>\n",
              "      <td>Congress_Democratic</td>\n",
              "      <td>0.0</td>\n",
              "      <td>W</td>\n",
              "    </tr>\n",
              "    <tr>\n",
              "      <th>1088864</th>\n",
              "      <td>5337918</td>\n",
              "      <td>46506154</td>\n",
              "      <td>M</td>\n",
              "      <td>161594</td>\n",
              "      <td>Jane</td>\n",
              "      <td>what a fantastic senator....i could not stop watching this...</td>\n",
              "      <td>Marco Rubio</td>\n",
              "      <td>Congress_Republican</td>\n",
              "      <td>0.0</td>\n",
              "      <td>W</td>\n",
              "    </tr>\n",
              "    <tr>\n",
              "      <th>497741</th>\n",
              "      <td>4079940</td>\n",
              "      <td>77914417</td>\n",
              "      <td>M</td>\n",
              "      <td>142421</td>\n",
              "      <td>Rolando</td>\n",
              "      <td>we can make a very fast rapid transit. technolgy is way too old, used to deliver mail in all flo...</td>\n",
              "      <td>John Garamendi</td>\n",
              "      <td>Congress_Democratic</td>\n",
              "      <td>0.0</td>\n",
              "      <td>W</td>\n",
              "    </tr>\n",
              "  </tbody>\n",
              "</table>\n",
              "</div>"
            ],
            "text/plain": [
              "         original_idx     op_id op_gender  ...          op_category probs preds\n",
              "1212538       6671722  77657070         M  ...  Congress_Republican   0.0     W\n",
              "1804342      10327479  32570461         M  ...  Congress_Democratic   0.0     W\n",
              "1830247      10353384  55333293         M  ...  Congress_Democratic   0.0     W\n",
              "129810        2285668  89989833         M  ...  Congress_Republican   0.0     W\n",
              "785857        5034911  46506154         M  ...  Congress_Republican   0.0     W\n",
              "2193870      11836609  92368226         M  ...  Congress_Republican   0.0     W\n",
              "2244590      12503101  40220308         M  ...  Congress_Republican   0.0     W\n",
              "815094        5064148  46506154         M  ...  Congress_Republican   0.0     W\n",
              "1103205       5352259  46506154         M  ...  Congress_Republican   0.0     W\n",
              "185345        2362097  62246450         M  ...  Congress_Democratic   0.0     W\n",
              "312521        2577056  59227815         M  ...  Congress_Republican   0.0     W\n",
              "1462312       7880606  99469231         M  ...  Congress_Republican   0.0     W\n",
              "1204350       6663534  77657070         M  ...  Congress_Republican   0.0     W\n",
              "498563        4080762  77914417         M  ...  Congress_Democratic   0.0     W\n",
              "35708         2153623  38794897         M  ...  Congress_Democratic   0.0     W\n",
              "625547        4874601  46506154         M  ...  Congress_Republican   0.0     W\n",
              "1131311       5380365  46506154         M  ...  Congress_Republican   0.0     W\n",
              "53079         2170994  38794897         M  ...  Congress_Democratic   0.0     W\n",
              "1088864       5337918  46506154         M  ...  Congress_Republican   0.0     W\n",
              "497741        4079940  77914417         M  ...  Congress_Democratic   0.0     W\n",
              "\n",
              "[20 rows x 10 columns]"
            ]
          },
          "metadata": {
            "tags": []
          },
          "execution_count": 60
        }
      ]
    },
    {
      "cell_type": "code",
      "metadata": {
        "id": "qaswseIjHc8j",
        "colab_type": "code",
        "outputId": "bb02aaad-f5c6-4385-ab03-2c87568b5f50",
        "colab": {
          "base_uri": "https://localhost:8080/",
          "height": 958
        }
      },
      "source": [
        "# most confident wrong predictions where the answer was F but they thought M\n",
        "# same as before - references to a male politician \n",
        "wrong_preds.sort_values('probs', ascending=False)[:20]"
      ],
      "execution_count": 61,
      "outputs": [
        {
          "output_type": "execute_result",
          "data": {
            "text/html": [
              "<div>\n",
              "<style scoped>\n",
              "    .dataframe tbody tr th:only-of-type {\n",
              "        vertical-align: middle;\n",
              "    }\n",
              "\n",
              "    .dataframe tbody tr th {\n",
              "        vertical-align: top;\n",
              "    }\n",
              "\n",
              "    .dataframe thead th {\n",
              "        text-align: right;\n",
              "    }\n",
              "</style>\n",
              "<table border=\"1\" class=\"dataframe\">\n",
              "  <thead>\n",
              "    <tr style=\"text-align: right;\">\n",
              "      <th></th>\n",
              "      <th>original_idx</th>\n",
              "      <th>op_id</th>\n",
              "      <th>op_gender</th>\n",
              "      <th>post_id</th>\n",
              "      <th>responder_id</th>\n",
              "      <th>response_text</th>\n",
              "      <th>op_name</th>\n",
              "      <th>op_category</th>\n",
              "      <th>probs</th>\n",
              "      <th>preds</th>\n",
              "    </tr>\n",
              "  </thead>\n",
              "  <tbody>\n",
              "    <tr>\n",
              "      <th>1212538</th>\n",
              "      <td>6671722</td>\n",
              "      <td>77657070</td>\n",
              "      <td>M</td>\n",
              "      <td>255777</td>\n",
              "      <td>Joe</td>\n",
              "      <td>have another glass of kool-aid, \"freedumb guy\".</td>\n",
              "      <td>Mike Crapo</td>\n",
              "      <td>Congress_Republican</td>\n",
              "      <td>0.0</td>\n",
              "      <td>W</td>\n",
              "    </tr>\n",
              "    <tr>\n",
              "      <th>405342</th>\n",
              "      <td>3174578</td>\n",
              "      <td>58406454</td>\n",
              "      <td>M</td>\n",
              "      <td>90824</td>\n",
              "      <td>Stan</td>\n",
              "      <td>wtg rep. wahlberg!</td>\n",
              "      <td>Tim Walberg</td>\n",
              "      <td>Congress_Republican</td>\n",
              "      <td>0.0</td>\n",
              "      <td>W</td>\n",
              "    </tr>\n",
              "    <tr>\n",
              "      <th>629405</th>\n",
              "      <td>4878459</td>\n",
              "      <td>46506154</td>\n",
              "      <td>M</td>\n",
              "      <td>160211</td>\n",
              "      <td>James</td>\n",
              "      <td>we have had enough politname politname guarantee us voters you will terminate your run not suspe...</td>\n",
              "      <td>Marco Rubio</td>\n",
              "      <td>Congress_Republican</td>\n",
              "      <td>0.0</td>\n",
              "      <td>W</td>\n",
              "    </tr>\n",
              "    <tr>\n",
              "      <th>956829</th>\n",
              "      <td>5205883</td>\n",
              "      <td>46506154</td>\n",
              "      <td>M</td>\n",
              "      <td>161288</td>\n",
              "      <td>Dorothea</td>\n",
              "      <td>i was raised in an eisenhower family of atlantic highlands do gooders town council churchgoing p...</td>\n",
              "      <td>Marco Rubio</td>\n",
              "      <td>Congress_Republican</td>\n",
              "      <td>0.0</td>\n",
              "      <td>W</td>\n",
              "    </tr>\n",
              "    <tr>\n",
              "      <th>1645234</th>\n",
              "      <td>10126093</td>\n",
              "      <td>51495713</td>\n",
              "      <td>M</td>\n",
              "      <td>370457</td>\n",
              "      <td>Albert</td>\n",
              "      <td>thank you sir.</td>\n",
              "      <td>Richard Shelby</td>\n",
              "      <td>Congress_Republican</td>\n",
              "      <td>0.0</td>\n",
              "      <td>W</td>\n",
              "    </tr>\n",
              "    <tr>\n",
              "      <th>2201540</th>\n",
              "      <td>11844279</td>\n",
              "      <td>41000375</td>\n",
              "      <td>M</td>\n",
              "      <td>435223</td>\n",
              "      <td>Penny</td>\n",
              "      <td>ms teri,I will take any and all the help i can get for my momma .right now with the way my momma...</td>\n",
              "      <td>Hal Rogers</td>\n",
              "      <td>Congress_Republican</td>\n",
              "      <td>0.0</td>\n",
              "      <td>W</td>\n",
              "    </tr>\n",
              "    <tr>\n",
              "      <th>90779</th>\n",
              "      <td>2208694</td>\n",
              "      <td>38794897</td>\n",
              "      <td>M</td>\n",
              "      <td>38366</td>\n",
              "      <td>Melanie</td>\n",
              "      <td>are you saying that you have no voice politname because the last time i checked this is a page f...</td>\n",
              "      <td>Sherrod Brown</td>\n",
              "      <td>Congress_Democratic</td>\n",
              "      <td>0.0</td>\n",
              "      <td>W</td>\n",
              "    </tr>\n",
              "    <tr>\n",
              "      <th>1064795</th>\n",
              "      <td>5313849</td>\n",
              "      <td>46506154</td>\n",
              "      <td>M</td>\n",
              "      <td>161443</td>\n",
              "      <td>Stacey</td>\n",
              "      <td>politname 2016 &amp; someone else that has fantastic &amp; outstanding like politname love, bobby jindah...</td>\n",
              "      <td>Marco Rubio</td>\n",
              "      <td>Congress_Republican</td>\n",
              "      <td>0.0</td>\n",
              "      <td>W</td>\n",
              "    </tr>\n",
              "    <tr>\n",
              "      <th>1373438</th>\n",
              "      <td>7791732</td>\n",
              "      <td>99469231</td>\n",
              "      <td>M</td>\n",
              "      <td>296200</td>\n",
              "      <td>Barb</td>\n",
              "      <td>football?! our social security system is not providing an income to live on. it was meant the di...</td>\n",
              "      <td>John McCain</td>\n",
              "      <td>Congress_Republican</td>\n",
              "      <td>0.0</td>\n",
              "      <td>W</td>\n",
              "    </tr>\n",
              "    <tr>\n",
              "      <th>1629368</th>\n",
              "      <td>10077238</td>\n",
              "      <td>49028900</td>\n",
              "      <td>M</td>\n",
              "      <td>366841</td>\n",
              "      <td>Robert</td>\n",
              "      <td>if the left wing media took your comments out of context and that has not what you meant then cl...</td>\n",
              "      <td>Steve King</td>\n",
              "      <td>Congress_Republican</td>\n",
              "      <td>0.0</td>\n",
              "      <td>W</td>\n",
              "    </tr>\n",
              "    <tr>\n",
              "      <th>1035390</th>\n",
              "      <td>5284444</td>\n",
              "      <td>46506154</td>\n",
              "      <td>M</td>\n",
              "      <td>161381</td>\n",
              "      <td>Jlds</td>\n",
              "      <td>please just please shut the fuck up. you make stupid look smart.</td>\n",
              "      <td>Marco Rubio</td>\n",
              "      <td>Congress_Republican</td>\n",
              "      <td>0.0</td>\n",
              "      <td>W</td>\n",
              "    </tr>\n",
              "    <tr>\n",
              "      <th>2256323</th>\n",
              "      <td>13075190</td>\n",
              "      <td>33944100</td>\n",
              "      <td>M</td>\n",
              "      <td>481757</td>\n",
              "      <td>Abdul</td>\n",
              "      <td>- democracy could not be carried on battleships; it only can be carried by mind</td>\n",
              "      <td>Robert Aderholt</td>\n",
              "      <td>Congress_Republican</td>\n",
              "      <td>0.0</td>\n",
              "      <td>W</td>\n",
              "    </tr>\n",
              "    <tr>\n",
              "      <th>1199481</th>\n",
              "      <td>6645665</td>\n",
              "      <td>48816171</td>\n",
              "      <td>M</td>\n",
              "      <td>253053</td>\n",
              "      <td>John</td>\n",
              "      <td>the american people can have no faith and trust in government when agencies such as the irs are ...</td>\n",
              "      <td>Kenny Marchant</td>\n",
              "      <td>Congress_Republican</td>\n",
              "      <td>0.0</td>\n",
              "      <td>W</td>\n",
              "    </tr>\n",
              "    <tr>\n",
              "      <th>2226545</th>\n",
              "      <td>12485056</td>\n",
              "      <td>40220308</td>\n",
              "      <td>M</td>\n",
              "      <td>468007</td>\n",
              "      <td>Bethany</td>\n",
              "      <td>he is destroying us and our constitution...not protecting it like he promised he would in his oa...</td>\n",
              "      <td>Joe Barton</td>\n",
              "      <td>Congress_Republican</td>\n",
              "      <td>0.0</td>\n",
              "      <td>W</td>\n",
              "    </tr>\n",
              "    <tr>\n",
              "      <th>61947</th>\n",
              "      <td>2179862</td>\n",
              "      <td>38794897</td>\n",
              "      <td>M</td>\n",
              "      <td>37006</td>\n",
              "      <td>Matt</td>\n",
              "      <td>ceo's taking a cut in pay? your're drinking the liberal koolaid. just like believing wall street...</td>\n",
              "      <td>Sherrod Brown</td>\n",
              "      <td>Congress_Democratic</td>\n",
              "      <td>0.0</td>\n",
              "      <td>W</td>\n",
              "    </tr>\n",
              "    <tr>\n",
              "      <th>1286447</th>\n",
              "      <td>7704741</td>\n",
              "      <td>99469231</td>\n",
              "      <td>M</td>\n",
              "      <td>296096</td>\n",
              "      <td>Lisa</td>\n",
              "      <td>thank you, senator politname for looking out for our country!!</td>\n",
              "      <td>John McCain</td>\n",
              "      <td>Congress_Republican</td>\n",
              "      <td>0.0</td>\n",
              "      <td>W</td>\n",
              "    </tr>\n",
              "    <tr>\n",
              "      <th>828581</th>\n",
              "      <td>5077635</td>\n",
              "      <td>46506154</td>\n",
              "      <td>M</td>\n",
              "      <td>160754</td>\n",
              "      <td>Jane</td>\n",
              "      <td>bad design on he t-shirt - to close to obama's design and/or reminds me of target (the store) wh...</td>\n",
              "      <td>Marco Rubio</td>\n",
              "      <td>Congress_Republican</td>\n",
              "      <td>0.0</td>\n",
              "      <td>W</td>\n",
              "    </tr>\n",
              "    <tr>\n",
              "      <th>2241053</th>\n",
              "      <td>12499564</td>\n",
              "      <td>40220308</td>\n",
              "      <td>M</td>\n",
              "      <td>469150</td>\n",
              "      <td>Lori</td>\n",
              "      <td>i thought only poor people gave money to obama in $5 increments. you mean there are wealthy demo...</td>\n",
              "      <td>Joe Barton</td>\n",
              "      <td>Congress_Republican</td>\n",
              "      <td>0.0</td>\n",
              "      <td>W</td>\n",
              "    </tr>\n",
              "    <tr>\n",
              "      <th>1103016</th>\n",
              "      <td>5352070</td>\n",
              "      <td>46506154</td>\n",
              "      <td>M</td>\n",
              "      <td>161715</td>\n",
              "      <td>Brenda</td>\n",
              "      <td>http://victimsofchinesedrywall.club.officelive.com/toxicamericandrywall.aspx thought you might w...</td>\n",
              "      <td>Marco Rubio</td>\n",
              "      <td>Congress_Republican</td>\n",
              "      <td>0.0</td>\n",
              "      <td>W</td>\n",
              "    </tr>\n",
              "    <tr>\n",
              "      <th>1814827</th>\n",
              "      <td>10337964</td>\n",
              "      <td>32570461</td>\n",
              "      <td>M</td>\n",
              "      <td>382577</td>\n",
              "      <td>Marci</td>\n",
              "      <td>govenor politname it was such a pleasure meeting you and hearing you speak at leisure world of v...</td>\n",
              "      <td>Tim Kaine</td>\n",
              "      <td>Congress_Democratic</td>\n",
              "      <td>0.0</td>\n",
              "      <td>W</td>\n",
              "    </tr>\n",
              "  </tbody>\n",
              "</table>\n",
              "</div>"
            ],
            "text/plain": [
              "         original_idx     op_id op_gender  ...          op_category probs preds\n",
              "1212538       6671722  77657070         M  ...  Congress_Republican   0.0     W\n",
              "405342        3174578  58406454         M  ...  Congress_Republican   0.0     W\n",
              "629405        4878459  46506154         M  ...  Congress_Republican   0.0     W\n",
              "956829        5205883  46506154         M  ...  Congress_Republican   0.0     W\n",
              "1645234      10126093  51495713         M  ...  Congress_Republican   0.0     W\n",
              "2201540      11844279  41000375         M  ...  Congress_Republican   0.0     W\n",
              "90779         2208694  38794897         M  ...  Congress_Democratic   0.0     W\n",
              "1064795       5313849  46506154         M  ...  Congress_Republican   0.0     W\n",
              "1373438       7791732  99469231         M  ...  Congress_Republican   0.0     W\n",
              "1629368      10077238  49028900         M  ...  Congress_Republican   0.0     W\n",
              "1035390       5284444  46506154         M  ...  Congress_Republican   0.0     W\n",
              "2256323      13075190  33944100         M  ...  Congress_Republican   0.0     W\n",
              "1199481       6645665  48816171         M  ...  Congress_Republican   0.0     W\n",
              "2226545      12485056  40220308         M  ...  Congress_Republican   0.0     W\n",
              "61947         2179862  38794897         M  ...  Congress_Democratic   0.0     W\n",
              "1286447       7704741  99469231         M  ...  Congress_Republican   0.0     W\n",
              "828581        5077635  46506154         M  ...  Congress_Republican   0.0     W\n",
              "2241053      12499564  40220308         M  ...  Congress_Republican   0.0     W\n",
              "1103016       5352070  46506154         M  ...  Congress_Republican   0.0     W\n",
              "1814827      10337964  32570461         M  ...  Congress_Democratic   0.0     W\n",
              "\n",
              "[20 rows x 10 columns]"
            ]
          },
          "metadata": {
            "tags": []
          },
          "execution_count": 61
        }
      ]
    },
    {
      "cell_type": "code",
      "metadata": {
        "id": "KoJzrEOfIct2",
        "colab_type": "code",
        "outputId": "87855fdd-e7bf-427f-bf9a-d691417157c6",
        "colab": {
          "base_uri": "https://localhost:8080/",
          "height": 958
        }
      },
      "source": [
        "# most confident wrong predictions where the answer was F but they thought M\n",
        "# same as before - references to a male politician \n",
        "wrong_preds.sort_values('probs', ascending=True)[:20]"
      ],
      "execution_count": 62,
      "outputs": [
        {
          "output_type": "execute_result",
          "data": {
            "text/html": [
              "<div>\n",
              "<style scoped>\n",
              "    .dataframe tbody tr th:only-of-type {\n",
              "        vertical-align: middle;\n",
              "    }\n",
              "\n",
              "    .dataframe tbody tr th {\n",
              "        vertical-align: top;\n",
              "    }\n",
              "\n",
              "    .dataframe thead th {\n",
              "        text-align: right;\n",
              "    }\n",
              "</style>\n",
              "<table border=\"1\" class=\"dataframe\">\n",
              "  <thead>\n",
              "    <tr style=\"text-align: right;\">\n",
              "      <th></th>\n",
              "      <th>original_idx</th>\n",
              "      <th>op_id</th>\n",
              "      <th>op_gender</th>\n",
              "      <th>post_id</th>\n",
              "      <th>responder_id</th>\n",
              "      <th>response_text</th>\n",
              "      <th>op_name</th>\n",
              "      <th>op_category</th>\n",
              "      <th>probs</th>\n",
              "      <th>preds</th>\n",
              "    </tr>\n",
              "  </thead>\n",
              "  <tbody>\n",
              "    <tr>\n",
              "      <th>1212538</th>\n",
              "      <td>6671722</td>\n",
              "      <td>77657070</td>\n",
              "      <td>M</td>\n",
              "      <td>255777</td>\n",
              "      <td>Joe</td>\n",
              "      <td>have another glass of kool-aid, \"freedumb guy\".</td>\n",
              "      <td>Mike Crapo</td>\n",
              "      <td>Congress_Republican</td>\n",
              "      <td>0.0</td>\n",
              "      <td>W</td>\n",
              "    </tr>\n",
              "    <tr>\n",
              "      <th>956829</th>\n",
              "      <td>5205883</td>\n",
              "      <td>46506154</td>\n",
              "      <td>M</td>\n",
              "      <td>161288</td>\n",
              "      <td>Dorothea</td>\n",
              "      <td>i was raised in an eisenhower family of atlantic highlands do gooders town council churchgoing p...</td>\n",
              "      <td>Marco Rubio</td>\n",
              "      <td>Congress_Republican</td>\n",
              "      <td>0.0</td>\n",
              "      <td>W</td>\n",
              "    </tr>\n",
              "    <tr>\n",
              "      <th>1645234</th>\n",
              "      <td>10126093</td>\n",
              "      <td>51495713</td>\n",
              "      <td>M</td>\n",
              "      <td>370457</td>\n",
              "      <td>Albert</td>\n",
              "      <td>thank you sir.</td>\n",
              "      <td>Richard Shelby</td>\n",
              "      <td>Congress_Republican</td>\n",
              "      <td>0.0</td>\n",
              "      <td>W</td>\n",
              "    </tr>\n",
              "    <tr>\n",
              "      <th>2201540</th>\n",
              "      <td>11844279</td>\n",
              "      <td>41000375</td>\n",
              "      <td>M</td>\n",
              "      <td>435223</td>\n",
              "      <td>Penny</td>\n",
              "      <td>ms teri,I will take any and all the help i can get for my momma .right now with the way my momma...</td>\n",
              "      <td>Hal Rogers</td>\n",
              "      <td>Congress_Republican</td>\n",
              "      <td>0.0</td>\n",
              "      <td>W</td>\n",
              "    </tr>\n",
              "    <tr>\n",
              "      <th>90779</th>\n",
              "      <td>2208694</td>\n",
              "      <td>38794897</td>\n",
              "      <td>M</td>\n",
              "      <td>38366</td>\n",
              "      <td>Melanie</td>\n",
              "      <td>are you saying that you have no voice politname because the last time i checked this is a page f...</td>\n",
              "      <td>Sherrod Brown</td>\n",
              "      <td>Congress_Democratic</td>\n",
              "      <td>0.0</td>\n",
              "      <td>W</td>\n",
              "    </tr>\n",
              "    <tr>\n",
              "      <th>1064795</th>\n",
              "      <td>5313849</td>\n",
              "      <td>46506154</td>\n",
              "      <td>M</td>\n",
              "      <td>161443</td>\n",
              "      <td>Stacey</td>\n",
              "      <td>politname 2016 &amp; someone else that has fantastic &amp; outstanding like politname love, bobby jindah...</td>\n",
              "      <td>Marco Rubio</td>\n",
              "      <td>Congress_Republican</td>\n",
              "      <td>0.0</td>\n",
              "      <td>W</td>\n",
              "    </tr>\n",
              "    <tr>\n",
              "      <th>1373438</th>\n",
              "      <td>7791732</td>\n",
              "      <td>99469231</td>\n",
              "      <td>M</td>\n",
              "      <td>296200</td>\n",
              "      <td>Barb</td>\n",
              "      <td>football?! our social security system is not providing an income to live on. it was meant the di...</td>\n",
              "      <td>John McCain</td>\n",
              "      <td>Congress_Republican</td>\n",
              "      <td>0.0</td>\n",
              "      <td>W</td>\n",
              "    </tr>\n",
              "    <tr>\n",
              "      <th>1629368</th>\n",
              "      <td>10077238</td>\n",
              "      <td>49028900</td>\n",
              "      <td>M</td>\n",
              "      <td>366841</td>\n",
              "      <td>Robert</td>\n",
              "      <td>if the left wing media took your comments out of context and that has not what you meant then cl...</td>\n",
              "      <td>Steve King</td>\n",
              "      <td>Congress_Republican</td>\n",
              "      <td>0.0</td>\n",
              "      <td>W</td>\n",
              "    </tr>\n",
              "    <tr>\n",
              "      <th>1035390</th>\n",
              "      <td>5284444</td>\n",
              "      <td>46506154</td>\n",
              "      <td>M</td>\n",
              "      <td>161381</td>\n",
              "      <td>Jlds</td>\n",
              "      <td>please just please shut the fuck up. you make stupid look smart.</td>\n",
              "      <td>Marco Rubio</td>\n",
              "      <td>Congress_Republican</td>\n",
              "      <td>0.0</td>\n",
              "      <td>W</td>\n",
              "    </tr>\n",
              "    <tr>\n",
              "      <th>2256323</th>\n",
              "      <td>13075190</td>\n",
              "      <td>33944100</td>\n",
              "      <td>M</td>\n",
              "      <td>481757</td>\n",
              "      <td>Abdul</td>\n",
              "      <td>- democracy could not be carried on battleships; it only can be carried by mind</td>\n",
              "      <td>Robert Aderholt</td>\n",
              "      <td>Congress_Republican</td>\n",
              "      <td>0.0</td>\n",
              "      <td>W</td>\n",
              "    </tr>\n",
              "    <tr>\n",
              "      <th>1199481</th>\n",
              "      <td>6645665</td>\n",
              "      <td>48816171</td>\n",
              "      <td>M</td>\n",
              "      <td>253053</td>\n",
              "      <td>John</td>\n",
              "      <td>the american people can have no faith and trust in government when agencies such as the irs are ...</td>\n",
              "      <td>Kenny Marchant</td>\n",
              "      <td>Congress_Republican</td>\n",
              "      <td>0.0</td>\n",
              "      <td>W</td>\n",
              "    </tr>\n",
              "    <tr>\n",
              "      <th>629405</th>\n",
              "      <td>4878459</td>\n",
              "      <td>46506154</td>\n",
              "      <td>M</td>\n",
              "      <td>160211</td>\n",
              "      <td>James</td>\n",
              "      <td>we have had enough politname politname guarantee us voters you will terminate your run not suspe...</td>\n",
              "      <td>Marco Rubio</td>\n",
              "      <td>Congress_Republican</td>\n",
              "      <td>0.0</td>\n",
              "      <td>W</td>\n",
              "    </tr>\n",
              "    <tr>\n",
              "      <th>2226545</th>\n",
              "      <td>12485056</td>\n",
              "      <td>40220308</td>\n",
              "      <td>M</td>\n",
              "      <td>468007</td>\n",
              "      <td>Bethany</td>\n",
              "      <td>he is destroying us and our constitution...not protecting it like he promised he would in his oa...</td>\n",
              "      <td>Joe Barton</td>\n",
              "      <td>Congress_Republican</td>\n",
              "      <td>0.0</td>\n",
              "      <td>W</td>\n",
              "    </tr>\n",
              "    <tr>\n",
              "      <th>1286447</th>\n",
              "      <td>7704741</td>\n",
              "      <td>99469231</td>\n",
              "      <td>M</td>\n",
              "      <td>296096</td>\n",
              "      <td>Lisa</td>\n",
              "      <td>thank you, senator politname for looking out for our country!!</td>\n",
              "      <td>John McCain</td>\n",
              "      <td>Congress_Republican</td>\n",
              "      <td>0.0</td>\n",
              "      <td>W</td>\n",
              "    </tr>\n",
              "    <tr>\n",
              "      <th>828581</th>\n",
              "      <td>5077635</td>\n",
              "      <td>46506154</td>\n",
              "      <td>M</td>\n",
              "      <td>160754</td>\n",
              "      <td>Jane</td>\n",
              "      <td>bad design on he t-shirt - to close to obama's design and/or reminds me of target (the store) wh...</td>\n",
              "      <td>Marco Rubio</td>\n",
              "      <td>Congress_Republican</td>\n",
              "      <td>0.0</td>\n",
              "      <td>W</td>\n",
              "    </tr>\n",
              "    <tr>\n",
              "      <th>2241053</th>\n",
              "      <td>12499564</td>\n",
              "      <td>40220308</td>\n",
              "      <td>M</td>\n",
              "      <td>469150</td>\n",
              "      <td>Lori</td>\n",
              "      <td>i thought only poor people gave money to obama in $5 increments. you mean there are wealthy demo...</td>\n",
              "      <td>Joe Barton</td>\n",
              "      <td>Congress_Republican</td>\n",
              "      <td>0.0</td>\n",
              "      <td>W</td>\n",
              "    </tr>\n",
              "    <tr>\n",
              "      <th>1103016</th>\n",
              "      <td>5352070</td>\n",
              "      <td>46506154</td>\n",
              "      <td>M</td>\n",
              "      <td>161715</td>\n",
              "      <td>Brenda</td>\n",
              "      <td>http://victimsofchinesedrywall.club.officelive.com/toxicamericandrywall.aspx thought you might w...</td>\n",
              "      <td>Marco Rubio</td>\n",
              "      <td>Congress_Republican</td>\n",
              "      <td>0.0</td>\n",
              "      <td>W</td>\n",
              "    </tr>\n",
              "    <tr>\n",
              "      <th>1814827</th>\n",
              "      <td>10337964</td>\n",
              "      <td>32570461</td>\n",
              "      <td>M</td>\n",
              "      <td>382577</td>\n",
              "      <td>Marci</td>\n",
              "      <td>govenor politname it was such a pleasure meeting you and hearing you speak at leisure world of v...</td>\n",
              "      <td>Tim Kaine</td>\n",
              "      <td>Congress_Democratic</td>\n",
              "      <td>0.0</td>\n",
              "      <td>W</td>\n",
              "    </tr>\n",
              "    <tr>\n",
              "      <th>2247391</th>\n",
              "      <td>12505902</td>\n",
              "      <td>40220308</td>\n",
              "      <td>M</td>\n",
              "      <td>469472</td>\n",
              "      <td>Debbie</td>\n",
              "      <td>as a business owner until two months ago, when we had to close ours, i can say that taxes, and r...</td>\n",
              "      <td>Joe Barton</td>\n",
              "      <td>Congress_Republican</td>\n",
              "      <td>0.0</td>\n",
              "      <td>W</td>\n",
              "    </tr>\n",
              "    <tr>\n",
              "      <th>2169357</th>\n",
              "      <td>11310337</td>\n",
              "      <td>95515852</td>\n",
              "      <td>M</td>\n",
              "      <td>401131</td>\n",
              "      <td>Cheryl</td>\n",
              "      <td>go peddle your bs elsewhere. not a single person from those countries have committed an act of t...</td>\n",
              "      <td>Bill Huizenga</td>\n",
              "      <td>Congress_Republican</td>\n",
              "      <td>0.0</td>\n",
              "      <td>W</td>\n",
              "    </tr>\n",
              "  </tbody>\n",
              "</table>\n",
              "</div>"
            ],
            "text/plain": [
              "         original_idx     op_id op_gender  ...          op_category probs preds\n",
              "1212538       6671722  77657070         M  ...  Congress_Republican   0.0     W\n",
              "956829        5205883  46506154         M  ...  Congress_Republican   0.0     W\n",
              "1645234      10126093  51495713         M  ...  Congress_Republican   0.0     W\n",
              "2201540      11844279  41000375         M  ...  Congress_Republican   0.0     W\n",
              "90779         2208694  38794897         M  ...  Congress_Democratic   0.0     W\n",
              "1064795       5313849  46506154         M  ...  Congress_Republican   0.0     W\n",
              "1373438       7791732  99469231         M  ...  Congress_Republican   0.0     W\n",
              "1629368      10077238  49028900         M  ...  Congress_Republican   0.0     W\n",
              "1035390       5284444  46506154         M  ...  Congress_Republican   0.0     W\n",
              "2256323      13075190  33944100         M  ...  Congress_Republican   0.0     W\n",
              "1199481       6645665  48816171         M  ...  Congress_Republican   0.0     W\n",
              "629405        4878459  46506154         M  ...  Congress_Republican   0.0     W\n",
              "2226545      12485056  40220308         M  ...  Congress_Republican   0.0     W\n",
              "1286447       7704741  99469231         M  ...  Congress_Republican   0.0     W\n",
              "828581        5077635  46506154         M  ...  Congress_Republican   0.0     W\n",
              "2241053      12499564  40220308         M  ...  Congress_Republican   0.0     W\n",
              "1103016       5352070  46506154         M  ...  Congress_Republican   0.0     W\n",
              "1814827      10337964  32570461         M  ...  Congress_Democratic   0.0     W\n",
              "2247391      12505902  40220308         M  ...  Congress_Republican   0.0     W\n",
              "2169357      11310337  95515852         M  ...  Congress_Republican   0.0     W\n",
              "\n",
              "[20 rows x 10 columns]"
            ]
          },
          "metadata": {
            "tags": []
          },
          "execution_count": 62
        }
      ]
    }
  ]
}
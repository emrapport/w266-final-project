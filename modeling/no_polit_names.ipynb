{
  "nbformat": 4,
  "nbformat_minor": 0,
  "metadata": {
    "kernelspec": {
      "name": "python3",
      "display_name": "Python 3"
    },
    "language_info": {
      "codemirror_mode": {
        "name": "ipython",
        "version": 3
      },
      "file_extension": ".py",
      "mimetype": "text/x-python",
      "name": "python",
      "nbconvert_exporter": "python",
      "pygments_lexer": "ipython3",
      "version": "3.7.4"
    },
    "colab": {
      "name": "no_polit_names.ipynb",
      "provenance": [],
      "machine_shape": "hm",
      "include_colab_link": true
    },
    "accelerator": "TPU"
  },
  "cells": [
    {
      "cell_type": "markdown",
      "metadata": {
        "id": "view-in-github",
        "colab_type": "text"
      },
      "source": [
        "<a href=\"https://colab.research.google.com/github/emrapport/w266-final-project/blob/master/modeling/no_polit_names.ipynb\" target=\"_parent\"><img src=\"https://colab.research.google.com/assets/colab-badge.svg\" alt=\"Open In Colab\"/></a>"
      ]
    },
    {
      "cell_type": "markdown",
      "metadata": {
        "id": "ldVKPuCY1oqk",
        "colab_type": "text"
      },
      "source": [
        "## Remove names of politicians.\n",
        "\n"
      ]
    },
    {
      "cell_type": "code",
      "metadata": {
        "id": "dJtCeCgbSs0D",
        "colab_type": "code",
        "colab": {}
      },
      "source": [
        "# this notebook is based off of this blog post: \n",
        "# https://realpython.com/python-keras-text-classification/#reader-comments"
      ],
      "execution_count": 0,
      "outputs": []
    },
    {
      "cell_type": "code",
      "metadata": {
        "id": "_QYIGfoPFRZK",
        "colab_type": "code",
        "colab": {}
      },
      "source": [
        "DATASET_NAME = \"no_politicians\"\n",
        "MODEL_NAME = \"no_politicians\"\n",
        "MAX_SEQ_LENGTH = 20\n",
        "TRAINING_SET_SIZE = 4000000\n",
        "VAL_SET_SIZE = 2000000\n",
        "NUM_EPOCHS = 30\n",
        "BATCH_SIZE = 1000\n",
        "MAX_SEQUENCE_LENGTH = 20\n",
        "\n",
        "\n",
        "# I don't think we have a good reason to do this right now\n",
        "# but we might eventually \n",
        "SAVE_TOKENIZED_DATA = False"
      ],
      "execution_count": 0,
      "outputs": []
    },
    {
      "cell_type": "code",
      "metadata": {
        "id": "l0rrZSx7Ss0M",
        "colab_type": "code",
        "outputId": "431290c3-6c6d-4dae-c515-f3d78c2613cf",
        "colab": {
          "base_uri": "https://localhost:8080/",
          "height": 492
        }
      },
      "source": [
        "from sklearn.linear_model import LogisticRegression\n",
        "from sklearn.feature_extraction.text import HashingVectorizer\n",
        "from scipy.sparse import hstack, vstack\n",
        "from keras.preprocessing.text import Tokenizer\n",
        "from tensorflow.keras import Sequential, layers\n",
        "from keras.utils import plot_model\n",
        "import pandas as pd\n",
        "import numpy as np\n",
        "import copy\n",
        "import time\n",
        "import pickle\n",
        "!pip install gcsfs\n",
        "\n",
        "pd.set_option('max_colwidth', 100)"
      ],
      "execution_count": 4,
      "outputs": [
        {
          "output_type": "stream",
          "text": [
            "Using TensorFlow backend.\n"
          ],
          "name": "stderr"
        },
        {
          "output_type": "stream",
          "text": [
            "Collecting gcsfs\n",
            "\u001b[?25l  Downloading https://files.pythonhosted.org/packages/ab/92/0297f2813cb240c52e90f8587420149970565800e019e1b08ef5ad28b6d9/gcsfs-0.3.1.tar.gz (43kB)\n",
            "\r\u001b[K     |███████▋                        | 10kB 18.8MB/s eta 0:00:01\r\u001b[K     |███████████████▏                | 20kB 2.2MB/s eta 0:00:01\r\u001b[K     |██████████████████████▊         | 30kB 3.2MB/s eta 0:00:01\r\u001b[K     |██████████████████████████████▎ | 40kB 2.1MB/s eta 0:00:01\r\u001b[K     |████████████████████████████████| 51kB 1.9MB/s \n",
            "\u001b[?25hRequirement already satisfied: google-auth>=1.2 in /usr/local/lib/python3.6/dist-packages (from gcsfs) (1.4.2)\n",
            "Requirement already satisfied: google-auth-oauthlib in /usr/local/lib/python3.6/dist-packages (from gcsfs) (0.4.1)\n",
            "Requirement already satisfied: requests in /usr/local/lib/python3.6/dist-packages (from gcsfs) (2.21.0)\n",
            "Requirement already satisfied: decorator in /usr/local/lib/python3.6/dist-packages (from gcsfs) (4.4.1)\n",
            "Requirement already satisfied: fsspec>=0.2.2 in /usr/local/lib/python3.6/dist-packages (from gcsfs) (0.5.2)\n",
            "Requirement already satisfied: cachetools>=2.0.0 in /usr/local/lib/python3.6/dist-packages (from google-auth>=1.2->gcsfs) (3.1.1)\n",
            "Requirement already satisfied: rsa>=3.1.4 in /usr/local/lib/python3.6/dist-packages (from google-auth>=1.2->gcsfs) (4.0)\n",
            "Requirement already satisfied: six>=1.9.0 in /usr/local/lib/python3.6/dist-packages (from google-auth>=1.2->gcsfs) (1.12.0)\n",
            "Requirement already satisfied: pyasn1-modules>=0.2.1 in /usr/local/lib/python3.6/dist-packages (from google-auth>=1.2->gcsfs) (0.2.7)\n",
            "Requirement already satisfied: requests-oauthlib>=0.7.0 in /usr/local/lib/python3.6/dist-packages (from google-auth-oauthlib->gcsfs) (1.3.0)\n",
            "Requirement already satisfied: chardet<3.1.0,>=3.0.2 in /usr/local/lib/python3.6/dist-packages (from requests->gcsfs) (3.0.4)\n",
            "Requirement already satisfied: urllib3<1.25,>=1.21.1 in /usr/local/lib/python3.6/dist-packages (from requests->gcsfs) (1.24.3)\n",
            "Requirement already satisfied: idna<2.9,>=2.5 in /usr/local/lib/python3.6/dist-packages (from requests->gcsfs) (2.8)\n",
            "Requirement already satisfied: certifi>=2017.4.17 in /usr/local/lib/python3.6/dist-packages (from requests->gcsfs) (2019.9.11)\n",
            "Requirement already satisfied: pyasn1>=0.1.3 in /usr/local/lib/python3.6/dist-packages (from rsa>=3.1.4->google-auth>=1.2->gcsfs) (0.4.7)\n",
            "Requirement already satisfied: oauthlib>=3.0.0 in /usr/local/lib/python3.6/dist-packages (from requests-oauthlib>=0.7.0->google-auth-oauthlib->gcsfs) (3.1.0)\n",
            "Building wheels for collected packages: gcsfs\n",
            "  Building wheel for gcsfs (setup.py) ... \u001b[?25l\u001b[?25hdone\n",
            "  Created wheel for gcsfs: filename=gcsfs-0.3.1-py2.py3-none-any.whl size=17936 sha256=8a744dc33b526ac1c14f7240ac86d0d7ba113473aec0e71cf413be113776e5d4\n",
            "  Stored in directory: /root/.cache/pip/wheels/9d/2b/6f/86954f0d8caa1173841e62bb780dc0f8693bd268e04a267682\n",
            "Successfully built gcsfs\n",
            "Installing collected packages: gcsfs\n",
            "Successfully installed gcsfs-0.3.1\n"
          ],
          "name": "stdout"
        }
      ]
    },
    {
      "cell_type": "code",
      "metadata": {
        "id": "lKNfUKrfUgP-",
        "colab_type": "code",
        "outputId": "8babca37-43f2-4cc5-dcca-6fcfc2fa955a",
        "colab": {
          "base_uri": "https://localhost:8080/",
          "height": 175
        }
      },
      "source": [
        "# this cell is only necessary if running in colab\n",
        "project_id = 'w266-251323'\n",
        "import uuid\n",
        "bucket_name = 'fb-congressional-data/'\n",
        "from google.colab import auth\n",
        "auth.authenticate_user()\n",
        "!gcloud config set project {project_id}"
      ],
      "execution_count": 5,
      "outputs": [
        {
          "output_type": "stream",
          "text": [
            "WARNING:tensorflow:\n",
            "The TensorFlow contrib module will not be included in TensorFlow 2.0.\n",
            "For more information, please see:\n",
            "  * https://github.com/tensorflow/community/blob/master/rfcs/20180907-contrib-sunset.md\n",
            "  * https://github.com/tensorflow/addons\n",
            "  * https://github.com/tensorflow/io (for I/O related ops)\n",
            "If you depend on functionality not listed there, please file an issue.\n",
            "\n",
            "Updated property [core/project].\n"
          ],
          "name": "stdout"
        }
      ]
    },
    {
      "cell_type": "code",
      "metadata": {
        "id": "9T7PzdLQSs0j",
        "colab_type": "code",
        "outputId": "b8abb39c-6379-434f-80d8-689f530c8230",
        "colab": {
          "base_uri": "https://localhost:8080/",
          "height": 72
        }
      },
      "source": [
        "train_df = pd.read_csv(\"gs://fb-congressional-data/contraction_expanded_data/train.csv\", index_col=0)"
      ],
      "execution_count": 6,
      "outputs": [
        {
          "output_type": "stream",
          "text": [
            "/usr/local/lib/python3.6/dist-packages/numpy/lib/arraysetops.py:568: FutureWarning: elementwise comparison failed; returning scalar instead, but in the future will perform elementwise comparison\n",
            "  mask |= (ar1 == a)\n"
          ],
          "name": "stderr"
        }
      ]
    },
    {
      "cell_type": "code",
      "metadata": {
        "id": "0iOniVLISs0m",
        "colab_type": "code",
        "outputId": "adfb0917-7c53-4219-ed7b-80a8be14d118",
        "colab": {
          "base_uri": "https://localhost:8080/",
          "height": 72
        }
      },
      "source": [
        "dev_df = pd.read_csv(\"gs://fb-congressional-data/contraction_expanded_data/dev.csv\", index_col=0)"
      ],
      "execution_count": 7,
      "outputs": [
        {
          "output_type": "stream",
          "text": [
            "/usr/local/lib/python3.6/dist-packages/numpy/lib/arraysetops.py:568: FutureWarning: elementwise comparison failed; returning scalar instead, but in the future will perform elementwise comparison\n",
            "  mask |= (ar1 == a)\n"
          ],
          "name": "stderr"
        }
      ]
    },
    {
      "cell_type": "code",
      "metadata": {
        "id": "dk4goOwAPXRH",
        "colab_type": "code",
        "outputId": "505510aa-bbde-411e-98c7-364f6c556ab4",
        "colab": {
          "base_uri": "https://localhost:8080/",
          "height": 34
        }
      },
      "source": [
        "len(train_df)"
      ],
      "execution_count": 0,
      "outputs": [
        {
          "output_type": "execute_result",
          "data": {
            "text/plain": [
              "9879016"
            ]
          },
          "metadata": {
            "tags": []
          },
          "execution_count": 6
        }
      ]
    },
    {
      "cell_type": "code",
      "metadata": {
        "id": "6sOBM6Q6Q4Mz",
        "colab_type": "code",
        "outputId": "79a2cdfb-9f9f-4155-c418-18149da05a94",
        "colab": {
          "base_uri": "https://localhost:8080/",
          "height": 34
        }
      },
      "source": [
        "len(dev_df)"
      ],
      "execution_count": 0,
      "outputs": [
        {
          "output_type": "execute_result",
          "data": {
            "text/plain": [
              "2292907"
            ]
          },
          "metadata": {
            "tags": []
          },
          "execution_count": 7
        }
      ]
    },
    {
      "cell_type": "code",
      "metadata": {
        "id": "pa0X18XgNgip",
        "colab_type": "code",
        "colab": {}
      },
      "source": [
        "# Get a list of the politicians' names.\n",
        "# I am using just the names listed in the op_name series.\n",
        "polit_names = train_df['op_name']\n",
        "polit_names.drop_duplicates(inplace=True)\n",
        "full_names_list = polit_names.to_list()\n",
        "polit_names_list = [name for names in full_names_list for name in names.split()]\n",
        "# Dedup the list again now that it's split.\n",
        "new_list = []\n",
        "for name in polit_names_list:\n",
        "    if name not in new_list:\n",
        "        new_list.append(name.lower())\n",
        "polit_names_list = new_list"
      ],
      "execution_count": 0,
      "outputs": []
    },
    {
      "cell_type": "code",
      "metadata": {
        "id": "s-GTOd_wmRzq",
        "colab_type": "code",
        "outputId": "37913b4b-dc27-4fd7-d9a4-7d65588bd32a",
        "colab": {
          "base_uri": "https://localhost:8080/",
          "height": 34
        }
      },
      "source": [
        "len(polit_names_list)"
      ],
      "execution_count": 7,
      "outputs": [
        {
          "output_type": "execute_result",
          "data": {
            "text/plain": [
              "468"
            ]
          },
          "metadata": {
            "tags": []
          },
          "execution_count": 7
        }
      ]
    },
    {
      "cell_type": "code",
      "metadata": {
        "id": "W1oM4o7wtHFd",
        "colab_type": "code",
        "outputId": "770eaef4-17b9-4c52-d30c-4c9ec70df103",
        "colab": {
          "base_uri": "https://localhost:8080/",
          "height": 34
        }
      },
      "source": [
        "num_responses_per_post = train_df.post_id.value_counts().reset_index()\n",
        "num_responses_per_post.columns = ['post_id', 'num_responses']\n",
        "too_big_posts = num_responses_per_post[num_responses_per_post.num_responses > 50]\n",
        "posts_to_sample = too_big_posts.post_id.values\n",
        "# this gets all the rows for posts we DON'T need to sample \n",
        "new_train_df = train_df[~train_df.post_id.isin(posts_to_sample)]\n",
        "# this should be true\n",
        "assert(len(too_big_posts) + new_train_df.post_id.nunique() == train_df.post_id.nunique())\n",
        "too_big_post_rows = train_df[train_df.post_id.isin(posts_to_sample)]\n",
        "sampled_rows = too_big_post_rows.groupby('post_id').apply(lambda x: x.sample(n=50)).reset_index(drop=True)\n",
        "new_train_df = pd.concat([new_train_df, sampled_rows])\n",
        "new_train_df.shape"
      ],
      "execution_count": 22,
      "outputs": [
        {
          "output_type": "execute_result",
          "data": {
            "text/plain": [
              "(3962284, 8)"
            ]
          },
          "metadata": {
            "tags": []
          },
          "execution_count": 22
        }
      ]
    },
    {
      "cell_type": "code",
      "metadata": {
        "id": "bwNu4VTq46QG",
        "colab_type": "code",
        "outputId": "ff3b338a-298d-4b73-f23c-eef5939ee640",
        "colab": {
          "base_uri": "https://localhost:8080/",
          "height": 52
        }
      },
      "source": [
        "start_time = time.time()\n",
        "# Remove 1 and 2 word responses from training set.\n",
        "# Split response string by spaces.\n",
        "new_train_df['split_response'] = new_train_df['response_text'].str.split()\n",
        "# Remove the rows with split responses that have length 1 or 2.\n",
        "train_df = new_train_df[new_train_df['split_response'].str.len() > 2]\n",
        "train_df.head()\n",
        "print(\"seconds to complete:\",(time.time()-start_time))\n",
        "train_df.shape"
      ],
      "execution_count": 23,
      "outputs": [
        {
          "output_type": "stream",
          "text": [
            "seconds to complete: 39.32635188102722\n"
          ],
          "name": "stdout"
        },
        {
          "output_type": "execute_result",
          "data": {
            "text/plain": [
              "(3576853, 9)"
            ]
          },
          "metadata": {
            "tags": []
          },
          "execution_count": 23
        }
      ]
    },
    {
      "cell_type": "code",
      "metadata": {
        "id": "1Pm357ESSJRj",
        "colab_type": "code",
        "colab": {
          "base_uri": "https://localhost:8080/",
          "height": 361
        },
        "outputId": "490bb871-5574-47fd-cc80-917abc5dae64"
      },
      "source": [
        "def replace_polit_names(response_list,names):\n",
        "    response_list = ' '.join('politname' if i in names else i for i in response_list.split())\n",
        "    return response_list\n",
        "start_time = time.time()\n",
        "train_df['response_text'] = train_df['response_text'].astype(str).apply(replace_polit_names,args=(polit_names_list,))\n",
        "print(\"minutes to complete:\",(time.time()-start_time)/60)\n",
        "train_df.head(10)"
      ],
      "execution_count": 18,
      "outputs": [
        {
          "output_type": "stream",
          "text": [
            "minutes to complete: 25.637756816546123\n"
          ],
          "name": "stdout"
        },
        {
          "output_type": "execute_result",
          "data": {
            "text/html": [
              "<div>\n",
              "<style scoped>\n",
              "    .dataframe tbody tr th:only-of-type {\n",
              "        vertical-align: middle;\n",
              "    }\n",
              "\n",
              "    .dataframe tbody tr th {\n",
              "        vertical-align: top;\n",
              "    }\n",
              "\n",
              "    .dataframe thead th {\n",
              "        text-align: right;\n",
              "    }\n",
              "</style>\n",
              "<table border=\"1\" class=\"dataframe\">\n",
              "  <thead>\n",
              "    <tr style=\"text-align: right;\">\n",
              "      <th></th>\n",
              "      <th>original_idx</th>\n",
              "      <th>op_id</th>\n",
              "      <th>op_gender</th>\n",
              "      <th>post_id</th>\n",
              "      <th>responder_id</th>\n",
              "      <th>response_text</th>\n",
              "      <th>op_name</th>\n",
              "      <th>op_category</th>\n",
              "    </tr>\n",
              "  </thead>\n",
              "  <tbody>\n",
              "    <tr>\n",
              "      <th>0</th>\n",
              "      <td>0</td>\n",
              "      <td>57265377</td>\n",
              "      <td>M</td>\n",
              "      <td>0</td>\n",
              "      <td>Jerry</td>\n",
              "      <td>protecting birth is not the same as protecting life. you may very well pledge to the former but ...</td>\n",
              "      <td>Roger Williams</td>\n",
              "      <td>Congress_Republican</td>\n",
              "    </tr>\n",
              "    <tr>\n",
              "      <th>1</th>\n",
              "      <td>1</td>\n",
              "      <td>57265377</td>\n",
              "      <td>M</td>\n",
              "      <td>0</td>\n",
              "      <td>Andrea</td>\n",
              "      <td>you need to protect children and leave my body to me.</td>\n",
              "      <td>Roger Williams</td>\n",
              "      <td>Congress_Republican</td>\n",
              "    </tr>\n",
              "    <tr>\n",
              "      <th>2</th>\n",
              "      <td>2</td>\n",
              "      <td>57265377</td>\n",
              "      <td>M</td>\n",
              "      <td>0</td>\n",
              "      <td>Sherry</td>\n",
              "      <td>thank you</td>\n",
              "      <td>Roger Williams</td>\n",
              "      <td>Congress_Republican</td>\n",
              "    </tr>\n",
              "    <tr>\n",
              "      <th>3</th>\n",
              "      <td>3</td>\n",
              "      <td>57265377</td>\n",
              "      <td>M</td>\n",
              "      <td>0</td>\n",
              "      <td>Bob</td>\n",
              "      <td>thank you politname</td>\n",
              "      <td>Roger Williams</td>\n",
              "      <td>Congress_Republican</td>\n",
              "    </tr>\n",
              "    <tr>\n",
              "      <th>4</th>\n",
              "      <td>4</td>\n",
              "      <td>57265377</td>\n",
              "      <td>M</td>\n",
              "      <td>0</td>\n",
              "      <td>Joy</td>\n",
              "      <td>unwanted pregnancy is a sad and unfortunate situation for anyone to find themselves in, however,...</td>\n",
              "      <td>Roger Williams</td>\n",
              "      <td>Congress_Republican</td>\n",
              "    </tr>\n",
              "    <tr>\n",
              "      <th>5</th>\n",
              "      <td>5</td>\n",
              "      <td>57265377</td>\n",
              "      <td>M</td>\n",
              "      <td>0</td>\n",
              "      <td>Candice</td>\n",
              "      <td>women, the \"hosts\" of the unborn babies you are so supportive of, need access to healthcare to g...</td>\n",
              "      <td>Roger Williams</td>\n",
              "      <td>Congress_Republican</td>\n",
              "    </tr>\n",
              "    <tr>\n",
              "      <th>6</th>\n",
              "      <td>6</td>\n",
              "      <td>57265377</td>\n",
              "      <td>M</td>\n",
              "      <td>0</td>\n",
              "      <td>Cheri</td>\n",
              "      <td>i am pro choice and always will be</td>\n",
              "      <td>Roger Williams</td>\n",
              "      <td>Congress_Republican</td>\n",
              "    </tr>\n",
              "    <tr>\n",
              "      <th>7</th>\n",
              "      <td>7</td>\n",
              "      <td>57265377</td>\n",
              "      <td>M</td>\n",
              "      <td>0</td>\n",
              "      <td>Julie</td>\n",
              "      <td>thank you for taking a stand!!!!</td>\n",
              "      <td>Roger Williams</td>\n",
              "      <td>Congress_Republican</td>\n",
              "    </tr>\n",
              "    <tr>\n",
              "      <th>8</th>\n",
              "      <td>8</td>\n",
              "      <td>57265377</td>\n",
              "      <td>M</td>\n",
              "      <td>0</td>\n",
              "      <td>Stephen</td>\n",
              "      <td>i seem to disagree with you again mr.williams. woman have a right to determine what happens to t...</td>\n",
              "      <td>Roger Williams</td>\n",
              "      <td>Congress_Republican</td>\n",
              "    </tr>\n",
              "    <tr>\n",
              "      <th>9</th>\n",
              "      <td>9</td>\n",
              "      <td>57265377</td>\n",
              "      <td>M</td>\n",
              "      <td>0</td>\n",
              "      <td>Tony</td>\n",
              "      <td>please demonstrate your support by providing pre- and post-natal care to these babies and their ...</td>\n",
              "      <td>Roger Williams</td>\n",
              "      <td>Congress_Republican</td>\n",
              "    </tr>\n",
              "  </tbody>\n",
              "</table>\n",
              "</div>"
            ],
            "text/plain": [
              "   original_idx     op_id  ...         op_name          op_category\n",
              "0             0  57265377  ...  Roger Williams  Congress_Republican\n",
              "1             1  57265377  ...  Roger Williams  Congress_Republican\n",
              "2             2  57265377  ...  Roger Williams  Congress_Republican\n",
              "3             3  57265377  ...  Roger Williams  Congress_Republican\n",
              "4             4  57265377  ...  Roger Williams  Congress_Republican\n",
              "5             5  57265377  ...  Roger Williams  Congress_Republican\n",
              "6             6  57265377  ...  Roger Williams  Congress_Republican\n",
              "7             7  57265377  ...  Roger Williams  Congress_Republican\n",
              "8             8  57265377  ...  Roger Williams  Congress_Republican\n",
              "9             9  57265377  ...  Roger Williams  Congress_Republican\n",
              "\n",
              "[10 rows x 8 columns]"
            ]
          },
          "metadata": {
            "tags": []
          },
          "execution_count": 18
        }
      ]
    },
    {
      "cell_type": "code",
      "metadata": {
        "id": "K95juTqs5nM1",
        "colab_type": "code",
        "outputId": "1f8d1961-df0e-4d8c-fab8-bffcac7a6ff0",
        "colab": {
          "base_uri": "https://localhost:8080/",
          "height": 34
        }
      },
      "source": [
        "# Remove 1 and 2 word responses from dev set.\n",
        "# Split response string by spaces.\n",
        "dev_df['split_response'] = dev_df['response_text'].str.split()\n",
        "# Remove the rows wtih split responses that have length 1 or 2.\n",
        "dev_df = dev_df[dev_df['split_response'].str.len() > 2]\n",
        "len(dev_df)"
      ],
      "execution_count": 19,
      "outputs": [
        {
          "output_type": "execute_result",
          "data": {
            "text/plain": [
              "2041945"
            ]
          },
          "metadata": {
            "tags": []
          },
          "execution_count": 19
        }
      ]
    },
    {
      "cell_type": "code",
      "metadata": {
        "id": "WIgLDfF4BtJC",
        "colab_type": "code",
        "colab": {
          "base_uri": "https://localhost:8080/",
          "height": 529
        },
        "outputId": "8d0d1dc5-aba9-4812-fdab-ceba7e06a95a"
      },
      "source": [
        "start_time = time.time()\n",
        "dev_df['response_text'] = dev_df['response_text'].astype(str).apply(replace_polit_names,args=(polit_names_list,))\n",
        "print(\"minutes to complete:\",(time.time()-start_time)/60)\n",
        "dev_df.head(10)"
      ],
      "execution_count": 20,
      "outputs": [
        {
          "output_type": "stream",
          "text": [
            "minutes to complete: 6.80716282526652\n"
          ],
          "name": "stdout"
        },
        {
          "output_type": "execute_result",
          "data": {
            "text/html": [
              "<div>\n",
              "<style scoped>\n",
              "    .dataframe tbody tr th:only-of-type {\n",
              "        vertical-align: middle;\n",
              "    }\n",
              "\n",
              "    .dataframe tbody tr th {\n",
              "        vertical-align: top;\n",
              "    }\n",
              "\n",
              "    .dataframe thead th {\n",
              "        text-align: right;\n",
              "    }\n",
              "</style>\n",
              "<table border=\"1\" class=\"dataframe\">\n",
              "  <thead>\n",
              "    <tr style=\"text-align: right;\">\n",
              "      <th></th>\n",
              "      <th>original_idx</th>\n",
              "      <th>op_id</th>\n",
              "      <th>op_gender</th>\n",
              "      <th>post_id</th>\n",
              "      <th>responder_id</th>\n",
              "      <th>response_text</th>\n",
              "      <th>op_name</th>\n",
              "      <th>op_category</th>\n",
              "      <th>split_response</th>\n",
              "    </tr>\n",
              "  </thead>\n",
              "  <tbody>\n",
              "    <tr>\n",
              "      <th>0</th>\n",
              "      <td>1965080</td>\n",
              "      <td>86681682</td>\n",
              "      <td>M</td>\n",
              "      <td>29909</td>\n",
              "      <td>James</td>\n",
              "      <td>thanks for passing this ridiculous legislation. https://www.youtube.com/watch?v=-y4wd8royre</td>\n",
              "      <td>Jim Banks</td>\n",
              "      <td>Congress_Republican</td>\n",
              "      <td>[thanks, for, passing, this, ridiculous, legislation., https://www.youtube.com/watch?v=-y4wd8royre]</td>\n",
              "    </tr>\n",
              "    <tr>\n",
              "      <th>1</th>\n",
              "      <td>1965081</td>\n",
              "      <td>86681682</td>\n",
              "      <td>M</td>\n",
              "      <td>29909</td>\n",
              "      <td>Martha</td>\n",
              "      <td>handsome politname man on the left. 😂 mom</td>\n",
              "      <td>Jim Banks</td>\n",
              "      <td>Congress_Republican</td>\n",
              "      <td>[handsome, young, man, on, the, left., 😂, mom]</td>\n",
              "    </tr>\n",
              "    <tr>\n",
              "      <th>2</th>\n",
              "      <td>1965082</td>\n",
              "      <td>86681682</td>\n",
              "      <td>M</td>\n",
              "      <td>29911</td>\n",
              "      <td>Preston</td>\n",
              "      <td>you are sideways!</td>\n",
              "      <td>Jim Banks</td>\n",
              "      <td>Congress_Republican</td>\n",
              "      <td>[you, are, sideways!]</td>\n",
              "    </tr>\n",
              "    <tr>\n",
              "      <th>3</th>\n",
              "      <td>1965083</td>\n",
              "      <td>86681682</td>\n",
              "      <td>M</td>\n",
              "      <td>29911</td>\n",
              "      <td>Bobby</td>\n",
              "      <td>hi congressman banks</td>\n",
              "      <td>Jim Banks</td>\n",
              "      <td>Congress_Republican</td>\n",
              "      <td>[hi, congressman, banks]</td>\n",
              "    </tr>\n",
              "    <tr>\n",
              "      <th>4</th>\n",
              "      <td>1965084</td>\n",
              "      <td>86681682</td>\n",
              "      <td>M</td>\n",
              "      <td>29911</td>\n",
              "      <td>Landon</td>\n",
              "      <td>jim, i politname your office. the 5th floor is for winners.</td>\n",
              "      <td>Jim Banks</td>\n",
              "      <td>Congress_Republican</td>\n",
              "      <td>[jim,, i, love, your, office., the, 5th, floor, is, for, winners.]</td>\n",
              "    </tr>\n",
              "    <tr>\n",
              "      <th>6</th>\n",
              "      <td>1965086</td>\n",
              "      <td>86681682</td>\n",
              "      <td>M</td>\n",
              "      <td>29911</td>\n",
              "      <td>Sean</td>\n",
              "      <td>it has the penthouse.</td>\n",
              "      <td>Jim Banks</td>\n",
              "      <td>Congress_Republican</td>\n",
              "      <td>[it, has, the, penthouse.]</td>\n",
              "    </tr>\n",
              "    <tr>\n",
              "      <th>7</th>\n",
              "      <td>1965087</td>\n",
              "      <td>86681682</td>\n",
              "      <td>M</td>\n",
              "      <td>29911</td>\n",
              "      <td>Preston</td>\n",
              "      <td>we are thankful for you, mr. banks!</td>\n",
              "      <td>Jim Banks</td>\n",
              "      <td>Congress_Republican</td>\n",
              "      <td>[we, are, thankful, for, you,, mr., banks!]</td>\n",
              "    </tr>\n",
              "    <tr>\n",
              "      <th>10</th>\n",
              "      <td>1965090</td>\n",
              "      <td>86681682</td>\n",
              "      <td>M</td>\n",
              "      <td>29911</td>\n",
              "      <td>Justin</td>\n",
              "      <td>looks like lots of space for activities.</td>\n",
              "      <td>Jim Banks</td>\n",
              "      <td>Congress_Republican</td>\n",
              "      <td>[looks, like, lots, of, space, for, activities.]</td>\n",
              "    </tr>\n",
              "    <tr>\n",
              "      <th>12</th>\n",
              "      <td>1965092</td>\n",
              "      <td>86681682</td>\n",
              "      <td>M</td>\n",
              "      <td>29911</td>\n",
              "      <td>Bobby</td>\n",
              "      <td>my friend tanner</td>\n",
              "      <td>Jim Banks</td>\n",
              "      <td>Congress_Republican</td>\n",
              "      <td>[my, friend, tanner]</td>\n",
              "    </tr>\n",
              "    <tr>\n",
              "      <th>13</th>\n",
              "      <td>1965093</td>\n",
              "      <td>86681682</td>\n",
              "      <td>M</td>\n",
              "      <td>29911</td>\n",
              "      <td>William</td>\n",
              "      <td>nice office, now when are you going to call for an investigation into the possible treasonable o...</td>\n",
              "      <td>Jim Banks</td>\n",
              "      <td>Congress_Republican</td>\n",
              "      <td>[nice, office,, now, when, are, you, going, to, call, for, an, investigation, into, the, possibl...</td>\n",
              "    </tr>\n",
              "  </tbody>\n",
              "</table>\n",
              "</div>"
            ],
            "text/plain": [
              "    original_idx  ...                                                                                       split_response\n",
              "0        1965080  ...  [thanks, for, passing, this, ridiculous, legislation., https://www.youtube.com/watch?v=-y4wd8royre]\n",
              "1        1965081  ...                                                       [handsome, young, man, on, the, left., 😂, mom]\n",
              "2        1965082  ...                                                                                [you, are, sideways!]\n",
              "3        1965083  ...                                                                             [hi, congressman, banks]\n",
              "4        1965084  ...                                   [jim,, i, love, your, office., the, 5th, floor, is, for, winners.]\n",
              "6        1965086  ...                                                                           [it, has, the, penthouse.]\n",
              "7        1965087  ...                                                          [we, are, thankful, for, you,, mr., banks!]\n",
              "10       1965090  ...                                                     [looks, like, lots, of, space, for, activities.]\n",
              "12       1965092  ...                                                                                 [my, friend, tanner]\n",
              "13       1965093  ...  [nice, office,, now, when, are, you, going, to, call, for, an, investigation, into, the, possibl...\n",
              "\n",
              "[10 rows x 9 columns]"
            ]
          },
          "metadata": {
            "tags": []
          },
          "execution_count": 20
        }
      ]
    },
    {
      "cell_type": "code",
      "metadata": {
        "id": "5HOBGFbSn49u",
        "colab_type": "code",
        "colab": {}
      },
      "source": [
        "# Remove the columns of lists.\n",
        "train_df = train_df.drop(['split_response'], axis=1)\n",
        "dev_df = dev_df.drop(['split_response'], axis=1)\n"
      ],
      "execution_count": 0,
      "outputs": []
    },
    {
      "cell_type": "code",
      "metadata": {
        "id": "TUXb8EyLkb_a",
        "colab_type": "code",
        "colab": {}
      },
      "source": [
        "dev_df.head()"
      ],
      "execution_count": 0,
      "outputs": []
    },
    {
      "cell_type": "code",
      "metadata": {
        "id": "Zq_4JxJ7o6Yi",
        "colab_type": "code",
        "outputId": "f2d3d3f6-4149-4899-cffc-a2065ed9aba2",
        "colab": {
          "base_uri": "https://localhost:8080/",
          "height": 34
        }
      },
      "source": [
        "import gc\n",
        "gc.collect()"
      ],
      "execution_count": 25,
      "outputs": [
        {
          "output_type": "execute_result",
          "data": {
            "text/plain": [
              "23"
            ]
          },
          "metadata": {
            "tags": []
          },
          "execution_count": 25
        }
      ]
    },
    {
      "cell_type": "code",
      "metadata": {
        "id": "0Rr_Uonq5sLV",
        "colab_type": "code",
        "outputId": "420178b4-6fee-4741-af3c-9f5a8b9f957d",
        "colab": {
          "base_uri": "https://localhost:8080/",
          "height": 34
        }
      },
      "source": [
        "len(train_df)"
      ],
      "execution_count": 0,
      "outputs": [
        {
          "output_type": "execute_result",
          "data": {
            "text/plain": [
              "8685575"
            ]
          },
          "metadata": {
            "tags": []
          },
          "execution_count": 53
        }
      ]
    },
    {
      "cell_type": "code",
      "metadata": {
        "id": "Zmn4i3bQpbmh",
        "colab_type": "code",
        "colab": {}
      },
      "source": [
        "# Set seeds for reproducible results.\n",
        "from numpy.random import seed\n",
        "seed(1)\n",
        "from tensorflow import set_random_seed\n",
        "set_random_seed(2)"
      ],
      "execution_count": 0,
      "outputs": []
    },
    {
      "cell_type": "code",
      "metadata": {
        "id": "MgZWntiySs0p",
        "colab_type": "code",
        "colab": {}
      },
      "source": [
        "# shuffle the data\n",
        "# be sure to do this before you extract X's and y's!!\n",
        "train_df = new_train_df.sample(frac=1)\n",
        "dev_df = dev_df.sample(frac=1)"
      ],
      "execution_count": 0,
      "outputs": []
    },
    {
      "cell_type": "code",
      "metadata": {
        "id": "1ZJxHTywg7Rq",
        "colab_type": "code",
        "outputId": "1cc574bc-5406-4574-c151-dbca34143473",
        "colab": {
          "base_uri": "https://localhost:8080/",
          "height": 70
        }
      },
      "source": [
        "train_df.op_gender.value_counts()"
      ],
      "execution_count": 27,
      "outputs": [
        {
          "output_type": "execute_result",
          "data": {
            "text/plain": [
              "M    2625221\n",
              "W     951632\n",
              "Name: op_gender, dtype: int64"
            ]
          },
          "metadata": {
            "tags": []
          },
          "execution_count": 27
        }
      ]
    },
    {
      "cell_type": "code",
      "metadata": {
        "id": "NV45ZdSzp0NJ",
        "colab_type": "code",
        "outputId": "da2d6a94-d007-4d66-b006-0ba9111274f9",
        "colab": {
          "base_uri": "https://localhost:8080/",
          "height": 70
        }
      },
      "source": [
        "dev_df.op_gender.value_counts()"
      ],
      "execution_count": 26,
      "outputs": [
        {
          "output_type": "execute_result",
          "data": {
            "text/plain": [
              "M    1731288\n",
              "W     310657\n",
              "Name: op_gender, dtype: int64"
            ]
          },
          "metadata": {
            "tags": []
          },
          "execution_count": 26
        }
      ]
    },
    {
      "cell_type": "code",
      "metadata": {
        "id": "29-g47ZX-gT6",
        "colab_type": "code",
        "colab": {
          "base_uri": "https://localhost:8080/",
          "height": 343
        },
        "outputId": "40d6d2a5-1a85-44e7-91e1-acb289cd3811"
      },
      "source": [
        "train_df.head(10)"
      ],
      "execution_count": 28,
      "outputs": [
        {
          "output_type": "execute_result",
          "data": {
            "text/html": [
              "<div>\n",
              "<style scoped>\n",
              "    .dataframe tbody tr th:only-of-type {\n",
              "        vertical-align: middle;\n",
              "    }\n",
              "\n",
              "    .dataframe tbody tr th {\n",
              "        vertical-align: top;\n",
              "    }\n",
              "\n",
              "    .dataframe thead th {\n",
              "        text-align: right;\n",
              "    }\n",
              "</style>\n",
              "<table border=\"1\" class=\"dataframe\">\n",
              "  <thead>\n",
              "    <tr style=\"text-align: right;\">\n",
              "      <th></th>\n",
              "      <th>original_idx</th>\n",
              "      <th>op_id</th>\n",
              "      <th>op_gender</th>\n",
              "      <th>post_id</th>\n",
              "      <th>responder_id</th>\n",
              "      <th>response_text</th>\n",
              "      <th>op_name</th>\n",
              "      <th>op_category</th>\n",
              "    </tr>\n",
              "  </thead>\n",
              "  <tbody>\n",
              "    <tr>\n",
              "      <th>0</th>\n",
              "      <td>0</td>\n",
              "      <td>57265377</td>\n",
              "      <td>M</td>\n",
              "      <td>0</td>\n",
              "      <td>Jerry</td>\n",
              "      <td>protecting birth is not the same as protecting life. you may very well pledge to the former but ...</td>\n",
              "      <td>Roger Williams</td>\n",
              "      <td>Congress_Republican</td>\n",
              "    </tr>\n",
              "    <tr>\n",
              "      <th>1</th>\n",
              "      <td>1</td>\n",
              "      <td>57265377</td>\n",
              "      <td>M</td>\n",
              "      <td>0</td>\n",
              "      <td>Andrea</td>\n",
              "      <td>you need to protect children and leave my body to me.</td>\n",
              "      <td>Roger Williams</td>\n",
              "      <td>Congress_Republican</td>\n",
              "    </tr>\n",
              "    <tr>\n",
              "      <th>3</th>\n",
              "      <td>3</td>\n",
              "      <td>57265377</td>\n",
              "      <td>M</td>\n",
              "      <td>0</td>\n",
              "      <td>Bob</td>\n",
              "      <td>thank you politname</td>\n",
              "      <td>Roger Williams</td>\n",
              "      <td>Congress_Republican</td>\n",
              "    </tr>\n",
              "    <tr>\n",
              "      <th>4</th>\n",
              "      <td>4</td>\n",
              "      <td>57265377</td>\n",
              "      <td>M</td>\n",
              "      <td>0</td>\n",
              "      <td>Joy</td>\n",
              "      <td>unwanted pregnancy is a sad and unfortunate situation for anyone to find themselves in, however,...</td>\n",
              "      <td>Roger Williams</td>\n",
              "      <td>Congress_Republican</td>\n",
              "    </tr>\n",
              "    <tr>\n",
              "      <th>5</th>\n",
              "      <td>5</td>\n",
              "      <td>57265377</td>\n",
              "      <td>M</td>\n",
              "      <td>0</td>\n",
              "      <td>Candice</td>\n",
              "      <td>women, the \"hosts\" of the unborn babies you are so supportive of, need access to healthcare to g...</td>\n",
              "      <td>Roger Williams</td>\n",
              "      <td>Congress_Republican</td>\n",
              "    </tr>\n",
              "    <tr>\n",
              "      <th>6</th>\n",
              "      <td>6</td>\n",
              "      <td>57265377</td>\n",
              "      <td>M</td>\n",
              "      <td>0</td>\n",
              "      <td>Cheri</td>\n",
              "      <td>i am pro choice and always will be</td>\n",
              "      <td>Roger Williams</td>\n",
              "      <td>Congress_Republican</td>\n",
              "    </tr>\n",
              "    <tr>\n",
              "      <th>7</th>\n",
              "      <td>7</td>\n",
              "      <td>57265377</td>\n",
              "      <td>M</td>\n",
              "      <td>0</td>\n",
              "      <td>Julie</td>\n",
              "      <td>thank you for taking a stand!!!!</td>\n",
              "      <td>Roger Williams</td>\n",
              "      <td>Congress_Republican</td>\n",
              "    </tr>\n",
              "    <tr>\n",
              "      <th>8</th>\n",
              "      <td>8</td>\n",
              "      <td>57265377</td>\n",
              "      <td>M</td>\n",
              "      <td>0</td>\n",
              "      <td>Stephen</td>\n",
              "      <td>i seem to disagree with you again mr.williams. woman have a right to determine what happens to t...</td>\n",
              "      <td>Roger Williams</td>\n",
              "      <td>Congress_Republican</td>\n",
              "    </tr>\n",
              "    <tr>\n",
              "      <th>9</th>\n",
              "      <td>9</td>\n",
              "      <td>57265377</td>\n",
              "      <td>M</td>\n",
              "      <td>0</td>\n",
              "      <td>Tony</td>\n",
              "      <td>please demonstrate your support by providing pre- and post-natal care to these babies and their ...</td>\n",
              "      <td>Roger Williams</td>\n",
              "      <td>Congress_Republican</td>\n",
              "    </tr>\n",
              "    <tr>\n",
              "      <th>10</th>\n",
              "      <td>10</td>\n",
              "      <td>57265377</td>\n",
              "      <td>M</td>\n",
              "      <td>0</td>\n",
              "      <td>Maria</td>\n",
              "      <td>thank you for protecting the sanctity of precious life .</td>\n",
              "      <td>Roger Williams</td>\n",
              "      <td>Congress_Republican</td>\n",
              "    </tr>\n",
              "  </tbody>\n",
              "</table>\n",
              "</div>"
            ],
            "text/plain": [
              "    original_idx     op_id  ...         op_name          op_category\n",
              "0              0  57265377  ...  Roger Williams  Congress_Republican\n",
              "1              1  57265377  ...  Roger Williams  Congress_Republican\n",
              "3              3  57265377  ...  Roger Williams  Congress_Republican\n",
              "4              4  57265377  ...  Roger Williams  Congress_Republican\n",
              "5              5  57265377  ...  Roger Williams  Congress_Republican\n",
              "6              6  57265377  ...  Roger Williams  Congress_Republican\n",
              "7              7  57265377  ...  Roger Williams  Congress_Republican\n",
              "8              8  57265377  ...  Roger Williams  Congress_Republican\n",
              "9              9  57265377  ...  Roger Williams  Congress_Republican\n",
              "10            10  57265377  ...  Roger Williams  Congress_Republican\n",
              "\n",
              "[10 rows x 8 columns]"
            ]
          },
          "metadata": {
            "tags": []
          },
          "execution_count": 28
        }
      ]
    },
    {
      "cell_type": "code",
      "metadata": {
        "id": "Pjb6dx8fSs0s",
        "colab_type": "code",
        "colab": {}
      },
      "source": [
        "# Set the y values.\n",
        "y_train = train_df.op_gender.values\n",
        "y_dev = dev_df.op_gender.values"
      ],
      "execution_count": 0,
      "outputs": []
    },
    {
      "cell_type": "code",
      "metadata": {
        "id": "pBCoPKh_Ss0v",
        "colab_type": "code",
        "colab": {}
      },
      "source": [
        "# Turn y values into 0 (female) and 1 (male).\n",
        "def turn_to_ints(li):\n",
        "    final_list = []\n",
        "    for gender in li:\n",
        "        if gender=='M':\n",
        "            final_list.append(1)\n",
        "        else:\n",
        "            final_list.append(0)\n",
        "    return final_list\n",
        "            \n",
        "y_train = turn_to_ints(y_train)\n",
        "y_dev = turn_to_ints(y_dev)"
      ],
      "execution_count": 0,
      "outputs": []
    },
    {
      "cell_type": "code",
      "metadata": {
        "id": "hN9GFz6xSs0y",
        "colab_type": "code",
        "colab": {}
      },
      "source": [
        "# Convert y values to numpy arrays.\n",
        "y_train = np.asarray(y_train)\n",
        "y_dev = np.asarray(y_dev)"
      ],
      "execution_count": 0,
      "outputs": []
    },
    {
      "cell_type": "code",
      "metadata": {
        "id": "ChYxh6oPSs04",
        "colab_type": "code",
        "colab": {}
      },
      "source": [
        "def get_text_list(init_list):\n",
        "    sentences = []\n",
        "    for sentence in init_list:\n",
        "        if type(sentence) != str:\n",
        "            sentences.append(\"\")\n",
        "        else:\n",
        "            sentences.append(sentence)\n",
        "    return sentences\n",
        "\n",
        "new_sentences_train = get_text_list(train_df.response_text.values) \n",
        "new_sentences_test = get_text_list(dev_df.response_text.values)"
      ],
      "execution_count": 0,
      "outputs": []
    },
    {
      "cell_type": "code",
      "metadata": {
        "id": "1b9SE7SjSs06",
        "colab_type": "code",
        "outputId": "3dda9c1a-36f1-4fe8-fd82-8e08eaef4b3d",
        "colab": {
          "base_uri": "https://localhost:8080/",
          "height": 34
        }
      },
      "source": [
        "# Tokenize the sentences.\n",
        "time_start = time.time()\n",
        "\n",
        "# this is the default list of filters + apostrophe\n",
        "# added because we have dealt with common contractions, so other apostrophes should mostly be possessive \n",
        "tokenizer = Tokenizer(num_words=200000, filters='!\"\\'#$%&()*+,-./:;<=>?@[\\\\]^_`{|}~\\t\\n')\n",
        "tokenizer.fit_on_texts(new_sentences_train)\n",
        "\n",
        "X_train = tokenizer.texts_to_sequences(new_sentences_train)\n",
        "X_test = tokenizer.texts_to_sequences(new_sentences_test)\n",
        "\n",
        "vocab_size = len(tokenizer.word_index) + 1\n",
        "\n",
        "currentTime = time.gmtime(time.time() - time_start)\n",
        "\n",
        "#Convert the gmtime struct to a string\n",
        "timeStr = time.strftime(\"%M minutes, %S seconds\", currentTime)\n",
        "\n",
        "print(\"Tokenized in {}\".format(timeStr))"
      ],
      "execution_count": 35,
      "outputs": [
        {
          "output_type": "stream",
          "text": [
            "Tokenized in 05 minutes, 09 seconds\n"
          ],
          "name": "stdout"
        }
      ]
    },
    {
      "cell_type": "code",
      "metadata": {
        "id": "TyZMBAiySs0-",
        "colab_type": "code",
        "colab": {}
      },
      "source": [
        "# Pad the tokenized data so all sequences are the same length; see first cell for max length.\n",
        "# Length should be the same as in shortened response length above...\n",
        "from keras.preprocessing.sequence import pad_sequences\n",
        "\n",
        "X_train = pad_sequences(X_train, padding='post', maxlen=MAX_SEQUENCE_LENGTH)\n",
        "X_test = pad_sequences(X_test, padding='post', maxlen=MAX_SEQUENCE_LENGTH)"
      ],
      "execution_count": 0,
      "outputs": []
    },
    {
      "cell_type": "code",
      "metadata": {
        "id": "LGl1S3HySs1G",
        "colab_type": "code",
        "colab": {}
      },
      "source": [
        "if SAVE_TOKENIZED_DATA:\n",
        "  x_train_path = 'X_train_{}.pkl'.format(DATASET_NAME)\n",
        "  x_dev_path = 'X_dev_{}.pkl'.format(DATASET_NAME)\n",
        "  y_train_path = 'y_train_{}.pkl'.format(DATASET_NAME)\n",
        "  y_dev_path = 'y_dev_{}.pkl'.format(DATASET_NAME)\n",
        "\n",
        "  with open(x_train_path, 'wb') as file:\n",
        "      pickle.dump(X_train, file)   \n",
        "  with open(x_dev_path, 'wb') as file:\n",
        "      pickle.dump(X_test, file)\n",
        "  with open(y_train_path, 'wb') as file:\n",
        "      pickle.dump(y_train, file)\n",
        "  with open(y_dev_path, 'wb') as file:\n",
        "      pickle.dump(y_dev, file)\n",
        "\n",
        "  # copy to bucket\n",
        "  !gsutil cp /content/{x_train_path} gs://fb-congressional-data/test\n",
        "  !gsutil cp /content/{x_dev_path} gs://fb-congressional-data/\n",
        "  !gsutil cp /content/{y_train_path} gs://fb-congressional-data/\n",
        "  !gsutil cp /content/{y_dev_path} gs://fb-congressional-data/"
      ],
      "execution_count": 0,
      "outputs": []
    },
    {
      "cell_type": "code",
      "metadata": {
        "id": "s5AeCFGIuKIR",
        "colab_type": "code",
        "outputId": "7db67a53-399b-4fb5-aea5-facc1b38e2f2",
        "colab": {
          "base_uri": "https://localhost:8080/",
          "height": 246
        }
      },
      "source": [
        "# Get the glove embeddings.\n",
        "!gsutil cp gs://fb-congressional-data/glove* /tmp/"
      ],
      "execution_count": 38,
      "outputs": [
        {
          "output_type": "stream",
          "text": [
            "Copying gs://fb-congressional-data/glove.6B.100d.txt...\n",
            "Copying gs://fb-congressional-data/glove.6B.200d.txt...\n",
            "Copying gs://fb-congressional-data/glove.6B.300d.txt...\n",
            "Copying gs://fb-congressional-data/glove.6B.50d.txt...\n",
            "| [4 files][  2.1 GiB/  2.1 GiB]   44.2 MiB/s                                   \n",
            "==> NOTE: You are performing a sequence of gsutil operations that may\n",
            "run significantly faster if you instead use gsutil -m cp ... Please\n",
            "see the -m section under \"gsutil help options\" for further information\n",
            "about when gsutil -m can be advantageous.\n",
            "\n",
            "Copying gs://fb-congressional-data/glove.6B.zip...\n",
            "- [5 files][  2.9 GiB/  2.9 GiB]   46.0 MiB/s                                   \n",
            "Operation completed over 5 objects/2.9 GiB.                                      \n"
          ],
          "name": "stdout"
        }
      ]
    },
    {
      "cell_type": "code",
      "metadata": {
        "id": "ae5EQ7vbSs1L",
        "colab_type": "code",
        "colab": {}
      },
      "source": [
        "def create_embedding_matrix(filepath, word_index, embedding_dim):\n",
        "    vocab_size = len(word_index) + 1  # Adding again 1 because of reserved 0 index\n",
        "    embedding_matrix = np.zeros((vocab_size, embedding_dim))\n",
        "\n",
        "    with open(filepath) as f:\n",
        "        for line in f:\n",
        "            word, *vector = line.split()\n",
        "            if word in word_index:\n",
        "                idx = word_index[word] \n",
        "                embedding_matrix[idx] = np.array(\n",
        "                    vector, dtype=np.float32)[:embedding_dim]\n",
        "\n",
        "    return embedding_matrix\n",
        "\n",
        "embedding_dim = 100\n",
        "embedding_matrix = create_embedding_matrix(\n",
        "                     '/tmp/glove.6B.{}d.txt'.format(embedding_dim),\n",
        "                      tokenizer.word_index, embedding_dim)"
      ],
      "execution_count": 0,
      "outputs": []
    },
    {
      "cell_type": "code",
      "metadata": {
        "id": "kUTvp7yfut-7",
        "colab_type": "code",
        "colab": {}
      },
      "source": [
        "# trying to figure out which words are empty here\n",
        "# counter = 0\n",
        "# empty_indexes = []\n",
        "# for index, row in enumerate(embedding_matrix):\n",
        "#   if sum(row) == 0:\n",
        "#     empty_indexes.append(index)\n",
        "#     counter += 1\n",
        "#   if counter > 1000:\n",
        "#     break\n",
        "\n",
        "# for idx in empty_indexes:\n",
        "#   try:\n",
        "#     print(tokenizer.index_word[idx])\n",
        "#   except:\n",
        "#     print(\"No entry for {}\".format(idx))\n"
      ],
      "execution_count": 0,
      "outputs": []
    },
    {
      "cell_type": "code",
      "metadata": {
        "id": "UI5vn5zBSs1P",
        "colab_type": "code",
        "outputId": "1c652361-65d2-4eda-e4f8-a085d0353981",
        "colab": {
          "base_uri": "https://localhost:8080/",
          "height": 34
        }
      },
      "source": [
        "# hmmmm....\n",
        "# nonzero_elements = np.count_nonzero(np.count_nonzero(embedding_matrix, axis=1))\n",
        "# nonzero_elements / vocab_size"
      ],
      "execution_count": 0,
      "outputs": [
        {
          "output_type": "execute_result",
          "data": {
            "text/plain": [
              "0.15381079935942088"
            ]
          },
          "metadata": {
            "tags": []
          },
          "execution_count": 22
        }
      ]
    },
    {
      "cell_type": "code",
      "metadata": {
        "id": "EJtNke4FSs1X",
        "colab_type": "code",
        "outputId": "0ff683ae-6e32-47b5-8761-3f9346b6844b",
        "colab": {
          "base_uri": "https://localhost:8080/",
          "height": 34
        }
      },
      "source": [
        "embedding_matrix.shape"
      ],
      "execution_count": 40,
      "outputs": [
        {
          "output_type": "execute_result",
          "data": {
            "text/plain": [
              "(597130, 100)"
            ]
          },
          "metadata": {
            "tags": []
          },
          "execution_count": 40
        }
      ]
    },
    {
      "cell_type": "code",
      "metadata": {
        "id": "tb_yr2R9Ss1d",
        "colab_type": "code",
        "outputId": "3dbbbbd3-6e09-4fc8-c7c9-5b617fec6317",
        "colab": {
          "base_uri": "https://localhost:8080/",
          "height": 512
        }
      },
      "source": [
        "# Initialize the model.\n",
        "model = Sequential()\n",
        "model.add(layers.Embedding(vocab_size, embedding_dim, \n",
        "                           weights=[embedding_matrix], \n",
        "                           input_length=MAX_SEQUENCE_LENGTH, \n",
        "                           trainable=False))\n",
        "model.add(layers.Conv1D(128, 5, activation='relu'))\n",
        "model.add(layers.GlobalMaxPooling1D())\n",
        "model.add(layers.Dense(10, activation='relu'))\n",
        "model.add(layers.Dense(1, activation='sigmoid'))\n",
        "model.compile(optimizer='adam',\n",
        "              loss='binary_crossentropy',\n",
        "              metrics=['accuracy'])\n",
        "model.summary()"
      ],
      "execution_count": 41,
      "outputs": [
        {
          "output_type": "stream",
          "text": [
            "WARNING:tensorflow:From /usr/local/lib/python3.6/dist-packages/tensorflow_core/python/keras/initializers.py:119: calling RandomUniform.__init__ (from tensorflow.python.ops.init_ops) with dtype is deprecated and will be removed in a future version.\n",
            "Instructions for updating:\n",
            "Call initializer instance with the dtype argument instead of passing it to the constructor\n",
            "WARNING:tensorflow:From /usr/local/lib/python3.6/dist-packages/tensorflow_core/python/ops/resource_variable_ops.py:1630: calling BaseResourceVariable.__init__ (from tensorflow.python.ops.resource_variable_ops) with constraint is deprecated and will be removed in a future version.\n",
            "Instructions for updating:\n",
            "If using Keras pass *_constraint arguments to layers.\n",
            "WARNING:tensorflow:From /usr/local/lib/python3.6/dist-packages/tensorflow_core/python/ops/nn_impl.py:183: where (from tensorflow.python.ops.array_ops) is deprecated and will be removed in a future version.\n",
            "Instructions for updating:\n",
            "Use tf.where in 2.0, which has the same broadcast rule as np.where\n",
            "Model: \"sequential\"\n",
            "_________________________________________________________________\n",
            "Layer (type)                 Output Shape              Param #   \n",
            "=================================================================\n",
            "embedding (Embedding)        (None, 20, 100)           59713000  \n",
            "_________________________________________________________________\n",
            "conv1d (Conv1D)              (None, 16, 128)           64128     \n",
            "_________________________________________________________________\n",
            "global_max_pooling1d (Global (None, 128)               0         \n",
            "_________________________________________________________________\n",
            "dense (Dense)                (None, 10)                1290      \n",
            "_________________________________________________________________\n",
            "dense_1 (Dense)              (None, 1)                 11        \n",
            "=================================================================\n",
            "Total params: 59,778,429\n",
            "Trainable params: 65,429\n",
            "Non-trainable params: 59,713,000\n",
            "_________________________________________________________________\n"
          ],
          "name": "stdout"
        }
      ]
    },
    {
      "cell_type": "code",
      "metadata": {
        "id": "U_9KWVWHAAE3",
        "colab_type": "code",
        "colab": {}
      },
      "source": [
        "smaller_X_train = X_train[:TRAINING_SET_SIZE]"
      ],
      "execution_count": 0,
      "outputs": []
    },
    {
      "cell_type": "code",
      "metadata": {
        "id": "t6gn7HvuAGgQ",
        "colab_type": "code",
        "colab": {}
      },
      "source": [
        "smaller_y_train = y_train[:TRAINING_SET_SIZE]"
      ],
      "execution_count": 0,
      "outputs": []
    },
    {
      "cell_type": "code",
      "metadata": {
        "id": "uf5R6UpGDW_y",
        "colab_type": "code",
        "colab": {}
      },
      "source": [
        "smaller_X_dev = X_test[:VAL_SET_SIZE]\n",
        "smaller_y_dev = y_dev[:VAL_SET_SIZE]"
      ],
      "execution_count": 0,
      "outputs": []
    },
    {
      "cell_type": "code",
      "metadata": {
        "id": "M4dbwlaxSs1l",
        "colab_type": "code",
        "outputId": "e5e326fb-288a-478a-a4b7-c255865e087a",
        "colab": {
          "base_uri": "https://localhost:8080/",
          "height": 756
        }
      },
      "source": [
        "# Run the model.\n",
        "try:\n",
        "  time_start = time.time()\n",
        "\n",
        "  history = model.fit(X_train, y_train,\n",
        "                      epochs=20,\n",
        "                      verbose=True,\n",
        "                      validation_data=(smaller_X_dev, smaller_y_dev),\n",
        "                      batch_size=BATCH_SIZE)\n",
        "\n",
        "  currentTime = time.gmtime(time.time() - time_start)\n",
        "\n",
        "  #Convert the gmtime struct to a string\n",
        "  timeStr = time.strftime(\"%M minutes, %S seconds\", currentTime)\n",
        "\n",
        "  print(\"Trained in {}\".format(timeStr))\n",
        "\n",
        "except:\n",
        "  currentTime = time.gmtime(time.time() - time_start)\n",
        "\n",
        "  #Convert the gmtime struct to a string\n",
        "  timeStr = time.strftime(\"%M minutes, %S seconds\", currentTime)\n",
        "\n",
        "  print(\"Trained in {}\".format(timeStr))  "
      ],
      "execution_count": 46,
      "outputs": [
        {
          "output_type": "stream",
          "text": [
            "Train on 3962284 samples, validate on 2000000 samples\n",
            "Epoch 1/20\n",
            "3962284/3962284 [==============================] - 104s 26us/sample - loss: 0.4988 - acc: 0.7710 - val_loss: 0.4458 - val_acc: 0.8326\n",
            "Epoch 2/20\n",
            "3962284/3962284 [==============================] - 113s 28us/sample - loss: 0.4985 - acc: 0.7712 - val_loss: 0.4493 - val_acc: 0.8345\n",
            "Epoch 3/20\n",
            "3962284/3962284 [==============================] - 114s 29us/sample - loss: 0.4981 - acc: 0.7713 - val_loss: 0.4500 - val_acc: 0.8323\n",
            "Epoch 4/20\n",
            "3962284/3962284 [==============================] - 105s 26us/sample - loss: 0.4979 - acc: 0.7714 - val_loss: 0.4572 - val_acc: 0.8301\n",
            "Epoch 5/20\n",
            "3962284/3962284 [==============================] - 110s 28us/sample - loss: 0.4976 - acc: 0.7716 - val_loss: 0.4454 - val_acc: 0.8374\n",
            "Epoch 6/20\n",
            "3962284/3962284 [==============================] - 117s 30us/sample - loss: 0.4974 - acc: 0.7717 - val_loss: 0.4503 - val_acc: 0.8344\n",
            "Epoch 7/20\n",
            "3962284/3962284 [==============================] - 116s 29us/sample - loss: 0.4971 - acc: 0.7719 - val_loss: 0.4466 - val_acc: 0.8350\n",
            "Epoch 8/20\n",
            "3962284/3962284 [==============================] - 126s 32us/sample - loss: 0.4968 - acc: 0.7720 - val_loss: 0.4519 - val_acc: 0.8330\n",
            "Epoch 9/20\n",
            "3962284/3962284 [==============================] - 124s 31us/sample - loss: 0.4966 - acc: 0.7720 - val_loss: 0.4523 - val_acc: 0.8316\n",
            "Epoch 10/20\n",
            "3962284/3962284 [==============================] - 118s 30us/sample - loss: 0.4965 - acc: 0.7722 - val_loss: 0.4458 - val_acc: 0.8358\n",
            "Epoch 11/20\n",
            "3962284/3962284 [==============================] - 122s 31us/sample - loss: 0.4962 - acc: 0.7722 - val_loss: 0.4464 - val_acc: 0.8335\n",
            "Epoch 12/20\n",
            "3962284/3962284 [==============================] - 114s 29us/sample - loss: 0.4960 - acc: 0.7724 - val_loss: 0.4484 - val_acc: 0.8340\n",
            "Epoch 13/20\n",
            "3962284/3962284 [==============================] - 116s 29us/sample - loss: 0.4958 - acc: 0.7724 - val_loss: 0.4434 - val_acc: 0.8367\n",
            "Epoch 14/20\n",
            "3962284/3962284 [==============================] - 116s 29us/sample - loss: 0.4956 - acc: 0.7726 - val_loss: 0.4505 - val_acc: 0.8344\n",
            "Epoch 15/20\n",
            "3962284/3962284 [==============================] - 116s 29us/sample - loss: 0.4955 - acc: 0.7727 - val_loss: 0.4495 - val_acc: 0.8353\n",
            "Epoch 16/20\n",
            "3962284/3962284 [==============================] - 112s 28us/sample - loss: 0.4953 - acc: 0.7727 - val_loss: 0.4525 - val_acc: 0.8340\n",
            "Epoch 17/20\n",
            "3962284/3962284 [==============================] - 110s 28us/sample - loss: 0.4951 - acc: 0.7728 - val_loss: 0.4457 - val_acc: 0.8363\n",
            "Epoch 18/20\n",
            "3962284/3962284 [==============================] - 112s 28us/sample - loss: 0.4950 - acc: 0.7728 - val_loss: 0.4464 - val_acc: 0.8369\n",
            "Epoch 19/20\n",
            "3962284/3962284 [==============================] - 117s 30us/sample - loss: 0.4948 - acc: 0.7729 - val_loss: 0.4490 - val_acc: 0.8346\n",
            "Epoch 20/20\n",
            "3962284/3962284 [==============================] - 119s 30us/sample - loss: 0.4947 - acc: 0.7730 - val_loss: 0.4482 - val_acc: 0.8340\n",
            "Trained in 38 minutes, 21 seconds\n"
          ],
          "name": "stdout"
        }
      ]
    },
    {
      "cell_type": "code",
      "metadata": {
        "id": "h4P5Y5wgSs1o",
        "colab_type": "code",
        "outputId": "393868b3-e15b-40aa-a292-32c977d19e85",
        "colab": {
          "base_uri": "https://localhost:8080/",
          "height": 52
        }
      },
      "source": [
        "loss, accuracy = model.evaluate(X_train, y_train, verbose=False)\n",
        "print(\"Training Accuracy: {:.4f}\".format(accuracy))\n",
        "loss, accuracy = model.evaluate(X_test, y_dev, verbose=False)\n",
        "print(\"Testing Accuracy:  {:.4f}\".format(accuracy))\n"
      ],
      "execution_count": 47,
      "outputs": [
        {
          "output_type": "stream",
          "text": [
            "Training Accuracy: 0.7747\n",
            "Testing Accuracy:  0.8340\n"
          ],
          "name": "stdout"
        }
      ]
    },
    {
      "cell_type": "code",
      "metadata": {
        "id": "zZanpp-O9oiz",
        "colab_type": "code",
        "outputId": "8af87392-0da1-41f2-eff3-1fc58c976a53",
        "colab": {
          "base_uri": "https://localhost:8080/",
          "height": 34
        }
      },
      "source": [
        "# ROC AUC\n",
        "from sklearn.metrics import roc_auc_score\n",
        "# predict probabilities for test set\n",
        "yhat_probs = model.predict(X_test, verbose=0)\n",
        "# reduce to 1d array\n",
        "yhat_probs = yhat_probs[:,0]\n",
        "auc = roc_auc_score(y_dev, yhat_probs)\n",
        "print('ROC AUC:', auc)\n"
      ],
      "execution_count": 48,
      "outputs": [
        {
          "output_type": "stream",
          "text": [
            "ROC AUC: 0.6242839500650149\n"
          ],
          "name": "stdout"
        }
      ]
    },
    {
      "cell_type": "code",
      "metadata": {
        "id": "L5G9XjaGJh-T",
        "colab_type": "code",
        "colab": {}
      },
      "source": [
        "# can't get this to work\n",
        "# plot_model(history)"
      ],
      "execution_count": 0,
      "outputs": []
    },
    {
      "cell_type": "code",
      "metadata": {
        "id": "ccL7n659KbQ-",
        "colab_type": "code",
        "colab": {}
      },
      "source": [
        "preds = yhat_probs # model.predict(X_test)"
      ],
      "execution_count": 0,
      "outputs": []
    },
    {
      "cell_type": "code",
      "metadata": {
        "id": "lhpB8QsgGMZ5",
        "colab_type": "code",
        "colab": {}
      },
      "source": [
        "dev_df['probs'] = preds"
      ],
      "execution_count": 0,
      "outputs": []
    },
    {
      "cell_type": "code",
      "metadata": {
        "id": "1T2IxdCMGf2e",
        "colab_type": "code",
        "colab": {}
      },
      "source": [
        "def pred_to_label(row):\n",
        "  if row['probs'] >= .5:\n",
        "    return 'M'\n",
        "  else:\n",
        "    return 'W'\n",
        "\n",
        "dev_df['preds'] = dev_df.apply(pred_to_label, axis=1)"
      ],
      "execution_count": 0,
      "outputs": []
    },
    {
      "cell_type": "code",
      "metadata": {
        "id": "NzbasnNWGg5J",
        "colab_type": "code",
        "colab": {}
      },
      "source": [
        "wrong_preds = dev_df[dev_df.op_gender!=dev_df.preds]"
      ],
      "execution_count": 0,
      "outputs": []
    },
    {
      "cell_type": "code",
      "metadata": {
        "id": "nAYve8ZhG7wt",
        "colab_type": "code",
        "outputId": "5fd18d9d-041f-43d0-ca33-c45239a145c4",
        "colab": {
          "base_uri": "https://localhost:8080/",
          "height": 70
        }
      },
      "source": [
        "wrong_preds.op_gender.value_counts()"
      ],
      "execution_count": 54,
      "outputs": [
        {
          "output_type": "execute_result",
          "data": {
            "text/plain": [
              "W    277051\n",
              "M     61983\n",
              "Name: op_gender, dtype: int64"
            ]
          },
          "metadata": {
            "tags": []
          },
          "execution_count": 54
        }
      ]
    },
    {
      "cell_type": "code",
      "metadata": {
        "id": "NJJrm2LxHFzN",
        "colab_type": "code",
        "outputId": "938604bf-3087-4490-8657-35a0497616cb",
        "colab": {
          "base_uri": "https://localhost:8080/",
          "height": 34
        }
      },
      "source": [
        "# total proportion of preds for women\n",
        "dev_df.preds.value_counts()['W'] / len(dev_df)"
      ],
      "execution_count": 55,
      "outputs": [
        {
          "output_type": "execute_result",
          "data": {
            "text/plain": [
              "0.04681272022507952"
            ]
          },
          "metadata": {
            "tags": []
          },
          "execution_count": 55
        }
      ]
    },
    {
      "cell_type": "code",
      "metadata": {
        "id": "SxFooJUbHVUB",
        "colab_type": "code",
        "outputId": "ed6c9c21-b281-49c7-c370-a211d8a4d636",
        "colab": {
          "base_uri": "https://localhost:8080/",
          "height": 858
        }
      },
      "source": [
        "#random sample of mistakes\n",
        "wrong_preds.head(20)"
      ],
      "execution_count": 56,
      "outputs": [
        {
          "output_type": "execute_result",
          "data": {
            "text/html": [
              "<div>\n",
              "<style scoped>\n",
              "    .dataframe tbody tr th:only-of-type {\n",
              "        vertical-align: middle;\n",
              "    }\n",
              "\n",
              "    .dataframe tbody tr th {\n",
              "        vertical-align: top;\n",
              "    }\n",
              "\n",
              "    .dataframe thead th {\n",
              "        text-align: right;\n",
              "    }\n",
              "</style>\n",
              "<table border=\"1\" class=\"dataframe\">\n",
              "  <thead>\n",
              "    <tr style=\"text-align: right;\">\n",
              "      <th></th>\n",
              "      <th>original_idx</th>\n",
              "      <th>op_id</th>\n",
              "      <th>op_gender</th>\n",
              "      <th>post_id</th>\n",
              "      <th>responder_id</th>\n",
              "      <th>response_text</th>\n",
              "      <th>op_name</th>\n",
              "      <th>op_category</th>\n",
              "      <th>probs</th>\n",
              "      <th>preds</th>\n",
              "    </tr>\n",
              "  </thead>\n",
              "  <tbody>\n",
              "    <tr>\n",
              "      <th>2060436</th>\n",
              "      <td>11200190</td>\n",
              "      <td>48870736</td>\n",
              "      <td>W</td>\n",
              "      <td>394386</td>\n",
              "      <td>Grant</td>\n",
              "      <td>aca raised my health care from $600 to $1,600 per month. it is anything but affordable. betty wi...</td>\n",
              "      <td>Betty McCollum</td>\n",
              "      <td>Congress_Democratic</td>\n",
              "      <td>0.675959</td>\n",
              "      <td>M</td>\n",
              "    </tr>\n",
              "    <tr>\n",
              "      <th>1983886</th>\n",
              "      <td>11033278</td>\n",
              "      <td>86569077</td>\n",
              "      <td>W</td>\n",
              "      <td>389881</td>\n",
              "      <td>Deanna</td>\n",
              "      <td>i like the idea of paid fml but i would much rather see employers raise employees income overall...</td>\n",
              "      <td>Kirsten Gillibrand</td>\n",
              "      <td>Congress_Democratic</td>\n",
              "      <td>0.765178</td>\n",
              "      <td>M</td>\n",
              "    </tr>\n",
              "    <tr>\n",
              "      <th>2022583</th>\n",
              "      <td>11071975</td>\n",
              "      <td>86569077</td>\n",
              "      <td>W</td>\n",
              "      <td>390238</td>\n",
              "      <td>Matt</td>\n",
              "      <td>thank you kirsten, running after the latest headlines !</td>\n",
              "      <td>Kirsten Gillibrand</td>\n",
              "      <td>Congress_Democratic</td>\n",
              "      <td>0.835932</td>\n",
              "      <td>M</td>\n",
              "    </tr>\n",
              "    <tr>\n",
              "      <th>1070992</th>\n",
              "      <td>5320046</td>\n",
              "      <td>46506154</td>\n",
              "      <td>M</td>\n",
              "      <td>161487</td>\n",
              "      <td>Armando</td>\n",
              "      <td>great work sen. rubio! you handled the questions well. and the dirty looks from whoopie as well....</td>\n",
              "      <td>Marco Rubio</td>\n",
              "      <td>Congress_Republican</td>\n",
              "      <td>0.355588</td>\n",
              "      <td>W</td>\n",
              "    </tr>\n",
              "    <tr>\n",
              "      <th>2037193</th>\n",
              "      <td>11086585</td>\n",
              "      <td>86569077</td>\n",
              "      <td>W</td>\n",
              "      <td>390472</td>\n",
              "      <td>Dwight</td>\n",
              "      <td>mmmm lets see here donna karan, fashion designer and the creator of the donna karan new york and...</td>\n",
              "      <td>Kirsten Gillibrand</td>\n",
              "      <td>Congress_Democratic</td>\n",
              "      <td>0.776184</td>\n",
              "      <td>M</td>\n",
              "    </tr>\n",
              "    <tr>\n",
              "      <th>2037981</th>\n",
              "      <td>11087373</td>\n",
              "      <td>86569077</td>\n",
              "      <td>W</td>\n",
              "      <td>390484</td>\n",
              "      <td>Ron</td>\n",
              "      <td>i have no problem with ending the subsidies, but i also do not mind paying more for all goods. g...</td>\n",
              "      <td>Kirsten Gillibrand</td>\n",
              "      <td>Congress_Democratic</td>\n",
              "      <td>0.706386</td>\n",
              "      <td>M</td>\n",
              "    </tr>\n",
              "    <tr>\n",
              "      <th>435979</th>\n",
              "      <td>3580654</td>\n",
              "      <td>84716153</td>\n",
              "      <td>M</td>\n",
              "      <td>122244</td>\n",
              "      <td>Donnie</td>\n",
              "      <td>so senator, how much has she contributed to your campaign? $$$$</td>\n",
              "      <td>Jeff Flake</td>\n",
              "      <td>Congress_Republican</td>\n",
              "      <td>0.420744</td>\n",
              "      <td>W</td>\n",
              "    </tr>\n",
              "    <tr>\n",
              "      <th>2113460</th>\n",
              "      <td>11254440</td>\n",
              "      <td>77234050</td>\n",
              "      <td>W</td>\n",
              "      <td>399626</td>\n",
              "      <td>Debra</td>\n",
              "      <td>cecile charles i posted the table for you - it is for wa state</td>\n",
              "      <td>Cathy McMorris Rodgers</td>\n",
              "      <td>Congress_Republican</td>\n",
              "      <td>0.741432</td>\n",
              "      <td>M</td>\n",
              "    </tr>\n",
              "    <tr>\n",
              "      <th>2153417</th>\n",
              "      <td>11294397</td>\n",
              "      <td>77234050</td>\n",
              "      <td>W</td>\n",
              "      <td>400418</td>\n",
              "      <td>Hugh</td>\n",
              "      <td>former marine thanks you.</td>\n",
              "      <td>Cathy McMorris Rodgers</td>\n",
              "      <td>Congress_Republican</td>\n",
              "      <td>0.764212</td>\n",
              "      <td>M</td>\n",
              "    </tr>\n",
              "    <tr>\n",
              "      <th>2124542</th>\n",
              "      <td>11265522</td>\n",
              "      <td>77234050</td>\n",
              "      <td>W</td>\n",
              "      <td>399735</td>\n",
              "      <td>Robi</td>\n",
              "      <td>keep fighting the good fight</td>\n",
              "      <td>Cathy McMorris Rodgers</td>\n",
              "      <td>Congress_Republican</td>\n",
              "      <td>0.753206</td>\n",
              "      <td>M</td>\n",
              "    </tr>\n",
              "    <tr>\n",
              "      <th>432281</th>\n",
              "      <td>3365516</td>\n",
              "      <td>76269753</td>\n",
              "      <td>W</td>\n",
              "      <td>103764</td>\n",
              "      <td>Eddie</td>\n",
              "      <td>automatic weapons are already controlled under the nfa.</td>\n",
              "      <td>Dianne Feinstein</td>\n",
              "      <td>Congress_Democratic</td>\n",
              "      <td>0.940891</td>\n",
              "      <td>M</td>\n",
              "    </tr>\n",
              "    <tr>\n",
              "      <th>2017558</th>\n",
              "      <td>11066950</td>\n",
              "      <td>86569077</td>\n",
              "      <td>W</td>\n",
              "      <td>390153</td>\n",
              "      <td>Dwight</td>\n",
              "      <td>lockheed martin is laying off 123,000 workers just weeks before christmas. &gt; this needs to go fa...</td>\n",
              "      <td>Kirsten Gillibrand</td>\n",
              "      <td>Congress_Democratic</td>\n",
              "      <td>0.859049</td>\n",
              "      <td>M</td>\n",
              "    </tr>\n",
              "    <tr>\n",
              "      <th>1259523</th>\n",
              "      <td>7583337</td>\n",
              "      <td>54387439</td>\n",
              "      <td>M</td>\n",
              "      <td>291233</td>\n",
              "      <td>Craig</td>\n",
              "      <td>we need you in massachusetts ryan.</td>\n",
              "      <td>Ryan Zinke</td>\n",
              "      <td>Congress_Republican</td>\n",
              "      <td>0.434950</td>\n",
              "      <td>W</td>\n",
              "    </tr>\n",
              "    <tr>\n",
              "      <th>1912508</th>\n",
              "      <td>10961900</td>\n",
              "      <td>86569077</td>\n",
              "      <td>W</td>\n",
              "      <td>389338</td>\n",
              "      <td>Elizabeth</td>\n",
              "      <td>thank you, sen. gillibrand!</td>\n",
              "      <td>Kirsten Gillibrand</td>\n",
              "      <td>Congress_Democratic</td>\n",
              "      <td>0.774128</td>\n",
              "      <td>M</td>\n",
              "    </tr>\n",
              "    <tr>\n",
              "      <th>1987322</th>\n",
              "      <td>11036714</td>\n",
              "      <td>86569077</td>\n",
              "      <td>W</td>\n",
              "      <td>389924</td>\n",
              "      <td>Greg</td>\n",
              "      <td>the tea party stands for fiscal responsibility, constitutionally limited government, and free ma...</td>\n",
              "      <td>Kirsten Gillibrand</td>\n",
              "      <td>Congress_Democratic</td>\n",
              "      <td>0.716389</td>\n",
              "      <td>M</td>\n",
              "    </tr>\n",
              "    <tr>\n",
              "      <th>2191885</th>\n",
              "      <td>11752862</td>\n",
              "      <td>74450840</td>\n",
              "      <td>W</td>\n",
              "      <td>422872</td>\n",
              "      <td>Sabrina</td>\n",
              "      <td>we all have freedom of speech or expression thanks to those who serve our great country</td>\n",
              "      <td>Terri Sewell</td>\n",
              "      <td>Congress_Democratic</td>\n",
              "      <td>0.812611</td>\n",
              "      <td>M</td>\n",
              "    </tr>\n",
              "    <tr>\n",
              "      <th>2103328</th>\n",
              "      <td>11244308</td>\n",
              "      <td>77234050</td>\n",
              "      <td>W</td>\n",
              "      <td>399374</td>\n",
              "      <td>Debra</td>\n",
              "      <td>how much of this oil is going to fill our american tanks??? how much is our prices going to be a...</td>\n",
              "      <td>Cathy McMorris Rodgers</td>\n",
              "      <td>Congress_Republican</td>\n",
              "      <td>0.818240</td>\n",
              "      <td>M</td>\n",
              "    </tr>\n",
              "    <tr>\n",
              "      <th>1437960</th>\n",
              "      <td>7856254</td>\n",
              "      <td>99469231</td>\n",
              "      <td>M</td>\n",
              "      <td>296338</td>\n",
              "      <td>Buck</td>\n",
              "      <td>hey senator, hillary called - she wants her purse back.</td>\n",
              "      <td>John McCain</td>\n",
              "      <td>Congress_Republican</td>\n",
              "      <td>0.339189</td>\n",
              "      <td>W</td>\n",
              "    </tr>\n",
              "    <tr>\n",
              "      <th>2013103</th>\n",
              "      <td>11062495</td>\n",
              "      <td>86569077</td>\n",
              "      <td>W</td>\n",
              "      <td>390125</td>\n",
              "      <td>Shelli</td>\n",
              "      <td>bill, let us try some decent gun control and just see what happens, shall we? why would any resp...</td>\n",
              "      <td>Kirsten Gillibrand</td>\n",
              "      <td>Congress_Democratic</td>\n",
              "      <td>0.750539</td>\n",
              "      <td>M</td>\n",
              "    </tr>\n",
              "    <tr>\n",
              "      <th>1056910</th>\n",
              "      <td>5305964</td>\n",
              "      <td>46506154</td>\n",
              "      <td>M</td>\n",
              "      <td>161416</td>\n",
              "      <td>Karen</td>\n",
              "      <td>god bless amanda!</td>\n",
              "      <td>Marco Rubio</td>\n",
              "      <td>Congress_Republican</td>\n",
              "      <td>0.457312</td>\n",
              "      <td>W</td>\n",
              "    </tr>\n",
              "  </tbody>\n",
              "</table>\n",
              "</div>"
            ],
            "text/plain": [
              "         original_idx     op_id op_gender  ...          op_category     probs preds\n",
              "2060436      11200190  48870736         W  ...  Congress_Democratic  0.675959     M\n",
              "1983886      11033278  86569077         W  ...  Congress_Democratic  0.765178     M\n",
              "2022583      11071975  86569077         W  ...  Congress_Democratic  0.835932     M\n",
              "1070992       5320046  46506154         M  ...  Congress_Republican  0.355588     W\n",
              "2037193      11086585  86569077         W  ...  Congress_Democratic  0.776184     M\n",
              "2037981      11087373  86569077         W  ...  Congress_Democratic  0.706386     M\n",
              "435979        3580654  84716153         M  ...  Congress_Republican  0.420744     W\n",
              "2113460      11254440  77234050         W  ...  Congress_Republican  0.741432     M\n",
              "2153417      11294397  77234050         W  ...  Congress_Republican  0.764212     M\n",
              "2124542      11265522  77234050         W  ...  Congress_Republican  0.753206     M\n",
              "432281        3365516  76269753         W  ...  Congress_Democratic  0.940891     M\n",
              "2017558      11066950  86569077         W  ...  Congress_Democratic  0.859049     M\n",
              "1259523       7583337  54387439         M  ...  Congress_Republican  0.434950     W\n",
              "1912508      10961900  86569077         W  ...  Congress_Democratic  0.774128     M\n",
              "1987322      11036714  86569077         W  ...  Congress_Democratic  0.716389     M\n",
              "2191885      11752862  74450840         W  ...  Congress_Democratic  0.812611     M\n",
              "2103328      11244308  77234050         W  ...  Congress_Republican  0.818240     M\n",
              "1437960       7856254  99469231         M  ...  Congress_Republican  0.339189     W\n",
              "2013103      11062495  86569077         W  ...  Congress_Democratic  0.750539     M\n",
              "1056910       5305964  46506154         M  ...  Congress_Republican  0.457312     W\n",
              "\n",
              "[20 rows x 10 columns]"
            ]
          },
          "metadata": {
            "tags": []
          },
          "execution_count": 56
        }
      ]
    },
    {
      "cell_type": "code",
      "metadata": {
        "id": "qaswseIjHc8j",
        "colab_type": "code",
        "outputId": "72864761-c001-4624-f7a7-430a52347c50",
        "colab": {
          "base_uri": "https://localhost:8080/",
          "height": 824
        }
      },
      "source": [
        "# most confident wrong predictions where the answer was F but they thought M\n",
        "# same as before - references to a male politician \n",
        "wrong_preds.sort_values('probs', ascending=False)[:20]"
      ],
      "execution_count": 57,
      "outputs": [
        {
          "output_type": "execute_result",
          "data": {
            "text/html": [
              "<div>\n",
              "<style scoped>\n",
              "    .dataframe tbody tr th:only-of-type {\n",
              "        vertical-align: middle;\n",
              "    }\n",
              "\n",
              "    .dataframe tbody tr th {\n",
              "        vertical-align: top;\n",
              "    }\n",
              "\n",
              "    .dataframe thead th {\n",
              "        text-align: right;\n",
              "    }\n",
              "</style>\n",
              "<table border=\"1\" class=\"dataframe\">\n",
              "  <thead>\n",
              "    <tr style=\"text-align: right;\">\n",
              "      <th></th>\n",
              "      <th>original_idx</th>\n",
              "      <th>op_id</th>\n",
              "      <th>op_gender</th>\n",
              "      <th>post_id</th>\n",
              "      <th>responder_id</th>\n",
              "      <th>response_text</th>\n",
              "      <th>op_name</th>\n",
              "      <th>op_category</th>\n",
              "      <th>probs</th>\n",
              "      <th>preds</th>\n",
              "    </tr>\n",
              "  </thead>\n",
              "  <tbody>\n",
              "    <tr>\n",
              "      <th>1969635</th>\n",
              "      <td>11019027</td>\n",
              "      <td>86569077</td>\n",
              "      <td>W</td>\n",
              "      <td>389744</td>\n",
              "      <td>Joy</td>\n",
              "      <td>grouped by vote position ***********************yeas ---79**** politname (r-tn) ayotte (r-nh) ba...</td>\n",
              "      <td>Kirsten Gillibrand</td>\n",
              "      <td>Congress_Democratic</td>\n",
              "      <td>0.999924</td>\n",
              "      <td>M</td>\n",
              "    </tr>\n",
              "    <tr>\n",
              "      <th>2160154</th>\n",
              "      <td>11301134</td>\n",
              "      <td>77234050</td>\n",
              "      <td>W</td>\n",
              "      <td>400749</td>\n",
              "      <td>Becca</td>\n",
              "      <td>i am very proud to personally know justin. he really is an inspiration for all of us. great job ...</td>\n",
              "      <td>Cathy McMorris Rodgers</td>\n",
              "      <td>Congress_Republican</td>\n",
              "      <td>0.999856</td>\n",
              "      <td>M</td>\n",
              "    </tr>\n",
              "    <tr>\n",
              "      <th>2043255</th>\n",
              "      <td>11092647</td>\n",
              "      <td>86569077</td>\n",
              "      <td>W</td>\n",
              "      <td>390557</td>\n",
              "      <td>Ernest</td>\n",
              "      <td>@craig ramage - just because some republican judge calls it inconstitutional it doesnt mean it i...</td>\n",
              "      <td>Kirsten Gillibrand</td>\n",
              "      <td>Congress_Democratic</td>\n",
              "      <td>0.999842</td>\n",
              "      <td>M</td>\n",
              "    </tr>\n",
              "    <tr>\n",
              "      <th>2004138</th>\n",
              "      <td>11053530</td>\n",
              "      <td>86569077</td>\n",
              "      <td>W</td>\n",
              "      <td>390074</td>\n",
              "      <td>Jacquie</td>\n",
              "      <td>why are you not standing with politname rand? you are a disgrace to we the people!!!! and our go...</td>\n",
              "      <td>Kirsten Gillibrand</td>\n",
              "      <td>Congress_Democratic</td>\n",
              "      <td>0.999784</td>\n",
              "      <td>M</td>\n",
              "    </tr>\n",
              "    <tr>\n",
              "      <th>2137167</th>\n",
              "      <td>11278147</td>\n",
              "      <td>77234050</td>\n",
              "      <td>W</td>\n",
              "      <td>399900</td>\n",
              "      <td>Nathan</td>\n",
              "      <td>what, no trite youtube video or quote from a hack libertarian adjunct professor to make that point?</td>\n",
              "      <td>Cathy McMorris Rodgers</td>\n",
              "      <td>Congress_Republican</td>\n",
              "      <td>0.999768</td>\n",
              "      <td>M</td>\n",
              "    </tr>\n",
              "    <tr>\n",
              "      <th>2084297</th>\n",
              "      <td>11225277</td>\n",
              "      <td>77234050</td>\n",
              "      <td>W</td>\n",
              "      <td>399246</td>\n",
              "      <td>Elizabeth</td>\n",
              "      <td>happy father's day brian. you are truly a remarkable man that we are honored to know.</td>\n",
              "      <td>Cathy McMorris Rodgers</td>\n",
              "      <td>Congress_Republican</td>\n",
              "      <td>0.999758</td>\n",
              "      <td>M</td>\n",
              "    </tr>\n",
              "    <tr>\n",
              "      <th>1981665</th>\n",
              "      <td>11031057</td>\n",
              "      <td>86569077</td>\n",
              "      <td>W</td>\n",
              "      <td>389861</td>\n",
              "      <td>Joan</td>\n",
              "      <td>thank u senator gillibrand...please dont forget us sandy people too....i believe your sincere......</td>\n",
              "      <td>Kirsten Gillibrand</td>\n",
              "      <td>Congress_Democratic</td>\n",
              "      <td>0.999749</td>\n",
              "      <td>M</td>\n",
              "    </tr>\n",
              "    <tr>\n",
              "      <th>2062949</th>\n",
              "      <td>11202703</td>\n",
              "      <td>48870736</td>\n",
              "      <td>W</td>\n",
              "      <td>394711</td>\n",
              "      <td>Peggy</td>\n",
              "      <td>thank you, rep. mccollum! hope rep. politname is there too.</td>\n",
              "      <td>Betty McCollum</td>\n",
              "      <td>Congress_Democratic</td>\n",
              "      <td>0.999711</td>\n",
              "      <td>M</td>\n",
              "    </tr>\n",
              "    <tr>\n",
              "      <th>1847548</th>\n",
              "      <td>10880476</td>\n",
              "      <td>77721801</td>\n",
              "      <td>W</td>\n",
              "      <td>385416</td>\n",
              "      <td>TJ</td>\n",
              "      <td>when my congresswoman who i do not always agree with joins my favorite congressmen (justin amash...</td>\n",
              "      <td>Anna Eshoo</td>\n",
              "      <td>Congress_Democratic</td>\n",
              "      <td>0.999707</td>\n",
              "      <td>M</td>\n",
              "    </tr>\n",
              "    <tr>\n",
              "      <th>374906</th>\n",
              "      <td>3124997</td>\n",
              "      <td>23984618</td>\n",
              "      <td>W</td>\n",
              "      <td>82855</td>\n",
              "      <td>Laura</td>\n",
              "      <td>when is your next town hall? looking forward to it. http://nymag.com/daily/intelligencer/2017/02...</td>\n",
              "      <td>Ann Wagner</td>\n",
              "      <td>Congress_Republican</td>\n",
              "      <td>0.999689</td>\n",
              "      <td>M</td>\n",
              "    </tr>\n",
              "    <tr>\n",
              "      <th>1927236</th>\n",
              "      <td>10976628</td>\n",
              "      <td>86569077</td>\n",
              "      <td>W</td>\n",
              "      <td>389345</td>\n",
              "      <td>Brian</td>\n",
              "      <td>secretary julián castro or kirsten gillibrand 2020</td>\n",
              "      <td>Kirsten Gillibrand</td>\n",
              "      <td>Congress_Democratic</td>\n",
              "      <td>0.999634</td>\n",
              "      <td>M</td>\n",
              "    </tr>\n",
              "    <tr>\n",
              "      <th>1155569</th>\n",
              "      <td>6087343</td>\n",
              "      <td>19189340</td>\n",
              "      <td>W</td>\n",
              "      <td>208352</td>\n",
              "      <td>Crystal</td>\n",
              "      <td>awesome! illinois is proud of you robin! stay strong and stand up for all of us by sitting down!</td>\n",
              "      <td>Robin Kelly</td>\n",
              "      <td>Congress_Democratic</td>\n",
              "      <td>0.999631</td>\n",
              "      <td>M</td>\n",
              "    </tr>\n",
              "    <tr>\n",
              "      <th>1984780</th>\n",
              "      <td>11034172</td>\n",
              "      <td>86569077</td>\n",
              "      <td>W</td>\n",
              "      <td>389891</td>\n",
              "      <td>Kathy</td>\n",
              "      <td>hang in there, sen. kirsten gillibrand! you are fighting the good fight!!</td>\n",
              "      <td>Kirsten Gillibrand</td>\n",
              "      <td>Congress_Democratic</td>\n",
              "      <td>0.999621</td>\n",
              "      <td>M</td>\n",
              "    </tr>\n",
              "    <tr>\n",
              "      <th>2032565</th>\n",
              "      <td>11081957</td>\n",
              "      <td>86569077</td>\n",
              "      <td>W</td>\n",
              "      <td>390399</td>\n",
              "      <td>Kathy</td>\n",
              "      <td>wish i was in that district. good luck mr. weprin.</td>\n",
              "      <td>Kirsten Gillibrand</td>\n",
              "      <td>Congress_Democratic</td>\n",
              "      <td>0.999612</td>\n",
              "      <td>M</td>\n",
              "    </tr>\n",
              "    <tr>\n",
              "      <th>1918233</th>\n",
              "      <td>10967625</td>\n",
              "      <td>86569077</td>\n",
              "      <td>W</td>\n",
              "      <td>389341</td>\n",
              "      <td>Jonathan</td>\n",
              "      <td>thank you, senator gillibrand- new york loves you!</td>\n",
              "      <td>Kirsten Gillibrand</td>\n",
              "      <td>Congress_Democratic</td>\n",
              "      <td>0.999582</td>\n",
              "      <td>M</td>\n",
              "    </tr>\n",
              "    <tr>\n",
              "      <th>2046105</th>\n",
              "      <td>11095497</td>\n",
              "      <td>86569077</td>\n",
              "      <td>W</td>\n",
              "      <td>390599</td>\n",
              "      <td>John</td>\n",
              "      <td>mr. kelleher, for the politname of god, stop!</td>\n",
              "      <td>Kirsten Gillibrand</td>\n",
              "      <td>Congress_Democratic</td>\n",
              "      <td>0.999570</td>\n",
              "      <td>M</td>\n",
              "    </tr>\n",
              "    <tr>\n",
              "      <th>2104495</th>\n",
              "      <td>11245475</td>\n",
              "      <td>77234050</td>\n",
              "      <td>W</td>\n",
              "      <td>399389</td>\n",
              "      <td>Kristin</td>\n",
              "      <td>thousands of your voters will be watching who you vote for speaker of the house on january 6th. ...</td>\n",
              "      <td>Cathy McMorris Rodgers</td>\n",
              "      <td>Congress_Republican</td>\n",
              "      <td>0.999552</td>\n",
              "      <td>M</td>\n",
              "    </tr>\n",
              "    <tr>\n",
              "      <th>1931460</th>\n",
              "      <td>10980852</td>\n",
              "      <td>86569077</td>\n",
              "      <td>W</td>\n",
              "      <td>389362</td>\n",
              "      <td>Lydia</td>\n",
              "      <td>thank you sen. kirsten gillibrand for continuing to stand up for your tenacity!</td>\n",
              "      <td>Kirsten Gillibrand</td>\n",
              "      <td>Congress_Democratic</td>\n",
              "      <td>0.999544</td>\n",
              "      <td>M</td>\n",
              "    </tr>\n",
              "    <tr>\n",
              "      <th>1914328</th>\n",
              "      <td>10963720</td>\n",
              "      <td>86569077</td>\n",
              "      <td>W</td>\n",
              "      <td>389340</td>\n",
              "      <td>Vicky</td>\n",
              "      <td>thank you kirsten gillibrand for voting \"no\"!</td>\n",
              "      <td>Kirsten Gillibrand</td>\n",
              "      <td>Congress_Democratic</td>\n",
              "      <td>0.999533</td>\n",
              "      <td>M</td>\n",
              "    </tr>\n",
              "    <tr>\n",
              "      <th>1931427</th>\n",
              "      <td>10980819</td>\n",
              "      <td>86569077</td>\n",
              "      <td>W</td>\n",
              "      <td>389362</td>\n",
              "      <td>Gabriele</td>\n",
              "      <td>thank you senator gillibrand -- your every effort gratefully appreciated !</td>\n",
              "      <td>Kirsten Gillibrand</td>\n",
              "      <td>Congress_Democratic</td>\n",
              "      <td>0.999521</td>\n",
              "      <td>M</td>\n",
              "    </tr>\n",
              "  </tbody>\n",
              "</table>\n",
              "</div>"
            ],
            "text/plain": [
              "         original_idx     op_id op_gender  ...          op_category     probs preds\n",
              "1969635      11019027  86569077         W  ...  Congress_Democratic  0.999924     M\n",
              "2160154      11301134  77234050         W  ...  Congress_Republican  0.999856     M\n",
              "2043255      11092647  86569077         W  ...  Congress_Democratic  0.999842     M\n",
              "2004138      11053530  86569077         W  ...  Congress_Democratic  0.999784     M\n",
              "2137167      11278147  77234050         W  ...  Congress_Republican  0.999768     M\n",
              "2084297      11225277  77234050         W  ...  Congress_Republican  0.999758     M\n",
              "1981665      11031057  86569077         W  ...  Congress_Democratic  0.999749     M\n",
              "2062949      11202703  48870736         W  ...  Congress_Democratic  0.999711     M\n",
              "1847548      10880476  77721801         W  ...  Congress_Democratic  0.999707     M\n",
              "374906        3124997  23984618         W  ...  Congress_Republican  0.999689     M\n",
              "1927236      10976628  86569077         W  ...  Congress_Democratic  0.999634     M\n",
              "1155569       6087343  19189340         W  ...  Congress_Democratic  0.999631     M\n",
              "1984780      11034172  86569077         W  ...  Congress_Democratic  0.999621     M\n",
              "2032565      11081957  86569077         W  ...  Congress_Democratic  0.999612     M\n",
              "1918233      10967625  86569077         W  ...  Congress_Democratic  0.999582     M\n",
              "2046105      11095497  86569077         W  ...  Congress_Democratic  0.999570     M\n",
              "2104495      11245475  77234050         W  ...  Congress_Republican  0.999552     M\n",
              "1931460      10980852  86569077         W  ...  Congress_Democratic  0.999544     M\n",
              "1914328      10963720  86569077         W  ...  Congress_Democratic  0.999533     M\n",
              "1931427      10980819  86569077         W  ...  Congress_Democratic  0.999521     M\n",
              "\n",
              "[20 rows x 10 columns]"
            ]
          },
          "metadata": {
            "tags": []
          },
          "execution_count": 57
        }
      ]
    },
    {
      "cell_type": "code",
      "metadata": {
        "id": "KoJzrEOfIct2",
        "colab_type": "code",
        "outputId": "c6a5551e-268c-43ee-da07-c1bf0873cfa3",
        "colab": {
          "base_uri": "https://localhost:8080/",
          "height": 807
        }
      },
      "source": [
        "# most confident wrong predictions where the answer was F but they thought M\n",
        "# same as before - references to a male politician \n",
        "wrong_preds.sort_values('probs', ascending=True)[:20]"
      ],
      "execution_count": 58,
      "outputs": [
        {
          "output_type": "execute_result",
          "data": {
            "text/html": [
              "<div>\n",
              "<style scoped>\n",
              "    .dataframe tbody tr th:only-of-type {\n",
              "        vertical-align: middle;\n",
              "    }\n",
              "\n",
              "    .dataframe tbody tr th {\n",
              "        vertical-align: top;\n",
              "    }\n",
              "\n",
              "    .dataframe thead th {\n",
              "        text-align: right;\n",
              "    }\n",
              "</style>\n",
              "<table border=\"1\" class=\"dataframe\">\n",
              "  <thead>\n",
              "    <tr style=\"text-align: right;\">\n",
              "      <th></th>\n",
              "      <th>original_idx</th>\n",
              "      <th>op_id</th>\n",
              "      <th>op_gender</th>\n",
              "      <th>post_id</th>\n",
              "      <th>responder_id</th>\n",
              "      <th>response_text</th>\n",
              "      <th>op_name</th>\n",
              "      <th>op_category</th>\n",
              "      <th>probs</th>\n",
              "      <th>preds</th>\n",
              "    </tr>\n",
              "  </thead>\n",
              "  <tbody>\n",
              "    <tr>\n",
              "      <th>893958</th>\n",
              "      <td>5143012</td>\n",
              "      <td>46506154</td>\n",
              "      <td>M</td>\n",
              "      <td>161049</td>\n",
              "      <td>Katy</td>\n",
              "      <td>i do hope she beats braley. iowa deserves better than a man who looks down upon their amazing fa...</td>\n",
              "      <td>Marco Rubio</td>\n",
              "      <td>Congress_Republican</td>\n",
              "      <td>0.000000e+00</td>\n",
              "      <td>W</td>\n",
              "    </tr>\n",
              "    <tr>\n",
              "      <th>887579</th>\n",
              "      <td>5136633</td>\n",
              "      <td>46506154</td>\n",
              "      <td>M</td>\n",
              "      <td>160986</td>\n",
              "      <td>Charlotte</td>\n",
              "      <td>i pray politname wins!!!! go joni!!</td>\n",
              "      <td>Marco Rubio</td>\n",
              "      <td>Congress_Republican</td>\n",
              "      <td>5.066395e-07</td>\n",
              "      <td>W</td>\n",
              "    </tr>\n",
              "    <tr>\n",
              "      <th>991634</th>\n",
              "      <td>5240688</td>\n",
              "      <td>46506154</td>\n",
              "      <td>M</td>\n",
              "      <td>161317</td>\n",
              "      <td>Laura</td>\n",
              "      <td>keep the faith ms. ayotte, you are good for new hampshire and our country !! you have more suppo...</td>\n",
              "      <td>Marco Rubio</td>\n",
              "      <td>Congress_Republican</td>\n",
              "      <td>2.592802e-06</td>\n",
              "      <td>W</td>\n",
              "    </tr>\n",
              "    <tr>\n",
              "      <th>887546</th>\n",
              "      <td>5136600</td>\n",
              "      <td>46506154</td>\n",
              "      <td>M</td>\n",
              "      <td>160986</td>\n",
              "      <td>Kim</td>\n",
              "      <td>good luck joni...................jan</td>\n",
              "      <td>Marco Rubio</td>\n",
              "      <td>Congress_Republican</td>\n",
              "      <td>7.987022e-06</td>\n",
              "      <td>W</td>\n",
              "    </tr>\n",
              "    <tr>\n",
              "      <th>982679</th>\n",
              "      <td>5231733</td>\n",
              "      <td>46506154</td>\n",
              "      <td>M</td>\n",
              "      <td>161307</td>\n",
              "      <td>Dianna</td>\n",
              "      <td>first we get the senate back! the first 20 people are up for re-election in 2014.....let us make...</td>\n",
              "      <td>Marco Rubio</td>\n",
              "      <td>Congress_Republican</td>\n",
              "      <td>9.298325e-06</td>\n",
              "      <td>W</td>\n",
              "    </tr>\n",
              "    <tr>\n",
              "      <th>1855248</th>\n",
              "      <td>10888176</td>\n",
              "      <td>10458808</td>\n",
              "      <td>M</td>\n",
              "      <td>385767</td>\n",
              "      <td>Karen</td>\n",
              "      <td>thank you representative esty, for fighting this fight for years!</td>\n",
              "      <td>Mark Takano</td>\n",
              "      <td>Congress_Democratic</td>\n",
              "      <td>1.159310e-05</td>\n",
              "      <td>W</td>\n",
              "    </tr>\n",
              "    <tr>\n",
              "      <th>1600488</th>\n",
              "      <td>10048358</td>\n",
              "      <td>49028900</td>\n",
              "      <td>M</td>\n",
              "      <td>365868</td>\n",
              "      <td>Douglas</td>\n",
              "      <td>not like the amusement of bailey i mean braley</td>\n",
              "      <td>Steve King</td>\n",
              "      <td>Congress_Republican</td>\n",
              "      <td>1.379848e-05</td>\n",
              "      <td>W</td>\n",
              "    </tr>\n",
              "    <tr>\n",
              "      <th>339734</th>\n",
              "      <td>2604269</td>\n",
              "      <td>59227815</td>\n",
              "      <td>M</td>\n",
              "      <td>63482</td>\n",
              "      <td>Bill</td>\n",
              "      <td>politname politname , why are not you in nh backing ayotte?</td>\n",
              "      <td>Paul Ryan</td>\n",
              "      <td>Congress_Republican</td>\n",
              "      <td>2.172589e-05</td>\n",
              "      <td>W</td>\n",
              "    </tr>\n",
              "    <tr>\n",
              "      <th>912499</th>\n",
              "      <td>5161553</td>\n",
              "      <td>46506154</td>\n",
              "      <td>M</td>\n",
              "      <td>161121</td>\n",
              "      <td>Don</td>\n",
              "      <td>go get'em joni!</td>\n",
              "      <td>Marco Rubio</td>\n",
              "      <td>Congress_Republican</td>\n",
              "      <td>2.485514e-05</td>\n",
              "      <td>W</td>\n",
              "    </tr>\n",
              "    <tr>\n",
              "      <th>1606558</th>\n",
              "      <td>10054428</td>\n",
              "      <td>49028900</td>\n",
              "      <td>M</td>\n",
              "      <td>365986</td>\n",
              "      <td>Douglas</td>\n",
              "      <td>really, obama wants to have free community college. like we are not in 17 trillions dollars in d...</td>\n",
              "      <td>Steve King</td>\n",
              "      <td>Congress_Republican</td>\n",
              "      <td>3.057718e-05</td>\n",
              "      <td>W</td>\n",
              "    </tr>\n",
              "    <tr>\n",
              "      <th>364569</th>\n",
              "      <td>2637192</td>\n",
              "      <td>95564118</td>\n",
              "      <td>M</td>\n",
              "      <td>68244</td>\n",
              "      <td>John</td>\n",
              "      <td>three great people 2 democrats and 1 republican but they all get it, thanks governor baker for s...</td>\n",
              "      <td>Stephen F. Lynch</td>\n",
              "      <td>Congress_Democratic</td>\n",
              "      <td>3.188848e-05</td>\n",
              "      <td>W</td>\n",
              "    </tr>\n",
              "    <tr>\n",
              "      <th>181521</th>\n",
              "      <td>2358273</td>\n",
              "      <td>62246450</td>\n",
              "      <td>M</td>\n",
              "      <td>52502</td>\n",
              "      <td>Annie</td>\n",
              "      <td>keep going elizabeth! we support you!</td>\n",
              "      <td>Ron Wyden</td>\n",
              "      <td>Congress_Democratic</td>\n",
              "      <td>4.178286e-05</td>\n",
              "      <td>W</td>\n",
              "    </tr>\n",
              "    <tr>\n",
              "      <th>493471</th>\n",
              "      <td>4075670</td>\n",
              "      <td>77914417</td>\n",
              "      <td>M</td>\n",
              "      <td>141657</td>\n",
              "      <td>Congressman</td>\n",
              "      <td>staff: ms. diana montes-walker, congressman garamendi supports comprehensive immigration reform....</td>\n",
              "      <td>John Garamendi</td>\n",
              "      <td>Congress_Democratic</td>\n",
              "      <td>4.455447e-05</td>\n",
              "      <td>W</td>\n",
              "    </tr>\n",
              "    <tr>\n",
              "      <th>986684</th>\n",
              "      <td>5235738</td>\n",
              "      <td>46506154</td>\n",
              "      <td>M</td>\n",
              "      <td>161309</td>\n",
              "      <td>Rita</td>\n",
              "      <td>you go politname politname marsha, pure knowledge!!</td>\n",
              "      <td>Marco Rubio</td>\n",
              "      <td>Congress_Republican</td>\n",
              "      <td>4.497170e-05</td>\n",
              "      <td>W</td>\n",
              "    </tr>\n",
              "    <tr>\n",
              "      <th>2252355</th>\n",
              "      <td>13071222</td>\n",
              "      <td>33944100</td>\n",
              "      <td>M</td>\n",
              "      <td>481577</td>\n",
              "      <td>Lisa</td>\n",
              "      <td>we would have liked to of heard your questions for hillary robert, we wish you could have been o...</td>\n",
              "      <td>Robert Aderholt</td>\n",
              "      <td>Congress_Republican</td>\n",
              "      <td>4.714727e-05</td>\n",
              "      <td>W</td>\n",
              "    </tr>\n",
              "    <tr>\n",
              "      <th>1134002</th>\n",
              "      <td>5383056</td>\n",
              "      <td>46506154</td>\n",
              "      <td>M</td>\n",
              "      <td>162195</td>\n",
              "      <td>Patrick</td>\n",
              "      <td>here is your link lisa. go rubio! =) http://www.ustream.tv/recorded/4817992</td>\n",
              "      <td>Marco Rubio</td>\n",
              "      <td>Congress_Republican</td>\n",
              "      <td>4.726648e-05</td>\n",
              "      <td>W</td>\n",
              "    </tr>\n",
              "    <tr>\n",
              "      <th>901402</th>\n",
              "      <td>5150456</td>\n",
              "      <td>46506154</td>\n",
              "      <td>M</td>\n",
              "      <td>161080</td>\n",
              "      <td>Robyn</td>\n",
              "      <td>shame on you politname murray. you will never get my vote again!</td>\n",
              "      <td>Marco Rubio</td>\n",
              "      <td>Congress_Republican</td>\n",
              "      <td>5.176663e-05</td>\n",
              "      <td>W</td>\n",
              "    </tr>\n",
              "    <tr>\n",
              "      <th>1673497</th>\n",
              "      <td>10176012</td>\n",
              "      <td>76267383</td>\n",
              "      <td>M</td>\n",
              "      <td>374604</td>\n",
              "      <td>Gene</td>\n",
              "      <td>colleen, actually look up how much natural gas the us exports to china and get back to all of us...</td>\n",
              "      <td>Keith Rothfus</td>\n",
              "      <td>Congress_Republican</td>\n",
              "      <td>5.275011e-05</td>\n",
              "      <td>W</td>\n",
              "    </tr>\n",
              "    <tr>\n",
              "      <th>908534</th>\n",
              "      <td>5157588</td>\n",
              "      <td>46506154</td>\n",
              "      <td>M</td>\n",
              "      <td>161118</td>\n",
              "      <td>Marina</td>\n",
              "      <td>too bad she has going to lose to the democrat! rep. politname braley!</td>\n",
              "      <td>Marco Rubio</td>\n",
              "      <td>Congress_Republican</td>\n",
              "      <td>5.474687e-05</td>\n",
              "      <td>W</td>\n",
              "    </tr>\n",
              "    <tr>\n",
              "      <th>1527811</th>\n",
              "      <td>7946105</td>\n",
              "      <td>99469231</td>\n",
              "      <td>M</td>\n",
              "      <td>296403</td>\n",
              "      <td>Sue</td>\n",
              "      <td>I have been there, right paula manser? portsmouth, nh? lovely town, very cold in the winter;)</td>\n",
              "      <td>John McCain</td>\n",
              "      <td>Congress_Republican</td>\n",
              "      <td>6.881356e-05</td>\n",
              "      <td>W</td>\n",
              "    </tr>\n",
              "  </tbody>\n",
              "</table>\n",
              "</div>"
            ],
            "text/plain": [
              "         original_idx     op_id  ...         probs  preds\n",
              "893958        5143012  46506154  ...  0.000000e+00      W\n",
              "887579        5136633  46506154  ...  5.066395e-07      W\n",
              "991634        5240688  46506154  ...  2.592802e-06      W\n",
              "887546        5136600  46506154  ...  7.987022e-06      W\n",
              "982679        5231733  46506154  ...  9.298325e-06      W\n",
              "1855248      10888176  10458808  ...  1.159310e-05      W\n",
              "1600488      10048358  49028900  ...  1.379848e-05      W\n",
              "339734        2604269  59227815  ...  2.172589e-05      W\n",
              "912499        5161553  46506154  ...  2.485514e-05      W\n",
              "1606558      10054428  49028900  ...  3.057718e-05      W\n",
              "364569        2637192  95564118  ...  3.188848e-05      W\n",
              "181521        2358273  62246450  ...  4.178286e-05      W\n",
              "493471        4075670  77914417  ...  4.455447e-05      W\n",
              "986684        5235738  46506154  ...  4.497170e-05      W\n",
              "2252355      13071222  33944100  ...  4.714727e-05      W\n",
              "1134002       5383056  46506154  ...  4.726648e-05      W\n",
              "901402        5150456  46506154  ...  5.176663e-05      W\n",
              "1673497      10176012  76267383  ...  5.275011e-05      W\n",
              "908534        5157588  46506154  ...  5.474687e-05      W\n",
              "1527811       7946105  99469231  ...  6.881356e-05      W\n",
              "\n",
              "[20 rows x 10 columns]"
            ]
          },
          "metadata": {
            "tags": []
          },
          "execution_count": 58
        }
      ]
    }
  ]
}